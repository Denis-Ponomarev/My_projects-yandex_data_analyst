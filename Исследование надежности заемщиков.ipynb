{
 "cells": [
  {
   "cell_type": "markdown",
   "id": "386f2ae7",
   "metadata": {
    "deletable": false,
    "editable": false,
    "id": "386f2ae7"
   },
   "source": [
    "# Исследование надежности заемщиков\n"
   ]
  },
  {
   "cell_type": "markdown",
   "id": "ffe86f65",
   "metadata": {
    "deletable": false,
    "editable": false,
    "id": "ffe86f65"
   },
   "source": [
    "Во второй части проекта вы выполните шаги 3 и 4. Их вручную проверит ревьюер.\n",
    "Чтобы вам не пришлось писать код заново для шагов 1 и 2, мы добавили авторские решения в ячейки с кодом. \n",
    "\n"
   ]
  },
  {
   "cell_type": "markdown",
   "id": "26613308",
   "metadata": {
    "deletable": false,
    "editable": false,
    "id": "26613308"
   },
   "source": [
    "## Откройте таблицу и изучите общую информацию о данных"
   ]
  },
  {
   "cell_type": "markdown",
   "id": "3c9f838e",
   "metadata": {
    "deletable": false,
    "editable": false,
    "id": "3c9f838e"
   },
   "source": [
    "**Задание 1. Импортируйте библиотеку pandas. Считайте данные из csv-файла в датафрейм и сохраните в переменную `data`. Путь к файлу:**\n",
    "\n",
    "`/datasets/data.csv`"
   ]
  },
  {
   "cell_type": "code",
   "execution_count": 3,
   "id": "77a68a90",
   "metadata": {
    "deletable": false,
    "id": "77a68a90"
   },
   "outputs": [],
   "source": [
    "import pandas as pd\n",
    "\n",
    "try:\n",
    "    data = pd.read_csv('/datasets/data.csv')\n",
    "except:\n",
    "    data = pd.read_csv('https://code.s3.yandex.net/datasets/data.csv')"
   ]
  },
  {
   "cell_type": "markdown",
   "id": "45365635",
   "metadata": {
    "deletable": false,
    "editable": false,
    "id": "45365635"
   },
   "source": [
    "**Задание 2. Выведите первые 20 строчек датафрейма `data` на экран.**"
   ]
  },
  {
   "cell_type": "code",
   "execution_count": 4,
   "id": "b0451a9a",
   "metadata": {
    "deletable": false,
    "id": "b0451a9a",
    "outputId": "1a8f3ef2-d323-4ec2-ddf7-89670b5944c4"
   },
   "outputs": [
    {
     "data": {
      "text/html": [
       "<div>\n",
       "<style scoped>\n",
       "    .dataframe tbody tr th:only-of-type {\n",
       "        vertical-align: middle;\n",
       "    }\n",
       "\n",
       "    .dataframe tbody tr th {\n",
       "        vertical-align: top;\n",
       "    }\n",
       "\n",
       "    .dataframe thead th {\n",
       "        text-align: right;\n",
       "    }\n",
       "</style>\n",
       "<table border=\"1\" class=\"dataframe\">\n",
       "  <thead>\n",
       "    <tr style=\"text-align: right;\">\n",
       "      <th></th>\n",
       "      <th>children</th>\n",
       "      <th>days_employed</th>\n",
       "      <th>dob_years</th>\n",
       "      <th>education</th>\n",
       "      <th>education_id</th>\n",
       "      <th>family_status</th>\n",
       "      <th>family_status_id</th>\n",
       "      <th>gender</th>\n",
       "      <th>income_type</th>\n",
       "      <th>debt</th>\n",
       "      <th>total_income</th>\n",
       "      <th>purpose</th>\n",
       "    </tr>\n",
       "  </thead>\n",
       "  <tbody>\n",
       "    <tr>\n",
       "      <th>0</th>\n",
       "      <td>1</td>\n",
       "      <td>-8437.673028</td>\n",
       "      <td>42</td>\n",
       "      <td>высшее</td>\n",
       "      <td>0</td>\n",
       "      <td>женат / замужем</td>\n",
       "      <td>0</td>\n",
       "      <td>F</td>\n",
       "      <td>сотрудник</td>\n",
       "      <td>0</td>\n",
       "      <td>253875.639453</td>\n",
       "      <td>покупка жилья</td>\n",
       "    </tr>\n",
       "    <tr>\n",
       "      <th>1</th>\n",
       "      <td>1</td>\n",
       "      <td>-4024.803754</td>\n",
       "      <td>36</td>\n",
       "      <td>среднее</td>\n",
       "      <td>1</td>\n",
       "      <td>женат / замужем</td>\n",
       "      <td>0</td>\n",
       "      <td>F</td>\n",
       "      <td>сотрудник</td>\n",
       "      <td>0</td>\n",
       "      <td>112080.014102</td>\n",
       "      <td>приобретение автомобиля</td>\n",
       "    </tr>\n",
       "    <tr>\n",
       "      <th>2</th>\n",
       "      <td>0</td>\n",
       "      <td>-5623.422610</td>\n",
       "      <td>33</td>\n",
       "      <td>Среднее</td>\n",
       "      <td>1</td>\n",
       "      <td>женат / замужем</td>\n",
       "      <td>0</td>\n",
       "      <td>M</td>\n",
       "      <td>сотрудник</td>\n",
       "      <td>0</td>\n",
       "      <td>145885.952297</td>\n",
       "      <td>покупка жилья</td>\n",
       "    </tr>\n",
       "    <tr>\n",
       "      <th>3</th>\n",
       "      <td>3</td>\n",
       "      <td>-4124.747207</td>\n",
       "      <td>32</td>\n",
       "      <td>среднее</td>\n",
       "      <td>1</td>\n",
       "      <td>женат / замужем</td>\n",
       "      <td>0</td>\n",
       "      <td>M</td>\n",
       "      <td>сотрудник</td>\n",
       "      <td>0</td>\n",
       "      <td>267628.550329</td>\n",
       "      <td>дополнительное образование</td>\n",
       "    </tr>\n",
       "    <tr>\n",
       "      <th>4</th>\n",
       "      <td>0</td>\n",
       "      <td>340266.072047</td>\n",
       "      <td>53</td>\n",
       "      <td>среднее</td>\n",
       "      <td>1</td>\n",
       "      <td>гражданский брак</td>\n",
       "      <td>1</td>\n",
       "      <td>F</td>\n",
       "      <td>пенсионер</td>\n",
       "      <td>0</td>\n",
       "      <td>158616.077870</td>\n",
       "      <td>сыграть свадьбу</td>\n",
       "    </tr>\n",
       "    <tr>\n",
       "      <th>5</th>\n",
       "      <td>0</td>\n",
       "      <td>-926.185831</td>\n",
       "      <td>27</td>\n",
       "      <td>высшее</td>\n",
       "      <td>0</td>\n",
       "      <td>гражданский брак</td>\n",
       "      <td>1</td>\n",
       "      <td>M</td>\n",
       "      <td>компаньон</td>\n",
       "      <td>0</td>\n",
       "      <td>255763.565419</td>\n",
       "      <td>покупка жилья</td>\n",
       "    </tr>\n",
       "    <tr>\n",
       "      <th>6</th>\n",
       "      <td>0</td>\n",
       "      <td>-2879.202052</td>\n",
       "      <td>43</td>\n",
       "      <td>высшее</td>\n",
       "      <td>0</td>\n",
       "      <td>женат / замужем</td>\n",
       "      <td>0</td>\n",
       "      <td>F</td>\n",
       "      <td>компаньон</td>\n",
       "      <td>0</td>\n",
       "      <td>240525.971920</td>\n",
       "      <td>операции с жильем</td>\n",
       "    </tr>\n",
       "    <tr>\n",
       "      <th>7</th>\n",
       "      <td>0</td>\n",
       "      <td>-152.779569</td>\n",
       "      <td>50</td>\n",
       "      <td>СРЕДНЕЕ</td>\n",
       "      <td>1</td>\n",
       "      <td>женат / замужем</td>\n",
       "      <td>0</td>\n",
       "      <td>M</td>\n",
       "      <td>сотрудник</td>\n",
       "      <td>0</td>\n",
       "      <td>135823.934197</td>\n",
       "      <td>образование</td>\n",
       "    </tr>\n",
       "    <tr>\n",
       "      <th>8</th>\n",
       "      <td>2</td>\n",
       "      <td>-6929.865299</td>\n",
       "      <td>35</td>\n",
       "      <td>ВЫСШЕЕ</td>\n",
       "      <td>0</td>\n",
       "      <td>гражданский брак</td>\n",
       "      <td>1</td>\n",
       "      <td>F</td>\n",
       "      <td>сотрудник</td>\n",
       "      <td>0</td>\n",
       "      <td>95856.832424</td>\n",
       "      <td>на проведение свадьбы</td>\n",
       "    </tr>\n",
       "    <tr>\n",
       "      <th>9</th>\n",
       "      <td>0</td>\n",
       "      <td>-2188.756445</td>\n",
       "      <td>41</td>\n",
       "      <td>среднее</td>\n",
       "      <td>1</td>\n",
       "      <td>женат / замужем</td>\n",
       "      <td>0</td>\n",
       "      <td>M</td>\n",
       "      <td>сотрудник</td>\n",
       "      <td>0</td>\n",
       "      <td>144425.938277</td>\n",
       "      <td>покупка жилья для семьи</td>\n",
       "    </tr>\n",
       "    <tr>\n",
       "      <th>10</th>\n",
       "      <td>2</td>\n",
       "      <td>-4171.483647</td>\n",
       "      <td>36</td>\n",
       "      <td>высшее</td>\n",
       "      <td>0</td>\n",
       "      <td>женат / замужем</td>\n",
       "      <td>0</td>\n",
       "      <td>M</td>\n",
       "      <td>компаньон</td>\n",
       "      <td>0</td>\n",
       "      <td>113943.491460</td>\n",
       "      <td>покупка недвижимости</td>\n",
       "    </tr>\n",
       "    <tr>\n",
       "      <th>11</th>\n",
       "      <td>0</td>\n",
       "      <td>-792.701887</td>\n",
       "      <td>40</td>\n",
       "      <td>среднее</td>\n",
       "      <td>1</td>\n",
       "      <td>женат / замужем</td>\n",
       "      <td>0</td>\n",
       "      <td>F</td>\n",
       "      <td>сотрудник</td>\n",
       "      <td>0</td>\n",
       "      <td>77069.234271</td>\n",
       "      <td>покупка коммерческой недвижимости</td>\n",
       "    </tr>\n",
       "    <tr>\n",
       "      <th>12</th>\n",
       "      <td>0</td>\n",
       "      <td>NaN</td>\n",
       "      <td>65</td>\n",
       "      <td>среднее</td>\n",
       "      <td>1</td>\n",
       "      <td>гражданский брак</td>\n",
       "      <td>1</td>\n",
       "      <td>M</td>\n",
       "      <td>пенсионер</td>\n",
       "      <td>0</td>\n",
       "      <td>NaN</td>\n",
       "      <td>сыграть свадьбу</td>\n",
       "    </tr>\n",
       "    <tr>\n",
       "      <th>13</th>\n",
       "      <td>0</td>\n",
       "      <td>-1846.641941</td>\n",
       "      <td>54</td>\n",
       "      <td>неоконченное высшее</td>\n",
       "      <td>2</td>\n",
       "      <td>женат / замужем</td>\n",
       "      <td>0</td>\n",
       "      <td>F</td>\n",
       "      <td>сотрудник</td>\n",
       "      <td>0</td>\n",
       "      <td>130458.228857</td>\n",
       "      <td>приобретение автомобиля</td>\n",
       "    </tr>\n",
       "    <tr>\n",
       "      <th>14</th>\n",
       "      <td>0</td>\n",
       "      <td>-1844.956182</td>\n",
       "      <td>56</td>\n",
       "      <td>высшее</td>\n",
       "      <td>0</td>\n",
       "      <td>гражданский брак</td>\n",
       "      <td>1</td>\n",
       "      <td>F</td>\n",
       "      <td>компаньон</td>\n",
       "      <td>1</td>\n",
       "      <td>165127.911772</td>\n",
       "      <td>покупка жилой недвижимости</td>\n",
       "    </tr>\n",
       "    <tr>\n",
       "      <th>15</th>\n",
       "      <td>1</td>\n",
       "      <td>-972.364419</td>\n",
       "      <td>26</td>\n",
       "      <td>среднее</td>\n",
       "      <td>1</td>\n",
       "      <td>женат / замужем</td>\n",
       "      <td>0</td>\n",
       "      <td>F</td>\n",
       "      <td>сотрудник</td>\n",
       "      <td>0</td>\n",
       "      <td>116820.904450</td>\n",
       "      <td>строительство собственной недвижимости</td>\n",
       "    </tr>\n",
       "    <tr>\n",
       "      <th>16</th>\n",
       "      <td>0</td>\n",
       "      <td>-1719.934226</td>\n",
       "      <td>35</td>\n",
       "      <td>среднее</td>\n",
       "      <td>1</td>\n",
       "      <td>женат / замужем</td>\n",
       "      <td>0</td>\n",
       "      <td>F</td>\n",
       "      <td>сотрудник</td>\n",
       "      <td>0</td>\n",
       "      <td>289202.704229</td>\n",
       "      <td>недвижимость</td>\n",
       "    </tr>\n",
       "    <tr>\n",
       "      <th>17</th>\n",
       "      <td>0</td>\n",
       "      <td>-2369.999720</td>\n",
       "      <td>33</td>\n",
       "      <td>высшее</td>\n",
       "      <td>0</td>\n",
       "      <td>гражданский брак</td>\n",
       "      <td>1</td>\n",
       "      <td>M</td>\n",
       "      <td>сотрудник</td>\n",
       "      <td>0</td>\n",
       "      <td>90410.586745</td>\n",
       "      <td>строительство недвижимости</td>\n",
       "    </tr>\n",
       "    <tr>\n",
       "      <th>18</th>\n",
       "      <td>0</td>\n",
       "      <td>400281.136913</td>\n",
       "      <td>53</td>\n",
       "      <td>среднее</td>\n",
       "      <td>1</td>\n",
       "      <td>вдовец / вдова</td>\n",
       "      <td>2</td>\n",
       "      <td>F</td>\n",
       "      <td>пенсионер</td>\n",
       "      <td>0</td>\n",
       "      <td>56823.777243</td>\n",
       "      <td>на покупку подержанного автомобиля</td>\n",
       "    </tr>\n",
       "    <tr>\n",
       "      <th>19</th>\n",
       "      <td>0</td>\n",
       "      <td>-10038.818549</td>\n",
       "      <td>48</td>\n",
       "      <td>СРЕДНЕЕ</td>\n",
       "      <td>1</td>\n",
       "      <td>в разводе</td>\n",
       "      <td>3</td>\n",
       "      <td>F</td>\n",
       "      <td>сотрудник</td>\n",
       "      <td>0</td>\n",
       "      <td>242831.107982</td>\n",
       "      <td>на покупку своего автомобиля</td>\n",
       "    </tr>\n",
       "  </tbody>\n",
       "</table>\n",
       "</div>"
      ],
      "text/plain": [
       "    children  days_employed  dob_years            education  education_id  \\\n",
       "0          1   -8437.673028         42               высшее             0   \n",
       "1          1   -4024.803754         36              среднее             1   \n",
       "2          0   -5623.422610         33              Среднее             1   \n",
       "3          3   -4124.747207         32              среднее             1   \n",
       "4          0  340266.072047         53              среднее             1   \n",
       "5          0    -926.185831         27               высшее             0   \n",
       "6          0   -2879.202052         43               высшее             0   \n",
       "7          0    -152.779569         50              СРЕДНЕЕ             1   \n",
       "8          2   -6929.865299         35               ВЫСШЕЕ             0   \n",
       "9          0   -2188.756445         41              среднее             1   \n",
       "10         2   -4171.483647         36               высшее             0   \n",
       "11         0    -792.701887         40              среднее             1   \n",
       "12         0            NaN         65              среднее             1   \n",
       "13         0   -1846.641941         54  неоконченное высшее             2   \n",
       "14         0   -1844.956182         56               высшее             0   \n",
       "15         1    -972.364419         26              среднее             1   \n",
       "16         0   -1719.934226         35              среднее             1   \n",
       "17         0   -2369.999720         33               высшее             0   \n",
       "18         0  400281.136913         53              среднее             1   \n",
       "19         0  -10038.818549         48              СРЕДНЕЕ             1   \n",
       "\n",
       "       family_status  family_status_id gender income_type  debt  \\\n",
       "0    женат / замужем                 0      F   сотрудник     0   \n",
       "1    женат / замужем                 0      F   сотрудник     0   \n",
       "2    женат / замужем                 0      M   сотрудник     0   \n",
       "3    женат / замужем                 0      M   сотрудник     0   \n",
       "4   гражданский брак                 1      F   пенсионер     0   \n",
       "5   гражданский брак                 1      M   компаньон     0   \n",
       "6    женат / замужем                 0      F   компаньон     0   \n",
       "7    женат / замужем                 0      M   сотрудник     0   \n",
       "8   гражданский брак                 1      F   сотрудник     0   \n",
       "9    женат / замужем                 0      M   сотрудник     0   \n",
       "10   женат / замужем                 0      M   компаньон     0   \n",
       "11   женат / замужем                 0      F   сотрудник     0   \n",
       "12  гражданский брак                 1      M   пенсионер     0   \n",
       "13   женат / замужем                 0      F   сотрудник     0   \n",
       "14  гражданский брак                 1      F   компаньон     1   \n",
       "15   женат / замужем                 0      F   сотрудник     0   \n",
       "16   женат / замужем                 0      F   сотрудник     0   \n",
       "17  гражданский брак                 1      M   сотрудник     0   \n",
       "18    вдовец / вдова                 2      F   пенсионер     0   \n",
       "19         в разводе                 3      F   сотрудник     0   \n",
       "\n",
       "     total_income                                 purpose  \n",
       "0   253875.639453                           покупка жилья  \n",
       "1   112080.014102                 приобретение автомобиля  \n",
       "2   145885.952297                           покупка жилья  \n",
       "3   267628.550329              дополнительное образование  \n",
       "4   158616.077870                         сыграть свадьбу  \n",
       "5   255763.565419                           покупка жилья  \n",
       "6   240525.971920                       операции с жильем  \n",
       "7   135823.934197                             образование  \n",
       "8    95856.832424                   на проведение свадьбы  \n",
       "9   144425.938277                 покупка жилья для семьи  \n",
       "10  113943.491460                    покупка недвижимости  \n",
       "11   77069.234271       покупка коммерческой недвижимости  \n",
       "12            NaN                         сыграть свадьбу  \n",
       "13  130458.228857                 приобретение автомобиля  \n",
       "14  165127.911772              покупка жилой недвижимости  \n",
       "15  116820.904450  строительство собственной недвижимости  \n",
       "16  289202.704229                            недвижимость  \n",
       "17   90410.586745              строительство недвижимости  \n",
       "18   56823.777243      на покупку подержанного автомобиля  \n",
       "19  242831.107982            на покупку своего автомобиля  "
      ]
     },
     "execution_count": 4,
     "metadata": {},
     "output_type": "execute_result"
    }
   ],
   "source": [
    "data.head(20)"
   ]
  },
  {
   "cell_type": "markdown",
   "id": "0ed8f27f",
   "metadata": {
    "deletable": false,
    "editable": false,
    "id": "0ed8f27f"
   },
   "source": [
    "**Задание 3. Выведите основную информацию о датафрейме с помощью метода `info()`.**"
   ]
  },
  {
   "cell_type": "code",
   "execution_count": 5,
   "id": "ab3f863b",
   "metadata": {
    "deletable": false,
    "id": "ab3f863b",
    "outputId": "15376089-8dad-46c9-b520-c05248d43158"
   },
   "outputs": [
    {
     "name": "stdout",
     "output_type": "stream",
     "text": [
      "<class 'pandas.core.frame.DataFrame'>\n",
      "RangeIndex: 21525 entries, 0 to 21524\n",
      "Data columns (total 12 columns):\n",
      " #   Column            Non-Null Count  Dtype  \n",
      "---  ------            --------------  -----  \n",
      " 0   children          21525 non-null  int64  \n",
      " 1   days_employed     19351 non-null  float64\n",
      " 2   dob_years         21525 non-null  int64  \n",
      " 3   education         21525 non-null  object \n",
      " 4   education_id      21525 non-null  int64  \n",
      " 5   family_status     21525 non-null  object \n",
      " 6   family_status_id  21525 non-null  int64  \n",
      " 7   gender            21525 non-null  object \n",
      " 8   income_type       21525 non-null  object \n",
      " 9   debt              21525 non-null  int64  \n",
      " 10  total_income      19351 non-null  float64\n",
      " 11  purpose           21525 non-null  object \n",
      "dtypes: float64(2), int64(5), object(5)\n",
      "memory usage: 2.0+ MB\n"
     ]
    }
   ],
   "source": [
    "data.info()"
   ]
  },
  {
   "cell_type": "markdown",
   "id": "60e3e22d",
   "metadata": {
    "deletable": false,
    "editable": false,
    "id": "60e3e22d"
   },
   "source": [
    "## Предобработка данных"
   ]
  },
  {
   "cell_type": "markdown",
   "id": "03dc170c",
   "metadata": {
    "deletable": false,
    "editable": false,
    "id": "03dc170c"
   },
   "source": [
    "### Удаление пропусков"
   ]
  },
  {
   "cell_type": "markdown",
   "id": "a4f54eef",
   "metadata": {
    "deletable": false,
    "editable": false,
    "id": "a4f54eef"
   },
   "source": [
    "**Задание 4. Выведите количество пропущенных значений для каждого столбца. Используйте комбинацию двух методов.**"
   ]
  },
  {
   "cell_type": "code",
   "execution_count": 6,
   "id": "2dc372b2",
   "metadata": {
    "deletable": false,
    "id": "2dc372b2",
    "outputId": "81f4d817-781c-465c-ed15-91ce4446810d"
   },
   "outputs": [
    {
     "data": {
      "text/plain": [
       "children               0\n",
       "days_employed       2174\n",
       "dob_years              0\n",
       "education              0\n",
       "education_id           0\n",
       "family_status          0\n",
       "family_status_id       0\n",
       "gender                 0\n",
       "income_type            0\n",
       "debt                   0\n",
       "total_income        2174\n",
       "purpose                0\n",
       "dtype: int64"
      ]
     },
     "execution_count": 6,
     "metadata": {},
     "output_type": "execute_result"
    }
   ],
   "source": [
    "data.isna().sum()"
   ]
  },
  {
   "cell_type": "markdown",
   "id": "14f011b1",
   "metadata": {
    "deletable": false,
    "editable": false,
    "id": "14f011b1"
   },
   "source": [
    "**Задание 5. В двух столбцах есть пропущенные значения. Один из них — `days_employed`. Пропуски в этом столбце вы обработаете на следующем этапе. Другой столбец с пропущенными значениями — `total_income` — хранит данные о доходах. На сумму дохода сильнее всего влияет тип занятости, поэтому заполнить пропуски в этом столбце нужно медианным значением по каждому типу из столбца `income_type`. Например, у человека с типом занятости `сотрудник` пропуск в столбце `total_income` должен быть заполнен медианным доходом среди всех записей с тем же типом.**"
   ]
  },
  {
   "cell_type": "code",
   "execution_count": 7,
   "id": "bdabfb6e",
   "metadata": {
    "deletable": false,
    "id": "bdabfb6e"
   },
   "outputs": [],
   "source": [
    "for t in data['income_type'].unique():\n",
    "    data.loc[(data['income_type'] == t) & (data['total_income'].isna()), 'total_income'] = \\\n",
    "    data.loc[(data['income_type'] == t), 'total_income'].median()"
   ]
  },
  {
   "cell_type": "markdown",
   "id": "5be34059",
   "metadata": {
    "deletable": false,
    "editable": false,
    "id": "5be34059"
   },
   "source": [
    "### Обработка аномальных значений"
   ]
  },
  {
   "cell_type": "markdown",
   "id": "a87606cb",
   "metadata": {
    "deletable": false,
    "editable": false,
    "id": "a87606cb"
   },
   "source": [
    "**Задание 6. В данных могут встречаться артефакты (аномалии) — значения, которые не отражают действительность и появились по какой-то ошибке. таким артефактом будет отрицательное количество дней трудового стажа в столбце `days_employed`. Для реальных данных это нормально. Обработайте значения в этом столбце: замените все отрицательные значения положительными с помощью метода `abs()`.**"
   ]
  },
  {
   "cell_type": "code",
   "execution_count": 8,
   "id": "020c46cc",
   "metadata": {
    "deletable": false,
    "id": "020c46cc"
   },
   "outputs": [],
   "source": [
    "data['days_employed'] = data['days_employed'].abs()"
   ]
  },
  {
   "cell_type": "markdown",
   "id": "45538a3a",
   "metadata": {
    "deletable": false,
    "editable": false,
    "id": "45538a3a"
   },
   "source": [
    "**Задание 7. Для каждого типа занятости выведите медианное значение трудового стажа `days_employed` в днях.**"
   ]
  },
  {
   "cell_type": "code",
   "execution_count": 9,
   "id": "cd3e6328",
   "metadata": {
    "deletable": false,
    "id": "cd3e6328",
    "outputId": "801ef80e-522b-4668-f34e-565af7432bcf"
   },
   "outputs": [
    {
     "data": {
      "text/plain": [
       "income_type\n",
       "безработный        366413.652744\n",
       "в декрете            3296.759962\n",
       "госслужащий          2689.368353\n",
       "компаньон            1547.382223\n",
       "пенсионер          365213.306266\n",
       "предприниматель       520.848083\n",
       "сотрудник            1574.202821\n",
       "студент               578.751554\n",
       "Name: days_employed, dtype: float64"
      ]
     },
     "execution_count": 9,
     "metadata": {},
     "output_type": "execute_result"
    }
   ],
   "source": [
    "data.groupby('income_type')['days_employed'].agg('median')"
   ]
  },
  {
   "cell_type": "markdown",
   "id": "90c5f058",
   "metadata": {
    "deletable": false,
    "editable": false,
    "id": "90c5f058"
   },
   "source": [
    "У двух типов (безработные и пенсионеры) получатся аномально большие значения. Исправить такие значения сложно, поэтому оставьте их как есть."
   ]
  },
  {
   "cell_type": "markdown",
   "id": "9652e50d",
   "metadata": {
    "deletable": false,
    "editable": false,
    "id": "9652e50d"
   },
   "source": [
    "**Задание 8. Выведите перечень уникальных значений столбца `children`.**"
   ]
  },
  {
   "cell_type": "code",
   "execution_count": 10,
   "id": "dbb37b8e",
   "metadata": {
    "deletable": false,
    "id": "dbb37b8e",
    "outputId": "6975b15c-7f95-4697-d16d-a0c79b657b03"
   },
   "outputs": [
    {
     "data": {
      "text/plain": [
       "array([ 1,  0,  3,  2, -1,  4, 20,  5])"
      ]
     },
     "execution_count": 10,
     "metadata": {},
     "output_type": "execute_result"
    }
   ],
   "source": [
    "data['children'].unique()"
   ]
  },
  {
   "cell_type": "markdown",
   "id": "2b8b0715",
   "metadata": {
    "deletable": false,
    "editable": false,
    "id": "2b8b0715"
   },
   "source": [
    "**Задание 9. В столбце `children` есть два аномальных значения. Удалите строки, в которых встречаются такие аномальные значения из датафрейма `data`.**"
   ]
  },
  {
   "cell_type": "code",
   "execution_count": 11,
   "id": "20009df8",
   "metadata": {
    "deletable": false,
    "id": "20009df8"
   },
   "outputs": [],
   "source": [
    "data = data[(data['children'] != -1) & (data['children'] != 20)]"
   ]
  },
  {
   "cell_type": "markdown",
   "id": "8c6ac9f1",
   "metadata": {
    "deletable": false,
    "editable": false,
    "id": "8c6ac9f1"
   },
   "source": [
    "**Задание 10. Ещё раз выведите перечень уникальных значений столбца `children`, чтобы убедиться, что артефакты удалены.**"
   ]
  },
  {
   "cell_type": "code",
   "execution_count": 12,
   "id": "07337b81",
   "metadata": {
    "deletable": false,
    "id": "07337b81",
    "outputId": "b2097101-d49d-44d9-901b-32a65c9463d1"
   },
   "outputs": [
    {
     "data": {
      "text/plain": [
       "array([1, 0, 3, 2, 4, 5])"
      ]
     },
     "execution_count": 12,
     "metadata": {},
     "output_type": "execute_result"
    }
   ],
   "source": [
    "data['children'].unique()"
   ]
  },
  {
   "cell_type": "markdown",
   "id": "ee3f52d4",
   "metadata": {
    "deletable": false,
    "editable": false,
    "id": "ee3f52d4"
   },
   "source": [
    "### Удаление пропусков (продолжение)"
   ]
  },
  {
   "cell_type": "markdown",
   "id": "a700b0e4",
   "metadata": {
    "deletable": false,
    "editable": false,
    "id": "a700b0e4"
   },
   "source": [
    "**Задание 11. Заполните пропуски в столбце `days_employed` медианными значениями по каждого типа занятости `income_type`.**"
   ]
  },
  {
   "cell_type": "code",
   "execution_count": 13,
   "id": "61946b83",
   "metadata": {
    "deletable": false,
    "id": "61946b83"
   },
   "outputs": [],
   "source": [
    "for t in data['income_type'].unique():\n",
    "    data.loc[(data['income_type'] == t) & (data['days_employed'].isna()), 'days_employed'] = \\\n",
    "    data.loc[(data['income_type'] == t), 'days_employed'].median()"
   ]
  },
  {
   "cell_type": "markdown",
   "id": "550dcd9b",
   "metadata": {
    "deletable": false,
    "editable": false,
    "id": "550dcd9b"
   },
   "source": [
    "**Задание 12. Убедитесь, что все пропуски заполнены. Проверьте себя и ещё раз выведите количество пропущенных значений для каждого столбца с помощью двух методов.**"
   ]
  },
  {
   "cell_type": "code",
   "execution_count": 14,
   "id": "937c7014",
   "metadata": {
    "deletable": false,
    "id": "937c7014",
    "outputId": "8da1e4e1-358e-4e87-98c9-f261bce0a7b2"
   },
   "outputs": [
    {
     "data": {
      "text/plain": [
       "children            0\n",
       "days_employed       0\n",
       "dob_years           0\n",
       "education           0\n",
       "education_id        0\n",
       "family_status       0\n",
       "family_status_id    0\n",
       "gender              0\n",
       "income_type         0\n",
       "debt                0\n",
       "total_income        0\n",
       "purpose             0\n",
       "dtype: int64"
      ]
     },
     "execution_count": 14,
     "metadata": {},
     "output_type": "execute_result"
    }
   ],
   "source": [
    "data.isna().sum()"
   ]
  },
  {
   "cell_type": "markdown",
   "id": "d522e295",
   "metadata": {
    "deletable": false,
    "editable": false,
    "id": "d522e295"
   },
   "source": [
    "### Изменение типов данных"
   ]
  },
  {
   "cell_type": "markdown",
   "id": "c229c581",
   "metadata": {
    "deletable": false,
    "editable": false,
    "id": "c229c581"
   },
   "source": [
    "**Задание 13. Замените вещественный тип данных в столбце `total_income` на целочисленный с помощью метода `astype()`.**"
   ]
  },
  {
   "cell_type": "code",
   "execution_count": 15,
   "id": "31036462",
   "metadata": {
    "deletable": false,
    "id": "31036462"
   },
   "outputs": [],
   "source": [
    "data['total_income'] = data['total_income'].astype(int)"
   ]
  },
  {
   "cell_type": "markdown",
   "id": "b8e3d1d9",
   "metadata": {
    "deletable": false,
    "editable": false,
    "id": "b8e3d1d9"
   },
   "source": [
    "### Обработка дубликатов"
   ]
  },
  {
   "cell_type": "markdown",
   "id": "9be53c49",
   "metadata": {
    "deletable": false,
    "editable": false,
    "id": "9be53c49"
   },
   "source": [
    "**Задание 14. Обработайте неявные дубликаты в столбце `education`. В этом столбце есть одни и те же значения, но записанные по-разному: с использованием заглавных и строчных букв. Приведите их к нижнему регистру.**"
   ]
  },
  {
   "cell_type": "code",
   "execution_count": 16,
   "id": "d89e73e1",
   "metadata": {
    "deletable": false,
    "id": "d89e73e1"
   },
   "outputs": [],
   "source": [
    "data['education'] = data['education'].str.lower()"
   ]
  },
  {
   "cell_type": "markdown",
   "id": "01d4500e",
   "metadata": {
    "deletable": false,
    "editable": false,
    "id": "01d4500e"
   },
   "source": [
    "**Задание 15. Выведите на экран количество строк-дубликатов в данных. Если такие строки присутствуют, удалите их.**"
   ]
  },
  {
   "cell_type": "code",
   "execution_count": 17,
   "id": "e10efb23",
   "metadata": {
    "deletable": false,
    "id": "e10efb23",
    "outputId": "9684deba-1934-42d1-99e1-cda61740f822"
   },
   "outputs": [
    {
     "data": {
      "text/plain": [
       "71"
      ]
     },
     "execution_count": 17,
     "metadata": {},
     "output_type": "execute_result"
    }
   ],
   "source": [
    "data.duplicated().sum()"
   ]
  },
  {
   "cell_type": "code",
   "execution_count": 18,
   "id": "df853f20",
   "metadata": {
    "deletable": false,
    "id": "df853f20"
   },
   "outputs": [],
   "source": [
    "data = data.drop_duplicates()"
   ]
  },
  {
   "cell_type": "markdown",
   "id": "627be38f",
   "metadata": {
    "deletable": false,
    "editable": false,
    "id": "627be38f"
   },
   "source": [
    "### Категоризация данных"
   ]
  },
  {
   "cell_type": "markdown",
   "id": "4684c3e0",
   "metadata": {
    "deletable": false,
    "editable": false,
    "id": "4684c3e0"
   },
   "source": [
    "**Задание 16. На основании диапазонов, указанных ниже, создайте в датафрейме `data` столбец `total_income_category` с категориями:**\n",
    "\n",
    "- 0–30000 — `'E'`;\n",
    "- 30001–50000 — `'D'`;\n",
    "- 50001–200000 — `'C'`;\n",
    "- 200001–1000000 — `'B'`;\n",
    "- 1000001 и выше — `'A'`.\n",
    "\n",
    "\n",
    "**Например, кредитополучателю с доходом 25000 нужно назначить категорию `'E'`, а клиенту, получающему 235000, — `'B'`. Используйте собственную функцию с именем `categorize_income()` и метод `apply()`.**"
   ]
  },
  {
   "cell_type": "code",
   "execution_count": 19,
   "id": "78965238",
   "metadata": {
    "deletable": false,
    "id": "78965238"
   },
   "outputs": [],
   "source": [
    "def categorize_income(income):\n",
    "    try:\n",
    "        if 0 <= income <= 30000:\n",
    "            return 'E'\n",
    "        elif 30001 <= income <= 50000:\n",
    "            return 'D'\n",
    "        elif 50001 <= income <= 200000:\n",
    "            return 'C'\n",
    "        elif 200001 <= income <= 1000000:\n",
    "            return 'B'\n",
    "        elif income >= 1000001:\n",
    "            return 'A'\n",
    "    except:\n",
    "        pass"
   ]
  },
  {
   "cell_type": "code",
   "execution_count": 20,
   "id": "0980ada1",
   "metadata": {
    "deletable": false,
    "id": "0980ada1"
   },
   "outputs": [],
   "source": [
    "data['total_income_category'] = data['total_income'].apply(categorize_income)"
   ]
  },
  {
   "cell_type": "markdown",
   "id": "9917bba0",
   "metadata": {
    "deletable": false,
    "editable": false,
    "id": "9917bba0"
   },
   "source": [
    "**Задание 17. Выведите на экран перечень уникальных целей взятия кредита из столбца `purpose`.**"
   ]
  },
  {
   "cell_type": "code",
   "execution_count": 21,
   "id": "ee07b65e",
   "metadata": {
    "deletable": false,
    "id": "ee07b65e",
    "outputId": "673c12d9-7d7e-4ae0-9812-c622c89dd244"
   },
   "outputs": [
    {
     "data": {
      "text/plain": [
       "array(['покупка жилья', 'приобретение автомобиля',\n",
       "       'дополнительное образование', 'сыграть свадьбу',\n",
       "       'операции с жильем', 'образование', 'на проведение свадьбы',\n",
       "       'покупка жилья для семьи', 'покупка недвижимости',\n",
       "       'покупка коммерческой недвижимости', 'покупка жилой недвижимости',\n",
       "       'строительство собственной недвижимости', 'недвижимость',\n",
       "       'строительство недвижимости', 'на покупку подержанного автомобиля',\n",
       "       'на покупку своего автомобиля',\n",
       "       'операции с коммерческой недвижимостью',\n",
       "       'строительство жилой недвижимости', 'жилье',\n",
       "       'операции со своей недвижимостью', 'автомобили',\n",
       "       'заняться образованием', 'сделка с подержанным автомобилем',\n",
       "       'получение образования', 'автомобиль', 'свадьба',\n",
       "       'получение дополнительного образования', 'покупка своего жилья',\n",
       "       'операции с недвижимостью', 'получение высшего образования',\n",
       "       'свой автомобиль', 'сделка с автомобилем',\n",
       "       'профильное образование', 'высшее образование',\n",
       "       'покупка жилья для сдачи', 'на покупку автомобиля', 'ремонт жилью',\n",
       "       'заняться высшим образованием'], dtype=object)"
      ]
     },
     "execution_count": 21,
     "metadata": {},
     "output_type": "execute_result"
    }
   ],
   "source": [
    "data['purpose'].unique()"
   ]
  },
  {
   "cell_type": "markdown",
   "id": "52b79d56",
   "metadata": {
    "deletable": false,
    "editable": false,
    "id": "52b79d56"
   },
   "source": [
    "**Задание 18. Создайте функцию, которая на основании данных из столбца `purpose` сформирует новый столбец `purpose_category`, в который войдут следующие категории:**\n",
    "\n",
    "- `'операции с автомобилем'`,\n",
    "- `'операции с недвижимостью'`,\n",
    "- `'проведение свадьбы'`,\n",
    "- `'получение образования'`.\n",
    "\n",
    "**Например, если в столбце `purpose` находится подстрока `'на покупку автомобиля'`, то в столбце `purpose_category` должна появиться строка `'операции с автомобилем'`.**\n",
    "\n",
    "**Используйте собственную функцию с именем `categorize_purpose()` и метод `apply()`. Изучите данные в столбце `purpose` и определите, какие подстроки помогут вам правильно определить категорию.**"
   ]
  },
  {
   "cell_type": "code",
   "execution_count": 22,
   "id": "be41da5d",
   "metadata": {
    "deletable": false,
    "id": "be41da5d"
   },
   "outputs": [],
   "source": [
    "def categorize_purpose(row):\n",
    "    try:\n",
    "        if 'автом' in row:\n",
    "            return 'операции с автомобилем'\n",
    "        elif 'жил' in row or 'недвиж' in row:\n",
    "            return 'операции с недвижимостью'\n",
    "        elif 'свад' in row:\n",
    "            return 'проведение свадьбы'\n",
    "        elif 'образов' in row:\n",
    "            return 'получение образования'\n",
    "    except:\n",
    "        return 'нет категории'"
   ]
  },
  {
   "cell_type": "code",
   "execution_count": 23,
   "id": "94c4a19a",
   "metadata": {
    "deletable": false,
    "id": "94c4a19a"
   },
   "outputs": [],
   "source": [
    "data['purpose_category'] = data['purpose'].apply(categorize_purpose)"
   ]
  },
  {
   "cell_type": "markdown",
   "id": "3d596c34",
   "metadata": {
    "deletable": false,
    "editable": false,
    "id": "3d596c34"
   },
   "source": [
    "### Шаг 3. Исследуйте данные и ответьте на вопросы"
   ]
  },
  {
   "cell_type": "markdown",
   "id": "648db036",
   "metadata": {
    "deletable": false,
    "editable": false,
    "id": "648db036"
   },
   "source": [
    "#### 3.1 Есть ли зависимость между количеством детей и возвратом кредита в срок?"
   ]
  },
  {
   "cell_type": "code",
   "execution_count": 36,
   "id": "7fcff25e",
   "metadata": {
    "deletable": false,
    "id": "7fcff25e"
   },
   "outputs": [
    {
     "data": {
      "text/html": [
       "<style  type=\"text/css\" >\n",
       "</style><table id=\"T_4c18d_\" ><thead>    <tr>        <th class=\"blank level0\" ></th>        <th class=\"col_heading level0 col0\" >count</th>        <th class=\"col_heading level0 col1\" >sum</th>        <th class=\"col_heading level0 col2\" >mean</th>    </tr>    <tr>        <th class=\"blank level1\" ></th>        <th class=\"col_heading level1 col0\" >debt</th>        <th class=\"col_heading level1 col1\" >debt</th>        <th class=\"col_heading level1 col2\" >debt</th>    </tr>    <tr>        <th class=\"index_name level0\" >children</th>        <th class=\"blank\" ></th>        <th class=\"blank\" ></th>        <th class=\"blank\" ></th>    </tr></thead><tbody>\n",
       "                <tr>\n",
       "                        <th id=\"T_4c18d_level0_row0\" class=\"row_heading level0 row0\" >4</th>\n",
       "                        <td id=\"T_4c18d_row0_col0\" class=\"data row0 col0\" >41</td>\n",
       "                        <td id=\"T_4c18d_row0_col1\" class=\"data row0 col1\" >4</td>\n",
       "                        <td id=\"T_4c18d_row0_col2\" class=\"data row0 col2\" >9.76%</td>\n",
       "            </tr>\n",
       "            <tr>\n",
       "                        <th id=\"T_4c18d_level0_row1\" class=\"row_heading level0 row1\" >2</th>\n",
       "                        <td id=\"T_4c18d_row1_col0\" class=\"data row1 col0\" >2052</td>\n",
       "                        <td id=\"T_4c18d_row1_col1\" class=\"data row1 col1\" >194</td>\n",
       "                        <td id=\"T_4c18d_row1_col2\" class=\"data row1 col2\" >9.45%</td>\n",
       "            </tr>\n",
       "            <tr>\n",
       "                        <th id=\"T_4c18d_level0_row2\" class=\"row_heading level0 row2\" >1</th>\n",
       "                        <td id=\"T_4c18d_row2_col0\" class=\"data row2 col0\" >4808</td>\n",
       "                        <td id=\"T_4c18d_row2_col1\" class=\"data row2 col1\" >444</td>\n",
       "                        <td id=\"T_4c18d_row2_col2\" class=\"data row2 col2\" >9.23%</td>\n",
       "            </tr>\n",
       "            <tr>\n",
       "                        <th id=\"T_4c18d_level0_row3\" class=\"row_heading level0 row3\" >3</th>\n",
       "                        <td id=\"T_4c18d_row3_col0\" class=\"data row3 col0\" >330</td>\n",
       "                        <td id=\"T_4c18d_row3_col1\" class=\"data row3 col1\" >27</td>\n",
       "                        <td id=\"T_4c18d_row3_col2\" class=\"data row3 col2\" >8.18%</td>\n",
       "            </tr>\n",
       "            <tr>\n",
       "                        <th id=\"T_4c18d_level0_row4\" class=\"row_heading level0 row4\" >0</th>\n",
       "                        <td id=\"T_4c18d_row4_col0\" class=\"data row4 col0\" >14091</td>\n",
       "                        <td id=\"T_4c18d_row4_col1\" class=\"data row4 col1\" >1063</td>\n",
       "                        <td id=\"T_4c18d_row4_col2\" class=\"data row4 col2\" >7.54%</td>\n",
       "            </tr>\n",
       "            <tr>\n",
       "                        <th id=\"T_4c18d_level0_row5\" class=\"row_heading level0 row5\" >5</th>\n",
       "                        <td id=\"T_4c18d_row5_col0\" class=\"data row5 col0\" >9</td>\n",
       "                        <td id=\"T_4c18d_row5_col1\" class=\"data row5 col1\" >0</td>\n",
       "                        <td id=\"T_4c18d_row5_col2\" class=\"data row5 col2\" >0.00%</td>\n",
       "            </tr>\n",
       "    </tbody></table>"
      ],
      "text/plain": [
       "<pandas.io.formats.style.Styler at 0x7f8beb49edc0>"
      ]
     },
     "metadata": {},
     "output_type": "display_data"
    }
   ],
   "source": [
    "data_children_debt = data.pivot_table(index = ['children'], values = 'debt', aggfunc = ['count', 'sum', 'mean'])\\\n",
    "    .sort_values(by = ('mean', 'debt'), ascending = False)\\\n",
    "    .style.format({('mean', 'debt') : '{:.2%}'})\n",
    "\n",
    "\n",
    "display(data_children_debt) # Делаем сводную таблицу, в которой общее количество кредитополучателей, количество должников по кредитам и процент этих должников."
   ]
  },
  {
   "cell_type": "markdown",
   "id": "2eb9088e",
   "metadata": {
    "deletable": false,
    "id": "2eb9088e"
   },
   "source": [
    "**Вывод:** Зависимость количества детей и возврата кредита в срок прослеживается для подгруппы 0-2 ребенка, с увеличением количества детей, растет процент должников. Далее идет подгруппа 3-5 детей, для определения зависимости она не подходит, так как количество людей в этой подгруппе относительно всех людей из датасета мало (менее 2%)."
   ]
  },
  {
   "cell_type": "markdown",
   "id": "74c9b3a7",
   "metadata": {
    "deletable": false,
    "editable": false,
    "id": "74c9b3a7"
   },
   "source": [
    "#### 3.2 Есть ли зависимость между семейным положением и возвратом кредита в срок?"
   ]
  },
  {
   "cell_type": "code",
   "execution_count": 39,
   "id": "8098ab3b",
   "metadata": {
    "deletable": false,
    "id": "8098ab3b"
   },
   "outputs": [
    {
     "data": {
      "text/html": [
       "<style  type=\"text/css\" >\n",
       "</style><table id=\"T_a1e31_\" ><thead>    <tr>        <th class=\"blank level0\" ></th>        <th class=\"col_heading level0 col0\" >count</th>        <th class=\"col_heading level0 col1\" >sum</th>        <th class=\"col_heading level0 col2\" >mean</th>    </tr>    <tr>        <th class=\"blank level1\" ></th>        <th class=\"col_heading level1 col0\" >debt</th>        <th class=\"col_heading level1 col1\" >debt</th>        <th class=\"col_heading level1 col2\" >debt</th>    </tr>    <tr>        <th class=\"index_name level0\" >family_status</th>        <th class=\"blank\" ></th>        <th class=\"blank\" ></th>        <th class=\"blank\" ></th>    </tr></thead><tbody>\n",
       "                <tr>\n",
       "                        <th id=\"T_a1e31_level0_row0\" class=\"row_heading level0 row0\" >Не женат / не замужем</th>\n",
       "                        <td id=\"T_a1e31_row0_col0\" class=\"data row0 col0\" >2796</td>\n",
       "                        <td id=\"T_a1e31_row0_col1\" class=\"data row0 col1\" >273</td>\n",
       "                        <td id=\"T_a1e31_row0_col2\" class=\"data row0 col2\" >9.76%</td>\n",
       "            </tr>\n",
       "            <tr>\n",
       "                        <th id=\"T_a1e31_level0_row1\" class=\"row_heading level0 row1\" >гражданский брак</th>\n",
       "                        <td id=\"T_a1e31_row1_col0\" class=\"data row1 col0\" >4134</td>\n",
       "                        <td id=\"T_a1e31_row1_col1\" class=\"data row1 col1\" >385</td>\n",
       "                        <td id=\"T_a1e31_row1_col2\" class=\"data row1 col2\" >9.31%</td>\n",
       "            </tr>\n",
       "            <tr>\n",
       "                        <th id=\"T_a1e31_level0_row2\" class=\"row_heading level0 row2\" >женат / замужем</th>\n",
       "                        <td id=\"T_a1e31_row2_col0\" class=\"data row2 col0\" >12261</td>\n",
       "                        <td id=\"T_a1e31_row2_col1\" class=\"data row2 col1\" >927</td>\n",
       "                        <td id=\"T_a1e31_row2_col2\" class=\"data row2 col2\" >7.56%</td>\n",
       "            </tr>\n",
       "            <tr>\n",
       "                        <th id=\"T_a1e31_level0_row3\" class=\"row_heading level0 row3\" >в разводе</th>\n",
       "                        <td id=\"T_a1e31_row3_col0\" class=\"data row3 col0\" >1189</td>\n",
       "                        <td id=\"T_a1e31_row3_col1\" class=\"data row3 col1\" >84</td>\n",
       "                        <td id=\"T_a1e31_row3_col2\" class=\"data row3 col2\" >7.06%</td>\n",
       "            </tr>\n",
       "            <tr>\n",
       "                        <th id=\"T_a1e31_level0_row4\" class=\"row_heading level0 row4\" >вдовец / вдова</th>\n",
       "                        <td id=\"T_a1e31_row4_col0\" class=\"data row4 col0\" >951</td>\n",
       "                        <td id=\"T_a1e31_row4_col1\" class=\"data row4 col1\" >63</td>\n",
       "                        <td id=\"T_a1e31_row4_col2\" class=\"data row4 col2\" >6.62%</td>\n",
       "            </tr>\n",
       "    </tbody></table>"
      ],
      "text/plain": [
       "<pandas.io.formats.style.Styler at 0x7f8c542bca60>"
      ]
     },
     "metadata": {},
     "output_type": "display_data"
    }
   ],
   "source": [
    "data_family_debt = data.pivot_table(index=['family_status'], values='debt', aggfunc=['count', 'sum', 'mean'])\\\n",
    "    .sort_values(by = ('mean', 'debt'), ascending = False)\\\n",
    "    .style.format({('mean', 'debt') : '{:.2%}'})\n",
    "\n",
    "display(data_family_debt)# Ваш код будет здесь. Вы можете создавать новые ячейки."
   ]
  },
  {
   "cell_type": "markdown",
   "id": "4b9fa4b1",
   "metadata": {},
   "source": [
    "**промежуточный вывод:** Зависимость между семейным положением и количеством должников есть, высокий процент должников у не женатых и людей в гражданском браке. Эта зависимость наводит на мысль что это связано со средним возрастом людей этих подгрупп: построим таблицу со средним возрастом:"
   ]
  },
  {
   "cell_type": "markdown",
   "id": "a8d76272",
   "metadata": {},
   "source": [
    "#### Построим таблицу со средним возрастом для подгруппы с семейным положением: "
   ]
  },
  {
   "cell_type": "code",
   "execution_count": 46,
   "id": "7a14c802",
   "metadata": {},
   "outputs": [
    {
     "data": {
      "text/html": [
       "<div>\n",
       "<style scoped>\n",
       "    .dataframe tbody tr th:only-of-type {\n",
       "        vertical-align: middle;\n",
       "    }\n",
       "\n",
       "    .dataframe tbody tr th {\n",
       "        vertical-align: top;\n",
       "    }\n",
       "\n",
       "    .dataframe thead th {\n",
       "        text-align: right;\n",
       "    }\n",
       "</style>\n",
       "<table border=\"1\" class=\"dataframe\">\n",
       "  <thead>\n",
       "    <tr style=\"text-align: right;\">\n",
       "      <th></th>\n",
       "      <th>Средний возраст</th>\n",
       "    </tr>\n",
       "    <tr>\n",
       "      <th>family_status</th>\n",
       "      <th></th>\n",
       "    </tr>\n",
       "  </thead>\n",
       "  <tbody>\n",
       "    <tr>\n",
       "      <th>вдовец / вдова</th>\n",
       "      <td>56.501577</td>\n",
       "    </tr>\n",
       "    <tr>\n",
       "      <th>в разводе</th>\n",
       "      <td>45.561817</td>\n",
       "    </tr>\n",
       "    <tr>\n",
       "      <th>женат / замужем</th>\n",
       "      <td>43.558519</td>\n",
       "    </tr>\n",
       "    <tr>\n",
       "      <th>гражданский брак</th>\n",
       "      <td>42.067731</td>\n",
       "    </tr>\n",
       "    <tr>\n",
       "      <th>Не женат / не замужем</th>\n",
       "      <td>38.368026</td>\n",
       "    </tr>\n",
       "  </tbody>\n",
       "</table>\n",
       "</div>"
      ],
      "text/plain": [
       "                       Средний возраст\n",
       "family_status                         \n",
       "вдовец / вдова               56.501577\n",
       "в разводе                    45.561817\n",
       "женат / замужем              43.558519\n",
       "гражданский брак             42.067731\n",
       "Не женат / не замужем        38.368026"
      ]
     },
     "metadata": {},
     "output_type": "display_data"
    }
   ],
   "source": [
    "data_family_years = data.pivot_table(index=['family_status'], values='dob_years', aggfunc=['mean'])\\\n",
    "    .sort_values(by = ('mean', 'dob_years'), ascending = False)\n",
    "data_family_years.columns = ['Средний возраст']\n",
    "\n",
    "display(data_family_years)\n"
   ]
  },
  {
   "cell_type": "markdown",
   "id": "c389ca63",
   "metadata": {
    "deletable": false,
    "id": "c389ca63"
   },
   "source": [
    "**Вывод:** Для подгруппы с семейным положением видна явная зависимость уменьшения процента должников с ростам возраста."
   ]
  },
  {
   "cell_type": "markdown",
   "id": "9529de68",
   "metadata": {
    "deletable": false,
    "editable": false,
    "id": "9529de68"
   },
   "source": [
    "#### 3.3 Есть ли зависимость между уровнем дохода и возвратом кредита в срок?"
   ]
  },
  {
   "cell_type": "code",
   "execution_count": 41,
   "id": "8787f44a",
   "metadata": {
    "deletable": false,
    "id": "8787f44a"
   },
   "outputs": [
    {
     "data": {
      "text/html": [
       "<style  type=\"text/css\" >\n",
       "</style><table id=\"T_57acf_\" ><thead>    <tr>        <th class=\"blank level0\" ></th>        <th class=\"col_heading level0 col0\" >count</th>        <th class=\"col_heading level0 col1\" >sum</th>        <th class=\"col_heading level0 col2\" >mean</th>    </tr>    <tr>        <th class=\"blank level1\" ></th>        <th class=\"col_heading level1 col0\" >debt</th>        <th class=\"col_heading level1 col1\" >debt</th>        <th class=\"col_heading level1 col2\" >debt</th>    </tr>    <tr>        <th class=\"index_name level0\" >total_income_category</th>        <th class=\"blank\" ></th>        <th class=\"blank\" ></th>        <th class=\"blank\" ></th>    </tr></thead><tbody>\n",
       "                <tr>\n",
       "                        <th id=\"T_57acf_level0_row0\" class=\"row_heading level0 row0\" >E</th>\n",
       "                        <td id=\"T_57acf_row0_col0\" class=\"data row0 col0\" >22</td>\n",
       "                        <td id=\"T_57acf_row0_col1\" class=\"data row0 col1\" >2</td>\n",
       "                        <td id=\"T_57acf_row0_col2\" class=\"data row0 col2\" >9.09%</td>\n",
       "            </tr>\n",
       "            <tr>\n",
       "                        <th id=\"T_57acf_level0_row1\" class=\"row_heading level0 row1\" >C</th>\n",
       "                        <td id=\"T_57acf_row1_col0\" class=\"data row1 col0\" >15921</td>\n",
       "                        <td id=\"T_57acf_row1_col1\" class=\"data row1 col1\" >1353</td>\n",
       "                        <td id=\"T_57acf_row1_col2\" class=\"data row1 col2\" >8.50%</td>\n",
       "            </tr>\n",
       "            <tr>\n",
       "                        <th id=\"T_57acf_level0_row2\" class=\"row_heading level0 row2\" >A</th>\n",
       "                        <td id=\"T_57acf_row2_col0\" class=\"data row2 col0\" >25</td>\n",
       "                        <td id=\"T_57acf_row2_col1\" class=\"data row2 col1\" >2</td>\n",
       "                        <td id=\"T_57acf_row2_col2\" class=\"data row2 col2\" >8.00%</td>\n",
       "            </tr>\n",
       "            <tr>\n",
       "                        <th id=\"T_57acf_level0_row3\" class=\"row_heading level0 row3\" >B</th>\n",
       "                        <td id=\"T_57acf_row3_col0\" class=\"data row3 col0\" >5014</td>\n",
       "                        <td id=\"T_57acf_row3_col1\" class=\"data row3 col1\" >354</td>\n",
       "                        <td id=\"T_57acf_row3_col2\" class=\"data row3 col2\" >7.06%</td>\n",
       "            </tr>\n",
       "            <tr>\n",
       "                        <th id=\"T_57acf_level0_row4\" class=\"row_heading level0 row4\" >D</th>\n",
       "                        <td id=\"T_57acf_row4_col0\" class=\"data row4 col0\" >349</td>\n",
       "                        <td id=\"T_57acf_row4_col1\" class=\"data row4 col1\" >21</td>\n",
       "                        <td id=\"T_57acf_row4_col2\" class=\"data row4 col2\" >6.02%</td>\n",
       "            </tr>\n",
       "    </tbody></table>"
      ],
      "text/plain": [
       "<pandas.io.formats.style.Styler at 0x7f8c542bc3d0>"
      ]
     },
     "metadata": {},
     "output_type": "display_data"
    }
   ],
   "source": [
    "data_income_debt = data.pivot_table(index=['total_income_category'], values='debt', aggfunc=['count', 'sum', 'mean'])\\\n",
    "    .sort_values(by = ('mean', 'debt'), ascending = False)\\\n",
    "    .style.format({('mean', 'debt') : '{:.2%}'})\n",
    "\n",
    "display(data_income_debt)# Ваш код будет здесь. Вы можете создавать новые ячейки."
   ]
  },
  {
   "cell_type": "markdown",
   "id": "6dd14b57",
   "metadata": {
    "deletable": false,
    "id": "6dd14b57"
   },
   "source": [
    "**Вывод:** Зависимость между уровнем дохода и возвратом кредита в срок не прослеживается, но для определения зависимости между уровнем дохода и возвратом кредита в срок предлагаю рассмотреть только группы В и С, так как группы А, D и Е слишком малочисленные относительно всего датасета. В группах В и С зависимость прослеживается: чем выше доход, тем меньше процент должников."
   ]
  },
  {
   "cell_type": "markdown",
   "id": "1dcc9b12",
   "metadata": {
    "deletable": false,
    "editable": false,
    "id": "1dcc9b12"
   },
   "source": [
    "#### 3.4 Как разные цели кредита влияют на его возврат в срок?"
   ]
  },
  {
   "cell_type": "code",
   "execution_count": 42,
   "id": "c602bc8b",
   "metadata": {
    "deletable": false,
    "id": "c602bc8b"
   },
   "outputs": [
    {
     "data": {
      "text/html": [
       "<style  type=\"text/css\" >\n",
       "</style><table id=\"T_59035_\" ><thead>    <tr>        <th class=\"blank level0\" ></th>        <th class=\"col_heading level0 col0\" >count</th>        <th class=\"col_heading level0 col1\" >sum</th>        <th class=\"col_heading level0 col2\" >mean</th>    </tr>    <tr>        <th class=\"blank level1\" ></th>        <th class=\"col_heading level1 col0\" >debt</th>        <th class=\"col_heading level1 col1\" >debt</th>        <th class=\"col_heading level1 col2\" >debt</th>    </tr>    <tr>        <th class=\"index_name level0\" >purpose_category</th>        <th class=\"blank\" ></th>        <th class=\"blank\" ></th>        <th class=\"blank\" ></th>    </tr></thead><tbody>\n",
       "                <tr>\n",
       "                        <th id=\"T_59035_level0_row0\" class=\"row_heading level0 row0\" >операции с автомобилем</th>\n",
       "                        <td id=\"T_59035_row0_col0\" class=\"data row0 col0\" >4279</td>\n",
       "                        <td id=\"T_59035_row0_col1\" class=\"data row0 col1\" >400</td>\n",
       "                        <td id=\"T_59035_row0_col2\" class=\"data row0 col2\" >9.35%</td>\n",
       "            </tr>\n",
       "            <tr>\n",
       "                        <th id=\"T_59035_level0_row1\" class=\"row_heading level0 row1\" >получение образования</th>\n",
       "                        <td id=\"T_59035_row1_col0\" class=\"data row1 col0\" >3988</td>\n",
       "                        <td id=\"T_59035_row1_col1\" class=\"data row1 col1\" >369</td>\n",
       "                        <td id=\"T_59035_row1_col2\" class=\"data row1 col2\" >9.25%</td>\n",
       "            </tr>\n",
       "            <tr>\n",
       "                        <th id=\"T_59035_level0_row2\" class=\"row_heading level0 row2\" >проведение свадьбы</th>\n",
       "                        <td id=\"T_59035_row2_col0\" class=\"data row2 col0\" >2313</td>\n",
       "                        <td id=\"T_59035_row2_col1\" class=\"data row2 col1\" >183</td>\n",
       "                        <td id=\"T_59035_row2_col2\" class=\"data row2 col2\" >7.91%</td>\n",
       "            </tr>\n",
       "            <tr>\n",
       "                        <th id=\"T_59035_level0_row3\" class=\"row_heading level0 row3\" >операции с недвижимостью</th>\n",
       "                        <td id=\"T_59035_row3_col0\" class=\"data row3 col0\" >10751</td>\n",
       "                        <td id=\"T_59035_row3_col1\" class=\"data row3 col1\" >780</td>\n",
       "                        <td id=\"T_59035_row3_col2\" class=\"data row3 col2\" >7.26%</td>\n",
       "            </tr>\n",
       "    </tbody></table>"
      ],
      "text/plain": [
       "<pandas.io.formats.style.Styler at 0x7f8c2b888b50>"
      ]
     },
     "metadata": {},
     "output_type": "display_data"
    }
   ],
   "source": [
    "data_purpose_debt = data.pivot_table(index=['purpose_category'], values='debt', aggfunc=['count', 'sum', 'mean'])\\\n",
    "    .sort_values(by = ('mean', 'debt'), ascending = False)\\\n",
    "    .style.format({('mean', 'debt') : '{:.2%}'})\n",
    "\n",
    "display(data_purpose_debt)# Ваш код будет здесь. Вы можете создавать новые ячейки."
   ]
  },
  {
   "cell_type": "markdown",
   "id": "cf05ed63",
   "metadata": {
    "deletable": false,
    "id": "cf05ed63"
   },
   "source": [
    "**Вывод:** Самый низкий процент должников у группы, которые берут кредит на операции с недвижимостью. Это показывает, что как правило, покупка недвижимости серъезный шаг, к которому люди подходят с большей ответственностью и риски при таких кредитах выше."
   ]
  },
  {
   "cell_type": "markdown",
   "id": "46c1f10b",
   "metadata": {
    "deletable": false,
    "editable": false,
    "id": "46c1f10b"
   },
   "source": [
    "#### 3.5 Приведите возможные причины появления пропусков в исходных данных."
   ]
  },
  {
   "cell_type": "markdown",
   "id": "3697d2a9",
   "metadata": {
    "deletable": false,
    "id": "3697d2a9"
   },
   "source": [
    "*Ответ:* В исходных данных пропуски были в двух столбцах: трудовой стаж и ежемесячный доход. Возможные причины пропуска в этих столбцах могут крыться в том, что клиенты могут не иметь официального стажа/заработка, то есть работать без официального оформления по трудовому договору. Соответственно такие клиенты не могут предоставить подтверждение своего стажа/дохода."
   ]
  },
  {
   "cell_type": "markdown",
   "id": "3137d257",
   "metadata": {
    "deletable": false,
    "editable": false,
    "id": "3137d257"
   },
   "source": [
    "#### 3.6 Объясните, почему заполнить пропуски медианным значением — лучшее решение для количественных переменных."
   ]
  },
  {
   "cell_type": "markdown",
   "id": "cf40012a",
   "metadata": {
    "deletable": false,
    "id": "cf40012a"
   },
   "source": [
    "*Ответ:* В количественных переменных могут быть аномальные значения (слешком малые/большие), которые при выводе среднего арифметического будут искажать данные."
   ]
  },
  {
   "cell_type": "markdown",
   "id": "57bc304e",
   "metadata": {
    "deletable": false,
    "editable": false,
    "id": "57bc304e"
   },
   "source": [
    "### Шаг 4: общий вывод."
   ]
  },
  {
   "cell_type": "markdown",
   "id": "ae67901a",
   "metadata": {},
   "source": [
    "На мой взгляд, на возврат кредита больше влият возраст клиента, для этого проведем еще один анализ."
   ]
  },
  {
   "cell_type": "markdown",
   "id": "5b7b8948",
   "metadata": {},
   "source": [
    "**На основании диапазонов, указанных ниже, создадим в датафрейме `data` столбец `years_category` с категориями:**\n",
    "\n",
    "- 0–30 — `'A'`;\n",
    "- 31–40 — `'B'`;\n",
    "- 41–50 — `'C'`;\n",
    "- 51–60 — `'D'`;\n",
    "- 61 и выше — `'E'`."
   ]
  },
  {
   "cell_type": "code",
   "execution_count": 29,
   "id": "747cc3b0",
   "metadata": {},
   "outputs": [],
   "source": [
    "def categorize_dob_years(dob_years):\n",
    "    try:\n",
    "        if 0 <= dob_years <= 30:\n",
    "            return 'A'\n",
    "        elif 31 <= dob_years <= 40:\n",
    "            return 'B'\n",
    "        elif 41 <= dob_years <= 50:\n",
    "            return 'C'\n",
    "        elif 51 <= dob_years <= 60:\n",
    "            return 'D'\n",
    "        elif dob_years >= 61:\n",
    "            return 'E'\n",
    "    except:\n",
    "        pass\n"
   ]
  },
  {
   "cell_type": "code",
   "execution_count": 30,
   "id": "e9699bbd",
   "metadata": {},
   "outputs": [],
   "source": [
    "data['years_category'] = data['dob_years'].apply(categorize_dob_years)"
   ]
  },
  {
   "cell_type": "code",
   "execution_count": 31,
   "id": "f4dca949",
   "metadata": {},
   "outputs": [
    {
     "data": {
      "text/html": [
       "<div>\n",
       "<style scoped>\n",
       "    .dataframe tbody tr th:only-of-type {\n",
       "        vertical-align: middle;\n",
       "    }\n",
       "\n",
       "    .dataframe tbody tr th {\n",
       "        vertical-align: top;\n",
       "    }\n",
       "\n",
       "    .dataframe thead th {\n",
       "        text-align: right;\n",
       "    }\n",
       "</style>\n",
       "<table border=\"1\" class=\"dataframe\">\n",
       "  <thead>\n",
       "    <tr style=\"text-align: right;\">\n",
       "      <th></th>\n",
       "      <th>Всего кредитов</th>\n",
       "      <th>Всего должников</th>\n",
       "      <th>% должников</th>\n",
       "    </tr>\n",
       "    <tr>\n",
       "      <th>years_category</th>\n",
       "      <th></th>\n",
       "      <th></th>\n",
       "      <th></th>\n",
       "    </tr>\n",
       "  </thead>\n",
       "  <tbody>\n",
       "    <tr>\n",
       "      <th>A</th>\n",
       "      <td>3799</td>\n",
       "      <td>411</td>\n",
       "      <td>10.818636</td>\n",
       "    </tr>\n",
       "    <tr>\n",
       "      <th>B</th>\n",
       "      <td>5693</td>\n",
       "      <td>541</td>\n",
       "      <td>9.502898</td>\n",
       "    </tr>\n",
       "    <tr>\n",
       "      <th>C</th>\n",
       "      <td>5225</td>\n",
       "      <td>400</td>\n",
       "      <td>7.655502</td>\n",
       "    </tr>\n",
       "    <tr>\n",
       "      <th>D</th>\n",
       "      <td>4496</td>\n",
       "      <td>279</td>\n",
       "      <td>6.205516</td>\n",
       "    </tr>\n",
       "    <tr>\n",
       "      <th>E</th>\n",
       "      <td>2118</td>\n",
       "      <td>101</td>\n",
       "      <td>4.768650</td>\n",
       "    </tr>\n",
       "  </tbody>\n",
       "</table>\n",
       "</div>"
      ],
      "text/plain": [
       "                Всего кредитов  Всего должников  % должников\n",
       "years_category                                              \n",
       "A                         3799              411    10.818636\n",
       "B                         5693              541     9.502898\n",
       "C                         5225              400     7.655502\n",
       "D                         4496              279     6.205516\n",
       "E                         2118              101     4.768650"
      ]
     },
     "metadata": {},
     "output_type": "display_data"
    }
   ],
   "source": [
    "data_income_years = data.pivot_table(index=['years_category'], values='debt', aggfunc=['count', 'sum', 'mean'])\n",
    "data_income_years.columns = ['Всего кредитов', 'Всего должников', '% должников']\n",
    "data_income_years['% должников'] = data_income_years['% должников'] * 100\n",
    "\n",
    "display(data_income_years)"
   ]
  },
  {
   "cell_type": "markdown",
   "id": "1ab75d1c",
   "metadata": {
    "deletable": false,
    "id": "1ab75d1c"
   },
   "source": [
    "**Итоговый вывод:** Мной был проанализирован датасет с клиентами банка, обратившимися за кредитом. В первую очередь была произведена предобработка данных:\n",
    "- выявлены пропуски в столбцах общего стажа и заработка (заполнены медианными значениями по категориям клиентов)\n",
    "- выявлены аномальные значения для количества детей (строки с этими значениями удалены)\n",
    "- выявлены и удалены строки-дубликаты\n",
    "Далее клиенты были разделены по категориям, для анализа зависимости возврата кредита в срок, в зависимости от категории.\n",
    "Для анализа датасет был разделен на категории:\n",
    "- количество детей\n",
    "- семейное положение\n",
    "- уровень дохода\n",
    "- цель кредита\n",
    "- возраст\n",
    "Таблица с количеством должников разбитая по возрастным категориям показывает прямую зависимость количества должников от возраста. Также при разбивке по возрастным категориям, распределение клиентов по группам более равномерное, что увеличивает точность исследования. Но вероятность возврата кредита по возрастным категориям не может быть единственным критерием. Проанализировав другие категории мы также увидели зависимость количества должников от количества детей, семейного положения, дохода и цели кредита. Основываясь на всех рассмотренных методах разбивки на группы мы можем прогнозировать вероятность возврата кредита в срок"
   ]
  },
  {
   "cell_type": "code",
   "execution_count": null,
   "id": "c64cbaa9",
   "metadata": {},
   "outputs": [],
   "source": []
  }
 ],
 "metadata": {
  "ExecuteTimeLog": [
   {
    "duration": 458,
    "start_time": "2023-02-03T15:56:26.165Z"
   },
   {
    "duration": 20,
    "start_time": "2023-02-03T15:56:29.188Z"
   },
   {
    "duration": 14,
    "start_time": "2023-02-03T15:56:32.989Z"
   },
   {
    "duration": 9,
    "start_time": "2023-02-03T15:56:39.022Z"
   },
   {
    "duration": 33,
    "start_time": "2023-02-03T15:56:50.079Z"
   },
   {
    "duration": 4,
    "start_time": "2023-02-03T15:56:54.888Z"
   },
   {
    "duration": 8,
    "start_time": "2023-02-03T15:57:06.328Z"
   },
   {
    "duration": 5,
    "start_time": "2023-02-03T15:57:14.472Z"
   },
   {
    "duration": 8,
    "start_time": "2023-02-03T15:57:58.504Z"
   },
   {
    "duration": 5,
    "start_time": "2023-02-03T15:57:59.914Z"
   },
   {
    "duration": 31,
    "start_time": "2023-02-03T15:58:10.180Z"
   },
   {
    "duration": 10,
    "start_time": "2023-02-03T15:58:18.829Z"
   },
   {
    "duration": 5,
    "start_time": "2023-02-03T15:58:28.366Z"
   },
   {
    "duration": 11,
    "start_time": "2023-02-03T15:58:36.270Z"
   },
   {
    "duration": 19,
    "start_time": "2023-02-03T15:58:38.404Z"
   },
   {
    "duration": 18,
    "start_time": "2023-02-03T15:58:39.527Z"
   },
   {
    "duration": 3,
    "start_time": "2023-02-03T15:58:46.555Z"
   },
   {
    "duration": 9,
    "start_time": "2023-02-03T15:58:57.580Z"
   },
   {
    "duration": 5,
    "start_time": "2023-02-03T15:58:59.232Z"
   },
   {
    "duration": 3,
    "start_time": "2023-02-03T15:59:14.224Z"
   },
   {
    "duration": 8,
    "start_time": "2023-02-03T15:59:16.431Z"
   },
   {
    "duration": 58,
    "start_time": "2023-02-04T17:19:36.585Z"
   },
   {
    "duration": 749,
    "start_time": "2023-02-04T17:19:52.133Z"
   },
   {
    "duration": 23,
    "start_time": "2023-02-04T17:19:54.256Z"
   },
   {
    "duration": 17,
    "start_time": "2023-02-04T17:19:57.391Z"
   },
   {
    "duration": 10,
    "start_time": "2023-02-04T17:20:01.757Z"
   },
   {
    "duration": 42,
    "start_time": "2023-02-04T17:20:04.055Z"
   },
   {
    "duration": 4,
    "start_time": "2023-02-04T17:20:06.816Z"
   },
   {
    "duration": 10,
    "start_time": "2023-02-04T17:20:08.367Z"
   },
   {
    "duration": 5,
    "start_time": "2023-02-04T17:20:10.878Z"
   },
   {
    "duration": 10,
    "start_time": "2023-02-04T17:20:12.670Z"
   },
   {
    "duration": 5,
    "start_time": "2023-02-04T17:20:16.536Z"
   },
   {
    "duration": 35,
    "start_time": "2023-02-04T17:20:17.524Z"
   },
   {
    "duration": 11,
    "start_time": "2023-02-04T17:20:17.979Z"
   },
   {
    "duration": 4,
    "start_time": "2023-02-04T17:20:19.136Z"
   },
   {
    "duration": 13,
    "start_time": "2023-02-04T17:20:20.762Z"
   },
   {
    "duration": 20,
    "start_time": "2023-02-04T17:20:22.177Z"
   },
   {
    "duration": 21,
    "start_time": "2023-02-04T17:20:24.567Z"
   },
   {
    "duration": 4,
    "start_time": "2023-02-04T17:20:27.239Z"
   },
   {
    "duration": 11,
    "start_time": "2023-02-04T17:20:29.521Z"
   },
   {
    "duration": 7,
    "start_time": "2023-02-04T17:20:33.682Z"
   },
   {
    "duration": 10,
    "start_time": "2023-02-04T17:20:36.720Z"
   },
   {
    "duration": 9,
    "start_time": "2023-02-04T17:20:38.063Z"
   },
   {
    "duration": 4,
    "start_time": "2023-02-04T17:20:41.184Z"
   },
   {
    "duration": 4,
    "start_time": "2023-02-04T17:21:02.880Z"
   },
   {
    "duration": 4,
    "start_time": "2023-02-04T17:21:19.032Z"
   },
   {
    "duration": 3,
    "start_time": "2023-02-04T17:21:55.032Z"
   },
   {
    "duration": 5,
    "start_time": "2023-02-04T17:25:08.039Z"
   },
   {
    "duration": 35,
    "start_time": "2023-02-04T17:31:38.676Z"
   },
   {
    "duration": 4,
    "start_time": "2023-02-04T17:47:46.287Z"
   },
   {
    "duration": 30,
    "start_time": "2023-02-04T17:48:10.184Z"
   },
   {
    "duration": 11,
    "start_time": "2023-02-04T17:49:36.656Z"
   },
   {
    "duration": 49,
    "start_time": "2023-02-04T17:53:52.439Z"
   },
   {
    "duration": 53,
    "start_time": "2023-02-04T17:54:23.750Z"
   },
   {
    "duration": 46,
    "start_time": "2023-02-04T17:54:34.353Z"
   },
   {
    "duration": 4,
    "start_time": "2023-02-04T17:54:44.555Z"
   },
   {
    "duration": 9,
    "start_time": "2023-02-04T17:54:45.652Z"
   },
   {
    "duration": 44,
    "start_time": "2023-02-04T17:54:49.358Z"
   },
   {
    "duration": 52,
    "start_time": "2023-02-04T17:55:57.970Z"
   },
   {
    "duration": 52,
    "start_time": "2023-02-04T17:56:07.262Z"
   },
   {
    "duration": 3,
    "start_time": "2023-02-04T17:56:58.033Z"
   },
   {
    "duration": 38,
    "start_time": "2023-02-04T17:57:27.830Z"
   },
   {
    "duration": 22,
    "start_time": "2023-02-04T17:58:11.547Z"
   },
   {
    "duration": 26,
    "start_time": "2023-02-04T18:00:36.095Z"
   },
   {
    "duration": 216,
    "start_time": "2023-02-04T18:04:02.776Z"
   },
   {
    "duration": 38,
    "start_time": "2023-02-04T18:05:13.396Z"
   },
   {
    "duration": 27,
    "start_time": "2023-02-04T18:08:03.178Z"
   },
   {
    "duration": 26,
    "start_time": "2023-02-04T18:09:18.470Z"
   },
   {
    "duration": 24,
    "start_time": "2023-02-04T18:10:11.233Z"
   },
   {
    "duration": 29,
    "start_time": "2023-02-04T18:10:25.849Z"
   },
   {
    "duration": 25,
    "start_time": "2023-02-04T18:19:00.563Z"
   },
   {
    "duration": 29,
    "start_time": "2023-02-04T18:20:16.508Z"
   },
   {
    "duration": 29,
    "start_time": "2023-02-04T18:23:53.493Z"
   },
   {
    "duration": 31,
    "start_time": "2023-02-04T18:25:19.181Z"
   },
   {
    "duration": 719,
    "start_time": "2023-02-05T17:24:33.722Z"
   },
   {
    "duration": 20,
    "start_time": "2023-02-05T17:24:37.822Z"
   },
   {
    "duration": 15,
    "start_time": "2023-02-05T17:24:39.729Z"
   },
   {
    "duration": 10,
    "start_time": "2023-02-05T17:24:44.197Z"
   },
   {
    "duration": 40,
    "start_time": "2023-02-05T17:24:45.974Z"
   },
   {
    "duration": 3,
    "start_time": "2023-02-05T17:24:48.703Z"
   },
   {
    "duration": 8,
    "start_time": "2023-02-05T17:24:52.002Z"
   },
   {
    "duration": 5,
    "start_time": "2023-02-05T17:25:19.594Z"
   },
   {
    "duration": 7,
    "start_time": "2023-02-05T17:25:21.947Z"
   },
   {
    "duration": 5,
    "start_time": "2023-02-05T17:25:23.571Z"
   },
   {
    "duration": 31,
    "start_time": "2023-02-05T17:25:26.678Z"
   },
   {
    "duration": 9,
    "start_time": "2023-02-05T17:25:28.677Z"
   },
   {
    "duration": 4,
    "start_time": "2023-02-05T17:25:31.201Z"
   },
   {
    "duration": 12,
    "start_time": "2023-02-05T17:25:34.421Z"
   },
   {
    "duration": 18,
    "start_time": "2023-02-05T17:25:36.776Z"
   },
   {
    "duration": 16,
    "start_time": "2023-02-05T17:25:38.650Z"
   },
   {
    "duration": 4,
    "start_time": "2023-02-05T17:25:42.227Z"
   },
   {
    "duration": 10,
    "start_time": "2023-02-05T17:25:43.638Z"
   },
   {
    "duration": 5,
    "start_time": "2023-02-05T17:25:57.774Z"
   },
   {
    "duration": 3,
    "start_time": "2023-02-05T17:26:00.552Z"
   },
   {
    "duration": 8,
    "start_time": "2023-02-05T17:26:01.534Z"
   },
   {
    "duration": 27,
    "start_time": "2023-02-05T17:26:13.867Z"
   },
   {
    "duration": 25,
    "start_time": "2023-02-05T17:26:18.251Z"
   },
   {
    "duration": 24,
    "start_time": "2023-02-05T17:26:21.589Z"
   },
   {
    "duration": 27,
    "start_time": "2023-02-05T17:26:25.103Z"
   },
   {
    "duration": 26,
    "start_time": "2023-02-05T17:27:42.603Z"
   },
   {
    "duration": 28,
    "start_time": "2023-02-05T17:28:41.534Z"
   },
   {
    "duration": 39,
    "start_time": "2023-02-05T17:31:48.846Z"
   },
   {
    "duration": 27,
    "start_time": "2023-02-05T17:32:25.008Z"
   },
   {
    "duration": 22,
    "start_time": "2023-02-05T17:37:46.683Z"
   },
   {
    "duration": 34,
    "start_time": "2023-02-05T17:38:18.080Z"
   },
   {
    "duration": 36,
    "start_time": "2023-02-05T17:38:52.432Z"
   },
   {
    "duration": 26,
    "start_time": "2023-02-05T17:39:18.878Z"
   },
   {
    "duration": 77,
    "start_time": "2023-02-05T17:41:49.889Z"
   },
   {
    "duration": 47,
    "start_time": "2023-02-05T17:42:33.186Z"
   },
   {
    "duration": 94,
    "start_time": "2023-02-05T17:43:12.369Z"
   },
   {
    "duration": 45,
    "start_time": "2023-02-05T17:45:12.559Z"
   },
   {
    "duration": 34,
    "start_time": "2023-02-05T18:20:05.020Z"
   },
   {
    "duration": 28,
    "start_time": "2023-02-05T18:20:42.939Z"
   },
   {
    "duration": 92,
    "start_time": "2023-02-05T18:21:06.270Z"
   },
   {
    "duration": 14,
    "start_time": "2023-02-05T18:21:41.874Z"
   },
   {
    "duration": 36,
    "start_time": "2023-02-05T18:21:53.483Z"
   },
   {
    "duration": 8,
    "start_time": "2023-02-05T18:22:31.332Z"
   },
   {
    "duration": 47,
    "start_time": "2023-02-05T18:23:55.792Z"
   },
   {
    "duration": 213,
    "start_time": "2023-02-05T18:24:03.096Z"
   },
   {
    "duration": 48,
    "start_time": "2023-02-05T18:25:00.895Z"
   },
   {
    "duration": 49,
    "start_time": "2023-02-05T18:25:15.629Z"
   },
   {
    "duration": 215,
    "start_time": "2023-02-05T18:25:22.886Z"
   },
   {
    "duration": 53,
    "start_time": "2023-02-05T18:25:49.027Z"
   },
   {
    "duration": 50,
    "start_time": "2023-02-05T18:25:58.387Z"
   },
   {
    "duration": 48,
    "start_time": "2023-02-05T18:26:17.718Z"
   },
   {
    "duration": 21,
    "start_time": "2023-02-05T18:26:39.787Z"
   },
   {
    "duration": 78,
    "start_time": "2023-02-05T18:26:43.136Z"
   },
   {
    "duration": 29,
    "start_time": "2023-02-05T18:26:54.823Z"
   },
   {
    "duration": 40,
    "start_time": "2023-02-05T18:27:13.102Z"
   },
   {
    "duration": 63,
    "start_time": "2023-02-05T18:27:20.405Z"
   },
   {
    "duration": 26,
    "start_time": "2023-02-05T18:27:51.653Z"
   },
   {
    "duration": 26,
    "start_time": "2023-02-05T18:27:52.996Z"
   },
   {
    "duration": 38,
    "start_time": "2023-02-05T18:29:30.063Z"
   },
   {
    "duration": 15,
    "start_time": "2023-02-05T18:30:23.207Z"
   },
   {
    "duration": 19,
    "start_time": "2023-02-05T18:31:59.108Z"
   },
   {
    "duration": 26,
    "start_time": "2023-02-05T18:41:41.706Z"
   },
   {
    "duration": 16,
    "start_time": "2023-02-05T18:41:47.031Z"
   },
   {
    "duration": 4,
    "start_time": "2023-02-05T19:16:51.281Z"
   },
   {
    "duration": 4,
    "start_time": "2023-02-05T19:17:30.176Z"
   },
   {
    "duration": 3,
    "start_time": "2023-02-05T19:21:33.276Z"
   },
   {
    "duration": 14,
    "start_time": "2023-02-05T19:22:26.300Z"
   },
   {
    "duration": 28,
    "start_time": "2023-02-05T19:22:38.795Z"
   },
   {
    "duration": 4,
    "start_time": "2023-02-05T19:25:07.397Z"
   },
   {
    "duration": 26,
    "start_time": "2023-02-05T19:25:11.803Z"
   },
   {
    "duration": 8,
    "start_time": "2023-02-05T19:25:52.982Z"
   },
   {
    "duration": 27,
    "start_time": "2023-02-05T19:26:49.462Z"
   },
   {
    "duration": 25,
    "start_time": "2023-02-05T19:27:07.869Z"
   },
   {
    "duration": 28,
    "start_time": "2023-02-05T19:27:34.113Z"
   },
   {
    "duration": 45,
    "start_time": "2023-02-05T19:34:36.728Z"
   },
   {
    "duration": 49,
    "start_time": "2023-02-05T19:34:48.656Z"
   },
   {
    "duration": 55,
    "start_time": "2023-02-05T19:35:28.926Z"
   },
   {
    "duration": 50,
    "start_time": "2023-02-06T19:12:42.926Z"
   },
   {
    "duration": 8,
    "start_time": "2023-02-06T19:13:07.844Z"
   },
   {
    "duration": 665,
    "start_time": "2023-02-06T19:13:55.378Z"
   },
   {
    "duration": 26,
    "start_time": "2023-02-06T19:13:57.021Z"
   },
   {
    "duration": 14,
    "start_time": "2023-02-06T19:13:59.921Z"
   },
   {
    "duration": 10,
    "start_time": "2023-02-06T19:14:01.355Z"
   },
   {
    "duration": 33,
    "start_time": "2023-02-06T19:14:01.663Z"
   },
   {
    "duration": 4,
    "start_time": "2023-02-06T19:14:02.122Z"
   },
   {
    "duration": 9,
    "start_time": "2023-02-06T19:14:02.464Z"
   },
   {
    "duration": 5,
    "start_time": "2023-02-06T19:14:03.056Z"
   },
   {
    "duration": 7,
    "start_time": "2023-02-06T19:14:03.454Z"
   },
   {
    "duration": 4,
    "start_time": "2023-02-06T19:14:03.840Z"
   },
   {
    "duration": 35,
    "start_time": "2023-02-06T19:14:04.416Z"
   },
   {
    "duration": 16,
    "start_time": "2023-02-06T19:14:04.816Z"
   },
   {
    "duration": 5,
    "start_time": "2023-02-06T19:14:05.387Z"
   },
   {
    "duration": 11,
    "start_time": "2023-02-06T19:14:06.019Z"
   },
   {
    "duration": 20,
    "start_time": "2023-02-06T19:14:06.449Z"
   },
   {
    "duration": 19,
    "start_time": "2023-02-06T19:14:06.680Z"
   },
   {
    "duration": 4,
    "start_time": "2023-02-06T19:14:07.627Z"
   },
   {
    "duration": 17,
    "start_time": "2023-02-06T19:14:07.633Z"
   },
   {
    "duration": 7,
    "start_time": "2023-02-06T19:14:08.015Z"
   },
   {
    "duration": 4,
    "start_time": "2023-02-06T19:14:08.485Z"
   },
   {
    "duration": 9,
    "start_time": "2023-02-06T19:14:08.714Z"
   },
   {
    "duration": 457,
    "start_time": "2023-02-06T19:14:09.315Z"
   },
   {
    "duration": 32,
    "start_time": "2023-02-06T19:14:10.447Z"
   },
   {
    "duration": 18,
    "start_time": "2023-02-06T19:14:11.272Z"
   },
   {
    "duration": 29,
    "start_time": "2023-02-06T19:14:12.113Z"
   },
   {
    "duration": 32,
    "start_time": "2023-02-06T19:14:13.015Z"
   },
   {
    "duration": 5,
    "start_time": "2023-02-06T19:14:15.909Z"
   },
   {
    "duration": 9,
    "start_time": "2023-02-06T19:14:16.139Z"
   },
   {
    "duration": 34,
    "start_time": "2023-02-06T19:14:16.955Z"
   },
   {
    "duration": 37,
    "start_time": "2023-02-06T19:15:30.123Z"
   },
   {
    "duration": 24,
    "start_time": "2023-02-06T19:15:42.426Z"
   },
   {
    "duration": 31,
    "start_time": "2023-02-06T19:17:39.387Z"
   },
   {
    "duration": 30,
    "start_time": "2023-02-06T19:17:53.724Z"
   },
   {
    "duration": 27,
    "start_time": "2023-02-06T19:18:36.063Z"
   },
   {
    "duration": 32,
    "start_time": "2023-02-06T19:19:44.261Z"
   },
   {
    "duration": 40,
    "start_time": "2023-02-06T19:19:58.336Z"
   },
   {
    "duration": 31,
    "start_time": "2023-02-06T19:20:08.123Z"
   },
   {
    "duration": 17,
    "start_time": "2023-02-06T19:20:53.433Z"
   },
   {
    "duration": 29,
    "start_time": "2023-02-06T19:21:12.720Z"
   },
   {
    "duration": 32,
    "start_time": "2023-02-06T19:21:45.351Z"
   },
   {
    "duration": 16,
    "start_time": "2023-02-06T19:24:55.870Z"
   },
   {
    "duration": 4,
    "start_time": "2023-02-06T19:25:27.751Z"
   },
   {
    "duration": 17,
    "start_time": "2023-02-06T19:25:35.366Z"
   },
   {
    "duration": 19,
    "start_time": "2023-02-06T19:25:54.665Z"
   }
  ],
  "colab": {
   "provenance": []
  },
  "kernelspec": {
   "display_name": "Python 3 (ipykernel)",
   "language": "python",
   "name": "python3"
  },
  "language_info": {
   "codemirror_mode": {
    "name": "ipython",
    "version": 3
   },
   "file_extension": ".py",
   "mimetype": "text/x-python",
   "name": "python",
   "nbconvert_exporter": "python",
   "pygments_lexer": "ipython3",
   "version": "3.9.13"
  },
  "toc": {
   "base_numbering": 1,
   "nav_menu": {},
   "number_sections": true,
   "sideBar": true,
   "skip_h1_title": true,
   "title_cell": "Table of Contents",
   "title_sidebar": "Contents",
   "toc_cell": false,
   "toc_position": {},
   "toc_section_display": true,
   "toc_window_display": true
  }
 },
 "nbformat": 4,
 "nbformat_minor": 5
}
