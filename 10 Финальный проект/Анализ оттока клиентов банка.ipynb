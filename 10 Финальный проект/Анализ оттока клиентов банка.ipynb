{
 "cells": [
  {
   "cell_type": "markdown",
   "metadata": {},
   "source": [
    "# Финальный проект: Банки — Анализ оттока клиентов."
   ]
  },
  {
   "cell_type": "markdown",
   "metadata": {},
   "source": [
    "**Описание проекта:**\n",
    "\n",
    "Нашей главной задачей станет анализ оттока клиентов. Анализ покажет, какие клиенты уходят из банка, а так же поможет нам составить сегменты клиентов, которые склонны уходить из банка.\n",
    "«Метанпромбанк» — деньги не пахнут!"
   ]
  },
  {
   "cell_type": "markdown",
   "metadata": {},
   "source": [
    "**Описание данных:**\n",
    "\n",
    "Датасет содержит данные о клиентах банка «Метанпром». Банк располагается в\n",
    "Ярославле и областных городах: Ростов Великий и Рыбинск.\n",
    "\n",
    "- USERID - идентификатор пользователя\n",
    "- score - баллы кредитного скоринга\n",
    "- city - город\n",
    "- gender - пол\n",
    "- age - возраст\n",
    "- equity - количество баллов собственности\t\n",
    "- balance - баланс на счете\t\n",
    "- products - количество продуктов, которыми пользуется клиент\n",
    "- credit_card - есть ли кредитная карта\n",
    "- last_activity - активный клиент\n",
    "- EST_SALARY - заработная плата клиента\n",
    "- churn - ушёл или нет"
   ]
  },
  {
   "cell_type": "markdown",
   "metadata": {},
   "source": [
    "**Декомпозиция:**\n",
    "\n",
    "- Шаг 1. Откройте файл с данными и изучите общую информацию; \n",
    "    Заменить названия столбцов;\n",
    "    Проверить и проанализировать пропуски и возможные причины их появления;  \n",
    "    Проверить на наличие дубликатов;\n",
    "    Кодирование данных для возможности определения средних и медианных значений.\n",
    "- Шаг 2. Исследовательский анализ данных:\n",
    "    сравнить портреты типичных клиентов;\n",
    "    корреляционный анализ.\n",
    "    определить все значимые признаки отточности;\n",
    "- Шаг 3. Проверка статистических гипотез:\n",
    "    Проверить гипотезу различия дохода между теми клиентами, которые\n",
    "    ушли и теми, которые остались;\n",
    "    Сформулировать и проверить статистическую гипотезу относительно\n",
    "    представленных данных, которая поможет внести ясность в исследование.\n",
    "- Шаг 4. Промежуточные выводы, с показателями влияющими на отток клиентов.\n",
    "- Шаг 5. Сформировать сегменты с высокой отточностью (более 30% и выше) в небольших группах (500-600 клиенторв) и приотизировать их.\n",
    "- Шаг 6. По приеоритетным сегментам составить рекомендации для отдела маркетинга."
   ]
  },
  {
   "cell_type": "markdown",
   "metadata": {},
   "source": [
    "## 1 Шаг. Откройте файл с данными и изучите общую информацию"
   ]
  },
  {
   "cell_type": "code",
   "execution_count": 1,
   "metadata": {},
   "outputs": [],
   "source": [
    "# импортируем библиотеки \n",
    "import pandas as pd\n",
    "!pip install phik  --quiet \n",
    "import phik\n",
    "from phik.report import plot_correlation_matrix\n",
    "from phik import report\n",
    "import matplotlib.pyplot as plt\n",
    "import seaborn as sns\n",
    "from scipy import stats as st"
   ]
  },
  {
   "cell_type": "markdown",
   "metadata": {},
   "source": [
    "Сохранем данные в переменную data_1 и посмотрим информацию о датасете и сам датасет:"
   ]
  },
  {
   "cell_type": "code",
   "execution_count": 2,
   "metadata": {},
   "outputs": [
    {
     "data": {
      "text/html": [
       "<div>\n",
       "<style scoped>\n",
       "    .dataframe tbody tr th:only-of-type {\n",
       "        vertical-align: middle;\n",
       "    }\n",
       "\n",
       "    .dataframe tbody tr th {\n",
       "        vertical-align: top;\n",
       "    }\n",
       "\n",
       "    .dataframe thead th {\n",
       "        text-align: right;\n",
       "    }\n",
       "</style>\n",
       "<table border=\"1\" class=\"dataframe\">\n",
       "  <thead>\n",
       "    <tr style=\"text-align: right;\">\n",
       "      <th></th>\n",
       "      <th>USERID</th>\n",
       "      <th>score</th>\n",
       "      <th>city</th>\n",
       "      <th>gender</th>\n",
       "      <th>age</th>\n",
       "      <th>equity</th>\n",
       "      <th>balance</th>\n",
       "      <th>products</th>\n",
       "      <th>credit_card</th>\n",
       "      <th>last_activity</th>\n",
       "      <th>EST_SALARY</th>\n",
       "      <th>churn</th>\n",
       "    </tr>\n",
       "  </thead>\n",
       "  <tbody>\n",
       "    <tr>\n",
       "      <th>0</th>\n",
       "      <td>183012</td>\n",
       "      <td>850.0</td>\n",
       "      <td>Рыбинск</td>\n",
       "      <td>Ж</td>\n",
       "      <td>25.0</td>\n",
       "      <td>1</td>\n",
       "      <td>59214.82</td>\n",
       "      <td>2</td>\n",
       "      <td>0</td>\n",
       "      <td>1</td>\n",
       "      <td>75719.14</td>\n",
       "      <td>1</td>\n",
       "    </tr>\n",
       "    <tr>\n",
       "      <th>1</th>\n",
       "      <td>146556</td>\n",
       "      <td>861.0</td>\n",
       "      <td>Рыбинск</td>\n",
       "      <td>Ж</td>\n",
       "      <td>37.0</td>\n",
       "      <td>5</td>\n",
       "      <td>850594.33</td>\n",
       "      <td>3</td>\n",
       "      <td>1</td>\n",
       "      <td>0</td>\n",
       "      <td>86621.77</td>\n",
       "      <td>0</td>\n",
       "    </tr>\n",
       "    <tr>\n",
       "      <th>2</th>\n",
       "      <td>120722</td>\n",
       "      <td>892.0</td>\n",
       "      <td>Рыбинск</td>\n",
       "      <td>Ж</td>\n",
       "      <td>30.0</td>\n",
       "      <td>0</td>\n",
       "      <td>NaN</td>\n",
       "      <td>1</td>\n",
       "      <td>1</td>\n",
       "      <td>1</td>\n",
       "      <td>107683.34</td>\n",
       "      <td>0</td>\n",
       "    </tr>\n",
       "    <tr>\n",
       "      <th>3</th>\n",
       "      <td>225363</td>\n",
       "      <td>866.0</td>\n",
       "      <td>Ярославль</td>\n",
       "      <td>Ж</td>\n",
       "      <td>51.0</td>\n",
       "      <td>5</td>\n",
       "      <td>1524746.26</td>\n",
       "      <td>2</td>\n",
       "      <td>0</td>\n",
       "      <td>1</td>\n",
       "      <td>174423.53</td>\n",
       "      <td>1</td>\n",
       "    </tr>\n",
       "    <tr>\n",
       "      <th>4</th>\n",
       "      <td>157978</td>\n",
       "      <td>730.0</td>\n",
       "      <td>Ярославль</td>\n",
       "      <td>М</td>\n",
       "      <td>34.0</td>\n",
       "      <td>5</td>\n",
       "      <td>174.00</td>\n",
       "      <td>1</td>\n",
       "      <td>1</td>\n",
       "      <td>0</td>\n",
       "      <td>67353.16</td>\n",
       "      <td>1</td>\n",
       "    </tr>\n",
       "    <tr>\n",
       "      <th>5</th>\n",
       "      <td>202305</td>\n",
       "      <td>856.0</td>\n",
       "      <td>Рыбинск</td>\n",
       "      <td>М</td>\n",
       "      <td>56.0</td>\n",
       "      <td>4</td>\n",
       "      <td>863687.24</td>\n",
       "      <td>3</td>\n",
       "      <td>1</td>\n",
       "      <td>0</td>\n",
       "      <td>156619.80</td>\n",
       "      <td>0</td>\n",
       "    </tr>\n",
       "    <tr>\n",
       "      <th>6</th>\n",
       "      <td>177259</td>\n",
       "      <td>807.0</td>\n",
       "      <td>Ярославль</td>\n",
       "      <td>Ж</td>\n",
       "      <td>39.0</td>\n",
       "      <td>3</td>\n",
       "      <td>405042.44</td>\n",
       "      <td>3</td>\n",
       "      <td>0</td>\n",
       "      <td>1</td>\n",
       "      <td>103838.32</td>\n",
       "      <td>0</td>\n",
       "    </tr>\n",
       "    <tr>\n",
       "      <th>7</th>\n",
       "      <td>218868</td>\n",
       "      <td>825.0</td>\n",
       "      <td>Ярославль</td>\n",
       "      <td>Ж</td>\n",
       "      <td>38.0</td>\n",
       "      <td>4</td>\n",
       "      <td>458145.40</td>\n",
       "      <td>2</td>\n",
       "      <td>1</td>\n",
       "      <td>1</td>\n",
       "      <td>68085.48</td>\n",
       "      <td>0</td>\n",
       "    </tr>\n",
       "    <tr>\n",
       "      <th>8</th>\n",
       "      <td>211686</td>\n",
       "      <td>923.0</td>\n",
       "      <td>Ярославль</td>\n",
       "      <td>М</td>\n",
       "      <td>54.0</td>\n",
       "      <td>5</td>\n",
       "      <td>1206337.87</td>\n",
       "      <td>2</td>\n",
       "      <td>1</td>\n",
       "      <td>0</td>\n",
       "      <td>155371.79</td>\n",
       "      <td>0</td>\n",
       "    </tr>\n",
       "    <tr>\n",
       "      <th>9</th>\n",
       "      <td>133130</td>\n",
       "      <td>906.0</td>\n",
       "      <td>Ярославль</td>\n",
       "      <td>Ж</td>\n",
       "      <td>67.0</td>\n",
       "      <td>0</td>\n",
       "      <td>NaN</td>\n",
       "      <td>1</td>\n",
       "      <td>0</td>\n",
       "      <td>1</td>\n",
       "      <td>238055.53</td>\n",
       "      <td>0</td>\n",
       "    </tr>\n",
       "  </tbody>\n",
       "</table>\n",
       "</div>"
      ],
      "text/plain": [
       "   USERID  score       city gender   age  equity     balance  products  \\\n",
       "0  183012  850.0    Рыбинск      Ж  25.0       1    59214.82         2   \n",
       "1  146556  861.0    Рыбинск      Ж  37.0       5   850594.33         3   \n",
       "2  120722  892.0    Рыбинск      Ж  30.0       0         NaN         1   \n",
       "3  225363  866.0  Ярославль      Ж  51.0       5  1524746.26         2   \n",
       "4  157978  730.0  Ярославль      М  34.0       5      174.00         1   \n",
       "5  202305  856.0    Рыбинск      М  56.0       4   863687.24         3   \n",
       "6  177259  807.0  Ярославль      Ж  39.0       3   405042.44         3   \n",
       "7  218868  825.0  Ярославль      Ж  38.0       4   458145.40         2   \n",
       "8  211686  923.0  Ярославль      М  54.0       5  1206337.87         2   \n",
       "9  133130  906.0  Ярославль      Ж  67.0       0         NaN         1   \n",
       "\n",
       "   credit_card  last_activity  EST_SALARY  churn  \n",
       "0            0              1    75719.14      1  \n",
       "1            1              0    86621.77      0  \n",
       "2            1              1   107683.34      0  \n",
       "3            0              1   174423.53      1  \n",
       "4            1              0    67353.16      1  \n",
       "5            1              0   156619.80      0  \n",
       "6            0              1   103838.32      0  \n",
       "7            1              1    68085.48      0  \n",
       "8            1              0   155371.79      0  \n",
       "9            0              1   238055.53      0  "
      ]
     },
     "execution_count": 2,
     "metadata": {},
     "output_type": "execute_result"
    }
   ],
   "source": [
    "data_1 = pd.read_csv('https://code.s3.yandex.net/datasets/bank_scrooge.csv')\n",
    "data_1.head(10)"
   ]
  },
  {
   "cell_type": "code",
   "execution_count": 3,
   "metadata": {},
   "outputs": [
    {
     "name": "stdout",
     "output_type": "stream",
     "text": [
      "<class 'pandas.core.frame.DataFrame'>\n",
      "RangeIndex: 10000 entries, 0 to 9999\n",
      "Data columns (total 12 columns):\n",
      " #   Column         Non-Null Count  Dtype  \n",
      "---  ------         --------------  -----  \n",
      " 0   USERID         10000 non-null  int64  \n",
      " 1   score          10000 non-null  float64\n",
      " 2   city           10000 non-null  object \n",
      " 3   gender         10000 non-null  object \n",
      " 4   age            9974 non-null   float64\n",
      " 5   equity         10000 non-null  int64  \n",
      " 6   balance        7705 non-null   float64\n",
      " 7   products       10000 non-null  int64  \n",
      " 8   credit_card    10000 non-null  int64  \n",
      " 9   last_activity  10000 non-null  int64  \n",
      " 10  EST_SALARY     10000 non-null  float64\n",
      " 11  churn          10000 non-null  int64  \n",
      "dtypes: float64(4), int64(6), object(2)\n",
      "memory usage: 937.6+ KB\n"
     ]
    }
   ],
   "source": [
    "data_1.info()"
   ]
  },
  {
   "cell_type": "markdown",
   "metadata": {},
   "source": [
    "Приведем названия столбцов к нижнему регистру: "
   ]
  },
  {
   "cell_type": "code",
   "execution_count": 4,
   "metadata": {},
   "outputs": [],
   "source": [
    "data_1.columns = data_1.columns.str.lower()"
   ]
  },
  {
   "cell_type": "markdown",
   "metadata": {},
   "source": [
    "Изменим столбец с гендерным признаком на бинарный тип: М - 1, Ж - 0:"
   ]
  },
  {
   "cell_type": "code",
   "execution_count": 5,
   "metadata": {},
   "outputs": [],
   "source": [
    "data = pd.get_dummies (data_1, columns=['gender'], drop_first= True )   "
   ]
  },
  {
   "cell_type": "markdown",
   "metadata": {},
   "source": [
    "Создадим столбцы с городами приведенные к бинарному типу:"
   ]
  },
  {
   "cell_type": "code",
   "execution_count": 6,
   "metadata": {},
   "outputs": [
    {
     "data": {
      "text/html": [
       "<div>\n",
       "<style scoped>\n",
       "    .dataframe tbody tr th:only-of-type {\n",
       "        vertical-align: middle;\n",
       "    }\n",
       "\n",
       "    .dataframe tbody tr th {\n",
       "        vertical-align: top;\n",
       "    }\n",
       "\n",
       "    .dataframe thead th {\n",
       "        text-align: right;\n",
       "    }\n",
       "</style>\n",
       "<table border=\"1\" class=\"dataframe\">\n",
       "  <thead>\n",
       "    <tr style=\"text-align: right;\">\n",
       "      <th></th>\n",
       "      <th>userid</th>\n",
       "      <th>score</th>\n",
       "      <th>age</th>\n",
       "      <th>equity</th>\n",
       "      <th>balance</th>\n",
       "      <th>products</th>\n",
       "      <th>credit_card</th>\n",
       "      <th>last_activity</th>\n",
       "      <th>est_salary</th>\n",
       "      <th>churn</th>\n",
       "      <th>gender_М</th>\n",
       "      <th>Ростов</th>\n",
       "      <th>Рыбинск</th>\n",
       "      <th>Ярославль</th>\n",
       "    </tr>\n",
       "  </thead>\n",
       "  <tbody>\n",
       "    <tr>\n",
       "      <th>0</th>\n",
       "      <td>183012</td>\n",
       "      <td>850.0</td>\n",
       "      <td>25.0</td>\n",
       "      <td>1</td>\n",
       "      <td>59214.82</td>\n",
       "      <td>2</td>\n",
       "      <td>0</td>\n",
       "      <td>1</td>\n",
       "      <td>75719.14</td>\n",
       "      <td>1</td>\n",
       "      <td>0</td>\n",
       "      <td>0</td>\n",
       "      <td>1</td>\n",
       "      <td>0</td>\n",
       "    </tr>\n",
       "    <tr>\n",
       "      <th>1</th>\n",
       "      <td>146556</td>\n",
       "      <td>861.0</td>\n",
       "      <td>37.0</td>\n",
       "      <td>5</td>\n",
       "      <td>850594.33</td>\n",
       "      <td>3</td>\n",
       "      <td>1</td>\n",
       "      <td>0</td>\n",
       "      <td>86621.77</td>\n",
       "      <td>0</td>\n",
       "      <td>0</td>\n",
       "      <td>0</td>\n",
       "      <td>1</td>\n",
       "      <td>0</td>\n",
       "    </tr>\n",
       "    <tr>\n",
       "      <th>2</th>\n",
       "      <td>120722</td>\n",
       "      <td>892.0</td>\n",
       "      <td>30.0</td>\n",
       "      <td>0</td>\n",
       "      <td>NaN</td>\n",
       "      <td>1</td>\n",
       "      <td>1</td>\n",
       "      <td>1</td>\n",
       "      <td>107683.34</td>\n",
       "      <td>0</td>\n",
       "      <td>0</td>\n",
       "      <td>0</td>\n",
       "      <td>1</td>\n",
       "      <td>0</td>\n",
       "    </tr>\n",
       "    <tr>\n",
       "      <th>3</th>\n",
       "      <td>225363</td>\n",
       "      <td>866.0</td>\n",
       "      <td>51.0</td>\n",
       "      <td>5</td>\n",
       "      <td>1524746.26</td>\n",
       "      <td>2</td>\n",
       "      <td>0</td>\n",
       "      <td>1</td>\n",
       "      <td>174423.53</td>\n",
       "      <td>1</td>\n",
       "      <td>0</td>\n",
       "      <td>0</td>\n",
       "      <td>0</td>\n",
       "      <td>1</td>\n",
       "    </tr>\n",
       "    <tr>\n",
       "      <th>4</th>\n",
       "      <td>157978</td>\n",
       "      <td>730.0</td>\n",
       "      <td>34.0</td>\n",
       "      <td>5</td>\n",
       "      <td>174.00</td>\n",
       "      <td>1</td>\n",
       "      <td>1</td>\n",
       "      <td>0</td>\n",
       "      <td>67353.16</td>\n",
       "      <td>1</td>\n",
       "      <td>1</td>\n",
       "      <td>0</td>\n",
       "      <td>0</td>\n",
       "      <td>1</td>\n",
       "    </tr>\n",
       "    <tr>\n",
       "      <th>5</th>\n",
       "      <td>202305</td>\n",
       "      <td>856.0</td>\n",
       "      <td>56.0</td>\n",
       "      <td>4</td>\n",
       "      <td>863687.24</td>\n",
       "      <td>3</td>\n",
       "      <td>1</td>\n",
       "      <td>0</td>\n",
       "      <td>156619.80</td>\n",
       "      <td>0</td>\n",
       "      <td>1</td>\n",
       "      <td>0</td>\n",
       "      <td>1</td>\n",
       "      <td>0</td>\n",
       "    </tr>\n",
       "    <tr>\n",
       "      <th>6</th>\n",
       "      <td>177259</td>\n",
       "      <td>807.0</td>\n",
       "      <td>39.0</td>\n",
       "      <td>3</td>\n",
       "      <td>405042.44</td>\n",
       "      <td>3</td>\n",
       "      <td>0</td>\n",
       "      <td>1</td>\n",
       "      <td>103838.32</td>\n",
       "      <td>0</td>\n",
       "      <td>0</td>\n",
       "      <td>0</td>\n",
       "      <td>0</td>\n",
       "      <td>1</td>\n",
       "    </tr>\n",
       "    <tr>\n",
       "      <th>7</th>\n",
       "      <td>218868</td>\n",
       "      <td>825.0</td>\n",
       "      <td>38.0</td>\n",
       "      <td>4</td>\n",
       "      <td>458145.40</td>\n",
       "      <td>2</td>\n",
       "      <td>1</td>\n",
       "      <td>1</td>\n",
       "      <td>68085.48</td>\n",
       "      <td>0</td>\n",
       "      <td>0</td>\n",
       "      <td>0</td>\n",
       "      <td>0</td>\n",
       "      <td>1</td>\n",
       "    </tr>\n",
       "    <tr>\n",
       "      <th>8</th>\n",
       "      <td>211686</td>\n",
       "      <td>923.0</td>\n",
       "      <td>54.0</td>\n",
       "      <td>5</td>\n",
       "      <td>1206337.87</td>\n",
       "      <td>2</td>\n",
       "      <td>1</td>\n",
       "      <td>0</td>\n",
       "      <td>155371.79</td>\n",
       "      <td>0</td>\n",
       "      <td>1</td>\n",
       "      <td>0</td>\n",
       "      <td>0</td>\n",
       "      <td>1</td>\n",
       "    </tr>\n",
       "    <tr>\n",
       "      <th>9</th>\n",
       "      <td>133130</td>\n",
       "      <td>906.0</td>\n",
       "      <td>67.0</td>\n",
       "      <td>0</td>\n",
       "      <td>NaN</td>\n",
       "      <td>1</td>\n",
       "      <td>0</td>\n",
       "      <td>1</td>\n",
       "      <td>238055.53</td>\n",
       "      <td>0</td>\n",
       "      <td>0</td>\n",
       "      <td>0</td>\n",
       "      <td>0</td>\n",
       "      <td>1</td>\n",
       "    </tr>\n",
       "  </tbody>\n",
       "</table>\n",
       "</div>"
      ],
      "text/plain": [
       "   userid  score   age  equity     balance  products  credit_card  \\\n",
       "0  183012  850.0  25.0       1    59214.82         2            0   \n",
       "1  146556  861.0  37.0       5   850594.33         3            1   \n",
       "2  120722  892.0  30.0       0         NaN         1            1   \n",
       "3  225363  866.0  51.0       5  1524746.26         2            0   \n",
       "4  157978  730.0  34.0       5      174.00         1            1   \n",
       "5  202305  856.0  56.0       4   863687.24         3            1   \n",
       "6  177259  807.0  39.0       3   405042.44         3            0   \n",
       "7  218868  825.0  38.0       4   458145.40         2            1   \n",
       "8  211686  923.0  54.0       5  1206337.87         2            1   \n",
       "9  133130  906.0  67.0       0         NaN         1            0   \n",
       "\n",
       "   last_activity  est_salary  churn  gender_М  Ростов  Рыбинск  Ярославль  \n",
       "0              1    75719.14      1         0       0        1          0  \n",
       "1              0    86621.77      0         0       0        1          0  \n",
       "2              1   107683.34      0         0       0        1          0  \n",
       "3              1   174423.53      1         0       0        0          1  \n",
       "4              0    67353.16      1         1       0        0          1  \n",
       "5              0   156619.80      0         1       0        1          0  \n",
       "6              1   103838.32      0         0       0        0          1  \n",
       "7              1    68085.48      0         0       0        0          1  \n",
       "8              0   155371.79      0         1       0        0          1  \n",
       "9              1   238055.53      0         0       0        0          1  "
      ]
     },
     "execution_count": 6,
     "metadata": {},
     "output_type": "execute_result"
    }
   ],
   "source": [
    "data = pd.get_dummies(data, columns=['city'])\n",
    "data = data.rename(columns={'city_Ростов':'Ростов', 'city_Рыбинск':'Рыбинск', 'city_Ярославль':'Ярославль'})\n",
    "data.head(10)"
   ]
  },
  {
   "cell_type": "markdown",
   "metadata": {},
   "source": [
    "Посмотрим количество пропусков:"
   ]
  },
  {
   "cell_type": "code",
   "execution_count": 7,
   "metadata": {},
   "outputs": [
    {
     "data": {
      "text/plain": [
       "userid              0\n",
       "score               0\n",
       "age                26\n",
       "equity              0\n",
       "balance          2295\n",
       "products            0\n",
       "credit_card         0\n",
       "last_activity       0\n",
       "est_salary          0\n",
       "churn               0\n",
       "gender_М            0\n",
       "Ростов              0\n",
       "Рыбинск             0\n",
       "Ярославль           0\n",
       "dtype: int64"
      ]
     },
     "execution_count": 7,
     "metadata": {},
     "output_type": "execute_result"
    }
   ],
   "source": [
    "data.isna().sum()"
   ]
  },
  {
   "cell_type": "markdown",
   "metadata": {},
   "source": [
    "Ввиду небольшого количества пропусков в столбце с возрастом, посмотрим их все:"
   ]
  },
  {
   "cell_type": "code",
   "execution_count": 8,
   "metadata": {},
   "outputs": [
    {
     "data": {
      "text/html": [
       "<div>\n",
       "<style scoped>\n",
       "    .dataframe tbody tr th:only-of-type {\n",
       "        vertical-align: middle;\n",
       "    }\n",
       "\n",
       "    .dataframe tbody tr th {\n",
       "        vertical-align: top;\n",
       "    }\n",
       "\n",
       "    .dataframe thead th {\n",
       "        text-align: right;\n",
       "    }\n",
       "</style>\n",
       "<table border=\"1\" class=\"dataframe\">\n",
       "  <thead>\n",
       "    <tr style=\"text-align: right;\">\n",
       "      <th></th>\n",
       "      <th>userid</th>\n",
       "      <th>score</th>\n",
       "      <th>age</th>\n",
       "      <th>equity</th>\n",
       "      <th>balance</th>\n",
       "      <th>products</th>\n",
       "      <th>credit_card</th>\n",
       "      <th>last_activity</th>\n",
       "      <th>est_salary</th>\n",
       "      <th>churn</th>\n",
       "      <th>gender_М</th>\n",
       "      <th>Ростов</th>\n",
       "      <th>Рыбинск</th>\n",
       "      <th>Ярославль</th>\n",
       "    </tr>\n",
       "  </thead>\n",
       "  <tbody>\n",
       "    <tr>\n",
       "      <th>1247</th>\n",
       "      <td>228075</td>\n",
       "      <td>932.0</td>\n",
       "      <td>NaN</td>\n",
       "      <td>5</td>\n",
       "      <td>7601719.20</td>\n",
       "      <td>2</td>\n",
       "      <td>1</td>\n",
       "      <td>1</td>\n",
       "      <td>408121.16</td>\n",
       "      <td>0</td>\n",
       "      <td>1</td>\n",
       "      <td>0</td>\n",
       "      <td>0</td>\n",
       "      <td>1</td>\n",
       "    </tr>\n",
       "    <tr>\n",
       "      <th>2165</th>\n",
       "      <td>187635</td>\n",
       "      <td>692.0</td>\n",
       "      <td>NaN</td>\n",
       "      <td>0</td>\n",
       "      <td>NaN</td>\n",
       "      <td>1</td>\n",
       "      <td>1</td>\n",
       "      <td>1</td>\n",
       "      <td>160368.82</td>\n",
       "      <td>0</td>\n",
       "      <td>0</td>\n",
       "      <td>0</td>\n",
       "      <td>1</td>\n",
       "      <td>0</td>\n",
       "    </tr>\n",
       "    <tr>\n",
       "      <th>2444</th>\n",
       "      <td>221156</td>\n",
       "      <td>913.0</td>\n",
       "      <td>NaN</td>\n",
       "      <td>0</td>\n",
       "      <td>NaN</td>\n",
       "      <td>1</td>\n",
       "      <td>1</td>\n",
       "      <td>1</td>\n",
       "      <td>135693.24</td>\n",
       "      <td>0</td>\n",
       "      <td>1</td>\n",
       "      <td>0</td>\n",
       "      <td>0</td>\n",
       "      <td>1</td>\n",
       "    </tr>\n",
       "    <tr>\n",
       "      <th>3091</th>\n",
       "      <td>138660</td>\n",
       "      <td>836.0</td>\n",
       "      <td>NaN</td>\n",
       "      <td>5</td>\n",
       "      <td>294315.53</td>\n",
       "      <td>2</td>\n",
       "      <td>0</td>\n",
       "      <td>1</td>\n",
       "      <td>63310.22</td>\n",
       "      <td>1</td>\n",
       "      <td>0</td>\n",
       "      <td>1</td>\n",
       "      <td>0</td>\n",
       "      <td>0</td>\n",
       "    </tr>\n",
       "    <tr>\n",
       "      <th>4912</th>\n",
       "      <td>210674</td>\n",
       "      <td>834.0</td>\n",
       "      <td>NaN</td>\n",
       "      <td>1</td>\n",
       "      <td>238330.52</td>\n",
       "      <td>2</td>\n",
       "      <td>0</td>\n",
       "      <td>1</td>\n",
       "      <td>93775.06</td>\n",
       "      <td>0</td>\n",
       "      <td>1</td>\n",
       "      <td>0</td>\n",
       "      <td>1</td>\n",
       "      <td>0</td>\n",
       "    </tr>\n",
       "    <tr>\n",
       "      <th>5470</th>\n",
       "      <td>218868</td>\n",
       "      <td>827.0</td>\n",
       "      <td>NaN</td>\n",
       "      <td>4</td>\n",
       "      <td>448959.07</td>\n",
       "      <td>2</td>\n",
       "      <td>1</td>\n",
       "      <td>1</td>\n",
       "      <td>67835.95</td>\n",
       "      <td>0</td>\n",
       "      <td>0</td>\n",
       "      <td>0</td>\n",
       "      <td>1</td>\n",
       "      <td>0</td>\n",
       "    </tr>\n",
       "    <tr>\n",
       "      <th>5495</th>\n",
       "      <td>151662</td>\n",
       "      <td>884.0</td>\n",
       "      <td>NaN</td>\n",
       "      <td>0</td>\n",
       "      <td>NaN</td>\n",
       "      <td>1</td>\n",
       "      <td>1</td>\n",
       "      <td>1</td>\n",
       "      <td>137500.77</td>\n",
       "      <td>0</td>\n",
       "      <td>0</td>\n",
       "      <td>0</td>\n",
       "      <td>1</td>\n",
       "      <td>0</td>\n",
       "    </tr>\n",
       "    <tr>\n",
       "      <th>7236</th>\n",
       "      <td>210135</td>\n",
       "      <td>908.0</td>\n",
       "      <td>NaN</td>\n",
       "      <td>4</td>\n",
       "      <td>1120340.31</td>\n",
       "      <td>3</td>\n",
       "      <td>1</td>\n",
       "      <td>1</td>\n",
       "      <td>85002.15</td>\n",
       "      <td>0</td>\n",
       "      <td>0</td>\n",
       "      <td>0</td>\n",
       "      <td>1</td>\n",
       "      <td>0</td>\n",
       "    </tr>\n",
       "    <tr>\n",
       "      <th>7248</th>\n",
       "      <td>219343</td>\n",
       "      <td>920.0</td>\n",
       "      <td>NaN</td>\n",
       "      <td>0</td>\n",
       "      <td>NaN</td>\n",
       "      <td>1</td>\n",
       "      <td>1</td>\n",
       "      <td>0</td>\n",
       "      <td>159248.67</td>\n",
       "      <td>0</td>\n",
       "      <td>0</td>\n",
       "      <td>0</td>\n",
       "      <td>1</td>\n",
       "      <td>0</td>\n",
       "    </tr>\n",
       "    <tr>\n",
       "      <th>7345</th>\n",
       "      <td>184913</td>\n",
       "      <td>829.0</td>\n",
       "      <td>NaN</td>\n",
       "      <td>3</td>\n",
       "      <td>188648.77</td>\n",
       "      <td>2</td>\n",
       "      <td>0</td>\n",
       "      <td>1</td>\n",
       "      <td>75206.90</td>\n",
       "      <td>0</td>\n",
       "      <td>0</td>\n",
       "      <td>0</td>\n",
       "      <td>0</td>\n",
       "      <td>1</td>\n",
       "    </tr>\n",
       "    <tr>\n",
       "      <th>7409</th>\n",
       "      <td>214031</td>\n",
       "      <td>777.0</td>\n",
       "      <td>NaN</td>\n",
       "      <td>2</td>\n",
       "      <td>171510.23</td>\n",
       "      <td>1</td>\n",
       "      <td>1</td>\n",
       "      <td>1</td>\n",
       "      <td>75409.63</td>\n",
       "      <td>0</td>\n",
       "      <td>1</td>\n",
       "      <td>0</td>\n",
       "      <td>0</td>\n",
       "      <td>1</td>\n",
       "    </tr>\n",
       "    <tr>\n",
       "      <th>8015</th>\n",
       "      <td>198635</td>\n",
       "      <td>670.0</td>\n",
       "      <td>NaN</td>\n",
       "      <td>0</td>\n",
       "      <td>NaN</td>\n",
       "      <td>1</td>\n",
       "      <td>1</td>\n",
       "      <td>1</td>\n",
       "      <td>168699.33</td>\n",
       "      <td>0</td>\n",
       "      <td>0</td>\n",
       "      <td>0</td>\n",
       "      <td>0</td>\n",
       "      <td>1</td>\n",
       "    </tr>\n",
       "    <tr>\n",
       "      <th>8070</th>\n",
       "      <td>226550</td>\n",
       "      <td>940.0</td>\n",
       "      <td>NaN</td>\n",
       "      <td>0</td>\n",
       "      <td>NaN</td>\n",
       "      <td>1</td>\n",
       "      <td>0</td>\n",
       "      <td>1</td>\n",
       "      <td>147696.95</td>\n",
       "      <td>0</td>\n",
       "      <td>1</td>\n",
       "      <td>0</td>\n",
       "      <td>1</td>\n",
       "      <td>0</td>\n",
       "    </tr>\n",
       "    <tr>\n",
       "      <th>8293</th>\n",
       "      <td>216848</td>\n",
       "      <td>930.0</td>\n",
       "      <td>NaN</td>\n",
       "      <td>0</td>\n",
       "      <td>NaN</td>\n",
       "      <td>1</td>\n",
       "      <td>1</td>\n",
       "      <td>1</td>\n",
       "      <td>199542.51</td>\n",
       "      <td>0</td>\n",
       "      <td>1</td>\n",
       "      <td>0</td>\n",
       "      <td>0</td>\n",
       "      <td>1</td>\n",
       "    </tr>\n",
       "    <tr>\n",
       "      <th>8385</th>\n",
       "      <td>206759</td>\n",
       "      <td>915.0</td>\n",
       "      <td>NaN</td>\n",
       "      <td>0</td>\n",
       "      <td>NaN</td>\n",
       "      <td>1</td>\n",
       "      <td>1</td>\n",
       "      <td>0</td>\n",
       "      <td>71179.53</td>\n",
       "      <td>0</td>\n",
       "      <td>1</td>\n",
       "      <td>0</td>\n",
       "      <td>1</td>\n",
       "      <td>0</td>\n",
       "    </tr>\n",
       "    <tr>\n",
       "      <th>8449</th>\n",
       "      <td>210898</td>\n",
       "      <td>805.0</td>\n",
       "      <td>NaN</td>\n",
       "      <td>0</td>\n",
       "      <td>NaN</td>\n",
       "      <td>1</td>\n",
       "      <td>0</td>\n",
       "      <td>1</td>\n",
       "      <td>922080.25</td>\n",
       "      <td>0</td>\n",
       "      <td>0</td>\n",
       "      <td>0</td>\n",
       "      <td>0</td>\n",
       "      <td>1</td>\n",
       "    </tr>\n",
       "    <tr>\n",
       "      <th>8632</th>\n",
       "      <td>221197</td>\n",
       "      <td>893.0</td>\n",
       "      <td>NaN</td>\n",
       "      <td>0</td>\n",
       "      <td>NaN</td>\n",
       "      <td>1</td>\n",
       "      <td>1</td>\n",
       "      <td>0</td>\n",
       "      <td>173929.92</td>\n",
       "      <td>0</td>\n",
       "      <td>1</td>\n",
       "      <td>0</td>\n",
       "      <td>0</td>\n",
       "      <td>1</td>\n",
       "    </tr>\n",
       "    <tr>\n",
       "      <th>8785</th>\n",
       "      <td>127440</td>\n",
       "      <td>663.0</td>\n",
       "      <td>NaN</td>\n",
       "      <td>0</td>\n",
       "      <td>NaN</td>\n",
       "      <td>1</td>\n",
       "      <td>1</td>\n",
       "      <td>1</td>\n",
       "      <td>117197.56</td>\n",
       "      <td>0</td>\n",
       "      <td>1</td>\n",
       "      <td>0</td>\n",
       "      <td>0</td>\n",
       "      <td>1</td>\n",
       "    </tr>\n",
       "    <tr>\n",
       "      <th>9104</th>\n",
       "      <td>222480</td>\n",
       "      <td>776.0</td>\n",
       "      <td>NaN</td>\n",
       "      <td>5</td>\n",
       "      <td>796735.09</td>\n",
       "      <td>1</td>\n",
       "      <td>1</td>\n",
       "      <td>1</td>\n",
       "      <td>55073.63</td>\n",
       "      <td>0</td>\n",
       "      <td>0</td>\n",
       "      <td>0</td>\n",
       "      <td>1</td>\n",
       "      <td>0</td>\n",
       "    </tr>\n",
       "    <tr>\n",
       "      <th>9301</th>\n",
       "      <td>202983</td>\n",
       "      <td>942.0</td>\n",
       "      <td>NaN</td>\n",
       "      <td>0</td>\n",
       "      <td>NaN</td>\n",
       "      <td>1</td>\n",
       "      <td>1</td>\n",
       "      <td>1</td>\n",
       "      <td>163804.73</td>\n",
       "      <td>0</td>\n",
       "      <td>0</td>\n",
       "      <td>0</td>\n",
       "      <td>1</td>\n",
       "      <td>0</td>\n",
       "    </tr>\n",
       "    <tr>\n",
       "      <th>9380</th>\n",
       "      <td>187459</td>\n",
       "      <td>894.0</td>\n",
       "      <td>NaN</td>\n",
       "      <td>0</td>\n",
       "      <td>NaN</td>\n",
       "      <td>1</td>\n",
       "      <td>1</td>\n",
       "      <td>0</td>\n",
       "      <td>178012.28</td>\n",
       "      <td>0</td>\n",
       "      <td>1</td>\n",
       "      <td>0</td>\n",
       "      <td>1</td>\n",
       "      <td>0</td>\n",
       "    </tr>\n",
       "    <tr>\n",
       "      <th>9457</th>\n",
       "      <td>141945</td>\n",
       "      <td>929.0</td>\n",
       "      <td>NaN</td>\n",
       "      <td>0</td>\n",
       "      <td>NaN</td>\n",
       "      <td>1</td>\n",
       "      <td>1</td>\n",
       "      <td>0</td>\n",
       "      <td>381868.89</td>\n",
       "      <td>0</td>\n",
       "      <td>1</td>\n",
       "      <td>0</td>\n",
       "      <td>0</td>\n",
       "      <td>1</td>\n",
       "    </tr>\n",
       "    <tr>\n",
       "      <th>9632</th>\n",
       "      <td>185829</td>\n",
       "      <td>927.0</td>\n",
       "      <td>NaN</td>\n",
       "      <td>0</td>\n",
       "      <td>NaN</td>\n",
       "      <td>1</td>\n",
       "      <td>1</td>\n",
       "      <td>0</td>\n",
       "      <td>231254.86</td>\n",
       "      <td>0</td>\n",
       "      <td>1</td>\n",
       "      <td>0</td>\n",
       "      <td>0</td>\n",
       "      <td>1</td>\n",
       "    </tr>\n",
       "    <tr>\n",
       "      <th>9634</th>\n",
       "      <td>221809</td>\n",
       "      <td>917.0</td>\n",
       "      <td>NaN</td>\n",
       "      <td>0</td>\n",
       "      <td>NaN</td>\n",
       "      <td>1</td>\n",
       "      <td>1</td>\n",
       "      <td>1</td>\n",
       "      <td>192644.15</td>\n",
       "      <td>0</td>\n",
       "      <td>1</td>\n",
       "      <td>0</td>\n",
       "      <td>0</td>\n",
       "      <td>1</td>\n",
       "    </tr>\n",
       "    <tr>\n",
       "      <th>9667</th>\n",
       "      <td>163657</td>\n",
       "      <td>849.0</td>\n",
       "      <td>NaN</td>\n",
       "      <td>4</td>\n",
       "      <td>1254013.85</td>\n",
       "      <td>2</td>\n",
       "      <td>1</td>\n",
       "      <td>1</td>\n",
       "      <td>119106.67</td>\n",
       "      <td>0</td>\n",
       "      <td>1</td>\n",
       "      <td>0</td>\n",
       "      <td>0</td>\n",
       "      <td>1</td>\n",
       "    </tr>\n",
       "    <tr>\n",
       "      <th>9819</th>\n",
       "      <td>140934</td>\n",
       "      <td>832.0</td>\n",
       "      <td>NaN</td>\n",
       "      <td>3</td>\n",
       "      <td>385763.16</td>\n",
       "      <td>2</td>\n",
       "      <td>0</td>\n",
       "      <td>1</td>\n",
       "      <td>59651.35</td>\n",
       "      <td>0</td>\n",
       "      <td>0</td>\n",
       "      <td>0</td>\n",
       "      <td>1</td>\n",
       "      <td>0</td>\n",
       "    </tr>\n",
       "  </tbody>\n",
       "</table>\n",
       "</div>"
      ],
      "text/plain": [
       "      userid  score  age  equity     balance  products  credit_card  \\\n",
       "1247  228075  932.0  NaN       5  7601719.20         2            1   \n",
       "2165  187635  692.0  NaN       0         NaN         1            1   \n",
       "2444  221156  913.0  NaN       0         NaN         1            1   \n",
       "3091  138660  836.0  NaN       5   294315.53         2            0   \n",
       "4912  210674  834.0  NaN       1   238330.52         2            0   \n",
       "5470  218868  827.0  NaN       4   448959.07         2            1   \n",
       "5495  151662  884.0  NaN       0         NaN         1            1   \n",
       "7236  210135  908.0  NaN       4  1120340.31         3            1   \n",
       "7248  219343  920.0  NaN       0         NaN         1            1   \n",
       "7345  184913  829.0  NaN       3   188648.77         2            0   \n",
       "7409  214031  777.0  NaN       2   171510.23         1            1   \n",
       "8015  198635  670.0  NaN       0         NaN         1            1   \n",
       "8070  226550  940.0  NaN       0         NaN         1            0   \n",
       "8293  216848  930.0  NaN       0         NaN         1            1   \n",
       "8385  206759  915.0  NaN       0         NaN         1            1   \n",
       "8449  210898  805.0  NaN       0         NaN         1            0   \n",
       "8632  221197  893.0  NaN       0         NaN         1            1   \n",
       "8785  127440  663.0  NaN       0         NaN         1            1   \n",
       "9104  222480  776.0  NaN       5   796735.09         1            1   \n",
       "9301  202983  942.0  NaN       0         NaN         1            1   \n",
       "9380  187459  894.0  NaN       0         NaN         1            1   \n",
       "9457  141945  929.0  NaN       0         NaN         1            1   \n",
       "9632  185829  927.0  NaN       0         NaN         1            1   \n",
       "9634  221809  917.0  NaN       0         NaN         1            1   \n",
       "9667  163657  849.0  NaN       4  1254013.85         2            1   \n",
       "9819  140934  832.0  NaN       3   385763.16         2            0   \n",
       "\n",
       "      last_activity  est_salary  churn  gender_М  Ростов  Рыбинск  Ярославль  \n",
       "1247              1   408121.16      0         1       0        0          1  \n",
       "2165              1   160368.82      0         0       0        1          0  \n",
       "2444              1   135693.24      0         1       0        0          1  \n",
       "3091              1    63310.22      1         0       1        0          0  \n",
       "4912              1    93775.06      0         1       0        1          0  \n",
       "5470              1    67835.95      0         0       0        1          0  \n",
       "5495              1   137500.77      0         0       0        1          0  \n",
       "7236              1    85002.15      0         0       0        1          0  \n",
       "7248              0   159248.67      0         0       0        1          0  \n",
       "7345              1    75206.90      0         0       0        0          1  \n",
       "7409              1    75409.63      0         1       0        0          1  \n",
       "8015              1   168699.33      0         0       0        0          1  \n",
       "8070              1   147696.95      0         1       0        1          0  \n",
       "8293              1   199542.51      0         1       0        0          1  \n",
       "8385              0    71179.53      0         1       0        1          0  \n",
       "8449              1   922080.25      0         0       0        0          1  \n",
       "8632              0   173929.92      0         1       0        0          1  \n",
       "8785              1   117197.56      0         1       0        0          1  \n",
       "9104              1    55073.63      0         0       0        1          0  \n",
       "9301              1   163804.73      0         0       0        1          0  \n",
       "9380              0   178012.28      0         1       0        1          0  \n",
       "9457              0   381868.89      0         1       0        0          1  \n",
       "9632              0   231254.86      0         1       0        0          1  \n",
       "9634              1   192644.15      0         1       0        0          1  \n",
       "9667              1   119106.67      0         1       0        0          1  \n",
       "9819              1    59651.35      0         0       0        1          0  "
      ]
     },
     "execution_count": 8,
     "metadata": {},
     "output_type": "execute_result"
    }
   ],
   "source": [
    "age_nan = pd.isnull(data[\"age\"]) \n",
    "    \n",
    "data[age_nan] "
   ]
  },
  {
   "cell_type": "markdown",
   "metadata": {},
   "source": [
    "Сравним статистические значения с пропусками в возрасте со значениями без пропусков:"
   ]
  },
  {
   "cell_type": "code",
   "execution_count": 9,
   "metadata": {},
   "outputs": [
    {
     "data": {
      "text/html": [
       "<div>\n",
       "<style scoped>\n",
       "    .dataframe tbody tr th:only-of-type {\n",
       "        vertical-align: middle;\n",
       "    }\n",
       "\n",
       "    .dataframe tbody tr th {\n",
       "        vertical-align: top;\n",
       "    }\n",
       "\n",
       "    .dataframe thead th {\n",
       "        text-align: right;\n",
       "    }\n",
       "</style>\n",
       "<table border=\"1\" class=\"dataframe\">\n",
       "  <thead>\n",
       "    <tr style=\"text-align: right;\">\n",
       "      <th></th>\n",
       "      <th>userid</th>\n",
       "      <th>score</th>\n",
       "      <th>age</th>\n",
       "      <th>equity</th>\n",
       "      <th>balance</th>\n",
       "      <th>products</th>\n",
       "      <th>credit_card</th>\n",
       "      <th>last_activity</th>\n",
       "      <th>est_salary</th>\n",
       "      <th>churn</th>\n",
       "      <th>gender_М</th>\n",
       "      <th>Ростов</th>\n",
       "      <th>Рыбинск</th>\n",
       "      <th>Ярославль</th>\n",
       "    </tr>\n",
       "  </thead>\n",
       "  <tbody>\n",
       "    <tr>\n",
       "      <th>count</th>\n",
       "      <td>26.00000</td>\n",
       "      <td>26.000000</td>\n",
       "      <td>0.0</td>\n",
       "      <td>26.000000</td>\n",
       "      <td>1.000000e+01</td>\n",
       "      <td>26.000000</td>\n",
       "      <td>26.000000</td>\n",
       "      <td>26.000000</td>\n",
       "      <td>26.000000</td>\n",
       "      <td>26.000000</td>\n",
       "      <td>26.000000</td>\n",
       "      <td>26.000000</td>\n",
       "      <td>26.000000</td>\n",
       "      <td>26.000000</td>\n",
       "    </tr>\n",
       "    <tr>\n",
       "      <th>mean</th>\n",
       "      <td>194637.50000</td>\n",
       "      <td>855.153846</td>\n",
       "      <td>NaN</td>\n",
       "      <td>1.384615</td>\n",
       "      <td>1.250034e+06</td>\n",
       "      <td>1.346154</td>\n",
       "      <td>0.769231</td>\n",
       "      <td>0.769231</td>\n",
       "      <td>178585.199231</td>\n",
       "      <td>0.038462</td>\n",
       "      <td>0.538462</td>\n",
       "      <td>0.038462</td>\n",
       "      <td>0.461538</td>\n",
       "      <td>0.500000</td>\n",
       "    </tr>\n",
       "    <tr>\n",
       "      <th>std</th>\n",
       "      <td>31310.54801</td>\n",
       "      <td>83.418316</td>\n",
       "      <td>NaN</td>\n",
       "      <td>1.961161</td>\n",
       "      <td>2.265235e+06</td>\n",
       "      <td>0.561591</td>\n",
       "      <td>0.429669</td>\n",
       "      <td>0.429669</td>\n",
       "      <td>175135.552768</td>\n",
       "      <td>0.196116</td>\n",
       "      <td>0.508391</td>\n",
       "      <td>0.196116</td>\n",
       "      <td>0.508391</td>\n",
       "      <td>0.509902</td>\n",
       "    </tr>\n",
       "    <tr>\n",
       "      <th>min</th>\n",
       "      <td>127440.00000</td>\n",
       "      <td>663.000000</td>\n",
       "      <td>NaN</td>\n",
       "      <td>0.000000</td>\n",
       "      <td>1.715102e+05</td>\n",
       "      <td>1.000000</td>\n",
       "      <td>0.000000</td>\n",
       "      <td>0.000000</td>\n",
       "      <td>55073.630000</td>\n",
       "      <td>0.000000</td>\n",
       "      <td>0.000000</td>\n",
       "      <td>0.000000</td>\n",
       "      <td>0.000000</td>\n",
       "      <td>0.000000</td>\n",
       "    </tr>\n",
       "    <tr>\n",
       "      <th>25%</th>\n",
       "      <td>185142.00000</td>\n",
       "      <td>827.500000</td>\n",
       "      <td>NaN</td>\n",
       "      <td>0.000000</td>\n",
       "      <td>2.523268e+05</td>\n",
       "      <td>1.000000</td>\n",
       "      <td>1.000000</td>\n",
       "      <td>1.000000</td>\n",
       "      <td>77807.760000</td>\n",
       "      <td>0.000000</td>\n",
       "      <td>0.000000</td>\n",
       "      <td>0.000000</td>\n",
       "      <td>0.000000</td>\n",
       "      <td>0.000000</td>\n",
       "    </tr>\n",
       "    <tr>\n",
       "      <th>50%</th>\n",
       "      <td>208447.00000</td>\n",
       "      <td>888.500000</td>\n",
       "      <td>NaN</td>\n",
       "      <td>0.000000</td>\n",
       "      <td>4.173611e+05</td>\n",
       "      <td>1.000000</td>\n",
       "      <td>1.000000</td>\n",
       "      <td>1.000000</td>\n",
       "      <td>142598.860000</td>\n",
       "      <td>0.000000</td>\n",
       "      <td>1.000000</td>\n",
       "      <td>0.000000</td>\n",
       "      <td>0.000000</td>\n",
       "      <td>0.500000</td>\n",
       "    </tr>\n",
       "    <tr>\n",
       "      <th>75%</th>\n",
       "      <td>219224.25000</td>\n",
       "      <td>919.250000</td>\n",
       "      <td>NaN</td>\n",
       "      <td>3.000000</td>\n",
       "      <td>1.039439e+06</td>\n",
       "      <td>2.000000</td>\n",
       "      <td>1.000000</td>\n",
       "      <td>1.000000</td>\n",
       "      <td>176991.690000</td>\n",
       "      <td>0.000000</td>\n",
       "      <td>1.000000</td>\n",
       "      <td>0.000000</td>\n",
       "      <td>1.000000</td>\n",
       "      <td>1.000000</td>\n",
       "    </tr>\n",
       "    <tr>\n",
       "      <th>max</th>\n",
       "      <td>228075.00000</td>\n",
       "      <td>942.000000</td>\n",
       "      <td>NaN</td>\n",
       "      <td>5.000000</td>\n",
       "      <td>7.601719e+06</td>\n",
       "      <td>3.000000</td>\n",
       "      <td>1.000000</td>\n",
       "      <td>1.000000</td>\n",
       "      <td>922080.250000</td>\n",
       "      <td>1.000000</td>\n",
       "      <td>1.000000</td>\n",
       "      <td>1.000000</td>\n",
       "      <td>1.000000</td>\n",
       "      <td>1.000000</td>\n",
       "    </tr>\n",
       "  </tbody>\n",
       "</table>\n",
       "</div>"
      ],
      "text/plain": [
       "             userid       score  age     equity       balance   products  \\\n",
       "count      26.00000   26.000000  0.0  26.000000  1.000000e+01  26.000000   \n",
       "mean   194637.50000  855.153846  NaN   1.384615  1.250034e+06   1.346154   \n",
       "std     31310.54801   83.418316  NaN   1.961161  2.265235e+06   0.561591   \n",
       "min    127440.00000  663.000000  NaN   0.000000  1.715102e+05   1.000000   \n",
       "25%    185142.00000  827.500000  NaN   0.000000  2.523268e+05   1.000000   \n",
       "50%    208447.00000  888.500000  NaN   0.000000  4.173611e+05   1.000000   \n",
       "75%    219224.25000  919.250000  NaN   3.000000  1.039439e+06   2.000000   \n",
       "max    228075.00000  942.000000  NaN   5.000000  7.601719e+06   3.000000   \n",
       "\n",
       "       credit_card  last_activity     est_salary      churn   gender_М  \\\n",
       "count    26.000000      26.000000      26.000000  26.000000  26.000000   \n",
       "mean      0.769231       0.769231  178585.199231   0.038462   0.538462   \n",
       "std       0.429669       0.429669  175135.552768   0.196116   0.508391   \n",
       "min       0.000000       0.000000   55073.630000   0.000000   0.000000   \n",
       "25%       1.000000       1.000000   77807.760000   0.000000   0.000000   \n",
       "50%       1.000000       1.000000  142598.860000   0.000000   1.000000   \n",
       "75%       1.000000       1.000000  176991.690000   0.000000   1.000000   \n",
       "max       1.000000       1.000000  922080.250000   1.000000   1.000000   \n",
       "\n",
       "          Ростов    Рыбинск  Ярославль  \n",
       "count  26.000000  26.000000  26.000000  \n",
       "mean    0.038462   0.461538   0.500000  \n",
       "std     0.196116   0.508391   0.509902  \n",
       "min     0.000000   0.000000   0.000000  \n",
       "25%     0.000000   0.000000   0.000000  \n",
       "50%     0.000000   0.000000   0.500000  \n",
       "75%     0.000000   1.000000   1.000000  \n",
       "max     1.000000   1.000000   1.000000  "
      ]
     },
     "metadata": {},
     "output_type": "display_data"
    },
    {
     "data": {
      "text/html": [
       "<div>\n",
       "<style scoped>\n",
       "    .dataframe tbody tr th:only-of-type {\n",
       "        vertical-align: middle;\n",
       "    }\n",
       "\n",
       "    .dataframe tbody tr th {\n",
       "        vertical-align: top;\n",
       "    }\n",
       "\n",
       "    .dataframe thead th {\n",
       "        text-align: right;\n",
       "    }\n",
       "</style>\n",
       "<table border=\"1\" class=\"dataframe\">\n",
       "  <thead>\n",
       "    <tr style=\"text-align: right;\">\n",
       "      <th></th>\n",
       "      <th>userid</th>\n",
       "      <th>score</th>\n",
       "      <th>age</th>\n",
       "      <th>equity</th>\n",
       "      <th>balance</th>\n",
       "      <th>products</th>\n",
       "      <th>credit_card</th>\n",
       "      <th>last_activity</th>\n",
       "      <th>est_salary</th>\n",
       "      <th>churn</th>\n",
       "      <th>gender_М</th>\n",
       "      <th>Ростов</th>\n",
       "      <th>Рыбинск</th>\n",
       "      <th>Ярославль</th>\n",
       "    </tr>\n",
       "  </thead>\n",
       "  <tbody>\n",
       "    <tr>\n",
       "      <th>count</th>\n",
       "      <td>9974.000000</td>\n",
       "      <td>9974.000000</td>\n",
       "      <td>9974.000000</td>\n",
       "      <td>9974.000000</td>\n",
       "      <td>7.695000e+03</td>\n",
       "      <td>9974.000000</td>\n",
       "      <td>9974.000000</td>\n",
       "      <td>9974.000000</td>\n",
       "      <td>9.974000e+03</td>\n",
       "      <td>9974.000000</td>\n",
       "      <td>9974.000000</td>\n",
       "      <td>9974.000000</td>\n",
       "      <td>9974.000000</td>\n",
       "      <td>9974.000000</td>\n",
       "    </tr>\n",
       "    <tr>\n",
       "      <th>mean</th>\n",
       "      <td>171755.218669</td>\n",
       "      <td>848.682575</td>\n",
       "      <td>42.734409</td>\n",
       "      <td>2.630840</td>\n",
       "      <td>8.272456e+05</td>\n",
       "      <td>1.871466</td>\n",
       "      <td>0.680168</td>\n",
       "      <td>0.522859</td>\n",
       "      <td>1.477868e+05</td>\n",
       "      <td>0.182374</td>\n",
       "      <td>0.500401</td>\n",
       "      <td>0.141969</td>\n",
       "      <td>0.268999</td>\n",
       "      <td>0.589031</td>\n",
       "    </tr>\n",
       "    <tr>\n",
       "      <th>std</th>\n",
       "      <td>33695.527126</td>\n",
       "      <td>65.399720</td>\n",
       "      <td>12.179971</td>\n",
       "      <td>1.979965</td>\n",
       "      <td>1.980327e+06</td>\n",
       "      <td>0.792729</td>\n",
       "      <td>0.466435</td>\n",
       "      <td>0.499502</td>\n",
       "      <td>1.392855e+05</td>\n",
       "      <td>0.386172</td>\n",
       "      <td>0.500025</td>\n",
       "      <td>0.349036</td>\n",
       "      <td>0.443462</td>\n",
       "      <td>0.492034</td>\n",
       "    </tr>\n",
       "    <tr>\n",
       "      <th>min</th>\n",
       "      <td>94561.000000</td>\n",
       "      <td>642.000000</td>\n",
       "      <td>18.000000</td>\n",
       "      <td>0.000000</td>\n",
       "      <td>0.000000e+00</td>\n",
       "      <td>0.000000</td>\n",
       "      <td>0.000000</td>\n",
       "      <td>0.000000</td>\n",
       "      <td>2.546300e+03</td>\n",
       "      <td>0.000000</td>\n",
       "      <td>0.000000</td>\n",
       "      <td>0.000000</td>\n",
       "      <td>0.000000</td>\n",
       "      <td>0.000000</td>\n",
       "    </tr>\n",
       "    <tr>\n",
       "      <th>25%</th>\n",
       "      <td>142760.000000</td>\n",
       "      <td>802.000000</td>\n",
       "      <td>33.000000</td>\n",
       "      <td>0.000000</td>\n",
       "      <td>2.956987e+05</td>\n",
       "      <td>1.000000</td>\n",
       "      <td>0.000000</td>\n",
       "      <td>0.000000</td>\n",
       "      <td>7.525166e+04</td>\n",
       "      <td>0.000000</td>\n",
       "      <td>0.000000</td>\n",
       "      <td>0.000000</td>\n",
       "      <td>0.000000</td>\n",
       "      <td>0.000000</td>\n",
       "    </tr>\n",
       "    <tr>\n",
       "      <th>50%</th>\n",
       "      <td>172643.000000</td>\n",
       "      <td>853.000000</td>\n",
       "      <td>40.000000</td>\n",
       "      <td>3.000000</td>\n",
       "      <td>5.242953e+05</td>\n",
       "      <td>2.000000</td>\n",
       "      <td>1.000000</td>\n",
       "      <td>1.000000</td>\n",
       "      <td>1.196268e+05</td>\n",
       "      <td>0.000000</td>\n",
       "      <td>1.000000</td>\n",
       "      <td>0.000000</td>\n",
       "      <td>0.000000</td>\n",
       "      <td>1.000000</td>\n",
       "    </tr>\n",
       "    <tr>\n",
       "      <th>75%</th>\n",
       "      <td>201163.750000</td>\n",
       "      <td>900.000000</td>\n",
       "      <td>51.000000</td>\n",
       "      <td>4.000000</td>\n",
       "      <td>9.800512e+05</td>\n",
       "      <td>2.000000</td>\n",
       "      <td>1.000000</td>\n",
       "      <td>1.000000</td>\n",
       "      <td>1.744998e+05</td>\n",
       "      <td>0.000000</td>\n",
       "      <td>1.000000</td>\n",
       "      <td>0.000000</td>\n",
       "      <td>1.000000</td>\n",
       "      <td>1.000000</td>\n",
       "    </tr>\n",
       "    <tr>\n",
       "      <th>max</th>\n",
       "      <td>229145.000000</td>\n",
       "      <td>1000.000000</td>\n",
       "      <td>86.000000</td>\n",
       "      <td>9.000000</td>\n",
       "      <td>1.191136e+08</td>\n",
       "      <td>5.000000</td>\n",
       "      <td>1.000000</td>\n",
       "      <td>1.000000</td>\n",
       "      <td>1.395064e+06</td>\n",
       "      <td>1.000000</td>\n",
       "      <td>1.000000</td>\n",
       "      <td>1.000000</td>\n",
       "      <td>1.000000</td>\n",
       "      <td>1.000000</td>\n",
       "    </tr>\n",
       "  </tbody>\n",
       "</table>\n",
       "</div>"
      ],
      "text/plain": [
       "              userid        score          age       equity       balance  \\\n",
       "count    9974.000000  9974.000000  9974.000000  9974.000000  7.695000e+03   \n",
       "mean   171755.218669   848.682575    42.734409     2.630840  8.272456e+05   \n",
       "std     33695.527126    65.399720    12.179971     1.979965  1.980327e+06   \n",
       "min     94561.000000   642.000000    18.000000     0.000000  0.000000e+00   \n",
       "25%    142760.000000   802.000000    33.000000     0.000000  2.956987e+05   \n",
       "50%    172643.000000   853.000000    40.000000     3.000000  5.242953e+05   \n",
       "75%    201163.750000   900.000000    51.000000     4.000000  9.800512e+05   \n",
       "max    229145.000000  1000.000000    86.000000     9.000000  1.191136e+08   \n",
       "\n",
       "          products  credit_card  last_activity    est_salary        churn  \\\n",
       "count  9974.000000  9974.000000    9974.000000  9.974000e+03  9974.000000   \n",
       "mean      1.871466     0.680168       0.522859  1.477868e+05     0.182374   \n",
       "std       0.792729     0.466435       0.499502  1.392855e+05     0.386172   \n",
       "min       0.000000     0.000000       0.000000  2.546300e+03     0.000000   \n",
       "25%       1.000000     0.000000       0.000000  7.525166e+04     0.000000   \n",
       "50%       2.000000     1.000000       1.000000  1.196268e+05     0.000000   \n",
       "75%       2.000000     1.000000       1.000000  1.744998e+05     0.000000   \n",
       "max       5.000000     1.000000       1.000000  1.395064e+06     1.000000   \n",
       "\n",
       "          gender_М       Ростов      Рыбинск    Ярославль  \n",
       "count  9974.000000  9974.000000  9974.000000  9974.000000  \n",
       "mean      0.500401     0.141969     0.268999     0.589031  \n",
       "std       0.500025     0.349036     0.443462     0.492034  \n",
       "min       0.000000     0.000000     0.000000     0.000000  \n",
       "25%       0.000000     0.000000     0.000000     0.000000  \n",
       "50%       1.000000     0.000000     0.000000     1.000000  \n",
       "75%       1.000000     0.000000     1.000000     1.000000  \n",
       "max       1.000000     1.000000     1.000000     1.000000  "
      ]
     },
     "metadata": {},
     "output_type": "display_data"
    }
   ],
   "source": [
    "display(data[data['age'].isna()].describe())\n",
    "\n",
    "display(data[~data['age'].isna()].describe())"
   ]
  },
  {
   "cell_type": "markdown",
   "metadata": {},
   "source": [
    "Из того, что бросается в глаза - пропуски в возрасте за исключением 1 случая у неотточных клиентов, и этот же 1 клиент - единственный из г. Ростов. Так же у клиентов с пропусками в возрасте, много пропусков в столбце с балансом. С учетом количества таких клиентов относительно всего дф, считаю целеесообразным удалить эти строки."
   ]
  },
  {
   "cell_type": "code",
   "execution_count": 10,
   "metadata": {},
   "outputs": [
    {
     "data": {
      "text/plain": [
       "userid              0\n",
       "score               0\n",
       "age                 0\n",
       "equity              0\n",
       "balance          2279\n",
       "products            0\n",
       "credit_card         0\n",
       "last_activity       0\n",
       "est_salary          0\n",
       "churn               0\n",
       "gender_М            0\n",
       "Ростов              0\n",
       "Рыбинск             0\n",
       "Ярославль           0\n",
       "dtype: int64"
      ]
     },
     "execution_count": 10,
     "metadata": {},
     "output_type": "execute_result"
    }
   ],
   "source": [
    "data =  data.dropna(subset=['age']).reset_index(drop=True)\n",
    "data['age'] = data['age'].astype(int) # И приведем значения возраста к целочисленному типу\n",
    "data.isna().sum()"
   ]
  },
  {
   "cell_type": "markdown",
   "metadata": {},
   "source": [
    "Сравним статистические значения с пропусками в столбце баланса со значениями без пропусков:"
   ]
  },
  {
   "cell_type": "code",
   "execution_count": 11,
   "metadata": {},
   "outputs": [
    {
     "data": {
      "text/html": [
       "<div>\n",
       "<style scoped>\n",
       "    .dataframe tbody tr th:only-of-type {\n",
       "        vertical-align: middle;\n",
       "    }\n",
       "\n",
       "    .dataframe tbody tr th {\n",
       "        vertical-align: top;\n",
       "    }\n",
       "\n",
       "    .dataframe thead th {\n",
       "        text-align: right;\n",
       "    }\n",
       "</style>\n",
       "<table border=\"1\" class=\"dataframe\">\n",
       "  <thead>\n",
       "    <tr style=\"text-align: right;\">\n",
       "      <th></th>\n",
       "      <th>userid</th>\n",
       "      <th>score</th>\n",
       "      <th>age</th>\n",
       "      <th>equity</th>\n",
       "      <th>balance</th>\n",
       "      <th>products</th>\n",
       "      <th>credit_card</th>\n",
       "      <th>last_activity</th>\n",
       "      <th>est_salary</th>\n",
       "      <th>churn</th>\n",
       "      <th>gender_М</th>\n",
       "      <th>Ростов</th>\n",
       "      <th>Рыбинск</th>\n",
       "      <th>Ярославль</th>\n",
       "    </tr>\n",
       "  </thead>\n",
       "  <tbody>\n",
       "    <tr>\n",
       "      <th>count</th>\n",
       "      <td>2279.000000</td>\n",
       "      <td>2279.000000</td>\n",
       "      <td>2279.000000</td>\n",
       "      <td>2279.000000</td>\n",
       "      <td>0.0</td>\n",
       "      <td>2279.000000</td>\n",
       "      <td>2279.000000</td>\n",
       "      <td>2279.000000</td>\n",
       "      <td>2.279000e+03</td>\n",
       "      <td>2279.000000</td>\n",
       "      <td>2279.000000</td>\n",
       "      <td>2279.000000</td>\n",
       "      <td>2279.000000</td>\n",
       "      <td>2279.000000</td>\n",
       "    </tr>\n",
       "    <tr>\n",
       "      <th>mean</th>\n",
       "      <td>171904.885915</td>\n",
       "      <td>865.357174</td>\n",
       "      <td>42.093023</td>\n",
       "      <td>0.051338</td>\n",
       "      <td>NaN</td>\n",
       "      <td>1.163229</td>\n",
       "      <td>0.815270</td>\n",
       "      <td>0.548925</td>\n",
       "      <td>2.263454e+05</td>\n",
       "      <td>0.005704</td>\n",
       "      <td>0.558140</td>\n",
       "      <td>0.103115</td>\n",
       "      <td>0.257130</td>\n",
       "      <td>0.639754</td>\n",
       "    </tr>\n",
       "    <tr>\n",
       "      <th>std</th>\n",
       "      <td>33303.215270</td>\n",
       "      <td>89.553735</td>\n",
       "      <td>11.941551</td>\n",
       "      <td>0.226623</td>\n",
       "      <td>NaN</td>\n",
       "      <td>0.403713</td>\n",
       "      <td>0.388164</td>\n",
       "      <td>0.497710</td>\n",
       "      <td>1.998256e+05</td>\n",
       "      <td>0.075327</td>\n",
       "      <td>0.496717</td>\n",
       "      <td>0.304176</td>\n",
       "      <td>0.437148</td>\n",
       "      <td>0.480177</td>\n",
       "    </tr>\n",
       "    <tr>\n",
       "      <th>min</th>\n",
       "      <td>114182.000000</td>\n",
       "      <td>642.000000</td>\n",
       "      <td>18.000000</td>\n",
       "      <td>0.000000</td>\n",
       "      <td>NaN</td>\n",
       "      <td>0.000000</td>\n",
       "      <td>0.000000</td>\n",
       "      <td>0.000000</td>\n",
       "      <td>2.027403e+04</td>\n",
       "      <td>0.000000</td>\n",
       "      <td>0.000000</td>\n",
       "      <td>0.000000</td>\n",
       "      <td>0.000000</td>\n",
       "      <td>0.000000</td>\n",
       "    </tr>\n",
       "    <tr>\n",
       "      <th>25%</th>\n",
       "      <td>142992.500000</td>\n",
       "      <td>871.000000</td>\n",
       "      <td>33.000000</td>\n",
       "      <td>0.000000</td>\n",
       "      <td>NaN</td>\n",
       "      <td>1.000000</td>\n",
       "      <td>1.000000</td>\n",
       "      <td>0.000000</td>\n",
       "      <td>1.202174e+05</td>\n",
       "      <td>0.000000</td>\n",
       "      <td>0.000000</td>\n",
       "      <td>0.000000</td>\n",
       "      <td>0.000000</td>\n",
       "      <td>0.000000</td>\n",
       "    </tr>\n",
       "    <tr>\n",
       "      <th>50%</th>\n",
       "      <td>172304.000000</td>\n",
       "      <td>903.000000</td>\n",
       "      <td>40.000000</td>\n",
       "      <td>0.000000</td>\n",
       "      <td>NaN</td>\n",
       "      <td>1.000000</td>\n",
       "      <td>1.000000</td>\n",
       "      <td>1.000000</td>\n",
       "      <td>1.743479e+05</td>\n",
       "      <td>0.000000</td>\n",
       "      <td>1.000000</td>\n",
       "      <td>0.000000</td>\n",
       "      <td>0.000000</td>\n",
       "      <td>1.000000</td>\n",
       "    </tr>\n",
       "    <tr>\n",
       "      <th>75%</th>\n",
       "      <td>201257.000000</td>\n",
       "      <td>922.000000</td>\n",
       "      <td>49.000000</td>\n",
       "      <td>0.000000</td>\n",
       "      <td>NaN</td>\n",
       "      <td>1.000000</td>\n",
       "      <td>1.000000</td>\n",
       "      <td>1.000000</td>\n",
       "      <td>2.403728e+05</td>\n",
       "      <td>0.000000</td>\n",
       "      <td>1.000000</td>\n",
       "      <td>0.000000</td>\n",
       "      <td>1.000000</td>\n",
       "      <td>1.000000</td>\n",
       "    </tr>\n",
       "    <tr>\n",
       "      <th>max</th>\n",
       "      <td>229145.000000</td>\n",
       "      <td>990.000000</td>\n",
       "      <td>86.000000</td>\n",
       "      <td>3.000000</td>\n",
       "      <td>NaN</td>\n",
       "      <td>3.000000</td>\n",
       "      <td>1.000000</td>\n",
       "      <td>1.000000</td>\n",
       "      <td>1.333687e+06</td>\n",
       "      <td>1.000000</td>\n",
       "      <td>1.000000</td>\n",
       "      <td>1.000000</td>\n",
       "      <td>1.000000</td>\n",
       "      <td>1.000000</td>\n",
       "    </tr>\n",
       "  </tbody>\n",
       "</table>\n",
       "</div>"
      ],
      "text/plain": [
       "              userid        score          age       equity  balance  \\\n",
       "count    2279.000000  2279.000000  2279.000000  2279.000000      0.0   \n",
       "mean   171904.885915   865.357174    42.093023     0.051338      NaN   \n",
       "std     33303.215270    89.553735    11.941551     0.226623      NaN   \n",
       "min    114182.000000   642.000000    18.000000     0.000000      NaN   \n",
       "25%    142992.500000   871.000000    33.000000     0.000000      NaN   \n",
       "50%    172304.000000   903.000000    40.000000     0.000000      NaN   \n",
       "75%    201257.000000   922.000000    49.000000     0.000000      NaN   \n",
       "max    229145.000000   990.000000    86.000000     3.000000      NaN   \n",
       "\n",
       "          products  credit_card  last_activity    est_salary        churn  \\\n",
       "count  2279.000000  2279.000000    2279.000000  2.279000e+03  2279.000000   \n",
       "mean      1.163229     0.815270       0.548925  2.263454e+05     0.005704   \n",
       "std       0.403713     0.388164       0.497710  1.998256e+05     0.075327   \n",
       "min       0.000000     0.000000       0.000000  2.027403e+04     0.000000   \n",
       "25%       1.000000     1.000000       0.000000  1.202174e+05     0.000000   \n",
       "50%       1.000000     1.000000       1.000000  1.743479e+05     0.000000   \n",
       "75%       1.000000     1.000000       1.000000  2.403728e+05     0.000000   \n",
       "max       3.000000     1.000000       1.000000  1.333687e+06     1.000000   \n",
       "\n",
       "          gender_М       Ростов      Рыбинск    Ярославль  \n",
       "count  2279.000000  2279.000000  2279.000000  2279.000000  \n",
       "mean      0.558140     0.103115     0.257130     0.639754  \n",
       "std       0.496717     0.304176     0.437148     0.480177  \n",
       "min       0.000000     0.000000     0.000000     0.000000  \n",
       "25%       0.000000     0.000000     0.000000     0.000000  \n",
       "50%       1.000000     0.000000     0.000000     1.000000  \n",
       "75%       1.000000     0.000000     1.000000     1.000000  \n",
       "max       1.000000     1.000000     1.000000     1.000000  "
      ]
     },
     "metadata": {},
     "output_type": "display_data"
    },
    {
     "data": {
      "text/html": [
       "<div>\n",
       "<style scoped>\n",
       "    .dataframe tbody tr th:only-of-type {\n",
       "        vertical-align: middle;\n",
       "    }\n",
       "\n",
       "    .dataframe tbody tr th {\n",
       "        vertical-align: top;\n",
       "    }\n",
       "\n",
       "    .dataframe thead th {\n",
       "        text-align: right;\n",
       "    }\n",
       "</style>\n",
       "<table border=\"1\" class=\"dataframe\">\n",
       "  <thead>\n",
       "    <tr style=\"text-align: right;\">\n",
       "      <th></th>\n",
       "      <th>userid</th>\n",
       "      <th>score</th>\n",
       "      <th>age</th>\n",
       "      <th>equity</th>\n",
       "      <th>balance</th>\n",
       "      <th>products</th>\n",
       "      <th>credit_card</th>\n",
       "      <th>last_activity</th>\n",
       "      <th>est_salary</th>\n",
       "      <th>churn</th>\n",
       "      <th>gender_М</th>\n",
       "      <th>Ростов</th>\n",
       "      <th>Рыбинск</th>\n",
       "      <th>Ярославль</th>\n",
       "    </tr>\n",
       "  </thead>\n",
       "  <tbody>\n",
       "    <tr>\n",
       "      <th>count</th>\n",
       "      <td>7695.000000</td>\n",
       "      <td>7695.000000</td>\n",
       "      <td>7695.000000</td>\n",
       "      <td>7695.000000</td>\n",
       "      <td>7.695000e+03</td>\n",
       "      <td>7695.000000</td>\n",
       "      <td>7695.000000</td>\n",
       "      <td>7695.000000</td>\n",
       "      <td>7.695000e+03</td>\n",
       "      <td>7695.000000</td>\n",
       "      <td>7695.000000</td>\n",
       "      <td>7695.000000</td>\n",
       "      <td>7695.000000</td>\n",
       "      <td>7695.000000</td>\n",
       "    </tr>\n",
       "    <tr>\n",
       "      <th>mean</th>\n",
       "      <td>171710.892268</td>\n",
       "      <td>843.744120</td>\n",
       "      <td>42.924366</td>\n",
       "      <td>3.394802</td>\n",
       "      <td>8.272456e+05</td>\n",
       "      <td>2.081222</td>\n",
       "      <td>0.640156</td>\n",
       "      <td>0.515140</td>\n",
       "      <td>1.245204e+05</td>\n",
       "      <td>0.234698</td>\n",
       "      <td>0.483301</td>\n",
       "      <td>0.153476</td>\n",
       "      <td>0.272515</td>\n",
       "      <td>0.574009</td>\n",
       "    </tr>\n",
       "    <tr>\n",
       "      <th>std</th>\n",
       "      <td>33812.862444</td>\n",
       "      <td>55.342539</td>\n",
       "      <td>12.244010</td>\n",
       "      <td>1.584817</td>\n",
       "      <td>1.980327e+06</td>\n",
       "      <td>0.757446</td>\n",
       "      <td>0.479986</td>\n",
       "      <td>0.499803</td>\n",
       "      <td>1.046671e+05</td>\n",
       "      <td>0.423837</td>\n",
       "      <td>0.499754</td>\n",
       "      <td>0.360469</td>\n",
       "      <td>0.445282</td>\n",
       "      <td>0.494524</td>\n",
       "    </tr>\n",
       "    <tr>\n",
       "      <th>min</th>\n",
       "      <td>94561.000000</td>\n",
       "      <td>689.000000</td>\n",
       "      <td>18.000000</td>\n",
       "      <td>0.000000</td>\n",
       "      <td>0.000000e+00</td>\n",
       "      <td>1.000000</td>\n",
       "      <td>0.000000</td>\n",
       "      <td>0.000000</td>\n",
       "      <td>2.546300e+03</td>\n",
       "      <td>0.000000</td>\n",
       "      <td>0.000000</td>\n",
       "      <td>0.000000</td>\n",
       "      <td>0.000000</td>\n",
       "      <td>0.000000</td>\n",
       "    </tr>\n",
       "    <tr>\n",
       "      <th>25%</th>\n",
       "      <td>142638.000000</td>\n",
       "      <td>801.000000</td>\n",
       "      <td>33.000000</td>\n",
       "      <td>2.000000</td>\n",
       "      <td>2.956987e+05</td>\n",
       "      <td>2.000000</td>\n",
       "      <td>0.000000</td>\n",
       "      <td>0.000000</td>\n",
       "      <td>6.755698e+04</td>\n",
       "      <td>0.000000</td>\n",
       "      <td>0.000000</td>\n",
       "      <td>0.000000</td>\n",
       "      <td>0.000000</td>\n",
       "      <td>0.000000</td>\n",
       "    </tr>\n",
       "    <tr>\n",
       "      <th>50%</th>\n",
       "      <td>172710.000000</td>\n",
       "      <td>840.000000</td>\n",
       "      <td>40.000000</td>\n",
       "      <td>4.000000</td>\n",
       "      <td>5.242953e+05</td>\n",
       "      <td>2.000000</td>\n",
       "      <td>1.000000</td>\n",
       "      <td>1.000000</td>\n",
       "      <td>1.062502e+05</td>\n",
       "      <td>0.000000</td>\n",
       "      <td>0.000000</td>\n",
       "      <td>0.000000</td>\n",
       "      <td>0.000000</td>\n",
       "      <td>1.000000</td>\n",
       "    </tr>\n",
       "    <tr>\n",
       "      <th>75%</th>\n",
       "      <td>201145.500000</td>\n",
       "      <td>882.000000</td>\n",
       "      <td>52.000000</td>\n",
       "      <td>5.000000</td>\n",
       "      <td>9.800512e+05</td>\n",
       "      <td>2.000000</td>\n",
       "      <td>1.000000</td>\n",
       "      <td>1.000000</td>\n",
       "      <td>1.551446e+05</td>\n",
       "      <td>0.000000</td>\n",
       "      <td>1.000000</td>\n",
       "      <td>0.000000</td>\n",
       "      <td>1.000000</td>\n",
       "      <td>1.000000</td>\n",
       "    </tr>\n",
       "    <tr>\n",
       "      <th>max</th>\n",
       "      <td>229136.000000</td>\n",
       "      <td>1000.000000</td>\n",
       "      <td>86.000000</td>\n",
       "      <td>9.000000</td>\n",
       "      <td>1.191136e+08</td>\n",
       "      <td>5.000000</td>\n",
       "      <td>1.000000</td>\n",
       "      <td>1.000000</td>\n",
       "      <td>1.395064e+06</td>\n",
       "      <td>1.000000</td>\n",
       "      <td>1.000000</td>\n",
       "      <td>1.000000</td>\n",
       "      <td>1.000000</td>\n",
       "      <td>1.000000</td>\n",
       "    </tr>\n",
       "  </tbody>\n",
       "</table>\n",
       "</div>"
      ],
      "text/plain": [
       "              userid        score          age       equity       balance  \\\n",
       "count    7695.000000  7695.000000  7695.000000  7695.000000  7.695000e+03   \n",
       "mean   171710.892268   843.744120    42.924366     3.394802  8.272456e+05   \n",
       "std     33812.862444    55.342539    12.244010     1.584817  1.980327e+06   \n",
       "min     94561.000000   689.000000    18.000000     0.000000  0.000000e+00   \n",
       "25%    142638.000000   801.000000    33.000000     2.000000  2.956987e+05   \n",
       "50%    172710.000000   840.000000    40.000000     4.000000  5.242953e+05   \n",
       "75%    201145.500000   882.000000    52.000000     5.000000  9.800512e+05   \n",
       "max    229136.000000  1000.000000    86.000000     9.000000  1.191136e+08   \n",
       "\n",
       "          products  credit_card  last_activity    est_salary        churn  \\\n",
       "count  7695.000000  7695.000000    7695.000000  7.695000e+03  7695.000000   \n",
       "mean      2.081222     0.640156       0.515140  1.245204e+05     0.234698   \n",
       "std       0.757446     0.479986       0.499803  1.046671e+05     0.423837   \n",
       "min       1.000000     0.000000       0.000000  2.546300e+03     0.000000   \n",
       "25%       2.000000     0.000000       0.000000  6.755698e+04     0.000000   \n",
       "50%       2.000000     1.000000       1.000000  1.062502e+05     0.000000   \n",
       "75%       2.000000     1.000000       1.000000  1.551446e+05     0.000000   \n",
       "max       5.000000     1.000000       1.000000  1.395064e+06     1.000000   \n",
       "\n",
       "          gender_М       Ростов      Рыбинск    Ярославль  \n",
       "count  7695.000000  7695.000000  7695.000000  7695.000000  \n",
       "mean      0.483301     0.153476     0.272515     0.574009  \n",
       "std       0.499754     0.360469     0.445282     0.494524  \n",
       "min       0.000000     0.000000     0.000000     0.000000  \n",
       "25%       0.000000     0.000000     0.000000     0.000000  \n",
       "50%       0.000000     0.000000     0.000000     1.000000  \n",
       "75%       1.000000     0.000000     1.000000     1.000000  \n",
       "max       1.000000     1.000000     1.000000     1.000000  "
      ]
     },
     "metadata": {},
     "output_type": "display_data"
    }
   ],
   "source": [
    "balance_na = data[data['balance'].isna()]\n",
    "display(balance_na.describe())\n",
    "\n",
    "balance_not_na = data[~data['balance'].isna()]\n",
    "display(balance_not_na.describe())\n"
   ]
  },
  {
   "cell_type": "code",
   "execution_count": 12,
   "metadata": {},
   "outputs": [
    {
     "data": {
      "text/html": [
       "<div>\n",
       "<style scoped>\n",
       "    .dataframe tbody tr th:only-of-type {\n",
       "        vertical-align: middle;\n",
       "    }\n",
       "\n",
       "    .dataframe tbody tr th {\n",
       "        vertical-align: top;\n",
       "    }\n",
       "\n",
       "    .dataframe thead th {\n",
       "        text-align: right;\n",
       "    }\n",
       "</style>\n",
       "<table border=\"1\" class=\"dataframe\">\n",
       "  <thead>\n",
       "    <tr style=\"text-align: right;\">\n",
       "      <th></th>\n",
       "      <th>с пропусками</th>\n",
       "      <th>без пропусков</th>\n",
       "      <th>% изменения</th>\n",
       "    </tr>\n",
       "  </thead>\n",
       "  <tbody>\n",
       "    <tr>\n",
       "      <th>userid</th>\n",
       "      <td>171904.89</td>\n",
       "      <td>171710.89</td>\n",
       "      <td>0.11</td>\n",
       "    </tr>\n",
       "    <tr>\n",
       "      <th>score</th>\n",
       "      <td>865.36</td>\n",
       "      <td>843.74</td>\n",
       "      <td>2.56</td>\n",
       "    </tr>\n",
       "    <tr>\n",
       "      <th>age</th>\n",
       "      <td>42.09</td>\n",
       "      <td>42.92</td>\n",
       "      <td>-1.93</td>\n",
       "    </tr>\n",
       "    <tr>\n",
       "      <th>equity</th>\n",
       "      <td>0.05</td>\n",
       "      <td>3.39</td>\n",
       "      <td>-98.53</td>\n",
       "    </tr>\n",
       "    <tr>\n",
       "      <th>balance</th>\n",
       "      <td>NaN</td>\n",
       "      <td>827245.59</td>\n",
       "      <td>NaN</td>\n",
       "    </tr>\n",
       "    <tr>\n",
       "      <th>products</th>\n",
       "      <td>1.16</td>\n",
       "      <td>2.08</td>\n",
       "      <td>-44.23</td>\n",
       "    </tr>\n",
       "    <tr>\n",
       "      <th>credit_card</th>\n",
       "      <td>0.82</td>\n",
       "      <td>0.64</td>\n",
       "      <td>28.12</td>\n",
       "    </tr>\n",
       "    <tr>\n",
       "      <th>last_activity</th>\n",
       "      <td>0.55</td>\n",
       "      <td>0.52</td>\n",
       "      <td>5.77</td>\n",
       "    </tr>\n",
       "    <tr>\n",
       "      <th>est_salary</th>\n",
       "      <td>226345.42</td>\n",
       "      <td>124520.39</td>\n",
       "      <td>81.77</td>\n",
       "    </tr>\n",
       "    <tr>\n",
       "      <th>churn</th>\n",
       "      <td>0.01</td>\n",
       "      <td>0.23</td>\n",
       "      <td>-95.65</td>\n",
       "    </tr>\n",
       "    <tr>\n",
       "      <th>gender_М</th>\n",
       "      <td>0.56</td>\n",
       "      <td>0.48</td>\n",
       "      <td>16.67</td>\n",
       "    </tr>\n",
       "    <tr>\n",
       "      <th>Ростов</th>\n",
       "      <td>0.10</td>\n",
       "      <td>0.15</td>\n",
       "      <td>-33.33</td>\n",
       "    </tr>\n",
       "    <tr>\n",
       "      <th>Рыбинск</th>\n",
       "      <td>0.26</td>\n",
       "      <td>0.27</td>\n",
       "      <td>-3.70</td>\n",
       "    </tr>\n",
       "    <tr>\n",
       "      <th>Ярославль</th>\n",
       "      <td>0.64</td>\n",
       "      <td>0.57</td>\n",
       "      <td>12.28</td>\n",
       "    </tr>\n",
       "  </tbody>\n",
       "</table>\n",
       "</div>"
      ],
      "text/plain": [
       "               с пропусками  без пропусков  % изменения\n",
       "userid            171904.89      171710.89         0.11\n",
       "score                865.36         843.74         2.56\n",
       "age                   42.09          42.92        -1.93\n",
       "equity                 0.05           3.39       -98.53\n",
       "balance                 NaN      827245.59          NaN\n",
       "products               1.16           2.08       -44.23\n",
       "credit_card            0.82           0.64        28.12\n",
       "last_activity          0.55           0.52         5.77\n",
       "est_salary        226345.42      124520.39        81.77\n",
       "churn                  0.01           0.23       -95.65\n",
       "gender_М               0.56           0.48        16.67\n",
       "Ростов                 0.10           0.15       -33.33\n",
       "Рыбинск                0.26           0.27        -3.70\n",
       "Ярославль              0.64           0.57        12.28"
      ]
     },
     "execution_count": 12,
     "metadata": {},
     "output_type": "execute_result"
    }
   ],
   "source": [
    "mean_na = balance_na.mean().round(2)\n",
    "mean_not_na = balance_not_na.mean().round(2)\n",
    "\n",
    "mean_na_table = pd.concat([mean_na, mean_not_na], axis=1, join='inner')\n",
    "mean_na_table.columns = ['с пропусками', 'без пропусков']\n",
    "mean_na_table['% изменения'] = ((mean_na_table['с пропусками']/mean_na_table['без пропусков']-1)*100).round(2)\n",
    "mean_na_table"
   ]
  },
  {
   "cell_type": "markdown",
   "metadata": {},
   "source": [
    "Клиенты с пропусками в столбце с балансом выделяются очень низкими баллами собственности, у них существенно ниже среднее количество продуктов, выше зарплата и они практически все неотточные. Возможно это клиенты имеющие кредит в этом банке, и для такого типа счета не ведется статистика баланса, т.к. по сути это деньги банка, в пользу этой версии говорит низкий уровень баллов собственности (кредит как раз на преобритение этой собственности), количество продуктов банка как раз чуть выше 1, и более высокий уровень клиентов с кридитной картой 🤔. Думаю эти пропуски относятся к категории MNAR (Missing Not At Random / Отсутствует не случайно), без дополнительного обоснования их нельзя отбрасывать или заполнять одним значением, т.к. это приведёт к заметным искажениям.Предлагаю оставить эти данные без заполнения."
   ]
  },
  {
   "cell_type": "markdown",
   "metadata": {},
   "source": [
    "Проверим датасет на дубликаты:"
   ]
  },
  {
   "cell_type": "code",
   "execution_count": 13,
   "metadata": {},
   "outputs": [
    {
     "data": {
      "text/plain": [
       "0"
      ]
     },
     "execution_count": 13,
     "metadata": {},
     "output_type": "execute_result"
    }
   ],
   "source": [
    "data.duplicated().sum() "
   ]
  },
  {
   "cell_type": "markdown",
   "metadata": {},
   "source": [
    "Явных дубликатов не найдено, посмотрим есть ли повторяющиеся идентификаторы пользователей:"
   ]
  },
  {
   "cell_type": "code",
   "execution_count": 14,
   "metadata": {},
   "outputs": [
    {
     "data": {
      "text/plain": [
       "50"
      ]
     },
     "execution_count": 14,
     "metadata": {},
     "output_type": "execute_result"
    }
   ],
   "source": [
    "data['userid'].duplicated().sum()"
   ]
  },
  {
   "cell_type": "code",
   "execution_count": 15,
   "metadata": {},
   "outputs": [
    {
     "data": {
      "text/html": [
       "<div>\n",
       "<style scoped>\n",
       "    .dataframe tbody tr th:only-of-type {\n",
       "        vertical-align: middle;\n",
       "    }\n",
       "\n",
       "    .dataframe tbody tr th {\n",
       "        vertical-align: top;\n",
       "    }\n",
       "\n",
       "    .dataframe thead th {\n",
       "        text-align: right;\n",
       "    }\n",
       "</style>\n",
       "<table border=\"1\" class=\"dataframe\">\n",
       "  <thead>\n",
       "    <tr style=\"text-align: right;\">\n",
       "      <th></th>\n",
       "      <th>userid</th>\n",
       "      <th>score</th>\n",
       "      <th>age</th>\n",
       "      <th>equity</th>\n",
       "      <th>balance</th>\n",
       "      <th>products</th>\n",
       "      <th>credit_card</th>\n",
       "      <th>last_activity</th>\n",
       "      <th>est_salary</th>\n",
       "      <th>churn</th>\n",
       "      <th>gender_М</th>\n",
       "      <th>Ростов</th>\n",
       "      <th>Рыбинск</th>\n",
       "      <th>Ярославль</th>\n",
       "    </tr>\n",
       "  </thead>\n",
       "  <tbody>\n",
       "    <tr>\n",
       "      <th>1892</th>\n",
       "      <td>116540</td>\n",
       "      <td>883.0</td>\n",
       "      <td>55</td>\n",
       "      <td>1</td>\n",
       "      <td>362756.49</td>\n",
       "      <td>3</td>\n",
       "      <td>0</td>\n",
       "      <td>1</td>\n",
       "      <td>175920.48</td>\n",
       "      <td>1</td>\n",
       "      <td>0</td>\n",
       "      <td>0</td>\n",
       "      <td>1</td>\n",
       "      <td>0</td>\n",
       "    </tr>\n",
       "    <tr>\n",
       "      <th>7683</th>\n",
       "      <td>116540</td>\n",
       "      <td>887.0</td>\n",
       "      <td>38</td>\n",
       "      <td>0</td>\n",
       "      <td>NaN</td>\n",
       "      <td>1</td>\n",
       "      <td>0</td>\n",
       "      <td>1</td>\n",
       "      <td>119247.61</td>\n",
       "      <td>0</td>\n",
       "      <td>0</td>\n",
       "      <td>0</td>\n",
       "      <td>0</td>\n",
       "      <td>1</td>\n",
       "    </tr>\n",
       "    <tr>\n",
       "      <th>4862</th>\n",
       "      <td>117943</td>\n",
       "      <td>855.0</td>\n",
       "      <td>32</td>\n",
       "      <td>6</td>\n",
       "      <td>1036832.93</td>\n",
       "      <td>4</td>\n",
       "      <td>1</td>\n",
       "      <td>1</td>\n",
       "      <td>107792.71</td>\n",
       "      <td>1</td>\n",
       "      <td>0</td>\n",
       "      <td>0</td>\n",
       "      <td>1</td>\n",
       "      <td>0</td>\n",
       "    </tr>\n",
       "    <tr>\n",
       "      <th>7531</th>\n",
       "      <td>117943</td>\n",
       "      <td>880.0</td>\n",
       "      <td>40</td>\n",
       "      <td>0</td>\n",
       "      <td>NaN</td>\n",
       "      <td>1</td>\n",
       "      <td>1</td>\n",
       "      <td>0</td>\n",
       "      <td>137718.93</td>\n",
       "      <td>0</td>\n",
       "      <td>0</td>\n",
       "      <td>0</td>\n",
       "      <td>0</td>\n",
       "      <td>1</td>\n",
       "    </tr>\n",
       "    <tr>\n",
       "      <th>5856</th>\n",
       "      <td>120258</td>\n",
       "      <td>908.0</td>\n",
       "      <td>38</td>\n",
       "      <td>4</td>\n",
       "      <td>2213581.63</td>\n",
       "      <td>2</td>\n",
       "      <td>0</td>\n",
       "      <td>1</td>\n",
       "      <td>160327.77</td>\n",
       "      <td>1</td>\n",
       "      <td>0</td>\n",
       "      <td>0</td>\n",
       "      <td>1</td>\n",
       "      <td>0</td>\n",
       "    </tr>\n",
       "    <tr>\n",
       "      <th>5889</th>\n",
       "      <td>120258</td>\n",
       "      <td>905.0</td>\n",
       "      <td>30</td>\n",
       "      <td>0</td>\n",
       "      <td>NaN</td>\n",
       "      <td>1</td>\n",
       "      <td>1</td>\n",
       "      <td>1</td>\n",
       "      <td>146427.96</td>\n",
       "      <td>0</td>\n",
       "      <td>1</td>\n",
       "      <td>0</td>\n",
       "      <td>0</td>\n",
       "      <td>1</td>\n",
       "    </tr>\n",
       "    <tr>\n",
       "      <th>1410</th>\n",
       "      <td>123461</td>\n",
       "      <td>829.0</td>\n",
       "      <td>59</td>\n",
       "      <td>0</td>\n",
       "      <td>96222.44</td>\n",
       "      <td>2</td>\n",
       "      <td>0</td>\n",
       "      <td>1</td>\n",
       "      <td>102771.55</td>\n",
       "      <td>1</td>\n",
       "      <td>0</td>\n",
       "      <td>0</td>\n",
       "      <td>0</td>\n",
       "      <td>1</td>\n",
       "    </tr>\n",
       "    <tr>\n",
       "      <th>8621</th>\n",
       "      <td>123461</td>\n",
       "      <td>934.0</td>\n",
       "      <td>34</td>\n",
       "      <td>0</td>\n",
       "      <td>NaN</td>\n",
       "      <td>2</td>\n",
       "      <td>1</td>\n",
       "      <td>0</td>\n",
       "      <td>291619.27</td>\n",
       "      <td>0</td>\n",
       "      <td>1</td>\n",
       "      <td>0</td>\n",
       "      <td>1</td>\n",
       "      <td>0</td>\n",
       "    </tr>\n",
       "    <tr>\n",
       "      <th>9750</th>\n",
       "      <td>124450</td>\n",
       "      <td>758.0</td>\n",
       "      <td>36</td>\n",
       "      <td>0</td>\n",
       "      <td>73574.07</td>\n",
       "      <td>2</td>\n",
       "      <td>0</td>\n",
       "      <td>1</td>\n",
       "      <td>79963.59</td>\n",
       "      <td>0</td>\n",
       "      <td>0</td>\n",
       "      <td>0</td>\n",
       "      <td>1</td>\n",
       "      <td>0</td>\n",
       "    </tr>\n",
       "    <tr>\n",
       "      <th>8151</th>\n",
       "      <td>124450</td>\n",
       "      <td>859.0</td>\n",
       "      <td>38</td>\n",
       "      <td>6</td>\n",
       "      <td>516811.20</td>\n",
       "      <td>1</td>\n",
       "      <td>1</td>\n",
       "      <td>1</td>\n",
       "      <td>95144.63</td>\n",
       "      <td>1</td>\n",
       "      <td>0</td>\n",
       "      <td>0</td>\n",
       "      <td>0</td>\n",
       "      <td>1</td>\n",
       "    </tr>\n",
       "  </tbody>\n",
       "</table>\n",
       "</div>"
      ],
      "text/plain": [
       "      userid  score  age  equity     balance  products  credit_card  \\\n",
       "1892  116540  883.0   55       1   362756.49         3            0   \n",
       "7683  116540  887.0   38       0         NaN         1            0   \n",
       "4862  117943  855.0   32       6  1036832.93         4            1   \n",
       "7531  117943  880.0   40       0         NaN         1            1   \n",
       "5856  120258  908.0   38       4  2213581.63         2            0   \n",
       "5889  120258  905.0   30       0         NaN         1            1   \n",
       "1410  123461  829.0   59       0    96222.44         2            0   \n",
       "8621  123461  934.0   34       0         NaN         2            1   \n",
       "9750  124450  758.0   36       0    73574.07         2            0   \n",
       "8151  124450  859.0   38       6   516811.20         1            1   \n",
       "\n",
       "      last_activity  est_salary  churn  gender_М  Ростов  Рыбинск  Ярославль  \n",
       "1892              1   175920.48      1         0       0        1          0  \n",
       "7683              1   119247.61      0         0       0        0          1  \n",
       "4862              1   107792.71      1         0       0        1          0  \n",
       "7531              0   137718.93      0         0       0        0          1  \n",
       "5856              1   160327.77      1         0       0        1          0  \n",
       "5889              1   146427.96      0         1       0        0          1  \n",
       "1410              1   102771.55      1         0       0        0          1  \n",
       "8621              0   291619.27      0         1       0        1          0  \n",
       "9750              1    79963.59      0         0       0        1          0  \n",
       "8151              1    95144.63      1         0       0        0          1  "
      ]
     },
     "execution_count": 15,
     "metadata": {},
     "output_type": "execute_result"
    }
   ],
   "source": [
    "data[data['userid'].duplicated(keep=False)].sort_values(by='userid').head(10)"
   ]
  },
  {
   "cell_type": "markdown",
   "metadata": {},
   "source": [
    "Как видно из таблицы с дубликатами по индитификатору пользователей, одинаковые id имеют пользователи из разных городов - из Рыбинска и Ярославля, возможно раньше была база не связанная между собой и повтор id в разных городах был возможен. Удалять дубликаты мы не будем."
   ]
  },
  {
   "cell_type": "markdown",
   "metadata": {},
   "source": [
    "При применении метода describe() найдено аномальное значение с количеством продуктов = 0:"
   ]
  },
  {
   "cell_type": "code",
   "execution_count": 16,
   "metadata": {},
   "outputs": [
    {
     "data": {
      "text/html": [
       "<div>\n",
       "<style scoped>\n",
       "    .dataframe tbody tr th:only-of-type {\n",
       "        vertical-align: middle;\n",
       "    }\n",
       "\n",
       "    .dataframe tbody tr th {\n",
       "        vertical-align: top;\n",
       "    }\n",
       "\n",
       "    .dataframe thead th {\n",
       "        text-align: right;\n",
       "    }\n",
       "</style>\n",
       "<table border=\"1\" class=\"dataframe\">\n",
       "  <thead>\n",
       "    <tr style=\"text-align: right;\">\n",
       "      <th></th>\n",
       "      <th>userid</th>\n",
       "      <th>score</th>\n",
       "      <th>age</th>\n",
       "      <th>equity</th>\n",
       "      <th>balance</th>\n",
       "      <th>products</th>\n",
       "      <th>credit_card</th>\n",
       "      <th>last_activity</th>\n",
       "      <th>est_salary</th>\n",
       "      <th>churn</th>\n",
       "      <th>gender_М</th>\n",
       "      <th>Ростов</th>\n",
       "      <th>Рыбинск</th>\n",
       "      <th>Ярославль</th>\n",
       "    </tr>\n",
       "  </thead>\n",
       "  <tbody>\n",
       "    <tr>\n",
       "      <th>8939</th>\n",
       "      <td>147837</td>\n",
       "      <td>962.0</td>\n",
       "      <td>79</td>\n",
       "      <td>3</td>\n",
       "      <td>NaN</td>\n",
       "      <td>0</td>\n",
       "      <td>0</td>\n",
       "      <td>0</td>\n",
       "      <td>25063.96</td>\n",
       "      <td>1</td>\n",
       "      <td>0</td>\n",
       "      <td>0</td>\n",
       "      <td>1</td>\n",
       "      <td>0</td>\n",
       "    </tr>\n",
       "  </tbody>\n",
       "</table>\n",
       "</div>"
      ],
      "text/plain": [
       "      userid  score  age  equity  balance  products  credit_card  \\\n",
       "8939  147837  962.0   79       3      NaN         0            0   \n",
       "\n",
       "      last_activity  est_salary  churn  gender_М  Ростов  Рыбинск  Ярославль  \n",
       "8939              0    25063.96      1         0       0        1          0  "
      ]
     },
     "execution_count": 16,
     "metadata": {},
     "output_type": "execute_result"
    }
   ],
   "source": [
    "data[data['products']==0]"
   ]
  },
  {
   "cell_type": "markdown",
   "metadata": {},
   "source": [
    "Удалим эту строку:"
   ]
  },
  {
   "cell_type": "code",
   "execution_count": 17,
   "metadata": {},
   "outputs": [],
   "source": [
    "data = data[data['products']!=0]"
   ]
  },
  {
   "cell_type": "code",
   "execution_count": 18,
   "metadata": {},
   "outputs": [
    {
     "name": "stdout",
     "output_type": "stream",
     "text": [
      "<class 'pandas.core.frame.DataFrame'>\n",
      "Int64Index: 9973 entries, 0 to 9973\n",
      "Data columns (total 14 columns):\n",
      " #   Column         Non-Null Count  Dtype  \n",
      "---  ------         --------------  -----  \n",
      " 0   userid         9973 non-null   int64  \n",
      " 1   score          9973 non-null   float64\n",
      " 2   age            9973 non-null   int64  \n",
      " 3   equity         9973 non-null   int64  \n",
      " 4   balance        7695 non-null   float64\n",
      " 5   products       9973 non-null   int64  \n",
      " 6   credit_card    9973 non-null   int64  \n",
      " 7   last_activity  9973 non-null   int64  \n",
      " 8   est_salary     9973 non-null   float64\n",
      " 9   churn          9973 non-null   int64  \n",
      " 10  gender_М       9973 non-null   uint8  \n",
      " 11  Ростов         9973 non-null   uint8  \n",
      " 12  Рыбинск        9973 non-null   uint8  \n",
      " 13  Ярославль      9973 non-null   uint8  \n",
      "dtypes: float64(3), int64(7), uint8(4)\n",
      "memory usage: 896.0 KB\n"
     ]
    }
   ],
   "source": [
    "data.info()"
   ]
  },
  {
   "cell_type": "code",
   "execution_count": 19,
   "metadata": {},
   "outputs": [
    {
     "data": {
      "text/plain": [
       "userid            0.00\n",
       "score             0.00\n",
       "age               0.00\n",
       "equity            0.00\n",
       "balance          22.84\n",
       "products          0.00\n",
       "credit_card       0.00\n",
       "last_activity     0.00\n",
       "est_salary        0.00\n",
       "churn             0.00\n",
       "gender_М          0.00\n",
       "Ростов            0.00\n",
       "Рыбинск           0.00\n",
       "Ярославль         0.00\n",
       "dtype: float64"
      ]
     },
     "execution_count": 19,
     "metadata": {},
     "output_type": "execute_result"
    }
   ],
   "source": [
    "round(data.isna().sum()/len(data)*100,2)"
   ]
  },
  {
   "cell_type": "markdown",
   "metadata": {},
   "source": [
    "**Вывод:**\n",
    "\n",
    "Мы провели предобработку данных.\n",
    "Столбцы с городом и полом перекодированы в бинарный вид.\n",
    "В столбце с возрастом было 26 пропусков, которые мы удалили ввиду маленького количества относительно всего датасета.\n",
    "В столбце с балансом пропусков 22.85%, удалять такое количество или заменять без подтвержденной информации причины появления этих пропусков мы не можем, оставляем как есть.\n",
    "Полные дубликаты не найдены. Присутствуют дубликаты с id номером, их тоже оставляем.\n",
    "Так же найлено одна строка с аномальным значением в столбце с количеством продуктов = 0 - строка удалена."
   ]
  },
  {
   "cell_type": "markdown",
   "metadata": {},
   "source": [
    "## 2 Шаг. Исследовательский анализ данных."
   ]
  },
  {
   "cell_type": "markdown",
   "metadata": {},
   "source": [
    "**Посмотрим портрет клиента банка:**"
   ]
  },
  {
   "cell_type": "code",
   "execution_count": 21,
   "metadata": {},
   "outputs": [
    {
     "data": {
      "text/html": [
       "<div>\n",
       "<style scoped>\n",
       "    .dataframe tbody tr th:only-of-type {\n",
       "        vertical-align: middle;\n",
       "    }\n",
       "\n",
       "    .dataframe tbody tr th {\n",
       "        vertical-align: top;\n",
       "    }\n",
       "\n",
       "    .dataframe thead th {\n",
       "        text-align: right;\n",
       "    }\n",
       "</style>\n",
       "<table border=\"1\" class=\"dataframe\">\n",
       "  <thead>\n",
       "    <tr style=\"text-align: right;\">\n",
       "      <th></th>\n",
       "      <th>userid</th>\n",
       "      <th>score</th>\n",
       "      <th>age</th>\n",
       "      <th>equity</th>\n",
       "      <th>balance</th>\n",
       "      <th>products</th>\n",
       "      <th>credit_card</th>\n",
       "      <th>last_activity</th>\n",
       "      <th>est_salary</th>\n",
       "      <th>churn</th>\n",
       "      <th>gender_М</th>\n",
       "      <th>Ростов</th>\n",
       "      <th>Рыбинск</th>\n",
       "      <th>Ярославль</th>\n",
       "    </tr>\n",
       "  </thead>\n",
       "  <tbody>\n",
       "    <tr>\n",
       "      <th>count</th>\n",
       "      <td>9973.000000</td>\n",
       "      <td>9973.000000</td>\n",
       "      <td>9973.000000</td>\n",
       "      <td>9973.000000</td>\n",
       "      <td>7.695000e+03</td>\n",
       "      <td>9973.000000</td>\n",
       "      <td>9973.000000</td>\n",
       "      <td>9973.000000</td>\n",
       "      <td>9.973000e+03</td>\n",
       "      <td>9973.000000</td>\n",
       "      <td>9973.000000</td>\n",
       "      <td>9973.000000</td>\n",
       "      <td>9973.000000</td>\n",
       "      <td>9973.000000</td>\n",
       "    </tr>\n",
       "    <tr>\n",
       "      <th>mean</th>\n",
       "      <td>171757.616966</td>\n",
       "      <td>848.671212</td>\n",
       "      <td>42.730773</td>\n",
       "      <td>2.630803</td>\n",
       "      <td>8.272456e+05</td>\n",
       "      <td>1.871653</td>\n",
       "      <td>0.680237</td>\n",
       "      <td>0.522912</td>\n",
       "      <td>1.477991e+05</td>\n",
       "      <td>0.182292</td>\n",
       "      <td>0.500451</td>\n",
       "      <td>0.141983</td>\n",
       "      <td>0.268926</td>\n",
       "      <td>0.589091</td>\n",
       "    </tr>\n",
       "    <tr>\n",
       "      <th>std</th>\n",
       "      <td>33696.365256</td>\n",
       "      <td>65.393153</td>\n",
       "      <td>12.175166</td>\n",
       "      <td>1.980060</td>\n",
       "      <td>1.980327e+06</td>\n",
       "      <td>0.792547</td>\n",
       "      <td>0.466408</td>\n",
       "      <td>0.499500</td>\n",
       "      <td>1.392871e+05</td>\n",
       "      <td>0.386105</td>\n",
       "      <td>0.500025</td>\n",
       "      <td>0.349051</td>\n",
       "      <td>0.443424</td>\n",
       "      <td>0.492024</td>\n",
       "    </tr>\n",
       "    <tr>\n",
       "      <th>min</th>\n",
       "      <td>94561.000000</td>\n",
       "      <td>642.000000</td>\n",
       "      <td>18.000000</td>\n",
       "      <td>0.000000</td>\n",
       "      <td>0.000000e+00</td>\n",
       "      <td>1.000000</td>\n",
       "      <td>0.000000</td>\n",
       "      <td>0.000000</td>\n",
       "      <td>2.546300e+03</td>\n",
       "      <td>0.000000</td>\n",
       "      <td>0.000000</td>\n",
       "      <td>0.000000</td>\n",
       "      <td>0.000000</td>\n",
       "      <td>0.000000</td>\n",
       "    </tr>\n",
       "    <tr>\n",
       "      <th>25%</th>\n",
       "      <td>142757.000000</td>\n",
       "      <td>802.000000</td>\n",
       "      <td>33.000000</td>\n",
       "      <td>0.000000</td>\n",
       "      <td>2.956987e+05</td>\n",
       "      <td>1.000000</td>\n",
       "      <td>0.000000</td>\n",
       "      <td>0.000000</td>\n",
       "      <td>7.525202e+04</td>\n",
       "      <td>0.000000</td>\n",
       "      <td>0.000000</td>\n",
       "      <td>0.000000</td>\n",
       "      <td>0.000000</td>\n",
       "      <td>0.000000</td>\n",
       "    </tr>\n",
       "    <tr>\n",
       "      <th>50%</th>\n",
       "      <td>172651.000000</td>\n",
       "      <td>853.000000</td>\n",
       "      <td>40.000000</td>\n",
       "      <td>3.000000</td>\n",
       "      <td>5.242953e+05</td>\n",
       "      <td>2.000000</td>\n",
       "      <td>1.000000</td>\n",
       "      <td>1.000000</td>\n",
       "      <td>1.196431e+05</td>\n",
       "      <td>0.000000</td>\n",
       "      <td>1.000000</td>\n",
       "      <td>0.000000</td>\n",
       "      <td>0.000000</td>\n",
       "      <td>1.000000</td>\n",
       "    </tr>\n",
       "    <tr>\n",
       "      <th>75%</th>\n",
       "      <td>201164.000000</td>\n",
       "      <td>900.000000</td>\n",
       "      <td>51.000000</td>\n",
       "      <td>4.000000</td>\n",
       "      <td>9.800512e+05</td>\n",
       "      <td>2.000000</td>\n",
       "      <td>1.000000</td>\n",
       "      <td>1.000000</td>\n",
       "      <td>1.745000e+05</td>\n",
       "      <td>0.000000</td>\n",
       "      <td>1.000000</td>\n",
       "      <td>0.000000</td>\n",
       "      <td>1.000000</td>\n",
       "      <td>1.000000</td>\n",
       "    </tr>\n",
       "    <tr>\n",
       "      <th>max</th>\n",
       "      <td>229145.000000</td>\n",
       "      <td>1000.000000</td>\n",
       "      <td>86.000000</td>\n",
       "      <td>9.000000</td>\n",
       "      <td>1.191136e+08</td>\n",
       "      <td>5.000000</td>\n",
       "      <td>1.000000</td>\n",
       "      <td>1.000000</td>\n",
       "      <td>1.395064e+06</td>\n",
       "      <td>1.000000</td>\n",
       "      <td>1.000000</td>\n",
       "      <td>1.000000</td>\n",
       "      <td>1.000000</td>\n",
       "      <td>1.000000</td>\n",
       "    </tr>\n",
       "  </tbody>\n",
       "</table>\n",
       "</div>"
      ],
      "text/plain": [
       "              userid        score          age       equity       balance  \\\n",
       "count    9973.000000  9973.000000  9973.000000  9973.000000  7.695000e+03   \n",
       "mean   171757.616966   848.671212    42.730773     2.630803  8.272456e+05   \n",
       "std     33696.365256    65.393153    12.175166     1.980060  1.980327e+06   \n",
       "min     94561.000000   642.000000    18.000000     0.000000  0.000000e+00   \n",
       "25%    142757.000000   802.000000    33.000000     0.000000  2.956987e+05   \n",
       "50%    172651.000000   853.000000    40.000000     3.000000  5.242953e+05   \n",
       "75%    201164.000000   900.000000    51.000000     4.000000  9.800512e+05   \n",
       "max    229145.000000  1000.000000    86.000000     9.000000  1.191136e+08   \n",
       "\n",
       "          products  credit_card  last_activity    est_salary        churn  \\\n",
       "count  9973.000000  9973.000000    9973.000000  9.973000e+03  9973.000000   \n",
       "mean      1.871653     0.680237       0.522912  1.477991e+05     0.182292   \n",
       "std       0.792547     0.466408       0.499500  1.392871e+05     0.386105   \n",
       "min       1.000000     0.000000       0.000000  2.546300e+03     0.000000   \n",
       "25%       1.000000     0.000000       0.000000  7.525202e+04     0.000000   \n",
       "50%       2.000000     1.000000       1.000000  1.196431e+05     0.000000   \n",
       "75%       2.000000     1.000000       1.000000  1.745000e+05     0.000000   \n",
       "max       5.000000     1.000000       1.000000  1.395064e+06     1.000000   \n",
       "\n",
       "          gender_М       Ростов      Рыбинск    Ярославль  \n",
       "count  9973.000000  9973.000000  9973.000000  9973.000000  \n",
       "mean      0.500451     0.141983     0.268926     0.589091  \n",
       "std       0.500025     0.349051     0.443424     0.492024  \n",
       "min       0.000000     0.000000     0.000000     0.000000  \n",
       "25%       0.000000     0.000000     0.000000     0.000000  \n",
       "50%       1.000000     0.000000     0.000000     1.000000  \n",
       "75%       1.000000     0.000000     1.000000     1.000000  \n",
       "max       1.000000     1.000000     1.000000     1.000000  "
      ]
     },
     "execution_count": 21,
     "metadata": {},
     "output_type": "execute_result"
    }
   ],
   "source": [
    "data.describe()"
   ]
  },
  {
   "cell_type": "markdown",
   "metadata": {},
   "source": [
    "Портрет клиента банка:\n",
    "- средний балл кредитного скоринга 848\n",
    "- средний возраст 42.7, медианный чуть меньше - 40\n",
    "- количество баллов собственности в среднем 2.6\n",
    "- баланс на счете в среднем 827245, медиана значительно меньше 524295, что говорит о выбросах\n",
    "- количество продуктов, которыми пользуется клиент в среднем 1.8\n",
    "- кредитная карта есть у 68%\n",
    "- активных клиентов 52%\n",
    "- средняя заработная плата клиента 147786, медианная 119628\n",
    "- процент оттока 18%\n",
    "- женщин и мужчин поровну"
   ]
  },
  {
   "cell_type": "markdown",
   "metadata": {},
   "source": [
    "Так же составим портреты отточных клиентов:"
   ]
  },
  {
   "cell_type": "code",
   "execution_count": 22,
   "metadata": {
    "scrolled": true
   },
   "outputs": [
    {
     "data": {
      "text/html": [
       "<div>\n",
       "<style scoped>\n",
       "    .dataframe tbody tr th:only-of-type {\n",
       "        vertical-align: middle;\n",
       "    }\n",
       "\n",
       "    .dataframe tbody tr th {\n",
       "        vertical-align: top;\n",
       "    }\n",
       "\n",
       "    .dataframe thead th {\n",
       "        text-align: right;\n",
       "    }\n",
       "</style>\n",
       "<table border=\"1\" class=\"dataframe\">\n",
       "  <thead>\n",
       "    <tr style=\"text-align: right;\">\n",
       "      <th></th>\n",
       "      <th>userid</th>\n",
       "      <th>score</th>\n",
       "      <th>age</th>\n",
       "      <th>equity</th>\n",
       "      <th>balance</th>\n",
       "      <th>products</th>\n",
       "      <th>credit_card</th>\n",
       "      <th>last_activity</th>\n",
       "      <th>est_salary</th>\n",
       "      <th>churn</th>\n",
       "      <th>gender_М</th>\n",
       "      <th>Ростов</th>\n",
       "      <th>Рыбинск</th>\n",
       "      <th>Ярославль</th>\n",
       "    </tr>\n",
       "  </thead>\n",
       "  <tbody>\n",
       "    <tr>\n",
       "      <th>count</th>\n",
       "      <td>1818.000000</td>\n",
       "      <td>1818.000000</td>\n",
       "      <td>1818.000000</td>\n",
       "      <td>1818.000000</td>\n",
       "      <td>1.806000e+03</td>\n",
       "      <td>1818.000000</td>\n",
       "      <td>1818.000000</td>\n",
       "      <td>1818.000000</td>\n",
       "      <td>1.818000e+03</td>\n",
       "      <td>1818.0</td>\n",
       "      <td>1818.000000</td>\n",
       "      <td>1818.000000</td>\n",
       "      <td>1818.000000</td>\n",
       "      <td>1818.000000</td>\n",
       "    </tr>\n",
       "    <tr>\n",
       "      <th>mean</th>\n",
       "      <td>170992.833883</td>\n",
       "      <td>863.361936</td>\n",
       "      <td>41.429593</td>\n",
       "      <td>3.763476</td>\n",
       "      <td>1.134458e+06</td>\n",
       "      <td>2.377338</td>\n",
       "      <td>0.551705</td>\n",
       "      <td>0.702420</td>\n",
       "      <td>1.483575e+05</td>\n",
       "      <td>1.0</td>\n",
       "      <td>0.650715</td>\n",
       "      <td>0.145765</td>\n",
       "      <td>0.239824</td>\n",
       "      <td>0.614411</td>\n",
       "    </tr>\n",
       "    <tr>\n",
       "      <th>std</th>\n",
       "      <td>35296.715110</td>\n",
       "      <td>49.580696</td>\n",
       "      <td>11.144754</td>\n",
       "      <td>1.586316</td>\n",
       "      <td>2.034446e+06</td>\n",
       "      <td>0.922162</td>\n",
       "      <td>0.497456</td>\n",
       "      <td>0.457319</td>\n",
       "      <td>1.229320e+05</td>\n",
       "      <td>0.0</td>\n",
       "      <td>0.476875</td>\n",
       "      <td>0.352967</td>\n",
       "      <td>0.427093</td>\n",
       "      <td>0.486868</td>\n",
       "    </tr>\n",
       "    <tr>\n",
       "      <th>min</th>\n",
       "      <td>94561.000000</td>\n",
       "      <td>706.000000</td>\n",
       "      <td>18.000000</td>\n",
       "      <td>0.000000</td>\n",
       "      <td>6.000000e+00</td>\n",
       "      <td>1.000000</td>\n",
       "      <td>0.000000</td>\n",
       "      <td>0.000000</td>\n",
       "      <td>1.088027e+04</td>\n",
       "      <td>1.0</td>\n",
       "      <td>0.000000</td>\n",
       "      <td>0.000000</td>\n",
       "      <td>0.000000</td>\n",
       "      <td>0.000000</td>\n",
       "    </tr>\n",
       "    <tr>\n",
       "      <th>25%</th>\n",
       "      <td>141302.500000</td>\n",
       "      <td>828.000000</td>\n",
       "      <td>32.000000</td>\n",
       "      <td>3.000000</td>\n",
       "      <td>3.874822e+05</td>\n",
       "      <td>2.000000</td>\n",
       "      <td>0.000000</td>\n",
       "      <td>0.000000</td>\n",
       "      <td>8.328566e+04</td>\n",
       "      <td>1.0</td>\n",
       "      <td>0.000000</td>\n",
       "      <td>0.000000</td>\n",
       "      <td>0.000000</td>\n",
       "      <td>0.000000</td>\n",
       "    </tr>\n",
       "    <tr>\n",
       "      <th>50%</th>\n",
       "      <td>170638.500000</td>\n",
       "      <td>866.000000</td>\n",
       "      <td>39.000000</td>\n",
       "      <td>4.000000</td>\n",
       "      <td>7.839089e+05</td>\n",
       "      <td>2.000000</td>\n",
       "      <td>1.000000</td>\n",
       "      <td>1.000000</td>\n",
       "      <td>1.254089e+05</td>\n",
       "      <td>1.0</td>\n",
       "      <td>1.000000</td>\n",
       "      <td>0.000000</td>\n",
       "      <td>0.000000</td>\n",
       "      <td>1.000000</td>\n",
       "    </tr>\n",
       "    <tr>\n",
       "      <th>75%</th>\n",
       "      <td>201412.750000</td>\n",
       "      <td>898.000000</td>\n",
       "      <td>52.000000</td>\n",
       "      <td>5.000000</td>\n",
       "      <td>1.348128e+06</td>\n",
       "      <td>3.000000</td>\n",
       "      <td>1.000000</td>\n",
       "      <td>1.000000</td>\n",
       "      <td>1.760178e+05</td>\n",
       "      <td>1.0</td>\n",
       "      <td>1.000000</td>\n",
       "      <td>0.000000</td>\n",
       "      <td>0.000000</td>\n",
       "      <td>1.000000</td>\n",
       "    </tr>\n",
       "    <tr>\n",
       "      <th>max</th>\n",
       "      <td>229058.000000</td>\n",
       "      <td>1000.000000</td>\n",
       "      <td>75.000000</td>\n",
       "      <td>9.000000</td>\n",
       "      <td>6.486621e+07</td>\n",
       "      <td>5.000000</td>\n",
       "      <td>1.000000</td>\n",
       "      <td>1.000000</td>\n",
       "      <td>1.263028e+06</td>\n",
       "      <td>1.0</td>\n",
       "      <td>1.000000</td>\n",
       "      <td>1.000000</td>\n",
       "      <td>1.000000</td>\n",
       "      <td>1.000000</td>\n",
       "    </tr>\n",
       "  </tbody>\n",
       "</table>\n",
       "</div>"
      ],
      "text/plain": [
       "              userid        score          age       equity       balance  \\\n",
       "count    1818.000000  1818.000000  1818.000000  1818.000000  1.806000e+03   \n",
       "mean   170992.833883   863.361936    41.429593     3.763476  1.134458e+06   \n",
       "std     35296.715110    49.580696    11.144754     1.586316  2.034446e+06   \n",
       "min     94561.000000   706.000000    18.000000     0.000000  6.000000e+00   \n",
       "25%    141302.500000   828.000000    32.000000     3.000000  3.874822e+05   \n",
       "50%    170638.500000   866.000000    39.000000     4.000000  7.839089e+05   \n",
       "75%    201412.750000   898.000000    52.000000     5.000000  1.348128e+06   \n",
       "max    229058.000000  1000.000000    75.000000     9.000000  6.486621e+07   \n",
       "\n",
       "          products  credit_card  last_activity    est_salary   churn  \\\n",
       "count  1818.000000  1818.000000    1818.000000  1.818000e+03  1818.0   \n",
       "mean      2.377338     0.551705       0.702420  1.483575e+05     1.0   \n",
       "std       0.922162     0.497456       0.457319  1.229320e+05     0.0   \n",
       "min       1.000000     0.000000       0.000000  1.088027e+04     1.0   \n",
       "25%       2.000000     0.000000       0.000000  8.328566e+04     1.0   \n",
       "50%       2.000000     1.000000       1.000000  1.254089e+05     1.0   \n",
       "75%       3.000000     1.000000       1.000000  1.760178e+05     1.0   \n",
       "max       5.000000     1.000000       1.000000  1.263028e+06     1.0   \n",
       "\n",
       "          gender_М       Ростов      Рыбинск    Ярославль  \n",
       "count  1818.000000  1818.000000  1818.000000  1818.000000  \n",
       "mean      0.650715     0.145765     0.239824     0.614411  \n",
       "std       0.476875     0.352967     0.427093     0.486868  \n",
       "min       0.000000     0.000000     0.000000     0.000000  \n",
       "25%       0.000000     0.000000     0.000000     0.000000  \n",
       "50%       1.000000     0.000000     0.000000     1.000000  \n",
       "75%       1.000000     0.000000     0.000000     1.000000  \n",
       "max       1.000000     1.000000     1.000000     1.000000  "
      ]
     },
     "execution_count": 22,
     "metadata": {},
     "output_type": "execute_result"
    }
   ],
   "source": [
    "data_churn1 = data[data['churn']==1]\n",
    "data_churn1.describe()"
   ]
  },
  {
   "cell_type": "markdown",
   "metadata": {},
   "source": [
    "И тоже самое для неотточных клиентов:"
   ]
  },
  {
   "cell_type": "code",
   "execution_count": 23,
   "metadata": {},
   "outputs": [
    {
     "data": {
      "text/html": [
       "<div>\n",
       "<style scoped>\n",
       "    .dataframe tbody tr th:only-of-type {\n",
       "        vertical-align: middle;\n",
       "    }\n",
       "\n",
       "    .dataframe tbody tr th {\n",
       "        vertical-align: top;\n",
       "    }\n",
       "\n",
       "    .dataframe thead th {\n",
       "        text-align: right;\n",
       "    }\n",
       "</style>\n",
       "<table border=\"1\" class=\"dataframe\">\n",
       "  <thead>\n",
       "    <tr style=\"text-align: right;\">\n",
       "      <th></th>\n",
       "      <th>userid</th>\n",
       "      <th>score</th>\n",
       "      <th>age</th>\n",
       "      <th>equity</th>\n",
       "      <th>balance</th>\n",
       "      <th>products</th>\n",
       "      <th>credit_card</th>\n",
       "      <th>last_activity</th>\n",
       "      <th>est_salary</th>\n",
       "      <th>churn</th>\n",
       "      <th>gender_М</th>\n",
       "      <th>Ростов</th>\n",
       "      <th>Рыбинск</th>\n",
       "      <th>Ярославль</th>\n",
       "    </tr>\n",
       "  </thead>\n",
       "  <tbody>\n",
       "    <tr>\n",
       "      <th>count</th>\n",
       "      <td>8155.000000</td>\n",
       "      <td>8155.000000</td>\n",
       "      <td>8155.000000</td>\n",
       "      <td>8155.000000</td>\n",
       "      <td>5.889000e+03</td>\n",
       "      <td>8155.000000</td>\n",
       "      <td>8155.000000</td>\n",
       "      <td>8155.000000</td>\n",
       "      <td>8.155000e+03</td>\n",
       "      <td>8155.0</td>\n",
       "      <td>8155.000000</td>\n",
       "      <td>8155.000000</td>\n",
       "      <td>8155.000000</td>\n",
       "      <td>8155.000000</td>\n",
       "    </tr>\n",
       "    <tr>\n",
       "      <th>mean</th>\n",
       "      <td>171928.110607</td>\n",
       "      <td>845.396199</td>\n",
       "      <td>43.020846</td>\n",
       "      <td>2.378296</td>\n",
       "      <td>7.330316e+05</td>\n",
       "      <td>1.758921</td>\n",
       "      <td>0.708890</td>\n",
       "      <td>0.482894</td>\n",
       "      <td>1.476746e+05</td>\n",
       "      <td>0.0</td>\n",
       "      <td>0.466953</td>\n",
       "      <td>0.141140</td>\n",
       "      <td>0.275414</td>\n",
       "      <td>0.583446</td>\n",
       "    </tr>\n",
       "    <tr>\n",
       "      <th>std</th>\n",
       "      <td>33328.979304</td>\n",
       "      <td>67.993107</td>\n",
       "      <td>12.375207</td>\n",
       "      <td>1.970843</td>\n",
       "      <td>1.953952e+06</td>\n",
       "      <td>0.713412</td>\n",
       "      <td>0.454302</td>\n",
       "      <td>0.499738</td>\n",
       "      <td>1.426844e+05</td>\n",
       "      <td>0.0</td>\n",
       "      <td>0.498937</td>\n",
       "      <td>0.348188</td>\n",
       "      <td>0.446750</td>\n",
       "      <td>0.493018</td>\n",
       "    </tr>\n",
       "    <tr>\n",
       "      <th>min</th>\n",
       "      <td>95384.000000</td>\n",
       "      <td>642.000000</td>\n",
       "      <td>18.000000</td>\n",
       "      <td>0.000000</td>\n",
       "      <td>0.000000e+00</td>\n",
       "      <td>1.000000</td>\n",
       "      <td>0.000000</td>\n",
       "      <td>0.000000</td>\n",
       "      <td>2.546300e+03</td>\n",
       "      <td>0.0</td>\n",
       "      <td>0.000000</td>\n",
       "      <td>0.000000</td>\n",
       "      <td>0.000000</td>\n",
       "      <td>0.000000</td>\n",
       "    </tr>\n",
       "    <tr>\n",
       "      <th>25%</th>\n",
       "      <td>143046.000000</td>\n",
       "      <td>796.000000</td>\n",
       "      <td>34.000000</td>\n",
       "      <td>0.000000</td>\n",
       "      <td>2.796547e+05</td>\n",
       "      <td>1.000000</td>\n",
       "      <td>0.000000</td>\n",
       "      <td>0.000000</td>\n",
       "      <td>7.344555e+04</td>\n",
       "      <td>0.0</td>\n",
       "      <td>0.000000</td>\n",
       "      <td>0.000000</td>\n",
       "      <td>0.000000</td>\n",
       "      <td>0.000000</td>\n",
       "    </tr>\n",
       "    <tr>\n",
       "      <th>50%</th>\n",
       "      <td>173142.000000</td>\n",
       "      <td>848.000000</td>\n",
       "      <td>40.000000</td>\n",
       "      <td>3.000000</td>\n",
       "      <td>4.754101e+05</td>\n",
       "      <td>2.000000</td>\n",
       "      <td>1.000000</td>\n",
       "      <td>0.000000</td>\n",
       "      <td>1.182276e+05</td>\n",
       "      <td>0.0</td>\n",
       "      <td>0.000000</td>\n",
       "      <td>0.000000</td>\n",
       "      <td>0.000000</td>\n",
       "      <td>1.000000</td>\n",
       "    </tr>\n",
       "    <tr>\n",
       "      <th>75%</th>\n",
       "      <td>201160.500000</td>\n",
       "      <td>900.000000</td>\n",
       "      <td>51.000000</td>\n",
       "      <td>4.000000</td>\n",
       "      <td>8.538264e+05</td>\n",
       "      <td>2.000000</td>\n",
       "      <td>1.000000</td>\n",
       "      <td>1.000000</td>\n",
       "      <td>1.739609e+05</td>\n",
       "      <td>0.0</td>\n",
       "      <td>1.000000</td>\n",
       "      <td>0.000000</td>\n",
       "      <td>1.000000</td>\n",
       "      <td>1.000000</td>\n",
       "    </tr>\n",
       "    <tr>\n",
       "      <th>max</th>\n",
       "      <td>229145.000000</td>\n",
       "      <td>1000.000000</td>\n",
       "      <td>86.000000</td>\n",
       "      <td>9.000000</td>\n",
       "      <td>1.191136e+08</td>\n",
       "      <td>5.000000</td>\n",
       "      <td>1.000000</td>\n",
       "      <td>1.000000</td>\n",
       "      <td>1.395064e+06</td>\n",
       "      <td>0.0</td>\n",
       "      <td>1.000000</td>\n",
       "      <td>1.000000</td>\n",
       "      <td>1.000000</td>\n",
       "      <td>1.000000</td>\n",
       "    </tr>\n",
       "  </tbody>\n",
       "</table>\n",
       "</div>"
      ],
      "text/plain": [
       "              userid        score          age       equity       balance  \\\n",
       "count    8155.000000  8155.000000  8155.000000  8155.000000  5.889000e+03   \n",
       "mean   171928.110607   845.396199    43.020846     2.378296  7.330316e+05   \n",
       "std     33328.979304    67.993107    12.375207     1.970843  1.953952e+06   \n",
       "min     95384.000000   642.000000    18.000000     0.000000  0.000000e+00   \n",
       "25%    143046.000000   796.000000    34.000000     0.000000  2.796547e+05   \n",
       "50%    173142.000000   848.000000    40.000000     3.000000  4.754101e+05   \n",
       "75%    201160.500000   900.000000    51.000000     4.000000  8.538264e+05   \n",
       "max    229145.000000  1000.000000    86.000000     9.000000  1.191136e+08   \n",
       "\n",
       "          products  credit_card  last_activity    est_salary   churn  \\\n",
       "count  8155.000000  8155.000000    8155.000000  8.155000e+03  8155.0   \n",
       "mean      1.758921     0.708890       0.482894  1.476746e+05     0.0   \n",
       "std       0.713412     0.454302       0.499738  1.426844e+05     0.0   \n",
       "min       1.000000     0.000000       0.000000  2.546300e+03     0.0   \n",
       "25%       1.000000     0.000000       0.000000  7.344555e+04     0.0   \n",
       "50%       2.000000     1.000000       0.000000  1.182276e+05     0.0   \n",
       "75%       2.000000     1.000000       1.000000  1.739609e+05     0.0   \n",
       "max       5.000000     1.000000       1.000000  1.395064e+06     0.0   \n",
       "\n",
       "          gender_М       Ростов      Рыбинск    Ярославль  \n",
       "count  8155.000000  8155.000000  8155.000000  8155.000000  \n",
       "mean      0.466953     0.141140     0.275414     0.583446  \n",
       "std       0.498937     0.348188     0.446750     0.493018  \n",
       "min       0.000000     0.000000     0.000000     0.000000  \n",
       "25%       0.000000     0.000000     0.000000     0.000000  \n",
       "50%       0.000000     0.000000     0.000000     1.000000  \n",
       "75%       1.000000     0.000000     1.000000     1.000000  \n",
       "max       1.000000     1.000000     1.000000     1.000000  "
      ]
     },
     "execution_count": 23,
     "metadata": {},
     "output_type": "execute_result"
    }
   ],
   "source": [
    "data_churn0 = data[data['churn']==0]\n",
    "data_churn0.describe()"
   ]
  },
  {
   "cell_type": "markdown",
   "metadata": {},
   "source": [
    "Сделаем таблицу со средними значениями характеристик для отточных и неотточных пользователей с процентом изменения этих характеристик у отточных, относительно неотточных:"
   ]
  },
  {
   "cell_type": "code",
   "execution_count": 24,
   "metadata": {
    "scrolled": true
   },
   "outputs": [
    {
     "data": {
      "text/html": [
       "<div>\n",
       "<style scoped>\n",
       "    .dataframe tbody tr th:only-of-type {\n",
       "        vertical-align: middle;\n",
       "    }\n",
       "\n",
       "    .dataframe tbody tr th {\n",
       "        vertical-align: top;\n",
       "    }\n",
       "\n",
       "    .dataframe thead th {\n",
       "        text-align: right;\n",
       "    }\n",
       "</style>\n",
       "<table border=\"1\" class=\"dataframe\">\n",
       "  <thead>\n",
       "    <tr style=\"text-align: right;\">\n",
       "      <th></th>\n",
       "      <th>отточные</th>\n",
       "      <th>неотточные</th>\n",
       "      <th>% изменения</th>\n",
       "    </tr>\n",
       "  </thead>\n",
       "  <tbody>\n",
       "    <tr>\n",
       "      <th>userid</th>\n",
       "      <td>170992.83</td>\n",
       "      <td>171928.11</td>\n",
       "      <td>-0.54</td>\n",
       "    </tr>\n",
       "    <tr>\n",
       "      <th>score</th>\n",
       "      <td>863.36</td>\n",
       "      <td>845.40</td>\n",
       "      <td>2.12</td>\n",
       "    </tr>\n",
       "    <tr>\n",
       "      <th>age</th>\n",
       "      <td>41.43</td>\n",
       "      <td>43.02</td>\n",
       "      <td>-3.70</td>\n",
       "    </tr>\n",
       "    <tr>\n",
       "      <th>equity</th>\n",
       "      <td>3.76</td>\n",
       "      <td>2.38</td>\n",
       "      <td>57.98</td>\n",
       "    </tr>\n",
       "    <tr>\n",
       "      <th>balance</th>\n",
       "      <td>1134458.21</td>\n",
       "      <td>733031.63</td>\n",
       "      <td>54.76</td>\n",
       "    </tr>\n",
       "    <tr>\n",
       "      <th>products</th>\n",
       "      <td>2.38</td>\n",
       "      <td>1.76</td>\n",
       "      <td>35.23</td>\n",
       "    </tr>\n",
       "    <tr>\n",
       "      <th>credit_card</th>\n",
       "      <td>0.55</td>\n",
       "      <td>0.71</td>\n",
       "      <td>-22.54</td>\n",
       "    </tr>\n",
       "    <tr>\n",
       "      <th>last_activity</th>\n",
       "      <td>0.70</td>\n",
       "      <td>0.48</td>\n",
       "      <td>45.83</td>\n",
       "    </tr>\n",
       "    <tr>\n",
       "      <th>est_salary</th>\n",
       "      <td>148357.48</td>\n",
       "      <td>147674.64</td>\n",
       "      <td>0.46</td>\n",
       "    </tr>\n",
       "    <tr>\n",
       "      <th>churn</th>\n",
       "      <td>1.00</td>\n",
       "      <td>0.00</td>\n",
       "      <td>inf</td>\n",
       "    </tr>\n",
       "    <tr>\n",
       "      <th>gender_М</th>\n",
       "      <td>0.65</td>\n",
       "      <td>0.47</td>\n",
       "      <td>38.30</td>\n",
       "    </tr>\n",
       "    <tr>\n",
       "      <th>Ростов</th>\n",
       "      <td>0.15</td>\n",
       "      <td>0.14</td>\n",
       "      <td>7.14</td>\n",
       "    </tr>\n",
       "    <tr>\n",
       "      <th>Рыбинск</th>\n",
       "      <td>0.24</td>\n",
       "      <td>0.28</td>\n",
       "      <td>-14.29</td>\n",
       "    </tr>\n",
       "    <tr>\n",
       "      <th>Ярославль</th>\n",
       "      <td>0.61</td>\n",
       "      <td>0.58</td>\n",
       "      <td>5.17</td>\n",
       "    </tr>\n",
       "  </tbody>\n",
       "</table>\n",
       "</div>"
      ],
      "text/plain": [
       "                 отточные  неотточные  % изменения\n",
       "userid          170992.83   171928.11        -0.54\n",
       "score              863.36      845.40         2.12\n",
       "age                 41.43       43.02        -3.70\n",
       "equity               3.76        2.38        57.98\n",
       "balance        1134458.21   733031.63        54.76\n",
       "products             2.38        1.76        35.23\n",
       "credit_card          0.55        0.71       -22.54\n",
       "last_activity        0.70        0.48        45.83\n",
       "est_salary      148357.48   147674.64         0.46\n",
       "churn                1.00        0.00          inf\n",
       "gender_М             0.65        0.47        38.30\n",
       "Ростов               0.15        0.14         7.14\n",
       "Рыбинск              0.24        0.28       -14.29\n",
       "Ярославль            0.61        0.58         5.17"
      ]
     },
     "execution_count": 24,
     "metadata": {},
     "output_type": "execute_result"
    }
   ],
   "source": [
    "\n",
    "mean_churn1 = data_churn1.mean().round(2)\n",
    "mean_churn0 = data_churn0.mean().round(2)\n",
    "\n",
    "mean_table = pd.concat([mean_churn1, mean_churn0], axis=1, join='inner')\n",
    "mean_table.columns = ['отточные', 'неотточные']\n",
    "mean_table['% изменения'] = ((mean_table['отточные']/mean_table['неотточные']-1)*100).round(2)\n",
    "mean_table"
   ]
  },
  {
   "cell_type": "markdown",
   "metadata": {},
   "source": [
    "У отточных выше средний балл собственности на 58%, средний баланс на 55%, среднее количество продуктов на 35%, средняя активность на 45%, доля мужчин у отточных выше на 38%. Средний возраст отличается незначительно - на 3.6%, так же как и средний кредитный скорринг - 2%. "
   ]
  },
  {
   "cell_type": "markdown",
   "metadata": {},
   "source": [
    "Для баланса и зарплаты посчитаем медиану, т.к. на среднее влияют выбросы:"
   ]
  },
  {
   "cell_type": "code",
   "execution_count": 25,
   "metadata": {},
   "outputs": [
    {
     "data": {
      "text/html": [
       "<div>\n",
       "<style scoped>\n",
       "    .dataframe tbody tr th:only-of-type {\n",
       "        vertical-align: middle;\n",
       "    }\n",
       "\n",
       "    .dataframe tbody tr th {\n",
       "        vertical-align: top;\n",
       "    }\n",
       "\n",
       "    .dataframe thead th {\n",
       "        text-align: right;\n",
       "    }\n",
       "</style>\n",
       "<table border=\"1\" class=\"dataframe\">\n",
       "  <thead>\n",
       "    <tr style=\"text-align: right;\">\n",
       "      <th></th>\n",
       "      <th>отточные</th>\n",
       "      <th>неотточные</th>\n",
       "      <th>% изменения</th>\n",
       "    </tr>\n",
       "  </thead>\n",
       "  <tbody>\n",
       "    <tr>\n",
       "      <th>balance</th>\n",
       "      <td>783908.90</td>\n",
       "      <td>475410.09</td>\n",
       "      <td>64.89</td>\n",
       "    </tr>\n",
       "    <tr>\n",
       "      <th>est_salary</th>\n",
       "      <td>125408.88</td>\n",
       "      <td>118227.60</td>\n",
       "      <td>6.07</td>\n",
       "    </tr>\n",
       "  </tbody>\n",
       "</table>\n",
       "</div>"
      ],
      "text/plain": [
       "             отточные  неотточные  % изменения\n",
       "balance     783908.90   475410.09        64.89\n",
       "est_salary  125408.88   118227.60         6.07"
      ]
     },
     "execution_count": 25,
     "metadata": {},
     "output_type": "execute_result"
    }
   ],
   "source": [
    "median_churn1 = data_churn1[['balance','est_salary']].median().round(2)\n",
    "median_churn0 = data_churn0[['balance','est_salary']].median().round(2)\n",
    "\n",
    "median_table = pd.concat([median_churn1, median_churn0], axis=1, join='inner')\n",
    "median_table.columns = ['отточные', 'неотточные']\n",
    "median_table['% изменения'] = ((median_table['отточные']/median_table['неотточные']-1)*100).round(2)\n",
    "median_table"
   ]
  },
  {
   "cell_type": "markdown",
   "metadata": {},
   "source": [
    "Как видно из таблицы, медиана заметно ниже среднего, но картина такая же, у отточных медианный баланс на счете существенно выше - на 65%. "
   ]
  },
  {
   "cell_type": "markdown",
   "metadata": {},
   "source": [
    "**Распределения непрерывных:**"
   ]
  },
  {
   "cell_type": "markdown",
   "metadata": {},
   "source": [
    "Визуализируем распределение баллов скоринга:"
   ]
  },
  {
   "cell_type": "code",
   "execution_count": 26,
   "metadata": {},
   "outputs": [
    {
     "data": {
      "image/png": "[encoded data removed]",
      "text/plain": [
       "<Figure size 1080x576 with 1 Axes>"
      ]
     },
     "metadata": {
      "needs_background": "light"
     },
     "output_type": "display_data"
    }
   ],
   "source": [
    "plt.figure(figsize=(15, 8))\n",
    "sns.histplot(data=data, bins=35, x=\"score\", stat=\"density\", common_norm=False, hue=\"churn\")\n",
    "\n",
    "plt.title('Распределение баллов в разрезе оттока')\n",
    "plt.xlabel('баллы кредитного скоринга')\n",
    "plt.ylabel('плотность')\n",
    "plt.show()"
   ]
  },
  {
   "cell_type": "markdown",
   "metadata": {},
   "source": [
    "По распределению баллов виден повышенный отток в интервале 840 - 950."
   ]
  },
  {
   "cell_type": "code",
   "execution_count": 27,
   "metadata": {},
   "outputs": [
    {
     "data": {
      "image/png": "[encoded data removed]",
      "text/plain": [
       "<Figure size 1080x576 with 1 Axes>"
      ]
     },
     "metadata": {
      "needs_background": "light"
     },
     "output_type": "display_data"
    }
   ],
   "source": [
    "plt.figure(figsize=(15, 8))\n",
    "sns.histplot(data=data, bins=69, x=\"age\", stat=\"density\", common_norm=False, hue=\"churn\")\n",
    "\n",
    "plt.title('Распределение возраста в разрезе оттока')\n",
    "plt.xlabel('возраст')\n",
    "plt.ylabel('плотность')\n",
    "plt.show()"
   ]
  },
  {
   "cell_type": "markdown",
   "metadata": {},
   "source": [
    "По распределению возраста виден повышенный отток в интервалах с 25 до 36, с 49 до 61."
   ]
  },
  {
   "cell_type": "code",
   "execution_count": 28,
   "metadata": {},
   "outputs": [
    {
     "data": {
      "image/png": "[encoded data removed]",
      "text/plain": [
       "<Figure size 1080x576 with 1 Axes>"
      ]
     },
     "metadata": {
      "needs_background": "light"
     },
     "output_type": "display_data"
    }
   ],
   "source": [
    "plt.figure(figsize=(15, 8))\n",
    "sns.histplot(data=data, bins=7000, x=\"balance\", stat=\"density\", common_norm=False, hue=\"churn\")\n",
    "plt.xlim(1, 2000000)\n",
    "plt.title('Распределение баланса счета в разрезе оттока')\n",
    "plt.xlabel('баланс')\n",
    "plt.ylabel('плотность')\n",
    "plt.show()"
   ]
  },
  {
   "cell_type": "markdown",
   "metadata": {},
   "source": [
    "По распределению баланса виден повышенный отток в интервалахс 1100000 и выше. "
   ]
  },
  {
   "cell_type": "code",
   "execution_count": 29,
   "metadata": {},
   "outputs": [
    {
     "data": {
      "image/png": "[encoded data removed]",
      "text/plain": [
       "<Figure size 1080x576 with 1 Axes>"
      ]
     },
     "metadata": {
      "needs_background": "light"
     },
     "output_type": "display_data"
    }
   ],
   "source": [
    "plt.figure(figsize=(15, 8))\n",
    "sns.histplot(data=data, bins=100, x=\"est_salary\", stat=\"density\", common_norm=False, hue=\"churn\")\n",
    "plt.xlim(1,450000)\n",
    "plt.title('Распределение заработной платы в разрезе оттока')\n",
    "plt.xlabel('размер заработной платы')\n",
    "plt.ylabel('плотность')\n",
    "plt.show()"
   ]
  },
  {
   "cell_type": "markdown",
   "metadata": {},
   "source": [
    "По распределению заработной платы виден повышенный отток в интервалах с 100000 до 150000, со 155000 до 210000."
   ]
  },
  {
   "cell_type": "markdown",
   "metadata": {},
   "source": [
    "**Построим диаграмы для категориальных переменных:**"
   ]
  },
  {
   "cell_type": "code",
   "execution_count": 31,
   "metadata": {},
   "outputs": [
    {
     "data": {
      "text/html": [
       "<div>\n",
       "<style scoped>\n",
       "    .dataframe tbody tr th:only-of-type {\n",
       "        vertical-align: middle;\n",
       "    }\n",
       "\n",
       "    .dataframe tbody tr th {\n",
       "        vertical-align: top;\n",
       "    }\n",
       "\n",
       "    .dataframe thead th {\n",
       "        text-align: right;\n",
       "    }\n",
       "</style>\n",
       "<table border=\"1\" class=\"dataframe\">\n",
       "  <thead>\n",
       "    <tr style=\"text-align: right;\">\n",
       "      <th></th>\n",
       "      <th>city</th>\n",
       "      <th>churn</th>\n",
       "    </tr>\n",
       "  </thead>\n",
       "  <tbody>\n",
       "    <tr>\n",
       "      <th>0</th>\n",
       "      <td>Ростов</td>\n",
       "      <td>18.77</td>\n",
       "    </tr>\n",
       "    <tr>\n",
       "      <th>1</th>\n",
       "      <td>Рыбинск</td>\n",
       "      <td>16.22</td>\n",
       "    </tr>\n",
       "    <tr>\n",
       "      <th>2</th>\n",
       "      <td>Ярославль</td>\n",
       "      <td>18.97</td>\n",
       "    </tr>\n",
       "  </tbody>\n",
       "</table>\n",
       "</div>"
      ],
      "text/plain": [
       "        city  churn\n",
       "0     Ростов  18.77\n",
       "1    Рыбинск  16.22\n",
       "2  Ярославль  18.97"
      ]
     },
     "execution_count": 31,
     "metadata": {},
     "output_type": "execute_result"
    }
   ],
   "source": [
    "city=data_1.groupby('city').agg({'churn':'mean'}).reset_index()\n",
    "city['churn'] = (city['churn']*100).round(2)\n",
    "city"
   ]
  },
  {
   "cell_type": "code",
   "execution_count": 32,
   "metadata": {},
   "outputs": [
    {
     "data": {
      "image/png": "[encoded data removed]",
      "text/plain": [
       "<Figure size 720x360 with 1 Axes>"
      ]
     },
     "metadata": {
      "needs_background": "light"
     },
     "output_type": "display_data"
    }
   ],
   "source": [
    "ax = plt.subplots(figsize=(10, 5))\n",
    "\n",
    "ax = sns.barplot(data = city, x = 'city', y = 'churn')\n",
    "ax.set_xlabel('Город')\n",
    "ax.set_ylabel('% оттока в категории')\n",
    "ax.set_title('Доля оттока в категории по городам')\n",
    "plt.axhline(y = 18.2, color='black')\n",
    "plt.show()"
   ]
  },
  {
   "cell_type": "markdown",
   "metadata": {},
   "source": [
    "По городам видим у Ростова и Ярославля отток чуть выше среднего - меньше чем на 1%, у рыбинска на 2% ниже среднего"
   ]
  },
  {
   "cell_type": "code",
   "execution_count": 33,
   "metadata": {},
   "outputs": [
    {
     "data": {
      "text/html": [
       "<div>\n",
       "<style scoped>\n",
       "    .dataframe tbody tr th:only-of-type {\n",
       "        vertical-align: middle;\n",
       "    }\n",
       "\n",
       "    .dataframe tbody tr th {\n",
       "        vertical-align: top;\n",
       "    }\n",
       "\n",
       "    .dataframe thead th {\n",
       "        text-align: right;\n",
       "    }\n",
       "</style>\n",
       "<table border=\"1\" class=\"dataframe\">\n",
       "  <thead>\n",
       "    <tr style=\"text-align: right;\">\n",
       "      <th></th>\n",
       "      <th>gender</th>\n",
       "      <th>churn</th>\n",
       "    </tr>\n",
       "  </thead>\n",
       "  <tbody>\n",
       "    <tr>\n",
       "      <th>0</th>\n",
       "      <td>Ж</td>\n",
       "      <td>12.75</td>\n",
       "    </tr>\n",
       "    <tr>\n",
       "      <th>1</th>\n",
       "      <td>М</td>\n",
       "      <td>23.64</td>\n",
       "    </tr>\n",
       "  </tbody>\n",
       "</table>\n",
       "</div>"
      ],
      "text/plain": [
       "  gender  churn\n",
       "0      Ж  12.75\n",
       "1      М  23.64"
      ]
     },
     "execution_count": 33,
     "metadata": {},
     "output_type": "execute_result"
    }
   ],
   "source": [
    "gender =data_1.groupby('gender').agg({'churn':'mean'}).reset_index()\n",
    "gender['churn'] = (gender['churn']*100).round(2)\n",
    "gender"
   ]
  },
  {
   "cell_type": "code",
   "execution_count": 34,
   "metadata": {},
   "outputs": [
    {
     "data": {
      "image/png": "[encoded data removed]",
      "text/plain": [
       "<Figure size 720x360 with 1 Axes>"
      ]
     },
     "metadata": {
      "needs_background": "light"
     },
     "output_type": "display_data"
    }
   ],
   "source": [
    "ax = plt.subplots(figsize=(10, 5))\n",
    "\n",
    "ax = sns.barplot(data = gender, x = 'gender', y = 'churn')\n",
    "ax.set_xlabel('Пол')\n",
    "ax.set_ylabel('% оттока в категории')\n",
    "ax.set_title('Доля оттока в категории по полу')\n",
    "plt.axhline(y = 18.2, color='black')\n",
    "plt.show()"
   ]
  },
  {
   "cell_type": "markdown",
   "metadata": {},
   "source": [
    "У мужчин отток выше среднего на 5%, у женщин ниже на 5.5%."
   ]
  },
  {
   "cell_type": "code",
   "execution_count": 35,
   "metadata": {},
   "outputs": [
    {
     "data": {
      "text/html": [
       "<div>\n",
       "<style scoped>\n",
       "    .dataframe tbody tr th:only-of-type {\n",
       "        vertical-align: middle;\n",
       "    }\n",
       "\n",
       "    .dataframe tbody tr th {\n",
       "        vertical-align: top;\n",
       "    }\n",
       "\n",
       "    .dataframe thead th {\n",
       "        text-align: right;\n",
       "    }\n",
       "</style>\n",
       "<table border=\"1\" class=\"dataframe\">\n",
       "  <thead>\n",
       "    <tr style=\"text-align: right;\">\n",
       "      <th></th>\n",
       "      <th>credit_card</th>\n",
       "      <th>churn</th>\n",
       "    </tr>\n",
       "  </thead>\n",
       "  <tbody>\n",
       "    <tr>\n",
       "      <th>0</th>\n",
       "      <td>0</td>\n",
       "      <td>25.56</td>\n",
       "    </tr>\n",
       "    <tr>\n",
       "      <th>1</th>\n",
       "      <td>1</td>\n",
       "      <td>14.74</td>\n",
       "    </tr>\n",
       "  </tbody>\n",
       "</table>\n",
       "</div>"
      ],
      "text/plain": [
       "   credit_card  churn\n",
       "0            0  25.56\n",
       "1            1  14.74"
      ]
     },
     "execution_count": 35,
     "metadata": {},
     "output_type": "execute_result"
    }
   ],
   "source": [
    "credit_card = data_1.groupby('credit_card').agg({'churn':'mean'}).reset_index()\n",
    "credit_card['churn'] = (credit_card['churn']*100).round(2)\n",
    "credit_card"
   ]
  },
  {
   "cell_type": "code",
   "execution_count": 36,
   "metadata": {},
   "outputs": [
    {
     "data": {
      "image/png": "[encoded data removed]",
      "text/plain": [
       "<Figure size 720x360 with 1 Axes>"
      ]
     },
     "metadata": {
      "needs_background": "light"
     },
     "output_type": "display_data"
    }
   ],
   "source": [
    "ax = plt.subplots(figsize=(10, 5))\n",
    "\n",
    "ax = sns.barplot(data = credit_card, x = 'credit_card', y = 'churn')\n",
    "ax.set_xlabel('Наличие кредитной карты')\n",
    "ax.set_ylabel('% оттока в категории')\n",
    "ax.set_title('Доля оттока в категории по наличию кредитной карты')\n",
    "plt.axhline(y = 18.2, color='black')\n",
    "plt.show()"
   ]
  },
  {
   "cell_type": "markdown",
   "metadata": {},
   "source": [
    "Отток у клиентов с кредитной картой ниже среднего на 3.5%, без кредитной карты выше на 7%."
   ]
  },
  {
   "cell_type": "code",
   "execution_count": 37,
   "metadata": {},
   "outputs": [
    {
     "data": {
      "text/html": [
       "<div>\n",
       "<style scoped>\n",
       "    .dataframe tbody tr th:only-of-type {\n",
       "        vertical-align: middle;\n",
       "    }\n",
       "\n",
       "    .dataframe tbody tr th {\n",
       "        vertical-align: top;\n",
       "    }\n",
       "\n",
       "    .dataframe thead th {\n",
       "        text-align: right;\n",
       "    }\n",
       "</style>\n",
       "<table border=\"1\" class=\"dataframe\">\n",
       "  <thead>\n",
       "    <tr style=\"text-align: right;\">\n",
       "      <th></th>\n",
       "      <th>last_activity</th>\n",
       "      <th>churn</th>\n",
       "    </tr>\n",
       "  </thead>\n",
       "  <tbody>\n",
       "    <tr>\n",
       "      <th>0</th>\n",
       "      <td>0</td>\n",
       "      <td>11.37</td>\n",
       "    </tr>\n",
       "    <tr>\n",
       "      <th>1</th>\n",
       "      <td>1</td>\n",
       "      <td>24.41</td>\n",
       "    </tr>\n",
       "  </tbody>\n",
       "</table>\n",
       "</div>"
      ],
      "text/plain": [
       "   last_activity  churn\n",
       "0              0  11.37\n",
       "1              1  24.41"
      ]
     },
     "execution_count": 37,
     "metadata": {},
     "output_type": "execute_result"
    }
   ],
   "source": [
    "last_activity = data_1.groupby('last_activity').agg({'churn':'mean'}).reset_index()\n",
    "last_activity['churn'] = (last_activity['churn']*100).round(2)\n",
    "last_activity"
   ]
  },
  {
   "cell_type": "code",
   "execution_count": 38,
   "metadata": {},
   "outputs": [
    {
     "data": {
      "image/png": "[encoded data removed]",
      "text/plain": [
       "<Figure size 720x360 with 1 Axes>"
      ]
     },
     "metadata": {
      "needs_background": "light"
     },
     "output_type": "display_data"
    }
   ],
   "source": [
    "ax = plt.subplots(figsize=(10, 5))\n",
    "\n",
    "ax = sns.barplot(data = last_activity, x = 'last_activity', y = 'churn')\n",
    "ax.set_xlabel('Активный клиент')\n",
    "ax.set_ylabel('% оттока в категории')\n",
    "ax.set_title('Доля оттока в категории по активности клиента')\n",
    "plt.axhline(y = 18.2, color='black')\n",
    "plt.show()"
   ]
  },
  {
   "cell_type": "markdown",
   "metadata": {},
   "source": [
    "Отток у активных клиентов выше среднего на 6%, у неактивных ниже на 7%."
   ]
  },
  {
   "cell_type": "code",
   "execution_count": 39,
   "metadata": {},
   "outputs": [
    {
     "data": {
      "text/html": [
       "<div>\n",
       "<style scoped>\n",
       "    .dataframe tbody tr th:only-of-type {\n",
       "        vertical-align: middle;\n",
       "    }\n",
       "\n",
       "    .dataframe tbody tr th {\n",
       "        vertical-align: top;\n",
       "    }\n",
       "\n",
       "    .dataframe thead th {\n",
       "        text-align: right;\n",
       "    }\n",
       "</style>\n",
       "<table border=\"1\" class=\"dataframe\">\n",
       "  <thead>\n",
       "    <tr style=\"text-align: right;\">\n",
       "      <th></th>\n",
       "      <th>equity</th>\n",
       "      <th>churn</th>\n",
       "    </tr>\n",
       "  </thead>\n",
       "  <tbody>\n",
       "    <tr>\n",
       "      <th>0</th>\n",
       "      <td>0</td>\n",
       "      <td>3.47</td>\n",
       "    </tr>\n",
       "    <tr>\n",
       "      <th>1</th>\n",
       "      <td>1</td>\n",
       "      <td>12.02</td>\n",
       "    </tr>\n",
       "    <tr>\n",
       "      <th>2</th>\n",
       "      <td>2</td>\n",
       "      <td>15.78</td>\n",
       "    </tr>\n",
       "    <tr>\n",
       "      <th>3</th>\n",
       "      <td>3</td>\n",
       "      <td>20.87</td>\n",
       "    </tr>\n",
       "    <tr>\n",
       "      <th>4</th>\n",
       "      <td>4</td>\n",
       "      <td>25.08</td>\n",
       "    </tr>\n",
       "    <tr>\n",
       "      <th>5</th>\n",
       "      <td>5</td>\n",
       "      <td>30.08</td>\n",
       "    </tr>\n",
       "    <tr>\n",
       "      <th>6</th>\n",
       "      <td>6</td>\n",
       "      <td>36.02</td>\n",
       "    </tr>\n",
       "    <tr>\n",
       "      <th>7</th>\n",
       "      <td>7</td>\n",
       "      <td>46.25</td>\n",
       "    </tr>\n",
       "    <tr>\n",
       "      <th>8</th>\n",
       "      <td>8</td>\n",
       "      <td>35.29</td>\n",
       "    </tr>\n",
       "    <tr>\n",
       "      <th>9</th>\n",
       "      <td>9</td>\n",
       "      <td>53.85</td>\n",
       "    </tr>\n",
       "  </tbody>\n",
       "</table>\n",
       "</div>"
      ],
      "text/plain": [
       "   equity  churn\n",
       "0       0   3.47\n",
       "1       1  12.02\n",
       "2       2  15.78\n",
       "3       3  20.87\n",
       "4       4  25.08\n",
       "5       5  30.08\n",
       "6       6  36.02\n",
       "7       7  46.25\n",
       "8       8  35.29\n",
       "9       9  53.85"
      ]
     },
     "execution_count": 39,
     "metadata": {},
     "output_type": "execute_result"
    }
   ],
   "source": [
    "equity = data_1.groupby('equity').agg({'churn':'mean'}).reset_index()\n",
    "equity['churn'] = (equity['churn']*100).round(2)\n",
    "equity"
   ]
  },
  {
   "cell_type": "code",
   "execution_count": 40,
   "metadata": {},
   "outputs": [
    {
     "data": {
      "image/png": "[encoded data removed]",
      "text/plain": [
       "<Figure size 720x360 with 1 Axes>"
      ]
     },
     "metadata": {
      "needs_background": "light"
     },
     "output_type": "display_data"
    }
   ],
   "source": [
    "ax = plt.subplots(figsize=(10, 5))\n",
    "\n",
    "ax = sns.barplot(data = equity, x = 'equity', y = 'churn')\n",
    "ax.set_xlabel('Баллы собственности')\n",
    "ax.set_ylabel('% оттока в категории')\n",
    "ax.set_title('Доля оттока в категории по баллам собственности')\n",
    "plt.axhline(y = 18.2, color='black')\n",
    "plt.show()"
   ]
  },
  {
   "cell_type": "markdown",
   "metadata": {},
   "source": [
    "У клиентов с баллами собственности от 0 до 2 отток ниже среднего, у клиентов с баллами от 3 и выше - выше среднего. Наблюдается тенденция линейного роста, за исключением категории с 8 баллами."
   ]
  },
  {
   "cell_type": "code",
   "execution_count": 41,
   "metadata": {},
   "outputs": [
    {
     "data": {
      "text/html": [
       "<div>\n",
       "<style scoped>\n",
       "    .dataframe tbody tr th:only-of-type {\n",
       "        vertical-align: middle;\n",
       "    }\n",
       "\n",
       "    .dataframe tbody tr th {\n",
       "        vertical-align: top;\n",
       "    }\n",
       "\n",
       "    .dataframe thead th {\n",
       "        text-align: right;\n",
       "    }\n",
       "</style>\n",
       "<table border=\"1\" class=\"dataframe\">\n",
       "  <thead>\n",
       "    <tr style=\"text-align: right;\">\n",
       "      <th></th>\n",
       "      <th>products</th>\n",
       "      <th>churn</th>\n",
       "    </tr>\n",
       "  </thead>\n",
       "  <tbody>\n",
       "    <tr>\n",
       "      <th>1</th>\n",
       "      <td>1</td>\n",
       "      <td>7.03</td>\n",
       "    </tr>\n",
       "    <tr>\n",
       "      <th>2</th>\n",
       "      <td>2</td>\n",
       "      <td>19.10</td>\n",
       "    </tr>\n",
       "    <tr>\n",
       "      <th>3</th>\n",
       "      <td>3</td>\n",
       "      <td>28.59</td>\n",
       "    </tr>\n",
       "    <tr>\n",
       "      <th>4</th>\n",
       "      <td>4</td>\n",
       "      <td>63.29</td>\n",
       "    </tr>\n",
       "    <tr>\n",
       "      <th>5</th>\n",
       "      <td>5</td>\n",
       "      <td>42.11</td>\n",
       "    </tr>\n",
       "  </tbody>\n",
       "</table>\n",
       "</div>"
      ],
      "text/plain": [
       "   products  churn\n",
       "1         1   7.03\n",
       "2         2  19.10\n",
       "3         3  28.59\n",
       "4         4  63.29\n",
       "5         5  42.11"
      ]
     },
     "execution_count": 41,
     "metadata": {},
     "output_type": "execute_result"
    }
   ],
   "source": [
    "products = data_1.groupby('products').agg({'churn':'mean'}).reset_index()\n",
    "products['churn'] = (products['churn']*100).round(2)\n",
    "products = products[products['products']!=0]\n",
    "products"
   ]
  },
  {
   "cell_type": "code",
   "execution_count": 42,
   "metadata": {},
   "outputs": [
    {
     "data": {
      "image/png": "[encoded data removed]",
      "text/plain": [
       "<Figure size 720x360 with 1 Axes>"
      ]
     },
     "metadata": {
      "needs_background": "light"
     },
     "output_type": "display_data"
    }
   ],
   "source": [
    "ax = plt.subplots(figsize=(10, 5))\n",
    "\n",
    "ax = sns.barplot(data = products, x = 'products', y = 'churn')\n",
    "ax.set_xlabel('Кол-во продуктов')\n",
    "ax.set_ylabel('% оттока в категории')\n",
    "ax.set_title('Доля оттока в категории по количеству продуктов')\n",
    "plt.axhline(y = 18.2, color='black')\n",
    "plt.show()"
   ]
  },
  {
   "cell_type": "markdown",
   "metadata": {},
   "source": [
    "У клиентов с 1 продуктом отток ниже среднего, с 2-мя на 1% выше среднего, с 3-5 значительно выше среднего. "
   ]
  },
  {
   "cell_type": "markdown",
   "metadata": {},
   "source": [
    "**корреляционный анализ:**"
   ]
  },
  {
   "cell_type": "markdown",
   "metadata": {},
   "source": [
    "Построим матрицу корреляций phik:"
   ]
  },
  {
   "cell_type": "code",
   "execution_count": 43,
   "metadata": {
    "scrolled": false
   },
   "outputs": [
    {
     "name": "stdout",
     "output_type": "stream",
     "text": [
      "interval columns not set, guessing: ['userid', 'score', 'age', 'equity', 'balance', 'products', 'credit_card', 'last_activity', 'est_salary', 'churn']\n"
     ]
    },
    {
     "data": {
      "image/png": "[encoded data removed]",
      "text/plain": [
       "<Figure size 720x720 with 2 Axes>"
      ]
     },
     "metadata": {
      "needs_background": "light"
     },
     "output_type": "display_data"
    }
   ],
   "source": [
    "plt.figure(figsize = (10,10))\n",
    "\n",
    "phik = data_1.phik_matrix()\n",
    "sns.heatmap(phik, annot=True, fmt='.0%', cmap= 'vlag', center=0)\n",
    "plt.title('Матрица корреляций phik', fontsize=30)\n",
    "plt.yticks(fontsize = 20)\n",
    "plt.xticks(fontsize = 20)\n",
    "plt.show()"
   ]
  },
  {
   "cell_type": "code",
   "execution_count": 44,
   "metadata": {},
   "outputs": [
    {
     "data": {
      "image/png": "[encoded data removed]",
      "text/plain": [
       "<Figure size 360x720 with 2 Axes>"
      ]
     },
     "metadata": {
      "needs_background": "light"
     },
     "output_type": "display_data"
    }
   ],
   "source": [
    "plt.figure(figsize = (5,10))\n",
    "\n",
    "sns.heatmap(\n",
    "    phik.loc[:,['churn']].drop('churn').sort_values('churn'),\n",
    "    annot=True, fmt='.0%', cmap= 'vlag', center=0)\n",
    "\n",
    "plt.title('Матрица корреляций phik по признаку churn', fontsize=30)\n",
    "plt.yticks(fontsize = 20)\n",
    "plt.xticks(fontsize = 20)\n",
    "plt.show()"
   ]
  },
  {
   "cell_type": "markdown",
   "metadata": {},
   "source": [
    "По шкале Чеддока, для интересующей нас характеристки - оттоком, установленя связь:\n",
    "- отсутствует для: города, баланса, заработной платы.\n",
    "- слабая для: индетификатора пользователя, баллов кредитного скоринга, пола, возраста, наличия кредитной карты, активности пользователя.\n",
    "- умеренная для: баллов собственности, количества используемых продуктов."
   ]
  },
  {
   "cell_type": "markdown",
   "metadata": {},
   "source": [
    "## 3 Шаг. Проверка статистических гипотез."
   ]
  },
  {
   "cell_type": "markdown",
   "metadata": {},
   "source": [
    "**Проверим гипотезу различия дохода между теми клиентами, которые\n",
    "ушли и теми, которые остались.**"
   ]
  },
  {
   "cell_type": "markdown",
   "metadata": {},
   "source": [
    "- Н0: различия в доходе между клиентами, которые ушли и которые остались - не значительны.\n",
    "- Н1: существуют различия в доходе между клиентами, которые ушли и которые остались."
   ]
  },
  {
   "cell_type": "markdown",
   "metadata": {},
   "source": [
    "проверка c помощью t-test:\n",
    "\n",
    "Критерии для возможности проведения t-test:\n",
    "\n",
    "- Генеральные совокупности не должны зависеть друг от друга.\n",
    "- Дисперсии рассматриваемых генеральных совокупностей должны быть равны. (Но если мы не уверены в том, что они равны или как в нашем случае размер выборок разный - указываем equal_var= False)"
   ]
  },
  {
   "cell_type": "code",
   "execution_count": 45,
   "metadata": {},
   "outputs": [
    {
     "name": "stdout",
     "output_type": "stream",
     "text": [
      "0.8354803526840116\n",
      "Не получилось отвергнуть нулевую гипотезу\n"
     ]
    }
   ],
   "source": [
    "results = st.ttest_ind (\n",
    "    data[data['churn']==0]['est_salary'],\n",
    "    data[data['churn']==1]['est_salary'], equal_var = False)\n",
    "\n",
    "alpha = 0.05\n",
    "\n",
    "print (results.pvalue) \n",
    "\n",
    "if results.pvalue < alpha:\n",
    "    print ('Отвергаем нулевую гипотезу')\n",
    "else:\n",
    "    print ('Не получилось отвергнуть нулевую гипотезу')"
   ]
  },
  {
   "cell_type": "markdown",
   "metadata": {},
   "source": [
    "проверка c помощью u-test:\n",
    "\n",
    "Критерии для возможности проведения u-test:\n",
    "\n",
    "- Генеральные совокупности не должны зависеть друг от друга.\n",
    "- Число значений в группах при использовании критерия Манна-Уитни не должно быть больше 30.\n",
    "- Объем групп не должен быть строго одинаковым, но не должен сильно различаться.\n",
    "\n",
    "При использовании библиотеки scipy стоит учитывать только первое требование."
   ]
  },
  {
   "cell_type": "code",
   "execution_count": 46,
   "metadata": {},
   "outputs": [
    {
     "name": "stdout",
     "output_type": "stream",
     "text": [
      "0.00016830729188229058\n",
      "Отвергаем нулевую гипотезу\n"
     ]
    }
   ],
   "source": [
    "results = st.mannwhitneyu (\n",
    "    data[data['churn']==0]['est_salary'],\n",
    "    data[data['churn']==1]['est_salary'])\n",
    "\n",
    "alpha = 0.05 \n",
    "\n",
    "print (results.pvalue)\n",
    "\n",
    "if results.pvalue < alpha:\n",
    "    print ('Отвергаем нулевую гипотезу')\n",
    "else:\n",
    "    print ('Не получилось отвергнуть нулевую гипотезу')"
   ]
  },
  {
   "cell_type": "markdown",
   "metadata": {},
   "source": [
    "Посмотрим средние и медианы для столбца с доходами:"
   ]
  },
  {
   "cell_type": "code",
   "execution_count": 47,
   "metadata": {},
   "outputs": [
    {
     "data": {
      "text/plain": [
       "147674.63788105457"
      ]
     },
     "metadata": {},
     "output_type": "display_data"
    },
    {
     "data": {
      "text/plain": [
       "118227.6"
      ]
     },
     "metadata": {},
     "output_type": "display_data"
    }
   ],
   "source": [
    "display(data[data['churn']==0]['est_salary'].mean())\n",
    "display(data[data['churn']==0]['est_salary'].median())"
   ]
  },
  {
   "cell_type": "code",
   "execution_count": 48,
   "metadata": {},
   "outputs": [
    {
     "data": {
      "text/plain": [
       "148357.48315731573"
      ]
     },
     "metadata": {},
     "output_type": "display_data"
    },
    {
     "data": {
      "text/plain": [
       "125408.88"
      ]
     },
     "metadata": {},
     "output_type": "display_data"
    }
   ],
   "source": [
    "display(data[data['churn']==1]['est_salary'].mean())\n",
    "display(data[data['churn']==1]['est_salary'].median())"
   ]
  },
  {
   "cell_type": "markdown",
   "metadata": {},
   "source": [
    "По разнице между средним и медианой видно, что в значениях есть выбросы."
   ]
  },
  {
   "cell_type": "markdown",
   "metadata": {},
   "source": [
    "Попробуем провести t-test со значениями без выбросов. Построим ящик с усами для столбца с доходом:"
   ]
  },
  {
   "cell_type": "code",
   "execution_count": 49,
   "metadata": {},
   "outputs": [
    {
     "data": {
      "image/png": "[encoded data removed]",
      "text/plain": [
       "<Figure size 432x288 with 1 Axes>"
      ]
     },
     "metadata": {
      "needs_background": "light"
     },
     "output_type": "display_data"
    }
   ],
   "source": [
    "test_df = data\n",
    "test_df.describe()\n",
    "test_df.boxplot(column=['est_salary'])\n",
    "plt.show()"
   ]
  },
  {
   "cell_type": "markdown",
   "metadata": {},
   "source": [
    "Выбросы находятся примерно от 350000, отбросим все что выше:"
   ]
  },
  {
   "cell_type": "code",
   "execution_count": 50,
   "metadata": {},
   "outputs": [],
   "source": [
    "test_df = test_df[test_df['est_salary']<350000]"
   ]
  },
  {
   "cell_type": "markdown",
   "metadata": {},
   "source": [
    "Проведем еще раз t-test:"
   ]
  },
  {
   "cell_type": "code",
   "execution_count": 51,
   "metadata": {},
   "outputs": [
    {
     "name": "stdout",
     "output_type": "stream",
     "text": [
      "0.0002275155861273928\n",
      "Отвергаем нулевую гипотезу\n"
     ]
    }
   ],
   "source": [
    "results = st.ttest_ind (\n",
    "    test_df[test_df['churn']==0]['est_salary'],\n",
    "    test_df[test_df['churn']==1]['est_salary'])\n",
    "\n",
    "alpha = 0.05 \n",
    "\n",
    "print (results.pvalue)\n",
    "\n",
    "if results.pvalue < alpha:\n",
    "    print ('Отвергаем нулевую гипотезу')\n",
    "else:\n",
    "    print ('Не получилось отвергнуть нулевую гипотезу')"
   ]
  },
  {
   "cell_type": "markdown",
   "metadata": {},
   "source": [
    "**Вывод:**\n",
    "\n",
    "- При проведении теста 2-мя методами, мы получили разные результаты. Далее провели еще раз t-test, но с отброшеными выбросами и результаты между t-test и u-test стали аналогичными. Это говорит о том, что t-критерий чувствителен к выбросам. Доверять в таком случае стоит u-test, т.к. тест Манна-Уитни - ранговый метод и лучше подходит для проверки данных с выбросами.\n",
    "\n",
    "- Итоги: существуют статистически значимые различия в доходе между клиентами, которые ушли и которые остались.\n"
   ]
  },
  {
   "cell_type": "markdown",
   "metadata": {},
   "source": [
    "**Проверим гипотезу различия баллов кредитного скорринга между теми клиентами, которые\n",
    "ушли и теми, которые остались.**"
   ]
  },
  {
   "cell_type": "markdown",
   "metadata": {},
   "source": [
    "Выбор этой гипотезы заключается в низкой разнице между средними значениями в портретах - 2.13%\n",
    "\n",
    "- Н0: различия в баллах между клиентами, которые ушли и которые остались - не значительны.\n",
    "- Н1: существуют различия в баллах между клиентами, которые ушли и которые остались."
   ]
  },
  {
   "cell_type": "markdown",
   "metadata": {},
   "source": [
    "Также как и для баланса, выведем средние и медианы:"
   ]
  },
  {
   "cell_type": "code",
   "execution_count": 52,
   "metadata": {},
   "outputs": [
    {
     "data": {
      "text/plain": [
       "845.3961986511342"
      ]
     },
     "metadata": {},
     "output_type": "display_data"
    },
    {
     "data": {
      "text/plain": [
       "848.0"
      ]
     },
     "metadata": {},
     "output_type": "display_data"
    }
   ],
   "source": [
    "display(data[data['churn']==0]['score'].mean())\n",
    "display(data[data['churn']==0]['score'].median())"
   ]
  },
  {
   "cell_type": "code",
   "execution_count": 53,
   "metadata": {},
   "outputs": [
    {
     "data": {
      "text/plain": [
       "863.3619361936194"
      ]
     },
     "metadata": {},
     "output_type": "display_data"
    },
    {
     "data": {
      "text/plain": [
       "866.0"
      ]
     },
     "metadata": {},
     "output_type": "display_data"
    }
   ],
   "source": [
    "display(data[data['churn']==1]['score'].mean())\n",
    "display(data[data['churn']==1]['score'].median())"
   ]
  },
  {
   "cell_type": "markdown",
   "metadata": {},
   "source": [
    "Разница между ними незначительная, что говорит об отсутствии аномальных значений, можем проверить t-критерием:"
   ]
  },
  {
   "cell_type": "code",
   "execution_count": 54,
   "metadata": {},
   "outputs": [
    {
     "name": "stdout",
     "output_type": "stream",
     "text": [
      "1.3179430198200596e-37\n",
      "Отвергаем нулевую гипотезу\n"
     ]
    }
   ],
   "source": [
    "results = st.ttest_ind (\n",
    "    data[data['churn']==0]['score'],\n",
    "    data[data['churn']==1]['score'], equal_var = False)\n",
    "\n",
    "alpha = 0.05 \n",
    "\n",
    "print (results.pvalue)\n",
    "\n",
    "if results.pvalue < alpha:\n",
    "    print ('Отвергаем нулевую гипотезу')\n",
    "else:\n",
    "    print ('Не получилось отвергнуть нулевую гипотезу')"
   ]
  },
  {
   "cell_type": "markdown",
   "metadata": {},
   "source": [
    "Между баллами кредитного скорринга для отточных и неотточных есть статистически значимая разница."
   ]
  },
  {
   "cell_type": "markdown",
   "metadata": {},
   "source": [
    "## 4 Шаг. Промежуточные выводы, с показателями влияющими на отток клиентов."
   ]
  },
  {
   "cell_type": "markdown",
   "metadata": {},
   "source": [
    "**Вывод:**\n",
    "\n",
    "в исследовательском анализе мы составили портреты отточных и неотточных клиентов и сравнили их: \n",
    "- У отточных выше средний балл собственности на 58%.\n",
    "- Средний баланс на 55%.\n",
    "- Среднее количество продуктов на 35%.\n",
    "- Средняя активность на 45%.\n",
    "- Доля мужчин у отточных выше на 38%. \n",
    "- Средний возраст отличается незначительно - на 3.6%.\n",
    "- Средний кредитный скорринг - на 2%.\n",
    "\n",
    "Построили гистограммы распределения непрерывных в разрезе оттока:\n",
    "- для баллов кредитного скоринга можно выделить отточные интервалы с 840 до 950\n",
    "- для возраста с 25 до 36, с 49 до 61.\n",
    "- для баланса виден повышенный отток в интервалах с 1100000 и выше.  \n",
    "- для заработной платы от 100000 до 140000, со 155000 до 210000."
   ]
  },
  {
   "cell_type": "markdown",
   "metadata": {},
   "source": [
    "Визуализировали для категориальных переменных доли оттока:\n",
    "- у городов чуть выше среднего отток у Ярославл и Ростова. У рыбинска ниже среднего.\n",
    "- По гендерному признаку более склонны к оттоку мужчины, у женщин отток ниже среднего.\n",
    "- Клиенты с кредитной карты уходят реже.\n",
    "- Активные клиенты чаще склонны к оттоку.\n",
    "- По баллам собственности клиенты с 1-3 склонны к оттоку ниже среднего, с 4-9 выше. Клиенты с 9 продуктами уходят в 50% случаев.\n",
    "- У клиентов с 1 продуктом вероятность оттока ниже средней, с 2-мя примерно равна средней, с 3-5 выше. У клиентов с 4 продуктами % оттока выше 60%!\n",
    "\n",
    "Построена матрицу корреляций phik:\n",
    "- связь слабая для: индетификатора пользователя, баллов кредитного скоринга, пола, возраста, наличия кредитной карты, активности пользователя.\n",
    "- умеренная для: баллов собственности, количества используемых продуктов.\n",
    "\n",
    "Проверены 2 гипотезы:\n",
    "\n",
    "- 1. Н0 различия в доходе между клиентами, которые ушли и которые остались - не значительны. Н0 не подтвердилась.\n",
    "\n",
    "Проверка проводилась  и t-критерием и u-критерием.  Мы получили разные результаты. Доверять в таком случае стоит u-test, т.к. на результаты t-test повлияли выбросы.\n",
    "\n",
    "- 2. Н0 различия в баллах между клиентами, которые ушли и которые остались - не значительны. Н0 не подтвердилась."
   ]
  },
  {
   "cell_type": "markdown",
   "metadata": {},
   "source": [
    "**Объединим итоги в табличку:**"
   ]
  },
  {
   "cell_type": "markdown",
   "metadata": {},
   "source": [
    "|Показатель |Сравнение портретов/гипотезы|Корреляции|Распределения в разрезе оттока|\n",
    "| :---- | :----: | :----: | :------------------ |\n",
    "|city       |связь незначительная        |нет связи    |Ростов и Ярославль отток чуть выше среднего|\n",
    "|           |                            |             |Рыбинск чуть ниже среднего              |\n",
    "|balance    |связь незначительная        | нет связи   |отточный интервал с 1100000 и выше |\n",
    "|est_salary |существуют различия в доходе|нет связи    |отточный интервал с 100000 по 140000| \n",
    "|           |между ушедшими и оставшимися|             |отточный интервал с 155000 по 210000|                     \n",
    "|age        |есть связь                  |слабая связь |отточный интервал с 25 по 36     |\n",
    "|           |                            |             |отточный интервал с 49 по 61     |\n",
    "|credit_card|есть связь                  |слабая связь |клиенты без карты - отток выше среднего|\n",
    "|gender     |есть связь                  |слабая связь |отток мужчин выше среднего, женщин ниже среднего|\n",
    "|score      |существуют различия в баллах|слабая связь |отточный интервал с 840 по 950     |\n",
    "|           |между ушедшими и оставшимися|             |                              |\n",
    "|last_activity|есть связь                |слабая связь |отток активных выше среднего, неактивных ниже среднего|\n",
    "|equity     |есть связь                  |умеренная связь|У клиентов с баллами собственности от 0 до 2 отток ниже среднего,|\n",
    "|           |                            |               |у клиентов с баллами от 3 и выше - выше среднего          |            |           |                            |               |    |\n",
    "|products   |есть связь                  |умеренная связь|У клиентов с 1 продуктом отток ниже среднего,   |\n",
    "|           |                            |               |с 2-мя на 1% выше среднего, с 3-5 значительно выше среднего   |\n",
    "|"
   ]
  },
  {
   "cell_type": "markdown",
   "metadata": {},
   "source": [
    "## 5 Шаг. Сформировать сегменты с высокой отточностью (более 30% и выше) в небольших группах (500-600 клиентов) и приотизировать их."
   ]
  },
  {
   "cell_type": "markdown",
   "metadata": {},
   "source": [
    "**Сегмент 1:** Клиенты относящиеся к категории активных, с баллом собственности 5 и выше и балансом более 750000.\n"
   ]
  },
  {
   "cell_type": "code",
   "execution_count": 55,
   "metadata": {},
   "outputs": [
    {
     "data": {
      "text/html": [
       "<div>\n",
       "<style scoped>\n",
       "    .dataframe tbody tr th:only-of-type {\n",
       "        vertical-align: middle;\n",
       "    }\n",
       "\n",
       "    .dataframe tbody tr th {\n",
       "        vertical-align: top;\n",
       "    }\n",
       "\n",
       "    .dataframe thead th {\n",
       "        text-align: right;\n",
       "    }\n",
       "</style>\n",
       "<table border=\"1\" class=\"dataframe\">\n",
       "  <thead>\n",
       "    <tr style=\"text-align: right;\">\n",
       "      <th></th>\n",
       "      <th>churn</th>\n",
       "      <th>balance</th>\n",
       "      <th>credit_card</th>\n",
       "    </tr>\n",
       "  </thead>\n",
       "  <tbody>\n",
       "    <tr>\n",
       "      <th>mean</th>\n",
       "      <td>0.528073</td>\n",
       "      <td>NaN</td>\n",
       "      <td>0.505311</td>\n",
       "    </tr>\n",
       "    <tr>\n",
       "      <th>sum</th>\n",
       "      <td>348.000000</td>\n",
       "      <td>1.266530e+09</td>\n",
       "      <td>NaN</td>\n",
       "    </tr>\n",
       "    <tr>\n",
       "      <th>count</th>\n",
       "      <td>659.000000</td>\n",
       "      <td>NaN</td>\n",
       "      <td>NaN</td>\n",
       "    </tr>\n",
       "  </tbody>\n",
       "</table>\n",
       "</div>"
      ],
      "text/plain": [
       "            churn       balance  credit_card\n",
       "mean     0.528073           NaN     0.505311\n",
       "sum    348.000000  1.266530e+09          NaN\n",
       "count  659.000000           NaN          NaN"
      ]
     },
     "execution_count": 55,
     "metadata": {},
     "output_type": "execute_result"
    }
   ],
   "source": [
    "seg_1 = data.query (\n",
    "    'equity>=5 and last_activity==1 and balance > 750000').agg({\"churn\":[\"mean\",\"sum\",\"count\"],\n",
    "                                      \"balance\":[\"sum\"], \n",
    "                                      \"credit_card\":[\"mean\"]})\n",
    "seg_1"
   ]
  },
  {
   "cell_type": "markdown",
   "metadata": {},
   "source": [
    "**Сегмент 2:** Клиенты пользующиеся 3-мя и более продуктами банка и имеющие баллы кредитного скоринга от 840 до 950."
   ]
  },
  {
   "cell_type": "code",
   "execution_count": 56,
   "metadata": {},
   "outputs": [
    {
     "data": {
      "text/html": [
       "<div>\n",
       "<style scoped>\n",
       "    .dataframe tbody tr th:only-of-type {\n",
       "        vertical-align: middle;\n",
       "    }\n",
       "\n",
       "    .dataframe tbody tr th {\n",
       "        vertical-align: top;\n",
       "    }\n",
       "\n",
       "    .dataframe thead th {\n",
       "        text-align: right;\n",
       "    }\n",
       "</style>\n",
       "<table border=\"1\" class=\"dataframe\">\n",
       "  <thead>\n",
       "    <tr style=\"text-align: right;\">\n",
       "      <th></th>\n",
       "      <th>churn</th>\n",
       "      <th>balance</th>\n",
       "      <th>credit_card</th>\n",
       "    </tr>\n",
       "  </thead>\n",
       "  <tbody>\n",
       "    <tr>\n",
       "      <th>mean</th>\n",
       "      <td>0.503259</td>\n",
       "      <td>NaN</td>\n",
       "      <td>0.413299</td>\n",
       "    </tr>\n",
       "    <tr>\n",
       "      <th>sum</th>\n",
       "      <td>386.000000</td>\n",
       "      <td>9.880708e+08</td>\n",
       "      <td>NaN</td>\n",
       "    </tr>\n",
       "    <tr>\n",
       "      <th>count</th>\n",
       "      <td>767.000000</td>\n",
       "      <td>NaN</td>\n",
       "      <td>NaN</td>\n",
       "    </tr>\n",
       "  </tbody>\n",
       "</table>\n",
       "</div>"
      ],
      "text/plain": [
       "            churn       balance  credit_card\n",
       "mean     0.503259           NaN     0.413299\n",
       "sum    386.000000  9.880708e+08          NaN\n",
       "count  767.000000           NaN          NaN"
      ]
     },
     "execution_count": 56,
     "metadata": {},
     "output_type": "execute_result"
    }
   ],
   "source": [
    "seg_2 = data.query (\n",
    "    'products>=3 and score > 840 and score < 950').agg({\"churn\":[\"mean\",\"sum\",\"count\"],\n",
    "                                           \"balance\":[\"sum\"],\n",
    "                                           \"credit_card\":[\"mean\"]})\n",
    "seg_2"
   ]
  },
  {
   "cell_type": "markdown",
   "metadata": {},
   "source": [
    "**Сегмент 3:** Клиенты мужского пола использующие 3 и более продуктов банка."
   ]
  },
  {
   "cell_type": "code",
   "execution_count": 57,
   "metadata": {},
   "outputs": [
    {
     "data": {
      "text/html": [
       "<div>\n",
       "<style scoped>\n",
       "    .dataframe tbody tr th:only-of-type {\n",
       "        vertical-align: middle;\n",
       "    }\n",
       "\n",
       "    .dataframe tbody tr th {\n",
       "        vertical-align: top;\n",
       "    }\n",
       "\n",
       "    .dataframe thead th {\n",
       "        text-align: right;\n",
       "    }\n",
       "</style>\n",
       "<table border=\"1\" class=\"dataframe\">\n",
       "  <thead>\n",
       "    <tr style=\"text-align: right;\">\n",
       "      <th></th>\n",
       "      <th>churn</th>\n",
       "      <th>balance</th>\n",
       "      <th>credit_card</th>\n",
       "    </tr>\n",
       "  </thead>\n",
       "  <tbody>\n",
       "    <tr>\n",
       "      <th>mean</th>\n",
       "      <td>0.5</td>\n",
       "      <td>NaN</td>\n",
       "      <td>0.557181</td>\n",
       "    </tr>\n",
       "    <tr>\n",
       "      <th>sum</th>\n",
       "      <td>376.0</td>\n",
       "      <td>8.817039e+08</td>\n",
       "      <td>NaN</td>\n",
       "    </tr>\n",
       "    <tr>\n",
       "      <th>count</th>\n",
       "      <td>752.0</td>\n",
       "      <td>NaN</td>\n",
       "      <td>NaN</td>\n",
       "    </tr>\n",
       "  </tbody>\n",
       "</table>\n",
       "</div>"
      ],
      "text/plain": [
       "       churn       balance  credit_card\n",
       "mean     0.5           NaN     0.557181\n",
       "sum    376.0  8.817039e+08          NaN\n",
       "count  752.0           NaN          NaN"
      ]
     },
     "execution_count": 57,
     "metadata": {},
     "output_type": "execute_result"
    }
   ],
   "source": [
    "seg_3 = data.query (\n",
    "    'products>=3 and gender_М==1').agg({\"churn\":[\"mean\",\"sum\",\"count\"],\n",
    "                        \"balance\":[\"sum\"], \n",
    "                        \"credit_card\":[\"mean\"]})\n",
    "seg_3"
   ]
  },
  {
   "cell_type": "markdown",
   "metadata": {},
   "source": [
    "**Сегмент 4:** Клиенты с баллом собственности 5 и выше и имеющие баллы кредитного скоринга от 840 до 950."
   ]
  },
  {
   "cell_type": "code",
   "execution_count": 58,
   "metadata": {},
   "outputs": [
    {
     "data": {
      "text/html": [
       "<div>\n",
       "<style scoped>\n",
       "    .dataframe tbody tr th:only-of-type {\n",
       "        vertical-align: middle;\n",
       "    }\n",
       "\n",
       "    .dataframe tbody tr th {\n",
       "        vertical-align: top;\n",
       "    }\n",
       "\n",
       "    .dataframe thead th {\n",
       "        text-align: right;\n",
       "    }\n",
       "</style>\n",
       "<table border=\"1\" class=\"dataframe\">\n",
       "  <thead>\n",
       "    <tr style=\"text-align: right;\">\n",
       "      <th></th>\n",
       "      <th>churn</th>\n",
       "      <th>balance</th>\n",
       "      <th>credit_card</th>\n",
       "    </tr>\n",
       "  </thead>\n",
       "  <tbody>\n",
       "    <tr>\n",
       "      <th>mean</th>\n",
       "      <td>0.384669</td>\n",
       "      <td>NaN</td>\n",
       "      <td>0.547117</td>\n",
       "    </tr>\n",
       "    <tr>\n",
       "      <th>sum</th>\n",
       "      <td>547.000000</td>\n",
       "      <td>1.760684e+09</td>\n",
       "      <td>NaN</td>\n",
       "    </tr>\n",
       "    <tr>\n",
       "      <th>count</th>\n",
       "      <td>1422.000000</td>\n",
       "      <td>NaN</td>\n",
       "      <td>NaN</td>\n",
       "    </tr>\n",
       "  </tbody>\n",
       "</table>\n",
       "</div>"
      ],
      "text/plain": [
       "             churn       balance  credit_card\n",
       "mean      0.384669           NaN     0.547117\n",
       "sum     547.000000  1.760684e+09          NaN\n",
       "count  1422.000000           NaN          NaN"
      ]
     },
     "execution_count": 58,
     "metadata": {},
     "output_type": "execute_result"
    }
   ],
   "source": [
    "seg_4 = data.query (\n",
    "    'equity>=5 and score > 840 and score < 950').agg({\"churn\":[\"mean\",\"sum\",\"count\"],\n",
    "                        \"balance\":[\"sum\"], \n",
    "                        \"credit_card\":[\"mean\"]})\n",
    "seg_4"
   ]
  },
  {
   "cell_type": "markdown",
   "metadata": {},
   "source": [
    "**Сегмент 5:** Клиенты в возрасте от 25 до 36 и не имеющие кредитной карты."
   ]
  },
  {
   "cell_type": "code",
   "execution_count": 59,
   "metadata": {},
   "outputs": [
    {
     "data": {
      "text/html": [
       "<div>\n",
       "<style scoped>\n",
       "    .dataframe tbody tr th:only-of-type {\n",
       "        vertical-align: middle;\n",
       "    }\n",
       "\n",
       "    .dataframe tbody tr th {\n",
       "        vertical-align: top;\n",
       "    }\n",
       "\n",
       "    .dataframe thead th {\n",
       "        text-align: right;\n",
       "    }\n",
       "</style>\n",
       "<table border=\"1\" class=\"dataframe\">\n",
       "  <thead>\n",
       "    <tr style=\"text-align: right;\">\n",
       "      <th></th>\n",
       "      <th>churn</th>\n",
       "      <th>balance</th>\n",
       "      <th>credit_card</th>\n",
       "    </tr>\n",
       "  </thead>\n",
       "  <tbody>\n",
       "    <tr>\n",
       "      <th>mean</th>\n",
       "      <td>0.351317</td>\n",
       "      <td>NaN</td>\n",
       "      <td>0.0</td>\n",
       "    </tr>\n",
       "    <tr>\n",
       "      <th>sum</th>\n",
       "      <td>280.000000</td>\n",
       "      <td>6.249478e+08</td>\n",
       "      <td>NaN</td>\n",
       "    </tr>\n",
       "    <tr>\n",
       "      <th>count</th>\n",
       "      <td>797.000000</td>\n",
       "      <td>NaN</td>\n",
       "      <td>NaN</td>\n",
       "    </tr>\n",
       "  </tbody>\n",
       "</table>\n",
       "</div>"
      ],
      "text/plain": [
       "            churn       balance  credit_card\n",
       "mean     0.351317           NaN          0.0\n",
       "sum    280.000000  6.249478e+08          NaN\n",
       "count  797.000000           NaN          NaN"
      ]
     },
     "execution_count": 59,
     "metadata": {},
     "output_type": "execute_result"
    }
   ],
   "source": [
    "seg_5 = data.query (\n",
    "    'age > 25 and age < 36 and credit_card==0').agg({\"churn\":[\"mean\",\"sum\",\"count\"],\n",
    "                        \"balance\":[\"sum\"], \n",
    "                        \"credit_card\":[\"mean\"]})\n",
    "seg_5"
   ]
  },
  {
   "cell_type": "markdown",
   "metadata": {},
   "source": [
    "**Сегмент 6:** Активные клиенты в возрасте от 49 до 61."
   ]
  },
  {
   "cell_type": "code",
   "execution_count": 60,
   "metadata": {},
   "outputs": [
    {
     "data": {
      "text/html": [
       "<div>\n",
       "<style scoped>\n",
       "    .dataframe tbody tr th:only-of-type {\n",
       "        vertical-align: middle;\n",
       "    }\n",
       "\n",
       "    .dataframe tbody tr th {\n",
       "        vertical-align: top;\n",
       "    }\n",
       "\n",
       "    .dataframe thead th {\n",
       "        text-align: right;\n",
       "    }\n",
       "</style>\n",
       "<table border=\"1\" class=\"dataframe\">\n",
       "  <thead>\n",
       "    <tr style=\"text-align: right;\">\n",
       "      <th></th>\n",
       "      <th>churn</th>\n",
       "      <th>balance</th>\n",
       "      <th>credit_card</th>\n",
       "    </tr>\n",
       "  </thead>\n",
       "  <tbody>\n",
       "    <tr>\n",
       "      <th>mean</th>\n",
       "      <td>0.326087</td>\n",
       "      <td>NaN</td>\n",
       "      <td>0.570652</td>\n",
       "    </tr>\n",
       "    <tr>\n",
       "      <th>sum</th>\n",
       "      <td>300.000000</td>\n",
       "      <td>8.266482e+08</td>\n",
       "      <td>NaN</td>\n",
       "    </tr>\n",
       "    <tr>\n",
       "      <th>count</th>\n",
       "      <td>920.000000</td>\n",
       "      <td>NaN</td>\n",
       "      <td>NaN</td>\n",
       "    </tr>\n",
       "  </tbody>\n",
       "</table>\n",
       "</div>"
      ],
      "text/plain": [
       "            churn       balance  credit_card\n",
       "mean     0.326087           NaN     0.570652\n",
       "sum    300.000000  8.266482e+08          NaN\n",
       "count  920.000000           NaN          NaN"
      ]
     },
     "execution_count": 60,
     "metadata": {},
     "output_type": "execute_result"
    }
   ],
   "source": [
    "seg_6 = data.query (\n",
    "    'age > 49 and age < 61 and last_activity==1').agg({\"churn\":[\"mean\",\"sum\",\"count\"],\n",
    "                        \"balance\":[\"sum\"], \n",
    "                        \"credit_card\":[\"mean\"]})\n",
    "seg_6"
   ]
  },
  {
   "cell_type": "markdown",
   "metadata": {},
   "source": [
    "Проверим уровень оттока в разрезе заработной платы:"
   ]
  },
  {
   "cell_type": "code",
   "execution_count": 61,
   "metadata": {},
   "outputs": [
    {
     "data": {
      "text/html": [
       "<div>\n",
       "<style scoped>\n",
       "    .dataframe tbody tr th:only-of-type {\n",
       "        vertical-align: middle;\n",
       "    }\n",
       "\n",
       "    .dataframe tbody tr th {\n",
       "        vertical-align: top;\n",
       "    }\n",
       "\n",
       "    .dataframe thead th {\n",
       "        text-align: right;\n",
       "    }\n",
       "</style>\n",
       "<table border=\"1\" class=\"dataframe\">\n",
       "  <thead>\n",
       "    <tr style=\"text-align: right;\">\n",
       "      <th></th>\n",
       "      <th>churn</th>\n",
       "      <th>balance</th>\n",
       "      <th>credit_card</th>\n",
       "    </tr>\n",
       "  </thead>\n",
       "  <tbody>\n",
       "    <tr>\n",
       "      <th>mean</th>\n",
       "      <td>0.206667</td>\n",
       "      <td>NaN</td>\n",
       "      <td>0.671905</td>\n",
       "    </tr>\n",
       "    <tr>\n",
       "      <th>sum</th>\n",
       "      <td>434.000000</td>\n",
       "      <td>1.288110e+09</td>\n",
       "      <td>NaN</td>\n",
       "    </tr>\n",
       "    <tr>\n",
       "      <th>count</th>\n",
       "      <td>2100.000000</td>\n",
       "      <td>NaN</td>\n",
       "      <td>NaN</td>\n",
       "    </tr>\n",
       "  </tbody>\n",
       "</table>\n",
       "</div>"
      ],
      "text/plain": [
       "             churn       balance  credit_card\n",
       "mean      0.206667           NaN     0.671905\n",
       "sum     434.000000  1.288110e+09          NaN\n",
       "count  2100.000000           NaN          NaN"
      ]
     },
     "execution_count": 61,
     "metadata": {},
     "output_type": "execute_result"
    }
   ],
   "source": [
    "seg_es = data.query (\n",
    "    'est_salary > 100000 and est_salary < 140000').agg({\"churn\":[\"mean\",\"sum\",\"count\"],\n",
    "                        \"balance\":[\"sum\"], \n",
    "                        \"credit_card\":[\"mean\"]})\n",
    "seg_es"
   ]
  },
  {
   "cell_type": "code",
   "execution_count": 62,
   "metadata": {},
   "outputs": [
    {
     "data": {
      "text/html": [
       "<div>\n",
       "<style scoped>\n",
       "    .dataframe tbody tr th:only-of-type {\n",
       "        vertical-align: middle;\n",
       "    }\n",
       "\n",
       "    .dataframe tbody tr th {\n",
       "        vertical-align: top;\n",
       "    }\n",
       "\n",
       "    .dataframe thead th {\n",
       "        text-align: right;\n",
       "    }\n",
       "</style>\n",
       "<table border=\"1\" class=\"dataframe\">\n",
       "  <thead>\n",
       "    <tr style=\"text-align: right;\">\n",
       "      <th></th>\n",
       "      <th>churn</th>\n",
       "      <th>balance</th>\n",
       "      <th>credit_card</th>\n",
       "    </tr>\n",
       "  </thead>\n",
       "  <tbody>\n",
       "    <tr>\n",
       "      <th>mean</th>\n",
       "      <td>0.207254</td>\n",
       "      <td>NaN</td>\n",
       "      <td>0.677029</td>\n",
       "    </tr>\n",
       "    <tr>\n",
       "      <th>sum</th>\n",
       "      <td>360.000000</td>\n",
       "      <td>1.073694e+09</td>\n",
       "      <td>NaN</td>\n",
       "    </tr>\n",
       "    <tr>\n",
       "      <th>count</th>\n",
       "      <td>1737.000000</td>\n",
       "      <td>NaN</td>\n",
       "      <td>NaN</td>\n",
       "    </tr>\n",
       "  </tbody>\n",
       "</table>\n",
       "</div>"
      ],
      "text/plain": [
       "             churn       balance  credit_card\n",
       "mean      0.207254           NaN     0.677029\n",
       "sum     360.000000  1.073694e+09          NaN\n",
       "count  1737.000000           NaN          NaN"
      ]
     },
     "execution_count": 62,
     "metadata": {},
     "output_type": "execute_result"
    }
   ],
   "source": [
    "seg_es2 = data.query (\n",
    "    'est_salary > 155000 and est_salary < 210000').agg({\"churn\":[\"mean\",\"sum\",\"count\"],\n",
    "                        \"balance\":[\"sum\"], \n",
    "                        \"credit_card\":[\"mean\"]})\n",
    "seg_es2"
   ]
  },
  {
   "cell_type": "markdown",
   "metadata": {},
   "source": [
    "Уровень оттока по городам и заработной плате незначительно превышает средний отток по банку, использовать эти характеристики в составлении сегментов не имеет смысла."
   ]
  },
  {
   "cell_type": "markdown",
   "metadata": {},
   "source": [
    "## 6 Шаг. По приеоритетным сегментам составить рекомендации для отдела маркетинга."
   ]
  },
  {
   "cell_type": "markdown",
   "metadata": {},
   "source": [
    "**Рекомендация для сегмента 1:** в данный сегмент входят клиенты относящиеся к категории активных, с баллом собственности 5 и выше и балансом более 750000. Предложить продукт с льготным страхованием собственности для клиентов с баллом собственности 5 и выше. Так же предложить этим клиентам вклады с повышенным процентом и/или продукт включающий помощь/консультация/сопровождение в инвестирование средств в ценные бумаги/драг. металлы и т.д."
   ]
  },
  {
   "cell_type": "markdown",
   "metadata": {},
   "source": [
    "**Рекомендация для сегмента 2:** в данный сегмент входят клиенты пользующиеся 3-мя и более продуктами банка и имеющие баллы кредитного скоринга от 840 до 950. Предложить клиентам продукт, например карту/кредитную карту, т.к. у этих клиентов невысокий показатель использования кредитной картой, со специальными условиями, такими как повышенный кэшбек, увеличинный срок беспроцентного пользования кредиткой, увеличенная сумма по кредитке. Также кредит/автокредит/иппотеку на специальных условиях."
   ]
  },
  {
   "cell_type": "markdown",
   "metadata": {},
   "source": [
    "**Рекомендация для сегмента 3:** в данный сегмент входят клиенты мужского пола использующие 3 и более продуктов банка. Предложить таким клиентам продукт, например банковскую карту, с повышенным кэшбеком на категории свойственные для покупок мужчинами, такими как: автоуслуги/инструменты/цветы/магазины мужской одежды, обуви и т.д."
   ]
  },
  {
   "cell_type": "markdown",
   "metadata": {},
   "source": [
    "**Рекомендация для сегмента 4:** в данный сегмент входят клиенты с баллом собственности 5 и выше и имеющие баллы кредитного скоринга от 840 до 950. Предложить программу с особыми условиями кредитования на приобретение объектов собственности, программу расширения уже существующей недвижимости, с консультациями по рынку недвижимости."
   ]
  },
  {
   "cell_type": "markdown",
   "metadata": {},
   "source": [
    "**Рекомендация для сегмента 5:** в данный сегмент входят клиенты в возрасте от 25 до 36 и не имеющие кредитной карты. Логично предложить таким клиентам кредитную карту. Возраст  клиентов предполагает повышенную активность, сделать тариф кредитки с повышенными кэшбеком/бонусами на спорт товары/товары для детей(часто люди в этом возрасте заводят семьи/детей)."
   ]
  },
  {
   "cell_type": "markdown",
   "metadata": {},
   "source": [
    "**Рекомендация для сегмента 6:** в данный сегмент входят активные клиенты в возрасте от 49 до 61. Предложить для таких клиентов продукт связанный с повышенным % накоплений по пенсионным продуктам. Перевести накопительную часть пенсии в наш банк с льготными условиями."
   ]
  },
  {
   "cell_type": "markdown",
   "metadata": {},
   "source": [
    "**Приоритет расставления сегментов:**\n",
    "\n",
    "- Первое место в приоритете за сегментом 4, хотя это и не саммый отточный по процентам, но он охватывает 1400 пользователей, на счетах которых 1.7 млрд.\n",
    "- Второе место в приоритете за 1 сегментом, сильно отточный, выше 50%, охватывает не большое количество человек - 650, но на них приходится большая сумма на счетах 1.26 млрд.\n",
    "- Третье место в приоретете за 2 сегментом, сильно отточный - 50%, охватывает не большое количество человек - 760, на счетах клиентов около 1 млрд.\n",
    "- Четвертое место в приоретете за 3 сегментом, по показателям сравним с 3 сегментом: сильно отточный - 50%, охватывает не большое количество человек - 750, на счетах клиентов около 900 млн.\n",
    "- Пятое место в приоритете за 6 сегментом, среднеотточный 32%, охватывает 920 клиентов, на счетах клиентов около 820 млн.\n",
    "- Шестое место в приоритете за 5 сегментом, среднеотточный 35%, охватывает 800 клиентов, на счетах клиентов около 620 млн.\n",
    "\n"
   ]
  },
  {
   "cell_type": "markdown",
   "metadata": {},
   "source": [
    "ссылка на презентацию:"
   ]
  },
  {
   "cell_type": "markdown",
   "metadata": {},
   "source": [
    "https://disk.yandex.ru/i/XHTHsSP8Uv4S1w   "
   ]
  },
  {
   "cell_type": "markdown",
   "metadata": {},
   "source": [
    "ссылка на дашбоард:"
   ]
  },
  {
   "cell_type": "markdown",
   "metadata": {},
   "source": [
    "https://public.tableau.com/views/Finaldash_16896008670860/Dashboard1?:language=en-US&publish=yes&:display_count=n&:origin=viz_share_link"
   ]
  },
  {
   "attachments": {
    "image.png": {
     "image/png": "[encoded data removed]"
    }
   },
   "cell_type": "markdown",
   "metadata": {},
   "source": [
    "![image.png](attachment:image.png)"
   ]
  }
 ],
 "metadata": {
  "ExecuteTimeLog": [
   {
    "duration": 1525,
    "start_time": "2023-07-11T10:12:32.546Z"
   },
   {
    "duration": 101,
    "start_time": "2023-07-11T10:13:22.705Z"
   },
   {
    "duration": 18,
    "start_time": "2023-07-11T10:13:44.649Z"
   },
   {
    "duration": 15,
    "start_time": "2023-07-11T10:14:16.705Z"
   },
   {
    "duration": 3,
    "start_time": "2023-07-11T10:14:39.310Z"
   },
   {
    "duration": 10,
    "start_time": "2023-07-11T10:15:23.618Z"
   },
   {
    "duration": 112,
    "start_time": "2023-07-11T10:15:31.038Z"
   },
   {
    "duration": 12,
    "start_time": "2023-07-11T10:15:40.322Z"
   },
   {
    "duration": 17,
    "start_time": "2023-07-11T10:15:49.570Z"
   },
   {
    "duration": 26,
    "start_time": "2023-07-11T10:16:32.528Z"
   },
   {
    "duration": 1261,
    "start_time": "2023-07-11T10:16:46.035Z"
   },
   {
    "duration": 56,
    "start_time": "2023-07-11T10:16:47.299Z"
   },
   {
    "duration": 14,
    "start_time": "2023-07-11T10:16:47.362Z"
   },
   {
    "duration": 3,
    "start_time": "2023-07-11T10:16:47.378Z"
   },
   {
    "duration": 10,
    "start_time": "2023-07-11T10:16:47.383Z"
   },
   {
    "duration": 31,
    "start_time": "2023-07-11T10:16:47.395Z"
   },
   {
    "duration": 12,
    "start_time": "2023-07-11T10:17:23.165Z"
   },
   {
    "duration": 78,
    "start_time": "2023-07-11T10:17:39.370Z"
   },
   {
    "duration": 20,
    "start_time": "2023-07-11T10:17:57.678Z"
   },
   {
    "duration": 115,
    "start_time": "2023-07-11T10:18:34.102Z"
   },
   {
    "duration": 12,
    "start_time": "2023-07-11T10:19:25.443Z"
   },
   {
    "duration": 99,
    "start_time": "2023-07-11T10:19:55.142Z"
   },
   {
    "duration": 90,
    "start_time": "2023-07-11T11:53:25.611Z"
   },
   {
    "duration": 92,
    "start_time": "2023-07-11T11:55:34.655Z"
   },
   {
    "duration": 11,
    "start_time": "2023-07-11T13:28:53.802Z"
   },
   {
    "duration": 13,
    "start_time": "2023-07-11T13:29:26.899Z"
   },
   {
    "duration": 111,
    "start_time": "2023-07-11T13:29:37.897Z"
   },
   {
    "duration": 18,
    "start_time": "2023-07-11T13:41:33.057Z"
   },
   {
    "duration": 5,
    "start_time": "2023-07-11T13:42:06.134Z"
   },
   {
    "duration": 6,
    "start_time": "2023-07-11T13:42:20.399Z"
   },
   {
    "duration": 122,
    "start_time": "2023-07-11T13:42:33.476Z"
   },
   {
    "duration": 7,
    "start_time": "2023-07-11T13:42:49.381Z"
   },
   {
    "duration": 24,
    "start_time": "2023-07-11T13:43:00.972Z"
   },
   {
    "duration": 11,
    "start_time": "2023-07-11T13:45:05.294Z"
   },
   {
    "duration": 24,
    "start_time": "2023-07-11T13:45:17.454Z"
   },
   {
    "duration": 16,
    "start_time": "2023-07-11T13:45:47.523Z"
   },
   {
    "duration": 24,
    "start_time": "2023-07-11T13:46:57.041Z"
   },
   {
    "duration": 17,
    "start_time": "2023-07-11T13:47:47.671Z"
   },
   {
    "duration": 5,
    "start_time": "2023-07-11T13:48:19.878Z"
   },
   {
    "duration": 26,
    "start_time": "2023-07-11T13:48:29.251Z"
   },
   {
    "duration": 28,
    "start_time": "2023-07-11T14:33:47.632Z"
   },
   {
    "duration": 16,
    "start_time": "2023-07-11T14:34:36.870Z"
   },
   {
    "duration": 29,
    "start_time": "2023-07-11T14:43:28.669Z"
   },
   {
    "duration": 17,
    "start_time": "2023-07-11T14:44:36.088Z"
   },
   {
    "duration": 20,
    "start_time": "2023-07-11T14:47:02.071Z"
   },
   {
    "duration": 1439,
    "start_time": "2023-07-11T14:47:08.885Z"
   },
   {
    "duration": 116,
    "start_time": "2023-07-11T14:47:10.326Z"
   },
   {
    "duration": 20,
    "start_time": "2023-07-11T14:47:10.443Z"
   },
   {
    "duration": 13,
    "start_time": "2023-07-11T14:47:10.477Z"
   },
   {
    "duration": 10,
    "start_time": "2023-07-11T14:47:10.495Z"
   },
   {
    "duration": 20,
    "start_time": "2023-07-11T14:47:10.506Z"
   },
   {
    "duration": 6,
    "start_time": "2023-07-11T14:47:10.528Z"
   },
   {
    "duration": 27,
    "start_time": "2023-07-11T14:47:10.535Z"
   },
   {
    "duration": 107,
    "start_time": "2023-07-11T14:47:10.568Z"
   },
   {
    "duration": 22,
    "start_time": "2023-07-11T14:47:10.677Z"
   },
   {
    "duration": 108,
    "start_time": "2023-07-11T14:47:10.701Z"
   },
   {
    "duration": 9,
    "start_time": "2023-07-11T14:47:10.811Z"
   },
   {
    "duration": 4,
    "start_time": "2023-07-11T14:47:10.821Z"
   },
   {
    "duration": 17,
    "start_time": "2023-07-11T14:47:10.827Z"
   },
   {
    "duration": 12,
    "start_time": "2023-07-11T14:47:37.697Z"
   },
   {
    "duration": 7,
    "start_time": "2023-07-11T14:48:23.407Z"
   },
   {
    "duration": 122,
    "start_time": "2023-07-11T14:49:24.379Z"
   },
   {
    "duration": 8,
    "start_time": "2023-07-11T14:50:00.717Z"
   },
   {
    "duration": 7,
    "start_time": "2023-07-11T14:50:39.317Z"
   },
   {
    "duration": 47,
    "start_time": "2023-07-11T14:59:05.895Z"
   },
   {
    "duration": 1202,
    "start_time": "2023-07-11T14:59:41.823Z"
   },
   {
    "duration": 1142,
    "start_time": "2023-07-11T14:59:55.345Z"
   },
   {
    "duration": 23,
    "start_time": "2023-07-11T15:00:23.048Z"
   },
   {
    "duration": 46,
    "start_time": "2023-07-11T15:29:55.583Z"
   },
   {
    "duration": 10,
    "start_time": "2023-07-11T15:30:13.233Z"
   },
   {
    "duration": 1112,
    "start_time": "2023-07-11T15:31:56.069Z"
   },
   {
    "duration": 1100,
    "start_time": "2023-07-11T15:32:15.399Z"
   },
   {
    "duration": 16,
    "start_time": "2023-07-11T15:32:29.070Z"
   },
   {
    "duration": 3293,
    "start_time": "2023-07-11T15:33:00.802Z"
   },
   {
    "duration": 10,
    "start_time": "2023-07-11T15:33:25.740Z"
   },
   {
    "duration": 6,
    "start_time": "2023-07-11T15:34:28.639Z"
   },
   {
    "duration": 1049,
    "start_time": "2023-07-11T15:34:42.897Z"
   },
   {
    "duration": 7,
    "start_time": "2023-07-11T15:34:54.186Z"
   },
   {
    "duration": 12,
    "start_time": "2023-07-11T15:35:31.277Z"
   },
   {
    "duration": 9,
    "start_time": "2023-07-11T15:35:54.271Z"
   },
   {
    "duration": 10,
    "start_time": "2023-07-11T15:36:21.112Z"
   },
   {
    "duration": 5,
    "start_time": "2023-07-11T15:37:49.614Z"
   },
   {
    "duration": 43,
    "start_time": "2023-07-11T15:38:06.685Z"
   },
   {
    "duration": 9,
    "start_time": "2023-07-11T15:38:41.139Z"
   },
   {
    "duration": 55,
    "start_time": "2023-07-11T15:39:04.221Z"
   },
   {
    "duration": 10,
    "start_time": "2023-07-11T15:39:18.339Z"
   },
   {
    "duration": 93,
    "start_time": "2023-07-11T15:50:15.560Z"
   },
   {
    "duration": 100,
    "start_time": "2023-07-11T15:50:34.970Z"
   },
   {
    "duration": 90,
    "start_time": "2023-07-11T15:52:04.912Z"
   },
   {
    "duration": 5,
    "start_time": "2023-07-11T16:45:03.590Z"
   },
   {
    "duration": 5,
    "start_time": "2023-07-11T16:45:44.006Z"
   },
   {
    "duration": 4,
    "start_time": "2023-07-11T16:49:24.992Z"
   },
   {
    "duration": 6,
    "start_time": "2023-07-11T16:49:30.529Z"
   },
   {
    "duration": 7,
    "start_time": "2023-07-11T16:53:53.509Z"
   },
   {
    "duration": 5,
    "start_time": "2023-07-11T16:54:10.976Z"
   },
   {
    "duration": 5,
    "start_time": "2023-07-11T16:54:25.840Z"
   },
   {
    "duration": 5,
    "start_time": "2023-07-11T16:56:13.543Z"
   },
   {
    "duration": 6,
    "start_time": "2023-07-11T16:57:00.933Z"
   },
   {
    "duration": 6,
    "start_time": "2023-07-11T16:57:25.224Z"
   },
   {
    "duration": 5,
    "start_time": "2023-07-11T16:59:32.872Z"
   },
   {
    "duration": 11,
    "start_time": "2023-07-11T16:59:52.756Z"
   },
   {
    "duration": 6,
    "start_time": "2023-07-11T17:00:00.006Z"
   },
   {
    "duration": 6,
    "start_time": "2023-07-11T17:03:09.101Z"
   },
   {
    "duration": 8,
    "start_time": "2023-07-11T17:06:22.368Z"
   },
   {
    "duration": 8,
    "start_time": "2023-07-11T17:06:46.769Z"
   },
   {
    "duration": 10,
    "start_time": "2023-07-11T17:06:59.664Z"
   },
   {
    "duration": 8,
    "start_time": "2023-07-11T17:07:25.233Z"
   },
   {
    "duration": 8,
    "start_time": "2023-07-11T17:07:35.387Z"
   },
   {
    "duration": 18,
    "start_time": "2023-07-11T17:07:53.955Z"
   },
   {
    "duration": 8,
    "start_time": "2023-07-11T17:08:00.522Z"
   },
   {
    "duration": 7,
    "start_time": "2023-07-11T17:08:06.692Z"
   },
   {
    "duration": 10,
    "start_time": "2023-07-11T17:08:13.948Z"
   },
   {
    "duration": 7,
    "start_time": "2023-07-11T17:08:24.498Z"
   },
   {
    "duration": 7,
    "start_time": "2023-07-11T17:08:42.804Z"
   },
   {
    "duration": 10,
    "start_time": "2023-07-11T17:08:49.095Z"
   },
   {
    "duration": 8,
    "start_time": "2023-07-11T17:09:22.492Z"
   },
   {
    "duration": 8,
    "start_time": "2023-07-11T17:09:29.100Z"
   },
   {
    "duration": 8,
    "start_time": "2023-07-11T17:09:33.888Z"
   },
   {
    "duration": 7,
    "start_time": "2023-07-11T17:09:49.569Z"
   },
   {
    "duration": 8,
    "start_time": "2023-07-11T17:10:01.495Z"
   },
   {
    "duration": 8,
    "start_time": "2023-07-11T17:10:11.193Z"
   },
   {
    "duration": 5,
    "start_time": "2023-07-11T17:12:38.695Z"
   },
   {
    "duration": 10,
    "start_time": "2023-07-11T17:12:58.598Z"
   },
   {
    "duration": 10,
    "start_time": "2023-07-11T17:13:16.700Z"
   },
   {
    "duration": 5,
    "start_time": "2023-07-11T17:13:42.598Z"
   },
   {
    "duration": 9,
    "start_time": "2023-07-11T17:13:53.109Z"
   },
   {
    "duration": 8,
    "start_time": "2023-07-11T17:14:23.417Z"
   },
   {
    "duration": 10,
    "start_time": "2023-07-11T17:14:48.390Z"
   },
   {
    "duration": 9,
    "start_time": "2023-07-11T17:15:02.297Z"
   },
   {
    "duration": 10,
    "start_time": "2023-07-11T17:15:11.632Z"
   },
   {
    "duration": 9,
    "start_time": "2023-07-11T17:15:22.127Z"
   },
   {
    "duration": 9,
    "start_time": "2023-07-11T17:16:34.870Z"
   },
   {
    "duration": 60,
    "start_time": "2023-07-11T17:16:50.170Z"
   },
   {
    "duration": 65,
    "start_time": "2023-07-11T17:17:08.177Z"
   },
   {
    "duration": 9,
    "start_time": "2023-07-11T17:17:17.898Z"
   },
   {
    "duration": 8,
    "start_time": "2023-07-11T17:17:29.976Z"
   },
   {
    "duration": 9,
    "start_time": "2023-07-11T17:18:43.984Z"
   },
   {
    "duration": 10,
    "start_time": "2023-07-11T17:19:13.720Z"
   },
   {
    "duration": 12,
    "start_time": "2023-07-11T17:19:38.097Z"
   },
   {
    "duration": 8,
    "start_time": "2023-07-11T17:21:22.097Z"
   },
   {
    "duration": 17,
    "start_time": "2023-07-11T17:22:24.698Z"
   },
   {
    "duration": 16,
    "start_time": "2023-07-11T17:24:00.090Z"
   },
   {
    "duration": 24,
    "start_time": "2023-07-11T17:24:21.454Z"
   },
   {
    "duration": 17,
    "start_time": "2023-07-11T17:24:36.789Z"
   },
   {
    "duration": 22,
    "start_time": "2023-07-11T17:25:09.371Z"
   },
   {
    "duration": 9,
    "start_time": "2023-07-11T17:25:56.112Z"
   },
   {
    "duration": 13,
    "start_time": "2023-07-11T17:26:16.472Z"
   },
   {
    "duration": 24,
    "start_time": "2023-07-11T17:26:53.550Z"
   },
   {
    "duration": 11,
    "start_time": "2023-07-11T17:27:04.872Z"
   },
   {
    "duration": 8,
    "start_time": "2023-07-11T17:30:46.905Z"
   },
   {
    "duration": 18,
    "start_time": "2023-07-11T17:31:22.954Z"
   },
   {
    "duration": 9,
    "start_time": "2023-07-11T17:31:54.396Z"
   },
   {
    "duration": 91,
    "start_time": "2023-07-11T17:32:04.701Z"
   },
   {
    "duration": 81,
    "start_time": "2023-07-11T17:32:16.796Z"
   },
   {
    "duration": 8,
    "start_time": "2023-07-11T17:32:27.170Z"
   },
   {
    "duration": 65,
    "start_time": "2023-07-11T17:32:41.831Z"
   },
   {
    "duration": 77,
    "start_time": "2023-07-11T17:32:56.453Z"
   },
   {
    "duration": 10,
    "start_time": "2023-07-11T17:33:01.036Z"
   },
   {
    "duration": 90,
    "start_time": "2023-07-11T17:33:15.348Z"
   },
   {
    "duration": 74,
    "start_time": "2023-07-11T17:33:57.242Z"
   },
   {
    "duration": 9,
    "start_time": "2023-07-11T17:34:44.012Z"
   },
   {
    "duration": 8,
    "start_time": "2023-07-11T17:35:08.299Z"
   },
   {
    "duration": 11,
    "start_time": "2023-07-11T17:35:18.998Z"
   },
   {
    "duration": 9,
    "start_time": "2023-07-11T17:35:25.995Z"
   },
   {
    "duration": 9,
    "start_time": "2023-07-11T17:36:47.640Z"
   },
   {
    "duration": 9,
    "start_time": "2023-07-11T17:36:58.703Z"
   },
   {
    "duration": 10,
    "start_time": "2023-07-11T17:38:13.609Z"
   },
   {
    "duration": 9,
    "start_time": "2023-07-11T17:38:26.195Z"
   },
   {
    "duration": 77,
    "start_time": "2023-07-11T17:54:33.015Z"
   },
   {
    "duration": 24,
    "start_time": "2023-07-11T17:55:41.387Z"
   },
   {
    "duration": 26,
    "start_time": "2023-07-11T17:59:41.142Z"
   },
   {
    "duration": 17,
    "start_time": "2023-07-11T17:59:55.888Z"
   },
   {
    "duration": 36,
    "start_time": "2023-07-11T18:21:13.743Z"
   },
   {
    "duration": 12,
    "start_time": "2023-07-11T18:21:46.298Z"
   },
   {
    "duration": 12,
    "start_time": "2023-07-11T18:22:32.149Z"
   },
   {
    "duration": 10,
    "start_time": "2023-07-11T18:22:39.090Z"
   },
   {
    "duration": 10,
    "start_time": "2023-07-11T18:23:00.619Z"
   },
   {
    "duration": 9,
    "start_time": "2023-07-11T18:23:20.590Z"
   },
   {
    "duration": 4600,
    "start_time": "2023-07-11T20:25:13.589Z"
   },
   {
    "duration": 2206,
    "start_time": "2023-07-11T20:25:26.531Z"
   },
   {
    "duration": 84,
    "start_time": "2023-07-11T20:26:29.437Z"
   },
   {
    "duration": 2183,
    "start_time": "2023-07-11T20:27:29.993Z"
   },
   {
    "duration": 2259,
    "start_time": "2023-07-11T20:27:49.893Z"
   },
   {
    "duration": 60,
    "start_time": "2023-07-12T12:21:57.676Z"
   },
   {
    "duration": 5639,
    "start_time": "2023-07-12T12:22:06.661Z"
   },
   {
    "duration": 467,
    "start_time": "2023-07-12T12:22:12.303Z"
   },
   {
    "duration": 15,
    "start_time": "2023-07-12T12:22:12.772Z"
   },
   {
    "duration": 15,
    "start_time": "2023-07-12T12:22:12.789Z"
   },
   {
    "duration": 46,
    "start_time": "2023-07-12T12:22:12.806Z"
   },
   {
    "duration": 28,
    "start_time": "2023-07-12T12:22:12.854Z"
   },
   {
    "duration": 10,
    "start_time": "2023-07-12T12:22:12.884Z"
   },
   {
    "duration": 36,
    "start_time": "2023-07-12T12:22:12.896Z"
   },
   {
    "duration": 126,
    "start_time": "2023-07-12T12:22:12.935Z"
   },
   {
    "duration": 14,
    "start_time": "2023-07-12T12:22:13.064Z"
   },
   {
    "duration": 146,
    "start_time": "2023-07-12T12:22:13.081Z"
   },
   {
    "duration": 11,
    "start_time": "2023-07-12T12:22:13.229Z"
   },
   {
    "duration": 22,
    "start_time": "2023-07-12T12:22:13.242Z"
   },
   {
    "duration": 36,
    "start_time": "2023-07-12T12:22:13.266Z"
   },
   {
    "duration": 47,
    "start_time": "2023-07-12T12:22:13.304Z"
   },
   {
    "duration": 18,
    "start_time": "2023-07-12T12:22:13.353Z"
   },
   {
    "duration": 64,
    "start_time": "2023-07-12T12:22:13.373Z"
   },
   {
    "duration": 94,
    "start_time": "2023-07-12T12:22:13.440Z"
   },
   {
    "duration": 9,
    "start_time": "2023-07-12T12:22:13.536Z"
   },
   {
    "duration": 140,
    "start_time": "2023-07-12T12:22:13.548Z"
   },
   {
    "duration": 34,
    "start_time": "2023-07-12T12:22:13.691Z"
   },
   {
    "duration": 2472,
    "start_time": "2023-07-12T12:22:13.731Z"
   },
   {
    "duration": 9,
    "start_time": "2023-07-12T12:22:43.126Z"
   },
   {
    "duration": 24,
    "start_time": "2023-07-12T12:23:05.601Z"
   },
   {
    "duration": 15,
    "start_time": "2023-07-12T12:23:31.811Z"
   },
   {
    "duration": 75,
    "start_time": "2023-07-12T12:25:09.467Z"
   },
   {
    "duration": 133,
    "start_time": "2023-07-12T12:27:02.037Z"
   },
   {
    "duration": 11,
    "start_time": "2023-07-12T12:27:14.594Z"
   },
   {
    "duration": 3,
    "start_time": "2023-07-12T12:29:20.562Z"
   },
   {
    "duration": 19,
    "start_time": "2023-07-12T12:29:31.253Z"
   },
   {
    "duration": 8,
    "start_time": "2023-07-12T12:30:31.034Z"
   },
   {
    "duration": 10,
    "start_time": "2023-07-12T12:30:50.332Z"
   },
   {
    "duration": 9,
    "start_time": "2023-07-12T12:31:16.863Z"
   },
   {
    "duration": 17,
    "start_time": "2023-07-12T12:32:10.067Z"
   },
   {
    "duration": 9,
    "start_time": "2023-07-12T12:34:31.731Z"
   },
   {
    "duration": 17,
    "start_time": "2023-07-12T12:34:41.100Z"
   },
   {
    "duration": 13,
    "start_time": "2023-07-12T12:35:22.153Z"
   },
   {
    "duration": 18,
    "start_time": "2023-07-12T12:36:58.743Z"
   },
   {
    "duration": 19,
    "start_time": "2023-07-12T12:37:18.194Z"
   },
   {
    "duration": 23,
    "start_time": "2023-07-12T12:37:26.926Z"
   },
   {
    "duration": 2979,
    "start_time": "2023-07-12T12:38:33.705Z"
   },
   {
    "duration": 22,
    "start_time": "2023-07-12T12:39:08.951Z"
   },
   {
    "duration": 26,
    "start_time": "2023-07-12T12:41:01.504Z"
   },
   {
    "duration": 20,
    "start_time": "2023-07-12T12:42:14.722Z"
   },
   {
    "duration": 22,
    "start_time": "2023-07-12T12:43:07.334Z"
   },
   {
    "duration": 34,
    "start_time": "2023-07-12T12:43:14.926Z"
   },
   {
    "duration": 16,
    "start_time": "2023-07-12T12:43:20.123Z"
   },
   {
    "duration": 21,
    "start_time": "2023-07-12T12:43:25.708Z"
   },
   {
    "duration": 18,
    "start_time": "2023-07-12T12:44:03.557Z"
   },
   {
    "duration": 22,
    "start_time": "2023-07-12T12:45:37.219Z"
   },
   {
    "duration": 26,
    "start_time": "2023-07-12T12:47:27.500Z"
   },
   {
    "duration": 27,
    "start_time": "2023-07-12T12:47:50.797Z"
   },
   {
    "duration": 27,
    "start_time": "2023-07-12T12:48:22.156Z"
   },
   {
    "duration": 33,
    "start_time": "2023-07-12T12:51:29.094Z"
   },
   {
    "duration": 25,
    "start_time": "2023-07-12T12:51:44.487Z"
   },
   {
    "duration": 40,
    "start_time": "2023-07-12T12:54:06.906Z"
   },
   {
    "duration": 22,
    "start_time": "2023-07-12T13:03:10.223Z"
   },
   {
    "duration": 314,
    "start_time": "2023-07-12T13:03:52.846Z"
   },
   {
    "duration": 3251,
    "start_time": "2023-07-12T13:11:57.957Z"
   },
   {
    "duration": 23,
    "start_time": "2023-07-12T13:12:30.606Z"
   },
   {
    "duration": 20,
    "start_time": "2023-07-12T13:16:12.793Z"
   },
   {
    "duration": 19,
    "start_time": "2023-07-12T13:16:25.185Z"
   },
   {
    "duration": 1081,
    "start_time": "2023-07-12T13:39:43.483Z"
   },
   {
    "duration": 953,
    "start_time": "2023-07-12T13:42:34.489Z"
   },
   {
    "duration": 994,
    "start_time": "2023-07-12T13:42:49.362Z"
   },
   {
    "duration": 487,
    "start_time": "2023-07-12T13:45:15.441Z"
   },
   {
    "duration": 1896,
    "start_time": "2023-07-12T13:46:38.576Z"
   },
   {
    "duration": 895,
    "start_time": "2023-07-12T13:46:47.222Z"
   },
   {
    "duration": 411,
    "start_time": "2023-07-12T13:47:31.049Z"
   },
   {
    "duration": 398,
    "start_time": "2023-07-12T13:48:14.066Z"
   },
   {
    "duration": 510,
    "start_time": "2023-07-12T13:52:38.926Z"
   },
   {
    "duration": 584,
    "start_time": "2023-07-12T13:56:40.047Z"
   },
   {
    "duration": 498,
    "start_time": "2023-07-12T13:56:50.849Z"
   },
   {
    "duration": 752,
    "start_time": "2023-07-12T14:03:20.605Z"
   },
   {
    "duration": 571,
    "start_time": "2023-07-12T14:04:08.226Z"
   },
   {
    "duration": 546,
    "start_time": "2023-07-12T14:06:02.011Z"
   },
   {
    "duration": 3216,
    "start_time": "2023-07-12T14:06:17.419Z"
   },
   {
    "duration": 325,
    "start_time": "2023-07-12T14:06:34.746Z"
   },
   {
    "duration": 318,
    "start_time": "2023-07-12T14:07:18.241Z"
   },
   {
    "duration": 4003,
    "start_time": "2023-07-12T14:10:40.907Z"
   },
   {
    "duration": 154,
    "start_time": "2023-07-12T14:10:44.927Z"
   },
   {
    "duration": 15,
    "start_time": "2023-07-12T14:10:45.082Z"
   },
   {
    "duration": 31,
    "start_time": "2023-07-12T14:10:45.099Z"
   },
   {
    "duration": 19,
    "start_time": "2023-07-12T14:10:45.139Z"
   },
   {
    "duration": 25,
    "start_time": "2023-07-12T14:10:45.160Z"
   },
   {
    "duration": 9,
    "start_time": "2023-07-12T14:10:45.187Z"
   },
   {
    "duration": 31,
    "start_time": "2023-07-12T14:10:45.198Z"
   },
   {
    "duration": 128,
    "start_time": "2023-07-12T14:10:45.231Z"
   },
   {
    "duration": 15,
    "start_time": "2023-07-12T14:10:45.361Z"
   },
   {
    "duration": 124,
    "start_time": "2023-07-12T14:10:45.378Z"
   },
   {
    "duration": 33,
    "start_time": "2023-07-12T14:10:45.508Z"
   },
   {
    "duration": 52,
    "start_time": "2023-07-12T14:10:45.543Z"
   },
   {
    "duration": 41,
    "start_time": "2023-07-12T14:10:45.599Z"
   },
   {
    "duration": 33,
    "start_time": "2023-07-12T14:10:45.642Z"
   },
   {
    "duration": 25,
    "start_time": "2023-07-12T14:10:45.677Z"
   },
   {
    "duration": 111,
    "start_time": "2023-07-12T14:10:45.704Z"
   },
   {
    "duration": 81,
    "start_time": "2023-07-12T14:10:45.817Z"
   },
   {
    "duration": 65,
    "start_time": "2023-07-12T14:10:45.900Z"
   },
   {
    "duration": 22,
    "start_time": "2023-07-12T14:10:45.967Z"
   },
   {
    "duration": 47,
    "start_time": "2023-07-12T14:10:46.009Z"
   },
   {
    "duration": 481,
    "start_time": "2023-07-12T14:10:46.059Z"
   },
   {
    "duration": 529,
    "start_time": "2023-07-12T14:10:46.541Z"
   },
   {
    "duration": 304,
    "start_time": "2023-07-12T14:10:47.072Z"
   },
   {
    "duration": 2487,
    "start_time": "2023-07-12T14:10:47.378Z"
   },
   {
    "duration": 164,
    "start_time": "2023-07-12T14:11:00.997Z"
   },
   {
    "duration": 4106,
    "start_time": "2023-07-12T14:11:12.604Z"
   },
   {
    "duration": 114,
    "start_time": "2023-07-12T14:11:16.715Z"
   },
   {
    "duration": 20,
    "start_time": "2023-07-12T14:11:16.831Z"
   },
   {
    "duration": 25,
    "start_time": "2023-07-12T14:11:16.853Z"
   },
   {
    "duration": 31,
    "start_time": "2023-07-12T14:11:16.881Z"
   },
   {
    "duration": 62,
    "start_time": "2023-07-12T14:11:16.914Z"
   },
   {
    "duration": 10,
    "start_time": "2023-07-12T14:11:16.979Z"
   },
   {
    "duration": 71,
    "start_time": "2023-07-12T14:11:16.990Z"
   },
   {
    "duration": 126,
    "start_time": "2023-07-12T14:11:17.063Z"
   },
   {
    "duration": 29,
    "start_time": "2023-07-12T14:11:17.191Z"
   },
   {
    "duration": 135,
    "start_time": "2023-07-12T14:11:17.228Z"
   },
   {
    "duration": 13,
    "start_time": "2023-07-12T14:11:17.365Z"
   },
   {
    "duration": 8,
    "start_time": "2023-07-12T14:11:17.380Z"
   },
   {
    "duration": 27,
    "start_time": "2023-07-12T14:11:17.412Z"
   },
   {
    "duration": 17,
    "start_time": "2023-07-12T14:11:17.443Z"
   },
   {
    "duration": 27,
    "start_time": "2023-07-12T14:11:17.462Z"
   },
   {
    "duration": 102,
    "start_time": "2023-07-12T14:11:17.491Z"
   },
   {
    "duration": 62,
    "start_time": "2023-07-12T14:11:17.594Z"
   },
   {
    "duration": 86,
    "start_time": "2023-07-12T14:11:17.658Z"
   },
   {
    "duration": 18,
    "start_time": "2023-07-12T14:11:17.746Z"
   },
   {
    "duration": 60,
    "start_time": "2023-07-12T14:11:17.767Z"
   },
   {
    "duration": 448,
    "start_time": "2023-07-12T14:11:17.837Z"
   },
   {
    "duration": 551,
    "start_time": "2023-07-12T14:11:18.288Z"
   },
   {
    "duration": 296,
    "start_time": "2023-07-12T14:11:18.841Z"
   },
   {
    "duration": 2758,
    "start_time": "2023-07-12T14:11:19.140Z"
   },
   {
    "duration": 146,
    "start_time": "2023-07-12T14:11:42.797Z"
   },
   {
    "duration": 4134,
    "start_time": "2023-07-12T14:11:50.737Z"
   },
   {
    "duration": 107,
    "start_time": "2023-07-12T14:11:54.873Z"
   },
   {
    "duration": 15,
    "start_time": "2023-07-12T14:11:54.982Z"
   },
   {
    "duration": 55,
    "start_time": "2023-07-12T14:11:54.999Z"
   },
   {
    "duration": 22,
    "start_time": "2023-07-12T14:11:55.057Z"
   },
   {
    "duration": 52,
    "start_time": "2023-07-12T14:11:55.082Z"
   },
   {
    "duration": 19,
    "start_time": "2023-07-12T14:11:55.137Z"
   },
   {
    "duration": 33,
    "start_time": "2023-07-12T14:11:55.158Z"
   },
   {
    "duration": 130,
    "start_time": "2023-07-12T14:11:55.193Z"
   },
   {
    "duration": 19,
    "start_time": "2023-07-12T14:11:55.329Z"
   },
   {
    "duration": 109,
    "start_time": "2023-07-12T14:11:55.350Z"
   },
   {
    "duration": 12,
    "start_time": "2023-07-12T14:11:55.460Z"
   },
   {
    "duration": 17,
    "start_time": "2023-07-12T14:11:55.474Z"
   },
   {
    "duration": 31,
    "start_time": "2023-07-12T14:11:55.493Z"
   },
   {
    "duration": 26,
    "start_time": "2023-07-12T14:11:55.526Z"
   },
   {
    "duration": 13,
    "start_time": "2023-07-12T14:11:55.555Z"
   },
   {
    "duration": 77,
    "start_time": "2023-07-12T14:11:55.570Z"
   },
   {
    "duration": 67,
    "start_time": "2023-07-12T14:11:55.649Z"
   },
   {
    "duration": 70,
    "start_time": "2023-07-12T14:11:55.718Z"
   },
   {
    "duration": 35,
    "start_time": "2023-07-12T14:11:55.790Z"
   },
   {
    "duration": 62,
    "start_time": "2023-07-12T14:11:55.827Z"
   },
   {
    "duration": 483,
    "start_time": "2023-07-12T14:11:55.891Z"
   },
   {
    "duration": 545,
    "start_time": "2023-07-12T14:11:56.376Z"
   },
   {
    "duration": 322,
    "start_time": "2023-07-12T14:11:56.930Z"
   },
   {
    "duration": 2520,
    "start_time": "2023-07-12T14:11:57.254Z"
   },
   {
    "duration": 670,
    "start_time": "2023-07-12T14:12:09.593Z"
   },
   {
    "duration": 4184,
    "start_time": "2023-07-12T14:12:20.989Z"
   },
   {
    "duration": 47261,
    "start_time": "2023-07-12T14:12:31.400Z"
   },
   {
    "duration": 359,
    "start_time": "2023-07-12T14:17:52.539Z"
   },
   {
    "duration": 790,
    "start_time": "2023-07-12T14:18:02.157Z"
   },
   {
    "duration": 724,
    "start_time": "2023-07-12T14:18:41.700Z"
   },
   {
    "duration": 730,
    "start_time": "2023-07-12T14:20:18.598Z"
   },
   {
    "duration": 734,
    "start_time": "2023-07-12T14:23:21.048Z"
   },
   {
    "duration": 411,
    "start_time": "2023-07-12T14:23:35.495Z"
   },
   {
    "duration": 7767,
    "start_time": "2023-07-12T14:23:42.085Z"
   },
   {
    "duration": 4755,
    "start_time": "2023-07-12T14:24:07.998Z"
   },
   {
    "duration": 912,
    "start_time": "2023-07-12T14:24:17.680Z"
   },
   {
    "duration": 3643,
    "start_time": "2023-07-12T14:24:24.196Z"
   },
   {
    "duration": 3593,
    "start_time": "2023-07-12T14:24:37.002Z"
   },
   {
    "duration": 3556,
    "start_time": "2023-07-12T14:24:49.293Z"
   },
   {
    "duration": 3637,
    "start_time": "2023-07-12T14:25:00.556Z"
   },
   {
    "duration": 594,
    "start_time": "2023-07-12T14:25:12.596Z"
   },
   {
    "duration": 30219,
    "start_time": "2023-07-12T14:25:28.299Z"
   },
   {
    "duration": 331,
    "start_time": "2023-07-12T14:27:45.033Z"
   },
   {
    "duration": 336,
    "start_time": "2023-07-12T14:27:58.361Z"
   },
   {
    "duration": 355,
    "start_time": "2023-07-12T14:28:07.986Z"
   },
   {
    "duration": 284,
    "start_time": "2023-07-12T14:28:22.299Z"
   },
   {
    "duration": 441,
    "start_time": "2023-07-12T14:28:34.393Z"
   },
   {
    "duration": 300,
    "start_time": "2023-07-12T14:28:41.035Z"
   },
   {
    "duration": 146,
    "start_time": "2023-07-12T14:29:20.468Z"
   },
   {
    "duration": 32702,
    "start_time": "2023-07-12T14:29:41.488Z"
   },
   {
    "duration": 598,
    "start_time": "2023-07-12T14:30:39.232Z"
   },
   {
    "duration": 2909,
    "start_time": "2023-07-12T14:30:49.938Z"
   },
   {
    "duration": 3264,
    "start_time": "2023-07-12T14:31:02.390Z"
   },
   {
    "duration": 711,
    "start_time": "2023-07-12T14:31:25.341Z"
   },
   {
    "duration": 521,
    "start_time": "2023-07-12T14:33:58.338Z"
   },
   {
    "duration": 306,
    "start_time": "2023-07-12T14:34:06.096Z"
   },
   {
    "duration": 365,
    "start_time": "2023-07-12T14:34:35.930Z"
   },
   {
    "duration": 2654,
    "start_time": "2023-07-12T15:45:12.180Z"
   },
   {
    "duration": 2611,
    "start_time": "2023-07-12T15:45:36.263Z"
   },
   {
    "duration": 2787,
    "start_time": "2023-07-12T15:45:49.753Z"
   },
   {
    "duration": 2742,
    "start_time": "2023-07-12T15:46:02.454Z"
   },
   {
    "duration": 2737,
    "start_time": "2023-07-12T15:46:55.561Z"
   },
   {
    "duration": 2641,
    "start_time": "2023-07-12T15:47:19.297Z"
   },
   {
    "duration": 2708,
    "start_time": "2023-07-12T15:59:09.751Z"
   },
   {
    "duration": 2675,
    "start_time": "2023-07-12T15:59:48.155Z"
   },
   {
    "duration": 2925,
    "start_time": "2023-07-12T16:00:37.736Z"
   },
   {
    "duration": 2709,
    "start_time": "2023-07-12T16:00:59.791Z"
   },
   {
    "duration": 2713,
    "start_time": "2023-07-12T16:01:16.485Z"
   },
   {
    "duration": 33,
    "start_time": "2023-07-12T16:06:22.704Z"
   },
   {
    "duration": 24,
    "start_time": "2023-07-12T16:07:29.463Z"
   },
   {
    "duration": 822,
    "start_time": "2023-07-12T16:07:52.637Z"
   },
   {
    "duration": 12,
    "start_time": "2023-07-12T16:19:53.993Z"
   },
   {
    "duration": 194,
    "start_time": "2023-07-12T16:20:35.676Z"
   },
   {
    "duration": 18,
    "start_time": "2023-07-12T16:20:35.888Z"
   },
   {
    "duration": 5,
    "start_time": "2023-07-12T16:20:40.341Z"
   },
   {
    "duration": 10,
    "start_time": "2023-07-12T16:20:42.357Z"
   },
   {
    "duration": 30,
    "start_time": "2023-07-12T16:20:45.197Z"
   },
   {
    "duration": 3999,
    "start_time": "2023-07-12T16:20:53.929Z"
   },
   {
    "duration": 74,
    "start_time": "2023-07-12T16:20:57.931Z"
   },
   {
    "duration": 23,
    "start_time": "2023-07-12T16:20:58.007Z"
   },
   {
    "duration": 9,
    "start_time": "2023-07-12T16:20:58.033Z"
   },
   {
    "duration": 15,
    "start_time": "2023-07-12T16:20:58.045Z"
   },
   {
    "duration": 25,
    "start_time": "2023-07-12T16:20:58.062Z"
   },
   {
    "duration": 30,
    "start_time": "2023-07-12T16:20:58.089Z"
   },
   {
    "duration": 31,
    "start_time": "2023-07-12T16:20:58.126Z"
   },
   {
    "duration": 122,
    "start_time": "2023-07-12T16:20:58.159Z"
   },
   {
    "duration": 37,
    "start_time": "2023-07-12T16:20:58.284Z"
   },
   {
    "duration": 112,
    "start_time": "2023-07-12T16:20:58.323Z"
   },
   {
    "duration": 15,
    "start_time": "2023-07-12T16:20:58.437Z"
   },
   {
    "duration": 6,
    "start_time": "2023-07-12T16:20:58.455Z"
   },
   {
    "duration": 42,
    "start_time": "2023-07-12T16:20:58.464Z"
   },
   {
    "duration": 47,
    "start_time": "2023-07-12T16:20:58.511Z"
   },
   {
    "duration": 12,
    "start_time": "2023-07-12T16:20:58.560Z"
   },
   {
    "duration": 65,
    "start_time": "2023-07-12T16:20:58.574Z"
   },
   {
    "duration": 52,
    "start_time": "2023-07-12T16:20:58.641Z"
   },
   {
    "duration": 81,
    "start_time": "2023-07-12T16:20:58.694Z"
   },
   {
    "duration": 17,
    "start_time": "2023-07-12T16:20:58.777Z"
   },
   {
    "duration": 23,
    "start_time": "2023-07-12T16:20:58.813Z"
   },
   {
    "duration": 404,
    "start_time": "2023-07-12T16:20:58.838Z"
   },
   {
    "duration": 593,
    "start_time": "2023-07-12T16:20:59.245Z"
   },
   {
    "duration": 298,
    "start_time": "2023-07-12T16:20:59.840Z"
   },
   {
    "duration": 29221,
    "start_time": "2023-07-12T16:21:00.140Z"
   },
   {
    "duration": 297,
    "start_time": "2023-07-12T16:21:29.363Z"
   },
   {
    "duration": 615,
    "start_time": "2023-07-12T16:21:29.662Z"
   },
   {
    "duration": 153,
    "start_time": "2023-07-12T16:21:30.279Z"
   },
   {
    "duration": 0,
    "start_time": "2023-07-12T16:21:30.434Z"
   },
   {
    "duration": 175,
    "start_time": "2023-07-12T16:22:00.402Z"
   },
   {
    "duration": 122,
    "start_time": "2023-07-12T16:22:14.082Z"
   },
   {
    "duration": 211,
    "start_time": "2023-07-12T16:22:28.928Z"
   },
   {
    "duration": 616,
    "start_time": "2023-07-12T16:27:48.088Z"
   },
   {
    "duration": 16,
    "start_time": "2023-07-12T16:28:07.558Z"
   },
   {
    "duration": 11,
    "start_time": "2023-07-12T16:28:21.983Z"
   },
   {
    "duration": 12,
    "start_time": "2023-07-12T16:29:07.253Z"
   },
   {
    "duration": 18,
    "start_time": "2023-07-12T17:02:49.493Z"
   },
   {
    "duration": 25,
    "start_time": "2023-07-12T17:07:13.398Z"
   },
   {
    "duration": 16,
    "start_time": "2023-07-12T17:08:05.935Z"
   },
   {
    "duration": 12,
    "start_time": "2023-07-12T17:09:21.094Z"
   },
   {
    "duration": 218,
    "start_time": "2023-07-12T17:10:31.154Z"
   },
   {
    "duration": 209,
    "start_time": "2023-07-12T17:11:21.610Z"
   },
   {
    "duration": 16,
    "start_time": "2023-07-12T17:11:41.025Z"
   },
   {
    "duration": 20,
    "start_time": "2023-07-12T17:14:35.995Z"
   },
   {
    "duration": 14,
    "start_time": "2023-07-12T17:14:52.234Z"
   },
   {
    "duration": 214,
    "start_time": "2023-07-12T17:14:53.226Z"
   },
   {
    "duration": 270,
    "start_time": "2023-07-12T17:26:39.513Z"
   },
   {
    "duration": 1684,
    "start_time": "2023-07-12T18:28:25.356Z"
   },
   {
    "duration": 11,
    "start_time": "2023-07-12T18:28:48.344Z"
   },
   {
    "duration": 10,
    "start_time": "2023-07-12T18:30:06.747Z"
   },
   {
    "duration": 17,
    "start_time": "2023-07-12T18:30:14.195Z"
   },
   {
    "duration": 20,
    "start_time": "2023-07-12T18:30:39.440Z"
   },
   {
    "duration": 20,
    "start_time": "2023-07-12T18:31:04.318Z"
   },
   {
    "duration": 143,
    "start_time": "2023-07-12T18:32:52.568Z"
   },
   {
    "duration": 147,
    "start_time": "2023-07-12T18:34:12.326Z"
   },
   {
    "duration": 162,
    "start_time": "2023-07-12T18:34:26.536Z"
   },
   {
    "duration": 16,
    "start_time": "2023-07-12T18:36:34.946Z"
   },
   {
    "duration": 139,
    "start_time": "2023-07-12T18:37:17.233Z"
   },
   {
    "duration": 139,
    "start_time": "2023-07-12T18:37:58.839Z"
   },
   {
    "duration": 19,
    "start_time": "2023-07-12T18:39:35.387Z"
   },
   {
    "duration": 134,
    "start_time": "2023-07-12T18:40:04.346Z"
   },
   {
    "duration": 149,
    "start_time": "2023-07-12T18:40:41.847Z"
   },
   {
    "duration": 15,
    "start_time": "2023-07-12T18:42:29.592Z"
   },
   {
    "duration": 150,
    "start_time": "2023-07-12T18:43:11.548Z"
   },
   {
    "duration": 142,
    "start_time": "2023-07-12T18:44:03.069Z"
   },
   {
    "duration": 138,
    "start_time": "2023-07-12T18:45:41.088Z"
   },
   {
    "duration": 125,
    "start_time": "2023-07-12T18:45:58.117Z"
   },
   {
    "duration": 124,
    "start_time": "2023-07-12T18:46:06.986Z"
   },
   {
    "duration": 138,
    "start_time": "2023-07-12T18:46:20.515Z"
   },
   {
    "duration": 2081,
    "start_time": "2023-07-12T18:46:49.927Z"
   },
   {
    "duration": 2113,
    "start_time": "2023-07-12T18:48:39.733Z"
   },
   {
    "duration": 1998,
    "start_time": "2023-07-12T18:48:52.796Z"
   },
   {
    "duration": 2107,
    "start_time": "2023-07-12T18:50:30.564Z"
   },
   {
    "duration": 2250,
    "start_time": "2023-07-12T18:50:44.668Z"
   },
   {
    "duration": 1967,
    "start_time": "2023-07-12T18:52:17.649Z"
   },
   {
    "duration": 17,
    "start_time": "2023-07-12T20:00:24.372Z"
   },
   {
    "duration": 193,
    "start_time": "2023-07-12T20:01:25.226Z"
   },
   {
    "duration": 15,
    "start_time": "2023-07-12T20:02:56.642Z"
   },
   {
    "duration": 174,
    "start_time": "2023-07-12T20:03:54.832Z"
   },
   {
    "duration": 555,
    "start_time": "2023-07-12T20:16:26.866Z"
   },
   {
    "duration": 251,
    "start_time": "2023-07-12T20:16:51.488Z"
   },
   {
    "duration": 28499,
    "start_time": "2023-07-12T20:17:02.338Z"
   },
   {
    "duration": 2397,
    "start_time": "2023-07-12T20:25:05.266Z"
   },
   {
    "duration": 2077,
    "start_time": "2023-07-12T20:25:33.769Z"
   },
   {
    "duration": 28652,
    "start_time": "2023-07-12T20:41:38.593Z"
   },
   {
    "duration": 27862,
    "start_time": "2023-07-12T20:42:29.193Z"
   },
   {
    "duration": 5846,
    "start_time": "2023-07-12T20:43:02.765Z"
   },
   {
    "duration": 27792,
    "start_time": "2023-07-12T20:43:22.902Z"
   },
   {
    "duration": 28473,
    "start_time": "2023-07-12T20:44:41.914Z"
   },
   {
    "duration": 27486,
    "start_time": "2023-07-12T20:45:37.110Z"
   },
   {
    "duration": 27924,
    "start_time": "2023-07-12T20:46:57.665Z"
   },
   {
    "duration": 28176,
    "start_time": "2023-07-12T20:48:28.443Z"
   },
   {
    "duration": 28516,
    "start_time": "2023-07-12T20:50:53.834Z"
   },
   {
    "duration": 28536,
    "start_time": "2023-07-12T20:51:45.154Z"
   },
   {
    "duration": 29745,
    "start_time": "2023-07-12T20:53:05.163Z"
   },
   {
    "duration": 30213,
    "start_time": "2023-07-12T20:54:04.323Z"
   },
   {
    "duration": 28096,
    "start_time": "2023-07-12T20:55:18.094Z"
   },
   {
    "duration": 27610,
    "start_time": "2023-07-12T20:56:39.153Z"
   },
   {
    "duration": 568,
    "start_time": "2023-07-12T20:58:08.088Z"
   },
   {
    "duration": 608,
    "start_time": "2023-07-12T20:59:25.626Z"
   },
   {
    "duration": 572,
    "start_time": "2023-07-12T21:00:44.388Z"
   },
   {
    "duration": 607,
    "start_time": "2023-07-12T21:01:41.599Z"
   },
   {
    "duration": 347,
    "start_time": "2023-07-12T21:02:40.914Z"
   },
   {
    "duration": 14,
    "start_time": "2023-07-12T21:03:16.264Z"
   },
   {
    "duration": 13,
    "start_time": "2023-07-12T21:03:39.760Z"
   },
   {
    "duration": 4833,
    "start_time": "2023-07-13T11:19:29.723Z"
   },
   {
    "duration": 144,
    "start_time": "2023-07-13T11:19:34.558Z"
   },
   {
    "duration": 14,
    "start_time": "2023-07-13T11:19:34.704Z"
   },
   {
    "duration": 4,
    "start_time": "2023-07-13T11:19:34.720Z"
   },
   {
    "duration": 12,
    "start_time": "2023-07-13T11:19:34.726Z"
   },
   {
    "duration": 31,
    "start_time": "2023-07-13T11:19:34.740Z"
   },
   {
    "duration": 10,
    "start_time": "2023-07-13T11:19:34.773Z"
   },
   {
    "duration": 31,
    "start_time": "2023-07-13T11:19:34.785Z"
   },
   {
    "duration": 118,
    "start_time": "2023-07-13T11:19:34.818Z"
   },
   {
    "duration": 22,
    "start_time": "2023-07-13T11:19:34.938Z"
   },
   {
    "duration": 102,
    "start_time": "2023-07-13T11:19:34.961Z"
   },
   {
    "duration": 9,
    "start_time": "2023-07-13T11:19:35.065Z"
   },
   {
    "duration": 5,
    "start_time": "2023-07-13T11:19:35.075Z"
   },
   {
    "duration": 19,
    "start_time": "2023-07-13T11:19:35.083Z"
   },
   {
    "duration": 10,
    "start_time": "2023-07-13T11:19:35.103Z"
   },
   {
    "duration": 44,
    "start_time": "2023-07-13T11:19:35.115Z"
   },
   {
    "duration": 55,
    "start_time": "2023-07-13T11:19:35.160Z"
   },
   {
    "duration": 60,
    "start_time": "2023-07-13T11:19:35.217Z"
   },
   {
    "duration": 50,
    "start_time": "2023-07-13T11:19:35.279Z"
   },
   {
    "duration": 34,
    "start_time": "2023-07-13T11:19:35.331Z"
   },
   {
    "duration": 15,
    "start_time": "2023-07-13T11:19:35.366Z"
   },
   {
    "duration": 376,
    "start_time": "2023-07-13T11:19:35.383Z"
   },
   {
    "duration": 439,
    "start_time": "2023-07-13T11:19:35.761Z"
   },
   {
    "duration": 231,
    "start_time": "2023-07-13T11:19:36.202Z"
   },
   {
    "duration": 26507,
    "start_time": "2023-07-13T11:19:36.435Z"
   },
   {
    "duration": 231,
    "start_time": "2023-07-13T11:20:02.944Z"
   },
   {
    "duration": 568,
    "start_time": "2023-07-13T11:20:03.177Z"
   },
   {
    "duration": 14,
    "start_time": "2023-07-13T11:20:03.747Z"
   },
   {
    "duration": 14,
    "start_time": "2023-07-13T11:20:03.763Z"
   },
   {
    "duration": 161,
    "start_time": "2023-07-13T11:20:03.779Z"
   },
   {
    "duration": 18,
    "start_time": "2023-07-13T11:20:03.942Z"
   },
   {
    "duration": 145,
    "start_time": "2023-07-13T11:20:03.962Z"
   },
   {
    "duration": 14,
    "start_time": "2023-07-13T11:20:04.110Z"
   },
   {
    "duration": 172,
    "start_time": "2023-07-13T11:20:04.126Z"
   },
   {
    "duration": 18,
    "start_time": "2023-07-13T11:20:04.300Z"
   },
   {
    "duration": 209,
    "start_time": "2023-07-13T11:20:04.320Z"
   },
   {
    "duration": 27,
    "start_time": "2023-07-13T11:20:04.531Z"
   },
   {
    "duration": 217,
    "start_time": "2023-07-13T11:20:04.561Z"
   },
   {
    "duration": 18,
    "start_time": "2023-07-13T11:20:04.780Z"
   },
   {
    "duration": 168,
    "start_time": "2023-07-13T11:20:04.800Z"
   },
   {
    "duration": 1757,
    "start_time": "2023-07-13T11:20:04.972Z"
   },
   {
    "duration": 1149,
    "start_time": "2023-07-13T11:25:41.274Z"
   },
   {
    "duration": 1012,
    "start_time": "2023-07-13T11:26:02.222Z"
   },
   {
    "duration": 13,
    "start_time": "2023-07-13T11:26:30.328Z"
   },
   {
    "duration": 1188,
    "start_time": "2023-07-13T11:27:43.430Z"
   },
   {
    "duration": 14,
    "start_time": "2023-07-13T11:28:04.043Z"
   },
   {
    "duration": 15,
    "start_time": "2023-07-13T11:29:19.624Z"
   },
   {
    "duration": 128,
    "start_time": "2023-07-13T11:29:55.163Z"
   },
   {
    "duration": 18,
    "start_time": "2023-07-13T11:30:24.272Z"
   },
   {
    "duration": 114,
    "start_time": "2023-07-13T11:30:26.220Z"
   },
   {
    "duration": 13,
    "start_time": "2023-07-13T11:30:38.676Z"
   },
   {
    "duration": 119,
    "start_time": "2023-07-13T11:30:40.619Z"
   },
   {
    "duration": 15,
    "start_time": "2023-07-13T11:30:54.165Z"
   },
   {
    "duration": 125,
    "start_time": "2023-07-13T11:30:55.523Z"
   },
   {
    "duration": 15,
    "start_time": "2023-07-13T11:31:16.016Z"
   },
   {
    "duration": 183,
    "start_time": "2023-07-13T11:31:17.524Z"
   },
   {
    "duration": 13,
    "start_time": "2023-07-13T11:31:29.833Z"
   },
   {
    "duration": 149,
    "start_time": "2023-07-13T11:31:30.833Z"
   },
   {
    "duration": 15,
    "start_time": "2023-07-13T11:36:02.835Z"
   },
   {
    "duration": 162,
    "start_time": "2023-07-13T11:36:06.521Z"
   },
   {
    "duration": 12,
    "start_time": "2023-07-13T11:37:43.534Z"
   },
   {
    "duration": 225,
    "start_time": "2023-07-13T11:38:04.970Z"
   },
   {
    "duration": 135,
    "start_time": "2023-07-13T11:38:15.042Z"
   },
   {
    "duration": 13,
    "start_time": "2023-07-13T11:38:59.419Z"
   },
   {
    "duration": 121,
    "start_time": "2023-07-13T11:39:01.669Z"
   },
   {
    "duration": 13,
    "start_time": "2023-07-13T11:39:20.232Z"
   },
   {
    "duration": 148,
    "start_time": "2023-07-13T11:39:21.944Z"
   },
   {
    "duration": 22,
    "start_time": "2023-07-13T11:39:41.947Z"
   },
   {
    "duration": 134,
    "start_time": "2023-07-13T11:39:43.510Z"
   },
   {
    "duration": 26,
    "start_time": "2023-07-13T11:40:06.037Z"
   },
   {
    "duration": 196,
    "start_time": "2023-07-13T11:40:09.218Z"
   },
   {
    "duration": 14,
    "start_time": "2023-07-13T11:40:26.225Z"
   },
   {
    "duration": 174,
    "start_time": "2023-07-13T11:40:27.213Z"
   },
   {
    "duration": 3601,
    "start_time": "2023-07-13T12:08:06.115Z"
   },
   {
    "duration": 68,
    "start_time": "2023-07-13T12:08:09.718Z"
   },
   {
    "duration": 14,
    "start_time": "2023-07-13T12:08:09.787Z"
   },
   {
    "duration": 4,
    "start_time": "2023-07-13T12:08:09.802Z"
   },
   {
    "duration": 17,
    "start_time": "2023-07-13T12:08:09.808Z"
   },
   {
    "duration": 36,
    "start_time": "2023-07-13T12:08:09.827Z"
   },
   {
    "duration": 11,
    "start_time": "2023-07-13T12:08:09.865Z"
   },
   {
    "duration": 21,
    "start_time": "2023-07-13T12:08:09.879Z"
   },
   {
    "duration": 162,
    "start_time": "2023-07-13T12:08:09.901Z"
   },
   {
    "duration": 16,
    "start_time": "2023-07-13T12:08:10.065Z"
   },
   {
    "duration": 105,
    "start_time": "2023-07-13T12:08:10.083Z"
   },
   {
    "duration": 10,
    "start_time": "2023-07-13T12:08:10.190Z"
   },
   {
    "duration": 11,
    "start_time": "2023-07-13T12:08:10.202Z"
   },
   {
    "duration": 15,
    "start_time": "2023-07-13T12:08:10.216Z"
   },
   {
    "duration": 43,
    "start_time": "2023-07-13T12:08:10.233Z"
   },
   {
    "duration": 10,
    "start_time": "2023-07-13T12:08:10.279Z"
   },
   {
    "duration": 82,
    "start_time": "2023-07-13T12:08:10.291Z"
   },
   {
    "duration": 45,
    "start_time": "2023-07-13T12:08:10.375Z"
   },
   {
    "duration": 71,
    "start_time": "2023-07-13T12:08:10.423Z"
   },
   {
    "duration": 18,
    "start_time": "2023-07-13T12:08:10.496Z"
   },
   {
    "duration": 28,
    "start_time": "2023-07-13T12:08:10.516Z"
   },
   {
    "duration": 417,
    "start_time": "2023-07-13T12:08:10.546Z"
   },
   {
    "duration": 548,
    "start_time": "2023-07-13T12:08:10.965Z"
   },
   {
    "duration": 290,
    "start_time": "2023-07-13T12:08:11.516Z"
   },
   {
    "duration": 27001,
    "start_time": "2023-07-13T12:08:11.808Z"
   },
   {
    "duration": 277,
    "start_time": "2023-07-13T12:08:38.811Z"
   },
   {
    "duration": 606,
    "start_time": "2023-07-13T12:08:39.091Z"
   },
   {
    "duration": 15,
    "start_time": "2023-07-13T12:08:39.699Z"
   },
   {
    "duration": 159,
    "start_time": "2023-07-13T12:08:39.716Z"
   },
   {
    "duration": 14,
    "start_time": "2023-07-13T12:08:39.877Z"
   },
   {
    "duration": 14,
    "start_time": "2023-07-13T12:08:39.892Z"
   },
   {
    "duration": 157,
    "start_time": "2023-07-13T12:08:39.907Z"
   },
   {
    "duration": 20,
    "start_time": "2023-07-13T12:08:40.065Z"
   },
   {
    "duration": 133,
    "start_time": "2023-07-13T12:08:40.087Z"
   },
   {
    "duration": 14,
    "start_time": "2023-07-13T12:08:40.222Z"
   },
   {
    "duration": 151,
    "start_time": "2023-07-13T12:08:40.238Z"
   },
   {
    "duration": 14,
    "start_time": "2023-07-13T12:08:40.391Z"
   },
   {
    "duration": 207,
    "start_time": "2023-07-13T12:08:40.406Z"
   },
   {
    "duration": 15,
    "start_time": "2023-07-13T12:08:40.615Z"
   },
   {
    "duration": 174,
    "start_time": "2023-07-13T12:08:40.631Z"
   },
   {
    "duration": 1659,
    "start_time": "2023-07-13T12:08:40.810Z"
   },
   {
    "duration": 8,
    "start_time": "2023-07-13T12:19:00.203Z"
   },
   {
    "duration": 15,
    "start_time": "2023-07-13T12:51:00.218Z"
   },
   {
    "duration": 11,
    "start_time": "2023-07-13T12:51:30.891Z"
   },
   {
    "duration": 8,
    "start_time": "2023-07-13T12:51:40.278Z"
   },
   {
    "duration": 22,
    "start_time": "2023-07-13T12:55:58.070Z"
   },
   {
    "duration": 8,
    "start_time": "2023-07-13T14:13:37.123Z"
   },
   {
    "duration": 10,
    "start_time": "2023-07-13T14:14:28.811Z"
   },
   {
    "duration": 7,
    "start_time": "2023-07-13T14:15:26.828Z"
   },
   {
    "duration": 8,
    "start_time": "2023-07-13T14:15:52.514Z"
   },
   {
    "duration": 12,
    "start_time": "2023-07-13T14:16:18.675Z"
   },
   {
    "duration": 12,
    "start_time": "2023-07-13T14:18:13.970Z"
   },
   {
    "duration": 8,
    "start_time": "2023-07-13T14:18:37.242Z"
   },
   {
    "duration": 502,
    "start_time": "2023-07-13T14:23:18.475Z"
   },
   {
    "duration": 10,
    "start_time": "2023-07-13T14:24:59.203Z"
   },
   {
    "duration": 13,
    "start_time": "2023-07-13T14:25:28.004Z"
   },
   {
    "duration": 1410,
    "start_time": "2023-07-13T14:27:17.632Z"
   },
   {
    "duration": 14,
    "start_time": "2023-07-13T14:27:33.504Z"
   },
   {
    "duration": 9,
    "start_time": "2023-07-13T14:27:51.003Z"
   },
   {
    "duration": 8,
    "start_time": "2023-07-13T14:28:12.102Z"
   },
   {
    "duration": 9,
    "start_time": "2023-07-13T14:37:42.592Z"
   },
   {
    "duration": 1028,
    "start_time": "2023-07-13T14:40:20.890Z"
   },
   {
    "duration": 24,
    "start_time": "2023-07-13T14:41:00.637Z"
   },
   {
    "duration": 16,
    "start_time": "2023-07-13T14:41:21.136Z"
   },
   {
    "duration": 20,
    "start_time": "2023-07-13T14:41:36.895Z"
   },
   {
    "duration": 17,
    "start_time": "2023-07-13T14:41:57.800Z"
   },
   {
    "duration": 14,
    "start_time": "2023-07-13T14:42:32.014Z"
   },
   {
    "duration": 14,
    "start_time": "2023-07-13T14:46:38.370Z"
   },
   {
    "duration": 12,
    "start_time": "2023-07-13T14:47:14.398Z"
   },
   {
    "duration": 15,
    "start_time": "2023-07-13T14:48:30.897Z"
   },
   {
    "duration": 14,
    "start_time": "2023-07-13T14:49:04.203Z"
   },
   {
    "duration": 21,
    "start_time": "2023-07-13T14:50:02.051Z"
   },
   {
    "duration": 3416,
    "start_time": "2023-07-13T14:50:44.094Z"
   },
   {
    "duration": 125,
    "start_time": "2023-07-13T14:50:47.512Z"
   },
   {
    "duration": 13,
    "start_time": "2023-07-13T14:50:47.639Z"
   },
   {
    "duration": 5,
    "start_time": "2023-07-13T14:50:47.654Z"
   },
   {
    "duration": 14,
    "start_time": "2023-07-13T14:50:47.662Z"
   },
   {
    "duration": 23,
    "start_time": "2023-07-13T14:50:47.678Z"
   },
   {
    "duration": 10,
    "start_time": "2023-07-13T14:50:47.703Z"
   },
   {
    "duration": 46,
    "start_time": "2023-07-13T14:50:47.715Z"
   },
   {
    "duration": 123,
    "start_time": "2023-07-13T14:50:47.763Z"
   },
   {
    "duration": 12,
    "start_time": "2023-07-13T14:50:47.888Z"
   },
   {
    "duration": 115,
    "start_time": "2023-07-13T14:50:47.901Z"
   },
   {
    "duration": 12,
    "start_time": "2023-07-13T14:50:48.018Z"
   },
   {
    "duration": 25,
    "start_time": "2023-07-13T14:50:48.032Z"
   },
   {
    "duration": 35,
    "start_time": "2023-07-13T14:50:48.062Z"
   },
   {
    "duration": 57,
    "start_time": "2023-07-13T14:50:48.099Z"
   },
   {
    "duration": 40,
    "start_time": "2023-07-13T14:50:48.158Z"
   },
   {
    "duration": 106,
    "start_time": "2023-07-13T14:50:48.201Z"
   },
   {
    "duration": 59,
    "start_time": "2023-07-13T14:50:48.309Z"
   },
   {
    "duration": 72,
    "start_time": "2023-07-13T14:50:48.370Z"
   },
   {
    "duration": 35,
    "start_time": "2023-07-13T14:50:48.444Z"
   },
   {
    "duration": 25,
    "start_time": "2023-07-13T14:50:48.482Z"
   },
   {
    "duration": 421,
    "start_time": "2023-07-13T14:50:48.509Z"
   },
   {
    "duration": 703,
    "start_time": "2023-07-13T14:50:48.934Z"
   },
   {
    "duration": 262,
    "start_time": "2023-07-13T14:50:49.639Z"
   },
   {
    "duration": 26590,
    "start_time": "2023-07-13T14:50:49.904Z"
   },
   {
    "duration": 225,
    "start_time": "2023-07-13T14:51:16.496Z"
   },
   {
    "duration": 560,
    "start_time": "2023-07-13T14:51:16.723Z"
   },
   {
    "duration": 13,
    "start_time": "2023-07-13T14:51:17.285Z"
   },
   {
    "duration": 12,
    "start_time": "2023-07-13T14:51:17.299Z"
   },
   {
    "duration": 162,
    "start_time": "2023-07-13T14:51:17.313Z"
   },
   {
    "duration": 14,
    "start_time": "2023-07-13T14:51:17.477Z"
   },
   {
    "duration": 18,
    "start_time": "2023-07-13T14:51:17.493Z"
   },
   {
    "duration": 142,
    "start_time": "2023-07-13T14:51:17.513Z"
   },
   {
    "duration": 17,
    "start_time": "2023-07-13T14:51:17.657Z"
   },
   {
    "duration": 135,
    "start_time": "2023-07-13T14:51:17.675Z"
   },
   {
    "duration": 13,
    "start_time": "2023-07-13T14:51:17.811Z"
   },
   {
    "duration": 135,
    "start_time": "2023-07-13T14:51:17.825Z"
   },
   {
    "duration": 17,
    "start_time": "2023-07-13T14:51:17.962Z"
   },
   {
    "duration": 180,
    "start_time": "2023-07-13T14:51:17.980Z"
   },
   {
    "duration": 15,
    "start_time": "2023-07-13T14:51:18.163Z"
   },
   {
    "duration": 156,
    "start_time": "2023-07-13T14:51:18.181Z"
   },
   {
    "duration": 1866,
    "start_time": "2023-07-13T14:51:18.338Z"
   },
   {
    "duration": 11,
    "start_time": "2023-07-13T14:51:20.205Z"
   },
   {
    "duration": 45,
    "start_time": "2023-07-13T14:51:20.218Z"
   },
   {
    "duration": 10,
    "start_time": "2023-07-13T14:51:20.270Z"
   },
   {
    "duration": 22,
    "start_time": "2023-07-13T14:51:20.281Z"
   },
   {
    "duration": 141,
    "start_time": "2023-07-13T14:51:57.126Z"
   },
   {
    "duration": 3181,
    "start_time": "2023-07-13T14:55:14.637Z"
   },
   {
    "duration": 59,
    "start_time": "2023-07-13T14:55:17.820Z"
   },
   {
    "duration": 12,
    "start_time": "2023-07-13T14:55:17.880Z"
   },
   {
    "duration": 6,
    "start_time": "2023-07-13T14:55:17.894Z"
   },
   {
    "duration": 21,
    "start_time": "2023-07-13T14:55:17.901Z"
   },
   {
    "duration": 21,
    "start_time": "2023-07-13T14:55:17.924Z"
   },
   {
    "duration": 15,
    "start_time": "2023-07-13T14:55:17.947Z"
   },
   {
    "duration": 18,
    "start_time": "2023-07-13T14:55:17.964Z"
   },
   {
    "duration": 124,
    "start_time": "2023-07-13T14:55:17.984Z"
   },
   {
    "duration": 12,
    "start_time": "2023-07-13T14:55:18.111Z"
   },
   {
    "duration": 119,
    "start_time": "2023-07-13T14:55:18.125Z"
   },
   {
    "duration": 14,
    "start_time": "2023-07-13T14:55:18.246Z"
   },
   {
    "duration": 6,
    "start_time": "2023-07-13T14:55:18.261Z"
   },
   {
    "duration": 16,
    "start_time": "2023-07-13T14:55:18.269Z"
   },
   {
    "duration": 11,
    "start_time": "2023-07-13T14:55:18.287Z"
   },
   {
    "duration": 8,
    "start_time": "2023-07-13T14:55:18.300Z"
   },
   {
    "duration": 98,
    "start_time": "2023-07-13T14:55:18.310Z"
   },
   {
    "duration": 59,
    "start_time": "2023-07-13T14:55:18.409Z"
   },
   {
    "duration": 48,
    "start_time": "2023-07-13T14:55:18.470Z"
   },
   {
    "duration": 17,
    "start_time": "2023-07-13T14:55:18.519Z"
   },
   {
    "duration": 19,
    "start_time": "2023-07-13T14:55:18.555Z"
   },
   {
    "duration": 387,
    "start_time": "2023-07-13T14:55:18.575Z"
   },
   {
    "duration": 467,
    "start_time": "2023-07-13T14:55:18.964Z"
   },
   {
    "duration": 229,
    "start_time": "2023-07-13T14:55:19.433Z"
   },
   {
    "duration": 24552,
    "start_time": "2023-07-13T14:55:19.664Z"
   },
   {
    "duration": 216,
    "start_time": "2023-07-13T14:55:44.218Z"
   },
   {
    "duration": 494,
    "start_time": "2023-07-13T14:55:44.436Z"
   },
   {
    "duration": 26,
    "start_time": "2023-07-13T14:55:44.934Z"
   },
   {
    "duration": 10,
    "start_time": "2023-07-13T14:55:44.962Z"
   },
   {
    "duration": 3327,
    "start_time": "2023-07-13T14:55:47.839Z"
   },
   {
    "duration": 57,
    "start_time": "2023-07-13T14:55:51.168Z"
   },
   {
    "duration": 13,
    "start_time": "2023-07-13T14:55:51.228Z"
   },
   {
    "duration": 7,
    "start_time": "2023-07-13T14:55:51.242Z"
   },
   {
    "duration": 22,
    "start_time": "2023-07-13T14:55:51.251Z"
   },
   {
    "duration": 31,
    "start_time": "2023-07-13T14:55:51.275Z"
   },
   {
    "duration": 6,
    "start_time": "2023-07-13T14:55:51.308Z"
   },
   {
    "duration": 26,
    "start_time": "2023-07-13T14:55:51.316Z"
   },
   {
    "duration": 84,
    "start_time": "2023-07-13T14:55:51.343Z"
   },
   {
    "duration": 12,
    "start_time": "2023-07-13T14:55:51.428Z"
   },
   {
    "duration": 105,
    "start_time": "2023-07-13T14:55:51.442Z"
   },
   {
    "duration": 9,
    "start_time": "2023-07-13T14:55:51.548Z"
   },
   {
    "duration": 5,
    "start_time": "2023-07-13T14:55:51.558Z"
   },
   {
    "duration": 13,
    "start_time": "2023-07-13T14:55:51.565Z"
   },
   {
    "duration": 8,
    "start_time": "2023-07-13T14:55:51.580Z"
   },
   {
    "duration": 6,
    "start_time": "2023-07-13T14:55:51.590Z"
   },
   {
    "duration": 73,
    "start_time": "2023-07-13T14:55:51.598Z"
   },
   {
    "duration": 43,
    "start_time": "2023-07-13T14:55:51.672Z"
   },
   {
    "duration": 62,
    "start_time": "2023-07-13T14:55:51.717Z"
   },
   {
    "duration": 16,
    "start_time": "2023-07-13T14:55:51.781Z"
   },
   {
    "duration": 28,
    "start_time": "2023-07-13T14:55:51.799Z"
   },
   {
    "duration": 331,
    "start_time": "2023-07-13T14:55:51.829Z"
   },
   {
    "duration": 418,
    "start_time": "2023-07-13T14:55:52.162Z"
   },
   {
    "duration": 232,
    "start_time": "2023-07-13T14:55:52.582Z"
   },
   {
    "duration": 26189,
    "start_time": "2023-07-13T14:55:52.816Z"
   },
   {
    "duration": 289,
    "start_time": "2023-07-13T14:56:19.006Z"
   },
   {
    "duration": 568,
    "start_time": "2023-07-13T14:56:19.298Z"
   },
   {
    "duration": 15,
    "start_time": "2023-07-13T14:56:19.869Z"
   },
   {
    "duration": 12,
    "start_time": "2023-07-13T14:56:19.885Z"
   },
   {
    "duration": 143,
    "start_time": "2023-07-13T14:56:19.898Z"
   },
   {
    "duration": 23,
    "start_time": "2023-07-13T14:56:20.042Z"
   },
   {
    "duration": 14,
    "start_time": "2023-07-13T14:56:20.068Z"
   },
   {
    "duration": 130,
    "start_time": "2023-07-13T14:56:20.084Z"
   },
   {
    "duration": 13,
    "start_time": "2023-07-13T14:56:20.216Z"
   },
   {
    "duration": 138,
    "start_time": "2023-07-13T14:56:20.231Z"
   },
   {
    "duration": 13,
    "start_time": "2023-07-13T14:56:20.372Z"
   },
   {
    "duration": 142,
    "start_time": "2023-07-13T14:56:20.387Z"
   },
   {
    "duration": 25,
    "start_time": "2023-07-13T14:56:20.532Z"
   },
   {
    "duration": 189,
    "start_time": "2023-07-13T14:56:20.559Z"
   },
   {
    "duration": 26,
    "start_time": "2023-07-13T14:56:20.750Z"
   },
   {
    "duration": 156,
    "start_time": "2023-07-13T14:56:20.780Z"
   },
   {
    "duration": 1601,
    "start_time": "2023-07-13T14:56:20.938Z"
   },
   {
    "duration": 21,
    "start_time": "2023-07-13T14:56:22.540Z"
   },
   {
    "duration": 17,
    "start_time": "2023-07-13T14:56:22.563Z"
   },
   {
    "duration": 45,
    "start_time": "2023-07-13T14:56:22.582Z"
   },
   {
    "duration": 39,
    "start_time": "2023-07-13T14:56:22.628Z"
   },
   {
    "duration": 117,
    "start_time": "2023-07-13T14:56:47.236Z"
   },
   {
    "duration": 3387,
    "start_time": "2023-07-13T14:56:54.989Z"
   },
   {
    "duration": 70,
    "start_time": "2023-07-13T14:56:58.379Z"
   },
   {
    "duration": 22,
    "start_time": "2023-07-13T14:56:58.451Z"
   },
   {
    "duration": 8,
    "start_time": "2023-07-13T14:56:58.475Z"
   },
   {
    "duration": 29,
    "start_time": "2023-07-13T14:56:58.485Z"
   },
   {
    "duration": 23,
    "start_time": "2023-07-13T14:56:58.516Z"
   },
   {
    "duration": 8,
    "start_time": "2023-07-13T14:56:58.540Z"
   },
   {
    "duration": 23,
    "start_time": "2023-07-13T14:56:58.550Z"
   },
   {
    "duration": 110,
    "start_time": "2023-07-13T14:56:58.575Z"
   },
   {
    "duration": 11,
    "start_time": "2023-07-13T14:56:58.686Z"
   },
   {
    "duration": 110,
    "start_time": "2023-07-13T14:56:58.698Z"
   },
   {
    "duration": 11,
    "start_time": "2023-07-13T14:56:58.810Z"
   },
   {
    "duration": 7,
    "start_time": "2023-07-13T14:56:58.824Z"
   },
   {
    "duration": 41,
    "start_time": "2023-07-13T14:56:58.834Z"
   },
   {
    "duration": 11,
    "start_time": "2023-07-13T14:56:58.877Z"
   },
   {
    "duration": 8,
    "start_time": "2023-07-13T14:56:58.890Z"
   },
   {
    "duration": 78,
    "start_time": "2023-07-13T14:56:58.900Z"
   },
   {
    "duration": 52,
    "start_time": "2023-07-13T14:56:58.980Z"
   },
   {
    "duration": 75,
    "start_time": "2023-07-13T14:56:59.034Z"
   },
   {
    "duration": 24,
    "start_time": "2023-07-13T14:56:59.111Z"
   },
   {
    "duration": 37,
    "start_time": "2023-07-13T14:56:59.137Z"
   },
   {
    "duration": 388,
    "start_time": "2023-07-13T14:56:59.177Z"
   },
   {
    "duration": 444,
    "start_time": "2023-07-13T14:56:59.567Z"
   },
   {
    "duration": 248,
    "start_time": "2023-07-13T14:57:00.012Z"
   },
   {
    "duration": 26175,
    "start_time": "2023-07-13T14:57:00.262Z"
   },
   {
    "duration": 218,
    "start_time": "2023-07-13T14:57:26.439Z"
   },
   {
    "duration": 508,
    "start_time": "2023-07-13T14:57:26.659Z"
   },
   {
    "duration": 14,
    "start_time": "2023-07-13T14:57:27.169Z"
   },
   {
    "duration": 12,
    "start_time": "2023-07-13T14:57:27.185Z"
   },
   {
    "duration": 150,
    "start_time": "2023-07-13T14:57:27.198Z"
   },
   {
    "duration": 22,
    "start_time": "2023-07-13T14:57:27.351Z"
   },
   {
    "duration": 15,
    "start_time": "2023-07-13T14:57:27.375Z"
   },
   {
    "duration": 153,
    "start_time": "2023-07-13T14:57:27.392Z"
   },
   {
    "duration": 18,
    "start_time": "2023-07-13T14:57:27.547Z"
   },
   {
    "duration": 133,
    "start_time": "2023-07-13T14:57:27.567Z"
   },
   {
    "duration": 13,
    "start_time": "2023-07-13T14:57:27.702Z"
   },
   {
    "duration": 143,
    "start_time": "2023-07-13T14:57:27.718Z"
   },
   {
    "duration": 21,
    "start_time": "2023-07-13T14:57:27.863Z"
   },
   {
    "duration": 198,
    "start_time": "2023-07-13T14:57:27.886Z"
   },
   {
    "duration": 15,
    "start_time": "2023-07-13T14:57:28.086Z"
   },
   {
    "duration": 151,
    "start_time": "2023-07-13T14:57:28.105Z"
   },
   {
    "duration": 1702,
    "start_time": "2023-07-13T14:57:28.258Z"
   },
   {
    "duration": 8,
    "start_time": "2023-07-13T14:57:29.961Z"
   },
   {
    "duration": 19,
    "start_time": "2023-07-13T14:57:29.971Z"
   },
   {
    "duration": 7,
    "start_time": "2023-07-13T14:57:29.992Z"
   },
   {
    "duration": 29,
    "start_time": "2023-07-13T14:57:30.001Z"
   },
   {
    "duration": 250,
    "start_time": "2023-07-13T14:58:20.527Z"
   },
   {
    "duration": 144,
    "start_time": "2023-07-13T14:58:43.326Z"
   },
   {
    "duration": 146,
    "start_time": "2023-07-13T15:01:14.565Z"
   },
   {
    "duration": 154,
    "start_time": "2023-07-13T15:02:25.444Z"
   },
   {
    "duration": 251,
    "start_time": "2023-07-13T15:03:01.813Z"
   },
   {
    "duration": 206,
    "start_time": "2023-07-13T15:03:46.798Z"
   },
   {
    "duration": 18,
    "start_time": "2023-07-13T15:04:27.399Z"
   },
   {
    "duration": 14,
    "start_time": "2023-07-13T15:04:43.310Z"
   },
   {
    "duration": 272,
    "start_time": "2023-07-13T15:04:51.923Z"
   },
   {
    "duration": 13,
    "start_time": "2023-07-13T15:05:44.025Z"
   },
   {
    "duration": 158,
    "start_time": "2023-07-13T15:05:50.745Z"
   },
   {
    "duration": 123,
    "start_time": "2023-07-13T15:06:10.699Z"
   },
   {
    "duration": 195,
    "start_time": "2023-07-13T15:06:24.417Z"
   },
   {
    "duration": 267,
    "start_time": "2023-07-13T15:06:37.925Z"
   },
   {
    "duration": 246,
    "start_time": "2023-07-13T15:06:44.425Z"
   },
   {
    "duration": 238,
    "start_time": "2023-07-13T15:06:58.298Z"
   },
   {
    "duration": 15,
    "start_time": "2023-07-13T15:07:16.663Z"
   },
   {
    "duration": 13,
    "start_time": "2023-07-13T15:07:58.097Z"
   },
   {
    "duration": 14,
    "start_time": "2023-07-13T15:08:06.497Z"
   },
   {
    "duration": 15,
    "start_time": "2023-07-13T15:08:29.199Z"
   },
   {
    "duration": 255,
    "start_time": "2023-07-13T15:08:30.870Z"
   },
   {
    "duration": 13,
    "start_time": "2023-07-13T15:08:43.441Z"
   },
   {
    "duration": 271,
    "start_time": "2023-07-13T15:08:52.440Z"
   },
   {
    "duration": 12,
    "start_time": "2023-07-13T15:09:20.996Z"
   },
   {
    "duration": 217,
    "start_time": "2023-07-13T15:09:29.298Z"
   },
   {
    "duration": 13,
    "start_time": "2023-07-13T15:09:35.139Z"
   },
   {
    "duration": 195,
    "start_time": "2023-07-13T15:09:36.309Z"
   },
   {
    "duration": 13,
    "start_time": "2023-07-13T15:10:30.119Z"
   },
   {
    "duration": 251,
    "start_time": "2023-07-13T15:10:50.654Z"
   },
   {
    "duration": 12,
    "start_time": "2023-07-13T15:11:37.099Z"
   },
   {
    "duration": 11,
    "start_time": "2023-07-13T15:11:56.672Z"
   },
   {
    "duration": 188,
    "start_time": "2023-07-13T15:12:19.712Z"
   },
   {
    "duration": 12,
    "start_time": "2023-07-13T15:13:08.508Z"
   },
   {
    "duration": 202,
    "start_time": "2023-07-13T15:13:19.495Z"
   },
   {
    "duration": 312,
    "start_time": "2023-07-13T15:13:44.644Z"
   },
   {
    "duration": 11,
    "start_time": "2023-07-13T15:14:44.716Z"
   },
   {
    "duration": 153,
    "start_time": "2023-07-13T15:15:19.958Z"
   },
   {
    "duration": 13,
    "start_time": "2023-07-13T15:16:15.095Z"
   },
   {
    "duration": 178,
    "start_time": "2023-07-13T15:16:18.941Z"
   },
   {
    "duration": 9,
    "start_time": "2023-07-13T15:16:32.814Z"
   },
   {
    "duration": 14,
    "start_time": "2023-07-13T15:16:46.418Z"
   },
   {
    "duration": 146,
    "start_time": "2023-07-13T15:16:49.741Z"
   },
   {
    "duration": 231,
    "start_time": "2023-07-13T15:17:13.594Z"
   },
   {
    "duration": 225,
    "start_time": "2023-07-13T15:17:43.993Z"
   },
   {
    "duration": 279,
    "start_time": "2023-07-13T15:18:14.346Z"
   },
   {
    "duration": 4915,
    "start_time": "2023-07-13T17:20:05.414Z"
   },
   {
    "duration": 260,
    "start_time": "2023-07-13T17:20:10.332Z"
   },
   {
    "duration": 15,
    "start_time": "2023-07-13T17:20:10.593Z"
   },
   {
    "duration": 24,
    "start_time": "2023-07-13T17:20:10.610Z"
   },
   {
    "duration": 30,
    "start_time": "2023-07-13T17:20:10.636Z"
   },
   {
    "duration": 37,
    "start_time": "2023-07-13T17:20:10.668Z"
   },
   {
    "duration": 7,
    "start_time": "2023-07-13T17:20:10.707Z"
   },
   {
    "duration": 39,
    "start_time": "2023-07-13T17:20:10.716Z"
   },
   {
    "duration": 99,
    "start_time": "2023-07-13T17:20:10.757Z"
   },
   {
    "duration": 17,
    "start_time": "2023-07-13T17:20:10.859Z"
   },
   {
    "duration": 111,
    "start_time": "2023-07-13T17:20:10.878Z"
   },
   {
    "duration": 11,
    "start_time": "2023-07-13T17:20:10.991Z"
   },
   {
    "duration": 5,
    "start_time": "2023-07-13T17:20:11.005Z"
   },
   {
    "duration": 38,
    "start_time": "2023-07-13T17:20:11.012Z"
   },
   {
    "duration": 25,
    "start_time": "2023-07-13T17:20:11.053Z"
   },
   {
    "duration": 9,
    "start_time": "2023-07-13T17:20:11.080Z"
   },
   {
    "duration": 55,
    "start_time": "2023-07-13T17:20:11.091Z"
   },
   {
    "duration": 62,
    "start_time": "2023-07-13T17:20:11.148Z"
   },
   {
    "duration": 69,
    "start_time": "2023-07-13T17:20:11.212Z"
   },
   {
    "duration": 17,
    "start_time": "2023-07-13T17:20:11.284Z"
   },
   {
    "duration": 18,
    "start_time": "2023-07-13T17:20:11.303Z"
   },
   {
    "duration": 395,
    "start_time": "2023-07-13T17:20:11.323Z"
   },
   {
    "duration": 484,
    "start_time": "2023-07-13T17:20:11.720Z"
   },
   {
    "duration": 280,
    "start_time": "2023-07-13T17:20:12.207Z"
   },
   {
    "duration": 26513,
    "start_time": "2023-07-13T17:20:12.489Z"
   },
   {
    "duration": 229,
    "start_time": "2023-07-13T17:20:39.004Z"
   },
   {
    "duration": 532,
    "start_time": "2023-07-13T17:20:39.235Z"
   },
   {
    "duration": 12,
    "start_time": "2023-07-13T17:20:39.771Z"
   },
   {
    "duration": 272,
    "start_time": "2023-07-13T17:20:39.785Z"
   },
   {
    "duration": 232,
    "start_time": "2023-07-13T17:20:40.066Z"
   },
   {
    "duration": 0,
    "start_time": "2023-07-13T17:20:40.300Z"
   },
   {
    "duration": 0,
    "start_time": "2023-07-13T17:20:40.301Z"
   },
   {
    "duration": 0,
    "start_time": "2023-07-13T17:20:40.303Z"
   },
   {
    "duration": 0,
    "start_time": "2023-07-13T17:20:40.304Z"
   },
   {
    "duration": 0,
    "start_time": "2023-07-13T17:20:40.306Z"
   },
   {
    "duration": 0,
    "start_time": "2023-07-13T17:20:40.307Z"
   },
   {
    "duration": 0,
    "start_time": "2023-07-13T17:20:40.309Z"
   },
   {
    "duration": 0,
    "start_time": "2023-07-13T17:20:40.310Z"
   },
   {
    "duration": 0,
    "start_time": "2023-07-13T17:20:40.311Z"
   },
   {
    "duration": 0,
    "start_time": "2023-07-13T17:20:40.312Z"
   },
   {
    "duration": 0,
    "start_time": "2023-07-13T17:20:40.314Z"
   },
   {
    "duration": 0,
    "start_time": "2023-07-13T17:20:40.315Z"
   },
   {
    "duration": 13,
    "start_time": "2023-07-13T17:22:37.591Z"
   },
   {
    "duration": 3560,
    "start_time": "2023-07-13T17:24:39.244Z"
   },
   {
    "duration": 60,
    "start_time": "2023-07-13T17:24:42.806Z"
   },
   {
    "duration": 15,
    "start_time": "2023-07-13T17:24:42.868Z"
   },
   {
    "duration": 14,
    "start_time": "2023-07-13T17:24:42.885Z"
   },
   {
    "duration": 2198,
    "start_time": "2023-07-13T17:25:19.939Z"
   },
   {
    "duration": 57,
    "start_time": "2023-07-13T17:25:22.140Z"
   },
   {
    "duration": 17,
    "start_time": "2023-07-13T17:25:22.198Z"
   },
   {
    "duration": 3,
    "start_time": "2023-07-13T17:25:22.217Z"
   },
   {
    "duration": 15,
    "start_time": "2023-07-13T17:25:22.222Z"
   },
   {
    "duration": 47,
    "start_time": "2023-07-13T17:25:22.240Z"
   },
   {
    "duration": 11,
    "start_time": "2023-07-13T17:25:22.290Z"
   },
   {
    "duration": 22,
    "start_time": "2023-07-13T17:25:22.303Z"
   },
   {
    "duration": 131,
    "start_time": "2023-07-13T17:25:22.327Z"
   },
   {
    "duration": 12,
    "start_time": "2023-07-13T17:25:22.467Z"
   },
   {
    "duration": 113,
    "start_time": "2023-07-13T17:25:22.481Z"
   },
   {
    "duration": 9,
    "start_time": "2023-07-13T17:25:22.596Z"
   },
   {
    "duration": 9,
    "start_time": "2023-07-13T17:25:22.607Z"
   },
   {
    "duration": 24,
    "start_time": "2023-07-13T17:25:22.617Z"
   },
   {
    "duration": 30,
    "start_time": "2023-07-13T17:25:22.643Z"
   },
   {
    "duration": 8,
    "start_time": "2023-07-13T17:25:22.676Z"
   },
   {
    "duration": 60,
    "start_time": "2023-07-13T17:25:22.686Z"
   },
   {
    "duration": 61,
    "start_time": "2023-07-13T17:25:22.748Z"
   },
   {
    "duration": 63,
    "start_time": "2023-07-13T17:25:22.811Z"
   },
   {
    "duration": 19,
    "start_time": "2023-07-13T17:25:22.877Z"
   },
   {
    "duration": 30,
    "start_time": "2023-07-13T17:25:22.897Z"
   },
   {
    "duration": 459,
    "start_time": "2023-07-13T17:25:22.929Z"
   },
   {
    "duration": 492,
    "start_time": "2023-07-13T17:25:23.390Z"
   },
   {
    "duration": 343,
    "start_time": "2023-07-13T17:25:23.884Z"
   },
   {
    "duration": 29486,
    "start_time": "2023-07-13T17:25:24.229Z"
   },
   {
    "duration": 329,
    "start_time": "2023-07-13T17:25:53.718Z"
   },
   {
    "duration": 630,
    "start_time": "2023-07-13T17:25:54.050Z"
   },
   {
    "duration": 17,
    "start_time": "2023-07-13T17:25:54.683Z"
   },
   {
    "duration": 365,
    "start_time": "2023-07-13T17:25:54.702Z"
   },
   {
    "duration": 13,
    "start_time": "2023-07-13T17:25:55.069Z"
   },
   {
    "duration": 248,
    "start_time": "2023-07-13T17:25:55.083Z"
   },
   {
    "duration": 12,
    "start_time": "2023-07-13T17:25:55.333Z"
   },
   {
    "duration": 264,
    "start_time": "2023-07-13T17:25:55.347Z"
   },
   {
    "duration": 11,
    "start_time": "2023-07-13T17:25:55.613Z"
   },
   {
    "duration": 299,
    "start_time": "2023-07-13T17:25:55.626Z"
   },
   {
    "duration": 14,
    "start_time": "2023-07-13T17:25:55.927Z"
   },
   {
    "duration": 332,
    "start_time": "2023-07-13T17:25:55.943Z"
   },
   {
    "duration": 16,
    "start_time": "2023-07-13T17:25:56.277Z"
   },
   {
    "duration": 276,
    "start_time": "2023-07-13T17:25:56.296Z"
   },
   {
    "duration": 1964,
    "start_time": "2023-07-13T17:25:56.573Z"
   },
   {
    "duration": 11,
    "start_time": "2023-07-13T17:25:58.539Z"
   },
   {
    "duration": 21,
    "start_time": "2023-07-13T17:25:58.566Z"
   },
   {
    "duration": 12,
    "start_time": "2023-07-13T17:25:58.589Z"
   },
   {
    "duration": 123,
    "start_time": "2023-07-13T17:47:23.050Z"
   },
   {
    "duration": 10,
    "start_time": "2023-07-13T17:47:39.607Z"
   },
   {
    "duration": 11,
    "start_time": "2023-07-13T17:47:52.106Z"
   },
   {
    "duration": 11,
    "start_time": "2023-07-13T17:48:41.421Z"
   },
   {
    "duration": 663,
    "start_time": "2023-07-13T17:54:13.592Z"
   },
   {
    "duration": 616,
    "start_time": "2023-07-13T17:56:09.890Z"
   },
   {
    "duration": 706,
    "start_time": "2023-07-13T17:56:23.845Z"
   },
   {
    "duration": 804,
    "start_time": "2023-07-13T17:57:07.630Z"
   },
   {
    "duration": 759,
    "start_time": "2023-07-13T17:57:17.033Z"
   },
   {
    "duration": 699,
    "start_time": "2023-07-13T17:58:04.825Z"
   },
   {
    "duration": 907,
    "start_time": "2023-07-13T17:58:22.310Z"
   },
   {
    "duration": 2068,
    "start_time": "2023-07-13T17:59:37.401Z"
   },
   {
    "duration": 2011,
    "start_time": "2023-07-13T17:59:49.260Z"
   },
   {
    "duration": 812,
    "start_time": "2023-07-13T18:00:05.776Z"
   },
   {
    "duration": 680,
    "start_time": "2023-07-13T18:00:43.606Z"
   },
   {
    "duration": 581,
    "start_time": "2023-07-13T18:00:52.924Z"
   },
   {
    "duration": 502,
    "start_time": "2023-07-13T18:01:03.917Z"
   },
   {
    "duration": 410,
    "start_time": "2023-07-13T18:01:28.703Z"
   },
   {
    "duration": 1845,
    "start_time": "2023-07-13T18:01:48.043Z"
   },
   {
    "duration": 1222,
    "start_time": "2023-07-13T18:23:01.818Z"
   },
   {
    "duration": 29,
    "start_time": "2023-07-13T18:23:31.237Z"
   },
   {
    "duration": 70,
    "start_time": "2023-07-13T18:26:14.756Z"
   },
   {
    "duration": 9,
    "start_time": "2023-07-13T18:26:39.947Z"
   },
   {
    "duration": 8,
    "start_time": "2023-07-13T18:27:50.812Z"
   },
   {
    "duration": 8,
    "start_time": "2023-07-13T18:28:06.896Z"
   },
   {
    "duration": 10,
    "start_time": "2023-07-13T18:28:38.201Z"
   },
   {
    "duration": 62,
    "start_time": "2023-07-13T18:30:59.800Z"
   },
   {
    "duration": 16,
    "start_time": "2023-07-13T18:32:29.836Z"
   },
   {
    "duration": 9,
    "start_time": "2023-07-13T18:33:10.814Z"
   },
   {
    "duration": 15,
    "start_time": "2023-07-13T18:33:23.012Z"
   },
   {
    "duration": 13,
    "start_time": "2023-07-13T18:34:20.778Z"
   },
   {
    "duration": 11,
    "start_time": "2023-07-13T18:36:49.606Z"
   },
   {
    "duration": 16,
    "start_time": "2023-07-13T18:38:01.083Z"
   },
   {
    "duration": 14,
    "start_time": "2023-07-13T18:38:12.535Z"
   },
   {
    "duration": 13,
    "start_time": "2023-07-13T18:39:23.028Z"
   },
   {
    "duration": 14,
    "start_time": "2023-07-13T18:39:50.326Z"
   },
   {
    "duration": 14,
    "start_time": "2023-07-13T18:41:03.533Z"
   },
   {
    "duration": 14,
    "start_time": "2023-07-13T18:41:17.832Z"
   },
   {
    "duration": 16,
    "start_time": "2023-07-13T18:46:19.892Z"
   },
   {
    "duration": 14,
    "start_time": "2023-07-13T18:46:46.881Z"
   },
   {
    "duration": 12,
    "start_time": "2023-07-13T18:46:57.150Z"
   },
   {
    "duration": 13,
    "start_time": "2023-07-13T18:47:32.031Z"
   },
   {
    "duration": 13,
    "start_time": "2023-07-13T18:47:41.016Z"
   },
   {
    "duration": 13,
    "start_time": "2023-07-13T18:47:48.545Z"
   },
   {
    "duration": 5014,
    "start_time": "2023-07-13T20:00:04.510Z"
   },
   {
    "duration": 89,
    "start_time": "2023-07-13T20:00:09.527Z"
   },
   {
    "duration": 13,
    "start_time": "2023-07-13T20:00:09.618Z"
   },
   {
    "duration": 5,
    "start_time": "2023-07-13T20:00:09.633Z"
   },
   {
    "duration": 15,
    "start_time": "2023-07-13T20:00:09.639Z"
   },
   {
    "duration": 31,
    "start_time": "2023-07-13T20:00:09.656Z"
   },
   {
    "duration": 8,
    "start_time": "2023-07-13T20:00:09.688Z"
   },
   {
    "duration": 49,
    "start_time": "2023-07-13T20:00:09.698Z"
   },
   {
    "duration": 99,
    "start_time": "2023-07-13T20:00:09.749Z"
   },
   {
    "duration": 12,
    "start_time": "2023-07-13T20:00:09.855Z"
   },
   {
    "duration": 114,
    "start_time": "2023-07-13T20:00:09.869Z"
   },
   {
    "duration": 9,
    "start_time": "2023-07-13T20:00:09.985Z"
   },
   {
    "duration": 5,
    "start_time": "2023-07-13T20:00:09.996Z"
   },
   {
    "duration": 17,
    "start_time": "2023-07-13T20:00:10.002Z"
   },
   {
    "duration": 36,
    "start_time": "2023-07-13T20:00:10.020Z"
   },
   {
    "duration": 8,
    "start_time": "2023-07-13T20:00:10.058Z"
   },
   {
    "duration": 54,
    "start_time": "2023-07-13T20:00:10.068Z"
   },
   {
    "duration": 74,
    "start_time": "2023-07-13T20:00:10.124Z"
   },
   {
    "duration": 57,
    "start_time": "2023-07-13T20:00:10.200Z"
   },
   {
    "duration": 17,
    "start_time": "2023-07-13T20:00:10.259Z"
   },
   {
    "duration": 15,
    "start_time": "2023-07-13T20:00:10.278Z"
   },
   {
    "duration": 396,
    "start_time": "2023-07-13T20:00:10.295Z"
   },
   {
    "duration": 464,
    "start_time": "2023-07-13T20:00:10.693Z"
   },
   {
    "duration": 247,
    "start_time": "2023-07-13T20:00:11.159Z"
   },
   {
    "duration": 26118,
    "start_time": "2023-07-13T20:00:11.408Z"
   },
   {
    "duration": 294,
    "start_time": "2023-07-13T20:00:37.529Z"
   },
   {
    "duration": 558,
    "start_time": "2023-07-13T20:00:37.825Z"
   },
   {
    "duration": 14,
    "start_time": "2023-07-13T20:00:38.387Z"
   },
   {
    "duration": 341,
    "start_time": "2023-07-13T20:00:38.403Z"
   },
   {
    "duration": 14,
    "start_time": "2023-07-13T20:00:38.754Z"
   },
   {
    "duration": 227,
    "start_time": "2023-07-13T20:00:38.770Z"
   },
   {
    "duration": 11,
    "start_time": "2023-07-13T20:00:38.999Z"
   },
   {
    "duration": 279,
    "start_time": "2023-07-13T20:00:39.012Z"
   },
   {
    "duration": 12,
    "start_time": "2023-07-13T20:00:39.293Z"
   },
   {
    "duration": 268,
    "start_time": "2023-07-13T20:00:39.307Z"
   },
   {
    "duration": 13,
    "start_time": "2023-07-13T20:00:39.577Z"
   },
   {
    "duration": 320,
    "start_time": "2023-07-13T20:00:39.592Z"
   },
   {
    "duration": 14,
    "start_time": "2023-07-13T20:00:39.915Z"
   },
   {
    "duration": 289,
    "start_time": "2023-07-13T20:00:39.930Z"
   },
   {
    "duration": 1722,
    "start_time": "2023-07-13T20:00:40.221Z"
   },
   {
    "duration": 673,
    "start_time": "2023-07-13T20:00:41.945Z"
   },
   {
    "duration": 9,
    "start_time": "2023-07-13T20:00:42.620Z"
   },
   {
    "duration": 35,
    "start_time": "2023-07-13T20:00:42.631Z"
   },
   {
    "duration": 8,
    "start_time": "2023-07-13T20:00:42.668Z"
   },
   {
    "duration": 21,
    "start_time": "2023-07-13T20:00:42.677Z"
   },
   {
    "duration": 12,
    "start_time": "2023-07-13T20:00:42.700Z"
   },
   {
    "duration": 19,
    "start_time": "2023-07-13T20:00:42.714Z"
   },
   {
    "duration": 26,
    "start_time": "2023-07-13T20:00:42.735Z"
   },
   {
    "duration": 10,
    "start_time": "2023-07-13T20:00:42.763Z"
   },
   {
    "duration": 1787,
    "start_time": "2023-07-13T20:01:09.802Z"
   },
   {
    "duration": 21,
    "start_time": "2023-07-13T20:05:00.653Z"
   },
   {
    "duration": 18,
    "start_time": "2023-07-13T20:05:38.681Z"
   },
   {
    "duration": 26,
    "start_time": "2023-07-13T20:06:16.406Z"
   },
   {
    "duration": 19,
    "start_time": "2023-07-13T20:06:18.102Z"
   },
   {
    "duration": 15,
    "start_time": "2023-07-13T20:06:24.021Z"
   },
   {
    "duration": 22,
    "start_time": "2023-07-13T20:06:35.849Z"
   },
   {
    "duration": 21,
    "start_time": "2023-07-13T20:07:29.035Z"
   },
   {
    "duration": 13,
    "start_time": "2023-07-13T20:08:16.820Z"
   },
   {
    "duration": 13,
    "start_time": "2023-07-13T20:08:39.977Z"
   },
   {
    "duration": 14,
    "start_time": "2023-07-13T20:08:50.897Z"
   },
   {
    "duration": 14,
    "start_time": "2023-07-13T20:08:57.725Z"
   },
   {
    "duration": 16,
    "start_time": "2023-07-13T20:09:08.567Z"
   },
   {
    "duration": 14,
    "start_time": "2023-07-13T20:09:50.505Z"
   },
   {
    "duration": 17,
    "start_time": "2023-07-13T20:10:00.263Z"
   },
   {
    "duration": 14,
    "start_time": "2023-07-13T20:10:08.577Z"
   },
   {
    "duration": 15,
    "start_time": "2023-07-13T20:11:04.832Z"
   },
   {
    "duration": 14,
    "start_time": "2023-07-13T20:11:16.883Z"
   },
   {
    "duration": 13,
    "start_time": "2023-07-13T20:11:24.978Z"
   },
   {
    "duration": 15,
    "start_time": "2023-07-13T20:12:35.279Z"
   },
   {
    "duration": 15,
    "start_time": "2023-07-13T20:13:14.380Z"
   },
   {
    "duration": 11,
    "start_time": "2023-07-13T20:13:30.302Z"
   },
   {
    "duration": 20,
    "start_time": "2023-07-13T20:13:44.846Z"
   },
   {
    "duration": 14,
    "start_time": "2023-07-13T20:16:09.782Z"
   },
   {
    "duration": 14,
    "start_time": "2023-07-13T20:16:22.103Z"
   },
   {
    "duration": 21,
    "start_time": "2023-07-13T20:16:30.448Z"
   },
   {
    "duration": 15,
    "start_time": "2023-07-13T20:16:41.380Z"
   },
   {
    "duration": 14,
    "start_time": "2023-07-13T20:16:49.632Z"
   },
   {
    "duration": 26,
    "start_time": "2023-07-13T20:17:03.153Z"
   },
   {
    "duration": 14,
    "start_time": "2023-07-13T20:17:10.503Z"
   },
   {
    "duration": 16,
    "start_time": "2023-07-13T20:17:17.676Z"
   },
   {
    "duration": 13,
    "start_time": "2023-07-13T20:17:25.220Z"
   },
   {
    "duration": 12,
    "start_time": "2023-07-13T20:17:29.383Z"
   },
   {
    "duration": 19,
    "start_time": "2023-07-13T20:18:27.046Z"
   },
   {
    "duration": 13,
    "start_time": "2023-07-13T20:18:49.798Z"
   },
   {
    "duration": 14,
    "start_time": "2023-07-13T20:20:02.191Z"
   },
   {
    "duration": 150,
    "start_time": "2023-07-13T20:20:27.750Z"
   },
   {
    "duration": 26,
    "start_time": "2023-07-13T20:20:45.054Z"
   },
   {
    "duration": 18,
    "start_time": "2023-07-13T20:21:52.434Z"
   },
   {
    "duration": 14,
    "start_time": "2023-07-13T20:21:58.082Z"
   },
   {
    "duration": 39,
    "start_time": "2023-07-13T20:26:03.340Z"
   },
   {
    "duration": 18,
    "start_time": "2023-07-13T20:26:11.963Z"
   },
   {
    "duration": 14,
    "start_time": "2023-07-13T20:26:55.395Z"
   },
   {
    "duration": 15,
    "start_time": "2023-07-13T20:27:37.909Z"
   },
   {
    "duration": 33,
    "start_time": "2023-07-13T20:30:43.573Z"
   },
   {
    "duration": 15,
    "start_time": "2023-07-13T20:30:59.770Z"
   },
   {
    "duration": 14,
    "start_time": "2023-07-13T20:34:36.285Z"
   },
   {
    "duration": 13,
    "start_time": "2023-07-13T20:34:43.220Z"
   },
   {
    "duration": 14,
    "start_time": "2023-07-13T20:34:51.178Z"
   },
   {
    "duration": 14,
    "start_time": "2023-07-13T20:34:59.603Z"
   },
   {
    "duration": 21,
    "start_time": "2023-07-13T20:36:15.260Z"
   },
   {
    "duration": 16,
    "start_time": "2023-07-13T20:37:20.930Z"
   },
   {
    "duration": 14,
    "start_time": "2023-07-13T20:37:29.789Z"
   },
   {
    "duration": 15,
    "start_time": "2023-07-13T20:38:51.106Z"
   },
   {
    "duration": 25,
    "start_time": "2023-07-13T20:39:23.816Z"
   },
   {
    "duration": 17,
    "start_time": "2023-07-13T20:39:52.932Z"
   },
   {
    "duration": 16,
    "start_time": "2023-07-13T20:41:58.569Z"
   },
   {
    "duration": 16,
    "start_time": "2023-07-13T20:42:05.595Z"
   },
   {
    "duration": 16,
    "start_time": "2023-07-13T20:42:11.418Z"
   },
   {
    "duration": 16,
    "start_time": "2023-07-13T20:42:50.690Z"
   },
   {
    "duration": 16,
    "start_time": "2023-07-13T20:43:06.316Z"
   },
   {
    "duration": 17,
    "start_time": "2023-07-13T20:43:19.292Z"
   },
   {
    "duration": 25,
    "start_time": "2023-07-13T20:43:35.849Z"
   },
   {
    "duration": 15,
    "start_time": "2023-07-13T20:43:53.300Z"
   },
   {
    "duration": 14,
    "start_time": "2023-07-13T20:46:07.932Z"
   },
   {
    "duration": 16,
    "start_time": "2023-07-13T20:46:16.483Z"
   },
   {
    "duration": 16,
    "start_time": "2023-07-13T20:47:09.498Z"
   },
   {
    "duration": 15,
    "start_time": "2023-07-13T20:47:24.069Z"
   },
   {
    "duration": 16,
    "start_time": "2023-07-13T20:47:49.909Z"
   },
   {
    "duration": 15,
    "start_time": "2023-07-13T20:47:51.591Z"
   },
   {
    "duration": 16,
    "start_time": "2023-07-13T20:52:58.697Z"
   },
   {
    "duration": 16,
    "start_time": "2023-07-13T20:53:41.870Z"
   },
   {
    "duration": 16,
    "start_time": "2023-07-13T20:55:27.175Z"
   },
   {
    "duration": 16,
    "start_time": "2023-07-13T20:58:02.907Z"
   },
   {
    "duration": 20,
    "start_time": "2023-07-13T21:00:10.670Z"
   },
   {
    "duration": 22,
    "start_time": "2023-07-13T21:01:03.146Z"
   },
   {
    "duration": 23,
    "start_time": "2023-07-13T21:03:09.584Z"
   },
   {
    "duration": 26,
    "start_time": "2023-07-13T21:03:33.452Z"
   },
   {
    "duration": 16,
    "start_time": "2023-07-13T21:04:23.906Z"
   },
   {
    "duration": 19,
    "start_time": "2023-07-13T21:11:37.291Z"
   },
   {
    "duration": 4693,
    "start_time": "2023-07-14T10:40:37.902Z"
   },
   {
    "duration": 97,
    "start_time": "2023-07-14T10:40:42.597Z"
   },
   {
    "duration": 13,
    "start_time": "2023-07-14T10:40:42.695Z"
   },
   {
    "duration": 11,
    "start_time": "2023-07-14T10:40:42.710Z"
   },
   {
    "duration": 12,
    "start_time": "2023-07-14T10:40:42.723Z"
   },
   {
    "duration": 26,
    "start_time": "2023-07-14T10:40:42.737Z"
   },
   {
    "duration": 8,
    "start_time": "2023-07-14T10:40:42.765Z"
   },
   {
    "duration": 22,
    "start_time": "2023-07-14T10:40:42.775Z"
   },
   {
    "duration": 118,
    "start_time": "2023-07-14T10:40:42.799Z"
   },
   {
    "duration": 11,
    "start_time": "2023-07-14T10:40:42.920Z"
   },
   {
    "duration": 111,
    "start_time": "2023-07-14T10:40:42.933Z"
   },
   {
    "duration": 16,
    "start_time": "2023-07-14T10:40:43.046Z"
   },
   {
    "duration": 8,
    "start_time": "2023-07-14T10:40:43.064Z"
   },
   {
    "duration": 25,
    "start_time": "2023-07-14T10:40:43.073Z"
   },
   {
    "duration": 9,
    "start_time": "2023-07-14T10:40:43.099Z"
   },
   {
    "duration": 7,
    "start_time": "2023-07-14T10:40:43.110Z"
   },
   {
    "duration": 79,
    "start_time": "2023-07-14T10:40:43.118Z"
   },
   {
    "duration": 60,
    "start_time": "2023-07-14T10:40:43.199Z"
   },
   {
    "duration": 61,
    "start_time": "2023-07-14T10:40:43.265Z"
   },
   {
    "duration": 35,
    "start_time": "2023-07-14T10:40:43.328Z"
   },
   {
    "duration": 22,
    "start_time": "2023-07-14T10:40:43.366Z"
   },
   {
    "duration": 402,
    "start_time": "2023-07-14T10:40:43.390Z"
   },
   {
    "duration": 454,
    "start_time": "2023-07-14T10:40:43.793Z"
   },
   {
    "duration": 26654,
    "start_time": "2023-07-14T10:40:44.249Z"
   },
   {
    "duration": 587,
    "start_time": "2023-07-14T10:41:10.905Z"
   },
   {
    "duration": 12,
    "start_time": "2023-07-14T10:41:11.494Z"
   },
   {
    "duration": 325,
    "start_time": "2023-07-14T10:41:11.508Z"
   },
   {
    "duration": 27,
    "start_time": "2023-07-14T10:41:11.838Z"
   },
   {
    "duration": 231,
    "start_time": "2023-07-14T10:41:11.867Z"
   },
   {
    "duration": 13,
    "start_time": "2023-07-14T10:41:12.100Z"
   },
   {
    "duration": 278,
    "start_time": "2023-07-14T10:41:12.114Z"
   },
   {
    "duration": 12,
    "start_time": "2023-07-14T10:41:12.394Z"
   },
   {
    "duration": 198,
    "start_time": "2023-07-14T10:41:12.408Z"
   },
   {
    "duration": 12,
    "start_time": "2023-07-14T10:41:12.608Z"
   },
   {
    "duration": 298,
    "start_time": "2023-07-14T10:41:12.621Z"
   },
   {
    "duration": 12,
    "start_time": "2023-07-14T10:41:12.921Z"
   },
   {
    "duration": 269,
    "start_time": "2023-07-14T10:41:12.935Z"
   },
   {
    "duration": 1611,
    "start_time": "2023-07-14T10:41:13.206Z"
   },
   {
    "duration": 676,
    "start_time": "2023-07-14T10:41:14.819Z"
   },
   {
    "duration": 7,
    "start_time": "2023-07-14T10:41:15.497Z"
   },
   {
    "duration": 27,
    "start_time": "2023-07-14T10:41:15.506Z"
   },
   {
    "duration": 12,
    "start_time": "2023-07-14T10:41:15.535Z"
   },
   {
    "duration": 17,
    "start_time": "2023-07-14T10:41:15.556Z"
   },
   {
    "duration": 16,
    "start_time": "2023-07-14T10:41:15.576Z"
   },
   {
    "duration": 15,
    "start_time": "2023-07-14T10:41:15.593Z"
   },
   {
    "duration": 13,
    "start_time": "2023-07-14T10:41:15.609Z"
   },
   {
    "duration": 69,
    "start_time": "2023-07-14T10:43:41.384Z"
   },
   {
    "duration": 1730,
    "start_time": "2023-07-14T10:43:57.990Z"
   },
   {
    "duration": 2018,
    "start_time": "2023-07-14T10:44:14.026Z"
   },
   {
    "duration": 1689,
    "start_time": "2023-07-14T10:44:24.945Z"
   },
   {
    "duration": 630,
    "start_time": "2023-07-14T10:44:26.636Z"
   },
   {
    "duration": 1721,
    "start_time": "2023-07-14T10:44:45.776Z"
   },
   {
    "duration": 410,
    "start_time": "2023-07-14T10:45:10.341Z"
   },
   {
    "duration": 16,
    "start_time": "2023-07-14T10:47:24.926Z"
   },
   {
    "duration": 15,
    "start_time": "2023-07-14T10:48:06.194Z"
   },
   {
    "duration": 16,
    "start_time": "2023-07-14T10:48:21.316Z"
   },
   {
    "duration": 22,
    "start_time": "2023-07-14T10:53:41.412Z"
   },
   {
    "duration": 22,
    "start_time": "2023-07-14T10:53:55.318Z"
   },
   {
    "duration": 15,
    "start_time": "2023-07-14T10:54:02.669Z"
   },
   {
    "duration": 97,
    "start_time": "2023-07-14T11:18:43.633Z"
   },
   {
    "duration": 15,
    "start_time": "2023-07-14T11:18:51.182Z"
   },
   {
    "duration": 16,
    "start_time": "2023-07-14T11:19:51.115Z"
   },
   {
    "duration": 21,
    "start_time": "2023-07-14T11:20:11.167Z"
   },
   {
    "duration": 2294,
    "start_time": "2023-07-14T11:36:18.245Z"
   },
   {
    "duration": 3410,
    "start_time": "2023-07-14T11:36:38.227Z"
   },
   {
    "duration": 81,
    "start_time": "2023-07-14T11:36:41.639Z"
   },
   {
    "duration": 12,
    "start_time": "2023-07-14T11:36:41.721Z"
   },
   {
    "duration": 3,
    "start_time": "2023-07-14T11:36:41.735Z"
   },
   {
    "duration": 8,
    "start_time": "2023-07-14T11:36:41.740Z"
   },
   {
    "duration": 31,
    "start_time": "2023-07-14T11:36:41.750Z"
   },
   {
    "duration": 7,
    "start_time": "2023-07-14T11:36:41.783Z"
   },
   {
    "duration": 18,
    "start_time": "2023-07-14T11:36:41.792Z"
   },
   {
    "duration": 126,
    "start_time": "2023-07-14T11:36:41.812Z"
   },
   {
    "duration": 21,
    "start_time": "2023-07-14T11:36:41.940Z"
   },
   {
    "duration": 119,
    "start_time": "2023-07-14T11:36:41.963Z"
   },
   {
    "duration": 10,
    "start_time": "2023-07-14T11:36:42.084Z"
   },
   {
    "duration": 39,
    "start_time": "2023-07-14T11:36:42.096Z"
   },
   {
    "duration": 173,
    "start_time": "2023-07-14T11:36:42.139Z"
   },
   {
    "duration": 10,
    "start_time": "2023-07-14T11:36:42.314Z"
   },
   {
    "duration": 82,
    "start_time": "2023-07-14T11:36:42.325Z"
   },
   {
    "duration": 94,
    "start_time": "2023-07-14T11:36:42.409Z"
   },
   {
    "duration": 53,
    "start_time": "2023-07-14T11:36:42.505Z"
   },
   {
    "duration": 55,
    "start_time": "2023-07-14T11:36:42.561Z"
   },
   {
    "duration": 16,
    "start_time": "2023-07-14T11:36:42.617Z"
   },
   {
    "duration": 39,
    "start_time": "2023-07-14T11:36:42.635Z"
   },
   {
    "duration": 384,
    "start_time": "2023-07-14T11:36:42.677Z"
   },
   {
    "duration": 437,
    "start_time": "2023-07-14T11:36:43.064Z"
   },
   {
    "duration": 26730,
    "start_time": "2023-07-14T11:36:43.503Z"
   },
   {
    "duration": 515,
    "start_time": "2023-07-14T11:37:10.235Z"
   },
   {
    "duration": 23,
    "start_time": "2023-07-14T11:37:10.757Z"
   },
   {
    "duration": 282,
    "start_time": "2023-07-14T11:37:10.783Z"
   },
   {
    "duration": 18,
    "start_time": "2023-07-14T11:37:11.068Z"
   },
   {
    "duration": 212,
    "start_time": "2023-07-14T11:37:11.088Z"
   },
   {
    "duration": 12,
    "start_time": "2023-07-14T11:37:11.302Z"
   },
   {
    "duration": 300,
    "start_time": "2023-07-14T11:37:11.315Z"
   },
   {
    "duration": 12,
    "start_time": "2023-07-14T11:37:11.617Z"
   },
   {
    "duration": 284,
    "start_time": "2023-07-14T11:37:11.630Z"
   },
   {
    "duration": 15,
    "start_time": "2023-07-14T11:37:11.916Z"
   },
   {
    "duration": 323,
    "start_time": "2023-07-14T11:37:11.933Z"
   },
   {
    "duration": 23,
    "start_time": "2023-07-14T11:37:12.259Z"
   },
   {
    "duration": 259,
    "start_time": "2023-07-14T11:37:12.285Z"
   },
   {
    "duration": 1751,
    "start_time": "2023-07-14T11:37:12.546Z"
   },
   {
    "duration": 430,
    "start_time": "2023-07-14T11:37:14.299Z"
   },
   {
    "duration": 9,
    "start_time": "2023-07-14T11:37:14.730Z"
   },
   {
    "duration": 26,
    "start_time": "2023-07-14T11:37:14.756Z"
   },
   {
    "duration": 8,
    "start_time": "2023-07-14T11:37:14.784Z"
   },
   {
    "duration": 17,
    "start_time": "2023-07-14T11:37:14.793Z"
   },
   {
    "duration": 16,
    "start_time": "2023-07-14T11:37:14.811Z"
   },
   {
    "duration": 44,
    "start_time": "2023-07-14T11:37:14.829Z"
   },
   {
    "duration": 16,
    "start_time": "2023-07-14T11:37:14.876Z"
   },
   {
    "duration": 369,
    "start_time": "2023-07-14T11:38:23.407Z"
   },
   {
    "duration": 352,
    "start_time": "2023-07-14T11:38:30.866Z"
   },
   {
    "duration": 353,
    "start_time": "2023-07-14T11:38:40.199Z"
   },
   {
    "duration": 343,
    "start_time": "2023-07-14T11:39:03.380Z"
   },
   {
    "duration": 1999,
    "start_time": "2023-07-14T11:39:49.945Z"
   },
   {
    "duration": 3866,
    "start_time": "2023-07-15T09:52:36.524Z"
   },
   {
    "duration": 182,
    "start_time": "2023-07-15T09:52:40.392Z"
   },
   {
    "duration": 0,
    "start_time": "2023-07-15T09:52:40.576Z"
   },
   {
    "duration": 0,
    "start_time": "2023-07-15T09:52:40.578Z"
   },
   {
    "duration": 0,
    "start_time": "2023-07-15T09:52:40.581Z"
   },
   {
    "duration": 0,
    "start_time": "2023-07-15T09:52:40.582Z"
   },
   {
    "duration": 0,
    "start_time": "2023-07-15T09:52:40.583Z"
   },
   {
    "duration": 0,
    "start_time": "2023-07-15T09:52:40.584Z"
   },
   {
    "duration": 0,
    "start_time": "2023-07-15T09:52:40.585Z"
   },
   {
    "duration": 0,
    "start_time": "2023-07-15T09:52:40.586Z"
   },
   {
    "duration": 0,
    "start_time": "2023-07-15T09:52:40.590Z"
   },
   {
    "duration": 0,
    "start_time": "2023-07-15T09:52:40.592Z"
   },
   {
    "duration": 0,
    "start_time": "2023-07-15T09:52:40.592Z"
   },
   {
    "duration": 0,
    "start_time": "2023-07-15T09:52:40.594Z"
   },
   {
    "duration": 0,
    "start_time": "2023-07-15T09:52:40.595Z"
   },
   {
    "duration": 0,
    "start_time": "2023-07-15T09:52:40.596Z"
   },
   {
    "duration": 0,
    "start_time": "2023-07-15T09:52:40.597Z"
   },
   {
    "duration": 2289,
    "start_time": "2023-07-15T09:52:48.176Z"
   },
   {
    "duration": 76,
    "start_time": "2023-07-15T09:52:50.468Z"
   },
   {
    "duration": 0,
    "start_time": "2023-07-15T09:52:50.546Z"
   },
   {
    "duration": 0,
    "start_time": "2023-07-15T09:52:50.548Z"
   },
   {
    "duration": 0,
    "start_time": "2023-07-15T09:52:50.549Z"
   },
   {
    "duration": 0,
    "start_time": "2023-07-15T09:52:50.550Z"
   },
   {
    "duration": 0,
    "start_time": "2023-07-15T09:52:50.551Z"
   },
   {
    "duration": 0,
    "start_time": "2023-07-15T09:52:50.553Z"
   },
   {
    "duration": 0,
    "start_time": "2023-07-15T09:52:50.554Z"
   },
   {
    "duration": 0,
    "start_time": "2023-07-15T09:52:50.555Z"
   },
   {
    "duration": 0,
    "start_time": "2023-07-15T09:52:50.557Z"
   },
   {
    "duration": 0,
    "start_time": "2023-07-15T09:52:50.558Z"
   },
   {
    "duration": 0,
    "start_time": "2023-07-15T09:52:50.559Z"
   },
   {
    "duration": 0,
    "start_time": "2023-07-15T09:52:50.561Z"
   },
   {
    "duration": 0,
    "start_time": "2023-07-15T09:52:50.562Z"
   },
   {
    "duration": 0,
    "start_time": "2023-07-15T09:52:50.563Z"
   },
   {
    "duration": 0,
    "start_time": "2023-07-15T09:52:50.564Z"
   },
   {
    "duration": 172,
    "start_time": "2023-07-15T09:54:54.281Z"
   },
   {
    "duration": 2446,
    "start_time": "2023-07-15T09:55:26.254Z"
   },
   {
    "duration": 2,
    "start_time": "2023-07-15T09:55:28.702Z"
   },
   {
    "duration": 74,
    "start_time": "2023-07-15T09:55:28.706Z"
   },
   {
    "duration": 12,
    "start_time": "2023-07-15T09:55:28.782Z"
   },
   {
    "duration": 3,
    "start_time": "2023-07-15T09:55:28.796Z"
   },
   {
    "duration": 10,
    "start_time": "2023-07-15T09:55:28.800Z"
   },
   {
    "duration": 42,
    "start_time": "2023-07-15T09:55:28.811Z"
   },
   {
    "duration": 10,
    "start_time": "2023-07-15T09:55:28.854Z"
   },
   {
    "duration": 23,
    "start_time": "2023-07-15T09:55:28.866Z"
   },
   {
    "duration": 102,
    "start_time": "2023-07-15T09:55:28.891Z"
   },
   {
    "duration": 10,
    "start_time": "2023-07-15T09:55:28.995Z"
   },
   {
    "duration": 101,
    "start_time": "2023-07-15T09:55:29.006Z"
   },
   {
    "duration": 9,
    "start_time": "2023-07-15T09:55:29.109Z"
   },
   {
    "duration": 59,
    "start_time": "2023-07-15T09:55:29.121Z"
   },
   {
    "duration": 16,
    "start_time": "2023-07-15T09:55:29.182Z"
   },
   {
    "duration": 9,
    "start_time": "2023-07-15T09:55:29.200Z"
   },
   {
    "duration": 7,
    "start_time": "2023-07-15T09:55:29.210Z"
   },
   {
    "duration": 5,
    "start_time": "2023-07-15T09:55:29.218Z"
   },
   {
    "duration": 79,
    "start_time": "2023-07-15T09:55:29.225Z"
   },
   {
    "duration": 387,
    "start_time": "2023-07-15T10:15:31.179Z"
   },
   {
    "duration": 3319,
    "start_time": "2023-07-15T10:25:13.579Z"
   },
   {
    "duration": 2,
    "start_time": "2023-07-15T10:25:16.900Z"
   },
   {
    "duration": 53,
    "start_time": "2023-07-15T10:25:16.904Z"
   },
   {
    "duration": 11,
    "start_time": "2023-07-15T10:25:16.959Z"
   },
   {
    "duration": 5,
    "start_time": "2023-07-15T10:25:16.972Z"
   },
   {
    "duration": 21,
    "start_time": "2023-07-15T10:25:16.978Z"
   },
   {
    "duration": 46,
    "start_time": "2023-07-15T10:25:17.001Z"
   },
   {
    "duration": 6,
    "start_time": "2023-07-15T10:25:17.049Z"
   },
   {
    "duration": 22,
    "start_time": "2023-07-15T10:25:17.057Z"
   },
   {
    "duration": 86,
    "start_time": "2023-07-15T10:25:17.081Z"
   },
   {
    "duration": 12,
    "start_time": "2023-07-15T10:25:17.168Z"
   },
   {
    "duration": 116,
    "start_time": "2023-07-15T10:25:17.182Z"
   },
   {
    "duration": 9,
    "start_time": "2023-07-15T10:25:17.300Z"
   },
   {
    "duration": 6,
    "start_time": "2023-07-15T10:25:17.311Z"
   },
   {
    "duration": 17,
    "start_time": "2023-07-15T10:25:17.334Z"
   },
   {
    "duration": 21,
    "start_time": "2023-07-15T10:25:17.352Z"
   },
   {
    "duration": 8,
    "start_time": "2023-07-15T10:25:17.374Z"
   },
   {
    "duration": 17,
    "start_time": "2023-07-15T10:25:17.384Z"
   },
   {
    "duration": 63,
    "start_time": "2023-07-15T10:25:17.402Z"
   },
   {
    "duration": 41,
    "start_time": "2023-07-15T10:25:17.467Z"
   },
   {
    "duration": 58,
    "start_time": "2023-07-15T10:25:17.510Z"
   },
   {
    "duration": 13,
    "start_time": "2023-07-15T10:25:17.570Z"
   },
   {
    "duration": 15,
    "start_time": "2023-07-15T10:25:17.585Z"
   },
   {
    "duration": 382,
    "start_time": "2023-07-15T10:25:17.602Z"
   },
   {
    "duration": 414,
    "start_time": "2023-07-15T10:25:17.986Z"
   },
   {
    "duration": 24268,
    "start_time": "2023-07-15T10:25:18.402Z"
   },
   {
    "duration": 619,
    "start_time": "2023-07-15T10:25:42.672Z"
   },
   {
    "duration": 12,
    "start_time": "2023-07-15T10:25:43.292Z"
   },
   {
    "duration": 288,
    "start_time": "2023-07-15T10:25:43.305Z"
   },
   {
    "duration": 10,
    "start_time": "2023-07-15T10:25:43.595Z"
   },
   {
    "duration": 255,
    "start_time": "2023-07-15T10:25:43.606Z"
   },
   {
    "duration": 11,
    "start_time": "2023-07-15T10:25:43.863Z"
   },
   {
    "duration": 198,
    "start_time": "2023-07-15T10:25:43.875Z"
   },
   {
    "duration": 13,
    "start_time": "2023-07-15T10:25:44.075Z"
   },
   {
    "duration": 273,
    "start_time": "2023-07-15T10:25:44.089Z"
   },
   {
    "duration": 12,
    "start_time": "2023-07-15T10:25:44.363Z"
   },
   {
    "duration": 349,
    "start_time": "2023-07-15T10:25:44.376Z"
   },
   {
    "duration": 20,
    "start_time": "2023-07-15T10:25:44.726Z"
   },
   {
    "duration": 260,
    "start_time": "2023-07-15T10:25:44.748Z"
   },
   {
    "duration": 1590,
    "start_time": "2023-07-15T10:25:45.010Z"
   },
   {
    "duration": 409,
    "start_time": "2023-07-15T10:25:46.603Z"
   },
   {
    "duration": 8,
    "start_time": "2023-07-15T10:25:47.014Z"
   },
   {
    "duration": 53,
    "start_time": "2023-07-15T10:25:47.023Z"
   },
   {
    "duration": 28,
    "start_time": "2023-07-15T10:25:47.077Z"
   },
   {
    "duration": 37,
    "start_time": "2023-07-15T10:25:47.107Z"
   },
   {
    "duration": 33,
    "start_time": "2023-07-15T10:25:47.147Z"
   },
   {
    "duration": 30,
    "start_time": "2023-07-15T10:25:47.182Z"
   },
   {
    "duration": 22,
    "start_time": "2023-07-15T10:25:47.213Z"
   },
   {
    "duration": 84,
    "start_time": "2023-07-15T10:25:47.236Z"
   },
   {
    "duration": 38,
    "start_time": "2023-07-15T10:25:49.048Z"
   },
   {
    "duration": 4421,
    "start_time": "2023-07-15T14:24:50.353Z"
   },
   {
    "duration": 84,
    "start_time": "2023-07-15T14:24:54.776Z"
   },
   {
    "duration": 12,
    "start_time": "2023-07-15T14:24:54.862Z"
   },
   {
    "duration": 5,
    "start_time": "2023-07-15T14:24:54.876Z"
   },
   {
    "duration": 39,
    "start_time": "2023-07-15T14:24:54.883Z"
   },
   {
    "duration": 26,
    "start_time": "2023-07-15T14:24:54.923Z"
   },
   {
    "duration": 6,
    "start_time": "2023-07-15T14:24:54.951Z"
   },
   {
    "duration": 25,
    "start_time": "2023-07-15T14:24:54.959Z"
   },
   {
    "duration": 111,
    "start_time": "2023-07-15T14:24:54.986Z"
   },
   {
    "duration": 11,
    "start_time": "2023-07-15T14:24:55.099Z"
   },
   {
    "duration": 111,
    "start_time": "2023-07-15T14:24:55.112Z"
   },
   {
    "duration": 14,
    "start_time": "2023-07-15T14:24:55.224Z"
   },
   {
    "duration": 5,
    "start_time": "2023-07-15T14:24:55.240Z"
   },
   {
    "duration": 31,
    "start_time": "2023-07-15T14:24:55.246Z"
   },
   {
    "duration": 9,
    "start_time": "2023-07-15T14:24:55.279Z"
   },
   {
    "duration": 7,
    "start_time": "2023-07-15T14:24:55.290Z"
   },
   {
    "duration": 22,
    "start_time": "2023-07-15T14:24:55.298Z"
   },
   {
    "duration": 73,
    "start_time": "2023-07-15T14:24:55.322Z"
   },
   {
    "duration": 45,
    "start_time": "2023-07-15T14:24:55.397Z"
   },
   {
    "duration": 47,
    "start_time": "2023-07-15T14:24:55.444Z"
   },
   {
    "duration": 61,
    "start_time": "2023-07-15T14:24:55.493Z"
   },
   {
    "duration": 49,
    "start_time": "2023-07-15T14:24:55.555Z"
   },
   {
    "duration": 387,
    "start_time": "2023-07-15T14:24:55.606Z"
   },
   {
    "duration": 397,
    "start_time": "2023-07-15T14:24:55.995Z"
   },
   {
    "duration": 22858,
    "start_time": "2023-07-15T14:24:56.394Z"
   },
   {
    "duration": 486,
    "start_time": "2023-07-15T14:25:19.254Z"
   },
   {
    "duration": 12,
    "start_time": "2023-07-15T14:25:19.742Z"
   },
   {
    "duration": 292,
    "start_time": "2023-07-15T14:25:19.757Z"
   },
   {
    "duration": 14,
    "start_time": "2023-07-15T14:25:20.050Z"
   },
   {
    "duration": 197,
    "start_time": "2023-07-15T14:25:20.066Z"
   },
   {
    "duration": 11,
    "start_time": "2023-07-15T14:25:20.264Z"
   },
   {
    "duration": 193,
    "start_time": "2023-07-15T14:25:20.276Z"
   },
   {
    "duration": 11,
    "start_time": "2023-07-15T14:25:20.470Z"
   },
   {
    "duration": 276,
    "start_time": "2023-07-15T14:25:20.482Z"
   },
   {
    "duration": 12,
    "start_time": "2023-07-15T14:25:20.760Z"
   },
   {
    "duration": 299,
    "start_time": "2023-07-15T14:25:20.774Z"
   },
   {
    "duration": 12,
    "start_time": "2023-07-15T14:25:21.076Z"
   },
   {
    "duration": 296,
    "start_time": "2023-07-15T14:25:21.090Z"
   },
   {
    "duration": 1504,
    "start_time": "2023-07-15T14:25:21.388Z"
   },
   {
    "duration": 379,
    "start_time": "2023-07-15T14:25:22.894Z"
   },
   {
    "duration": 7,
    "start_time": "2023-07-15T14:25:23.275Z"
   },
   {
    "duration": 23,
    "start_time": "2023-07-15T14:25:23.284Z"
   },
   {
    "duration": 9,
    "start_time": "2023-07-15T14:25:23.309Z"
   },
   {
    "duration": 26,
    "start_time": "2023-07-15T14:25:23.320Z"
   },
   {
    "duration": 16,
    "start_time": "2023-07-15T14:25:23.348Z"
   },
   {
    "duration": 21,
    "start_time": "2023-07-15T14:25:23.366Z"
   },
   {
    "duration": 13,
    "start_time": "2023-07-15T14:25:23.389Z"
   },
   {
    "duration": 88,
    "start_time": "2023-07-15T14:25:23.403Z"
   },
   {
    "duration": 2207,
    "start_time": "2023-07-15T14:30:35.947Z"
   },
   {
    "duration": 2066,
    "start_time": "2023-07-15T14:33:10.757Z"
   },
   {
    "duration": 3509,
    "start_time": "2023-07-15T14:33:32.106Z"
   },
   {
    "duration": 98,
    "start_time": "2023-07-15T14:33:35.617Z"
   },
   {
    "duration": 16,
    "start_time": "2023-07-15T14:33:35.717Z"
   },
   {
    "duration": 8,
    "start_time": "2023-07-15T14:33:35.735Z"
   },
   {
    "duration": 29,
    "start_time": "2023-07-15T14:33:35.745Z"
   },
   {
    "duration": 35,
    "start_time": "2023-07-15T14:33:35.776Z"
   },
   {
    "duration": 10,
    "start_time": "2023-07-15T14:33:35.813Z"
   },
   {
    "duration": 23,
    "start_time": "2023-07-15T14:33:35.824Z"
   },
   {
    "duration": 102,
    "start_time": "2023-07-15T14:33:35.849Z"
   },
   {
    "duration": 11,
    "start_time": "2023-07-15T14:33:35.953Z"
   },
   {
    "duration": 122,
    "start_time": "2023-07-15T14:33:35.966Z"
   },
   {
    "duration": 9,
    "start_time": "2023-07-15T14:33:36.090Z"
   },
   {
    "duration": 10,
    "start_time": "2023-07-15T14:33:36.101Z"
   },
   {
    "duration": 33,
    "start_time": "2023-07-15T14:33:36.113Z"
   },
   {
    "duration": 28,
    "start_time": "2023-07-15T14:33:36.148Z"
   },
   {
    "duration": 11,
    "start_time": "2023-07-15T14:33:36.178Z"
   },
   {
    "duration": 23,
    "start_time": "2023-07-15T14:33:36.191Z"
   },
   {
    "duration": 55,
    "start_time": "2023-07-15T14:33:36.215Z"
   },
   {
    "duration": 43,
    "start_time": "2023-07-15T14:33:36.271Z"
   },
   {
    "duration": 45,
    "start_time": "2023-07-15T14:33:36.331Z"
   },
   {
    "duration": 14,
    "start_time": "2023-07-15T14:33:36.378Z"
   },
   {
    "duration": 40,
    "start_time": "2023-07-15T14:33:36.394Z"
   },
   {
    "duration": 353,
    "start_time": "2023-07-15T14:33:36.436Z"
   },
   {
    "duration": 467,
    "start_time": "2023-07-15T14:33:36.790Z"
   },
   {
    "duration": 23781,
    "start_time": "2023-07-15T14:33:37.259Z"
   },
   {
    "duration": 558,
    "start_time": "2023-07-15T14:34:01.042Z"
   },
   {
    "duration": 12,
    "start_time": "2023-07-15T14:34:01.601Z"
   },
   {
    "duration": 291,
    "start_time": "2023-07-15T14:34:01.616Z"
   },
   {
    "duration": 23,
    "start_time": "2023-07-15T14:34:01.909Z"
   },
   {
    "duration": 217,
    "start_time": "2023-07-15T14:34:01.934Z"
   },
   {
    "duration": 14,
    "start_time": "2023-07-15T14:34:02.153Z"
   },
   {
    "duration": 218,
    "start_time": "2023-07-15T14:34:02.169Z"
   },
   {
    "duration": 11,
    "start_time": "2023-07-15T14:34:02.389Z"
   },
   {
    "duration": 252,
    "start_time": "2023-07-15T14:34:02.402Z"
   },
   {
    "duration": 12,
    "start_time": "2023-07-15T14:34:02.656Z"
   },
   {
    "duration": 323,
    "start_time": "2023-07-15T14:34:02.670Z"
   },
   {
    "duration": 12,
    "start_time": "2023-07-15T14:34:02.995Z"
   },
   {
    "duration": 271,
    "start_time": "2023-07-15T14:34:03.008Z"
   },
   {
    "duration": 1612,
    "start_time": "2023-07-15T14:34:03.281Z"
   },
   {
    "duration": 384,
    "start_time": "2023-07-15T14:34:04.894Z"
   },
   {
    "duration": 7,
    "start_time": "2023-07-15T14:34:05.279Z"
   },
   {
    "duration": 29,
    "start_time": "2023-07-15T14:34:05.288Z"
   },
   {
    "duration": 11,
    "start_time": "2023-07-15T14:34:05.318Z"
   },
   {
    "duration": 38,
    "start_time": "2023-07-15T14:34:05.331Z"
   },
   {
    "duration": 24,
    "start_time": "2023-07-15T14:34:05.371Z"
   },
   {
    "duration": 19,
    "start_time": "2023-07-15T14:34:05.396Z"
   },
   {
    "duration": 13,
    "start_time": "2023-07-15T14:34:05.416Z"
   },
   {
    "duration": 72,
    "start_time": "2023-07-15T14:34:05.431Z"
   },
   {
    "duration": 119,
    "start_time": "2023-07-15T14:34:16.789Z"
   },
   {
    "duration": 11,
    "start_time": "2023-07-15T14:39:55.841Z"
   },
   {
    "duration": 10,
    "start_time": "2023-07-15T14:41:39.850Z"
   },
   {
    "duration": 6,
    "start_time": "2023-07-15T14:42:14.293Z"
   },
   {
    "duration": 15,
    "start_time": "2023-07-15T14:42:20.013Z"
   },
   {
    "duration": 7,
    "start_time": "2023-07-15T14:42:26.720Z"
   },
   {
    "duration": 4,
    "start_time": "2023-07-15T14:42:39.478Z"
   },
   {
    "duration": 47,
    "start_time": "2023-07-15T14:44:32.150Z"
   },
   {
    "duration": 80,
    "start_time": "2023-07-15T14:45:15.293Z"
   },
   {
    "duration": 82,
    "start_time": "2023-07-15T14:46:02.837Z"
   },
   {
    "duration": 15,
    "start_time": "2023-07-15T14:49:33.548Z"
   },
   {
    "duration": 68,
    "start_time": "2023-07-15T14:51:56.608Z"
   },
   {
    "duration": 73,
    "start_time": "2023-07-15T14:52:37.707Z"
   },
   {
    "duration": 103,
    "start_time": "2023-07-15T14:55:16.550Z"
   },
   {
    "duration": 24800,
    "start_time": "2023-07-15T15:00:56.098Z"
   },
   {
    "duration": 25425,
    "start_time": "2023-07-15T15:01:35.200Z"
   },
   {
    "duration": 68,
    "start_time": "2023-07-15T15:02:53.635Z"
   },
   {
    "duration": 19,
    "start_time": "2023-07-15T15:10:44.717Z"
   },
   {
    "duration": 12,
    "start_time": "2023-07-15T15:10:50.697Z"
   },
   {
    "duration": 3508,
    "start_time": "2023-07-15T15:11:05.518Z"
   },
   {
    "duration": 128,
    "start_time": "2023-07-15T15:11:09.028Z"
   },
   {
    "duration": 13,
    "start_time": "2023-07-15T15:11:09.158Z"
   },
   {
    "duration": 3,
    "start_time": "2023-07-15T15:11:09.173Z"
   },
   {
    "duration": 10,
    "start_time": "2023-07-15T15:11:09.177Z"
   },
   {
    "duration": 20,
    "start_time": "2023-07-15T15:11:09.189Z"
   },
   {
    "duration": 6,
    "start_time": "2023-07-15T15:11:09.210Z"
   },
   {
    "duration": 44,
    "start_time": "2023-07-15T15:11:09.217Z"
   },
   {
    "duration": 104,
    "start_time": "2023-07-15T15:11:09.263Z"
   },
   {
    "duration": 13,
    "start_time": "2023-07-15T15:11:09.370Z"
   },
   {
    "duration": 122,
    "start_time": "2023-07-15T15:11:09.385Z"
   },
   {
    "duration": 15,
    "start_time": "2023-07-15T15:11:09.509Z"
   },
   {
    "duration": 24,
    "start_time": "2023-07-15T15:11:09.532Z"
   },
   {
    "duration": 17,
    "start_time": "2023-07-15T15:11:09.558Z"
   },
   {
    "duration": 18,
    "start_time": "2023-07-15T15:11:09.577Z"
   },
   {
    "duration": 10,
    "start_time": "2023-07-15T15:11:09.596Z"
   },
   {
    "duration": 16,
    "start_time": "2023-07-15T15:11:09.607Z"
   },
   {
    "duration": 35,
    "start_time": "2023-07-15T15:11:09.625Z"
   },
   {
    "duration": 14,
    "start_time": "2023-07-15T15:11:09.662Z"
   },
   {
    "duration": 4,
    "start_time": "2023-07-15T15:11:09.678Z"
   },
   {
    "duration": 65,
    "start_time": "2023-07-15T15:11:09.684Z"
   },
   {
    "duration": 54,
    "start_time": "2023-07-15T15:11:09.762Z"
   },
   {
    "duration": 70,
    "start_time": "2023-07-15T15:11:09.817Z"
   },
   {
    "duration": 21,
    "start_time": "2023-07-15T15:11:09.890Z"
   },
   {
    "duration": 49,
    "start_time": "2023-07-15T15:11:09.913Z"
   },
   {
    "duration": 376,
    "start_time": "2023-07-15T15:11:09.964Z"
   },
   {
    "duration": 458,
    "start_time": "2023-07-15T15:11:10.341Z"
   },
   {
    "duration": 26335,
    "start_time": "2023-07-15T15:11:10.802Z"
   },
   {
    "duration": 546,
    "start_time": "2023-07-15T15:11:37.146Z"
   },
   {
    "duration": 14,
    "start_time": "2023-07-15T15:11:37.694Z"
   },
   {
    "duration": 307,
    "start_time": "2023-07-15T15:11:37.710Z"
   },
   {
    "duration": 11,
    "start_time": "2023-07-15T15:11:38.019Z"
   },
   {
    "duration": 235,
    "start_time": "2023-07-15T15:11:38.031Z"
   },
   {
    "duration": 11,
    "start_time": "2023-07-15T15:11:38.268Z"
   },
   {
    "duration": 212,
    "start_time": "2023-07-15T15:11:38.280Z"
   },
   {
    "duration": 11,
    "start_time": "2023-07-15T15:11:38.493Z"
   },
   {
    "duration": 282,
    "start_time": "2023-07-15T15:11:38.506Z"
   },
   {
    "duration": 11,
    "start_time": "2023-07-15T15:11:38.790Z"
   },
   {
    "duration": 311,
    "start_time": "2023-07-15T15:11:38.802Z"
   },
   {
    "duration": 41,
    "start_time": "2023-07-15T15:11:39.114Z"
   },
   {
    "duration": 228,
    "start_time": "2023-07-15T15:11:39.161Z"
   },
   {
    "duration": 1707,
    "start_time": "2023-07-15T15:11:39.390Z"
   },
   {
    "duration": 430,
    "start_time": "2023-07-15T15:11:41.099Z"
   },
   {
    "duration": 10,
    "start_time": "2023-07-15T15:11:41.533Z"
   },
   {
    "duration": 44,
    "start_time": "2023-07-15T15:11:41.544Z"
   },
   {
    "duration": 7,
    "start_time": "2023-07-15T15:11:41.589Z"
   },
   {
    "duration": 14,
    "start_time": "2023-07-15T15:11:41.598Z"
   },
   {
    "duration": 30,
    "start_time": "2023-07-15T15:11:41.613Z"
   },
   {
    "duration": 18,
    "start_time": "2023-07-15T15:11:41.653Z"
   },
   {
    "duration": 15,
    "start_time": "2023-07-15T15:11:41.672Z"
   },
   {
    "duration": 93,
    "start_time": "2023-07-15T15:11:41.688Z"
   },
   {
    "duration": 12,
    "start_time": "2023-07-15T15:14:20.587Z"
   },
   {
    "duration": 250,
    "start_time": "2023-07-15T15:14:25.121Z"
   },
   {
    "duration": 100,
    "start_time": "2023-07-15T15:17:09.373Z"
   },
   {
    "duration": 114,
    "start_time": "2023-07-15T15:18:06.411Z"
   },
   {
    "duration": 19,
    "start_time": "2023-07-15T15:20:58.300Z"
   },
   {
    "duration": 55,
    "start_time": "2023-07-15T15:21:09.915Z"
   },
   {
    "duration": 33,
    "start_time": "2023-07-15T15:21:52.251Z"
   },
   {
    "duration": 155,
    "start_time": "2023-07-15T15:22:03.331Z"
   },
   {
    "duration": 2324,
    "start_time": "2023-07-15T15:24:53.715Z"
   },
   {
    "duration": 360,
    "start_time": "2023-07-15T15:25:16.351Z"
   },
   {
    "duration": 44,
    "start_time": "2023-07-15T15:25:53.984Z"
   },
   {
    "duration": 55,
    "start_time": "2023-07-15T15:26:10.991Z"
   },
   {
    "duration": 144,
    "start_time": "2023-07-15T15:28:23.654Z"
   },
   {
    "duration": 141,
    "start_time": "2023-07-15T15:31:52.346Z"
   },
   {
    "duration": 163,
    "start_time": "2023-07-15T15:32:01.803Z"
   },
   {
    "duration": 138,
    "start_time": "2023-07-15T15:32:19.988Z"
   },
   {
    "duration": 130,
    "start_time": "2023-07-15T15:32:36.090Z"
   },
   {
    "duration": 5,
    "start_time": "2023-07-15T15:36:41.352Z"
   },
   {
    "duration": 140,
    "start_time": "2023-07-15T15:36:57.607Z"
   },
   {
    "duration": 107,
    "start_time": "2023-07-15T15:38:50.283Z"
   },
   {
    "duration": 8,
    "start_time": "2023-07-15T15:39:16.681Z"
   },
   {
    "duration": 6,
    "start_time": "2023-07-15T15:39:24.917Z"
   },
   {
    "duration": 15,
    "start_time": "2023-07-15T15:41:02.447Z"
   },
   {
    "duration": 14,
    "start_time": "2023-07-15T15:41:48.367Z"
   },
   {
    "duration": 14,
    "start_time": "2023-07-15T15:41:53.693Z"
   },
   {
    "duration": 20,
    "start_time": "2023-07-15T15:42:05.624Z"
   },
   {
    "duration": 13,
    "start_time": "2023-07-15T15:42:27.002Z"
   },
   {
    "duration": 15,
    "start_time": "2023-07-15T15:43:40.650Z"
   },
   {
    "duration": 8,
    "start_time": "2023-07-15T15:45:58.007Z"
   },
   {
    "duration": 4659,
    "start_time": "2023-07-16T13:44:37.852Z"
   },
   {
    "duration": 76,
    "start_time": "2023-07-16T13:44:42.515Z"
   },
   {
    "duration": 14,
    "start_time": "2023-07-16T13:44:42.593Z"
   },
   {
    "duration": 4,
    "start_time": "2023-07-16T13:44:42.609Z"
   },
   {
    "duration": 16,
    "start_time": "2023-07-16T13:44:42.615Z"
   },
   {
    "duration": 44,
    "start_time": "2023-07-16T13:44:42.633Z"
   },
   {
    "duration": 8,
    "start_time": "2023-07-16T13:44:42.679Z"
   },
   {
    "duration": 21,
    "start_time": "2023-07-16T13:44:42.688Z"
   },
   {
    "duration": 124,
    "start_time": "2023-07-16T13:44:42.711Z"
   },
   {
    "duration": 15,
    "start_time": "2023-07-16T13:44:42.837Z"
   },
   {
    "duration": 108,
    "start_time": "2023-07-16T13:44:42.867Z"
   },
   {
    "duration": 18,
    "start_time": "2023-07-16T13:44:42.977Z"
   },
   {
    "duration": 12,
    "start_time": "2023-07-16T13:44:42.997Z"
   },
   {
    "duration": 6,
    "start_time": "2023-07-16T13:44:43.012Z"
   },
   {
    "duration": 22,
    "start_time": "2023-07-16T13:44:43.020Z"
   },
   {
    "duration": 13,
    "start_time": "2023-07-16T13:44:43.068Z"
   },
   {
    "duration": 10,
    "start_time": "2023-07-16T13:44:43.082Z"
   },
   {
    "duration": 26,
    "start_time": "2023-07-16T13:44:43.094Z"
   },
   {
    "duration": 11,
    "start_time": "2023-07-16T13:44:43.123Z"
   },
   {
    "duration": 5,
    "start_time": "2023-07-16T13:44:43.136Z"
   },
   {
    "duration": 85,
    "start_time": "2023-07-16T13:44:43.143Z"
   },
   {
    "duration": 68,
    "start_time": "2023-07-16T13:44:43.229Z"
   },
   {
    "duration": 70,
    "start_time": "2023-07-16T13:44:43.298Z"
   },
   {
    "duration": 21,
    "start_time": "2023-07-16T13:44:43.370Z"
   },
   {
    "duration": 22,
    "start_time": "2023-07-16T13:44:43.393Z"
   },
   {
    "duration": 409,
    "start_time": "2023-07-16T13:44:43.417Z"
   },
   {
    "duration": 516,
    "start_time": "2023-07-16T13:44:43.828Z"
   },
   {
    "duration": 27715,
    "start_time": "2023-07-16T13:44:44.347Z"
   },
   {
    "duration": 601,
    "start_time": "2023-07-16T13:45:12.063Z"
   },
   {
    "duration": 14,
    "start_time": "2023-07-16T13:45:12.667Z"
   },
   {
    "duration": 277,
    "start_time": "2023-07-16T13:45:12.682Z"
   },
   {
    "duration": 14,
    "start_time": "2023-07-16T13:45:12.967Z"
   },
   {
    "duration": 245,
    "start_time": "2023-07-16T13:45:12.983Z"
   },
   {
    "duration": 19,
    "start_time": "2023-07-16T13:45:13.231Z"
   },
   {
    "duration": 317,
    "start_time": "2023-07-16T13:45:13.267Z"
   },
   {
    "duration": 15,
    "start_time": "2023-07-16T13:45:13.587Z"
   },
   {
    "duration": 235,
    "start_time": "2023-07-16T13:45:13.604Z"
   },
   {
    "duration": 30,
    "start_time": "2023-07-16T13:45:13.841Z"
   },
   {
    "duration": 435,
    "start_time": "2023-07-16T13:45:13.873Z"
   },
   {
    "duration": 20,
    "start_time": "2023-07-16T13:45:14.310Z"
   },
   {
    "duration": 315,
    "start_time": "2023-07-16T13:45:14.336Z"
   },
   {
    "duration": 1855,
    "start_time": "2023-07-16T13:45:14.654Z"
   },
   {
    "duration": 432,
    "start_time": "2023-07-16T13:45:16.511Z"
   },
   {
    "duration": 21,
    "start_time": "2023-07-16T13:45:16.946Z"
   },
   {
    "duration": 23,
    "start_time": "2023-07-16T13:45:16.970Z"
   },
   {
    "duration": 199,
    "start_time": "2023-07-16T13:45:16.995Z"
   },
   {
    "duration": 5,
    "start_time": "2023-07-16T13:45:17.196Z"
   },
   {
    "duration": 11,
    "start_time": "2023-07-16T13:45:17.203Z"
   },
   {
    "duration": 9,
    "start_time": "2023-07-16T13:45:17.216Z"
   },
   {
    "duration": 45,
    "start_time": "2023-07-16T13:45:17.227Z"
   },
   {
    "duration": 17,
    "start_time": "2023-07-16T13:45:17.274Z"
   },
   {
    "duration": 17,
    "start_time": "2023-07-16T13:45:17.293Z"
   },
   {
    "duration": 17,
    "start_time": "2023-07-16T13:45:17.313Z"
   },
   {
    "duration": 139,
    "start_time": "2023-07-16T13:45:17.332Z"
   },
   {
    "duration": 87,
    "start_time": "2023-07-16T13:47:34.983Z"
   },
   {
    "duration": 8,
    "start_time": "2023-07-16T13:52:56.884Z"
   },
   {
    "duration": 11,
    "start_time": "2023-07-16T13:53:09.791Z"
   },
   {
    "duration": 11,
    "start_time": "2023-07-16T13:53:30.486Z"
   },
   {
    "duration": 72,
    "start_time": "2023-07-16T13:54:16.316Z"
   },
   {
    "duration": 11,
    "start_time": "2023-07-16T13:54:41.483Z"
   },
   {
    "duration": 22,
    "start_time": "2023-07-16T13:57:59.687Z"
   },
   {
    "duration": 85,
    "start_time": "2023-07-16T13:59:20.522Z"
   },
   {
    "duration": 12,
    "start_time": "2023-07-16T14:00:25.710Z"
   },
   {
    "duration": 13,
    "start_time": "2023-07-16T14:00:45.003Z"
   },
   {
    "duration": 65,
    "start_time": "2023-07-16T14:04:36.390Z"
   },
   {
    "duration": 38,
    "start_time": "2023-07-16T14:14:46.153Z"
   },
   {
    "duration": 73,
    "start_time": "2023-07-16T14:15:32.262Z"
   },
   {
    "duration": 61,
    "start_time": "2023-07-16T14:15:51.449Z"
   },
   {
    "duration": 32,
    "start_time": "2023-07-16T14:16:03.899Z"
   },
   {
    "duration": 24,
    "start_time": "2023-07-16T14:16:43.708Z"
   },
   {
    "duration": 17,
    "start_time": "2023-07-16T14:18:14.604Z"
   },
   {
    "duration": 26,
    "start_time": "2023-07-16T14:20:59.556Z"
   },
   {
    "duration": 23,
    "start_time": "2023-07-16T14:21:22.905Z"
   },
   {
    "duration": 25,
    "start_time": "2023-07-16T14:21:41.747Z"
   },
   {
    "duration": 22,
    "start_time": "2023-07-16T14:22:15.153Z"
   },
   {
    "duration": 21,
    "start_time": "2023-07-16T14:24:48.803Z"
   },
   {
    "duration": 17,
    "start_time": "2023-07-16T14:25:42.802Z"
   },
   {
    "duration": 17,
    "start_time": "2023-07-16T14:25:55.299Z"
   },
   {
    "duration": 18,
    "start_time": "2023-07-16T14:26:06.202Z"
   },
   {
    "duration": 20,
    "start_time": "2023-07-16T14:26:11.538Z"
   },
   {
    "duration": 16,
    "start_time": "2023-07-16T14:26:19.348Z"
   },
   {
    "duration": 25,
    "start_time": "2023-07-16T14:27:54.259Z"
   },
   {
    "duration": 28,
    "start_time": "2023-07-16T14:28:22.569Z"
   },
   {
    "duration": 30,
    "start_time": "2023-07-16T14:30:53.454Z"
   },
   {
    "duration": 65,
    "start_time": "2023-07-16T14:52:43.196Z"
   },
   {
    "duration": 75,
    "start_time": "2023-07-16T14:54:09.410Z"
   },
   {
    "duration": 79,
    "start_time": "2023-07-16T15:36:22.312Z"
   },
   {
    "duration": 22,
    "start_time": "2023-07-16T15:38:30.215Z"
   },
   {
    "duration": 22,
    "start_time": "2023-07-16T15:38:40.017Z"
   },
   {
    "duration": 25,
    "start_time": "2023-07-16T15:39:21.917Z"
   },
   {
    "duration": 61,
    "start_time": "2023-07-16T15:41:59.835Z"
   },
   {
    "duration": 94,
    "start_time": "2023-07-17T11:59:39.014Z"
   },
   {
    "duration": 57,
    "start_time": "2023-07-17T12:09:28.761Z"
   },
   {
    "duration": 4871,
    "start_time": "2023-07-17T12:09:38.027Z"
   },
   {
    "duration": 197,
    "start_time": "2023-07-17T12:09:42.900Z"
   },
   {
    "duration": 12,
    "start_time": "2023-07-17T12:09:43.099Z"
   },
   {
    "duration": 3,
    "start_time": "2023-07-17T12:09:43.113Z"
   },
   {
    "duration": 10,
    "start_time": "2023-07-17T12:09:43.118Z"
   },
   {
    "duration": 21,
    "start_time": "2023-07-17T12:09:43.129Z"
   },
   {
    "duration": 15,
    "start_time": "2023-07-17T12:09:43.169Z"
   },
   {
    "duration": 18,
    "start_time": "2023-07-17T12:09:43.186Z"
   },
   {
    "duration": 120,
    "start_time": "2023-07-17T12:09:43.205Z"
   },
   {
    "duration": 11,
    "start_time": "2023-07-17T12:09:43.326Z"
   },
   {
    "duration": 99,
    "start_time": "2023-07-17T12:09:43.338Z"
   },
   {
    "duration": 15,
    "start_time": "2023-07-17T12:09:43.439Z"
   },
   {
    "duration": 26,
    "start_time": "2023-07-17T12:09:43.455Z"
   },
   {
    "duration": 7,
    "start_time": "2023-07-17T12:09:43.484Z"
   },
   {
    "duration": 23,
    "start_time": "2023-07-17T12:09:43.493Z"
   },
   {
    "duration": 11,
    "start_time": "2023-07-17T12:09:43.517Z"
   },
   {
    "duration": 6,
    "start_time": "2023-07-17T12:09:43.530Z"
   },
   {
    "duration": 42,
    "start_time": "2023-07-17T12:09:43.537Z"
   },
   {
    "duration": 8,
    "start_time": "2023-07-17T12:09:43.582Z"
   },
   {
    "duration": 5,
    "start_time": "2023-07-17T12:09:43.592Z"
   },
   {
    "duration": 46,
    "start_time": "2023-07-17T12:09:43.598Z"
   },
   {
    "duration": 72,
    "start_time": "2023-07-17T12:09:43.646Z"
   },
   {
    "duration": 48,
    "start_time": "2023-07-17T12:09:43.720Z"
   },
   {
    "duration": 18,
    "start_time": "2023-07-17T12:09:43.775Z"
   },
   {
    "duration": 20,
    "start_time": "2023-07-17T12:09:43.795Z"
   },
   {
    "duration": 433,
    "start_time": "2023-07-17T12:09:43.817Z"
   },
   {
    "duration": 461,
    "start_time": "2023-07-17T12:09:44.252Z"
   },
   {
    "duration": 25066,
    "start_time": "2023-07-17T12:09:44.715Z"
   },
   {
    "duration": 500,
    "start_time": "2023-07-17T12:10:09.783Z"
   },
   {
    "duration": 13,
    "start_time": "2023-07-17T12:10:10.285Z"
   },
   {
    "duration": 257,
    "start_time": "2023-07-17T12:10:10.299Z"
   },
   {
    "duration": 27,
    "start_time": "2023-07-17T12:10:10.557Z"
   },
   {
    "duration": 212,
    "start_time": "2023-07-17T12:10:10.586Z"
   },
   {
    "duration": 10,
    "start_time": "2023-07-17T12:10:10.799Z"
   },
   {
    "duration": 225,
    "start_time": "2023-07-17T12:10:10.811Z"
   },
   {
    "duration": 31,
    "start_time": "2023-07-17T12:10:11.038Z"
   },
   {
    "duration": 230,
    "start_time": "2023-07-17T12:10:11.071Z"
   },
   {
    "duration": 11,
    "start_time": "2023-07-17T12:10:11.303Z"
   },
   {
    "duration": 308,
    "start_time": "2023-07-17T12:10:11.316Z"
   },
   {
    "duration": 11,
    "start_time": "2023-07-17T12:10:11.626Z"
   },
   {
    "duration": 286,
    "start_time": "2023-07-17T12:10:11.641Z"
   },
   {
    "duration": 1623,
    "start_time": "2023-07-17T12:10:11.929Z"
   },
   {
    "duration": 401,
    "start_time": "2023-07-17T12:10:13.553Z"
   },
   {
    "duration": 24,
    "start_time": "2023-07-17T12:10:13.957Z"
   },
   {
    "duration": 19,
    "start_time": "2023-07-17T12:10:13.983Z"
   },
   {
    "duration": 15,
    "start_time": "2023-07-17T12:10:14.004Z"
   },
   {
    "duration": 30,
    "start_time": "2023-07-17T12:10:14.021Z"
   },
   {
    "duration": 237,
    "start_time": "2023-07-17T12:10:14.053Z"
   },
   {
    "duration": 5,
    "start_time": "2023-07-17T12:10:14.292Z"
   },
   {
    "duration": 16,
    "start_time": "2023-07-17T12:10:14.299Z"
   },
   {
    "duration": 33,
    "start_time": "2023-07-17T12:10:14.317Z"
   },
   {
    "duration": 62,
    "start_time": "2023-07-17T12:10:14.352Z"
   },
   {
    "duration": 25,
    "start_time": "2023-07-17T12:10:14.416Z"
   },
   {
    "duration": 29,
    "start_time": "2023-07-17T12:10:14.443Z"
   },
   {
    "duration": 28,
    "start_time": "2023-07-17T12:10:14.473Z"
   },
   {
    "duration": 40,
    "start_time": "2023-07-17T12:10:14.503Z"
   },
   {
    "duration": 28,
    "start_time": "2023-07-17T12:10:14.545Z"
   },
   {
    "duration": 23,
    "start_time": "2023-07-17T12:10:14.578Z"
   },
   {
    "duration": 17,
    "start_time": "2023-07-17T12:10:14.602Z"
   },
   {
    "duration": 16,
    "start_time": "2023-07-17T12:10:14.621Z"
   },
   {
    "duration": 19,
    "start_time": "2023-07-17T12:10:14.639Z"
   },
   {
    "duration": 87,
    "start_time": "2023-07-17T12:10:14.660Z"
   },
   {
    "duration": 3707,
    "start_time": "2023-07-17T20:08:04.804Z"
   },
   {
    "duration": 139,
    "start_time": "2023-07-17T20:08:08.513Z"
   },
   {
    "duration": 15,
    "start_time": "2023-07-17T20:08:08.654Z"
   },
   {
    "duration": 4,
    "start_time": "2023-07-17T20:08:08.671Z"
   },
   {
    "duration": 19,
    "start_time": "2023-07-17T20:08:08.677Z"
   },
   {
    "duration": 25,
    "start_time": "2023-07-17T20:08:08.698Z"
   },
   {
    "duration": 8,
    "start_time": "2023-07-17T20:08:08.725Z"
   },
   {
    "duration": 49,
    "start_time": "2023-07-17T20:08:08.735Z"
   },
   {
    "duration": 129,
    "start_time": "2023-07-17T20:08:08.786Z"
   },
   {
    "duration": 13,
    "start_time": "2023-07-17T20:08:08.919Z"
   },
   {
    "duration": 116,
    "start_time": "2023-07-17T20:08:08.934Z"
   },
   {
    "duration": 29,
    "start_time": "2023-07-17T20:08:09.052Z"
   },
   {
    "duration": 11,
    "start_time": "2023-07-17T20:08:09.083Z"
   },
   {
    "duration": 91,
    "start_time": "2023-07-17T20:08:09.096Z"
   },
   {
    "duration": 78,
    "start_time": "2023-07-17T20:08:09.190Z"
   },
   {
    "duration": 13,
    "start_time": "2023-07-17T20:08:09.270Z"
   },
   {
    "duration": 17,
    "start_time": "2023-07-17T20:08:09.284Z"
   },
   {
    "duration": 15,
    "start_time": "2023-07-17T20:08:09.303Z"
   },
   {
    "duration": 9,
    "start_time": "2023-07-17T20:08:09.320Z"
   },
   {
    "duration": 5,
    "start_time": "2023-07-17T20:08:09.331Z"
   },
   {
    "duration": 59,
    "start_time": "2023-07-17T20:08:09.367Z"
   },
   {
    "duration": 74,
    "start_time": "2023-07-17T20:08:09.428Z"
   },
   {
    "duration": 68,
    "start_time": "2023-07-17T20:08:09.504Z"
   },
   {
    "duration": 19,
    "start_time": "2023-07-17T20:08:09.574Z"
   },
   {
    "duration": 29,
    "start_time": "2023-07-17T20:08:09.595Z"
   },
   {
    "duration": 423,
    "start_time": "2023-07-17T20:08:09.626Z"
   },
   {
    "duration": 478,
    "start_time": "2023-07-17T20:08:10.051Z"
   },
   {
    "duration": 29252,
    "start_time": "2023-07-17T20:08:10.532Z"
   },
   {
    "duration": 600,
    "start_time": "2023-07-17T20:08:39.786Z"
   },
   {
    "duration": 117,
    "start_time": "2023-07-17T20:08:40.388Z"
   },
   {
    "duration": 17,
    "start_time": "2023-07-17T20:08:56.939Z"
   },
   {
    "duration": 452,
    "start_time": "2023-07-17T20:09:34.946Z"
   },
   {
    "duration": 3653,
    "start_time": "2023-07-17T20:12:51.149Z"
   },
   {
    "duration": 146,
    "start_time": "2023-07-17T20:12:54.805Z"
   },
   {
    "duration": 16,
    "start_time": "2023-07-17T20:12:54.952Z"
   },
   {
    "duration": 4,
    "start_time": "2023-07-17T20:12:54.971Z"
   },
   {
    "duration": 13,
    "start_time": "2023-07-17T20:12:54.978Z"
   },
   {
    "duration": 36,
    "start_time": "2023-07-17T20:12:54.993Z"
   },
   {
    "duration": 42,
    "start_time": "2023-07-17T20:12:55.031Z"
   },
   {
    "duration": 23,
    "start_time": "2023-07-17T20:12:55.075Z"
   },
   {
    "duration": 149,
    "start_time": "2023-07-17T20:12:55.100Z"
   },
   {
    "duration": 28,
    "start_time": "2023-07-17T20:12:55.250Z"
   },
   {
    "duration": 114,
    "start_time": "2023-07-17T20:12:55.280Z"
   },
   {
    "duration": 25,
    "start_time": "2023-07-17T20:12:55.396Z"
   },
   {
    "duration": 17,
    "start_time": "2023-07-17T20:12:55.425Z"
   },
   {
    "duration": 6,
    "start_time": "2023-07-17T20:12:55.470Z"
   },
   {
    "duration": 24,
    "start_time": "2023-07-17T20:12:55.478Z"
   },
   {
    "duration": 13,
    "start_time": "2023-07-17T20:12:55.504Z"
   },
   {
    "duration": 9,
    "start_time": "2023-07-17T20:12:55.519Z"
   },
   {
    "duration": 46,
    "start_time": "2023-07-17T20:12:55.531Z"
   },
   {
    "duration": 9,
    "start_time": "2023-07-17T20:12:55.580Z"
   },
   {
    "duration": 7,
    "start_time": "2023-07-17T20:12:55.591Z"
   },
   {
    "duration": 96,
    "start_time": "2023-07-17T20:12:55.600Z"
   },
   {
    "duration": 51,
    "start_time": "2023-07-17T20:12:55.698Z"
   },
   {
    "duration": 66,
    "start_time": "2023-07-17T20:12:55.751Z"
   },
   {
    "duration": 50,
    "start_time": "2023-07-17T20:12:55.819Z"
   },
   {
    "duration": 19,
    "start_time": "2023-07-17T20:12:55.871Z"
   },
   {
    "duration": 391,
    "start_time": "2023-07-17T20:12:55.892Z"
   },
   {
    "duration": 485,
    "start_time": "2023-07-17T20:12:56.285Z"
   },
   {
    "duration": 28039,
    "start_time": "2023-07-17T20:12:56.772Z"
   },
   {
    "duration": 567,
    "start_time": "2023-07-17T20:13:24.813Z"
   },
   {
    "duration": 415,
    "start_time": "2023-07-17T20:13:25.382Z"
   },
   {
    "duration": 14,
    "start_time": "2023-07-17T20:13:25.800Z"
   },
   {
    "duration": 292,
    "start_time": "2023-07-17T20:13:25.816Z"
   },
   {
    "duration": 14,
    "start_time": "2023-07-17T20:13:26.110Z"
   },
   {
    "duration": 263,
    "start_time": "2023-07-17T20:13:26.126Z"
   },
   {
    "duration": 15,
    "start_time": "2023-07-17T20:13:26.391Z"
   },
   {
    "duration": 220,
    "start_time": "2023-07-17T20:13:26.408Z"
   },
   {
    "duration": 13,
    "start_time": "2023-07-17T20:13:26.630Z"
   },
   {
    "duration": 243,
    "start_time": "2023-07-17T20:13:26.668Z"
   },
   {
    "duration": 14,
    "start_time": "2023-07-17T20:13:26.913Z"
   },
   {
    "duration": 315,
    "start_time": "2023-07-17T20:13:26.929Z"
   },
   {
    "duration": 26,
    "start_time": "2023-07-17T20:13:27.250Z"
   },
   {
    "duration": 257,
    "start_time": "2023-07-17T20:13:27.277Z"
   },
   {
    "duration": 1724,
    "start_time": "2023-07-17T20:13:27.536Z"
   },
   {
    "duration": 408,
    "start_time": "2023-07-17T20:13:29.262Z"
   },
   {
    "duration": 8,
    "start_time": "2023-07-17T20:13:29.672Z"
   },
   {
    "duration": 23,
    "start_time": "2023-07-17T20:13:29.682Z"
   },
   {
    "duration": 9,
    "start_time": "2023-07-17T20:13:29.707Z"
   },
   {
    "duration": 9,
    "start_time": "2023-07-17T20:13:29.718Z"
   },
   {
    "duration": 190,
    "start_time": "2023-07-17T20:13:29.729Z"
   },
   {
    "duration": 5,
    "start_time": "2023-07-17T20:13:29.921Z"
   },
   {
    "duration": 16,
    "start_time": "2023-07-17T20:13:29.927Z"
   },
   {
    "duration": 25,
    "start_time": "2023-07-17T20:13:29.945Z"
   },
   {
    "duration": 10,
    "start_time": "2023-07-17T20:13:29.972Z"
   },
   {
    "duration": 9,
    "start_time": "2023-07-17T20:13:29.983Z"
   },
   {
    "duration": 19,
    "start_time": "2023-07-17T20:13:29.993Z"
   },
   {
    "duration": 37,
    "start_time": "2023-07-17T20:13:30.013Z"
   },
   {
    "duration": 19,
    "start_time": "2023-07-17T20:13:30.067Z"
   },
   {
    "duration": 27,
    "start_time": "2023-07-17T20:13:30.088Z"
   },
   {
    "duration": 18,
    "start_time": "2023-07-17T20:13:30.117Z"
   },
   {
    "duration": 44,
    "start_time": "2023-07-17T20:13:30.137Z"
   },
   {
    "duration": 18,
    "start_time": "2023-07-17T20:13:30.183Z"
   },
   {
    "duration": 28,
    "start_time": "2023-07-17T20:13:30.203Z"
   },
   {
    "duration": 110,
    "start_time": "2023-07-17T20:13:30.233Z"
   }
  ],
  "kernelspec": {
   "display_name": "Python 3 (ipykernel)",
   "language": "python",
   "name": "python3"
  },
  "language_info": {
   "codemirror_mode": {
    "name": "ipython",
    "version": 3
   },
   "file_extension": ".py",
   "mimetype": "text/x-python",
   "name": "python",
   "nbconvert_exporter": "python",
   "pygments_lexer": "ipython3",
   "version": "3.9.13"
  },
  "toc": {
   "base_numbering": 1,
   "nav_menu": {},
   "number_sections": true,
   "sideBar": true,
   "skip_h1_title": true,
   "title_cell": "Table of Contents",
   "title_sidebar": "Contents",
   "toc_cell": false,
   "toc_position": {},
   "toc_section_display": true,
   "toc_window_display": false
  }
 },
 "nbformat": 4,
 "nbformat_minor": 2
}
