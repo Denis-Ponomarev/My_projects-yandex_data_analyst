{
 "cells": [
  {
   "cell_type": "markdown",
   "metadata": {},
   "source": [
    "# Финальный проект: SQL."
   ]
  },
  {
   "cell_type": "markdown",
   "metadata": {},
   "source": [
    "**Постановка задачи:**\n",
    "\n",
    "Коронавирус застал мир врасплох, изменив привычный порядок вещей. В свободное время жители городов больше не выходят на улицу, не посещают кафе и торговые центры. Зато стало больше времени для книг. Это заметили стартаперы — и бросились создавать приложения для тех, кто любит читать.\n",
    "\n",
    "Ваша компания решила быть на волне и купила крупный сервис для чтения книг по подписке. Ваша первая задача как аналитика — проанализировать базу данных.\n",
    "В ней — информация о книгах, издательствах, авторах, а также пользовательские обзоры книг. Эти данные помогут сформулировать ценностное предложение для нового продукта."
   ]
  },
  {
   "cell_type": "markdown",
   "metadata": {},
   "source": [
    "**Описание данных:**\n",
    "\n",
    "**Таблица `books`**\n",
    "\n",
    "Содержит данные о книгах:\n",
    "\n",
    "- `book_id` — идентификатор книги;\n",
    "- `author_id` — идентификатор автора;\n",
    "- `title` — название книги;\n",
    "- `num_pages` — количество страниц;\n",
    "- `publication_date` — дата публикации книги;\n",
    "- `publisher_id` — идентификатор издателя.\n",
    "\n",
    "**Таблица `authors`**\n",
    "\n",
    "Содержит данные об авторах:\n",
    "\n",
    "- `author_id` — идентификатор автора;\n",
    "- `author` — имя автора.\n",
    "\n",
    "**Таблица `publishers`**\n",
    "\n",
    "Содержит данные об издательствах:\n",
    "\n",
    "- `publisher_id` — идентификатор издательства;\n",
    "- `publisher` — название издательства;\n",
    "\n",
    "**Таблица `ratings`**\n",
    "\n",
    "Содержит данные о пользовательских оценках книг:\n",
    "\n",
    "- `rating_id` — идентификатор оценки;\n",
    "- `book_id` — идентификатор книги;\n",
    "- `username` — имя пользователя, оставившего оценку;\n",
    "- `rating` — оценка книги.\n",
    "\n",
    "**Таблица `reviews`**\n",
    "\n",
    "Содержит данные о пользовательских обзорах на книги:\n",
    "\n",
    "- `review_id` — идентификатор обзора;\n",
    "- `book_id` — идентификатор книги;\n",
    "- `username` — имя пользователя, написавшего обзор;\n",
    "- `text` — текст обзора."
   ]
  },
  {
   "cell_type": "markdown",
   "metadata": {},
   "source": [
    "## 1 шаг. Подключаемся к базе данных:"
   ]
  },
  {
   "cell_type": "code",
   "execution_count": 1,
   "metadata": {},
   "outputs": [],
   "source": [
    "# импортируем библиотеки\n",
    "import pandas as pd\n",
    "from sqlalchemy import text, create_engine\n",
    "\n",
    "# устанавливаем параметры\n",
    "db_config = {'user': 'praktikum_student', # имя пользователя\n",
    "'pwd': 'Sdf4$2;d-d30pp', # пароль\n",
    "'host': 'rc1b-wcoijxj3yxfsf3fs.mdb.yandexcloud.net',\n",
    "'port': 6432, # порт подключения\n",
    "'db': 'data-analyst-final-project-db'} # название базы данных\n",
    "connection_string = 'postgresql://{user}:{pwd}@{host}:{port}/{db}'.format(**db_config)\n",
    "\n",
    "# сохраняем коннектор\n",
    "engine = create_engine(connection_string, connect_args={'sslmode':'require'})\n",
    "\n",
    "# чтобы выполнить SQL-запрос, используем Pandas"
   ]
  },
  {
   "cell_type": "markdown",
   "metadata": {},
   "source": [
    "Выедем первые 5 строк из таблицы books:"
   ]
  },
  {
   "cell_type": "code",
   "execution_count": 2,
   "metadata": {},
   "outputs": [
    {
     "data": {
      "text/html": [
       "<div>\n",
       "<style scoped>\n",
       "    .dataframe tbody tr th:only-of-type {\n",
       "        vertical-align: middle;\n",
       "    }\n",
       "\n",
       "    .dataframe tbody tr th {\n",
       "        vertical-align: top;\n",
       "    }\n",
       "\n",
       "    .dataframe thead th {\n",
       "        text-align: right;\n",
       "    }\n",
       "</style>\n",
       "<table border=\"1\" class=\"dataframe\">\n",
       "  <thead>\n",
       "    <tr style=\"text-align: right;\">\n",
       "      <th></th>\n",
       "      <th>book_id</th>\n",
       "      <th>author_id</th>\n",
       "      <th>title</th>\n",
       "      <th>num_pages</th>\n",
       "      <th>publication_date</th>\n",
       "      <th>publisher_id</th>\n",
       "    </tr>\n",
       "  </thead>\n",
       "  <tbody>\n",
       "    <tr>\n",
       "      <th>0</th>\n",
       "      <td>1</td>\n",
       "      <td>546</td>\n",
       "      <td>'Salem's Lot</td>\n",
       "      <td>594</td>\n",
       "      <td>2005-11-01</td>\n",
       "      <td>93</td>\n",
       "    </tr>\n",
       "    <tr>\n",
       "      <th>1</th>\n",
       "      <td>2</td>\n",
       "      <td>465</td>\n",
       "      <td>1 000 Places to See Before You Die</td>\n",
       "      <td>992</td>\n",
       "      <td>2003-05-22</td>\n",
       "      <td>336</td>\n",
       "    </tr>\n",
       "    <tr>\n",
       "      <th>2</th>\n",
       "      <td>3</td>\n",
       "      <td>407</td>\n",
       "      <td>13 Little Blue Envelopes (Little Blue Envelope...</td>\n",
       "      <td>322</td>\n",
       "      <td>2010-12-21</td>\n",
       "      <td>135</td>\n",
       "    </tr>\n",
       "    <tr>\n",
       "      <th>3</th>\n",
       "      <td>4</td>\n",
       "      <td>82</td>\n",
       "      <td>1491: New Revelations of the Americas Before C...</td>\n",
       "      <td>541</td>\n",
       "      <td>2006-10-10</td>\n",
       "      <td>309</td>\n",
       "    </tr>\n",
       "    <tr>\n",
       "      <th>4</th>\n",
       "      <td>5</td>\n",
       "      <td>125</td>\n",
       "      <td>1776</td>\n",
       "      <td>386</td>\n",
       "      <td>2006-07-04</td>\n",
       "      <td>268</td>\n",
       "    </tr>\n",
       "  </tbody>\n",
       "</table>\n",
       "</div>"
      ],
      "text/plain": [
       "   book_id  author_id                                              title  \\\n",
       "0        1        546                                       'Salem's Lot   \n",
       "1        2        465                 1 000 Places to See Before You Die   \n",
       "2        3        407  13 Little Blue Envelopes (Little Blue Envelope...   \n",
       "3        4         82  1491: New Revelations of the Americas Before C...   \n",
       "4        5        125                                               1776   \n",
       "\n",
       "   num_pages publication_date  publisher_id  \n",
       "0        594       2005-11-01            93  \n",
       "1        992       2003-05-22           336  \n",
       "2        322       2010-12-21           135  \n",
       "3        541       2006-10-10           309  \n",
       "4        386       2006-07-04           268  "
      ]
     },
     "execution_count": 2,
     "metadata": {},
     "output_type": "execute_result"
    }
   ],
   "source": [
    "query = '''SELECT * FROM books LIMIT 5'''\n",
    "\n",
    "con=engine.connect()\n",
    "\n",
    "pd.io.sql.read_sql(sql=text(query), con = con)"
   ]
  },
  {
   "cell_type": "markdown",
   "metadata": {},
   "source": [
    "Выедем первые 5 строк из таблицы authors:"
   ]
  },
  {
   "cell_type": "code",
   "execution_count": 3,
   "metadata": {},
   "outputs": [
    {
     "data": {
      "text/html": [
       "<div>\n",
       "<style scoped>\n",
       "    .dataframe tbody tr th:only-of-type {\n",
       "        vertical-align: middle;\n",
       "    }\n",
       "\n",
       "    .dataframe tbody tr th {\n",
       "        vertical-align: top;\n",
       "    }\n",
       "\n",
       "    .dataframe thead th {\n",
       "        text-align: right;\n",
       "    }\n",
       "</style>\n",
       "<table border=\"1\" class=\"dataframe\">\n",
       "  <thead>\n",
       "    <tr style=\"text-align: right;\">\n",
       "      <th></th>\n",
       "      <th>author_id</th>\n",
       "      <th>author</th>\n",
       "    </tr>\n",
       "  </thead>\n",
       "  <tbody>\n",
       "    <tr>\n",
       "      <th>0</th>\n",
       "      <td>1</td>\n",
       "      <td>A.S. Byatt</td>\n",
       "    </tr>\n",
       "    <tr>\n",
       "      <th>1</th>\n",
       "      <td>2</td>\n",
       "      <td>Aesop/Laura Harris/Laura Gibbs</td>\n",
       "    </tr>\n",
       "    <tr>\n",
       "      <th>2</th>\n",
       "      <td>3</td>\n",
       "      <td>Agatha Christie</td>\n",
       "    </tr>\n",
       "    <tr>\n",
       "      <th>3</th>\n",
       "      <td>4</td>\n",
       "      <td>Alan Brennert</td>\n",
       "    </tr>\n",
       "    <tr>\n",
       "      <th>4</th>\n",
       "      <td>5</td>\n",
       "      <td>Alan Moore/David   Lloyd</td>\n",
       "    </tr>\n",
       "  </tbody>\n",
       "</table>\n",
       "</div>"
      ],
      "text/plain": [
       "   author_id                          author\n",
       "0          1                      A.S. Byatt\n",
       "1          2  Aesop/Laura Harris/Laura Gibbs\n",
       "2          3                 Agatha Christie\n",
       "3          4                   Alan Brennert\n",
       "4          5        Alan Moore/David   Lloyd"
      ]
     },
     "execution_count": 3,
     "metadata": {},
     "output_type": "execute_result"
    }
   ],
   "source": [
    "query = '''SELECT * FROM authors LIMIT 5'''\n",
    "\n",
    "con=engine.connect()\n",
    "\n",
    "pd.io.sql.read_sql(sql=text(query), con = con)"
   ]
  },
  {
   "cell_type": "markdown",
   "metadata": {},
   "source": [
    "Выедем первые 5 строк из таблицы publishers:"
   ]
  },
  {
   "cell_type": "code",
   "execution_count": 4,
   "metadata": {},
   "outputs": [
    {
     "data": {
      "text/html": [
       "<div>\n",
       "<style scoped>\n",
       "    .dataframe tbody tr th:only-of-type {\n",
       "        vertical-align: middle;\n",
       "    }\n",
       "\n",
       "    .dataframe tbody tr th {\n",
       "        vertical-align: top;\n",
       "    }\n",
       "\n",
       "    .dataframe thead th {\n",
       "        text-align: right;\n",
       "    }\n",
       "</style>\n",
       "<table border=\"1\" class=\"dataframe\">\n",
       "  <thead>\n",
       "    <tr style=\"text-align: right;\">\n",
       "      <th></th>\n",
       "      <th>publisher_id</th>\n",
       "      <th>publisher</th>\n",
       "    </tr>\n",
       "  </thead>\n",
       "  <tbody>\n",
       "    <tr>\n",
       "      <th>0</th>\n",
       "      <td>1</td>\n",
       "      <td>Ace</td>\n",
       "    </tr>\n",
       "    <tr>\n",
       "      <th>1</th>\n",
       "      <td>2</td>\n",
       "      <td>Ace Book</td>\n",
       "    </tr>\n",
       "    <tr>\n",
       "      <th>2</th>\n",
       "      <td>3</td>\n",
       "      <td>Ace Books</td>\n",
       "    </tr>\n",
       "    <tr>\n",
       "      <th>3</th>\n",
       "      <td>4</td>\n",
       "      <td>Ace Hardcover</td>\n",
       "    </tr>\n",
       "    <tr>\n",
       "      <th>4</th>\n",
       "      <td>5</td>\n",
       "      <td>Addison Wesley Publishing Company</td>\n",
       "    </tr>\n",
       "  </tbody>\n",
       "</table>\n",
       "</div>"
      ],
      "text/plain": [
       "   publisher_id                          publisher\n",
       "0             1                                Ace\n",
       "1             2                           Ace Book\n",
       "2             3                          Ace Books\n",
       "3             4                      Ace Hardcover\n",
       "4             5  Addison Wesley Publishing Company"
      ]
     },
     "execution_count": 4,
     "metadata": {},
     "output_type": "execute_result"
    }
   ],
   "source": [
    "query = '''SELECT * FROM publishers LIMIT 5'''\n",
    "\n",
    "con=engine.connect()\n",
    "\n",
    "pd.io.sql.read_sql(sql=text(query), con = con)"
   ]
  },
  {
   "cell_type": "markdown",
   "metadata": {},
   "source": [
    "Выедем первые 5 строк из таблицы ratings:"
   ]
  },
  {
   "cell_type": "code",
   "execution_count": 5,
   "metadata": {},
   "outputs": [
    {
     "data": {
      "text/html": [
       "<div>\n",
       "<style scoped>\n",
       "    .dataframe tbody tr th:only-of-type {\n",
       "        vertical-align: middle;\n",
       "    }\n",
       "\n",
       "    .dataframe tbody tr th {\n",
       "        vertical-align: top;\n",
       "    }\n",
       "\n",
       "    .dataframe thead th {\n",
       "        text-align: right;\n",
       "    }\n",
       "</style>\n",
       "<table border=\"1\" class=\"dataframe\">\n",
       "  <thead>\n",
       "    <tr style=\"text-align: right;\">\n",
       "      <th></th>\n",
       "      <th>rating_id</th>\n",
       "      <th>book_id</th>\n",
       "      <th>username</th>\n",
       "      <th>rating</th>\n",
       "    </tr>\n",
       "  </thead>\n",
       "  <tbody>\n",
       "    <tr>\n",
       "      <th>0</th>\n",
       "      <td>1</td>\n",
       "      <td>1</td>\n",
       "      <td>ryanfranco</td>\n",
       "      <td>4</td>\n",
       "    </tr>\n",
       "    <tr>\n",
       "      <th>1</th>\n",
       "      <td>2</td>\n",
       "      <td>1</td>\n",
       "      <td>grantpatricia</td>\n",
       "      <td>2</td>\n",
       "    </tr>\n",
       "    <tr>\n",
       "      <th>2</th>\n",
       "      <td>3</td>\n",
       "      <td>1</td>\n",
       "      <td>brandtandrea</td>\n",
       "      <td>5</td>\n",
       "    </tr>\n",
       "    <tr>\n",
       "      <th>3</th>\n",
       "      <td>4</td>\n",
       "      <td>2</td>\n",
       "      <td>lorichen</td>\n",
       "      <td>3</td>\n",
       "    </tr>\n",
       "    <tr>\n",
       "      <th>4</th>\n",
       "      <td>5</td>\n",
       "      <td>2</td>\n",
       "      <td>mariokeller</td>\n",
       "      <td>2</td>\n",
       "    </tr>\n",
       "  </tbody>\n",
       "</table>\n",
       "</div>"
      ],
      "text/plain": [
       "   rating_id  book_id       username  rating\n",
       "0          1        1     ryanfranco       4\n",
       "1          2        1  grantpatricia       2\n",
       "2          3        1   brandtandrea       5\n",
       "3          4        2       lorichen       3\n",
       "4          5        2    mariokeller       2"
      ]
     },
     "execution_count": 5,
     "metadata": {},
     "output_type": "execute_result"
    }
   ],
   "source": [
    "query = '''SELECT * FROM ratings LIMIT 5'''\n",
    "\n",
    "con=engine.connect()\n",
    "\n",
    "pd.io.sql.read_sql(sql=text(query), con = con)"
   ]
  },
  {
   "cell_type": "markdown",
   "metadata": {},
   "source": [
    "Выедем первые 5 строк из таблицы reviews:"
   ]
  },
  {
   "cell_type": "code",
   "execution_count": 6,
   "metadata": {},
   "outputs": [
    {
     "data": {
      "text/html": [
       "<div>\n",
       "<style scoped>\n",
       "    .dataframe tbody tr th:only-of-type {\n",
       "        vertical-align: middle;\n",
       "    }\n",
       "\n",
       "    .dataframe tbody tr th {\n",
       "        vertical-align: top;\n",
       "    }\n",
       "\n",
       "    .dataframe thead th {\n",
       "        text-align: right;\n",
       "    }\n",
       "</style>\n",
       "<table border=\"1\" class=\"dataframe\">\n",
       "  <thead>\n",
       "    <tr style=\"text-align: right;\">\n",
       "      <th></th>\n",
       "      <th>review_id</th>\n",
       "      <th>book_id</th>\n",
       "      <th>username</th>\n",
       "      <th>text</th>\n",
       "    </tr>\n",
       "  </thead>\n",
       "  <tbody>\n",
       "    <tr>\n",
       "      <th>0</th>\n",
       "      <td>1</td>\n",
       "      <td>1</td>\n",
       "      <td>brandtandrea</td>\n",
       "      <td>Mention society tell send professor analysis. ...</td>\n",
       "    </tr>\n",
       "    <tr>\n",
       "      <th>1</th>\n",
       "      <td>2</td>\n",
       "      <td>1</td>\n",
       "      <td>ryanfranco</td>\n",
       "      <td>Foot glass pretty audience hit themselves. Amo...</td>\n",
       "    </tr>\n",
       "    <tr>\n",
       "      <th>2</th>\n",
       "      <td>3</td>\n",
       "      <td>2</td>\n",
       "      <td>lorichen</td>\n",
       "      <td>Listen treat keep worry. Miss husband tax but ...</td>\n",
       "    </tr>\n",
       "    <tr>\n",
       "      <th>3</th>\n",
       "      <td>4</td>\n",
       "      <td>3</td>\n",
       "      <td>johnsonamanda</td>\n",
       "      <td>Finally month interesting blue could nature cu...</td>\n",
       "    </tr>\n",
       "    <tr>\n",
       "      <th>4</th>\n",
       "      <td>5</td>\n",
       "      <td>3</td>\n",
       "      <td>scotttamara</td>\n",
       "      <td>Nation purpose heavy give wait song will. List...</td>\n",
       "    </tr>\n",
       "  </tbody>\n",
       "</table>\n",
       "</div>"
      ],
      "text/plain": [
       "   review_id  book_id       username  \\\n",
       "0          1        1   brandtandrea   \n",
       "1          2        1     ryanfranco   \n",
       "2          3        2       lorichen   \n",
       "3          4        3  johnsonamanda   \n",
       "4          5        3    scotttamara   \n",
       "\n",
       "                                                text  \n",
       "0  Mention society tell send professor analysis. ...  \n",
       "1  Foot glass pretty audience hit themselves. Amo...  \n",
       "2  Listen treat keep worry. Miss husband tax but ...  \n",
       "3  Finally month interesting blue could nature cu...  \n",
       "4  Nation purpose heavy give wait song will. List...  "
      ]
     },
     "execution_count": 6,
     "metadata": {},
     "output_type": "execute_result"
    }
   ],
   "source": [
    "query = '''SELECT * FROM reviews LIMIT 5'''\n",
    "\n",
    "con=engine.connect()\n",
    "\n",
    "pd.io.sql.read_sql(sql=text(query), con = con)"
   ]
  },
  {
   "cell_type": "markdown",
   "metadata": {},
   "source": [
    "**Задача № 1:** Посчитаем, сколько книг вышло после 1 января 2000 года:"
   ]
  },
  {
   "cell_type": "code",
   "execution_count": 8,
   "metadata": {},
   "outputs": [
    {
     "data": {
      "text/html": [
       "<div>\n",
       "<style scoped>\n",
       "    .dataframe tbody tr th:only-of-type {\n",
       "        vertical-align: middle;\n",
       "    }\n",
       "\n",
       "    .dataframe tbody tr th {\n",
       "        vertical-align: top;\n",
       "    }\n",
       "\n",
       "    .dataframe thead th {\n",
       "        text-align: right;\n",
       "    }\n",
       "</style>\n",
       "<table border=\"1\" class=\"dataframe\">\n",
       "  <thead>\n",
       "    <tr style=\"text-align: right;\">\n",
       "      <th></th>\n",
       "      <th>books_count</th>\n",
       "    </tr>\n",
       "  </thead>\n",
       "  <tbody>\n",
       "    <tr>\n",
       "      <th>0</th>\n",
       "      <td>819</td>\n",
       "    </tr>\n",
       "  </tbody>\n",
       "</table>\n",
       "</div>"
      ],
      "text/plain": [
       "   books_count\n",
       "0          819"
      ]
     },
     "execution_count": 8,
     "metadata": {},
     "output_type": "execute_result"
    }
   ],
   "source": [
    "query = '''\n",
    "SELECT  COUNT(book_id) AS books_count\n",
    "FROM books \n",
    "WHERE CAST(publication_date AS DATE) > CAST('2000-01-01' AS DATE)\n",
    "'''\n",
    "\n",
    "con=engine.connect()\n",
    "\n",
    "pd.io.sql.read_sql(sql=text(query), con = con)"
   ]
  },
  {
   "cell_type": "markdown",
   "metadata": {},
   "source": [
    "**Вывод:** После 1 января 2000 года вышло 819 книг."
   ]
  },
  {
   "cell_type": "markdown",
   "metadata": {},
   "source": [
    "**Задача № 2:** Для каждой книги посчитаем количество обзоров и среднюю оценку:"
   ]
  },
  {
   "cell_type": "code",
   "execution_count": 9,
   "metadata": {},
   "outputs": [
    {
     "data": {
      "text/html": [
       "<div>\n",
       "<style scoped>\n",
       "    .dataframe tbody tr th:only-of-type {\n",
       "        vertical-align: middle;\n",
       "    }\n",
       "\n",
       "    .dataframe tbody tr th {\n",
       "        vertical-align: top;\n",
       "    }\n",
       "\n",
       "    .dataframe thead th {\n",
       "        text-align: right;\n",
       "    }\n",
       "</style>\n",
       "<table border=\"1\" class=\"dataframe\">\n",
       "  <thead>\n",
       "    <tr style=\"text-align: right;\">\n",
       "      <th></th>\n",
       "      <th>book_id</th>\n",
       "      <th>title</th>\n",
       "      <th>avg_rat</th>\n",
       "      <th>rew_cont</th>\n",
       "    </tr>\n",
       "  </thead>\n",
       "  <tbody>\n",
       "    <tr>\n",
       "      <th>0</th>\n",
       "      <td>948</td>\n",
       "      <td>Twilight (Twilight  #1)</td>\n",
       "      <td>3.662500</td>\n",
       "      <td>7</td>\n",
       "    </tr>\n",
       "    <tr>\n",
       "      <th>1</th>\n",
       "      <td>302</td>\n",
       "      <td>Harry Potter and the Prisoner of Azkaban (Harr...</td>\n",
       "      <td>4.414634</td>\n",
       "      <td>6</td>\n",
       "    </tr>\n",
       "    <tr>\n",
       "      <th>2</th>\n",
       "      <td>299</td>\n",
       "      <td>Harry Potter and the Chamber of Secrets (Harry...</td>\n",
       "      <td>4.287500</td>\n",
       "      <td>6</td>\n",
       "    </tr>\n",
       "    <tr>\n",
       "      <th>3</th>\n",
       "      <td>656</td>\n",
       "      <td>The Book Thief</td>\n",
       "      <td>4.264151</td>\n",
       "      <td>6</td>\n",
       "    </tr>\n",
       "    <tr>\n",
       "      <th>4</th>\n",
       "      <td>734</td>\n",
       "      <td>The Glass Castle</td>\n",
       "      <td>4.206897</td>\n",
       "      <td>6</td>\n",
       "    </tr>\n",
       "    <tr>\n",
       "      <th>...</th>\n",
       "      <td>...</td>\n",
       "      <td>...</td>\n",
       "      <td>...</td>\n",
       "      <td>...</td>\n",
       "    </tr>\n",
       "    <tr>\n",
       "      <th>995</th>\n",
       "      <td>191</td>\n",
       "      <td>Disney's Beauty and the Beast (A Little Golden...</td>\n",
       "      <td>4.000000</td>\n",
       "      <td>0</td>\n",
       "    </tr>\n",
       "    <tr>\n",
       "      <th>996</th>\n",
       "      <td>387</td>\n",
       "      <td>Leonardo's Notebooks</td>\n",
       "      <td>4.000000</td>\n",
       "      <td>0</td>\n",
       "    </tr>\n",
       "    <tr>\n",
       "      <th>997</th>\n",
       "      <td>221</td>\n",
       "      <td>Essential Tales and Poems</td>\n",
       "      <td>4.000000</td>\n",
       "      <td>0</td>\n",
       "    </tr>\n",
       "    <tr>\n",
       "      <th>998</th>\n",
       "      <td>83</td>\n",
       "      <td>Anne Rice's The Vampire Lestat: A Graphic Novel</td>\n",
       "      <td>3.666667</td>\n",
       "      <td>0</td>\n",
       "    </tr>\n",
       "    <tr>\n",
       "      <th>999</th>\n",
       "      <td>808</td>\n",
       "      <td>The Natural Way to Draw</td>\n",
       "      <td>3.000000</td>\n",
       "      <td>0</td>\n",
       "    </tr>\n",
       "  </tbody>\n",
       "</table>\n",
       "<p>1000 rows × 4 columns</p>\n",
       "</div>"
      ],
      "text/plain": [
       "     book_id                                              title   avg_rat  \\\n",
       "0        948                            Twilight (Twilight  #1)  3.662500   \n",
       "1        302  Harry Potter and the Prisoner of Azkaban (Harr...  4.414634   \n",
       "2        299  Harry Potter and the Chamber of Secrets (Harry...  4.287500   \n",
       "3        656                                     The Book Thief  4.264151   \n",
       "4        734                                   The Glass Castle  4.206897   \n",
       "..       ...                                                ...       ...   \n",
       "995      191  Disney's Beauty and the Beast (A Little Golden...  4.000000   \n",
       "996      387                               Leonardo's Notebooks  4.000000   \n",
       "997      221                          Essential Tales and Poems  4.000000   \n",
       "998       83    Anne Rice's The Vampire Lestat: A Graphic Novel  3.666667   \n",
       "999      808                            The Natural Way to Draw  3.000000   \n",
       "\n",
       "     rew_cont  \n",
       "0           7  \n",
       "1           6  \n",
       "2           6  \n",
       "3           6  \n",
       "4           6  \n",
       "..        ...  \n",
       "995         0  \n",
       "996         0  \n",
       "997         0  \n",
       "998         0  \n",
       "999         0  \n",
       "\n",
       "[1000 rows x 4 columns]"
      ]
     },
     "execution_count": 9,
     "metadata": {},
     "output_type": "execute_result"
    }
   ],
   "source": [
    "query = '''\n",
    "SELECT  b.book_id,\n",
    "        b.title,\n",
    "        AVG(rating) AS avg_rat,\n",
    "        COUNT(DISTINCT(review_id)) AS rew_cont\n",
    "FROM books AS b\n",
    "LEFT JOIN ratings AS rt ON rt.book_id = b.book_id\n",
    "LEFT JOIN reviews AS rw ON b.book_id = rw.book_id\n",
    "GROUP BY b.book_id\n",
    "ORDER BY rew_cont DESC, avg_rat DESC\n",
    "\n",
    "'''\n",
    "\n",
    "con=engine.connect()\n",
    "\n",
    "pd.io.sql.read_sql(sql=text(query), con = con)"
   ]
  },
  {
   "cell_type": "markdown",
   "metadata": {},
   "source": [
    "**Вывод:** Больше всего обзоров написано на книгу \"Twilight\" (\"Сумерки\") - 7 штук."
   ]
  },
  {
   "cell_type": "markdown",
   "metadata": {},
   "source": [
    "**Задача № 3:** Определим издательство, которое выпустило наибольшее число книг толще 50 страниц — так мы исключим из анализа брошюры:"
   ]
  },
  {
   "cell_type": "code",
   "execution_count": 10,
   "metadata": {},
   "outputs": [
    {
     "data": {
      "text/html": [
       "<div>\n",
       "<style scoped>\n",
       "    .dataframe tbody tr th:only-of-type {\n",
       "        vertical-align: middle;\n",
       "    }\n",
       "\n",
       "    .dataframe tbody tr th {\n",
       "        vertical-align: top;\n",
       "    }\n",
       "\n",
       "    .dataframe thead th {\n",
       "        text-align: right;\n",
       "    }\n",
       "</style>\n",
       "<table border=\"1\" class=\"dataframe\">\n",
       "  <thead>\n",
       "    <tr style=\"text-align: right;\">\n",
       "      <th></th>\n",
       "      <th>publisher_id</th>\n",
       "      <th>publisher</th>\n",
       "      <th>count</th>\n",
       "    </tr>\n",
       "  </thead>\n",
       "  <tbody>\n",
       "    <tr>\n",
       "      <th>0</th>\n",
       "      <td>212</td>\n",
       "      <td>Penguin Books</td>\n",
       "      <td>42</td>\n",
       "    </tr>\n",
       "  </tbody>\n",
       "</table>\n",
       "</div>"
      ],
      "text/plain": [
       "   publisher_id      publisher  count\n",
       "0           212  Penguin Books     42"
      ]
     },
     "execution_count": 10,
     "metadata": {},
     "output_type": "execute_result"
    }
   ],
   "source": [
    "query = '''\n",
    "SELECT p.publisher_id,\n",
    "       p.publisher,\n",
    "       COUNT(distinct(b.book_id))\n",
    "FROM books AS b\n",
    "LEFT JOIN publishers AS p ON p.publisher_id = b.publisher_id\n",
    "WHERE num_pages > 50\n",
    "GROUP BY p.publisher_id\n",
    "ORDER BY COUNT(distinct(b.book_id)) DESC\n",
    "LIMIT 1\n",
    "'''\n",
    "\n",
    "con=engine.connect()\n",
    "\n",
    "pd.io.sql.read_sql(sql=text(query), con = con)"
   ]
  },
  {
   "cell_type": "markdown",
   "metadata": {},
   "source": [
    "**Вывод:** Наибольшее число книг, толще 50 страниц, выпустило издательство \"Penguin Books\" - 42 шт."
   ]
  },
  {
   "cell_type": "markdown",
   "metadata": {},
   "source": [
    "**Задача № 4:** Определим автора с самой высокой средней оценкой книг — учитывая только книги с 50 и более оценками:"
   ]
  },
  {
   "cell_type": "code",
   "execution_count": 11,
   "metadata": {},
   "outputs": [
    {
     "data": {
      "text/html": [
       "<div>\n",
       "<style scoped>\n",
       "    .dataframe tbody tr th:only-of-type {\n",
       "        vertical-align: middle;\n",
       "    }\n",
       "\n",
       "    .dataframe tbody tr th {\n",
       "        vertical-align: top;\n",
       "    }\n",
       "\n",
       "    .dataframe thead th {\n",
       "        text-align: right;\n",
       "    }\n",
       "</style>\n",
       "<table border=\"1\" class=\"dataframe\">\n",
       "  <thead>\n",
       "    <tr style=\"text-align: right;\">\n",
       "      <th></th>\n",
       "      <th>author</th>\n",
       "      <th>avg</th>\n",
       "      <th>count</th>\n",
       "    </tr>\n",
       "  </thead>\n",
       "  <tbody>\n",
       "    <tr>\n",
       "      <th>0</th>\n",
       "      <td>J.K. Rowling/Mary GrandPré</td>\n",
       "      <td>4.287097</td>\n",
       "      <td>310</td>\n",
       "    </tr>\n",
       "  </tbody>\n",
       "</table>\n",
       "</div>"
      ],
      "text/plain": [
       "                       author       avg  count\n",
       "0  J.K. Rowling/Mary GrandPré  4.287097    310"
      ]
     },
     "execution_count": 11,
     "metadata": {},
     "output_type": "execute_result"
    }
   ],
   "source": [
    "query = '''\n",
    "SELECT  a.author,\n",
    "        AVG(r.rating),\n",
    "        COUNT(r.rating_id)\n",
    "FROM books AS b\n",
    "LEFT JOIN authors AS a ON a.author_id = b.author_id\n",
    "LEFT JOIN ratings AS r ON r.book_id = b.book_id\n",
    "WHERE b.book_id IN (\n",
    "    SELECT book_id\n",
    "    FROM ratings\n",
    "    GROUP BY book_id\n",
    "    HAVING COUNT(book_id) > 50 \n",
    "    )\n",
    "GROUP BY a.author\n",
    "ORDER BY AVG(r.rating) DESC\n",
    "LIMIT 1\n",
    "'''\n",
    "\n",
    "con=engine.connect()\n",
    "\n",
    "pd.io.sql.read_sql(sql=text(query), con = con)"
   ]
  },
  {
   "cell_type": "markdown",
   "metadata": {},
   "source": [
    "**Вывод:** Автор с самой высокой средней оценкой книг - J.K. Rowling/Mary GrandPré (среди книг имеющих более 50 оценок)"
   ]
  },
  {
   "cell_type": "markdown",
   "metadata": {},
   "source": [
    "**Задача № 5:** Посчитаем среднее количество обзоров от пользователей, которые поставили больше 48 оценок:"
   ]
  },
  {
   "cell_type": "code",
   "execution_count": 12,
   "metadata": {},
   "outputs": [
    {
     "data": {
      "text/html": [
       "<div>\n",
       "<style scoped>\n",
       "    .dataframe tbody tr th:only-of-type {\n",
       "        vertical-align: middle;\n",
       "    }\n",
       "\n",
       "    .dataframe tbody tr th {\n",
       "        vertical-align: top;\n",
       "    }\n",
       "\n",
       "    .dataframe thead th {\n",
       "        text-align: right;\n",
       "    }\n",
       "</style>\n",
       "<table border=\"1\" class=\"dataframe\">\n",
       "  <thead>\n",
       "    <tr style=\"text-align: right;\">\n",
       "      <th></th>\n",
       "      <th>avg_count</th>\n",
       "    </tr>\n",
       "  </thead>\n",
       "  <tbody>\n",
       "    <tr>\n",
       "      <th>0</th>\n",
       "      <td>24.0</td>\n",
       "    </tr>\n",
       "  </tbody>\n",
       "</table>\n",
       "</div>"
      ],
      "text/plain": [
       "   avg_count\n",
       "0       24.0"
      ]
     },
     "execution_count": 12,
     "metadata": {},
     "output_type": "execute_result"
    }
   ],
   "source": [
    "query = '''\n",
    "WITH \n",
    "rw AS (SELECT  username,\n",
    "        COUNT(review_id) AS cont\n",
    "    FROM reviews\n",
    "    GROUP BY username\n",
    "    ORDER BY cont DESC),\n",
    "\n",
    "rt AS (SELECT  username\n",
    "    FROM ratings \n",
    "    GROUP BY username\n",
    "    HAVING COUNT(rating_id) > 48)\n",
    "\n",
    "SELECT AVG(rw.cont) AS avg_count\n",
    "FROM rt LEFT OUTER JOIN rw ON rt.username=rw.username\n",
    "\n",
    "'''\n",
    "\n",
    "con=engine.connect()\n",
    "\n",
    "pd.io.sql.read_sql(sql=text(query), con = con)"
   ]
  },
  {
   "cell_type": "markdown",
   "metadata": {},
   "source": [
    "**Вывод:**  Среднее количество обзоров от пользователей, которые поставили больше 48 оценок - 24."
   ]
  },
  {
   "cell_type": "markdown",
   "metadata": {},
   "source": [
    "**ОБЩИЙ ВЫВОД:** \n",
    "\n",
    "Нами была проанализирована база данных с информацией о книгах, издательствах, авторах, а также пользовательских обзоры книг:\n",
    "- Выведены для ознакомления первые 5 строк каждой таблицы.\n",
    "- Посчитано сколько книг выпущено после 1 января 2000 года - 819 книг.\n",
    "- Найдена книга с самым большим количеством обзоров  - \"Twilight\" (\"Сумерки\") - 7 штук.\n",
    "- Определино издательство, которое выпустило наибольшее число книг за исключением брошюр - \"Penguin Books\" - 42 шт.\n",
    "- Определен автор с самой высокой средней оценкой книг - J.K. Rowling/Mary GrandPré (среди книг имеющих более 50 оценок).\n",
    "- Посчитано среднее количество обзоров от пользователей, которые поставили больше 48 оценок - 24 обзора."
   ]
  }
 ],
 "metadata": {
  "ExecuteTimeLog": [
   {
    "duration": 9646,
    "start_time": "2023-07-24T17:04:46.367Z"
   },
   {
    "duration": 73,
    "start_time": "2023-07-24T17:08:11.506Z"
   },
   {
    "duration": 63,
    "start_time": "2023-07-24T17:08:34.876Z"
   },
   {
    "duration": 4,
    "start_time": "2023-07-24T17:08:42.989Z"
   },
   {
    "duration": 3,
    "start_time": "2023-07-24T17:09:01.974Z"
   },
   {
    "duration": 3,
    "start_time": "2023-07-24T17:09:10.305Z"
   },
   {
    "duration": 63,
    "start_time": "2023-07-24T17:09:27.036Z"
   },
   {
    "duration": 14,
    "start_time": "2023-07-24T17:09:34.804Z"
   },
   {
    "duration": 59,
    "start_time": "2023-07-24T17:09:48.938Z"
   },
   {
    "duration": 81,
    "start_time": "2023-07-24T17:10:39.177Z"
   },
   {
    "duration": 21,
    "start_time": "2023-07-24T17:10:49.848Z"
   },
   {
    "duration": 116,
    "start_time": "2023-07-24T17:11:36.456Z"
   },
   {
    "duration": 29,
    "start_time": "2023-07-24T17:14:19.042Z"
   },
   {
    "duration": 78,
    "start_time": "2023-07-24T17:16:07.447Z"
   },
   {
    "duration": 91,
    "start_time": "2023-07-24T17:17:30.584Z"
   },
   {
    "duration": 176,
    "start_time": "2023-07-24T17:18:14.416Z"
   },
   {
    "duration": 68,
    "start_time": "2023-07-24T17:21:17.714Z"
   },
   {
    "duration": 83,
    "start_time": "2023-07-24T17:21:30.162Z"
   },
   {
    "duration": 78,
    "start_time": "2023-07-24T17:21:41.057Z"
   },
   {
    "duration": 131,
    "start_time": "2023-07-24T17:22:04.043Z"
   },
   {
    "duration": 80,
    "start_time": "2023-07-24T17:22:24.914Z"
   },
   {
    "duration": 5,
    "start_time": "2023-07-24T17:27:19.672Z"
   },
   {
    "duration": 43,
    "start_time": "2023-07-24T17:27:49.439Z"
   },
   {
    "duration": 78,
    "start_time": "2023-07-24T17:28:49.352Z"
   },
   {
    "duration": 12,
    "start_time": "2023-07-24T17:29:43.828Z"
   },
   {
    "duration": 13,
    "start_time": "2023-07-24T17:30:32.060Z"
   },
   {
    "duration": 12,
    "start_time": "2023-07-24T17:31:21.012Z"
   },
   {
    "duration": 441,
    "start_time": "2023-07-24T17:35:07.304Z"
   },
   {
    "duration": 23,
    "start_time": "2023-07-24T17:36:16.642Z"
   },
   {
    "duration": 11,
    "start_time": "2023-07-24T17:36:52.287Z"
   },
   {
    "duration": 10,
    "start_time": "2023-07-24T17:37:52.942Z"
   },
   {
    "duration": 11,
    "start_time": "2023-07-24T17:38:44.329Z"
   },
   {
    "duration": 55,
    "start_time": "2023-07-25T12:20:25.001Z"
   },
   {
    "duration": 9557,
    "start_time": "2023-07-25T12:20:33.437Z"
   },
   {
    "duration": 49,
    "start_time": "2023-07-25T12:20:42.996Z"
   },
   {
    "duration": 29,
    "start_time": "2023-07-25T12:20:43.047Z"
   },
   {
    "duration": 11,
    "start_time": "2023-07-25T12:20:43.079Z"
   },
   {
    "duration": 13,
    "start_time": "2023-07-25T12:20:43.092Z"
   },
   {
    "duration": 12,
    "start_time": "2023-07-25T12:20:43.107Z"
   },
   {
    "duration": 12,
    "start_time": "2023-07-25T12:20:43.121Z"
   },
   {
    "duration": 95,
    "start_time": "2023-07-25T12:20:54.840Z"
   },
   {
    "duration": 14,
    "start_time": "2023-07-25T12:21:09.809Z"
   },
   {
    "duration": 84,
    "start_time": "2023-07-25T12:25:34.470Z"
   },
   {
    "duration": 21,
    "start_time": "2023-07-25T12:26:15.510Z"
   },
   {
    "duration": 23,
    "start_time": "2023-07-25T12:26:40.520Z"
   },
   {
    "duration": 76,
    "start_time": "2023-07-25T12:26:44.130Z"
   },
   {
    "duration": 75,
    "start_time": "2023-07-25T12:27:49.105Z"
   },
   {
    "duration": 82,
    "start_time": "2023-07-25T12:28:23.989Z"
   },
   {
    "duration": 28,
    "start_time": "2023-07-25T12:29:11.822Z"
   },
   {
    "duration": 46,
    "start_time": "2023-07-25T12:29:58.792Z"
   },
   {
    "duration": 21,
    "start_time": "2023-07-25T12:31:27.792Z"
   },
   {
    "duration": 20,
    "start_time": "2023-07-25T12:31:39.116Z"
   },
   {
    "duration": 219,
    "start_time": "2023-07-25T12:32:16.758Z"
   },
   {
    "duration": 17,
    "start_time": "2023-07-25T12:33:14.351Z"
   },
   {
    "duration": 27,
    "start_time": "2023-07-25T12:37:02.016Z"
   },
   {
    "duration": 21,
    "start_time": "2023-07-25T12:37:13.107Z"
   },
   {
    "duration": 17,
    "start_time": "2023-07-25T12:37:41.779Z"
   },
   {
    "duration": 21,
    "start_time": "2023-07-25T12:38:09.199Z"
   },
   {
    "duration": 19,
    "start_time": "2023-07-25T12:38:20.530Z"
   },
   {
    "duration": 20,
    "start_time": "2023-07-25T12:38:30.445Z"
   },
   {
    "duration": 22,
    "start_time": "2023-07-25T12:38:45.728Z"
   },
   {
    "duration": 64,
    "start_time": "2023-07-25T12:39:02.232Z"
   },
   {
    "duration": 57,
    "start_time": "2023-07-25T12:40:23.136Z"
   },
   {
    "duration": 22,
    "start_time": "2023-07-25T12:40:32.731Z"
   },
   {
    "duration": 21,
    "start_time": "2023-07-25T12:40:47.906Z"
   },
   {
    "duration": 21,
    "start_time": "2023-07-25T12:41:10.790Z"
   },
   {
    "duration": 21,
    "start_time": "2023-07-25T12:41:22.306Z"
   },
   {
    "duration": 66,
    "start_time": "2023-07-25T12:41:50.102Z"
   },
   {
    "duration": 59,
    "start_time": "2023-07-25T12:44:17.206Z"
   },
   {
    "duration": 21,
    "start_time": "2023-07-25T12:44:34.038Z"
   },
   {
    "duration": 31,
    "start_time": "2023-07-25T12:44:43.632Z"
   },
   {
    "duration": 20,
    "start_time": "2023-07-25T12:46:09.534Z"
   },
   {
    "duration": 22,
    "start_time": "2023-07-25T12:46:31.746Z"
   },
   {
    "duration": 20,
    "start_time": "2023-07-25T12:46:38.936Z"
   },
   {
    "duration": 26,
    "start_time": "2023-07-25T12:46:48.394Z"
   },
   {
    "duration": 28,
    "start_time": "2023-07-25T12:46:58.206Z"
   },
   {
    "duration": 26,
    "start_time": "2023-07-25T12:47:12.685Z"
   },
   {
    "duration": 34,
    "start_time": "2023-07-25T12:47:59.612Z"
   },
   {
    "duration": 28,
    "start_time": "2023-07-25T12:48:29.247Z"
   },
   {
    "duration": 30,
    "start_time": "2023-07-25T12:48:40.533Z"
   },
   {
    "duration": 29,
    "start_time": "2023-07-25T12:48:47.501Z"
   },
   {
    "duration": 30,
    "start_time": "2023-07-25T12:48:57.510Z"
   },
   {
    "duration": 24,
    "start_time": "2023-07-25T12:49:37.637Z"
   },
   {
    "duration": 24,
    "start_time": "2023-07-25T12:54:45.161Z"
   },
   {
    "duration": 24,
    "start_time": "2023-07-25T12:55:05.265Z"
   },
   {
    "duration": 36,
    "start_time": "2023-07-25T12:55:19.009Z"
   },
   {
    "duration": 33,
    "start_time": "2023-07-25T12:56:54.339Z"
   },
   {
    "duration": 24,
    "start_time": "2023-07-25T12:57:10.346Z"
   },
   {
    "duration": 51,
    "start_time": "2023-07-25T12:57:23.613Z"
   },
   {
    "duration": 51,
    "start_time": "2023-07-25T12:58:55.774Z"
   },
   {
    "duration": 30,
    "start_time": "2023-07-25T13:01:37.442Z"
   },
   {
    "duration": 30,
    "start_time": "2023-07-25T13:02:21.946Z"
   },
   {
    "duration": 23,
    "start_time": "2023-07-25T13:07:47.038Z"
   },
   {
    "duration": 1752,
    "start_time": "2023-07-25T13:08:14.215Z"
   },
   {
    "duration": 1808,
    "start_time": "2023-07-25T13:09:21.831Z"
   },
   {
    "duration": 61,
    "start_time": "2023-07-25T13:13:50.011Z"
   },
   {
    "duration": 21,
    "start_time": "2023-07-25T13:14:18.047Z"
   },
   {
    "duration": 39,
    "start_time": "2023-07-25T13:14:40.021Z"
   },
   {
    "duration": 21,
    "start_time": "2023-07-25T13:15:24.664Z"
   },
   {
    "duration": 21,
    "start_time": "2023-07-25T13:15:40.940Z"
   },
   {
    "duration": 48,
    "start_time": "2023-07-25T13:15:47.612Z"
   },
   {
    "duration": 1618,
    "start_time": "2023-07-25T13:15:57.441Z"
   },
   {
    "duration": 49,
    "start_time": "2023-07-25T13:16:22.708Z"
   },
   {
    "duration": 29,
    "start_time": "2023-07-25T13:16:36.030Z"
   },
   {
    "duration": 21,
    "start_time": "2023-07-25T13:16:50.450Z"
   },
   {
    "duration": 434,
    "start_time": "2023-07-25T13:17:08.052Z"
   },
   {
    "duration": 1712,
    "start_time": "2023-07-25T13:17:14.554Z"
   },
   {
    "duration": 664,
    "start_time": "2023-07-25T13:18:22.466Z"
   },
   {
    "duration": 811,
    "start_time": "2023-07-25T13:18:38.466Z"
   },
   {
    "duration": 47,
    "start_time": "2023-07-25T13:19:09.012Z"
   },
   {
    "duration": 68,
    "start_time": "2023-07-25T13:19:35.199Z"
   },
   {
    "duration": 89,
    "start_time": "2023-07-25T13:20:04.619Z"
   },
   {
    "duration": 201,
    "start_time": "2023-07-25T13:20:27.601Z"
   },
   {
    "duration": 23,
    "start_time": "2023-07-25T13:20:51.533Z"
   },
   {
    "duration": 195,
    "start_time": "2023-07-25T13:21:03.203Z"
   },
   {
    "duration": 206,
    "start_time": "2023-07-25T13:21:28.362Z"
   },
   {
    "duration": 201,
    "start_time": "2023-07-25T13:21:37.447Z"
   },
   {
    "duration": 32,
    "start_time": "2023-07-25T13:24:35.615Z"
   },
   {
    "duration": 22,
    "start_time": "2023-07-25T13:25:05.138Z"
   },
   {
    "duration": 1817,
    "start_time": "2023-07-25T13:25:12.845Z"
   },
   {
    "duration": 194,
    "start_time": "2023-07-25T13:26:07.245Z"
   },
   {
    "duration": 69,
    "start_time": "2023-07-25T13:27:21.587Z"
   },
   {
    "duration": 21,
    "start_time": "2023-07-25T13:28:41.465Z"
   },
   {
    "duration": 22,
    "start_time": "2023-07-25T13:28:57.436Z"
   },
   {
    "duration": 37,
    "start_time": "2023-07-25T13:29:24.504Z"
   },
   {
    "duration": 88,
    "start_time": "2023-07-25T13:29:43.016Z"
   },
   {
    "duration": 234,
    "start_time": "2023-07-25T13:32:04.611Z"
   },
   {
    "duration": 2011,
    "start_time": "2023-07-25T13:32:53.851Z"
   },
   {
    "duration": 57,
    "start_time": "2023-07-25T14:59:28.445Z"
   },
   {
    "duration": 16762,
    "start_time": "2023-07-25T14:59:37.709Z"
   },
   {
    "duration": 214,
    "start_time": "2023-07-25T14:59:54.473Z"
   },
   {
    "duration": 139,
    "start_time": "2023-07-25T14:59:54.689Z"
   },
   {
    "duration": 50,
    "start_time": "2023-07-25T14:59:54.830Z"
   },
   {
    "duration": 50,
    "start_time": "2023-07-25T14:59:54.883Z"
   },
   {
    "duration": 51,
    "start_time": "2023-07-25T14:59:54.936Z"
   },
   {
    "duration": 49,
    "start_time": "2023-07-25T14:59:54.989Z"
   },
   {
    "duration": 88,
    "start_time": "2023-07-25T14:59:55.040Z"
   },
   {
    "duration": 224,
    "start_time": "2023-07-25T14:59:55.130Z"
   },
   {
    "duration": 82,
    "start_time": "2023-07-25T14:59:55.355Z"
   },
   {
    "duration": 56,
    "start_time": "2023-07-25T15:00:05.671Z"
   },
   {
    "duration": 56,
    "start_time": "2023-07-25T15:00:30.922Z"
   },
   {
    "duration": 55,
    "start_time": "2023-07-25T15:00:38.057Z"
   },
   {
    "duration": 56,
    "start_time": "2023-07-25T15:01:06.218Z"
   },
   {
    "duration": 102,
    "start_time": "2023-07-25T15:06:04.330Z"
   },
   {
    "duration": 166,
    "start_time": "2023-07-25T15:07:24.622Z"
   },
   {
    "duration": 111,
    "start_time": "2023-07-25T15:10:15.950Z"
   },
   {
    "duration": 141,
    "start_time": "2023-07-25T15:11:20.407Z"
   },
   {
    "duration": 58,
    "start_time": "2023-07-25T15:11:54.738Z"
   },
   {
    "duration": 137,
    "start_time": "2023-07-25T15:12:26.040Z"
   },
   {
    "duration": 138,
    "start_time": "2023-07-25T15:12:41.730Z"
   },
   {
    "duration": 189,
    "start_time": "2023-07-25T15:13:00.419Z"
   },
   {
    "duration": 80,
    "start_time": "2023-07-25T15:14:03.346Z"
   },
   {
    "duration": 82,
    "start_time": "2023-07-25T15:14:09.745Z"
   },
   {
    "duration": 190,
    "start_time": "2023-07-25T15:14:47.563Z"
   },
   {
    "duration": 147,
    "start_time": "2023-07-25T15:14:58.195Z"
   },
   {
    "duration": 82,
    "start_time": "2023-07-25T15:16:41.661Z"
   },
   {
    "duration": 60,
    "start_time": "2023-07-25T15:17:05.906Z"
   },
   {
    "duration": 75,
    "start_time": "2023-07-25T15:17:31.666Z"
   },
   {
    "duration": 77,
    "start_time": "2023-07-25T15:18:01.436Z"
   },
   {
    "duration": 68,
    "start_time": "2023-07-25T15:18:40.513Z"
   },
   {
    "duration": 191,
    "start_time": "2023-07-25T15:19:08.641Z"
   },
   {
    "duration": 88,
    "start_time": "2023-07-25T15:19:21.014Z"
   },
   {
    "duration": 91,
    "start_time": "2023-07-25T15:19:28.018Z"
   },
   {
    "duration": 94,
    "start_time": "2023-07-25T15:19:56.139Z"
   },
   {
    "duration": 76,
    "start_time": "2023-07-25T15:20:10.033Z"
   },
   {
    "duration": 56,
    "start_time": "2023-07-25T15:20:35.504Z"
   },
   {
    "duration": 96,
    "start_time": "2023-07-25T15:20:57.351Z"
   },
   {
    "duration": 77,
    "start_time": "2023-07-25T15:21:15.411Z"
   },
   {
    "duration": 46,
    "start_time": "2023-07-25T15:24:10.935Z"
   },
   {
    "duration": 143,
    "start_time": "2023-07-25T15:25:13.256Z"
   },
   {
    "duration": 60,
    "start_time": "2023-07-25T15:25:39.168Z"
   },
   {
    "duration": 76,
    "start_time": "2023-07-25T15:26:07.526Z"
   },
   {
    "duration": 51,
    "start_time": "2023-07-25T15:26:34.615Z"
   },
   {
    "duration": 60,
    "start_time": "2023-07-25T15:27:04.123Z"
   },
   {
    "duration": 61,
    "start_time": "2023-07-25T15:29:01.696Z"
   },
   {
    "duration": 64,
    "start_time": "2023-07-25T15:30:34.895Z"
   },
   {
    "duration": 100,
    "start_time": "2023-07-25T15:37:03.631Z"
   },
   {
    "duration": 70,
    "start_time": "2023-07-25T15:37:12.747Z"
   },
   {
    "duration": 75,
    "start_time": "2023-07-25T15:39:45.202Z"
   },
   {
    "duration": 72,
    "start_time": "2023-07-25T15:39:57.499Z"
   },
   {
    "duration": 54,
    "start_time": "2023-07-25T15:41:00.598Z"
   },
   {
    "duration": 58,
    "start_time": "2023-07-25T15:41:36.902Z"
   },
   {
    "duration": 58,
    "start_time": "2023-07-25T15:42:32.129Z"
   },
   {
    "duration": 62,
    "start_time": "2023-07-25T15:42:43.243Z"
   },
   {
    "duration": 60,
    "start_time": "2023-07-25T15:43:24.300Z"
   },
   {
    "duration": 59,
    "start_time": "2023-07-25T15:44:30.418Z"
   },
   {
    "duration": 57,
    "start_time": "2023-07-25T15:44:44.237Z"
   },
   {
    "duration": 60,
    "start_time": "2023-07-25T15:45:37.130Z"
   },
   {
    "duration": 60,
    "start_time": "2023-07-25T15:45:56.728Z"
   },
   {
    "duration": 17629,
    "start_time": "2023-07-25T15:47:28.836Z"
   },
   {
    "duration": 258,
    "start_time": "2023-07-25T15:47:46.469Z"
   },
   {
    "duration": 133,
    "start_time": "2023-07-25T15:47:46.729Z"
   },
   {
    "duration": 54,
    "start_time": "2023-07-25T15:47:46.864Z"
   },
   {
    "duration": 55,
    "start_time": "2023-07-25T15:47:46.920Z"
   },
   {
    "duration": 73,
    "start_time": "2023-07-25T15:47:46.977Z"
   },
   {
    "duration": 54,
    "start_time": "2023-07-25T15:47:47.052Z"
   },
   {
    "duration": 92,
    "start_time": "2023-07-25T15:47:47.107Z"
   },
   {
    "duration": 55,
    "start_time": "2023-07-25T15:47:47.201Z"
   },
   {
    "duration": 61,
    "start_time": "2023-07-25T15:47:47.258Z"
   },
   {
    "duration": 136,
    "start_time": "2023-07-25T15:47:47.321Z"
   },
   {
    "duration": 79,
    "start_time": "2023-07-25T15:47:47.458Z"
   },
   {
    "duration": 58,
    "start_time": "2023-07-25T15:48:35.302Z"
   },
   {
    "duration": 170,
    "start_time": "2023-07-25T15:50:15.079Z"
   },
   {
    "duration": 49,
    "start_time": "2023-07-25T15:50:37.852Z"
   },
   {
    "duration": 157,
    "start_time": "2023-07-25T15:51:34.098Z"
   },
   {
    "duration": 137,
    "start_time": "2023-07-25T15:57:07.015Z"
   },
   {
    "duration": 302,
    "start_time": "2023-07-25T16:00:51.925Z"
   },
   {
    "duration": 106,
    "start_time": "2023-07-25T16:15:03.949Z"
   },
   {
    "duration": 126,
    "start_time": "2023-07-25T16:15:08.161Z"
   },
   {
    "duration": 57,
    "start_time": "2023-07-25T16:16:22.049Z"
   },
   {
    "duration": 66,
    "start_time": "2023-07-25T16:16:34.501Z"
   },
   {
    "duration": 58,
    "start_time": "2023-07-25T16:17:17.696Z"
   },
   {
    "duration": 57,
    "start_time": "2023-07-25T16:17:49.632Z"
   },
   {
    "duration": 59,
    "start_time": "2023-07-25T16:21:25.596Z"
   },
   {
    "duration": 116,
    "start_time": "2023-07-25T16:23:28.727Z"
   },
   {
    "duration": 57,
    "start_time": "2023-07-25T16:24:26.031Z"
   },
   {
    "duration": 57,
    "start_time": "2023-07-25T16:24:59.157Z"
   },
   {
    "duration": 56,
    "start_time": "2023-07-25T16:25:27.829Z"
   },
   {
    "duration": 76,
    "start_time": "2023-07-25T16:26:03.320Z"
   },
   {
    "duration": 47,
    "start_time": "2023-07-25T16:26:14.092Z"
   },
   {
    "duration": 168,
    "start_time": "2023-07-25T16:34:04.360Z"
   },
   {
    "duration": 75,
    "start_time": "2023-07-25T16:34:19.008Z"
   },
   {
    "duration": 177,
    "start_time": "2023-07-25T16:34:58.300Z"
   },
   {
    "duration": 149,
    "start_time": "2023-07-25T16:35:54.623Z"
   },
   {
    "duration": 57,
    "start_time": "2023-07-25T16:36:28.420Z"
   },
   {
    "duration": 58,
    "start_time": "2023-07-25T16:38:31.134Z"
   },
   {
    "duration": 57,
    "start_time": "2023-07-25T16:38:37.204Z"
   },
   {
    "duration": 19553,
    "start_time": "2023-07-25T16:48:05.803Z"
   },
   {
    "duration": 274,
    "start_time": "2023-07-25T16:48:25.358Z"
   },
   {
    "duration": 125,
    "start_time": "2023-07-25T16:48:25.634Z"
   },
   {
    "duration": 55,
    "start_time": "2023-07-25T16:48:25.761Z"
   },
   {
    "duration": 59,
    "start_time": "2023-07-25T16:48:25.818Z"
   },
   {
    "duration": 56,
    "start_time": "2023-07-25T16:48:25.880Z"
   },
   {
    "duration": 54,
    "start_time": "2023-07-25T16:48:25.938Z"
   },
   {
    "duration": 96,
    "start_time": "2023-07-25T16:48:25.994Z"
   },
   {
    "duration": 58,
    "start_time": "2023-07-25T16:48:26.092Z"
   },
   {
    "duration": 58,
    "start_time": "2023-07-25T16:48:26.152Z"
   },
   {
    "duration": 62,
    "start_time": "2023-07-25T16:48:26.212Z"
   },
   {
    "duration": 110404,
    "start_time": "2023-07-26T08:58:50.104Z"
   },
   {
    "duration": 260,
    "start_time": "2023-07-26T09:00:40.510Z"
   },
   {
    "duration": 125,
    "start_time": "2023-07-26T09:00:40.772Z"
   },
   {
    "duration": 55,
    "start_time": "2023-07-26T09:00:40.899Z"
   },
   {
    "duration": 57,
    "start_time": "2023-07-26T09:00:40.957Z"
   },
   {
    "duration": 56,
    "start_time": "2023-07-26T09:00:41.016Z"
   },
   {
    "duration": 177,
    "start_time": "2023-07-26T09:00:41.075Z"
   },
   {
    "duration": 56,
    "start_time": "2023-07-26T09:00:41.254Z"
   },
   {
    "duration": 95,
    "start_time": "2023-07-26T09:00:41.312Z"
   },
   {
    "duration": 58,
    "start_time": "2023-07-26T09:00:41.409Z"
   },
   {
    "duration": 61,
    "start_time": "2023-07-26T09:00:41.470Z"
   },
   {
    "duration": 59,
    "start_time": "2023-07-26T09:00:41.533Z"
   }
  ],
  "kernelspec": {
   "display_name": "Python 3 (ipykernel)",
   "language": "python",
   "name": "python3"
  },
  "language_info": {
   "codemirror_mode": {
    "name": "ipython",
    "version": 3
   },
   "file_extension": ".py",
   "mimetype": "text/x-python",
   "name": "python",
   "nbconvert_exporter": "python",
   "pygments_lexer": "ipython3",
   "version": "3.9.13"
  },
  "toc": {
   "base_numbering": 1,
   "nav_menu": {},
   "number_sections": true,
   "sideBar": true,
   "skip_h1_title": true,
   "title_cell": "Table of Contents",
   "title_sidebar": "Contents",
   "toc_cell": false,
   "toc_position": {},
   "toc_section_display": true,
   "toc_window_display": false
  }
 },
 "nbformat": 4,
 "nbformat_minor": 2
}
