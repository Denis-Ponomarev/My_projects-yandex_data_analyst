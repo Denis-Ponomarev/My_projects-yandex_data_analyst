{
 "cells": [
  {
   "cell_type": "markdown",
   "metadata": {},
   "source": [
    "# Проект \"Принятие решений в бизнесе\""
   ]
  },
  {
   "cell_type": "markdown",
   "metadata": {},
   "source": [
    "**Описание проекта**\n",
    "\n",
    "Вместе с отделом маркетинга мы подготовили список гипотез для увеличения выручки.\n",
    "Приоритизируйем гипотезы, запустим A/B-тест и проанализируем результаты"
   ]
  },
  {
   "cell_type": "markdown",
   "metadata": {},
   "source": [
    "**Описание данных**\n",
    "\n",
    "**Данные для первой части:\n",
    "Файл /datasets/hypothesis.csv**\n",
    "\n",
    "- Hypothesis — краткое описание гипотезы;\n",
    "- Reach — охват пользователей по 10-балльной шкале;\n",
    "- Impact — влияние на пользователей по 10-балльной шкале;\n",
    "- Confidence — уверенность в гипотезе по 10-балльной шкале;\n",
    "- Efforts — затраты ресурсов на проверку гипотезы по 10-балльной шкале. Чем больше значение Efforts, тем дороже проверка гипотезы.\n",
    "\n",
    "**Данные для второй части:\n",
    "Файл /datasets/orders.csv**\n",
    "\n",
    "- transactionId — идентификатор заказа;\n",
    "- visitorId — идентификатор пользователя, совершившего заказ;\n",
    "- date — дата, когда был совершён заказ;\n",
    "- revenue — выручка заказа;\n",
    "- group — группа A/B-теста, в которую попал заказ.\n",
    "\n",
    "**Файл /datasets/visitors.csv**\n",
    "\n",
    "- date — дата;\n",
    "- group — группа A/B-теста;\n",
    "- visitors — количество пользователей в указанную дату в указанной группе A/B-теста"
   ]
  },
  {
   "cell_type": "markdown",
   "metadata": {},
   "source": [
    "## Часть. Приоритизация гипотез."
   ]
  },
  {
   "cell_type": "code",
   "execution_count": 1,
   "metadata": {},
   "outputs": [],
   "source": [
    "#импортируем библиотеки\n",
    "\n",
    "import pandas as pd\n",
    "import datetime as dt\n",
    "import numpy as np\n",
    "from scipy import stats as st\n",
    "import matplotlib.pyplot as plt\n",
    "from pandas.plotting import register_matplotlib_converters\n",
    "import warnings\n",
    "# конвертеры, которые позволяют использовать типы pandas в matplotlib  \n",
    "register_matplotlib_converters()"
   ]
  },
  {
   "cell_type": "markdown",
   "metadata": {},
   "source": [
    "### Загрузка данных "
   ]
  },
  {
   "cell_type": "markdown",
   "metadata": {},
   "source": [
    "Сохраним данные с гипотезами в переменную hypothesis  и посмотрим информацию о датасете и сам датасет:"
   ]
  },
  {
   "cell_type": "code",
   "execution_count": 2,
   "metadata": {},
   "outputs": [
    {
     "name": "stdout",
     "output_type": "stream",
     "text": [
      "<class 'pandas.core.frame.DataFrame'>\n",
      "RangeIndex: 9 entries, 0 to 8\n",
      "Data columns (total 5 columns):\n",
      " #   Column      Non-Null Count  Dtype \n",
      "---  ------      --------------  ----- \n",
      " 0   Hypothesis  9 non-null      object\n",
      " 1   Reach       9 non-null      int64 \n",
      " 2   Impact      9 non-null      int64 \n",
      " 3   Confidence  9 non-null      int64 \n",
      " 4   Efforts     9 non-null      int64 \n",
      "dtypes: int64(4), object(1)\n",
      "memory usage: 488.0+ bytes\n"
     ]
    },
    {
     "data": {
      "text/html": [
       "<div>\n",
       "<style scoped>\n",
       "    .dataframe tbody tr th:only-of-type {\n",
       "        vertical-align: middle;\n",
       "    }\n",
       "\n",
       "    .dataframe tbody tr th {\n",
       "        vertical-align: top;\n",
       "    }\n",
       "\n",
       "    .dataframe thead th {\n",
       "        text-align: right;\n",
       "    }\n",
       "</style>\n",
       "<table border=\"1\" class=\"dataframe\">\n",
       "  <thead>\n",
       "    <tr style=\"text-align: right;\">\n",
       "      <th></th>\n",
       "      <th>Hypothesis</th>\n",
       "      <th>Reach</th>\n",
       "      <th>Impact</th>\n",
       "      <th>Confidence</th>\n",
       "      <th>Efforts</th>\n",
       "    </tr>\n",
       "  </thead>\n",
       "  <tbody>\n",
       "    <tr>\n",
       "      <th>0</th>\n",
       "      <td>Добавить два новых канала привлечения трафика,...</td>\n",
       "      <td>3</td>\n",
       "      <td>10</td>\n",
       "      <td>8</td>\n",
       "      <td>6</td>\n",
       "    </tr>\n",
       "    <tr>\n",
       "      <th>1</th>\n",
       "      <td>Запустить собственную службу доставки, что сок...</td>\n",
       "      <td>2</td>\n",
       "      <td>5</td>\n",
       "      <td>4</td>\n",
       "      <td>10</td>\n",
       "    </tr>\n",
       "    <tr>\n",
       "      <th>2</th>\n",
       "      <td>Добавить блоки рекомендаций товаров на сайт ин...</td>\n",
       "      <td>8</td>\n",
       "      <td>3</td>\n",
       "      <td>7</td>\n",
       "      <td>3</td>\n",
       "    </tr>\n",
       "    <tr>\n",
       "      <th>3</th>\n",
       "      <td>Изменить структура категорий, что увеличит кон...</td>\n",
       "      <td>8</td>\n",
       "      <td>3</td>\n",
       "      <td>3</td>\n",
       "      <td>8</td>\n",
       "    </tr>\n",
       "    <tr>\n",
       "      <th>4</th>\n",
       "      <td>Изменить цвет фона главной страницы, чтобы уве...</td>\n",
       "      <td>3</td>\n",
       "      <td>1</td>\n",
       "      <td>1</td>\n",
       "      <td>1</td>\n",
       "    </tr>\n",
       "    <tr>\n",
       "      <th>5</th>\n",
       "      <td>Добавить страницу отзывов клиентов о магазине,...</td>\n",
       "      <td>3</td>\n",
       "      <td>2</td>\n",
       "      <td>2</td>\n",
       "      <td>3</td>\n",
       "    </tr>\n",
       "    <tr>\n",
       "      <th>6</th>\n",
       "      <td>Показать на главной странице баннеры с актуаль...</td>\n",
       "      <td>5</td>\n",
       "      <td>3</td>\n",
       "      <td>8</td>\n",
       "      <td>3</td>\n",
       "    </tr>\n",
       "    <tr>\n",
       "      <th>7</th>\n",
       "      <td>Добавить форму подписки на все основные страни...</td>\n",
       "      <td>10</td>\n",
       "      <td>7</td>\n",
       "      <td>8</td>\n",
       "      <td>5</td>\n",
       "    </tr>\n",
       "    <tr>\n",
       "      <th>8</th>\n",
       "      <td>Запустить акцию, дающую скидку на товар в день...</td>\n",
       "      <td>1</td>\n",
       "      <td>9</td>\n",
       "      <td>9</td>\n",
       "      <td>5</td>\n",
       "    </tr>\n",
       "  </tbody>\n",
       "</table>\n",
       "</div>"
      ],
      "text/plain": [
       "                                          Hypothesis  Reach  Impact  \\\n",
       "0  Добавить два новых канала привлечения трафика,...      3      10   \n",
       "1  Запустить собственную службу доставки, что сок...      2       5   \n",
       "2  Добавить блоки рекомендаций товаров на сайт ин...      8       3   \n",
       "3  Изменить структура категорий, что увеличит кон...      8       3   \n",
       "4  Изменить цвет фона главной страницы, чтобы уве...      3       1   \n",
       "5  Добавить страницу отзывов клиентов о магазине,...      3       2   \n",
       "6  Показать на главной странице баннеры с актуаль...      5       3   \n",
       "7  Добавить форму подписки на все основные страни...     10       7   \n",
       "8  Запустить акцию, дающую скидку на товар в день...      1       9   \n",
       "\n",
       "   Confidence  Efforts  \n",
       "0           8        6  \n",
       "1           4       10  \n",
       "2           7        3  \n",
       "3           3        8  \n",
       "4           1        1  \n",
       "5           2        3  \n",
       "6           8        3  \n",
       "7           8        5  \n",
       "8           9        5  "
      ]
     },
     "metadata": {},
     "output_type": "display_data"
    }
   ],
   "source": [
    "hypothesis = pd.read_csv('/datasets/hypothesis.csv')\n",
    "\n",
    "hypothesis.info()\n",
    "display(hypothesis)"
   ]
  },
  {
   "cell_type": "markdown",
   "metadata": {},
   "source": [
    "Проведем проверку данных на дубликаты:"
   ]
  },
  {
   "cell_type": "code",
   "execution_count": 3,
   "metadata": {},
   "outputs": [
    {
     "name": "stdout",
     "output_type": "stream",
     "text": [
      "Кол-во дубликатов = 0\n"
     ]
    }
   ],
   "source": [
    "print(\"Кол-во дубликатов =\",hypothesis.duplicated().sum())"
   ]
  },
  {
   "cell_type": "markdown",
   "metadata": {},
   "source": [
    "Сохраним данные с заказами в переменную orders  и посмотрим информацию о датасете и сам датасет:"
   ]
  },
  {
   "cell_type": "code",
   "execution_count": 4,
   "metadata": {},
   "outputs": [
    {
     "name": "stdout",
     "output_type": "stream",
     "text": [
      "<class 'pandas.core.frame.DataFrame'>\n",
      "RangeIndex: 1197 entries, 0 to 1196\n",
      "Data columns (total 5 columns):\n",
      " #   Column         Non-Null Count  Dtype \n",
      "---  ------         --------------  ----- \n",
      " 0   transactionId  1197 non-null   int64 \n",
      " 1   visitorId      1197 non-null   int64 \n",
      " 2   date           1197 non-null   object\n",
      " 3   revenue        1197 non-null   int64 \n",
      " 4   group          1197 non-null   object\n",
      "dtypes: int64(3), object(2)\n",
      "memory usage: 46.9+ KB\n"
     ]
    },
    {
     "data": {
      "text/html": [
       "<div>\n",
       "<style scoped>\n",
       "    .dataframe tbody tr th:only-of-type {\n",
       "        vertical-align: middle;\n",
       "    }\n",
       "\n",
       "    .dataframe tbody tr th {\n",
       "        vertical-align: top;\n",
       "    }\n",
       "\n",
       "    .dataframe thead th {\n",
       "        text-align: right;\n",
       "    }\n",
       "</style>\n",
       "<table border=\"1\" class=\"dataframe\">\n",
       "  <thead>\n",
       "    <tr style=\"text-align: right;\">\n",
       "      <th></th>\n",
       "      <th>transactionId</th>\n",
       "      <th>visitorId</th>\n",
       "      <th>date</th>\n",
       "      <th>revenue</th>\n",
       "      <th>group</th>\n",
       "    </tr>\n",
       "  </thead>\n",
       "  <tbody>\n",
       "    <tr>\n",
       "      <th>0</th>\n",
       "      <td>3667963787</td>\n",
       "      <td>3312258926</td>\n",
       "      <td>2019-08-15</td>\n",
       "      <td>1650</td>\n",
       "      <td>B</td>\n",
       "    </tr>\n",
       "    <tr>\n",
       "      <th>1</th>\n",
       "      <td>2804400009</td>\n",
       "      <td>3642806036</td>\n",
       "      <td>2019-08-15</td>\n",
       "      <td>730</td>\n",
       "      <td>B</td>\n",
       "    </tr>\n",
       "    <tr>\n",
       "      <th>2</th>\n",
       "      <td>2961555356</td>\n",
       "      <td>4069496402</td>\n",
       "      <td>2019-08-15</td>\n",
       "      <td>400</td>\n",
       "      <td>A</td>\n",
       "    </tr>\n",
       "    <tr>\n",
       "      <th>3</th>\n",
       "      <td>3797467345</td>\n",
       "      <td>1196621759</td>\n",
       "      <td>2019-08-15</td>\n",
       "      <td>9759</td>\n",
       "      <td>B</td>\n",
       "    </tr>\n",
       "    <tr>\n",
       "      <th>4</th>\n",
       "      <td>2282983706</td>\n",
       "      <td>2322279887</td>\n",
       "      <td>2019-08-15</td>\n",
       "      <td>2308</td>\n",
       "      <td>B</td>\n",
       "    </tr>\n",
       "    <tr>\n",
       "      <th>5</th>\n",
       "      <td>182168103</td>\n",
       "      <td>935554773</td>\n",
       "      <td>2019-08-15</td>\n",
       "      <td>2210</td>\n",
       "      <td>B</td>\n",
       "    </tr>\n",
       "    <tr>\n",
       "      <th>6</th>\n",
       "      <td>398296753</td>\n",
       "      <td>2900797465</td>\n",
       "      <td>2019-08-15</td>\n",
       "      <td>1860</td>\n",
       "      <td>B</td>\n",
       "    </tr>\n",
       "    <tr>\n",
       "      <th>7</th>\n",
       "      <td>2626614568</td>\n",
       "      <td>78758296</td>\n",
       "      <td>2019-08-15</td>\n",
       "      <td>1044</td>\n",
       "      <td>A</td>\n",
       "    </tr>\n",
       "    <tr>\n",
       "      <th>8</th>\n",
       "      <td>1576988021</td>\n",
       "      <td>295230930</td>\n",
       "      <td>2019-08-15</td>\n",
       "      <td>13710</td>\n",
       "      <td>A</td>\n",
       "    </tr>\n",
       "    <tr>\n",
       "      <th>9</th>\n",
       "      <td>1506739906</td>\n",
       "      <td>1882260405</td>\n",
       "      <td>2019-08-15</td>\n",
       "      <td>1855</td>\n",
       "      <td>B</td>\n",
       "    </tr>\n",
       "  </tbody>\n",
       "</table>\n",
       "</div>"
      ],
      "text/plain": [
       "   transactionId   visitorId        date  revenue group\n",
       "0     3667963787  3312258926  2019-08-15     1650     B\n",
       "1     2804400009  3642806036  2019-08-15      730     B\n",
       "2     2961555356  4069496402  2019-08-15      400     A\n",
       "3     3797467345  1196621759  2019-08-15     9759     B\n",
       "4     2282983706  2322279887  2019-08-15     2308     B\n",
       "5      182168103   935554773  2019-08-15     2210     B\n",
       "6      398296753  2900797465  2019-08-15     1860     B\n",
       "7     2626614568    78758296  2019-08-15     1044     A\n",
       "8     1576988021   295230930  2019-08-15    13710     A\n",
       "9     1506739906  1882260405  2019-08-15     1855     B"
      ]
     },
     "metadata": {},
     "output_type": "display_data"
    }
   ],
   "source": [
    "orders = pd.read_csv('/datasets/orders.csv')\n",
    "\n",
    "orders.info()\n",
    "display(orders.head(10))"
   ]
  },
  {
   "cell_type": "markdown",
   "metadata": {},
   "source": [
    "Проведем проверку данных на дубликаты:"
   ]
  },
  {
   "cell_type": "code",
   "execution_count": 5,
   "metadata": {},
   "outputs": [
    {
     "name": "stdout",
     "output_type": "stream",
     "text": [
      "Кол-во дубликатов = 0\n"
     ]
    }
   ],
   "source": [
    "print(\"Кол-во дубликатов =\",orders.duplicated().sum())"
   ]
  },
  {
   "cell_type": "markdown",
   "metadata": {},
   "source": [
    "Посмотрим количество групп АВ-теста:"
   ]
  },
  {
   "cell_type": "code",
   "execution_count": 6,
   "metadata": {},
   "outputs": [
    {
     "data": {
      "text/plain": [
       "array(['B', 'A'], dtype=object)"
      ]
     },
     "execution_count": 6,
     "metadata": {},
     "output_type": "execute_result"
    }
   ],
   "source": [
    "orders['group'].unique()"
   ]
  },
  {
   "cell_type": "markdown",
   "metadata": {},
   "source": [
    "Посмотрим даты начала и окончания теста:"
   ]
  },
  {
   "cell_type": "code",
   "execution_count": 7,
   "metadata": {},
   "outputs": [
    {
     "name": "stdout",
     "output_type": "stream",
     "text": [
      "2019-08-01\n",
      "2019-08-31\n"
     ]
    }
   ],
   "source": [
    "print(orders['date'].min())\n",
    "print(orders['date'].max())"
   ]
  },
  {
   "cell_type": "markdown",
   "metadata": {},
   "source": [
    "Приведем столбец с датой к типу dt"
   ]
  },
  {
   "cell_type": "code",
   "execution_count": 8,
   "metadata": {},
   "outputs": [],
   "source": [
    "orders['date'] = orders['date'].map(\n",
    "    lambda x: dt.datetime.strptime(x, '%Y-%m-%d')\n",
    ")"
   ]
  },
  {
   "cell_type": "code",
   "execution_count": 9,
   "metadata": {},
   "outputs": [
    {
     "name": "stdout",
     "output_type": "stream",
     "text": [
      "<class 'pandas.core.frame.DataFrame'>\n",
      "RangeIndex: 1197 entries, 0 to 1196\n",
      "Data columns (total 5 columns):\n",
      " #   Column         Non-Null Count  Dtype         \n",
      "---  ------         --------------  -----         \n",
      " 0   transactionId  1197 non-null   int64         \n",
      " 1   visitorId      1197 non-null   int64         \n",
      " 2   date           1197 non-null   datetime64[ns]\n",
      " 3   revenue        1197 non-null   int64         \n",
      " 4   group          1197 non-null   object        \n",
      "dtypes: datetime64[ns](1), int64(3), object(1)\n",
      "memory usage: 46.9+ KB\n"
     ]
    }
   ],
   "source": [
    "orders.info()"
   ]
  },
  {
   "cell_type": "markdown",
   "metadata": {},
   "source": [
    "Сохраним данные с пользователями в переменную visitors  и посмотрим информацию о датасете и сам датасет:"
   ]
  },
  {
   "cell_type": "code",
   "execution_count": 10,
   "metadata": {},
   "outputs": [
    {
     "name": "stdout",
     "output_type": "stream",
     "text": [
      "<class 'pandas.core.frame.DataFrame'>\n",
      "RangeIndex: 62 entries, 0 to 61\n",
      "Data columns (total 3 columns):\n",
      " #   Column    Non-Null Count  Dtype \n",
      "---  ------    --------------  ----- \n",
      " 0   date      62 non-null     object\n",
      " 1   group     62 non-null     object\n",
      " 2   visitors  62 non-null     int64 \n",
      "dtypes: int64(1), object(2)\n",
      "memory usage: 1.6+ KB\n"
     ]
    },
    {
     "data": {
      "text/html": [
       "<div>\n",
       "<style scoped>\n",
       "    .dataframe tbody tr th:only-of-type {\n",
       "        vertical-align: middle;\n",
       "    }\n",
       "\n",
       "    .dataframe tbody tr th {\n",
       "        vertical-align: top;\n",
       "    }\n",
       "\n",
       "    .dataframe thead th {\n",
       "        text-align: right;\n",
       "    }\n",
       "</style>\n",
       "<table border=\"1\" class=\"dataframe\">\n",
       "  <thead>\n",
       "    <tr style=\"text-align: right;\">\n",
       "      <th></th>\n",
       "      <th>date</th>\n",
       "      <th>group</th>\n",
       "      <th>visitors</th>\n",
       "    </tr>\n",
       "  </thead>\n",
       "  <tbody>\n",
       "    <tr>\n",
       "      <th>0</th>\n",
       "      <td>2019-08-01</td>\n",
       "      <td>A</td>\n",
       "      <td>719</td>\n",
       "    </tr>\n",
       "    <tr>\n",
       "      <th>1</th>\n",
       "      <td>2019-08-02</td>\n",
       "      <td>A</td>\n",
       "      <td>619</td>\n",
       "    </tr>\n",
       "    <tr>\n",
       "      <th>2</th>\n",
       "      <td>2019-08-03</td>\n",
       "      <td>A</td>\n",
       "      <td>507</td>\n",
       "    </tr>\n",
       "    <tr>\n",
       "      <th>3</th>\n",
       "      <td>2019-08-04</td>\n",
       "      <td>A</td>\n",
       "      <td>717</td>\n",
       "    </tr>\n",
       "    <tr>\n",
       "      <th>4</th>\n",
       "      <td>2019-08-05</td>\n",
       "      <td>A</td>\n",
       "      <td>756</td>\n",
       "    </tr>\n",
       "    <tr>\n",
       "      <th>5</th>\n",
       "      <td>2019-08-06</td>\n",
       "      <td>A</td>\n",
       "      <td>667</td>\n",
       "    </tr>\n",
       "    <tr>\n",
       "      <th>6</th>\n",
       "      <td>2019-08-07</td>\n",
       "      <td>A</td>\n",
       "      <td>644</td>\n",
       "    </tr>\n",
       "    <tr>\n",
       "      <th>7</th>\n",
       "      <td>2019-08-08</td>\n",
       "      <td>A</td>\n",
       "      <td>610</td>\n",
       "    </tr>\n",
       "    <tr>\n",
       "      <th>8</th>\n",
       "      <td>2019-08-09</td>\n",
       "      <td>A</td>\n",
       "      <td>617</td>\n",
       "    </tr>\n",
       "    <tr>\n",
       "      <th>9</th>\n",
       "      <td>2019-08-10</td>\n",
       "      <td>A</td>\n",
       "      <td>406</td>\n",
       "    </tr>\n",
       "  </tbody>\n",
       "</table>\n",
       "</div>"
      ],
      "text/plain": [
       "         date group  visitors\n",
       "0  2019-08-01     A       719\n",
       "1  2019-08-02     A       619\n",
       "2  2019-08-03     A       507\n",
       "3  2019-08-04     A       717\n",
       "4  2019-08-05     A       756\n",
       "5  2019-08-06     A       667\n",
       "6  2019-08-07     A       644\n",
       "7  2019-08-08     A       610\n",
       "8  2019-08-09     A       617\n",
       "9  2019-08-10     A       406"
      ]
     },
     "metadata": {},
     "output_type": "display_data"
    }
   ],
   "source": [
    "visitors = pd.read_csv('/datasets/visitors.csv')\n",
    "\n",
    "visitors.info()\n",
    "display(visitors.head(10))"
   ]
  },
  {
   "cell_type": "markdown",
   "metadata": {},
   "source": [
    "Проведем проверку данных на дубликаты:"
   ]
  },
  {
   "cell_type": "code",
   "execution_count": 11,
   "metadata": {},
   "outputs": [
    {
     "name": "stdout",
     "output_type": "stream",
     "text": [
      "Кол-во дубликатов = 0\n"
     ]
    }
   ],
   "source": [
    "print(\"Кол-во дубликатов =\",visitors.duplicated().sum())"
   ]
  },
  {
   "cell_type": "markdown",
   "metadata": {},
   "source": [
    "Сверим совпадает ли количество групп с таблицей с заказами:"
   ]
  },
  {
   "cell_type": "code",
   "execution_count": 12,
   "metadata": {},
   "outputs": [
    {
     "data": {
      "text/plain": [
       "array(['A', 'B'], dtype=object)"
      ]
     },
     "execution_count": 12,
     "metadata": {},
     "output_type": "execute_result"
    }
   ],
   "source": [
    "visitors['group'].unique()"
   ]
  },
  {
   "cell_type": "markdown",
   "metadata": {},
   "source": [
    "Сверим дату начала и окончания теста с таблицей с заказами:"
   ]
  },
  {
   "cell_type": "code",
   "execution_count": 13,
   "metadata": {},
   "outputs": [
    {
     "name": "stdout",
     "output_type": "stream",
     "text": [
      "2019-08-01\n",
      "2019-08-31\n"
     ]
    }
   ],
   "source": [
    "print(visitors['date'].min())\n",
    "print(visitors['date'].max())"
   ]
  },
  {
   "cell_type": "markdown",
   "metadata": {},
   "source": [
    "Приведем столбец с датой к типу dt"
   ]
  },
  {
   "cell_type": "code",
   "execution_count": 14,
   "metadata": {},
   "outputs": [],
   "source": [
    "visitors['date'] = visitors['date'].map(\n",
    "    lambda x: dt.datetime.strptime(x, '%Y-%m-%d')\n",
    ")"
   ]
  },
  {
   "cell_type": "code",
   "execution_count": 15,
   "metadata": {},
   "outputs": [
    {
     "name": "stdout",
     "output_type": "stream",
     "text": [
      "<class 'pandas.core.frame.DataFrame'>\n",
      "RangeIndex: 62 entries, 0 to 61\n",
      "Data columns (total 3 columns):\n",
      " #   Column    Non-Null Count  Dtype         \n",
      "---  ------    --------------  -----         \n",
      " 0   date      62 non-null     datetime64[ns]\n",
      " 1   group     62 non-null     object        \n",
      " 2   visitors  62 non-null     int64         \n",
      "dtypes: datetime64[ns](1), int64(1), object(1)\n",
      "memory usage: 1.6+ KB\n"
     ]
    }
   ],
   "source": [
    "visitors.info()"
   ]
  },
  {
   "cell_type": "markdown",
   "metadata": {},
   "source": [
    "**Вывод:**\n",
    "\n",
    "Данные загружены, столбцы с датами приведены к типу dt, дубликаты отсутствуют."
   ]
  },
  {
   "cell_type": "markdown",
   "metadata": {},
   "source": [
    "### Применим фреймворк ICE для приоритизации гипотез. Отсортируем их по убыванию приоритета."
   ]
  },
  {
   "cell_type": "code",
   "execution_count": 16,
   "metadata": {},
   "outputs": [
    {
     "data": {
      "text/html": [
       "<div>\n",
       "<style scoped>\n",
       "    .dataframe tbody tr th:only-of-type {\n",
       "        vertical-align: middle;\n",
       "    }\n",
       "\n",
       "    .dataframe tbody tr th {\n",
       "        vertical-align: top;\n",
       "    }\n",
       "\n",
       "    .dataframe thead th {\n",
       "        text-align: right;\n",
       "    }\n",
       "</style>\n",
       "<table border=\"1\" class=\"dataframe\">\n",
       "  <thead>\n",
       "    <tr style=\"text-align: right;\">\n",
       "      <th></th>\n",
       "      <th>Hypothesis</th>\n",
       "      <th>Reach</th>\n",
       "      <th>Impact</th>\n",
       "      <th>Confidence</th>\n",
       "      <th>Efforts</th>\n",
       "      <th>ice</th>\n",
       "    </tr>\n",
       "  </thead>\n",
       "  <tbody>\n",
       "    <tr>\n",
       "      <th>8</th>\n",
       "      <td>Запустить акцию, дающую скидку на товар в день рождения</td>\n",
       "      <td>1</td>\n",
       "      <td>9</td>\n",
       "      <td>9</td>\n",
       "      <td>5</td>\n",
       "      <td>16.20</td>\n",
       "    </tr>\n",
       "    <tr>\n",
       "      <th>0</th>\n",
       "      <td>Добавить два новых канала привлечения трафика, что позволит привлекать на 30% больше пользователей</td>\n",
       "      <td>3</td>\n",
       "      <td>10</td>\n",
       "      <td>8</td>\n",
       "      <td>6</td>\n",
       "      <td>13.33</td>\n",
       "    </tr>\n",
       "    <tr>\n",
       "      <th>7</th>\n",
       "      <td>Добавить форму подписки на все основные страницы, чтобы собрать базу клиентов для email-рассылок</td>\n",
       "      <td>10</td>\n",
       "      <td>7</td>\n",
       "      <td>8</td>\n",
       "      <td>5</td>\n",
       "      <td>11.20</td>\n",
       "    </tr>\n",
       "    <tr>\n",
       "      <th>6</th>\n",
       "      <td>Показать на главной странице баннеры с актуальными акциями и распродажами, чтобы увеличить конверсию</td>\n",
       "      <td>5</td>\n",
       "      <td>3</td>\n",
       "      <td>8</td>\n",
       "      <td>3</td>\n",
       "      <td>8.00</td>\n",
       "    </tr>\n",
       "    <tr>\n",
       "      <th>2</th>\n",
       "      <td>Добавить блоки рекомендаций товаров на сайт интернет магазина, чтобы повысить конверсию и средний чек заказа</td>\n",
       "      <td>8</td>\n",
       "      <td>3</td>\n",
       "      <td>7</td>\n",
       "      <td>3</td>\n",
       "      <td>7.00</td>\n",
       "    </tr>\n",
       "    <tr>\n",
       "      <th>1</th>\n",
       "      <td>Запустить собственную службу доставки, что сократит срок доставки заказов</td>\n",
       "      <td>2</td>\n",
       "      <td>5</td>\n",
       "      <td>4</td>\n",
       "      <td>10</td>\n",
       "      <td>2.00</td>\n",
       "    </tr>\n",
       "    <tr>\n",
       "      <th>5</th>\n",
       "      <td>Добавить страницу отзывов клиентов о магазине, что позволит увеличить количество заказов</td>\n",
       "      <td>3</td>\n",
       "      <td>2</td>\n",
       "      <td>2</td>\n",
       "      <td>3</td>\n",
       "      <td>1.33</td>\n",
       "    </tr>\n",
       "    <tr>\n",
       "      <th>3</th>\n",
       "      <td>Изменить структура категорий, что увеличит конверсию, т.к. пользователи быстрее найдут нужный товар</td>\n",
       "      <td>8</td>\n",
       "      <td>3</td>\n",
       "      <td>3</td>\n",
       "      <td>8</td>\n",
       "      <td>1.12</td>\n",
       "    </tr>\n",
       "    <tr>\n",
       "      <th>4</th>\n",
       "      <td>Изменить цвет фона главной страницы, чтобы увеличить вовлеченность пользователей</td>\n",
       "      <td>3</td>\n",
       "      <td>1</td>\n",
       "      <td>1</td>\n",
       "      <td>1</td>\n",
       "      <td>1.00</td>\n",
       "    </tr>\n",
       "  </tbody>\n",
       "</table>\n",
       "</div>"
      ],
      "text/plain": [
       "                                                                                                     Hypothesis  \\\n",
       "8                                                       Запустить акцию, дающую скидку на товар в день рождения   \n",
       "0            Добавить два новых канала привлечения трафика, что позволит привлекать на 30% больше пользователей   \n",
       "7              Добавить форму подписки на все основные страницы, чтобы собрать базу клиентов для email-рассылок   \n",
       "6          Показать на главной странице баннеры с актуальными акциями и распродажами, чтобы увеличить конверсию   \n",
       "2  Добавить блоки рекомендаций товаров на сайт интернет магазина, чтобы повысить конверсию и средний чек заказа   \n",
       "1                                     Запустить собственную службу доставки, что сократит срок доставки заказов   \n",
       "5                      Добавить страницу отзывов клиентов о магазине, что позволит увеличить количество заказов   \n",
       "3           Изменить структура категорий, что увеличит конверсию, т.к. пользователи быстрее найдут нужный товар   \n",
       "4                              Изменить цвет фона главной страницы, чтобы увеличить вовлеченность пользователей   \n",
       "\n",
       "   Reach  Impact  Confidence  Efforts    ice  \n",
       "8      1       9           9        5  16.20  \n",
       "0      3      10           8        6  13.33  \n",
       "7     10       7           8        5  11.20  \n",
       "6      5       3           8        3   8.00  \n",
       "2      8       3           7        3   7.00  \n",
       "1      2       5           4       10   2.00  \n",
       "5      3       2           2        3   1.33  \n",
       "3      8       3           3        8   1.12  \n",
       "4      3       1           1        1   1.00  "
      ]
     },
     "execution_count": 16,
     "metadata": {},
     "output_type": "execute_result"
    }
   ],
   "source": [
    "hypothesis['ice'] = (hypothesis['Impact'] * hypothesis['Confidence'] / hypothesis['Efforts']).round(2)\n",
    "pd.options.display.max_colwidth = 130\n",
    "hypothesis.sort_values(by='ice', ascending =False)"
   ]
  },
  {
   "cell_type": "markdown",
   "metadata": {},
   "source": [
    "### Применим фреймворк RICE для приоритизации гипотез. Отсортируем их по убыванию приоритета."
   ]
  },
  {
   "cell_type": "code",
   "execution_count": 17,
   "metadata": {},
   "outputs": [
    {
     "data": {
      "text/html": [
       "<div>\n",
       "<style scoped>\n",
       "    .dataframe tbody tr th:only-of-type {\n",
       "        vertical-align: middle;\n",
       "    }\n",
       "\n",
       "    .dataframe tbody tr th {\n",
       "        vertical-align: top;\n",
       "    }\n",
       "\n",
       "    .dataframe thead th {\n",
       "        text-align: right;\n",
       "    }\n",
       "</style>\n",
       "<table border=\"1\" class=\"dataframe\">\n",
       "  <thead>\n",
       "    <tr style=\"text-align: right;\">\n",
       "      <th></th>\n",
       "      <th>Hypothesis</th>\n",
       "      <th>Reach</th>\n",
       "      <th>Impact</th>\n",
       "      <th>Confidence</th>\n",
       "      <th>Efforts</th>\n",
       "      <th>ice</th>\n",
       "      <th>rice</th>\n",
       "    </tr>\n",
       "  </thead>\n",
       "  <tbody>\n",
       "    <tr>\n",
       "      <th>7</th>\n",
       "      <td>Добавить форму подписки на все основные страницы, чтобы собрать базу клиентов для email-рассылок</td>\n",
       "      <td>10</td>\n",
       "      <td>7</td>\n",
       "      <td>8</td>\n",
       "      <td>5</td>\n",
       "      <td>11.20</td>\n",
       "      <td>112.0</td>\n",
       "    </tr>\n",
       "    <tr>\n",
       "      <th>2</th>\n",
       "      <td>Добавить блоки рекомендаций товаров на сайт интернет магазина, чтобы повысить конверсию и средний чек заказа</td>\n",
       "      <td>8</td>\n",
       "      <td>3</td>\n",
       "      <td>7</td>\n",
       "      <td>3</td>\n",
       "      <td>7.00</td>\n",
       "      <td>56.0</td>\n",
       "    </tr>\n",
       "    <tr>\n",
       "      <th>0</th>\n",
       "      <td>Добавить два новых канала привлечения трафика, что позволит привлекать на 30% больше пользователей</td>\n",
       "      <td>3</td>\n",
       "      <td>10</td>\n",
       "      <td>8</td>\n",
       "      <td>6</td>\n",
       "      <td>13.33</td>\n",
       "      <td>40.0</td>\n",
       "    </tr>\n",
       "    <tr>\n",
       "      <th>6</th>\n",
       "      <td>Показать на главной странице баннеры с актуальными акциями и распродажами, чтобы увеличить конверсию</td>\n",
       "      <td>5</td>\n",
       "      <td>3</td>\n",
       "      <td>8</td>\n",
       "      <td>3</td>\n",
       "      <td>8.00</td>\n",
       "      <td>40.0</td>\n",
       "    </tr>\n",
       "    <tr>\n",
       "      <th>8</th>\n",
       "      <td>Запустить акцию, дающую скидку на товар в день рождения</td>\n",
       "      <td>1</td>\n",
       "      <td>9</td>\n",
       "      <td>9</td>\n",
       "      <td>5</td>\n",
       "      <td>16.20</td>\n",
       "      <td>16.2</td>\n",
       "    </tr>\n",
       "    <tr>\n",
       "      <th>3</th>\n",
       "      <td>Изменить структура категорий, что увеличит конверсию, т.к. пользователи быстрее найдут нужный товар</td>\n",
       "      <td>8</td>\n",
       "      <td>3</td>\n",
       "      <td>3</td>\n",
       "      <td>8</td>\n",
       "      <td>1.12</td>\n",
       "      <td>9.0</td>\n",
       "    </tr>\n",
       "    <tr>\n",
       "      <th>1</th>\n",
       "      <td>Запустить собственную службу доставки, что сократит срок доставки заказов</td>\n",
       "      <td>2</td>\n",
       "      <td>5</td>\n",
       "      <td>4</td>\n",
       "      <td>10</td>\n",
       "      <td>2.00</td>\n",
       "      <td>4.0</td>\n",
       "    </tr>\n",
       "    <tr>\n",
       "      <th>5</th>\n",
       "      <td>Добавить страницу отзывов клиентов о магазине, что позволит увеличить количество заказов</td>\n",
       "      <td>3</td>\n",
       "      <td>2</td>\n",
       "      <td>2</td>\n",
       "      <td>3</td>\n",
       "      <td>1.33</td>\n",
       "      <td>4.0</td>\n",
       "    </tr>\n",
       "    <tr>\n",
       "      <th>4</th>\n",
       "      <td>Изменить цвет фона главной страницы, чтобы увеличить вовлеченность пользователей</td>\n",
       "      <td>3</td>\n",
       "      <td>1</td>\n",
       "      <td>1</td>\n",
       "      <td>1</td>\n",
       "      <td>1.00</td>\n",
       "      <td>3.0</td>\n",
       "    </tr>\n",
       "  </tbody>\n",
       "</table>\n",
       "</div>"
      ],
      "text/plain": [
       "                                                                                                     Hypothesis  \\\n",
       "7              Добавить форму подписки на все основные страницы, чтобы собрать базу клиентов для email-рассылок   \n",
       "2  Добавить блоки рекомендаций товаров на сайт интернет магазина, чтобы повысить конверсию и средний чек заказа   \n",
       "0            Добавить два новых канала привлечения трафика, что позволит привлекать на 30% больше пользователей   \n",
       "6          Показать на главной странице баннеры с актуальными акциями и распродажами, чтобы увеличить конверсию   \n",
       "8                                                       Запустить акцию, дающую скидку на товар в день рождения   \n",
       "3           Изменить структура категорий, что увеличит конверсию, т.к. пользователи быстрее найдут нужный товар   \n",
       "1                                     Запустить собственную службу доставки, что сократит срок доставки заказов   \n",
       "5                      Добавить страницу отзывов клиентов о магазине, что позволит увеличить количество заказов   \n",
       "4                              Изменить цвет фона главной страницы, чтобы увеличить вовлеченность пользователей   \n",
       "\n",
       "   Reach  Impact  Confidence  Efforts    ice   rice  \n",
       "7     10       7           8        5  11.20  112.0  \n",
       "2      8       3           7        3   7.00   56.0  \n",
       "0      3      10           8        6  13.33   40.0  \n",
       "6      5       3           8        3   8.00   40.0  \n",
       "8      1       9           9        5  16.20   16.2  \n",
       "3      8       3           3        8   1.12    9.0  \n",
       "1      2       5           4       10   2.00    4.0  \n",
       "5      3       2           2        3   1.33    4.0  \n",
       "4      3       1           1        1   1.00    3.0  "
      ]
     },
     "execution_count": 17,
     "metadata": {},
     "output_type": "execute_result"
    }
   ],
   "source": [
    "hypothesis['rice'] = hypothesis['Reach'] * hypothesis['Impact'] * hypothesis['Confidence'] / hypothesis['Efforts']\n",
    "hypothesis.sort_values(by='rice', ascending =False)"
   ]
  },
  {
   "cell_type": "markdown",
   "metadata": {},
   "source": [
    "### Вывод:"
   ]
  },
  {
   "cell_type": "markdown",
   "metadata": {},
   "source": [
    "При применении фреймворка ICE в первой пятерке по приоритету были гипотезы 8, 0, 7, 6 и 2.\n",
    "При применении фреймворка RICE в первой пятерке по приоритету теже гипотезы, но в другой последовательности: 7, 2, 0, 6 и 8. Гипотеза 7 заняла первое место в приоритете, вместо третьего, гипотеза 2 заняла второе место в приоритете, вместо пятого. Это произошло из-за высокого охвата пользователей этими гипотезами. Гипотеза 8 наоборот сместилась с первого места на пятое, из-за низкого охвата пользователей."
   ]
  },
  {
   "cell_type": "markdown",
   "metadata": {},
   "source": [
    "## Часть. Анализ A/B-теста"
   ]
  },
  {
   "cell_type": "markdown",
   "metadata": {},
   "source": [
    "Проверим, есть ли пользователи, которые попали в группы А и В: "
   ]
  },
  {
   "cell_type": "code",
   "execution_count": 18,
   "metadata": {},
   "outputs": [
    {
     "data": {
      "text/plain": [
       "array([   8300375,  199603092,  232979603,  237748145,  276558944,\n",
       "        351125977,  393266494,  457167155,  471551937,  477780734,\n",
       "        818047933,  963407295, 1230306981, 1294878855, 1316129916,\n",
       "       1333886533, 1404934699, 1602967004, 1614305549, 1648269707,\n",
       "       1668030113, 1738359350, 1801183820, 1959144690, 2038680547,\n",
       "       2044997962, 2378935119, 2458001652, 2579882178, 2587333274,\n",
       "       2600415354, 2654030115, 2686716486, 2712142231, 2716752286,\n",
       "       2780786433, 2927087541, 2949041841, 2954449915, 3062433592,\n",
       "       3202540741, 3234906277, 3656415546, 3717692402, 3766097110,\n",
       "       3803269165, 3891541246, 3941795274, 3951559397, 3957174400,\n",
       "       3963646447, 3972127743, 3984495233, 4069496402, 4120364173,\n",
       "       4186807279, 4256040402, 4266935830])"
      ]
     },
     "execution_count": 18,
     "metadata": {},
     "output_type": "execute_result"
    }
   ],
   "source": [
    "users_ab = np.intersect1d(orders.query('group == \"A\"')['visitorId'].unique(), orders.query('group == \"B\"')['visitorId'].unique())\n",
    "users_ab"
   ]
  },
  {
   "cell_type": "markdown",
   "metadata": {},
   "source": [
    "Удалим таких пользователей:"
   ]
  },
  {
   "cell_type": "code",
   "execution_count": 19,
   "metadata": {},
   "outputs": [],
   "source": [
    "orders = orders[~orders['visitorId'].isin(users_ab)]"
   ]
  },
  {
   "cell_type": "markdown",
   "metadata": {},
   "source": [
    "Проверка равенства долей:"
   ]
  },
  {
   "cell_type": "code",
   "execution_count": 20,
   "metadata": {},
   "outputs": [
    {
     "name": "stdout",
     "output_type": "stream",
     "text": [
      "Кол-во посетителей в группе А: 18736\n",
      "Кол-во посетителей в группе B: 18916\n",
      "Кол-во покупок в группе A: 468\n",
      "Кол-во покупок в группе B: 548\n",
      "P-value:0.7301376549390499\n",
      "Разница в количестве посетителей в группах A и B статистически НЕ значима\n",
      "\n"
     ]
    }
   ],
   "source": [
    "print('Кол-во посетителей в группе А: {}\\n'\n",
    "      'Кол-во посетителей в группе B: {}'.format(visitors[visitors['group']=='A']['visitors'].sum(), \n",
    "                                                 visitors[visitors['group']=='B']['visitors'].sum()))\n",
    "purchasesA = len(orders[orders['group']=='A']) \n",
    "purchasesB = len(orders[orders['group']=='B']) \n",
    "print('Кол-во покупок в группе A: {}'.format(purchasesA))\n",
    "print('Кол-во покупок в группе B: {}'.format(purchasesB))\n",
    "\n",
    "results = st.mannwhitneyu(visitors[visitors['group']=='A']['visitors'], visitors[visitors['group']=='B']['visitors']) \n",
    "alpha = 0.05\n",
    "print('P-value:{}'.format(results.pvalue))\n",
    "if results.pvalue < alpha:\n",
    "    print('Разница в количестве посетителей в группах A и B статистически значима\\n')\n",
    "else:\n",
    "    print('Разница в количестве посетителей в группах A и B статистически НЕ значима\\n')"
   ]
  },
  {
   "cell_type": "markdown",
   "metadata": {},
   "source": [
    "### Построим график кумулятивной выручки по группам."
   ]
  },
  {
   "cell_type": "markdown",
   "metadata": {},
   "source": [
    "Создадим датафрейм datesGroups с уникальными парами значений 'date' и 'group', таблицы orders. Избавимся от дубликатов методом drop_duplicates()"
   ]
  },
  {
   "cell_type": "code",
   "execution_count": 21,
   "metadata": {},
   "outputs": [],
   "source": [
    "datesGroups = orders[['date','group']].drop_duplicates()"
   ]
  },
  {
   "cell_type": "markdown",
   "metadata": {},
   "source": [
    "Соберём агрегированные кумулятивные по дням данные о заказах:"
   ]
  },
  {
   "cell_type": "code",
   "execution_count": 22,
   "metadata": {},
   "outputs": [],
   "source": [
    "ordersAggregated = datesGroups.apply(lambda x: orders[np.logical_and(orders['date'] <= x['date'], orders['group'] == x['group'])]. \\\n",
    "                                     agg({'date' : 'max', \n",
    "                                          'group' : 'max', \n",
    "                                          'transactionId' : pd.Series.nunique, \n",
    "                                          'visitorId' : pd.Series.nunique, \n",
    "                                          'revenue' : 'sum'}), axis=1).sort_values(by=['date','group'])"
   ]
  },
  {
   "cell_type": "markdown",
   "metadata": {},
   "source": [
    "Аналогично получим агрегированные кумулятивные по дням данные о посетителях:"
   ]
  },
  {
   "cell_type": "code",
   "execution_count": 23,
   "metadata": {},
   "outputs": [],
   "source": [
    "visitorsAggregated = datesGroups.apply(lambda x: visitors[np.logical_and(visitors['date'] <= x['date'], visitors['group'] == x['group'])]. \\\n",
    "                                       agg({'date' : 'max', \n",
    "                                            'group' : 'max', \n",
    "                                            'visitors' : 'sum'}), axis=1).sort_values(by=['date','group'])\n"
   ]
  },
  {
   "cell_type": "markdown",
   "metadata": {},
   "source": [
    "Объединим обе таблицы в одну с понятными названиями столбцов: "
   ]
  },
  {
   "cell_type": "code",
   "execution_count": 24,
   "metadata": {},
   "outputs": [
    {
     "data": {
      "text/html": [
       "<div>\n",
       "<style scoped>\n",
       "    .dataframe tbody tr th:only-of-type {\n",
       "        vertical-align: middle;\n",
       "    }\n",
       "\n",
       "    .dataframe tbody tr th {\n",
       "        vertical-align: top;\n",
       "    }\n",
       "\n",
       "    .dataframe thead th {\n",
       "        text-align: right;\n",
       "    }\n",
       "</style>\n",
       "<table border=\"1\" class=\"dataframe\">\n",
       "  <thead>\n",
       "    <tr style=\"text-align: right;\">\n",
       "      <th></th>\n",
       "      <th>date</th>\n",
       "      <th>group</th>\n",
       "      <th>orders</th>\n",
       "      <th>buyers</th>\n",
       "      <th>revenue</th>\n",
       "      <th>visitors</th>\n",
       "    </tr>\n",
       "  </thead>\n",
       "  <tbody>\n",
       "    <tr>\n",
       "      <th>0</th>\n",
       "      <td>2019-08-01</td>\n",
       "      <td>A</td>\n",
       "      <td>23</td>\n",
       "      <td>19</td>\n",
       "      <td>142779</td>\n",
       "      <td>719</td>\n",
       "    </tr>\n",
       "    <tr>\n",
       "      <th>1</th>\n",
       "      <td>2019-08-01</td>\n",
       "      <td>B</td>\n",
       "      <td>17</td>\n",
       "      <td>17</td>\n",
       "      <td>59758</td>\n",
       "      <td>713</td>\n",
       "    </tr>\n",
       "    <tr>\n",
       "      <th>2</th>\n",
       "      <td>2019-08-02</td>\n",
       "      <td>A</td>\n",
       "      <td>42</td>\n",
       "      <td>36</td>\n",
       "      <td>234381</td>\n",
       "      <td>1338</td>\n",
       "    </tr>\n",
       "    <tr>\n",
       "      <th>3</th>\n",
       "      <td>2019-08-02</td>\n",
       "      <td>B</td>\n",
       "      <td>40</td>\n",
       "      <td>39</td>\n",
       "      <td>221801</td>\n",
       "      <td>1294</td>\n",
       "    </tr>\n",
       "    <tr>\n",
       "      <th>4</th>\n",
       "      <td>2019-08-03</td>\n",
       "      <td>A</td>\n",
       "      <td>66</td>\n",
       "      <td>60</td>\n",
       "      <td>346854</td>\n",
       "      <td>1845</td>\n",
       "    </tr>\n",
       "  </tbody>\n",
       "</table>\n",
       "</div>"
      ],
      "text/plain": [
       "        date group  orders  buyers  revenue  visitors\n",
       "0 2019-08-01     A      23      19   142779       719\n",
       "1 2019-08-01     B      17      17    59758       713\n",
       "2 2019-08-02     A      42      36   234381      1338\n",
       "3 2019-08-02     B      40      39   221801      1294\n",
       "4 2019-08-03     A      66      60   346854      1845"
      ]
     },
     "metadata": {},
     "output_type": "display_data"
    },
    {
     "name": "stdout",
     "output_type": "stream",
     "text": [
      "2019-08-01 00:00:00\n",
      "2019-08-31 00:00:00\n"
     ]
    }
   ],
   "source": [
    "cumulativeData = ordersAggregated.merge(visitorsAggregated, left_on=['date', 'group'], right_on=['date', 'group'])\n",
    "\n",
    "cumulativeData.columns = ['date', 'group', 'orders', 'buyers', 'revenue', 'visitors']\n",
    "\n",
    "display(cumulativeData.head(5))\n",
    "#Проверим корректность создания ДФ по датам:\n",
    "print(cumulativeData['date'].min())\n",
    "print(cumulativeData['date'].max())"
   ]
  },
  {
   "cell_type": "code",
   "execution_count": 25,
   "metadata": {},
   "outputs": [
    {
     "data": {
      "image/png": "[encoded data removed]",
      "text/plain": [
       "<Figure size 1080x504 with 1 Axes>"
      ]
     },
     "metadata": {
      "needs_background": "light"
     },
     "output_type": "display_data"
    }
   ],
   "source": [
    "# датафрейм с кумулятивным количеством заказов и кумулятивной выручкой по дням в группе А\n",
    "cumulativeRevenueA = cumulativeData[cumulativeData['group']=='A'][['date','revenue', 'orders']]\n",
    "# датафрейм с кумулятивным количеством заказов и кумулятивной выручкой по дням в группе B\n",
    "cumulativeRevenueB = cumulativeData[cumulativeData['group']=='B'][['date','revenue', 'orders']]\n",
    "\n",
    "#Строим график выручки\n",
    "plt.figure(figsize=(15,7))\n",
    "plt.plot(cumulativeRevenueA['date'], cumulativeRevenueA['revenue'], label='A')\n",
    "plt.plot(cumulativeRevenueB['date'], cumulativeRevenueB['revenue'], label='B')\n",
    "plt.title('График кумулятивной выручки по группам')\n",
    "plt.xlabel('Дата')\n",
    "plt.ylabel('Выручка')\n",
    "plt.grid(True)\n",
    "plt.legend()\n",
    "plt.show()"
   ]
  },
  {
   "cell_type": "markdown",
   "metadata": {},
   "source": [
    "**Вывод**\n",
    "\n",
    "Выручка почти равномерно увеличивается в течение всего теста, но в группе В наблюдаетсмя резкий скачек. Это может сигнализировать о всплесках числа заказов, либо о появлении очень дорогих заказов в выборке."
   ]
  },
  {
   "cell_type": "markdown",
   "metadata": {},
   "source": [
    "### Построим график кумулятивного среднего чека по группам."
   ]
  },
  {
   "cell_type": "markdown",
   "metadata": {},
   "source": [
    "Построим графики среднего чека по группам — разделим кумулятивную выручку на кумулятивное число заказов:"
   ]
  },
  {
   "cell_type": "code",
   "execution_count": 26,
   "metadata": {},
   "outputs": [
    {
     "data": {
      "image/png": "[encoded data removed]",
      "text/plain": [
       "<Figure size 1080x504 with 1 Axes>"
      ]
     },
     "metadata": {
      "needs_background": "light"
     },
     "output_type": "display_data"
    }
   ],
   "source": [
    "plt.figure(figsize=(15,7))\n",
    "plt.plot(cumulativeRevenueA['date'], cumulativeRevenueA['revenue']/cumulativeRevenueA['orders'], label='A')\n",
    "plt.plot(cumulativeRevenueB['date'], cumulativeRevenueB['revenue']/cumulativeRevenueB['orders'], label='B')\n",
    "plt.title('График кумулятивного среднего чека по группам')\n",
    "plt.xlabel('Дата')\n",
    "plt.ylabel('Средний чек')\n",
    "plt.grid(True)\n",
    "plt.legend()\n",
    "plt.show()"
   ]
  },
  {
   "cell_type": "markdown",
   "metadata": {},
   "source": [
    "**Вывод**\n",
    "\n",
    "Средний чек тоже становится равномерным ближе к концу теста: установился для группы A. Средний чек для группы B почти все время выше, чем для группы А. Однако имеется резкий скачек у группы В, что может быть из-за аномалий (выбросов)."
   ]
  },
  {
   "cell_type": "markdown",
   "metadata": {},
   "source": [
    "### Построим график относительного изменения кумулятивного среднего чека группы B к группе A."
   ]
  },
  {
   "cell_type": "markdown",
   "metadata": {},
   "source": [
    "Собираем данные в одном датафрейме:"
   ]
  },
  {
   "cell_type": "code",
   "execution_count": 27,
   "metadata": {},
   "outputs": [
    {
     "data": {
      "image/png": "[encoded data removed]",
      "text/plain": [
       "<Figure size 1080x504 with 1 Axes>"
      ]
     },
     "metadata": {
      "needs_background": "light"
     },
     "output_type": "display_data"
    }
   ],
   "source": [
    "mergedCumulativeRevenue = cumulativeRevenueA.merge(cumulativeRevenueB, left_on='date', right_on='date', how='left', suffixes=['A', 'B'])\n",
    "\n",
    "# cтроим отношение средних чеков\n",
    "plt.figure(figsize=(15,7))\n",
    "plt.grid(True)\n",
    "plt.plot(mergedCumulativeRevenue['date'], (mergedCumulativeRevenue['revenueB']/mergedCumulativeRevenue['ordersB'])/(mergedCumulativeRevenue['revenueA']/mergedCumulativeRevenue['ordersA'])-1)\n",
    "plt.title('График относительного изменения кумулятивного среднего чека группы B к группе A')\n",
    "plt.xlabel('Дата')\n",
    "# добавляем ось X\n",
    "plt.axhline(y=0, color='black', linestyle='--') \n",
    "plt.show()"
   ]
  },
  {
   "cell_type": "markdown",
   "metadata": {},
   "source": [
    "**Вывод:**\n",
    "    \n",
    "Резкие скачки говорят нам, что где-то есть крупные заказы и выбросы. Найдём их позже.    "
   ]
  },
  {
   "cell_type": "markdown",
   "metadata": {},
   "source": [
    "### Построим график кумулятивного среднего количества заказов на посетителя по группам."
   ]
  },
  {
   "cell_type": "markdown",
   "metadata": {},
   "source": [
    "Посчитаем кумулятивную конверсию:"
   ]
  },
  {
   "cell_type": "code",
   "execution_count": 28,
   "metadata": {},
   "outputs": [
    {
     "data": {
      "image/png": "[encoded data removed]",
      "text/plain": [
       "<Figure size 1080x504 with 1 Axes>"
      ]
     },
     "metadata": {
      "needs_background": "light"
     },
     "output_type": "display_data"
    }
   ],
   "source": [
    "cumulativeData['conversion'] = cumulativeData['orders']/cumulativeData['visitors']\n",
    "\n",
    "# отделяем данные по группе A\n",
    "cumulativeDataA = cumulativeData[cumulativeData['group']=='A']\n",
    "\n",
    "# отделяем данные по группе B\n",
    "cumulativeDataB = cumulativeData[cumulativeData['group']=='B']\n",
    "\n",
    "# строим графики\n",
    "plt.figure(figsize=(15,7))\n",
    "plt.grid(True)\n",
    "plt.plot(cumulativeDataA['date'], cumulativeDataA['conversion'], label='A')\n",
    "plt.plot(cumulativeDataB['date'], cumulativeDataB['conversion'], label='B')\n",
    "plt.legend()\n",
    "plt.title('График кумулятивного среднего количества заказов на посетителя по группам')\n",
    "plt.xlabel('Дата')\n",
    "plt.ylabel('Конверсия')\n",
    "# задаем масштаб осей\n",
    "plt.axis([dt.datetime(2019, 8, 1), dt.datetime(2019, 9, 1), 0, 0.05])\n",
    "plt.show()"
   ]
  },
  {
   "cell_type": "markdown",
   "metadata": {},
   "source": [
    "**Вывод:**\n",
    "    \n",
    "Группы колебались около одного значения, но затем конверсия группы B вырвалась вперёд и зафиксировалась, а конверсия группы A просела и также зафиксировалась.   "
   ]
  },
  {
   "cell_type": "markdown",
   "metadata": {},
   "source": [
    "### Построим график относительного изменения кумулятивного среднего количества заказов на посетителя группы B к группе A. "
   ]
  },
  {
   "cell_type": "code",
   "execution_count": 29,
   "metadata": {},
   "outputs": [
    {
     "data": {
      "image/png": "[encoded data removed]",
      "text/plain": [
       "<Figure size 1080x504 with 1 Axes>"
      ]
     },
     "metadata": {
      "needs_background": "light"
     },
     "output_type": "display_data"
    }
   ],
   "source": [
    "mergedCumulativeConversions = cumulativeDataA[['date','conversion']].merge(cumulativeDataB[['date','conversion']], left_on='date', right_on='date', how='left', suffixes=['A', 'B'])\n",
    "plt.figure(figsize=(15,7))\n",
    "plt.grid()\n",
    "plt.plot(mergedCumulativeConversions['date'], mergedCumulativeConversions['conversionB']/mergedCumulativeConversions['conversionA']-1, label=\"Относительный прирост конверсии группы B относительно группы A\")\n",
    "plt.legend()\n",
    "\n",
    "plt.axhline(y=0, color='black', linestyle='--')\n",
    "plt.axhline(y=0.2, color='grey', linestyle='--')\n",
    "plt.axis([\"2019-08-01\", '2019-09-01', -0.4, 0.4])\n",
    "plt.title('График относительного изменения кумулятивного среднего количества заказов на посетителя группы B к группе A')\n",
    "plt.xlabel('Дата')\n",
    "plt.show()"
   ]
  },
  {
   "cell_type": "markdown",
   "metadata": {},
   "source": [
    "**Вывод**\n",
    "\n",
    "В начале теста группа B незначительно проигрывала группе A, затем вырвалась вперёд. Потом её конверсия стабильно выше группы А более чем на 10%."
   ]
  },
  {
   "cell_type": "markdown",
   "metadata": {},
   "source": [
    "### Построим точечный график количества заказов по пользователям."
   ]
  },
  {
   "cell_type": "code",
   "execution_count": 30,
   "metadata": {},
   "outputs": [
    {
     "data": {
      "image/png": "[encoded data removed]",
      "text/plain": [
       "<Figure size 1080x360 with 1 Axes>"
      ]
     },
     "metadata": {
      "needs_background": "light"
     },
     "output_type": "display_data"
    }
   ],
   "source": [
    "ordersByUsers = orders.drop(['group', 'revenue', 'date'], axis=1).groupby('visitorId', as_index=False). \\\n",
    "                                                                        agg({'transactionId' : pd.Series.nunique})\n",
    "\n",
    "ordersByUsers.columns = ['user_id','orders']\n",
    "\n",
    "ordersByUsers.sort_values(by='orders',ascending=False).head(10)\n",
    "\n",
    "# серия из чисел от 0 до количества наблюдений в ordersByUsers\n",
    "plt.figure(figsize=(15,5))\n",
    "plt.grid(True)\n",
    "plt.title('График количества заказов по пользователям')\n",
    "plt.xlabel('Кол-во пользователей')\n",
    "plt.ylabel('Кол-во заказов')\n",
    "x_values = pd.Series(range(0, len(ordersByUsers)))\n",
    "plt.scatter(x_values, ordersByUsers['orders'])\n",
    "plt.show()"
   ]
  },
  {
   "cell_type": "markdown",
   "metadata": {},
   "source": [
    "**Вывод:**\n",
    "    \n",
    "Большинство пользователей совершили не более 2 заказов.     "
   ]
  },
  {
   "cell_type": "markdown",
   "metadata": {},
   "source": [
    "### Посчитаем 95-й и 99-й перцентили количества заказов на пользователя."
   ]
  },
  {
   "cell_type": "code",
   "execution_count": 31,
   "metadata": {},
   "outputs": [
    {
     "name": "stdout",
     "output_type": "stream",
     "text": [
      "[1. 2.]\n"
     ]
    }
   ],
   "source": [
    "print(np.percentile(ordersByUsers['orders'], [95, 99])) "
   ]
  },
  {
   "cell_type": "markdown",
   "metadata": {},
   "source": [
    "**Вывод**\n",
    "\n",
    "Не более 5% пользователей совершили более 1 заказа и не более 1% пользователей совершили более 2 заказов.\n",
    "Аномальными будем считать более 1 заказа, тем самым отсекая 5% заказов."
   ]
  },
  {
   "cell_type": "markdown",
   "metadata": {},
   "source": [
    "### Построим точечный график стоимостей заказов."
   ]
  },
  {
   "cell_type": "code",
   "execution_count": 32,
   "metadata": {},
   "outputs": [
    {
     "data": {
      "image/png": "[encoded data removed]",
      "text/plain": [
       "<Figure size 1080x360 with 1 Axes>"
      ]
     },
     "metadata": {
      "needs_background": "light"
     },
     "output_type": "display_data"
    }
   ],
   "source": [
    "x_values = pd.Series(range(0,len(orders['revenue'])))\n",
    "plt.figure(figsize=(15,5))\n",
    "plt.grid(True)\n",
    "plt.title('График стоимостей заказов')\n",
    "plt.xlabel('Кол-во пользователей')\n",
    "plt.ylabel('Стоимость заказа')\n",
    "plt.scatter(x_values, orders['revenue'], alpha=0.3)\n",
    "plt.show()"
   ]
  },
  {
   "cell_type": "markdown",
   "metadata": {},
   "source": [
    "График плохо \"читаем\" из-за аномальных значений. Отсечем значения выше 200 000 руб."
   ]
  },
  {
   "cell_type": "code",
   "execution_count": 33,
   "metadata": {},
   "outputs": [
    {
     "data": {
      "image/png": "[encoded data removed]",
      "text/plain": [
       "<Figure size 1080x360 with 1 Axes>"
      ]
     },
     "metadata": {
      "needs_background": "light"
     },
     "output_type": "display_data"
    }
   ],
   "source": [
    "orders_filtred = orders[orders['revenue']<=200000]['revenue']\n",
    "x_values = pd.Series(range(0,len(orders_filtred)))\n",
    "plt.figure(figsize=(15,5))\n",
    "plt.grid(True)\n",
    "plt.title('График стоимостей заказов')\n",
    "plt.xlabel('Кол-во пользователей')\n",
    "plt.ylabel('Стоимость заказа')\n",
    "plt.scatter(x_values, orders_filtred, alpha=0.3)\n",
    "plt.show()"
   ]
  },
  {
   "cell_type": "markdown",
   "metadata": {},
   "source": [
    "**Вывод:**\n",
    "    \n",
    "Большая часть заказов не превышает 20 000 руб.    "
   ]
  },
  {
   "cell_type": "markdown",
   "metadata": {},
   "source": [
    "### Посчитаем 95-й и 99-й перцентили стоимости заказов."
   ]
  },
  {
   "cell_type": "code",
   "execution_count": 34,
   "metadata": {},
   "outputs": [
    {
     "name": "stdout",
     "output_type": "stream",
     "text": [
      "[26785. 53904.]\n"
     ]
    }
   ],
   "source": [
    "print(np.percentile(orders['revenue'], [95, 99]))"
   ]
  },
  {
   "cell_type": "markdown",
   "metadata": {},
   "source": [
    "**Вывод:**\n",
    "    \n",
    "Не более 5% заказов стоят более 26785 руб. и не более 1% заказов стоят более 53904.  \n",
    "Аномальными будем считать заказы, сумма которых более 26785 руб. тем самым утсекая 5% заказов."
   ]
  },
  {
   "cell_type": "markdown",
   "metadata": {},
   "source": [
    "### Посчитаем статистическую значимость различий в среднем количестве заказов на посетителя между группами по «сырым» данным."
   ]
  },
  {
   "cell_type": "markdown",
   "metadata": {},
   "source": [
    "Начнем с подготовки данных:"
   ]
  },
  {
   "cell_type": "code",
   "execution_count": 35,
   "metadata": {},
   "outputs": [],
   "source": [
    "visitorsADaily = visitors[visitors['group']=='A'][['date', 'visitors']]\n",
    "visitorsADaily.columns = ['date', 'visitorsPerDateA']\n",
    "\n",
    "visitorsACummulative = visitorsADaily.apply(lambda x: visitorsADaily[visitorsADaily['date'] <= x['date']]. \\\n",
    "                                            agg({'date' : 'max', 'visitorsPerDateA' : 'sum'}), axis=1)\n",
    "visitorsACummulative.columns = ['date', 'visitorsCummulativeA']\n",
    "\n",
    "visitorsBDaily = visitors[visitors['group']=='B'][['date', 'visitors']]\n",
    "visitorsBDaily.columns = ['date', 'visitorsPerDateB']\n",
    "\n",
    "visitorsBCummulative = visitorsBDaily.apply(lambda x: visitorsBDaily[visitorsBDaily['date'] <= x['date']]. \\\n",
    "                                            agg({'date' : 'max', 'visitorsPerDateB' : 'sum'}), axis=1)\n",
    "visitorsBCummulative.columns = ['date', 'visitorsCummulativeB']"
   ]
  },
  {
   "cell_type": "code",
   "execution_count": 36,
   "metadata": {},
   "outputs": [],
   "source": [
    "ordersADaily = orders[orders['group']=='A'][['date', 'transactionId', 'visitorId', 'revenue']]\\\n",
    "    .groupby('date', as_index=False)\\\n",
    "    .agg({'transactionId' : pd.Series.nunique, 'revenue' : 'sum'})\n",
    "ordersADaily.columns = ['date', 'ordersPerDateA', 'revenuePerDateA']\n",
    "\n",
    "ordersACummulative = ordersADaily.apply(\n",
    "    lambda x: \\\n",
    "        ordersADaily[ordersADaily['date'] <= x['date']]\\\n",
    "            .agg({\n",
    "                'date' : 'max',\n",
    "                'ordersPerDateA' : 'sum',\n",
    "                'revenuePerDateA' : 'sum'}), axis=1).sort_values(by=['date'])\n",
    "ordersACummulative.columns = ['date', 'ordersCummulativeA', 'revenueCummulativeA']\n",
    "\n",
    "ordersBDaily = orders[orders['group']=='B'][['date', 'transactionId', 'visitorId', 'revenue']]\\\n",
    "    .groupby('date', as_index=False)\\\n",
    "    .agg({'transactionId' : pd.Series.nunique, 'revenue' : 'sum'})\n",
    "ordersBDaily.columns = ['date', 'ordersPerDateB', 'revenuePerDateB']\n",
    "\n",
    "ordersBCummulative = ordersBDaily.apply(\n",
    "    lambda x: \\\n",
    "        ordersBDaily[ordersBDaily['date'] <= x['date']]\\\n",
    "            .agg({\n",
    "                'date' : 'max',\n",
    "                'ordersPerDateB' : 'sum',\n",
    "                'revenuePerDateB' : 'sum'}), axis=1).sort_values(by=['date'])\n",
    "ordersBCummulative.columns = ['date', 'ordersCummulativeB', 'revenueCummulativeB']"
   ]
  },
  {
   "cell_type": "code",
   "execution_count": 37,
   "metadata": {},
   "outputs": [
    {
     "data": {
      "text/html": [
       "<div>\n",
       "<style scoped>\n",
       "    .dataframe tbody tr th:only-of-type {\n",
       "        vertical-align: middle;\n",
       "    }\n",
       "\n",
       "    .dataframe tbody tr th {\n",
       "        vertical-align: top;\n",
       "    }\n",
       "\n",
       "    .dataframe thead th {\n",
       "        text-align: right;\n",
       "    }\n",
       "</style>\n",
       "<table border=\"1\" class=\"dataframe\">\n",
       "  <thead>\n",
       "    <tr style=\"text-align: right;\">\n",
       "      <th></th>\n",
       "      <th>date</th>\n",
       "      <th>ordersPerDateA</th>\n",
       "      <th>revenuePerDateA</th>\n",
       "      <th>ordersPerDateB</th>\n",
       "      <th>revenuePerDateB</th>\n",
       "      <th>ordersCummulativeA</th>\n",
       "      <th>revenueCummulativeA</th>\n",
       "      <th>ordersCummulativeB</th>\n",
       "      <th>revenueCummulativeB</th>\n",
       "      <th>visitorsPerDateA</th>\n",
       "      <th>visitorsPerDateB</th>\n",
       "      <th>visitorsCummulativeA</th>\n",
       "      <th>visitorsCummulativeB</th>\n",
       "    </tr>\n",
       "  </thead>\n",
       "  <tbody>\n",
       "    <tr>\n",
       "      <th>0</th>\n",
       "      <td>2019-08-01</td>\n",
       "      <td>23</td>\n",
       "      <td>142779</td>\n",
       "      <td>17</td>\n",
       "      <td>59758</td>\n",
       "      <td>23</td>\n",
       "      <td>142779</td>\n",
       "      <td>17</td>\n",
       "      <td>59758</td>\n",
       "      <td>719</td>\n",
       "      <td>713</td>\n",
       "      <td>719</td>\n",
       "      <td>713</td>\n",
       "    </tr>\n",
       "    <tr>\n",
       "      <th>1</th>\n",
       "      <td>2019-08-02</td>\n",
       "      <td>19</td>\n",
       "      <td>91602</td>\n",
       "      <td>23</td>\n",
       "      <td>162043</td>\n",
       "      <td>42</td>\n",
       "      <td>234381</td>\n",
       "      <td>40</td>\n",
       "      <td>221801</td>\n",
       "      <td>619</td>\n",
       "      <td>581</td>\n",
       "      <td>1338</td>\n",
       "      <td>1294</td>\n",
       "    </tr>\n",
       "    <tr>\n",
       "      <th>2</th>\n",
       "      <td>2019-08-03</td>\n",
       "      <td>24</td>\n",
       "      <td>112473</td>\n",
       "      <td>14</td>\n",
       "      <td>67049</td>\n",
       "      <td>66</td>\n",
       "      <td>346854</td>\n",
       "      <td>54</td>\n",
       "      <td>288850</td>\n",
       "      <td>507</td>\n",
       "      <td>509</td>\n",
       "      <td>1845</td>\n",
       "      <td>1803</td>\n",
       "    </tr>\n",
       "    <tr>\n",
       "      <th>3</th>\n",
       "      <td>2019-08-04</td>\n",
       "      <td>11</td>\n",
       "      <td>41176</td>\n",
       "      <td>14</td>\n",
       "      <td>96890</td>\n",
       "      <td>77</td>\n",
       "      <td>388030</td>\n",
       "      <td>68</td>\n",
       "      <td>385740</td>\n",
       "      <td>717</td>\n",
       "      <td>770</td>\n",
       "      <td>2562</td>\n",
       "      <td>2573</td>\n",
       "    </tr>\n",
       "    <tr>\n",
       "      <th>4</th>\n",
       "      <td>2019-08-05</td>\n",
       "      <td>22</td>\n",
       "      <td>86383</td>\n",
       "      <td>21</td>\n",
       "      <td>89908</td>\n",
       "      <td>99</td>\n",
       "      <td>474413</td>\n",
       "      <td>89</td>\n",
       "      <td>475648</td>\n",
       "      <td>756</td>\n",
       "      <td>707</td>\n",
       "      <td>3318</td>\n",
       "      <td>3280</td>\n",
       "    </tr>\n",
       "  </tbody>\n",
       "</table>\n",
       "</div>"
      ],
      "text/plain": [
       "        date  ordersPerDateA  revenuePerDateA  ordersPerDateB  \\\n",
       "0 2019-08-01              23           142779              17   \n",
       "1 2019-08-02              19            91602              23   \n",
       "2 2019-08-03              24           112473              14   \n",
       "3 2019-08-04              11            41176              14   \n",
       "4 2019-08-05              22            86383              21   \n",
       "\n",
       "   revenuePerDateB  ordersCummulativeA  revenueCummulativeA  \\\n",
       "0            59758                  23               142779   \n",
       "1           162043                  42               234381   \n",
       "2            67049                  66               346854   \n",
       "3            96890                  77               388030   \n",
       "4            89908                  99               474413   \n",
       "\n",
       "   ordersCummulativeB  revenueCummulativeB  visitorsPerDateA  \\\n",
       "0                  17                59758               719   \n",
       "1                  40               221801               619   \n",
       "2                  54               288850               507   \n",
       "3                  68               385740               717   \n",
       "4                  89               475648               756   \n",
       "\n",
       "   visitorsPerDateB  visitorsCummulativeA  visitorsCummulativeB  \n",
       "0               713                   719                   713  \n",
       "1               581                  1338                  1294  \n",
       "2               509                  1845                  1803  \n",
       "3               770                  2562                  2573  \n",
       "4               707                  3318                  3280  "
      ]
     },
     "metadata": {},
     "output_type": "display_data"
    }
   ],
   "source": [
    "data = ordersADaily.merge(ordersBDaily, left_on='date', right_on='date', how='left')\\\n",
    "    .merge(ordersACummulative, left_on='date', right_on='date', how='left')\\\n",
    "    .merge(ordersBCummulative, left_on='date', right_on='date', how='left')\\\n",
    "    .merge(visitorsADaily, left_on='date', right_on='date', how='left')\\\n",
    "    .merge(visitorsBDaily, left_on='date', right_on='date', how='left')\\\n",
    "    .merge(visitorsACummulative, left_on='date', right_on='date', how='left')\\\n",
    "    .merge(visitorsBCummulative, left_on='date', right_on='date', how='left')\n",
    "display(data.head(5)) "
   ]
  },
  {
   "cell_type": "markdown",
   "metadata": {},
   "source": [
    "Посчитаем статистическую значимость различия в среднем количестве заказов между группами.\n",
    "Создадим переменные ordersByUsersA и ordersByUsersB со столбцами ['userId', 'orders']. В них для пользователей, которые заказывали хотя бы 1 раз, укажем число совершённых заказов."
   ]
  },
  {
   "cell_type": "code",
   "execution_count": 38,
   "metadata": {},
   "outputs": [],
   "source": [
    "ordersByUsersA = orders[orders['group']=='A'].groupby('visitorId', as_index=False).agg({'transactionId' : pd.Series.nunique})\n",
    "ordersByUsersA.columns = ['userId', 'orders']\n",
    "\n",
    "ordersByUsersB = orders[orders['group']=='B'].groupby('visitorId', as_index=False).agg({'transactionId' : pd.Series.nunique})\n",
    "ordersByUsersB.columns = ['userId', 'orders']"
   ]
  },
  {
   "cell_type": "markdown",
   "metadata": {},
   "source": [
    "Объявим переменные sampleA и sampleB, в которых пользователям из разных групп будет соответствовать количество заказов. Тем, кто ничего не заказал, будут соответствовать нули. Это нужно, чтобы подготовить выборки к проверке критерием Манна-Уитни."
   ]
  },
  {
   "cell_type": "code",
   "execution_count": 39,
   "metadata": {},
   "outputs": [],
   "source": [
    "sampleA = pd.concat([ordersByUsersA['orders'],pd.Series(0, index=np.arange(data['visitorsPerDateA'].sum() - len(ordersByUsersA['orders'])), name='orders')],axis=0)\n",
    "\n",
    "sampleB = pd.concat([ordersByUsersB['orders'],pd.Series(0, index=np.arange(data['visitorsPerDateB'].sum() - len(ordersByUsersB['orders'])), name='orders')],axis=0)"
   ]
  },
  {
   "cell_type": "markdown",
   "metadata": {},
   "source": [
    "**Сформулируем гипотезы:**\n",
    "\n",
    "- Нулевая гипотеза H0: статистически значимых различий в конверсиях между группами нет.\n",
    "- Альтернативная гипотеза Н1: статистически значимые различия в конверсиях между группами есть."
   ]
  },
  {
   "cell_type": "code",
   "execution_count": 40,
   "metadata": {},
   "outputs": [
    {
     "data": {
      "text/plain": [
       "'alpha = 0.05'"
      ]
     },
     "metadata": {},
     "output_type": "display_data"
    },
    {
     "data": {
      "text/plain": [
       "'p-value = 0.011'"
      ]
     },
     "metadata": {},
     "output_type": "display_data"
    },
    {
     "data": {
      "text/plain": [
       "'относительный прирост конверсии группы B = 0.160'"
      ]
     },
     "metadata": {},
     "output_type": "display_data"
    }
   ],
   "source": [
    "#Применим критерий и отформатируем p-value, округлив его до трёх знаков после запятой\n",
    "display(\"alpha = 0.05\")\n",
    "display(\"p-value = {0:.3f}\".format(st.mannwhitneyu(sampleA, sampleB, alternative = 'two-sided')[1]))\n",
    "display(\"относительный прирост конверсии группы B = {0:.3f}\".format(sampleB.mean()/sampleA.mean()-1)) "
   ]
  },
  {
   "cell_type": "markdown",
   "metadata": {},
   "source": [
    "**Вывод: По «сырым» данным различия в среднем числе заказов групп A и B есть.** \n",
    "Первое число — p-value = 0.011 меньше 0.05. Значит, нулевую гипотезу о том, что статистически значимых различий в среднем числе заказов между группами нет, отвергаем. Однако относительный прирост группы В к А равен 16% — второе число в выводе."
   ]
  },
  {
   "cell_type": "markdown",
   "metadata": {},
   "source": [
    "### Посчитаеv статистическую значимость различий в среднем чеке заказа между группами по «сырым» данным."
   ]
  },
  {
   "cell_type": "markdown",
   "metadata": {},
   "source": [
    "**Сформулируем гипотезы:**\n",
    "\n",
    "- Нулевая гипотеза H0: статистически значимых различий в среднем чеке между группами нет.\n",
    "- Альтернативная гипотеза Н1: статистически значимые различия в среднем чеке между группами есть."
   ]
  },
  {
   "cell_type": "code",
   "execution_count": 41,
   "metadata": {},
   "outputs": [
    {
     "data": {
      "text/plain": [
       "'alpha = 0.05'"
      ]
     },
     "metadata": {},
     "output_type": "display_data"
    },
    {
     "data": {
      "text/plain": [
       "'p-value = 0.829'"
      ]
     },
     "metadata": {},
     "output_type": "display_data"
    },
    {
     "data": {
      "text/plain": [
       "\"Относительный показатель 'B' и 'A' = 0.287\""
      ]
     },
     "metadata": {},
     "output_type": "display_data"
    }
   ],
   "source": [
    "display(\"alpha = 0.05\")\n",
    "display(\"p-value = {0:.3f}\".format(st.mannwhitneyu(orders[orders['group']=='A']['revenue'], orders[orders['group']=='B']['revenue'], alternative = 'two-sided')[1]))\n",
    "display(\"Относительный показатель 'B' и 'A' = {0:.3f}\".format(orders[orders['group']=='B']['revenue'].mean()/orders[orders['group']=='A']['revenue'].mean()-1)) "
   ]
  },
  {
   "cell_type": "markdown",
   "metadata": {},
   "source": [
    "**Вывод: По «сырым» данным различий в среднем чеке групп A и B нет.**  P-value значительно больше 0.05. Значит, причин отвергать нулевую гипотезу и считать, что в среднем чеке есть различия, нет. Впрочем, средний чек группы B значительно выше среднего чека группы A (на 28.7%)"
   ]
  },
  {
   "cell_type": "markdown",
   "metadata": {},
   "source": [
    "### Посчитаем статистическую значимость различий в среднем количестве заказов на посетителя между группами по «очищенным» данным."
   ]
  },
  {
   "cell_type": "markdown",
   "metadata": {},
   "source": [
    "Примем за аномальных пользователей тех, кто совершил более 2 заказов или совершил заказ дороже 26785 рублей. Так мы уберём 5% пользователей с наибольшим числом заказов и от 1% до 5% пользователей с дорогими заказами."
   ]
  },
  {
   "cell_type": "markdown",
   "metadata": {},
   "source": [
    "Сделаем срезы пользователей с числом заказов больше 2 — usersWithManyOrders и пользователей, совершивших заказы дороже 26 785 — usersWithExpensiveOrders. Объединим их в таблице abnormalUsers. Узнаем, сколько всего аномальных пользователей атрибутом shape."
   ]
  },
  {
   "cell_type": "code",
   "execution_count": 42,
   "metadata": {},
   "outputs": [
    {
     "data": {
      "text/plain": [
       "568     113298937\n",
       "1099    148427295\n",
       "928     204675465\n",
       "33      249864742\n",
       "684     358944393\n",
       "dtype: int64"
      ]
     },
     "metadata": {},
     "output_type": "display_data"
    },
    {
     "name": "stdout",
     "output_type": "stream",
     "text": [
      "Всего аномальных пользователей = 58\n"
     ]
    }
   ],
   "source": [
    "usersWithManyOrders = pd.concat([ordersByUsersA[ordersByUsersA['orders'] > 2]['userId'], ordersByUsersB[ordersByUsersB['orders'] > 2]['userId']], axis = 0)\n",
    "usersWithExpensiveOrders = orders[orders['revenue'] > 26785]['visitorId']   \n",
    "abnormalUsers = pd.concat([usersWithManyOrders, usersWithExpensiveOrders], axis = 0).drop_duplicates().sort_values()\n",
    "display(abnormalUsers.head(5))\n",
    "print(\"Всего аномальных пользователей =\" ,len(abnormalUsers)) "
   ]
  },
  {
   "cell_type": "markdown",
   "metadata": {},
   "source": [
    "Узнаем, как их действия повлияли на результаты теста. Посчитаем статистическую значимость различий в среднем количестве заказов между группами теста по очищенным данным. Сначала подготовим выборки количества заказов по пользователям по группам теста:"
   ]
  },
  {
   "cell_type": "code",
   "execution_count": 43,
   "metadata": {},
   "outputs": [],
   "source": [
    "\n",
    "sampleAFiltered = pd.concat(\n",
    "    [\n",
    "        ordersByUsersA[\n",
    "            np.logical_not(ordersByUsersA['userId'].isin(abnormalUsers))\n",
    "        ]['orders'],\n",
    "        pd.Series(\n",
    "            0,\n",
    "            index=np.arange(\n",
    "                data['visitorsPerDateA'].sum() - len(ordersByUsersA['orders'])\n",
    "            ),\n",
    "            name='orders',\n",
    "        ),\n",
    "    ],\n",
    "    axis=0,\n",
    ")\n",
    "\n",
    "sampleBFiltered = pd.concat(\n",
    "    [\n",
    "        ordersByUsersB[\n",
    "            np.logical_not(ordersByUsersB['userId'].isin(abnormalUsers))\n",
    "        ]['orders'],\n",
    "        pd.Series(\n",
    "            0,\n",
    "            index=np.arange(\n",
    "                data['visitorsPerDateB'].sum() - len(ordersByUsersB['orders'])\n",
    "            ),\n",
    "            name='orders',\n",
    "        ),\n",
    "    ],\n",
    "    axis=0,\n",
    ")"
   ]
  },
  {
   "cell_type": "markdown",
   "metadata": {},
   "source": [
    "**Сформулируем гипотезы:**\n",
    "\n",
    "- Нулевая гипотеза H0: статистически значимых различий в конверсиях между группами нет.\n",
    "- Альтернативная гипотеза Н1: статистически значимые различия в конверсиях между группами есть."
   ]
  },
  {
   "cell_type": "code",
   "execution_count": 44,
   "metadata": {},
   "outputs": [
    {
     "name": "stdout",
     "output_type": "stream",
     "text": [
      "alpha = 0.05\n",
      "p-value = 0.012\n",
      "Относительный показатель 'B' и 'A' = 0.182\n"
     ]
    }
   ],
   "source": [
    "print(\"alpha =\",0.05)\n",
    "print(\"p-value = {0:.3f}\".format(st.mannwhitneyu(sampleAFiltered, sampleBFiltered, alternative = 'two-sided')[1]))\n",
    "print(\"Относительный показатель 'B' и 'A' = {0:.3f}\".format(sampleBFiltered.mean()/sampleAFiltered.mean()-1)) "
   ]
  },
  {
   "cell_type": "markdown",
   "metadata": {},
   "source": [
    "**Вывод: По «очищенным» данным различия в среднем числе заказов групп A и B есть.** \n",
    "Первое число — p-value = 0.012 меньше 0.05. Значит, нулевую гипотезу о том, что статистически значимых различий в среднем числе заказов между группами нет, отвергаем. Однако относительный прирост группы В к А равен более 18% — второе число в выводе (на 2% выше, чем по \"сырым\" данным)"
   ]
  },
  {
   "cell_type": "markdown",
   "metadata": {},
   "source": [
    "### Посчитаем статистическую значимость различий в среднем чеке заказа между группами по «очищенным» данным."
   ]
  },
  {
   "cell_type": "markdown",
   "metadata": {},
   "source": [
    "**Сформулируем гипотезы:**\n",
    "\n",
    "- Нулевая гипотеза H0: статистически значимых различий в среднем чеке между группами нет.\n",
    "- Альтернативная гипотеза Н1: статистически значимые различия в среднем чеке между группами есть."
   ]
  },
  {
   "cell_type": "code",
   "execution_count": 45,
   "metadata": {},
   "outputs": [
    {
     "name": "stdout",
     "output_type": "stream",
     "text": [
      "alpha = 0.05\n",
      "p-value = 0.646\n",
      "Относительный показатель В и А = -0.048\n"
     ]
    }
   ],
   "source": [
    "print(\"alpha =\",0.05)\n",
    "print(\"p-value = {0:.3f}\".format(st.mannwhitneyu(\n",
    "    orders[np.logical_and(\n",
    "        orders['group']=='A',\n",
    "        np.logical_not(orders['visitorId'].isin(abnormalUsers)))]['revenue'],\n",
    "    orders[np.logical_and(\n",
    "        orders['group']=='B',\n",
    "        np.logical_not(orders['visitorId'].isin(abnormalUsers)))]['revenue'], alternative = 'two-sided')[1]))\n",
    "\n",
    "print(\"Относительный показатель В и А = {0:.3f}\".format(\n",
    "    orders[np.logical_and(orders['group']=='B',np.logical_not(orders['visitorId'].isin(abnormalUsers)))]['revenue'].mean()/\n",
    "    orders[np.logical_and(\n",
    "        orders['group']=='A',\n",
    "        np.logical_not(orders['visitorId'].isin(abnormalUsers)))]['revenue'].mean() - 1)) "
   ]
  },
  {
   "cell_type": "markdown",
   "metadata": {},
   "source": [
    "**Вывод: По «очищенным» данным различий в среднем чеке групп A и B нет.**  P-value значительно больше 0.05. Значит, причин отвергать нулевую гипотезу и считать, что в среднем чеке есть различия, нет. Однако по \"очищенным\" данным средний чек группы В оказался меньше среднего чека группы А! (был выше на 28.7%, а оказался почти на 5% ниже!).  "
   ]
  },
  {
   "cell_type": "markdown",
   "metadata": {},
   "source": [
    "### Выводы по результатам теста: "
   ]
  },
  {
   "cell_type": "markdown",
   "metadata": {},
   "source": [
    "**Имеющиеся факты:**\n",
    "\n",
    "- Есть статистически значимое различие по среднему количеству заказов между группами и по «сырым», и по данным после фильтрации аномалий;\n",
    "- Нет статистически значимого различия по среднему чеку между группами ни по «сырым», ни по данным после фильтрации аномалий;\n",
    "- График различия среднего количества заказов между группами сообщает, что результаты группы B стабильно лучше группы A и нет тенденции к ухудшению;\n",
    "- График различия среднего чека хоть и и говорит нам о том, что значения выше у группы В, но по «очищенным» данным, средний чек оказался ниже, хоть и не значительно. "
   ]
  },
  {
   "cell_type": "markdown",
   "metadata": {},
   "source": [
    "**Решение:**\n",
    "\n",
    "**Исходя из обнаруженных фактов, тест следует остановить, зафиксировать победу группы В, но только по конверсии.** "
   ]
  },
  {
   "cell_type": "code",
   "execution_count": null,
   "metadata": {},
   "outputs": [],
   "source": []
  }
 ],
 "metadata": {
  "ExecuteTimeLog": [
   {
    "duration": 1351,
    "start_time": "2023-05-16T19:26:26.915Z"
   },
   {
    "duration": 198,
    "start_time": "2023-05-16T19:30:17.628Z"
   },
   {
    "duration": 44,
    "start_time": "2023-05-16T19:35:28.002Z"
   },
   {
    "duration": 37,
    "start_time": "2023-05-16T19:35:53.160Z"
   },
   {
    "duration": 95,
    "start_time": "2023-05-16T19:43:03.458Z"
   },
   {
    "duration": 10,
    "start_time": "2023-05-16T19:44:11.403Z"
   },
   {
    "duration": 10,
    "start_time": "2023-05-16T19:44:26.355Z"
   },
   {
    "duration": 11,
    "start_time": "2023-05-16T19:46:31.107Z"
   },
   {
    "duration": 62,
    "start_time": "2023-05-16T20:06:14.292Z"
   },
   {
    "duration": 60,
    "start_time": "2023-05-16T20:06:29.096Z"
   },
   {
    "duration": 63,
    "start_time": "2023-05-16T20:11:26.553Z"
   },
   {
    "duration": 38,
    "start_time": "2023-05-16T20:13:01.953Z"
   },
   {
    "duration": 1038,
    "start_time": "2023-05-16T20:15:09.762Z"
   },
   {
    "duration": 44,
    "start_time": "2023-05-16T20:15:10.802Z"
   },
   {
    "duration": 49,
    "start_time": "2023-05-16T20:15:10.848Z"
   },
   {
    "duration": 60,
    "start_time": "2023-05-16T20:15:10.900Z"
   },
   {
    "duration": 0,
    "start_time": "2023-05-16T20:15:10.962Z"
   },
   {
    "duration": 0,
    "start_time": "2023-05-16T20:15:10.963Z"
   },
   {
    "duration": 0,
    "start_time": "2023-05-16T20:15:10.965Z"
   },
   {
    "duration": 0,
    "start_time": "2023-05-16T20:15:10.966Z"
   },
   {
    "duration": 39,
    "start_time": "2023-05-16T20:15:37.400Z"
   },
   {
    "duration": 1035,
    "start_time": "2023-05-16T20:17:03.925Z"
   },
   {
    "duration": 44,
    "start_time": "2023-05-16T20:17:04.962Z"
   },
   {
    "duration": 49,
    "start_time": "2023-05-16T20:17:05.007Z"
   },
   {
    "duration": 27,
    "start_time": "2023-05-16T20:17:05.057Z"
   },
   {
    "duration": 10,
    "start_time": "2023-05-16T20:17:05.086Z"
   },
   {
    "duration": 9,
    "start_time": "2023-05-16T20:17:05.097Z"
   },
   {
    "duration": 13,
    "start_time": "2023-05-16T20:18:47.655Z"
   },
   {
    "duration": 5,
    "start_time": "2023-05-16T20:19:09.327Z"
   },
   {
    "duration": 15,
    "start_time": "2023-05-16T20:19:22.138Z"
   },
   {
    "duration": 75,
    "start_time": "2023-05-16T20:20:05.556Z"
   },
   {
    "duration": 10,
    "start_time": "2023-05-16T20:21:41.460Z"
   },
   {
    "duration": 999,
    "start_time": "2023-05-16T20:21:58.860Z"
   },
   {
    "duration": 43,
    "start_time": "2023-05-16T20:21:59.861Z"
   },
   {
    "duration": 49,
    "start_time": "2023-05-16T20:21:59.906Z"
   },
   {
    "duration": 12,
    "start_time": "2023-05-16T20:21:59.957Z"
   },
   {
    "duration": 11,
    "start_time": "2023-05-16T20:21:59.971Z"
   },
   {
    "duration": 31,
    "start_time": "2023-05-16T20:21:59.983Z"
   },
   {
    "duration": 4,
    "start_time": "2023-05-16T20:22:00.016Z"
   },
   {
    "duration": 20,
    "start_time": "2023-05-16T20:22:00.022Z"
   },
   {
    "duration": 16,
    "start_time": "2023-05-16T20:22:00.043Z"
   },
   {
    "duration": 11,
    "start_time": "2023-05-16T20:22:00.060Z"
   },
   {
    "duration": 1070,
    "start_time": "2023-05-16T20:24:04.189Z"
   },
   {
    "duration": 44,
    "start_time": "2023-05-16T20:24:05.261Z"
   },
   {
    "duration": 49,
    "start_time": "2023-05-16T20:24:05.307Z"
   },
   {
    "duration": 12,
    "start_time": "2023-05-16T20:24:05.358Z"
   },
   {
    "duration": 9,
    "start_time": "2023-05-16T20:24:05.373Z"
   },
   {
    "duration": 31,
    "start_time": "2023-05-16T20:24:05.384Z"
   },
   {
    "duration": 4,
    "start_time": "2023-05-16T20:24:05.417Z"
   },
   {
    "duration": 12,
    "start_time": "2023-05-16T20:24:05.423Z"
   },
   {
    "duration": 14,
    "start_time": "2023-05-16T20:24:05.436Z"
   },
   {
    "duration": 12,
    "start_time": "2023-05-16T20:24:05.452Z"
   },
   {
    "duration": 8,
    "start_time": "2023-05-16T20:27:08.700Z"
   },
   {
    "duration": 44,
    "start_time": "2023-05-17T12:53:11.407Z"
   },
   {
    "duration": 723,
    "start_time": "2023-05-17T12:53:19.193Z"
   },
   {
    "duration": 88,
    "start_time": "2023-05-17T12:53:19.918Z"
   },
   {
    "duration": 82,
    "start_time": "2023-05-17T12:53:20.007Z"
   },
   {
    "duration": 10,
    "start_time": "2023-05-17T12:53:20.091Z"
   },
   {
    "duration": 31,
    "start_time": "2023-05-17T12:53:20.103Z"
   },
   {
    "duration": 89,
    "start_time": "2023-05-17T12:53:20.136Z"
   },
   {
    "duration": 4,
    "start_time": "2023-05-17T12:53:20.226Z"
   },
   {
    "duration": 15,
    "start_time": "2023-05-17T12:53:20.231Z"
   },
   {
    "duration": 11,
    "start_time": "2023-05-17T12:53:20.247Z"
   },
   {
    "duration": 14,
    "start_time": "2023-05-17T12:53:20.260Z"
   },
   {
    "duration": 104,
    "start_time": "2023-05-17T13:49:50.388Z"
   },
   {
    "duration": 13,
    "start_time": "2023-05-17T13:52:53.858Z"
   },
   {
    "duration": 4,
    "start_time": "2023-05-17T13:54:19.638Z"
   },
   {
    "duration": 313,
    "start_time": "2023-05-17T13:59:11.728Z"
   },
   {
    "duration": 581,
    "start_time": "2023-05-17T14:00:02.692Z"
   },
   {
    "duration": 1168,
    "start_time": "2023-05-17T14:00:11.343Z"
   },
   {
    "duration": 65,
    "start_time": "2023-05-17T14:00:12.513Z"
   },
   {
    "duration": 72,
    "start_time": "2023-05-17T14:00:12.580Z"
   },
   {
    "duration": 18,
    "start_time": "2023-05-17T14:00:12.654Z"
   },
   {
    "duration": 16,
    "start_time": "2023-05-17T14:00:12.675Z"
   },
   {
    "duration": 47,
    "start_time": "2023-05-17T14:00:12.694Z"
   },
   {
    "duration": 4,
    "start_time": "2023-05-17T14:00:12.743Z"
   },
   {
    "duration": 25,
    "start_time": "2023-05-17T14:00:12.749Z"
   },
   {
    "duration": 17,
    "start_time": "2023-05-17T14:00:12.776Z"
   },
   {
    "duration": 54,
    "start_time": "2023-05-17T14:00:12.795Z"
   },
   {
    "duration": 17,
    "start_time": "2023-05-17T14:00:12.850Z"
   },
   {
    "duration": 8,
    "start_time": "2023-05-17T14:00:12.869Z"
   },
   {
    "duration": 256,
    "start_time": "2023-05-17T14:00:12.878Z"
   },
   {
    "duration": 18,
    "start_time": "2023-05-17T14:03:06.918Z"
   },
   {
    "duration": 17,
    "start_time": "2023-05-17T14:03:23.624Z"
   },
   {
    "duration": 6,
    "start_time": "2023-05-17T14:07:57.193Z"
   },
   {
    "duration": 9,
    "start_time": "2023-05-17T14:08:23.066Z"
   },
   {
    "duration": 182,
    "start_time": "2023-05-17T14:10:39.688Z"
   },
   {
    "duration": 123,
    "start_time": "2023-05-17T14:11:50.228Z"
   },
   {
    "duration": 13,
    "start_time": "2023-05-17T14:12:29.791Z"
   },
   {
    "duration": 21,
    "start_time": "2023-05-17T14:13:03.195Z"
   },
   {
    "duration": 292,
    "start_time": "2023-05-17T14:15:21.567Z"
   },
   {
    "duration": 202,
    "start_time": "2023-05-17T14:15:39.060Z"
   },
   {
    "duration": 245,
    "start_time": "2023-05-17T14:15:54.683Z"
   },
   {
    "duration": 218,
    "start_time": "2023-05-17T14:16:05.421Z"
   },
   {
    "duration": 195,
    "start_time": "2023-05-17T14:16:26.040Z"
   },
   {
    "duration": 172,
    "start_time": "2023-05-17T14:16:36.628Z"
   },
   {
    "duration": 201,
    "start_time": "2023-05-17T14:16:45.632Z"
   },
   {
    "duration": 292,
    "start_time": "2023-05-17T14:16:56.755Z"
   },
   {
    "duration": 220,
    "start_time": "2023-05-17T14:17:25.614Z"
   },
   {
    "duration": 186,
    "start_time": "2023-05-17T14:18:05.319Z"
   },
   {
    "duration": 202,
    "start_time": "2023-05-17T14:18:23.920Z"
   },
   {
    "duration": 209,
    "start_time": "2023-05-17T14:18:57.913Z"
   },
   {
    "duration": 175,
    "start_time": "2023-05-17T14:22:34.512Z"
   },
   {
    "duration": 160,
    "start_time": "2023-05-17T14:23:06.642Z"
   },
   {
    "duration": 180,
    "start_time": "2023-05-17T14:24:11.044Z"
   },
   {
    "duration": 214,
    "start_time": "2023-05-17T14:24:29.191Z"
   },
   {
    "duration": 219,
    "start_time": "2023-05-17T14:24:47.151Z"
   },
   {
    "duration": 207,
    "start_time": "2023-05-17T14:25:05.414Z"
   },
   {
    "duration": 296,
    "start_time": "2023-05-17T14:40:40.279Z"
   },
   {
    "duration": 299,
    "start_time": "2023-05-17T14:42:09.375Z"
   },
   {
    "duration": 272,
    "start_time": "2023-05-17T14:42:41.445Z"
   },
   {
    "duration": 267,
    "start_time": "2023-05-17T14:43:39.363Z"
   },
   {
    "duration": 370,
    "start_time": "2023-05-17T14:44:12.824Z"
   },
   {
    "duration": 362,
    "start_time": "2023-05-17T14:44:20.238Z"
   },
   {
    "duration": 318,
    "start_time": "2023-05-17T14:44:36.821Z"
   },
   {
    "duration": 317,
    "start_time": "2023-05-17T14:44:43.693Z"
   },
   {
    "duration": 338,
    "start_time": "2023-05-17T14:45:04.187Z"
   },
   {
    "duration": 228,
    "start_time": "2023-05-17T14:49:07.879Z"
   },
   {
    "duration": 200,
    "start_time": "2023-05-17T14:49:58.221Z"
   },
   {
    "duration": 340,
    "start_time": "2023-05-17T14:50:10.879Z"
   },
   {
    "duration": 196,
    "start_time": "2023-05-17T14:50:22.127Z"
   },
   {
    "duration": 219,
    "start_time": "2023-05-17T14:50:42.278Z"
   },
   {
    "duration": 210,
    "start_time": "2023-05-17T14:53:19.349Z"
   },
   {
    "duration": 192,
    "start_time": "2023-05-17T14:53:25.299Z"
   },
   {
    "duration": 1137,
    "start_time": "2023-05-17T15:39:50.231Z"
   },
   {
    "duration": 42,
    "start_time": "2023-05-17T15:39:51.370Z"
   },
   {
    "duration": 49,
    "start_time": "2023-05-17T15:39:51.413Z"
   },
   {
    "duration": 15,
    "start_time": "2023-05-17T15:39:51.465Z"
   },
   {
    "duration": 18,
    "start_time": "2023-05-17T15:39:51.482Z"
   },
   {
    "duration": 36,
    "start_time": "2023-05-17T15:39:51.501Z"
   },
   {
    "duration": 5,
    "start_time": "2023-05-17T15:39:51.538Z"
   },
   {
    "duration": 14,
    "start_time": "2023-05-17T15:39:51.544Z"
   },
   {
    "duration": 26,
    "start_time": "2023-05-17T15:39:51.559Z"
   },
   {
    "duration": 9,
    "start_time": "2023-05-17T15:39:51.588Z"
   },
   {
    "duration": 29,
    "start_time": "2023-05-17T15:39:51.599Z"
   },
   {
    "duration": 6,
    "start_time": "2023-05-17T15:39:51.629Z"
   },
   {
    "duration": 14,
    "start_time": "2023-05-17T15:39:51.636Z"
   },
   {
    "duration": 5,
    "start_time": "2023-05-17T15:39:51.651Z"
   },
   {
    "duration": 173,
    "start_time": "2023-05-17T15:39:51.658Z"
   },
   {
    "duration": 114,
    "start_time": "2023-05-17T15:39:51.833Z"
   },
   {
    "duration": 11,
    "start_time": "2023-05-17T15:39:51.949Z"
   },
   {
    "duration": 272,
    "start_time": "2023-05-17T15:39:51.962Z"
   },
   {
    "duration": 220,
    "start_time": "2023-05-17T15:39:52.236Z"
   },
   {
    "duration": 306,
    "start_time": "2023-05-17T15:39:52.458Z"
   },
   {
    "duration": 204,
    "start_time": "2023-05-17T15:39:52.766Z"
   },
   {
    "duration": 289,
    "start_time": "2023-05-17T15:41:16.676Z"
   },
   {
    "duration": 402,
    "start_time": "2023-05-17T15:41:46.371Z"
   },
   {
    "duration": 382,
    "start_time": "2023-05-17T15:41:53.580Z"
   },
   {
    "duration": 304,
    "start_time": "2023-05-17T15:45:57.747Z"
   },
   {
    "duration": 84,
    "start_time": "2023-05-17T15:52:23.015Z"
   },
   {
    "duration": 118,
    "start_time": "2023-05-17T15:53:13.845Z"
   },
   {
    "duration": 329,
    "start_time": "2023-05-17T15:56:14.815Z"
   },
   {
    "duration": 282,
    "start_time": "2023-05-17T15:56:53.626Z"
   },
   {
    "duration": 252,
    "start_time": "2023-05-17T15:57:15.399Z"
   },
   {
    "duration": 269,
    "start_time": "2023-05-17T15:58:38.901Z"
   },
   {
    "duration": 84,
    "start_time": "2023-05-17T15:59:13.091Z"
   },
   {
    "duration": 4,
    "start_time": "2023-05-17T16:00:54.899Z"
   },
   {
    "duration": 151,
    "start_time": "2023-05-17T16:05:57.388Z"
   },
   {
    "duration": 136,
    "start_time": "2023-05-17T16:06:24.925Z"
   },
   {
    "duration": 187,
    "start_time": "2023-05-17T16:10:02.239Z"
   },
   {
    "duration": 220,
    "start_time": "2023-05-17T16:10:13.984Z"
   },
   {
    "duration": 141,
    "start_time": "2023-05-17T16:10:23.035Z"
   },
   {
    "duration": 138,
    "start_time": "2023-05-17T16:14:46.953Z"
   },
   {
    "duration": 921,
    "start_time": "2023-05-17T16:15:26.128Z"
   },
   {
    "duration": 132,
    "start_time": "2023-05-17T16:16:07.568Z"
   },
   {
    "duration": 1069,
    "start_time": "2023-05-17T16:16:16.096Z"
   },
   {
    "duration": 44,
    "start_time": "2023-05-17T16:16:17.167Z"
   },
   {
    "duration": 49,
    "start_time": "2023-05-17T16:16:17.213Z"
   },
   {
    "duration": 13,
    "start_time": "2023-05-17T16:16:17.264Z"
   },
   {
    "duration": 10,
    "start_time": "2023-05-17T16:16:17.278Z"
   },
   {
    "duration": 26,
    "start_time": "2023-05-17T16:16:17.290Z"
   },
   {
    "duration": 3,
    "start_time": "2023-05-17T16:16:17.318Z"
   },
   {
    "duration": 10,
    "start_time": "2023-05-17T16:16:17.323Z"
   },
   {
    "duration": 13,
    "start_time": "2023-05-17T16:16:17.334Z"
   },
   {
    "duration": 10,
    "start_time": "2023-05-17T16:16:17.349Z"
   },
   {
    "duration": 8,
    "start_time": "2023-05-17T16:16:17.360Z"
   },
   {
    "duration": 4,
    "start_time": "2023-05-17T16:16:17.370Z"
   },
   {
    "duration": 42,
    "start_time": "2023-05-17T16:16:17.375Z"
   },
   {
    "duration": 5,
    "start_time": "2023-05-17T16:16:17.419Z"
   },
   {
    "duration": 192,
    "start_time": "2023-05-17T16:16:17.425Z"
   },
   {
    "duration": 118,
    "start_time": "2023-05-17T16:16:17.618Z"
   },
   {
    "duration": 11,
    "start_time": "2023-05-17T16:16:17.738Z"
   },
   {
    "duration": 288,
    "start_time": "2023-05-17T16:16:17.750Z"
   },
   {
    "duration": 228,
    "start_time": "2023-05-17T16:16:18.040Z"
   },
   {
    "duration": 328,
    "start_time": "2023-05-17T16:16:18.269Z"
   },
   {
    "duration": 205,
    "start_time": "2023-05-17T16:16:18.598Z"
   },
   {
    "duration": 326,
    "start_time": "2023-05-17T16:16:18.805Z"
   },
   {
    "duration": 272,
    "start_time": "2023-05-17T16:16:19.133Z"
   },
   {
    "duration": 4,
    "start_time": "2023-05-17T16:16:19.407Z"
   },
   {
    "duration": 156,
    "start_time": "2023-05-17T16:16:19.412Z"
   },
   {
    "duration": 217,
    "start_time": "2023-05-17T16:16:19.569Z"
   },
   {
    "duration": 1156,
    "start_time": "2023-05-17T16:16:43.402Z"
   },
   {
    "duration": 259,
    "start_time": "2023-05-17T16:17:13.838Z"
   },
   {
    "duration": 1449,
    "start_time": "2023-05-17T18:56:08.808Z"
   },
   {
    "duration": 89,
    "start_time": "2023-05-17T18:56:10.260Z"
   },
   {
    "duration": 176,
    "start_time": "2023-05-17T18:56:10.351Z"
   },
   {
    "duration": 16,
    "start_time": "2023-05-17T18:56:10.531Z"
   },
   {
    "duration": 242,
    "start_time": "2023-05-17T18:56:10.550Z"
   },
   {
    "duration": 284,
    "start_time": "2023-05-17T18:56:10.794Z"
   },
   {
    "duration": 223,
    "start_time": "2023-05-17T18:56:11.081Z"
   },
   {
    "duration": 13,
    "start_time": "2023-05-17T18:56:11.306Z"
   },
   {
    "duration": 18,
    "start_time": "2023-05-17T18:56:11.321Z"
   },
   {
    "duration": 18,
    "start_time": "2023-05-17T18:56:11.343Z"
   },
   {
    "duration": 19,
    "start_time": "2023-05-17T18:56:11.363Z"
   },
   {
    "duration": 7,
    "start_time": "2023-05-17T18:56:11.385Z"
   },
   {
    "duration": 16,
    "start_time": "2023-05-17T18:56:11.395Z"
   },
   {
    "duration": 6,
    "start_time": "2023-05-17T18:56:11.413Z"
   },
   {
    "duration": 219,
    "start_time": "2023-05-17T18:56:11.421Z"
   },
   {
    "duration": 157,
    "start_time": "2023-05-17T18:56:11.642Z"
   },
   {
    "duration": 16,
    "start_time": "2023-05-17T18:56:11.801Z"
   },
   {
    "duration": 410,
    "start_time": "2023-05-17T18:56:11.819Z"
   },
   {
    "duration": 286,
    "start_time": "2023-05-17T18:56:12.232Z"
   },
   {
    "duration": 417,
    "start_time": "2023-05-17T18:56:12.520Z"
   },
   {
    "duration": 257,
    "start_time": "2023-05-17T18:56:12.939Z"
   },
   {
    "duration": 364,
    "start_time": "2023-05-17T18:56:13.198Z"
   },
   {
    "duration": 338,
    "start_time": "2023-05-17T18:56:13.565Z"
   },
   {
    "duration": 6,
    "start_time": "2023-05-17T18:56:13.905Z"
   },
   {
    "duration": 238,
    "start_time": "2023-05-17T18:56:13.913Z"
   },
   {
    "duration": 221,
    "start_time": "2023-05-17T18:56:14.152Z"
   },
   {
    "duration": 264,
    "start_time": "2023-05-17T18:57:34.628Z"
   },
   {
    "duration": 464,
    "start_time": "2023-05-17T18:58:09.282Z"
   },
   {
    "duration": 6,
    "start_time": "2023-05-17T18:59:44.104Z"
   },
   {
    "duration": 5,
    "start_time": "2023-05-17T19:00:11.181Z"
   },
   {
    "duration": 92,
    "start_time": "2023-05-17T19:09:24.636Z"
   },
   {
    "duration": 113,
    "start_time": "2023-05-17T19:10:40.264Z"
   },
   {
    "duration": 32,
    "start_time": "2023-05-17T19:11:01.685Z"
   },
   {
    "duration": 29,
    "start_time": "2023-05-17T19:11:34.219Z"
   },
   {
    "duration": 30,
    "start_time": "2023-05-17T19:11:52.335Z"
   },
   {
    "duration": 136,
    "start_time": "2023-05-17T19:12:55.052Z"
   },
   {
    "duration": 144,
    "start_time": "2023-05-17T19:13:26.317Z"
   },
   {
    "duration": 7,
    "start_time": "2023-05-17T19:14:21.886Z"
   },
   {
    "duration": 42,
    "start_time": "2023-05-17T19:18:06.143Z"
   },
   {
    "duration": 14,
    "start_time": "2023-05-17T19:25:21.744Z"
   },
   {
    "duration": 12,
    "start_time": "2023-05-17T19:39:44.345Z"
   },
   {
    "duration": 9,
    "start_time": "2023-05-17T19:41:33.803Z"
   },
   {
    "duration": 10,
    "start_time": "2023-05-17T19:42:14.718Z"
   },
   {
    "duration": 10,
    "start_time": "2023-05-17T19:44:25.428Z"
   },
   {
    "duration": 34,
    "start_time": "2023-05-17T19:44:57.904Z"
   },
   {
    "duration": 19,
    "start_time": "2023-05-17T19:52:18.511Z"
   },
   {
    "duration": 3,
    "start_time": "2023-05-17T19:57:57.213Z"
   },
   {
    "duration": 1174,
    "start_time": "2023-05-18T13:28:44.951Z"
   },
   {
    "duration": 43,
    "start_time": "2023-05-18T13:28:46.127Z"
   },
   {
    "duration": 64,
    "start_time": "2023-05-18T13:28:46.172Z"
   },
   {
    "duration": 12,
    "start_time": "2023-05-18T13:28:46.238Z"
   },
   {
    "duration": 18,
    "start_time": "2023-05-18T13:28:46.252Z"
   },
   {
    "duration": 43,
    "start_time": "2023-05-18T13:28:46.272Z"
   },
   {
    "duration": 4,
    "start_time": "2023-05-18T13:28:46.317Z"
   },
   {
    "duration": 18,
    "start_time": "2023-05-18T13:28:46.322Z"
   },
   {
    "duration": 12,
    "start_time": "2023-05-18T13:28:46.341Z"
   },
   {
    "duration": 10,
    "start_time": "2023-05-18T13:28:46.356Z"
   },
   {
    "duration": 25,
    "start_time": "2023-05-18T13:28:46.368Z"
   },
   {
    "duration": 5,
    "start_time": "2023-05-18T13:28:46.395Z"
   },
   {
    "duration": 13,
    "start_time": "2023-05-18T13:28:46.402Z"
   },
   {
    "duration": 6,
    "start_time": "2023-05-18T13:28:46.417Z"
   },
   {
    "duration": 222,
    "start_time": "2023-05-18T13:28:46.424Z"
   },
   {
    "duration": 148,
    "start_time": "2023-05-18T13:28:46.648Z"
   },
   {
    "duration": 14,
    "start_time": "2023-05-18T13:28:46.798Z"
   },
   {
    "duration": 418,
    "start_time": "2023-05-18T13:28:46.814Z"
   },
   {
    "duration": 238,
    "start_time": "2023-05-18T13:28:47.235Z"
   },
   {
    "duration": 337,
    "start_time": "2023-05-18T13:28:47.479Z"
   },
   {
    "duration": 241,
    "start_time": "2023-05-18T13:28:47.818Z"
   },
   {
    "duration": 384,
    "start_time": "2023-05-18T13:28:48.061Z"
   },
   {
    "duration": 297,
    "start_time": "2023-05-18T13:28:48.447Z"
   },
   {
    "duration": 4,
    "start_time": "2023-05-18T13:28:48.746Z"
   },
   {
    "duration": 194,
    "start_time": "2023-05-18T13:28:48.752Z"
   },
   {
    "duration": 202,
    "start_time": "2023-05-18T13:28:48.948Z"
   },
   {
    "duration": 4,
    "start_time": "2023-05-18T13:28:49.152Z"
   },
   {
    "duration": 135,
    "start_time": "2023-05-18T13:28:49.159Z"
   },
   {
    "duration": 138,
    "start_time": "2023-05-18T13:28:49.295Z"
   },
   {
    "duration": 54,
    "start_time": "2023-05-18T13:28:49.435Z"
   },
   {
    "duration": 229,
    "start_time": "2023-05-18T13:28:49.491Z"
   },
   {
    "duration": 7,
    "start_time": "2023-05-18T13:28:49.722Z"
   },
   {
    "duration": 63,
    "start_time": "2023-05-18T13:28:49.731Z"
   },
   {
    "duration": 19,
    "start_time": "2023-05-18T13:28:49.799Z"
   },
   {
    "duration": 13,
    "start_time": "2023-05-18T13:28:49.820Z"
   },
   {
    "duration": 11,
    "start_time": "2023-05-18T13:28:49.835Z"
   },
   {
    "duration": 67,
    "start_time": "2023-05-18T13:28:49.849Z"
   },
   {
    "duration": 19,
    "start_time": "2023-05-18T13:28:49.919Z"
   },
   {
    "duration": 1266,
    "start_time": "2023-05-18T14:13:22.956Z"
   },
   {
    "duration": 61,
    "start_time": "2023-05-18T14:13:24.225Z"
   },
   {
    "duration": 83,
    "start_time": "2023-05-18T14:13:24.288Z"
   },
   {
    "duration": 31,
    "start_time": "2023-05-18T14:13:24.373Z"
   },
   {
    "duration": 15,
    "start_time": "2023-05-18T14:13:24.409Z"
   },
   {
    "duration": 33,
    "start_time": "2023-05-18T14:13:24.425Z"
   },
   {
    "duration": 6,
    "start_time": "2023-05-18T14:13:24.460Z"
   },
   {
    "duration": 12,
    "start_time": "2023-05-18T14:13:24.468Z"
   },
   {
    "duration": 17,
    "start_time": "2023-05-18T14:13:24.481Z"
   },
   {
    "duration": 14,
    "start_time": "2023-05-18T14:13:24.501Z"
   },
   {
    "duration": 19,
    "start_time": "2023-05-18T14:13:24.517Z"
   },
   {
    "duration": 5,
    "start_time": "2023-05-18T14:13:24.538Z"
   },
   {
    "duration": 16,
    "start_time": "2023-05-18T14:13:24.544Z"
   },
   {
    "duration": 16,
    "start_time": "2023-05-18T14:13:24.564Z"
   },
   {
    "duration": 213,
    "start_time": "2023-05-18T14:13:24.583Z"
   },
   {
    "duration": 150,
    "start_time": "2023-05-18T14:13:24.798Z"
   },
   {
    "duration": 12,
    "start_time": "2023-05-18T14:13:24.950Z"
   },
   {
    "duration": 532,
    "start_time": "2023-05-18T14:13:24.963Z"
   },
   {
    "duration": 316,
    "start_time": "2023-05-18T14:13:25.498Z"
   },
   {
    "duration": 326,
    "start_time": "2023-05-18T14:13:25.819Z"
   },
   {
    "duration": 295,
    "start_time": "2023-05-18T14:13:26.147Z"
   },
   {
    "duration": 427,
    "start_time": "2023-05-18T14:13:26.443Z"
   },
   {
    "duration": 357,
    "start_time": "2023-05-18T14:13:26.872Z"
   },
   {
    "duration": 5,
    "start_time": "2023-05-18T14:13:27.231Z"
   },
   {
    "duration": 212,
    "start_time": "2023-05-18T14:13:27.237Z"
   },
   {
    "duration": 203,
    "start_time": "2023-05-18T14:13:27.450Z"
   },
   {
    "duration": 5,
    "start_time": "2023-05-18T14:13:27.654Z"
   },
   {
    "duration": 142,
    "start_time": "2023-05-18T14:13:27.661Z"
   },
   {
    "duration": 137,
    "start_time": "2023-05-18T14:13:27.806Z"
   },
   {
    "duration": 57,
    "start_time": "2023-05-18T14:13:27.945Z"
   },
   {
    "duration": 174,
    "start_time": "2023-05-18T14:13:28.006Z"
   },
   {
    "duration": 15,
    "start_time": "2023-05-18T14:13:28.187Z"
   },
   {
    "duration": 32,
    "start_time": "2023-05-18T14:13:28.204Z"
   },
   {
    "duration": 13,
    "start_time": "2023-05-18T14:13:28.237Z"
   },
   {
    "duration": 37,
    "start_time": "2023-05-18T14:13:28.252Z"
   },
   {
    "duration": 14,
    "start_time": "2023-05-18T14:13:28.297Z"
   },
   {
    "duration": 28,
    "start_time": "2023-05-18T14:13:28.313Z"
   },
   {
    "duration": 14,
    "start_time": "2023-05-18T14:13:28.343Z"
   },
   {
    "duration": 49,
    "start_time": "2023-05-18T20:39:13.714Z"
   },
   {
    "duration": 1279,
    "start_time": "2023-05-18T20:39:23.210Z"
   },
   {
    "duration": 94,
    "start_time": "2023-05-18T20:39:24.493Z"
   },
   {
    "duration": 4,
    "start_time": "2023-05-18T20:39:24.590Z"
   },
   {
    "duration": 116,
    "start_time": "2023-05-18T20:39:24.595Z"
   },
   {
    "duration": 11,
    "start_time": "2023-05-18T20:39:24.713Z"
   },
   {
    "duration": 12,
    "start_time": "2023-05-18T20:39:24.726Z"
   },
   {
    "duration": 83,
    "start_time": "2023-05-18T20:39:24.739Z"
   },
   {
    "duration": 3,
    "start_time": "2023-05-18T20:39:24.824Z"
   },
   {
    "duration": 17,
    "start_time": "2023-05-18T20:39:24.830Z"
   },
   {
    "duration": 15,
    "start_time": "2023-05-18T20:39:24.848Z"
   },
   {
    "duration": 10,
    "start_time": "2023-05-18T20:39:24.865Z"
   },
   {
    "duration": 10,
    "start_time": "2023-05-18T20:39:24.876Z"
   },
   {
    "duration": 9,
    "start_time": "2023-05-18T20:39:24.888Z"
   },
   {
    "duration": 30,
    "start_time": "2023-05-18T20:39:24.899Z"
   },
   {
    "duration": 19,
    "start_time": "2023-05-18T20:39:24.930Z"
   },
   {
    "duration": 174,
    "start_time": "2023-05-18T20:39:24.950Z"
   },
   {
    "duration": 126,
    "start_time": "2023-05-18T20:39:25.125Z"
   },
   {
    "duration": 12,
    "start_time": "2023-05-18T20:39:25.252Z"
   },
   {
    "duration": 350,
    "start_time": "2023-05-18T20:39:25.266Z"
   },
   {
    "duration": 231,
    "start_time": "2023-05-18T20:39:25.618Z"
   },
   {
    "duration": 365,
    "start_time": "2023-05-18T20:39:25.850Z"
   },
   {
    "duration": 222,
    "start_time": "2023-05-18T20:39:26.217Z"
   },
   {
    "duration": 345,
    "start_time": "2023-05-18T20:39:26.441Z"
   },
   {
    "duration": 395,
    "start_time": "2023-05-18T20:39:26.796Z"
   },
   {
    "duration": 3,
    "start_time": "2023-05-18T20:39:27.197Z"
   },
   {
    "duration": 163,
    "start_time": "2023-05-18T20:39:27.202Z"
   },
   {
    "duration": 196,
    "start_time": "2023-05-18T20:39:27.369Z"
   },
   {
    "duration": 5,
    "start_time": "2023-05-18T20:39:27.567Z"
   },
   {
    "duration": 91,
    "start_time": "2023-05-18T20:39:27.573Z"
   },
   {
    "duration": 122,
    "start_time": "2023-05-18T20:39:27.666Z"
   },
   {
    "duration": 34,
    "start_time": "2023-05-18T20:39:27.789Z"
   },
   {
    "duration": 120,
    "start_time": "2023-05-18T20:39:27.825Z"
   },
   {
    "duration": 6,
    "start_time": "2023-05-18T20:39:27.946Z"
   },
   {
    "duration": 27,
    "start_time": "2023-05-18T20:39:27.954Z"
   },
   {
    "duration": 28,
    "start_time": "2023-05-18T20:39:27.982Z"
   },
   {
    "duration": 10,
    "start_time": "2023-05-18T20:39:28.012Z"
   },
   {
    "duration": 8,
    "start_time": "2023-05-18T20:39:28.023Z"
   },
   {
    "duration": 30,
    "start_time": "2023-05-18T20:39:28.032Z"
   },
   {
    "duration": 33,
    "start_time": "2023-05-18T20:39:28.064Z"
   },
   {
    "duration": 7,
    "start_time": "2023-05-18T20:40:39.212Z"
   },
   {
    "duration": 4,
    "start_time": "2023-05-18T20:41:18.948Z"
   },
   {
    "duration": 50,
    "start_time": "2023-05-18T20:44:44.160Z"
   },
   {
    "duration": 97,
    "start_time": "2023-05-18T20:49:26.488Z"
   },
   {
    "duration": 6,
    "start_time": "2023-05-18T20:49:45.494Z"
   },
   {
    "duration": 4,
    "start_time": "2023-05-18T20:50:10.589Z"
   },
   {
    "duration": 52,
    "start_time": "2023-05-18T20:51:03.219Z"
   },
   {
    "duration": 6,
    "start_time": "2023-05-18T20:52:10.441Z"
   },
   {
    "duration": 5,
    "start_time": "2023-05-18T20:52:21.853Z"
   },
   {
    "duration": 10,
    "start_time": "2023-05-18T20:52:29.273Z"
   },
   {
    "duration": 5,
    "start_time": "2023-05-18T20:52:47.840Z"
   },
   {
    "duration": 61,
    "start_time": "2023-05-18T20:53:11.210Z"
   },
   {
    "duration": 11,
    "start_time": "2023-05-18T20:53:16.310Z"
   },
   {
    "duration": 48,
    "start_time": "2023-05-18T20:55:40.322Z"
   },
   {
    "duration": 11,
    "start_time": "2023-05-18T20:55:58.059Z"
   },
   {
    "duration": 11,
    "start_time": "2023-05-18T20:56:36.094Z"
   },
   {
    "duration": 10,
    "start_time": "2023-05-18T20:56:44.282Z"
   },
   {
    "duration": 11,
    "start_time": "2023-05-18T20:59:59.209Z"
   },
   {
    "duration": 13,
    "start_time": "2023-05-18T21:00:06.885Z"
   },
   {
    "duration": 12,
    "start_time": "2023-05-18T21:00:30.322Z"
   },
   {
    "duration": 13,
    "start_time": "2023-05-18T21:00:54.434Z"
   },
   {
    "duration": 17,
    "start_time": "2023-05-18T21:01:00.421Z"
   },
   {
    "duration": 1062,
    "start_time": "2023-05-18T21:01:19.189Z"
   },
   {
    "duration": 42,
    "start_time": "2023-05-18T21:01:20.252Z"
   },
   {
    "duration": 4,
    "start_time": "2023-05-18T21:01:20.296Z"
   },
   {
    "duration": 54,
    "start_time": "2023-05-18T21:01:20.301Z"
   },
   {
    "duration": 4,
    "start_time": "2023-05-18T21:01:20.357Z"
   },
   {
    "duration": 28,
    "start_time": "2023-05-18T21:01:20.362Z"
   },
   {
    "duration": 22,
    "start_time": "2023-05-18T21:01:20.392Z"
   },
   {
    "duration": 30,
    "start_time": "2023-05-18T21:01:20.416Z"
   },
   {
    "duration": 50,
    "start_time": "2023-05-18T21:01:20.448Z"
   },
   {
    "duration": 0,
    "start_time": "2023-05-18T21:01:20.501Z"
   },
   {
    "duration": 0,
    "start_time": "2023-05-18T21:01:20.503Z"
   },
   {
    "duration": 0,
    "start_time": "2023-05-18T21:01:20.505Z"
   },
   {
    "duration": 0,
    "start_time": "2023-05-18T21:01:20.506Z"
   },
   {
    "duration": 0,
    "start_time": "2023-05-18T21:01:20.507Z"
   },
   {
    "duration": 0,
    "start_time": "2023-05-18T21:01:20.509Z"
   },
   {
    "duration": 0,
    "start_time": "2023-05-18T21:01:20.511Z"
   },
   {
    "duration": 0,
    "start_time": "2023-05-18T21:01:20.512Z"
   },
   {
    "duration": 0,
    "start_time": "2023-05-18T21:01:20.513Z"
   },
   {
    "duration": 0,
    "start_time": "2023-05-18T21:01:20.514Z"
   },
   {
    "duration": 0,
    "start_time": "2023-05-18T21:01:20.515Z"
   },
   {
    "duration": 0,
    "start_time": "2023-05-18T21:01:20.517Z"
   },
   {
    "duration": 0,
    "start_time": "2023-05-18T21:01:20.518Z"
   },
   {
    "duration": 0,
    "start_time": "2023-05-18T21:01:20.519Z"
   },
   {
    "duration": 0,
    "start_time": "2023-05-18T21:01:20.520Z"
   },
   {
    "duration": 0,
    "start_time": "2023-05-18T21:01:20.521Z"
   },
   {
    "duration": 0,
    "start_time": "2023-05-18T21:01:20.522Z"
   },
   {
    "duration": 0,
    "start_time": "2023-05-18T21:01:20.523Z"
   },
   {
    "duration": 0,
    "start_time": "2023-05-18T21:01:20.525Z"
   },
   {
    "duration": 0,
    "start_time": "2023-05-18T21:01:20.526Z"
   },
   {
    "duration": 0,
    "start_time": "2023-05-18T21:01:20.527Z"
   },
   {
    "duration": 0,
    "start_time": "2023-05-18T21:01:20.528Z"
   },
   {
    "duration": 0,
    "start_time": "2023-05-18T21:01:20.529Z"
   },
   {
    "duration": 0,
    "start_time": "2023-05-18T21:01:20.530Z"
   },
   {
    "duration": 0,
    "start_time": "2023-05-18T21:01:20.531Z"
   },
   {
    "duration": 0,
    "start_time": "2023-05-18T21:01:20.532Z"
   },
   {
    "duration": 0,
    "start_time": "2023-05-18T21:01:20.533Z"
   },
   {
    "duration": 0,
    "start_time": "2023-05-18T21:01:20.534Z"
   },
   {
    "duration": 0,
    "start_time": "2023-05-18T21:01:20.535Z"
   },
   {
    "duration": 0,
    "start_time": "2023-05-18T21:01:20.536Z"
   },
   {
    "duration": 0,
    "start_time": "2023-05-18T21:01:20.537Z"
   },
   {
    "duration": 0,
    "start_time": "2023-05-18T21:01:20.538Z"
   },
   {
    "duration": 0,
    "start_time": "2023-05-18T21:01:20.597Z"
   },
   {
    "duration": 1,
    "start_time": "2023-05-18T21:01:20.598Z"
   },
   {
    "duration": 1079,
    "start_time": "2023-05-18T21:02:56.246Z"
   },
   {
    "duration": 44,
    "start_time": "2023-05-18T21:02:57.326Z"
   },
   {
    "duration": 5,
    "start_time": "2023-05-18T21:02:57.372Z"
   },
   {
    "duration": 62,
    "start_time": "2023-05-18T21:02:57.379Z"
   },
   {
    "duration": 4,
    "start_time": "2023-05-18T21:02:57.443Z"
   },
   {
    "duration": 18,
    "start_time": "2023-05-18T21:02:57.448Z"
   },
   {
    "duration": 19,
    "start_time": "2023-05-18T21:02:57.467Z"
   },
   {
    "duration": 35,
    "start_time": "2023-05-18T21:02:57.487Z"
   },
   {
    "duration": 58,
    "start_time": "2023-05-18T21:02:57.523Z"
   },
   {
    "duration": 0,
    "start_time": "2023-05-18T21:02:57.583Z"
   },
   {
    "duration": 0,
    "start_time": "2023-05-18T21:02:57.584Z"
   },
   {
    "duration": 0,
    "start_time": "2023-05-18T21:02:57.585Z"
   },
   {
    "duration": 0,
    "start_time": "2023-05-18T21:02:57.586Z"
   },
   {
    "duration": 0,
    "start_time": "2023-05-18T21:02:57.587Z"
   },
   {
    "duration": 0,
    "start_time": "2023-05-18T21:02:57.589Z"
   },
   {
    "duration": 0,
    "start_time": "2023-05-18T21:02:57.590Z"
   },
   {
    "duration": 0,
    "start_time": "2023-05-18T21:02:57.590Z"
   },
   {
    "duration": 0,
    "start_time": "2023-05-18T21:02:57.592Z"
   },
   {
    "duration": 0,
    "start_time": "2023-05-18T21:02:57.592Z"
   },
   {
    "duration": 0,
    "start_time": "2023-05-18T21:02:57.593Z"
   },
   {
    "duration": 0,
    "start_time": "2023-05-18T21:02:57.594Z"
   },
   {
    "duration": 0,
    "start_time": "2023-05-18T21:02:57.595Z"
   },
   {
    "duration": 0,
    "start_time": "2023-05-18T21:02:57.598Z"
   },
   {
    "duration": 0,
    "start_time": "2023-05-18T21:02:57.599Z"
   },
   {
    "duration": 0,
    "start_time": "2023-05-18T21:02:57.602Z"
   },
   {
    "duration": 0,
    "start_time": "2023-05-18T21:02:57.603Z"
   },
   {
    "duration": 0,
    "start_time": "2023-05-18T21:02:57.605Z"
   },
   {
    "duration": 0,
    "start_time": "2023-05-18T21:02:57.606Z"
   },
   {
    "duration": 0,
    "start_time": "2023-05-18T21:02:57.607Z"
   },
   {
    "duration": 0,
    "start_time": "2023-05-18T21:02:57.608Z"
   },
   {
    "duration": 0,
    "start_time": "2023-05-18T21:02:57.609Z"
   },
   {
    "duration": 0,
    "start_time": "2023-05-18T21:02:57.610Z"
   },
   {
    "duration": 0,
    "start_time": "2023-05-18T21:02:57.610Z"
   },
   {
    "duration": 0,
    "start_time": "2023-05-18T21:02:57.611Z"
   },
   {
    "duration": 0,
    "start_time": "2023-05-18T21:02:57.612Z"
   },
   {
    "duration": 0,
    "start_time": "2023-05-18T21:02:57.613Z"
   },
   {
    "duration": 0,
    "start_time": "2023-05-18T21:02:57.614Z"
   },
   {
    "duration": 0,
    "start_time": "2023-05-18T21:02:57.615Z"
   },
   {
    "duration": 0,
    "start_time": "2023-05-18T21:02:57.616Z"
   },
   {
    "duration": 0,
    "start_time": "2023-05-18T21:02:57.617Z"
   },
   {
    "duration": 0,
    "start_time": "2023-05-18T21:02:57.617Z"
   },
   {
    "duration": 0,
    "start_time": "2023-05-18T21:02:57.618Z"
   },
   {
    "duration": 0,
    "start_time": "2023-05-18T21:02:57.621Z"
   },
   {
    "duration": 4,
    "start_time": "2023-05-18T21:05:57.188Z"
   },
   {
    "duration": 7,
    "start_time": "2023-05-18T21:06:01.593Z"
   },
   {
    "duration": 16,
    "start_time": "2023-05-18T21:06:03.691Z"
   },
   {
    "duration": 1068,
    "start_time": "2023-05-18T21:06:18.391Z"
   },
   {
    "duration": 52,
    "start_time": "2023-05-18T21:06:19.461Z"
   },
   {
    "duration": 9,
    "start_time": "2023-05-18T21:06:19.514Z"
   },
   {
    "duration": 76,
    "start_time": "2023-05-18T21:06:19.524Z"
   },
   {
    "duration": 4,
    "start_time": "2023-05-18T21:06:19.610Z"
   },
   {
    "duration": 25,
    "start_time": "2023-05-18T21:06:19.616Z"
   },
   {
    "duration": 48,
    "start_time": "2023-05-18T21:06:19.643Z"
   },
   {
    "duration": 61,
    "start_time": "2023-05-18T21:06:19.693Z"
   },
   {
    "duration": 4,
    "start_time": "2023-05-18T21:06:19.755Z"
   },
   {
    "duration": 36,
    "start_time": "2023-05-18T21:06:19.760Z"
   },
   {
    "duration": 15,
    "start_time": "2023-05-18T21:06:19.811Z"
   },
   {
    "duration": 36,
    "start_time": "2023-05-18T21:06:19.828Z"
   },
   {
    "duration": 19,
    "start_time": "2023-05-18T21:06:19.865Z"
   },
   {
    "duration": 55,
    "start_time": "2023-05-18T21:06:19.886Z"
   },
   {
    "duration": 29,
    "start_time": "2023-05-18T21:06:19.943Z"
   },
   {
    "duration": 38,
    "start_time": "2023-05-18T21:06:19.973Z"
   },
   {
    "duration": 55,
    "start_time": "2023-05-18T21:06:20.012Z"
   },
   {
    "duration": 61,
    "start_time": "2023-05-18T21:06:20.068Z"
   },
   {
    "duration": 189,
    "start_time": "2023-05-18T21:06:20.130Z"
   },
   {
    "duration": 113,
    "start_time": "2023-05-18T21:06:20.321Z"
   },
   {
    "duration": 12,
    "start_time": "2023-05-18T21:06:20.435Z"
   },
   {
    "duration": 310,
    "start_time": "2023-05-18T21:06:20.448Z"
   },
   {
    "duration": 229,
    "start_time": "2023-05-18T21:06:20.760Z"
   },
   {
    "duration": 317,
    "start_time": "2023-05-18T21:06:20.990Z"
   },
   {
    "duration": 219,
    "start_time": "2023-05-18T21:06:21.313Z"
   },
   {
    "duration": 330,
    "start_time": "2023-05-18T21:06:21.534Z"
   },
   {
    "duration": 305,
    "start_time": "2023-05-18T21:06:21.866Z"
   },
   {
    "duration": 4,
    "start_time": "2023-05-18T21:06:22.172Z"
   },
   {
    "duration": 173,
    "start_time": "2023-05-18T21:06:22.178Z"
   },
   {
    "duration": 196,
    "start_time": "2023-05-18T21:06:22.353Z"
   },
   {
    "duration": 4,
    "start_time": "2023-05-18T21:06:22.551Z"
   },
   {
    "duration": 109,
    "start_time": "2023-05-18T21:06:22.557Z"
   },
   {
    "duration": 115,
    "start_time": "2023-05-18T21:06:22.668Z"
   },
   {
    "duration": 41,
    "start_time": "2023-05-18T21:06:22.785Z"
   },
   {
    "duration": 138,
    "start_time": "2023-05-18T21:06:22.828Z"
   },
   {
    "duration": 5,
    "start_time": "2023-05-18T21:06:22.968Z"
   },
   {
    "duration": 47,
    "start_time": "2023-05-18T21:06:22.975Z"
   },
   {
    "duration": 13,
    "start_time": "2023-05-18T21:06:23.024Z"
   },
   {
    "duration": 18,
    "start_time": "2023-05-18T21:06:23.038Z"
   },
   {
    "duration": 28,
    "start_time": "2023-05-18T21:06:23.057Z"
   },
   {
    "duration": 53,
    "start_time": "2023-05-18T21:06:23.089Z"
   },
   {
    "duration": 20,
    "start_time": "2023-05-18T21:06:23.143Z"
   },
   {
    "duration": 12,
    "start_time": "2023-05-18T21:08:55.187Z"
   },
   {
    "duration": 12,
    "start_time": "2023-05-18T21:09:09.877Z"
   },
   {
    "duration": 1002,
    "start_time": "2023-05-18T21:09:19.742Z"
   },
   {
    "duration": 42,
    "start_time": "2023-05-18T21:09:20.746Z"
   },
   {
    "duration": 4,
    "start_time": "2023-05-18T21:09:20.789Z"
   },
   {
    "duration": 77,
    "start_time": "2023-05-18T21:09:20.794Z"
   },
   {
    "duration": 5,
    "start_time": "2023-05-18T21:09:20.873Z"
   },
   {
    "duration": 27,
    "start_time": "2023-05-18T21:09:20.879Z"
   },
   {
    "duration": 26,
    "start_time": "2023-05-18T21:09:20.908Z"
   },
   {
    "duration": 44,
    "start_time": "2023-05-18T21:09:20.935Z"
   },
   {
    "duration": 14,
    "start_time": "2023-05-18T21:09:20.980Z"
   },
   {
    "duration": 21,
    "start_time": "2023-05-18T21:09:20.995Z"
   },
   {
    "duration": 34,
    "start_time": "2023-05-18T21:09:21.017Z"
   },
   {
    "duration": 21,
    "start_time": "2023-05-18T21:09:21.052Z"
   },
   {
    "duration": 44,
    "start_time": "2023-05-18T21:09:21.075Z"
   },
   {
    "duration": 14,
    "start_time": "2023-05-18T21:09:21.123Z"
   },
   {
    "duration": 23,
    "start_time": "2023-05-18T21:09:21.139Z"
   },
   {
    "duration": 18,
    "start_time": "2023-05-18T21:09:21.164Z"
   },
   {
    "duration": 29,
    "start_time": "2023-05-18T21:09:21.184Z"
   },
   {
    "duration": 19,
    "start_time": "2023-05-18T21:09:21.215Z"
   },
   {
    "duration": 242,
    "start_time": "2023-05-18T21:09:21.236Z"
   },
   {
    "duration": 121,
    "start_time": "2023-05-18T21:09:21.479Z"
   },
   {
    "duration": 12,
    "start_time": "2023-05-18T21:09:21.601Z"
   },
   {
    "duration": 293,
    "start_time": "2023-05-18T21:09:21.614Z"
   },
   {
    "duration": 228,
    "start_time": "2023-05-18T21:09:21.909Z"
   },
   {
    "duration": 296,
    "start_time": "2023-05-18T21:09:22.138Z"
   },
   {
    "duration": 219,
    "start_time": "2023-05-18T21:09:22.436Z"
   },
   {
    "duration": 325,
    "start_time": "2023-05-18T21:09:22.657Z"
   },
   {
    "duration": 294,
    "start_time": "2023-05-18T21:09:22.983Z"
   },
   {
    "duration": 4,
    "start_time": "2023-05-18T21:09:23.279Z"
   },
   {
    "duration": 178,
    "start_time": "2023-05-18T21:09:23.284Z"
   },
   {
    "duration": 181,
    "start_time": "2023-05-18T21:09:23.464Z"
   },
   {
    "duration": 4,
    "start_time": "2023-05-18T21:09:23.647Z"
   },
   {
    "duration": 109,
    "start_time": "2023-05-18T21:09:23.652Z"
   },
   {
    "duration": 123,
    "start_time": "2023-05-18T21:09:23.764Z"
   },
   {
    "duration": 27,
    "start_time": "2023-05-18T21:09:23.896Z"
   },
   {
    "duration": 117,
    "start_time": "2023-05-18T21:09:23.925Z"
   },
   {
    "duration": 6,
    "start_time": "2023-05-18T21:09:24.043Z"
   },
   {
    "duration": 43,
    "start_time": "2023-05-18T21:09:24.050Z"
   },
   {
    "duration": 11,
    "start_time": "2023-05-18T21:09:24.094Z"
   },
   {
    "duration": 15,
    "start_time": "2023-05-18T21:09:24.106Z"
   },
   {
    "duration": 28,
    "start_time": "2023-05-18T21:09:24.122Z"
   },
   {
    "duration": 58,
    "start_time": "2023-05-18T21:09:24.153Z"
   },
   {
    "duration": 14,
    "start_time": "2023-05-18T21:09:24.213Z"
   },
   {
    "duration": 12,
    "start_time": "2023-05-18T21:09:44.499Z"
   },
   {
    "duration": 12,
    "start_time": "2023-05-18T21:10:11.208Z"
   },
   {
    "duration": 11,
    "start_time": "2023-05-18T21:10:29.913Z"
   },
   {
    "duration": 49,
    "start_time": "2023-05-18T21:11:58.746Z"
   },
   {
    "duration": 52,
    "start_time": "2023-05-18T21:12:11.151Z"
   },
   {
    "duration": 45,
    "start_time": "2023-05-18T21:12:25.196Z"
   },
   {
    "duration": 64,
    "start_time": "2023-05-18T21:12:46.917Z"
   },
   {
    "duration": 52,
    "start_time": "2023-05-18T21:13:02.494Z"
   },
   {
    "duration": 99,
    "start_time": "2023-05-18T21:13:44.546Z"
   },
   {
    "duration": 11,
    "start_time": "2023-05-18T21:13:53.858Z"
   },
   {
    "duration": 42,
    "start_time": "2023-05-18T21:15:30.758Z"
   },
   {
    "duration": 56,
    "start_time": "2023-05-18T21:16:57.450Z"
   },
   {
    "duration": 11,
    "start_time": "2023-05-18T21:17:11.386Z"
   },
   {
    "duration": 11,
    "start_time": "2023-05-18T21:17:36.082Z"
   },
   {
    "duration": 17,
    "start_time": "2023-05-18T21:17:45.424Z"
   },
   {
    "duration": 47,
    "start_time": "2023-05-18T21:18:47.448Z"
   },
   {
    "duration": 12,
    "start_time": "2023-05-18T21:19:23.544Z"
   },
   {
    "duration": 6,
    "start_time": "2023-05-18T21:20:26.791Z"
   },
   {
    "duration": 6,
    "start_time": "2023-05-18T21:20:46.947Z"
   },
   {
    "duration": 4,
    "start_time": "2023-05-18T21:23:45.391Z"
   },
   {
    "duration": 5,
    "start_time": "2023-05-18T21:27:21.342Z"
   },
   {
    "duration": 5,
    "start_time": "2023-05-18T21:28:46.911Z"
   },
   {
    "duration": 1050,
    "start_time": "2023-05-18T21:28:54.886Z"
   },
   {
    "duration": 42,
    "start_time": "2023-05-18T21:28:55.938Z"
   },
   {
    "duration": 4,
    "start_time": "2023-05-18T21:28:55.981Z"
   },
   {
    "duration": 53,
    "start_time": "2023-05-18T21:28:55.987Z"
   },
   {
    "duration": 5,
    "start_time": "2023-05-18T21:28:56.042Z"
   },
   {
    "duration": 11,
    "start_time": "2023-05-18T21:28:56.048Z"
   },
   {
    "duration": 91,
    "start_time": "2023-05-18T21:28:56.060Z"
   },
   {
    "duration": 0,
    "start_time": "2023-05-18T21:28:56.153Z"
   },
   {
    "duration": 0,
    "start_time": "2023-05-18T21:28:56.154Z"
   },
   {
    "duration": 0,
    "start_time": "2023-05-18T21:28:56.155Z"
   },
   {
    "duration": 0,
    "start_time": "2023-05-18T21:28:56.156Z"
   },
   {
    "duration": 0,
    "start_time": "2023-05-18T21:28:56.157Z"
   },
   {
    "duration": 0,
    "start_time": "2023-05-18T21:28:56.159Z"
   },
   {
    "duration": 0,
    "start_time": "2023-05-18T21:28:56.160Z"
   },
   {
    "duration": 0,
    "start_time": "2023-05-18T21:28:56.161Z"
   },
   {
    "duration": 0,
    "start_time": "2023-05-18T21:28:56.162Z"
   },
   {
    "duration": 0,
    "start_time": "2023-05-18T21:28:56.163Z"
   },
   {
    "duration": 0,
    "start_time": "2023-05-18T21:28:56.164Z"
   },
   {
    "duration": 0,
    "start_time": "2023-05-18T21:28:56.165Z"
   },
   {
    "duration": 0,
    "start_time": "2023-05-18T21:28:56.166Z"
   },
   {
    "duration": 0,
    "start_time": "2023-05-18T21:28:56.167Z"
   },
   {
    "duration": 0,
    "start_time": "2023-05-18T21:28:56.197Z"
   },
   {
    "duration": 0,
    "start_time": "2023-05-18T21:28:56.198Z"
   },
   {
    "duration": 0,
    "start_time": "2023-05-18T21:28:56.199Z"
   },
   {
    "duration": 0,
    "start_time": "2023-05-18T21:28:56.201Z"
   },
   {
    "duration": 0,
    "start_time": "2023-05-18T21:28:56.202Z"
   },
   {
    "duration": 0,
    "start_time": "2023-05-18T21:28:56.204Z"
   },
   {
    "duration": 0,
    "start_time": "2023-05-18T21:28:56.205Z"
   },
   {
    "duration": 0,
    "start_time": "2023-05-18T21:28:56.206Z"
   },
   {
    "duration": 0,
    "start_time": "2023-05-18T21:28:56.207Z"
   },
   {
    "duration": 0,
    "start_time": "2023-05-18T21:28:56.208Z"
   },
   {
    "duration": 0,
    "start_time": "2023-05-18T21:28:56.210Z"
   },
   {
    "duration": 0,
    "start_time": "2023-05-18T21:28:56.211Z"
   },
   {
    "duration": 0,
    "start_time": "2023-05-18T21:28:56.212Z"
   },
   {
    "duration": 0,
    "start_time": "2023-05-18T21:28:56.213Z"
   },
   {
    "duration": 0,
    "start_time": "2023-05-18T21:28:56.214Z"
   },
   {
    "duration": 0,
    "start_time": "2023-05-18T21:28:56.216Z"
   },
   {
    "duration": 0,
    "start_time": "2023-05-18T21:28:56.217Z"
   },
   {
    "duration": 0,
    "start_time": "2023-05-18T21:28:56.218Z"
   },
   {
    "duration": 0,
    "start_time": "2023-05-18T21:28:56.219Z"
   },
   {
    "duration": 0,
    "start_time": "2023-05-18T21:28:56.220Z"
   },
   {
    "duration": 0,
    "start_time": "2023-05-18T21:28:56.221Z"
   },
   {
    "duration": 0,
    "start_time": "2023-05-18T21:28:56.222Z"
   },
   {
    "duration": 4,
    "start_time": "2023-05-18T21:29:42.654Z"
   },
   {
    "duration": 1063,
    "start_time": "2023-05-18T21:29:55.104Z"
   },
   {
    "duration": 41,
    "start_time": "2023-05-18T21:29:56.169Z"
   },
   {
    "duration": 4,
    "start_time": "2023-05-18T21:29:56.212Z"
   },
   {
    "duration": 53,
    "start_time": "2023-05-18T21:29:56.217Z"
   },
   {
    "duration": 4,
    "start_time": "2023-05-18T21:29:56.272Z"
   },
   {
    "duration": 8,
    "start_time": "2023-05-18T21:29:56.277Z"
   },
   {
    "duration": 5,
    "start_time": "2023-05-18T21:29:56.286Z"
   },
   {
    "duration": 15,
    "start_time": "2023-05-18T21:29:56.293Z"
   },
   {
    "duration": 11,
    "start_time": "2023-05-18T21:29:56.309Z"
   },
   {
    "duration": 36,
    "start_time": "2023-05-18T21:29:56.321Z"
   },
   {
    "duration": 4,
    "start_time": "2023-05-18T21:29:56.358Z"
   },
   {
    "duration": 13,
    "start_time": "2023-05-18T21:29:56.364Z"
   },
   {
    "duration": 13,
    "start_time": "2023-05-18T21:29:56.379Z"
   },
   {
    "duration": 12,
    "start_time": "2023-05-18T21:29:56.396Z"
   },
   {
    "duration": 13,
    "start_time": "2023-05-18T21:29:56.410Z"
   },
   {
    "duration": 23,
    "start_time": "2023-05-18T21:29:56.424Z"
   },
   {
    "duration": 4,
    "start_time": "2023-05-18T21:29:56.449Z"
   },
   {
    "duration": 18,
    "start_time": "2023-05-18T21:29:56.454Z"
   },
   {
    "duration": 7,
    "start_time": "2023-05-18T21:29:56.473Z"
   },
   {
    "duration": 175,
    "start_time": "2023-05-18T21:29:56.481Z"
   },
   {
    "duration": 150,
    "start_time": "2023-05-18T21:29:56.658Z"
   },
   {
    "duration": 15,
    "start_time": "2023-05-18T21:29:56.810Z"
   },
   {
    "duration": 305,
    "start_time": "2023-05-18T21:29:56.826Z"
   },
   {
    "duration": 221,
    "start_time": "2023-05-18T21:29:57.133Z"
   },
   {
    "duration": 306,
    "start_time": "2023-05-18T21:29:57.356Z"
   },
   {
    "duration": 212,
    "start_time": "2023-05-18T21:29:57.664Z"
   },
   {
    "duration": 353,
    "start_time": "2023-05-18T21:29:57.877Z"
   },
   {
    "duration": 262,
    "start_time": "2023-05-18T21:29:58.231Z"
   },
   {
    "duration": 5,
    "start_time": "2023-05-18T21:29:58.494Z"
   },
   {
    "duration": 158,
    "start_time": "2023-05-18T21:29:58.501Z"
   },
   {
    "duration": 173,
    "start_time": "2023-05-18T21:29:58.661Z"
   },
   {
    "duration": 4,
    "start_time": "2023-05-18T21:29:58.835Z"
   },
   {
    "duration": 103,
    "start_time": "2023-05-18T21:29:58.841Z"
   },
   {
    "duration": 111,
    "start_time": "2023-05-18T21:29:58.945Z"
   },
   {
    "duration": 24,
    "start_time": "2023-05-18T21:29:59.057Z"
   },
   {
    "duration": 120,
    "start_time": "2023-05-18T21:29:59.083Z"
   },
   {
    "duration": 6,
    "start_time": "2023-05-18T21:29:59.205Z"
   },
   {
    "duration": 30,
    "start_time": "2023-05-18T21:29:59.212Z"
   },
   {
    "duration": 12,
    "start_time": "2023-05-18T21:29:59.243Z"
   },
   {
    "duration": 9,
    "start_time": "2023-05-18T21:29:59.256Z"
   },
   {
    "duration": 7,
    "start_time": "2023-05-18T21:29:59.298Z"
   },
   {
    "duration": 25,
    "start_time": "2023-05-18T21:29:59.306Z"
   },
   {
    "duration": 12,
    "start_time": "2023-05-18T21:29:59.332Z"
   },
   {
    "duration": 4,
    "start_time": "2023-05-18T21:31:41.450Z"
   },
   {
    "duration": 4,
    "start_time": "2023-05-18T21:32:49.285Z"
   },
   {
    "duration": 53,
    "start_time": "2023-05-18T21:35:34.593Z"
   },
   {
    "duration": 8,
    "start_time": "2023-05-18T21:36:36.938Z"
   },
   {
    "duration": 91,
    "start_time": "2023-05-18T21:36:48.393Z"
   },
   {
    "duration": 13,
    "start_time": "2023-05-18T21:37:00.060Z"
   },
   {
    "duration": 15,
    "start_time": "2023-05-18T21:37:13.853Z"
   },
   {
    "duration": 14,
    "start_time": "2023-05-18T21:37:57.032Z"
   },
   {
    "duration": 53,
    "start_time": "2023-05-18T21:49:10.441Z"
   },
   {
    "duration": 52,
    "start_time": "2023-05-18T21:49:24.939Z"
   },
   {
    "duration": 11,
    "start_time": "2023-05-18T21:49:54.613Z"
   },
   {
    "duration": 18,
    "start_time": "2023-05-18T21:51:30.296Z"
   },
   {
    "duration": 13,
    "start_time": "2023-05-18T21:54:41.346Z"
   },
   {
    "duration": 99,
    "start_time": "2023-05-18T21:58:27.202Z"
   },
   {
    "duration": 986,
    "start_time": "2023-05-18T22:00:45.162Z"
   },
   {
    "duration": 42,
    "start_time": "2023-05-18T22:00:46.150Z"
   },
   {
    "duration": 4,
    "start_time": "2023-05-18T22:00:46.193Z"
   },
   {
    "duration": 64,
    "start_time": "2023-05-18T22:00:46.199Z"
   },
   {
    "duration": 4,
    "start_time": "2023-05-18T22:00:46.265Z"
   },
   {
    "duration": 11,
    "start_time": "2023-05-18T22:00:46.270Z"
   },
   {
    "duration": 7,
    "start_time": "2023-05-18T22:00:46.282Z"
   },
   {
    "duration": 13,
    "start_time": "2023-05-18T22:00:46.290Z"
   },
   {
    "duration": 15,
    "start_time": "2023-05-18T22:00:46.304Z"
   },
   {
    "duration": 26,
    "start_time": "2023-05-18T22:00:46.322Z"
   },
   {
    "duration": 3,
    "start_time": "2023-05-18T22:00:46.349Z"
   },
   {
    "duration": 7,
    "start_time": "2023-05-18T22:00:46.354Z"
   },
   {
    "duration": 44,
    "start_time": "2023-05-18T22:00:46.362Z"
   },
   {
    "duration": 0,
    "start_time": "2023-05-18T22:00:46.408Z"
   },
   {
    "duration": 0,
    "start_time": "2023-05-18T22:00:46.409Z"
   },
   {
    "duration": 0,
    "start_time": "2023-05-18T22:00:46.410Z"
   },
   {
    "duration": 0,
    "start_time": "2023-05-18T22:00:46.412Z"
   },
   {
    "duration": 0,
    "start_time": "2023-05-18T22:00:46.413Z"
   },
   {
    "duration": 0,
    "start_time": "2023-05-18T22:00:46.414Z"
   },
   {
    "duration": 0,
    "start_time": "2023-05-18T22:00:46.415Z"
   },
   {
    "duration": 0,
    "start_time": "2023-05-18T22:00:46.416Z"
   },
   {
    "duration": 0,
    "start_time": "2023-05-18T22:00:46.418Z"
   },
   {
    "duration": 0,
    "start_time": "2023-05-18T22:00:46.419Z"
   },
   {
    "duration": 0,
    "start_time": "2023-05-18T22:00:46.420Z"
   },
   {
    "duration": 0,
    "start_time": "2023-05-18T22:00:46.421Z"
   },
   {
    "duration": 0,
    "start_time": "2023-05-18T22:00:46.422Z"
   },
   {
    "duration": 0,
    "start_time": "2023-05-18T22:00:46.423Z"
   },
   {
    "duration": 0,
    "start_time": "2023-05-18T22:00:46.424Z"
   },
   {
    "duration": 0,
    "start_time": "2023-05-18T22:00:46.425Z"
   },
   {
    "duration": 0,
    "start_time": "2023-05-18T22:00:46.426Z"
   },
   {
    "duration": 0,
    "start_time": "2023-05-18T22:00:46.427Z"
   },
   {
    "duration": 0,
    "start_time": "2023-05-18T22:00:46.427Z"
   },
   {
    "duration": 0,
    "start_time": "2023-05-18T22:00:46.428Z"
   },
   {
    "duration": 0,
    "start_time": "2023-05-18T22:00:46.429Z"
   },
   {
    "duration": 0,
    "start_time": "2023-05-18T22:00:46.430Z"
   },
   {
    "duration": 0,
    "start_time": "2023-05-18T22:00:46.431Z"
   },
   {
    "duration": 0,
    "start_time": "2023-05-18T22:00:46.432Z"
   },
   {
    "duration": 0,
    "start_time": "2023-05-18T22:00:46.433Z"
   },
   {
    "duration": 0,
    "start_time": "2023-05-18T22:00:46.434Z"
   },
   {
    "duration": 0,
    "start_time": "2023-05-18T22:00:46.435Z"
   },
   {
    "duration": 0,
    "start_time": "2023-05-18T22:00:46.436Z"
   },
   {
    "duration": 0,
    "start_time": "2023-05-18T22:00:46.437Z"
   },
   {
    "duration": 0,
    "start_time": "2023-05-18T22:00:46.438Z"
   },
   {
    "duration": 0,
    "start_time": "2023-05-18T22:00:46.439Z"
   },
   {
    "duration": 0,
    "start_time": "2023-05-18T22:00:46.440Z"
   },
   {
    "duration": 0,
    "start_time": "2023-05-18T22:00:46.441Z"
   },
   {
    "duration": 4,
    "start_time": "2023-05-18T22:01:10.293Z"
   },
   {
    "duration": 1046,
    "start_time": "2023-05-18T22:01:17.690Z"
   },
   {
    "duration": 41,
    "start_time": "2023-05-18T22:01:18.738Z"
   },
   {
    "duration": 4,
    "start_time": "2023-05-18T22:01:18.781Z"
   },
   {
    "duration": 53,
    "start_time": "2023-05-18T22:01:18.786Z"
   },
   {
    "duration": 4,
    "start_time": "2023-05-18T22:01:18.841Z"
   },
   {
    "duration": 7,
    "start_time": "2023-05-18T22:01:18.846Z"
   },
   {
    "duration": 13,
    "start_time": "2023-05-18T22:01:18.854Z"
   },
   {
    "duration": 12,
    "start_time": "2023-05-18T22:01:18.868Z"
   },
   {
    "duration": 15,
    "start_time": "2023-05-18T22:01:18.882Z"
   },
   {
    "duration": 38,
    "start_time": "2023-05-18T22:01:18.898Z"
   },
   {
    "duration": 4,
    "start_time": "2023-05-18T22:01:18.938Z"
   },
   {
    "duration": 6,
    "start_time": "2023-05-18T22:01:18.943Z"
   },
   {
    "duration": 4,
    "start_time": "2023-05-18T22:01:18.950Z"
   },
   {
    "duration": 4,
    "start_time": "2023-05-18T22:01:18.957Z"
   },
   {
    "duration": 12,
    "start_time": "2023-05-18T22:01:18.963Z"
   },
   {
    "duration": 15,
    "start_time": "2023-05-18T22:01:18.976Z"
   },
   {
    "duration": 10,
    "start_time": "2023-05-18T22:01:18.997Z"
   },
   {
    "duration": 8,
    "start_time": "2023-05-18T22:01:19.008Z"
   },
   {
    "duration": 3,
    "start_time": "2023-05-18T22:01:19.018Z"
   },
   {
    "duration": 12,
    "start_time": "2023-05-18T22:01:19.022Z"
   },
   {
    "duration": 5,
    "start_time": "2023-05-18T22:01:19.035Z"
   },
   {
    "duration": 196,
    "start_time": "2023-05-18T22:01:19.041Z"
   },
   {
    "duration": 120,
    "start_time": "2023-05-18T22:01:19.238Z"
   },
   {
    "duration": 15,
    "start_time": "2023-05-18T22:01:19.360Z"
   },
   {
    "duration": 289,
    "start_time": "2023-05-18T22:01:19.377Z"
   },
   {
    "duration": 219,
    "start_time": "2023-05-18T22:01:19.668Z"
   },
   {
    "duration": 312,
    "start_time": "2023-05-18T22:01:19.888Z"
   },
   {
    "duration": 208,
    "start_time": "2023-05-18T22:01:20.202Z"
   },
   {
    "duration": 343,
    "start_time": "2023-05-18T22:01:20.411Z"
   },
   {
    "duration": 272,
    "start_time": "2023-05-18T22:01:20.756Z"
   },
   {
    "duration": 4,
    "start_time": "2023-05-18T22:01:21.029Z"
   },
   {
    "duration": 156,
    "start_time": "2023-05-18T22:01:21.034Z"
   },
   {
    "duration": 173,
    "start_time": "2023-05-18T22:01:21.192Z"
   },
   {
    "duration": 4,
    "start_time": "2023-05-18T22:01:21.367Z"
   },
   {
    "duration": 92,
    "start_time": "2023-05-18T22:01:21.372Z"
   },
   {
    "duration": 111,
    "start_time": "2023-05-18T22:01:21.466Z"
   },
   {
    "duration": 31,
    "start_time": "2023-05-18T22:01:21.579Z"
   },
   {
    "duration": 113,
    "start_time": "2023-05-18T22:01:21.611Z"
   },
   {
    "duration": 6,
    "start_time": "2023-05-18T22:01:21.725Z"
   },
   {
    "duration": 25,
    "start_time": "2023-05-18T22:01:21.733Z"
   },
   {
    "duration": 36,
    "start_time": "2023-05-18T22:01:21.761Z"
   },
   {
    "duration": 10,
    "start_time": "2023-05-18T22:01:21.798Z"
   },
   {
    "duration": 7,
    "start_time": "2023-05-18T22:01:21.809Z"
   },
   {
    "duration": 26,
    "start_time": "2023-05-18T22:01:21.817Z"
   },
   {
    "duration": 12,
    "start_time": "2023-05-18T22:01:21.844Z"
   }
  ],
  "kernelspec": {
   "display_name": "Python 3 (ipykernel)",
   "language": "python",
   "name": "python3"
  },
  "language_info": {
   "codemirror_mode": {
    "name": "ipython",
    "version": 3
   },
   "file_extension": ".py",
   "mimetype": "text/x-python",
   "name": "python",
   "nbconvert_exporter": "python",
   "pygments_lexer": "ipython3",
   "version": "3.9.13"
  },
  "toc": {
   "base_numbering": 1,
   "nav_menu": {},
   "number_sections": true,
   "sideBar": true,
   "skip_h1_title": true,
   "title_cell": "Table of Contents",
   "title_sidebar": "Contents",
   "toc_cell": false,
   "toc_position": {},
   "toc_section_display": true,
   "toc_window_display": false
  }
 },
 "nbformat": 4,
 "nbformat_minor": 2
}
