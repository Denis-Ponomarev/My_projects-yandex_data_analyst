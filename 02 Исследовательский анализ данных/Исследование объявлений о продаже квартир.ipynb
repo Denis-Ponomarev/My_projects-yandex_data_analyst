{
 "cells": [
  {
   "cell_type": "markdown",
   "metadata": {},
   "source": [
    "# Исследование объявлений о продаже квартир\n",
    "\n",
    "В вашем распоряжении данные сервиса Яндекс.Недвижимость — архив объявлений о продаже квартир в Санкт-Петербурге и соседних населённых пунктов за несколько лет. Нужно научиться определять рыночную стоимость объектов недвижимости. Ваша задача — установить параметры. Это позволит построить автоматизированную систему: она отследит аномалии и мошенническую деятельность. \n",
    "\n",
    "По каждой квартире на продажу доступны два вида данных. Первые вписаны пользователем, вторые — получены автоматически на основе картографических данных. Например, расстояние до центра, аэропорта, ближайшего парка и водоёма. "
   ]
  },
  {
   "cell_type": "markdown",
   "metadata": {},
   "source": [
    "### Откройте файл с данными и изучите общую информацию. "
   ]
  },
  {
   "cell_type": "code",
   "execution_count": 1,
   "metadata": {},
   "outputs": [],
   "source": [
    "import pandas as pd\n",
    "import matplotlib\n",
    "import matplotlib.pyplot as plt # импортируем необходимые для проекта библиотеки "
   ]
  },
  {
   "cell_type": "code",
   "execution_count": 2,
   "metadata": {},
   "outputs": [],
   "source": [
    "data = pd.read_csv('/datasets/real_estate_data.csv', sep = '\\t') # читаем csv-файл"
   ]
  },
  {
   "cell_type": "markdown",
   "metadata": {},
   "source": [
    "**Выведем первые 20 строчек датафрейма `data` на экран.**"
   ]
  },
  {
   "cell_type": "code",
   "execution_count": 3,
   "metadata": {
    "scrolled": true
   },
   "outputs": [
    {
     "data": {
      "text/html": [
       "<div>\n",
       "<style scoped>\n",
       "    .dataframe tbody tr th:only-of-type {\n",
       "        vertical-align: middle;\n",
       "    }\n",
       "\n",
       "    .dataframe tbody tr th {\n",
       "        vertical-align: top;\n",
       "    }\n",
       "\n",
       "    .dataframe thead th {\n",
       "        text-align: right;\n",
       "    }\n",
       "</style>\n",
       "<table border=\"1\" class=\"dataframe\">\n",
       "  <thead>\n",
       "    <tr style=\"text-align: right;\">\n",
       "      <th></th>\n",
       "      <th>total_images</th>\n",
       "      <th>last_price</th>\n",
       "      <th>total_area</th>\n",
       "      <th>first_day_exposition</th>\n",
       "      <th>rooms</th>\n",
       "      <th>ceiling_height</th>\n",
       "      <th>floors_total</th>\n",
       "      <th>living_area</th>\n",
       "      <th>floor</th>\n",
       "      <th>is_apartment</th>\n",
       "      <th>...</th>\n",
       "      <th>kitchen_area</th>\n",
       "      <th>balcony</th>\n",
       "      <th>locality_name</th>\n",
       "      <th>airports_nearest</th>\n",
       "      <th>cityCenters_nearest</th>\n",
       "      <th>parks_around3000</th>\n",
       "      <th>parks_nearest</th>\n",
       "      <th>ponds_around3000</th>\n",
       "      <th>ponds_nearest</th>\n",
       "      <th>days_exposition</th>\n",
       "    </tr>\n",
       "  </thead>\n",
       "  <tbody>\n",
       "    <tr>\n",
       "      <th>0</th>\n",
       "      <td>20</td>\n",
       "      <td>13000000.0</td>\n",
       "      <td>108.00</td>\n",
       "      <td>2019-03-07T00:00:00</td>\n",
       "      <td>3</td>\n",
       "      <td>2.70</td>\n",
       "      <td>16.0</td>\n",
       "      <td>51.00</td>\n",
       "      <td>8</td>\n",
       "      <td>NaN</td>\n",
       "      <td>...</td>\n",
       "      <td>25.00</td>\n",
       "      <td>NaN</td>\n",
       "      <td>Санкт-Петербург</td>\n",
       "      <td>18863.0</td>\n",
       "      <td>16028.0</td>\n",
       "      <td>1.0</td>\n",
       "      <td>482.0</td>\n",
       "      <td>2.0</td>\n",
       "      <td>755.0</td>\n",
       "      <td>NaN</td>\n",
       "    </tr>\n",
       "    <tr>\n",
       "      <th>1</th>\n",
       "      <td>7</td>\n",
       "      <td>3350000.0</td>\n",
       "      <td>40.40</td>\n",
       "      <td>2018-12-04T00:00:00</td>\n",
       "      <td>1</td>\n",
       "      <td>NaN</td>\n",
       "      <td>11.0</td>\n",
       "      <td>18.60</td>\n",
       "      <td>1</td>\n",
       "      <td>NaN</td>\n",
       "      <td>...</td>\n",
       "      <td>11.00</td>\n",
       "      <td>2.0</td>\n",
       "      <td>посёлок Шушары</td>\n",
       "      <td>12817.0</td>\n",
       "      <td>18603.0</td>\n",
       "      <td>0.0</td>\n",
       "      <td>NaN</td>\n",
       "      <td>0.0</td>\n",
       "      <td>NaN</td>\n",
       "      <td>81.0</td>\n",
       "    </tr>\n",
       "    <tr>\n",
       "      <th>2</th>\n",
       "      <td>10</td>\n",
       "      <td>5196000.0</td>\n",
       "      <td>56.00</td>\n",
       "      <td>2015-08-20T00:00:00</td>\n",
       "      <td>2</td>\n",
       "      <td>NaN</td>\n",
       "      <td>5.0</td>\n",
       "      <td>34.30</td>\n",
       "      <td>4</td>\n",
       "      <td>NaN</td>\n",
       "      <td>...</td>\n",
       "      <td>8.30</td>\n",
       "      <td>0.0</td>\n",
       "      <td>Санкт-Петербург</td>\n",
       "      <td>21741.0</td>\n",
       "      <td>13933.0</td>\n",
       "      <td>1.0</td>\n",
       "      <td>90.0</td>\n",
       "      <td>2.0</td>\n",
       "      <td>574.0</td>\n",
       "      <td>558.0</td>\n",
       "    </tr>\n",
       "    <tr>\n",
       "      <th>3</th>\n",
       "      <td>0</td>\n",
       "      <td>64900000.0</td>\n",
       "      <td>159.00</td>\n",
       "      <td>2015-07-24T00:00:00</td>\n",
       "      <td>3</td>\n",
       "      <td>NaN</td>\n",
       "      <td>14.0</td>\n",
       "      <td>NaN</td>\n",
       "      <td>9</td>\n",
       "      <td>NaN</td>\n",
       "      <td>...</td>\n",
       "      <td>NaN</td>\n",
       "      <td>0.0</td>\n",
       "      <td>Санкт-Петербург</td>\n",
       "      <td>28098.0</td>\n",
       "      <td>6800.0</td>\n",
       "      <td>2.0</td>\n",
       "      <td>84.0</td>\n",
       "      <td>3.0</td>\n",
       "      <td>234.0</td>\n",
       "      <td>424.0</td>\n",
       "    </tr>\n",
       "    <tr>\n",
       "      <th>4</th>\n",
       "      <td>2</td>\n",
       "      <td>10000000.0</td>\n",
       "      <td>100.00</td>\n",
       "      <td>2018-06-19T00:00:00</td>\n",
       "      <td>2</td>\n",
       "      <td>3.03</td>\n",
       "      <td>14.0</td>\n",
       "      <td>32.00</td>\n",
       "      <td>13</td>\n",
       "      <td>NaN</td>\n",
       "      <td>...</td>\n",
       "      <td>41.00</td>\n",
       "      <td>NaN</td>\n",
       "      <td>Санкт-Петербург</td>\n",
       "      <td>31856.0</td>\n",
       "      <td>8098.0</td>\n",
       "      <td>2.0</td>\n",
       "      <td>112.0</td>\n",
       "      <td>1.0</td>\n",
       "      <td>48.0</td>\n",
       "      <td>121.0</td>\n",
       "    </tr>\n",
       "    <tr>\n",
       "      <th>5</th>\n",
       "      <td>10</td>\n",
       "      <td>2890000.0</td>\n",
       "      <td>30.40</td>\n",
       "      <td>2018-09-10T00:00:00</td>\n",
       "      <td>1</td>\n",
       "      <td>NaN</td>\n",
       "      <td>12.0</td>\n",
       "      <td>14.40</td>\n",
       "      <td>5</td>\n",
       "      <td>NaN</td>\n",
       "      <td>...</td>\n",
       "      <td>9.10</td>\n",
       "      <td>NaN</td>\n",
       "      <td>городской посёлок Янино-1</td>\n",
       "      <td>NaN</td>\n",
       "      <td>NaN</td>\n",
       "      <td>NaN</td>\n",
       "      <td>NaN</td>\n",
       "      <td>NaN</td>\n",
       "      <td>NaN</td>\n",
       "      <td>55.0</td>\n",
       "    </tr>\n",
       "    <tr>\n",
       "      <th>6</th>\n",
       "      <td>6</td>\n",
       "      <td>3700000.0</td>\n",
       "      <td>37.30</td>\n",
       "      <td>2017-11-02T00:00:00</td>\n",
       "      <td>1</td>\n",
       "      <td>NaN</td>\n",
       "      <td>26.0</td>\n",
       "      <td>10.60</td>\n",
       "      <td>6</td>\n",
       "      <td>NaN</td>\n",
       "      <td>...</td>\n",
       "      <td>14.40</td>\n",
       "      <td>1.0</td>\n",
       "      <td>посёлок Парголово</td>\n",
       "      <td>52996.0</td>\n",
       "      <td>19143.0</td>\n",
       "      <td>0.0</td>\n",
       "      <td>NaN</td>\n",
       "      <td>0.0</td>\n",
       "      <td>NaN</td>\n",
       "      <td>155.0</td>\n",
       "    </tr>\n",
       "    <tr>\n",
       "      <th>7</th>\n",
       "      <td>5</td>\n",
       "      <td>7915000.0</td>\n",
       "      <td>71.60</td>\n",
       "      <td>2019-04-18T00:00:00</td>\n",
       "      <td>2</td>\n",
       "      <td>NaN</td>\n",
       "      <td>24.0</td>\n",
       "      <td>NaN</td>\n",
       "      <td>22</td>\n",
       "      <td>NaN</td>\n",
       "      <td>...</td>\n",
       "      <td>18.90</td>\n",
       "      <td>2.0</td>\n",
       "      <td>Санкт-Петербург</td>\n",
       "      <td>23982.0</td>\n",
       "      <td>11634.0</td>\n",
       "      <td>0.0</td>\n",
       "      <td>NaN</td>\n",
       "      <td>0.0</td>\n",
       "      <td>NaN</td>\n",
       "      <td>NaN</td>\n",
       "    </tr>\n",
       "    <tr>\n",
       "      <th>8</th>\n",
       "      <td>20</td>\n",
       "      <td>2900000.0</td>\n",
       "      <td>33.16</td>\n",
       "      <td>2018-05-23T00:00:00</td>\n",
       "      <td>1</td>\n",
       "      <td>NaN</td>\n",
       "      <td>27.0</td>\n",
       "      <td>15.43</td>\n",
       "      <td>26</td>\n",
       "      <td>NaN</td>\n",
       "      <td>...</td>\n",
       "      <td>8.81</td>\n",
       "      <td>NaN</td>\n",
       "      <td>посёлок Мурино</td>\n",
       "      <td>NaN</td>\n",
       "      <td>NaN</td>\n",
       "      <td>NaN</td>\n",
       "      <td>NaN</td>\n",
       "      <td>NaN</td>\n",
       "      <td>NaN</td>\n",
       "      <td>189.0</td>\n",
       "    </tr>\n",
       "    <tr>\n",
       "      <th>9</th>\n",
       "      <td>18</td>\n",
       "      <td>5400000.0</td>\n",
       "      <td>61.00</td>\n",
       "      <td>2017-02-26T00:00:00</td>\n",
       "      <td>3</td>\n",
       "      <td>2.50</td>\n",
       "      <td>9.0</td>\n",
       "      <td>43.60</td>\n",
       "      <td>7</td>\n",
       "      <td>NaN</td>\n",
       "      <td>...</td>\n",
       "      <td>6.50</td>\n",
       "      <td>2.0</td>\n",
       "      <td>Санкт-Петербург</td>\n",
       "      <td>50898.0</td>\n",
       "      <td>15008.0</td>\n",
       "      <td>0.0</td>\n",
       "      <td>NaN</td>\n",
       "      <td>0.0</td>\n",
       "      <td>NaN</td>\n",
       "      <td>289.0</td>\n",
       "    </tr>\n",
       "    <tr>\n",
       "      <th>10</th>\n",
       "      <td>5</td>\n",
       "      <td>5050000.0</td>\n",
       "      <td>39.60</td>\n",
       "      <td>2017-11-16T00:00:00</td>\n",
       "      <td>1</td>\n",
       "      <td>2.67</td>\n",
       "      <td>12.0</td>\n",
       "      <td>20.30</td>\n",
       "      <td>3</td>\n",
       "      <td>NaN</td>\n",
       "      <td>...</td>\n",
       "      <td>8.50</td>\n",
       "      <td>NaN</td>\n",
       "      <td>Санкт-Петербург</td>\n",
       "      <td>38357.0</td>\n",
       "      <td>13878.0</td>\n",
       "      <td>1.0</td>\n",
       "      <td>310.0</td>\n",
       "      <td>2.0</td>\n",
       "      <td>553.0</td>\n",
       "      <td>137.0</td>\n",
       "    </tr>\n",
       "    <tr>\n",
       "      <th>11</th>\n",
       "      <td>9</td>\n",
       "      <td>3300000.0</td>\n",
       "      <td>44.00</td>\n",
       "      <td>2018-08-27T00:00:00</td>\n",
       "      <td>2</td>\n",
       "      <td>NaN</td>\n",
       "      <td>5.0</td>\n",
       "      <td>31.00</td>\n",
       "      <td>4</td>\n",
       "      <td>False</td>\n",
       "      <td>...</td>\n",
       "      <td>6.00</td>\n",
       "      <td>1.0</td>\n",
       "      <td>Ломоносов</td>\n",
       "      <td>48252.0</td>\n",
       "      <td>51677.0</td>\n",
       "      <td>0.0</td>\n",
       "      <td>NaN</td>\n",
       "      <td>0.0</td>\n",
       "      <td>NaN</td>\n",
       "      <td>7.0</td>\n",
       "    </tr>\n",
       "    <tr>\n",
       "      <th>12</th>\n",
       "      <td>10</td>\n",
       "      <td>3890000.0</td>\n",
       "      <td>54.00</td>\n",
       "      <td>2016-06-30T00:00:00</td>\n",
       "      <td>2</td>\n",
       "      <td>NaN</td>\n",
       "      <td>5.0</td>\n",
       "      <td>30.00</td>\n",
       "      <td>5</td>\n",
       "      <td>NaN</td>\n",
       "      <td>...</td>\n",
       "      <td>9.00</td>\n",
       "      <td>0.0</td>\n",
       "      <td>Сертолово</td>\n",
       "      <td>NaN</td>\n",
       "      <td>NaN</td>\n",
       "      <td>NaN</td>\n",
       "      <td>NaN</td>\n",
       "      <td>NaN</td>\n",
       "      <td>NaN</td>\n",
       "      <td>90.0</td>\n",
       "    </tr>\n",
       "    <tr>\n",
       "      <th>13</th>\n",
       "      <td>20</td>\n",
       "      <td>3550000.0</td>\n",
       "      <td>42.80</td>\n",
       "      <td>2017-07-01T00:00:00</td>\n",
       "      <td>2</td>\n",
       "      <td>2.56</td>\n",
       "      <td>5.0</td>\n",
       "      <td>27.00</td>\n",
       "      <td>5</td>\n",
       "      <td>NaN</td>\n",
       "      <td>...</td>\n",
       "      <td>5.20</td>\n",
       "      <td>1.0</td>\n",
       "      <td>Петергоф</td>\n",
       "      <td>37868.0</td>\n",
       "      <td>33058.0</td>\n",
       "      <td>1.0</td>\n",
       "      <td>294.0</td>\n",
       "      <td>3.0</td>\n",
       "      <td>298.0</td>\n",
       "      <td>366.0</td>\n",
       "    </tr>\n",
       "    <tr>\n",
       "      <th>14</th>\n",
       "      <td>1</td>\n",
       "      <td>4400000.0</td>\n",
       "      <td>36.00</td>\n",
       "      <td>2016-06-23T00:00:00</td>\n",
       "      <td>1</td>\n",
       "      <td>NaN</td>\n",
       "      <td>6.0</td>\n",
       "      <td>17.00</td>\n",
       "      <td>1</td>\n",
       "      <td>NaN</td>\n",
       "      <td>...</td>\n",
       "      <td>8.00</td>\n",
       "      <td>0.0</td>\n",
       "      <td>Пушкин</td>\n",
       "      <td>20782.0</td>\n",
       "      <td>30759.0</td>\n",
       "      <td>0.0</td>\n",
       "      <td>NaN</td>\n",
       "      <td>1.0</td>\n",
       "      <td>96.0</td>\n",
       "      <td>203.0</td>\n",
       "    </tr>\n",
       "    <tr>\n",
       "      <th>15</th>\n",
       "      <td>16</td>\n",
       "      <td>4650000.0</td>\n",
       "      <td>39.00</td>\n",
       "      <td>2017-11-18T00:00:00</td>\n",
       "      <td>1</td>\n",
       "      <td>NaN</td>\n",
       "      <td>14.0</td>\n",
       "      <td>20.50</td>\n",
       "      <td>5</td>\n",
       "      <td>NaN</td>\n",
       "      <td>...</td>\n",
       "      <td>7.60</td>\n",
       "      <td>1.0</td>\n",
       "      <td>Санкт-Петербург</td>\n",
       "      <td>12900.0</td>\n",
       "      <td>14259.0</td>\n",
       "      <td>1.0</td>\n",
       "      <td>590.0</td>\n",
       "      <td>1.0</td>\n",
       "      <td>296.0</td>\n",
       "      <td>19.0</td>\n",
       "    </tr>\n",
       "    <tr>\n",
       "      <th>16</th>\n",
       "      <td>11</td>\n",
       "      <td>6700000.0</td>\n",
       "      <td>82.00</td>\n",
       "      <td>2017-11-23T00:00:00</td>\n",
       "      <td>3</td>\n",
       "      <td>3.05</td>\n",
       "      <td>5.0</td>\n",
       "      <td>55.60</td>\n",
       "      <td>1</td>\n",
       "      <td>NaN</td>\n",
       "      <td>...</td>\n",
       "      <td>9.00</td>\n",
       "      <td>NaN</td>\n",
       "      <td>Санкт-Петербург</td>\n",
       "      <td>22108.0</td>\n",
       "      <td>10698.0</td>\n",
       "      <td>3.0</td>\n",
       "      <td>420.0</td>\n",
       "      <td>0.0</td>\n",
       "      <td>NaN</td>\n",
       "      <td>397.0</td>\n",
       "    </tr>\n",
       "    <tr>\n",
       "      <th>17</th>\n",
       "      <td>6</td>\n",
       "      <td>4180000.0</td>\n",
       "      <td>36.00</td>\n",
       "      <td>2016-09-09T00:00:00</td>\n",
       "      <td>1</td>\n",
       "      <td>NaN</td>\n",
       "      <td>17.0</td>\n",
       "      <td>16.50</td>\n",
       "      <td>7</td>\n",
       "      <td>NaN</td>\n",
       "      <td>...</td>\n",
       "      <td>11.00</td>\n",
       "      <td>1.0</td>\n",
       "      <td>Санкт-Петербург</td>\n",
       "      <td>33564.0</td>\n",
       "      <td>14616.0</td>\n",
       "      <td>0.0</td>\n",
       "      <td>NaN</td>\n",
       "      <td>1.0</td>\n",
       "      <td>859.0</td>\n",
       "      <td>571.0</td>\n",
       "    </tr>\n",
       "    <tr>\n",
       "      <th>18</th>\n",
       "      <td>8</td>\n",
       "      <td>3250000.0</td>\n",
       "      <td>31.00</td>\n",
       "      <td>2017-01-27T00:00:00</td>\n",
       "      <td>1</td>\n",
       "      <td>2.50</td>\n",
       "      <td>5.0</td>\n",
       "      <td>19.40</td>\n",
       "      <td>2</td>\n",
       "      <td>NaN</td>\n",
       "      <td>...</td>\n",
       "      <td>5.60</td>\n",
       "      <td>1.0</td>\n",
       "      <td>Санкт-Петербург</td>\n",
       "      <td>44060.0</td>\n",
       "      <td>10842.0</td>\n",
       "      <td>1.0</td>\n",
       "      <td>759.0</td>\n",
       "      <td>0.0</td>\n",
       "      <td>NaN</td>\n",
       "      <td>168.0</td>\n",
       "    </tr>\n",
       "    <tr>\n",
       "      <th>19</th>\n",
       "      <td>16</td>\n",
       "      <td>14200000.0</td>\n",
       "      <td>121.00</td>\n",
       "      <td>2019-01-09T00:00:00</td>\n",
       "      <td>3</td>\n",
       "      <td>2.75</td>\n",
       "      <td>16.0</td>\n",
       "      <td>76.00</td>\n",
       "      <td>8</td>\n",
       "      <td>NaN</td>\n",
       "      <td>...</td>\n",
       "      <td>12.00</td>\n",
       "      <td>NaN</td>\n",
       "      <td>Санкт-Петербург</td>\n",
       "      <td>38900.0</td>\n",
       "      <td>12843.0</td>\n",
       "      <td>0.0</td>\n",
       "      <td>NaN</td>\n",
       "      <td>0.0</td>\n",
       "      <td>NaN</td>\n",
       "      <td>97.0</td>\n",
       "    </tr>\n",
       "  </tbody>\n",
       "</table>\n",
       "<p>20 rows × 22 columns</p>\n",
       "</div>"
      ],
      "text/plain": [
       "    total_images  last_price  total_area first_day_exposition  rooms  \\\n",
       "0             20  13000000.0      108.00  2019-03-07T00:00:00      3   \n",
       "1              7   3350000.0       40.40  2018-12-04T00:00:00      1   \n",
       "2             10   5196000.0       56.00  2015-08-20T00:00:00      2   \n",
       "3              0  64900000.0      159.00  2015-07-24T00:00:00      3   \n",
       "4              2  10000000.0      100.00  2018-06-19T00:00:00      2   \n",
       "5             10   2890000.0       30.40  2018-09-10T00:00:00      1   \n",
       "6              6   3700000.0       37.30  2017-11-02T00:00:00      1   \n",
       "7              5   7915000.0       71.60  2019-04-18T00:00:00      2   \n",
       "8             20   2900000.0       33.16  2018-05-23T00:00:00      1   \n",
       "9             18   5400000.0       61.00  2017-02-26T00:00:00      3   \n",
       "10             5   5050000.0       39.60  2017-11-16T00:00:00      1   \n",
       "11             9   3300000.0       44.00  2018-08-27T00:00:00      2   \n",
       "12            10   3890000.0       54.00  2016-06-30T00:00:00      2   \n",
       "13            20   3550000.0       42.80  2017-07-01T00:00:00      2   \n",
       "14             1   4400000.0       36.00  2016-06-23T00:00:00      1   \n",
       "15            16   4650000.0       39.00  2017-11-18T00:00:00      1   \n",
       "16            11   6700000.0       82.00  2017-11-23T00:00:00      3   \n",
       "17             6   4180000.0       36.00  2016-09-09T00:00:00      1   \n",
       "18             8   3250000.0       31.00  2017-01-27T00:00:00      1   \n",
       "19            16  14200000.0      121.00  2019-01-09T00:00:00      3   \n",
       "\n",
       "    ceiling_height  floors_total  living_area  floor is_apartment  ...  \\\n",
       "0             2.70          16.0        51.00      8          NaN  ...   \n",
       "1              NaN          11.0        18.60      1          NaN  ...   \n",
       "2              NaN           5.0        34.30      4          NaN  ...   \n",
       "3              NaN          14.0          NaN      9          NaN  ...   \n",
       "4             3.03          14.0        32.00     13          NaN  ...   \n",
       "5              NaN          12.0        14.40      5          NaN  ...   \n",
       "6              NaN          26.0        10.60      6          NaN  ...   \n",
       "7              NaN          24.0          NaN     22          NaN  ...   \n",
       "8              NaN          27.0        15.43     26          NaN  ...   \n",
       "9             2.50           9.0        43.60      7          NaN  ...   \n",
       "10            2.67          12.0        20.30      3          NaN  ...   \n",
       "11             NaN           5.0        31.00      4        False  ...   \n",
       "12             NaN           5.0        30.00      5          NaN  ...   \n",
       "13            2.56           5.0        27.00      5          NaN  ...   \n",
       "14             NaN           6.0        17.00      1          NaN  ...   \n",
       "15             NaN          14.0        20.50      5          NaN  ...   \n",
       "16            3.05           5.0        55.60      1          NaN  ...   \n",
       "17             NaN          17.0        16.50      7          NaN  ...   \n",
       "18            2.50           5.0        19.40      2          NaN  ...   \n",
       "19            2.75          16.0        76.00      8          NaN  ...   \n",
       "\n",
       "    kitchen_area  balcony              locality_name  airports_nearest  \\\n",
       "0          25.00      NaN            Санкт-Петербург           18863.0   \n",
       "1          11.00      2.0             посёлок Шушары           12817.0   \n",
       "2           8.30      0.0            Санкт-Петербург           21741.0   \n",
       "3            NaN      0.0            Санкт-Петербург           28098.0   \n",
       "4          41.00      NaN            Санкт-Петербург           31856.0   \n",
       "5           9.10      NaN  городской посёлок Янино-1               NaN   \n",
       "6          14.40      1.0          посёлок Парголово           52996.0   \n",
       "7          18.90      2.0            Санкт-Петербург           23982.0   \n",
       "8           8.81      NaN             посёлок Мурино               NaN   \n",
       "9           6.50      2.0            Санкт-Петербург           50898.0   \n",
       "10          8.50      NaN            Санкт-Петербург           38357.0   \n",
       "11          6.00      1.0                  Ломоносов           48252.0   \n",
       "12          9.00      0.0                  Сертолово               NaN   \n",
       "13          5.20      1.0                   Петергоф           37868.0   \n",
       "14          8.00      0.0                     Пушкин           20782.0   \n",
       "15          7.60      1.0            Санкт-Петербург           12900.0   \n",
       "16          9.00      NaN            Санкт-Петербург           22108.0   \n",
       "17         11.00      1.0            Санкт-Петербург           33564.0   \n",
       "18          5.60      1.0            Санкт-Петербург           44060.0   \n",
       "19         12.00      NaN            Санкт-Петербург           38900.0   \n",
       "\n",
       "   cityCenters_nearest  parks_around3000  parks_nearest  ponds_around3000  \\\n",
       "0              16028.0               1.0          482.0               2.0   \n",
       "1              18603.0               0.0            NaN               0.0   \n",
       "2              13933.0               1.0           90.0               2.0   \n",
       "3               6800.0               2.0           84.0               3.0   \n",
       "4               8098.0               2.0          112.0               1.0   \n",
       "5                  NaN               NaN            NaN               NaN   \n",
       "6              19143.0               0.0            NaN               0.0   \n",
       "7              11634.0               0.0            NaN               0.0   \n",
       "8                  NaN               NaN            NaN               NaN   \n",
       "9              15008.0               0.0            NaN               0.0   \n",
       "10             13878.0               1.0          310.0               2.0   \n",
       "11             51677.0               0.0            NaN               0.0   \n",
       "12                 NaN               NaN            NaN               NaN   \n",
       "13             33058.0               1.0          294.0               3.0   \n",
       "14             30759.0               0.0            NaN               1.0   \n",
       "15             14259.0               1.0          590.0               1.0   \n",
       "16             10698.0               3.0          420.0               0.0   \n",
       "17             14616.0               0.0            NaN               1.0   \n",
       "18             10842.0               1.0          759.0               0.0   \n",
       "19             12843.0               0.0            NaN               0.0   \n",
       "\n",
       "    ponds_nearest  days_exposition  \n",
       "0           755.0              NaN  \n",
       "1             NaN             81.0  \n",
       "2           574.0            558.0  \n",
       "3           234.0            424.0  \n",
       "4            48.0            121.0  \n",
       "5             NaN             55.0  \n",
       "6             NaN            155.0  \n",
       "7             NaN              NaN  \n",
       "8             NaN            189.0  \n",
       "9             NaN            289.0  \n",
       "10          553.0            137.0  \n",
       "11            NaN              7.0  \n",
       "12            NaN             90.0  \n",
       "13          298.0            366.0  \n",
       "14           96.0            203.0  \n",
       "15          296.0             19.0  \n",
       "16            NaN            397.0  \n",
       "17          859.0            571.0  \n",
       "18            NaN            168.0  \n",
       "19            NaN             97.0  \n",
       "\n",
       "[20 rows x 22 columns]"
      ]
     },
     "metadata": {},
     "output_type": "display_data"
    }
   ],
   "source": [
    "display(data.head(20))"
   ]
  },
  {
   "cell_type": "markdown",
   "metadata": {},
   "source": [
    "**Выведем основную информацию о датафрейме с помощью метода `info()`.**"
   ]
  },
  {
   "cell_type": "code",
   "execution_count": 4,
   "metadata": {},
   "outputs": [
    {
     "name": "stdout",
     "output_type": "stream",
     "text": [
      "<class 'pandas.core.frame.DataFrame'>\n",
      "RangeIndex: 23699 entries, 0 to 23698\n",
      "Data columns (total 22 columns):\n",
      " #   Column                Non-Null Count  Dtype  \n",
      "---  ------                --------------  -----  \n",
      " 0   total_images          23699 non-null  int64  \n",
      " 1   last_price            23699 non-null  float64\n",
      " 2   total_area            23699 non-null  float64\n",
      " 3   first_day_exposition  23699 non-null  object \n",
      " 4   rooms                 23699 non-null  int64  \n",
      " 5   ceiling_height        14504 non-null  float64\n",
      " 6   floors_total          23613 non-null  float64\n",
      " 7   living_area           21796 non-null  float64\n",
      " 8   floor                 23699 non-null  int64  \n",
      " 9   is_apartment          2775 non-null   object \n",
      " 10  studio                23699 non-null  bool   \n",
      " 11  open_plan             23699 non-null  bool   \n",
      " 12  kitchen_area          21421 non-null  float64\n",
      " 13  balcony               12180 non-null  float64\n",
      " 14  locality_name         23650 non-null  object \n",
      " 15  airports_nearest      18157 non-null  float64\n",
      " 16  cityCenters_nearest   18180 non-null  float64\n",
      " 17  parks_around3000      18181 non-null  float64\n",
      " 18  parks_nearest         8079 non-null   float64\n",
      " 19  ponds_around3000      18181 non-null  float64\n",
      " 20  ponds_nearest         9110 non-null   float64\n",
      " 21  days_exposition       20518 non-null  float64\n",
      "dtypes: bool(2), float64(14), int64(3), object(3)\n",
      "memory usage: 3.7+ MB\n"
     ]
    }
   ],
   "source": [
    "data.info()"
   ]
  },
  {
   "cell_type": "markdown",
   "metadata": {},
   "source": [
    "**Построим общую гистограмму для всех числовых столбцов таблицы.**"
   ]
  },
  {
   "cell_type": "code",
   "execution_count": 5,
   "metadata": {},
   "outputs": [
    {
     "data": {
      "image/png": "[encoded data removed]",
      "text/plain": [
       "<Figure size 1080x1440 with 20 Axes>"
      ]
     },
     "metadata": {
      "needs_background": "light"
     },
     "output_type": "display_data"
    }
   ],
   "source": [
    "data.hist(figsize=(15, 20))\n",
    "plt.show()"
   ]
  },
  {
   "cell_type": "markdown",
   "metadata": {},
   "source": [
    "### Предобработка данных"
   ]
  },
  {
   "cell_type": "markdown",
   "metadata": {},
   "source": [
    "#### Удаление пропусков"
   ]
  },
  {
   "cell_type": "markdown",
   "metadata": {},
   "source": [
    "**Выведем количество пропущенных значений для каждого столбца.**"
   ]
  },
  {
   "cell_type": "code",
   "execution_count": 6,
   "metadata": {},
   "outputs": [
    {
     "data": {
      "text/plain": [
       "total_images                0\n",
       "last_price                  0\n",
       "total_area                  0\n",
       "first_day_exposition        0\n",
       "rooms                       0\n",
       "ceiling_height           9195\n",
       "floors_total               86\n",
       "living_area              1903\n",
       "floor                       0\n",
       "is_apartment            20924\n",
       "studio                      0\n",
       "open_plan                   0\n",
       "kitchen_area             2278\n",
       "balcony                 11519\n",
       "locality_name              49\n",
       "airports_nearest         5542\n",
       "cityCenters_nearest      5519\n",
       "parks_around3000         5518\n",
       "parks_nearest           15620\n",
       "ponds_around3000         5518\n",
       "ponds_nearest           14589\n",
       "days_exposition          3181\n",
       "dtype: int64"
      ]
     },
     "metadata": {},
     "output_type": "display_data"
    },
    {
     "data": {
      "image/png": "[encoded data removed]",
      "text/plain": [
       "<Figure size 432x288 with 1 Axes>"
      ]
     },
     "metadata": {},
     "output_type": "display_data"
    }
   ],
   "source": [
    "display(data.isna().sum())\n",
    "data.isna().sum().plot(kind='pie')\n",
    "plt.show()"
   ]
  },
  {
   "cell_type": "markdown",
   "metadata": {},
   "source": [
    "**Пропуски есть в столбцах:**\n",
    "- Удаленность от парков   \n",
    "- Удаленность от прудов\n",
    "- Удаленность от аэропорта\n",
    "- Удаленность от центра города\n",
    "- Длительность размещения объявления\n",
    "- Площадь кухни\n",
    "- Количество этажей в здании\n",
    "- Название населенного пункта"
   ]
  },
  {
   "cell_type": "markdown",
   "metadata": {},
   "source": [
    "**в данных большое количество пропусков, не во всех столбцах получится обработать пропуски. Но так же есть столбцы с пропусками, которые не сильно повлияют на исследование.**"
   ]
  },
  {
   "cell_type": "code",
   "execution_count": 7,
   "metadata": {
    "scrolled": true
   },
   "outputs": [
    {
     "data": {
      "text/html": [
       "<div>\n",
       "<style scoped>\n",
       "    .dataframe tbody tr th:only-of-type {\n",
       "        vertical-align: middle;\n",
       "    }\n",
       "\n",
       "    .dataframe tbody tr th {\n",
       "        vertical-align: top;\n",
       "    }\n",
       "\n",
       "    .dataframe thead th {\n",
       "        text-align: right;\n",
       "    }\n",
       "</style>\n",
       "<table border=\"1\" class=\"dataframe\">\n",
       "  <thead>\n",
       "    <tr style=\"text-align: right;\">\n",
       "      <th></th>\n",
       "      <th>total_images</th>\n",
       "      <th>last_price</th>\n",
       "      <th>total_area</th>\n",
       "      <th>first_day_exposition</th>\n",
       "      <th>rooms</th>\n",
       "      <th>ceiling_height</th>\n",
       "      <th>floors_total</th>\n",
       "      <th>living_area</th>\n",
       "      <th>floor</th>\n",
       "      <th>is_apartment</th>\n",
       "      <th>...</th>\n",
       "      <th>kitchen_area</th>\n",
       "      <th>balcony</th>\n",
       "      <th>locality_name</th>\n",
       "      <th>airports_nearest</th>\n",
       "      <th>cityCenters_nearest</th>\n",
       "      <th>parks_around3000</th>\n",
       "      <th>parks_nearest</th>\n",
       "      <th>ponds_around3000</th>\n",
       "      <th>ponds_nearest</th>\n",
       "      <th>days_exposition</th>\n",
       "    </tr>\n",
       "  </thead>\n",
       "  <tbody>\n",
       "    <tr>\n",
       "      <th>0</th>\n",
       "      <td>20</td>\n",
       "      <td>13000000.0</td>\n",
       "      <td>108.00</td>\n",
       "      <td>2019-03-07T00:00:00</td>\n",
       "      <td>3</td>\n",
       "      <td>2.70</td>\n",
       "      <td>16.0</td>\n",
       "      <td>51.0</td>\n",
       "      <td>8</td>\n",
       "      <td>False</td>\n",
       "      <td>...</td>\n",
       "      <td>25.00</td>\n",
       "      <td>0.0</td>\n",
       "      <td>Санкт-Петербург</td>\n",
       "      <td>18863.0</td>\n",
       "      <td>16028.0</td>\n",
       "      <td>1.0</td>\n",
       "      <td>482.0</td>\n",
       "      <td>2.0</td>\n",
       "      <td>755.0</td>\n",
       "      <td>NaN</td>\n",
       "    </tr>\n",
       "    <tr>\n",
       "      <th>7</th>\n",
       "      <td>5</td>\n",
       "      <td>7915000.0</td>\n",
       "      <td>71.60</td>\n",
       "      <td>2019-04-18T00:00:00</td>\n",
       "      <td>2</td>\n",
       "      <td>2.65</td>\n",
       "      <td>24.0</td>\n",
       "      <td>30.5</td>\n",
       "      <td>22</td>\n",
       "      <td>False</td>\n",
       "      <td>...</td>\n",
       "      <td>18.90</td>\n",
       "      <td>2.0</td>\n",
       "      <td>Санкт-Петербург</td>\n",
       "      <td>23982.0</td>\n",
       "      <td>11634.0</td>\n",
       "      <td>0.0</td>\n",
       "      <td>NaN</td>\n",
       "      <td>0.0</td>\n",
       "      <td>NaN</td>\n",
       "      <td>NaN</td>\n",
       "    </tr>\n",
       "    <tr>\n",
       "      <th>44</th>\n",
       "      <td>13</td>\n",
       "      <td>5350000.0</td>\n",
       "      <td>40.00</td>\n",
       "      <td>2018-11-18T00:00:00</td>\n",
       "      <td>1</td>\n",
       "      <td>2.65</td>\n",
       "      <td>22.0</td>\n",
       "      <td>17.6</td>\n",
       "      <td>3</td>\n",
       "      <td>False</td>\n",
       "      <td>...</td>\n",
       "      <td>NaN</td>\n",
       "      <td>1.0</td>\n",
       "      <td>Санкт-Петербург</td>\n",
       "      <td>30471.0</td>\n",
       "      <td>11603.0</td>\n",
       "      <td>1.0</td>\n",
       "      <td>620.0</td>\n",
       "      <td>1.0</td>\n",
       "      <td>1152.0</td>\n",
       "      <td>NaN</td>\n",
       "    </tr>\n",
       "    <tr>\n",
       "      <th>45</th>\n",
       "      <td>17</td>\n",
       "      <td>5200000.0</td>\n",
       "      <td>50.60</td>\n",
       "      <td>2018-12-02T00:00:00</td>\n",
       "      <td>2</td>\n",
       "      <td>2.65</td>\n",
       "      <td>9.0</td>\n",
       "      <td>30.3</td>\n",
       "      <td>7</td>\n",
       "      <td>False</td>\n",
       "      <td>...</td>\n",
       "      <td>7.00</td>\n",
       "      <td>0.0</td>\n",
       "      <td>Санкт-Петербург</td>\n",
       "      <td>30011.0</td>\n",
       "      <td>12872.0</td>\n",
       "      <td>0.0</td>\n",
       "      <td>NaN</td>\n",
       "      <td>0.0</td>\n",
       "      <td>NaN</td>\n",
       "      <td>NaN</td>\n",
       "    </tr>\n",
       "    <tr>\n",
       "      <th>46</th>\n",
       "      <td>17</td>\n",
       "      <td>6600000.0</td>\n",
       "      <td>52.10</td>\n",
       "      <td>2019-01-31T00:00:00</td>\n",
       "      <td>2</td>\n",
       "      <td>2.60</td>\n",
       "      <td>24.0</td>\n",
       "      <td>29.7</td>\n",
       "      <td>9</td>\n",
       "      <td>False</td>\n",
       "      <td>...</td>\n",
       "      <td>8.30</td>\n",
       "      <td>2.0</td>\n",
       "      <td>Санкт-Петербург</td>\n",
       "      <td>15114.0</td>\n",
       "      <td>12702.0</td>\n",
       "      <td>0.0</td>\n",
       "      <td>NaN</td>\n",
       "      <td>0.0</td>\n",
       "      <td>NaN</td>\n",
       "      <td>NaN</td>\n",
       "    </tr>\n",
       "    <tr>\n",
       "      <th>...</th>\n",
       "      <td>...</td>\n",
       "      <td>...</td>\n",
       "      <td>...</td>\n",
       "      <td>...</td>\n",
       "      <td>...</td>\n",
       "      <td>...</td>\n",
       "      <td>...</td>\n",
       "      <td>...</td>\n",
       "      <td>...</td>\n",
       "      <td>...</td>\n",
       "      <td>...</td>\n",
       "      <td>...</td>\n",
       "      <td>...</td>\n",
       "      <td>...</td>\n",
       "      <td>...</td>\n",
       "      <td>...</td>\n",
       "      <td>...</td>\n",
       "      <td>...</td>\n",
       "      <td>...</td>\n",
       "      <td>...</td>\n",
       "      <td>...</td>\n",
       "    </tr>\n",
       "    <tr>\n",
       "      <th>23684</th>\n",
       "      <td>20</td>\n",
       "      <td>21400000.0</td>\n",
       "      <td>145.00</td>\n",
       "      <td>2018-11-02T00:00:00</td>\n",
       "      <td>4</td>\n",
       "      <td>3.00</td>\n",
       "      <td>26.0</td>\n",
       "      <td>71.4</td>\n",
       "      <td>17</td>\n",
       "      <td>False</td>\n",
       "      <td>...</td>\n",
       "      <td>15.60</td>\n",
       "      <td>0.0</td>\n",
       "      <td>Санкт-Петербург</td>\n",
       "      <td>11827.0</td>\n",
       "      <td>11459.0</td>\n",
       "      <td>0.0</td>\n",
       "      <td>NaN</td>\n",
       "      <td>0.0</td>\n",
       "      <td>NaN</td>\n",
       "      <td>NaN</td>\n",
       "    </tr>\n",
       "    <tr>\n",
       "      <th>23685</th>\n",
       "      <td>15</td>\n",
       "      <td>2490000.0</td>\n",
       "      <td>31.00</td>\n",
       "      <td>2019-01-24T00:00:00</td>\n",
       "      <td>1</td>\n",
       "      <td>2.50</td>\n",
       "      <td>5.0</td>\n",
       "      <td>17.3</td>\n",
       "      <td>5</td>\n",
       "      <td>False</td>\n",
       "      <td>...</td>\n",
       "      <td>5.60</td>\n",
       "      <td>1.0</td>\n",
       "      <td>Ломоносов</td>\n",
       "      <td>48393.0</td>\n",
       "      <td>51818.0</td>\n",
       "      <td>0.0</td>\n",
       "      <td>NaN</td>\n",
       "      <td>0.0</td>\n",
       "      <td>NaN</td>\n",
       "      <td>NaN</td>\n",
       "    </tr>\n",
       "    <tr>\n",
       "      <th>23694</th>\n",
       "      <td>9</td>\n",
       "      <td>9700000.0</td>\n",
       "      <td>133.81</td>\n",
       "      <td>2017-03-21T00:00:00</td>\n",
       "      <td>3</td>\n",
       "      <td>3.70</td>\n",
       "      <td>5.0</td>\n",
       "      <td>73.3</td>\n",
       "      <td>3</td>\n",
       "      <td>False</td>\n",
       "      <td>...</td>\n",
       "      <td>13.83</td>\n",
       "      <td>0.0</td>\n",
       "      <td>Санкт-Петербург</td>\n",
       "      <td>24665.0</td>\n",
       "      <td>4232.0</td>\n",
       "      <td>1.0</td>\n",
       "      <td>796.0</td>\n",
       "      <td>3.0</td>\n",
       "      <td>381.0</td>\n",
       "      <td>NaN</td>\n",
       "    </tr>\n",
       "    <tr>\n",
       "      <th>23696</th>\n",
       "      <td>18</td>\n",
       "      <td>2500000.0</td>\n",
       "      <td>56.70</td>\n",
       "      <td>2018-02-11T00:00:00</td>\n",
       "      <td>2</td>\n",
       "      <td>2.65</td>\n",
       "      <td>3.0</td>\n",
       "      <td>29.7</td>\n",
       "      <td>1</td>\n",
       "      <td>False</td>\n",
       "      <td>...</td>\n",
       "      <td>NaN</td>\n",
       "      <td>0.0</td>\n",
       "      <td>село Рождествено</td>\n",
       "      <td>NaN</td>\n",
       "      <td>NaN</td>\n",
       "      <td>0.0</td>\n",
       "      <td>NaN</td>\n",
       "      <td>0.0</td>\n",
       "      <td>NaN</td>\n",
       "      <td>NaN</td>\n",
       "    </tr>\n",
       "    <tr>\n",
       "      <th>23698</th>\n",
       "      <td>4</td>\n",
       "      <td>1350000.0</td>\n",
       "      <td>32.30</td>\n",
       "      <td>2017-07-21T00:00:00</td>\n",
       "      <td>1</td>\n",
       "      <td>2.50</td>\n",
       "      <td>5.0</td>\n",
       "      <td>12.3</td>\n",
       "      <td>1</td>\n",
       "      <td>False</td>\n",
       "      <td>...</td>\n",
       "      <td>9.00</td>\n",
       "      <td>0.0</td>\n",
       "      <td>поселок Новый Учхоз</td>\n",
       "      <td>NaN</td>\n",
       "      <td>NaN</td>\n",
       "      <td>0.0</td>\n",
       "      <td>NaN</td>\n",
       "      <td>0.0</td>\n",
       "      <td>NaN</td>\n",
       "      <td>NaN</td>\n",
       "    </tr>\n",
       "  </tbody>\n",
       "</table>\n",
       "<p>3181 rows × 22 columns</p>\n",
       "</div>"
      ],
      "text/plain": [
       "       total_images  last_price  total_area first_day_exposition  rooms  \\\n",
       "0                20  13000000.0      108.00  2019-03-07T00:00:00      3   \n",
       "7                 5   7915000.0       71.60  2019-04-18T00:00:00      2   \n",
       "44               13   5350000.0       40.00  2018-11-18T00:00:00      1   \n",
       "45               17   5200000.0       50.60  2018-12-02T00:00:00      2   \n",
       "46               17   6600000.0       52.10  2019-01-31T00:00:00      2   \n",
       "...             ...         ...         ...                  ...    ...   \n",
       "23684            20  21400000.0      145.00  2018-11-02T00:00:00      4   \n",
       "23685            15   2490000.0       31.00  2019-01-24T00:00:00      1   \n",
       "23694             9   9700000.0      133.81  2017-03-21T00:00:00      3   \n",
       "23696            18   2500000.0       56.70  2018-02-11T00:00:00      2   \n",
       "23698             4   1350000.0       32.30  2017-07-21T00:00:00      1   \n",
       "\n",
       "       ceiling_height  floors_total  living_area  floor  is_apartment  ...  \\\n",
       "0                2.70          16.0         51.0      8         False  ...   \n",
       "7                2.65          24.0         30.5     22         False  ...   \n",
       "44               2.65          22.0         17.6      3         False  ...   \n",
       "45               2.65           9.0         30.3      7         False  ...   \n",
       "46               2.60          24.0         29.7      9         False  ...   \n",
       "...               ...           ...          ...    ...           ...  ...   \n",
       "23684            3.00          26.0         71.4     17         False  ...   \n",
       "23685            2.50           5.0         17.3      5         False  ...   \n",
       "23694            3.70           5.0         73.3      3         False  ...   \n",
       "23696            2.65           3.0         29.7      1         False  ...   \n",
       "23698            2.50           5.0         12.3      1         False  ...   \n",
       "\n",
       "       kitchen_area  balcony        locality_name  airports_nearest  \\\n",
       "0             25.00      0.0      Санкт-Петербург           18863.0   \n",
       "7             18.90      2.0      Санкт-Петербург           23982.0   \n",
       "44              NaN      1.0      Санкт-Петербург           30471.0   \n",
       "45             7.00      0.0      Санкт-Петербург           30011.0   \n",
       "46             8.30      2.0      Санкт-Петербург           15114.0   \n",
       "...             ...      ...                  ...               ...   \n",
       "23684         15.60      0.0      Санкт-Петербург           11827.0   \n",
       "23685          5.60      1.0            Ломоносов           48393.0   \n",
       "23694         13.83      0.0      Санкт-Петербург           24665.0   \n",
       "23696           NaN      0.0     село Рождествено               NaN   \n",
       "23698          9.00      0.0  поселок Новый Учхоз               NaN   \n",
       "\n",
       "      cityCenters_nearest  parks_around3000  parks_nearest  ponds_around3000  \\\n",
       "0                 16028.0               1.0          482.0               2.0   \n",
       "7                 11634.0               0.0            NaN               0.0   \n",
       "44                11603.0               1.0          620.0               1.0   \n",
       "45                12872.0               0.0            NaN               0.0   \n",
       "46                12702.0               0.0            NaN               0.0   \n",
       "...                   ...               ...            ...               ...   \n",
       "23684             11459.0               0.0            NaN               0.0   \n",
       "23685             51818.0               0.0            NaN               0.0   \n",
       "23694              4232.0               1.0          796.0               3.0   \n",
       "23696                 NaN               0.0            NaN               0.0   \n",
       "23698                 NaN               0.0            NaN               0.0   \n",
       "\n",
       "       ponds_nearest  days_exposition  \n",
       "0              755.0              NaN  \n",
       "7                NaN              NaN  \n",
       "44            1152.0              NaN  \n",
       "45               NaN              NaN  \n",
       "46               NaN              NaN  \n",
       "...              ...              ...  \n",
       "23684            NaN              NaN  \n",
       "23685            NaN              NaN  \n",
       "23694          381.0              NaN  \n",
       "23696            NaN              NaN  \n",
       "23698            NaN              NaN  \n",
       "\n",
       "[3181 rows x 22 columns]"
      ]
     },
     "execution_count": 7,
     "metadata": {},
     "output_type": "execute_result"
    }
   ],
   "source": [
    "#Начнем по порядку, первый столбец с пропущенными значениями - высота потолков.Точных данных для замены мы не сможем\n",
    "#найти, поэтому предлагаю пропуски заменить медианным значением\n",
    "data['ceiling_height']=data['ceiling_height'].fillna(data['ceiling_height'].median())\n",
    "\n",
    "#Столбец с Количеством этажей так же логически заменить нельзя, да и количество пропущенных значений не велико, \n",
    "#поэтому этот столбец оставим как есть.\n",
    "\n",
    "#Следующий столбец с пропущенными значениями - жилая площадь. Пропусков не мало, предлагаю их заменить медианным значением, \n",
    "#по количеству комнат\n",
    "for room in data['rooms'].unique():\n",
    "    data.loc[(data['rooms'] == room) & (data['living_area'].isna()), 'living_area'] = \\\n",
    "    data.loc[(data['rooms'] == room), 'living_area'].median()\n",
    "\n",
    "#Далее столбец с аппартаментами, огромное количество пропусков, думаю их логично заменить на False, так как скорее всего \n",
    "#владельцы обычных квартир просто оставляли этот пункт не заполненным\n",
    "data['is_apartment']=data['is_apartment'].fillna(False)\n",
    "\n",
    "#Следующий столбец - площадь кухни. Часть пропущенных значений относится к аппартаментам, студиям и открытым планировкам. \n",
    "#Можно заменить значения на средние или медианные, но на общую картину это не повлияет, поэтому оставим этот столбец без изменений.\n",
    "\n",
    "#Следующий столбец - балконы, тут так же логично предположить, что если пропуск, то балкон отсутствует, \n",
    "#поэтому заменяем пропуски на 0:\n",
    "data['balcony']=data['balcony'].fillna(0)\n",
    "\n",
    "#Столбцы с названием населенного пункта, удаленности от центра города и аэропорта оставляем без изменений, \n",
    "#логически мы их заполнитиь не можем\n",
    "\n",
    "#Столбцы с количеством парков и прудов - так же пропуски заменим на 0, логично предположить, что если их количество не указано, \n",
    "#то и парков с прудами по близости нет. \n",
    "data['parks_around3000']=data['parks_around3000'].fillna(0)\n",
    "data['ponds_around3000']=data['ponds_around3000'].fillna(0)\n",
    "\n",
    "data[data['days_exposition'].isna()] #В столбце с количеством дней размещения большинство строк с более поздними датами\n",
    "#первого размещения, отсюда можем предположить, что эти обьекты еще не проданы, этот столбец также оставим без изменений.\n",
    "\n",
    "    "
   ]
  },
  {
   "cell_type": "markdown",
   "metadata": {},
   "source": [
    "**Выведем еще раз количество пропущенных значений для каждого столбца.**"
   ]
  },
  {
   "cell_type": "code",
   "execution_count": 8,
   "metadata": {},
   "outputs": [
    {
     "data": {
      "text/plain": [
       "total_images                0\n",
       "last_price                  0\n",
       "total_area                  0\n",
       "first_day_exposition        0\n",
       "rooms                       0\n",
       "ceiling_height              0\n",
       "floors_total               86\n",
       "living_area                 0\n",
       "floor                       0\n",
       "is_apartment                0\n",
       "studio                      0\n",
       "open_plan                   0\n",
       "kitchen_area             2278\n",
       "balcony                     0\n",
       "locality_name              49\n",
       "airports_nearest         5542\n",
       "cityCenters_nearest      5519\n",
       "parks_around3000            0\n",
       "parks_nearest           15620\n",
       "ponds_around3000            0\n",
       "ponds_nearest           14589\n",
       "days_exposition          3181\n",
       "dtype: int64"
      ]
     },
     "metadata": {},
     "output_type": "display_data"
    }
   ],
   "source": [
    "display(data.isna().sum())\n"
   ]
  },
  {
   "cell_type": "markdown",
   "metadata": {},
   "source": [
    "**От всех пропусков избавиться нам не удалось, но в большинстве важных для исследования данных мы от них избавились. Причины появления пропусков на мой взгляд две:**\n",
    "- В данных которые добавляют пользователи (площади, балконы, количество этажей), сами пользователи пропускают эти значения не считая их важными.\n",
    "- В картографических данных скорее всего проблема в программе, которая определяет эти данные\n",
    "\n",
    "**Пропуски в столбце days_exposition на мой взгляд связаны с тем, что объект на момент выгрузки данных был еще в продаже**"
   ]
  },
  {
   "cell_type": "markdown",
   "metadata": {},
   "source": [
    "#### Изменение типов данных"
   ]
  },
  {
   "cell_type": "code",
   "execution_count": 9,
   "metadata": {},
   "outputs": [
    {
     "name": "stdout",
     "output_type": "stream",
     "text": [
      "<class 'pandas.core.frame.DataFrame'>\n",
      "RangeIndex: 23699 entries, 0 to 23698\n",
      "Data columns (total 22 columns):\n",
      " #   Column                Non-Null Count  Dtype  \n",
      "---  ------                --------------  -----  \n",
      " 0   total_images          23699 non-null  int64  \n",
      " 1   last_price            23699 non-null  float64\n",
      " 2   total_area            23699 non-null  float64\n",
      " 3   first_day_exposition  23699 non-null  object \n",
      " 4   rooms                 23699 non-null  int64  \n",
      " 5   ceiling_height        23699 non-null  float64\n",
      " 6   floors_total          23613 non-null  float64\n",
      " 7   living_area           23699 non-null  float64\n",
      " 8   floor                 23699 non-null  int64  \n",
      " 9   is_apartment          23699 non-null  bool   \n",
      " 10  studio                23699 non-null  bool   \n",
      " 11  open_plan             23699 non-null  bool   \n",
      " 12  kitchen_area          21421 non-null  float64\n",
      " 13  balcony               23699 non-null  float64\n",
      " 14  locality_name         23650 non-null  object \n",
      " 15  airports_nearest      18157 non-null  float64\n",
      " 16  cityCenters_nearest   18180 non-null  float64\n",
      " 17  parks_around3000      23699 non-null  float64\n",
      " 18  parks_nearest         8079 non-null   float64\n",
      " 19  ponds_around3000      23699 non-null  float64\n",
      " 20  ponds_nearest         9110 non-null   float64\n",
      " 21  days_exposition       20518 non-null  float64\n",
      "dtypes: bool(3), float64(14), int64(3), object(2)\n",
      "memory usage: 3.5+ MB\n"
     ]
    }
   ],
   "source": [
    "data.info() #Посмотрим еще раз типы данных, после удаления пропусков столбец is_apartment поменял тип данных на bool."
   ]
  },
  {
   "cell_type": "code",
   "execution_count": 10,
   "metadata": {},
   "outputs": [],
   "source": [
    "# Изменим тип данных в стобце last_price на int64, для удобства при просмотре, относительно цены, значения после запятой не\n",
    "# имеют значения\n",
    "data['last_price'] = data['last_price'].astype('int')\n",
    "\n",
    "# Столбец first_day_exposition приведем к формату datetime\n",
    "data['first_day_exposition'] = pd.to_datetime(data['first_day_exposition'], format = '%Y-%m-%d')\n",
    "\n",
    "# Столбец floors_total нужно поменять на int64, количество этажей не может быть вещественным числом, но мы не можем этого\n",
    "# сделать, пока у нас в этом столбце пропуски, оставим как есть.\n",
    "\n",
    "# Столбец balcony нужно поменять на int64, количество балконов не может быть вещественным числом\n",
    "data['balcony'] = data['balcony'].astype('int')\n",
    "\n",
    "# Столбцы с каоличеством парков и прудов также меняем на int64\n",
    "data['parks_around3000']=data['parks_around3000'].astype('int')\n",
    "data['ponds_around3000']=data['ponds_around3000'].astype('int')\n",
    "\n",
    "# Столбец days_exposition нужно поменять на int64, количество этажей не может быть вещественным числом, но мы не можем этого\n",
    "# сделать, пока у нас в этом столбце пропуски, оставим как есть. \n"
   ]
  },
  {
   "cell_type": "code",
   "execution_count": 11,
   "metadata": {},
   "outputs": [
    {
     "name": "stdout",
     "output_type": "stream",
     "text": [
      "<class 'pandas.core.frame.DataFrame'>\n",
      "RangeIndex: 23699 entries, 0 to 23698\n",
      "Data columns (total 22 columns):\n",
      " #   Column                Non-Null Count  Dtype         \n",
      "---  ------                --------------  -----         \n",
      " 0   total_images          23699 non-null  int64         \n",
      " 1   last_price            23699 non-null  int64         \n",
      " 2   total_area            23699 non-null  float64       \n",
      " 3   first_day_exposition  23699 non-null  datetime64[ns]\n",
      " 4   rooms                 23699 non-null  int64         \n",
      " 5   ceiling_height        23699 non-null  float64       \n",
      " 6   floors_total          23613 non-null  float64       \n",
      " 7   living_area           23699 non-null  float64       \n",
      " 8   floor                 23699 non-null  int64         \n",
      " 9   is_apartment          23699 non-null  bool          \n",
      " 10  studio                23699 non-null  bool          \n",
      " 11  open_plan             23699 non-null  bool          \n",
      " 12  kitchen_area          21421 non-null  float64       \n",
      " 13  balcony               23699 non-null  int64         \n",
      " 14  locality_name         23650 non-null  object        \n",
      " 15  airports_nearest      18157 non-null  float64       \n",
      " 16  cityCenters_nearest   18180 non-null  float64       \n",
      " 17  parks_around3000      23699 non-null  int64         \n",
      " 18  parks_nearest         8079 non-null   float64       \n",
      " 19  ponds_around3000      23699 non-null  int64         \n",
      " 20  ponds_nearest         9110 non-null   float64       \n",
      " 21  days_exposition       20518 non-null  float64       \n",
      "dtypes: bool(3), datetime64[ns](1), float64(10), int64(7), object(1)\n",
      "memory usage: 3.5+ MB\n"
     ]
    }
   ],
   "source": [
    "data.info()"
   ]
  },
  {
   "cell_type": "markdown",
   "metadata": {},
   "source": [
    "**Pandas автоматически выбирает тип данных, но иногда он ошибается, в таких случаях необходимо менять тип данных. Данные даты и времени мы меняем на тип datetame, для возможности применения арифметических операций.** "
   ]
  },
  {
   "cell_type": "markdown",
   "metadata": {},
   "source": [
    "#### Обработка дубликатов"
   ]
  },
  {
   "cell_type": "code",
   "execution_count": 12,
   "metadata": {},
   "outputs": [
    {
     "data": {
      "text/plain": [
       "array(['Санкт-Петербург', 'посёлок Шушары', 'городской посёлок Янино-1',\n",
       "       'посёлок Парголово', 'посёлок Мурино', 'Ломоносов', 'Сертолово',\n",
       "       'Петергоф', 'Пушкин', 'деревня Кудрово', 'Коммунар', 'Колпино',\n",
       "       'поселок городского типа Красный Бор', 'Гатчина', 'поселок Мурино',\n",
       "       'деревня Фёдоровское', 'Выборг', 'Кронштадт', 'Кировск',\n",
       "       'деревня Новое Девяткино', 'посёлок Металлострой',\n",
       "       'посёлок городского типа Лебяжье',\n",
       "       'посёлок городского типа Сиверский', 'поселок Молодцово',\n",
       "       'поселок городского типа Кузьмоловский',\n",
       "       'садовое товарищество Новая Ропша', 'Павловск',\n",
       "       'деревня Пикколово', 'Всеволожск', 'Волхов', 'Кингисепп',\n",
       "       'Приозерск', 'Сестрорецк', 'деревня Куттузи', 'посёлок Аннино',\n",
       "       'поселок городского типа Ефимовский', 'посёлок Плодовое',\n",
       "       'деревня Заклинье', 'поселок Торковичи', 'поселок Первомайское',\n",
       "       'Красное Село', 'посёлок Понтонный', 'Сясьстрой', 'деревня Старая',\n",
       "       'деревня Лесколово', 'посёлок Новый Свет', 'Сланцы',\n",
       "       'село Путилово', 'Ивангород', 'Мурино', 'Шлиссельбург',\n",
       "       'Никольское', 'Зеленогорск', 'Сосновый Бор', 'поселок Новый Свет',\n",
       "       'деревня Оржицы', 'деревня Кальтино', 'Кудрово',\n",
       "       'поселок Романовка', 'посёлок Бугры', 'поселок Бугры',\n",
       "       'поселок городского типа Рощино', 'Кириши', 'Луга', 'Волосово',\n",
       "       'Отрадное', 'село Павлово', 'поселок Оредеж', 'село Копорье',\n",
       "       'посёлок городского типа Красный Бор', 'посёлок Молодёжное',\n",
       "       'Тихвин', 'посёлок Победа', 'деревня Нурма',\n",
       "       'поселок городского типа Синявино', 'Тосно',\n",
       "       'посёлок городского типа Кузьмоловский', 'посёлок Стрельна',\n",
       "       'Бокситогорск', 'посёлок Александровская', 'деревня Лопухинка',\n",
       "       'Пикалёво', 'поселок Терволово',\n",
       "       'поселок городского типа Советский', 'Подпорожье',\n",
       "       'посёлок Петровское', 'посёлок городского типа Токсово',\n",
       "       'поселок Сельцо', 'посёлок городского типа Вырица',\n",
       "       'деревня Кипень', 'деревня Келози', 'деревня Вартемяги',\n",
       "       'посёлок Тельмана', 'поселок Севастьяново',\n",
       "       'городской поселок Большая Ижора', nan,\n",
       "       'городской посёлок Павлово', 'деревня Агалатово',\n",
       "       'посёлок Новогорелово', 'городской посёлок Лесогорский',\n",
       "       'деревня Лаголово', 'поселок Цвелодубово',\n",
       "       'поселок городского типа Рахья', 'поселок городского типа Вырица',\n",
       "       'деревня Белогорка', 'поселок Заводской',\n",
       "       'городской посёлок Новоселье', 'деревня Большие Колпаны',\n",
       "       'деревня Горбунки', 'деревня Батово', 'деревня Заневка',\n",
       "       'деревня Иссад', 'Приморск', 'городской посёлок Фёдоровское',\n",
       "       'деревня Мистолово', 'Новая Ладога', 'поселок Зимитицы',\n",
       "       'поселок Барышево', 'деревня Разметелево',\n",
       "       'поселок городского типа имени Свердлова', 'деревня Пеники',\n",
       "       'поселок Рябово', 'деревня Пудомяги', 'поселок станции Корнево',\n",
       "       'деревня Низино', 'деревня Бегуницы', 'посёлок Поляны',\n",
       "       'городской посёлок Мга', 'поселок Елизаветино',\n",
       "       'посёлок городского типа Кузнечное', 'деревня Колтуши',\n",
       "       'поселок Запорожское', 'посёлок городского типа Рощино',\n",
       "       'деревня Гостилицы', 'деревня Малое Карлино',\n",
       "       'посёлок Мичуринское', 'посёлок городского типа имени Морозова',\n",
       "       'посёлок Песочный', 'посёлок Сосново', 'деревня Аро',\n",
       "       'поселок Ильичёво', 'посёлок городского типа Тайцы',\n",
       "       'деревня Малое Верево', 'деревня Извара', 'поселок станции Вещево',\n",
       "       'село Паша', 'деревня Калитино',\n",
       "       'посёлок городского типа Ульяновка', 'деревня Чудской Бор',\n",
       "       'поселок городского типа Дубровка', 'деревня Мины',\n",
       "       'поселок Войсковицы', 'посёлок городского типа имени Свердлова',\n",
       "       'деревня Коркино', 'посёлок Ропша',\n",
       "       'поселок городского типа Приладожский', 'посёлок Щеглово',\n",
       "       'посёлок Гаврилово', 'Лодейное Поле', 'деревня Рабитицы',\n",
       "       'поселок городского типа Никольский', 'деревня Кузьмолово',\n",
       "       'деревня Малые Колпаны', 'поселок Тельмана',\n",
       "       'посёлок Петро-Славянка', 'городской посёлок Назия',\n",
       "       'посёлок Репино', 'посёлок Ильичёво', 'поселок Углово',\n",
       "       'поселок Старая Малукса', 'садовое товарищество Рахья',\n",
       "       'поселок Аннино', 'поселок Победа', 'деревня Меньково',\n",
       "       'деревня Старые Бегуницы', 'посёлок Сапёрный', 'поселок Семрино',\n",
       "       'поселок Гаврилово', 'поселок Глажево', 'поселок Кобринское',\n",
       "       'деревня Гарболово', 'деревня Юкки',\n",
       "       'поселок станции Приветнинское', 'деревня Мануйлово',\n",
       "       'деревня Пчева', 'поселок Поляны', 'поселок Цвылёво',\n",
       "       'поселок Мельниково', 'посёлок Пудость', 'посёлок Усть-Луга',\n",
       "       'Светогорск', 'Любань', 'поселок Селезнёво',\n",
       "       'поселок городского типа Рябово', 'Каменногорск', 'деревня Кривко',\n",
       "       'поселок Глебычево', 'деревня Парицы', 'поселок Жилпосёлок',\n",
       "       'посёлок городского типа Мга', 'городской поселок Янино-1',\n",
       "       'посёлок Войскорово', 'село Никольское', 'посёлок Терволово',\n",
       "       'поселок Стеклянный', 'посёлок городского типа Важины',\n",
       "       'посёлок Мыза-Ивановка', 'село Русско-Высоцкое',\n",
       "       'поселок городского типа Лебяжье',\n",
       "       'поселок городского типа Форносово', 'село Старая Ладога',\n",
       "       'поселок Житково', 'городской посёлок Виллози', 'деревня Лампово',\n",
       "       'деревня Шпаньково', 'деревня Лаврики', 'посёлок Сумино',\n",
       "       'посёлок Возрождение', 'деревня Старосиверская',\n",
       "       'посёлок Кикерино', 'поселок Возрождение',\n",
       "       'деревня Старое Хинколово', 'посёлок Пригородный',\n",
       "       'посёлок Торфяное', 'городской посёлок Будогощь',\n",
       "       'поселок Суходолье', 'поселок Красная Долина', 'деревня Хапо-Ое',\n",
       "       'поселок городского типа Дружная Горка', 'поселок Лисий Нос',\n",
       "       'деревня Яльгелево', 'посёлок Стеклянный', 'село Рождествено',\n",
       "       'деревня Старополье', 'посёлок Левашово', 'деревня Сяськелево',\n",
       "       'деревня Камышовка',\n",
       "       'садоводческое некоммерческое товарищество Лесная Поляна',\n",
       "       'деревня Хязельки', 'поселок Жилгородок',\n",
       "       'посёлок городского типа Павлово', 'деревня Ялгино',\n",
       "       'поселок Новый Учхоз', 'городской посёлок Рощино',\n",
       "       'поселок Гончарово', 'поселок Почап', 'посёлок Сапёрное',\n",
       "       'посёлок Платформа 69-й километр', 'поселок Каложицы',\n",
       "       'деревня Фалилеево', 'деревня Пельгора',\n",
       "       'поселок городского типа Лесогорский', 'деревня Торошковичи',\n",
       "       'посёлок Белоостров', 'посёлок Алексеевка', 'поселок Серебрянский',\n",
       "       'поселок Лукаши', 'поселок Петровское', 'деревня Щеглово',\n",
       "       'поселок Мичуринское', 'деревня Тарасово', 'поселок Кингисеппский',\n",
       "       'посёлок при железнодорожной станции Вещево', 'поселок Ушаки',\n",
       "       'деревня Котлы', 'деревня Сижно', 'деревня Торосово',\n",
       "       'посёлок Форт Красная Горка', 'поселок городского типа Токсово',\n",
       "       'деревня Новолисино', 'посёлок станции Громово', 'деревня Глинка',\n",
       "       'посёлок Мельниково', 'поселок городского типа Назия',\n",
       "       'деревня Старая Пустошь', 'поселок Коммунары', 'поселок Починок',\n",
       "       'посёлок городского типа Вознесенье', 'деревня Разбегаево',\n",
       "       'посёлок городского типа Рябово', 'поселок Гладкое',\n",
       "       'посёлок при железнодорожной станции Приветнинское',\n",
       "       'поселок Тёсово-4', 'посёлок Жилгородок', 'деревня Бор',\n",
       "       'посёлок Коробицыно', 'деревня Большая Вруда', 'деревня Курковицы',\n",
       "       'посёлок Лисий Нос', 'городской посёлок Советский',\n",
       "       'посёлок Кобралово', 'деревня Суоранда', 'поселок Кобралово',\n",
       "       'поселок городского типа Кондратьево',\n",
       "       'коттеджный поселок Счастье', 'поселок Любань', 'деревня Реброво',\n",
       "       'деревня Зимитицы', 'деревня Тойворово', 'поселок Семиозерье',\n",
       "       'поселок Лесное', 'поселок Совхозный', 'поселок Усть-Луга',\n",
       "       'посёлок Ленинское', 'посёлок Суйда',\n",
       "       'посёлок городского типа Форносово', 'деревня Нижние Осельки',\n",
       "       'посёлок станции Свирь', 'поселок Перово', 'Высоцк',\n",
       "       'поселок Гарболово', 'село Шум', 'поселок Котельский',\n",
       "       'поселок станции Лужайка', 'деревня Большая Пустомержа',\n",
       "       'поселок Красносельское', 'деревня Вахнова Кара', 'деревня Пижма',\n",
       "       'коттеджный поселок Кивеннапа Север', 'поселок Коробицыно',\n",
       "       'поселок Ромашки', 'посёлок Перово', 'деревня Каськово',\n",
       "       'деревня Куровицы', 'посёлок Плоское', 'поселок Сумино',\n",
       "       'поселок городского типа Большая Ижора', 'поселок Кирпичное',\n",
       "       'деревня Ям-Тесово', 'деревня Раздолье', 'деревня Терпилицы',\n",
       "       'посёлок Шугозеро', 'деревня Ваганово', 'поселок Пушное',\n",
       "       'садовое товарищество Садко', 'посёлок Усть-Ижора',\n",
       "       'деревня Выскатка', 'городской посёлок Свирьстрой',\n",
       "       'поселок Громово', 'деревня Кисельня', 'посёлок Старая Малукса',\n",
       "       'деревня Трубников Бор', 'поселок Калитино',\n",
       "       'посёлок Высокоключевой', 'садовое товарищество Приладожский',\n",
       "       'посёлок Пансионат Зелёный Бор', 'деревня Ненимяки',\n",
       "       'поселок Пансионат Зелёный Бор', 'деревня Снегирёвка',\n",
       "       'деревня Рапполово', 'деревня Пустынка', 'поселок Рабитицы',\n",
       "       'деревня Большой Сабск', 'деревня Русско', 'деревня Лупполово',\n",
       "       'деревня Большое Рейзино', 'деревня Малая Романовка',\n",
       "       'поселок Дружноселье', 'поселок Пчевжа', 'поселок Володарское',\n",
       "       'деревня Нижняя', 'коттеджный посёлок Лесное', 'деревня Тихковицы',\n",
       "       'деревня Борисова Грива', 'посёлок Дзержинского'], dtype=object)"
      ]
     },
     "execution_count": 12,
     "metadata": {},
     "output_type": "execute_result"
    }
   ],
   "source": [
    "#Найдем список уникальных значений для столбца locality_name\n",
    "data['locality_name'].unique()"
   ]
  },
  {
   "cell_type": "markdown",
   "metadata": {},
   "source": [
    "**Первое что бросается в глаза - буква е и ё в одних и тех же названиях и типы поселений - для одного названия используются разные типы**"
   ]
  },
  {
   "cell_type": "code",
   "execution_count": 13,
   "metadata": {},
   "outputs": [],
   "source": [
    "#Заменим все ё на е\n",
    "data['locality_name'] = data['locality_name'].str.replace('ё','е', regex=True)\n",
    "\n",
    "#Также избавимся от типов поселений, так как они повторяются с использованием типа и без него\n",
    "word_list = ['поселок ', 'городской поселок ', 'городской ', 'городского типа ', 'при железнодорожной станции ', 'станции ', 'коттеджный', 'садоводческое некоммерческое товарищество ', 'поселок городского типа ', 'деревня ', 'садовое товарищество ', 'село ', 'садовое некоммерческое товарищество ','коттеджный поселок ']\n",
    "name = ''\n",
    "for word in word_list:\n",
    "    data['locality_name'] = data['locality_name'].replace(word, name, regex=True)"
   ]
  },
  {
   "cell_type": "code",
   "execution_count": 14,
   "metadata": {
    "scrolled": true
   },
   "outputs": [
    {
     "data": {
      "text/plain": [
       "array(['Санкт-Петербург', 'Шушары', 'Янино-1', 'Парголово', 'Мурино',\n",
       "       'Ломоносов', 'Сертолово', 'Петергоф', 'Пушкин', 'Кудрово',\n",
       "       'Коммунар', 'Колпино', 'Красный Бор', 'Гатчина', 'Федоровское',\n",
       "       'Выборг', 'Кронштадт', 'Кировск', 'Новое Девяткино',\n",
       "       'Металлострой', 'Лебяжье', 'Сиверский', 'Молодцово',\n",
       "       'Кузьмоловский', 'Новая Ропша', 'Павловск', 'Пикколово',\n",
       "       'Всеволожск', 'Волхов', 'Кингисепп', 'Приозерск', 'Сестрорецк',\n",
       "       'Куттузи', 'Аннино', 'Ефимовский', 'Плодовое', 'Заклинье',\n",
       "       'Торковичи', 'Первомайское', 'Красное Село', 'Понтонный',\n",
       "       'Сясьстрой', 'Старая', 'Лесколово', 'Новый Свет', 'Сланцы',\n",
       "       'Путилово', 'Ивангород', 'Шлиссельбург', 'Никольское',\n",
       "       'Зеленогорск', 'Сосновый Бор', 'Оржицы', 'Кальтино', 'Романовка',\n",
       "       'Бугры', 'Рощино', 'Кириши', 'Луга', 'Волосово', 'Отрадное',\n",
       "       'Павлово', 'Оредеж', 'Копорье', 'Молодежное', 'Тихвин', 'Победа',\n",
       "       'Нурма', 'Синявино', 'Тосно', 'Стрельна', 'Бокситогорск',\n",
       "       'Александровская', 'Лопухинка', 'Пикалево', 'Терволово',\n",
       "       'Советский', 'Подпорожье', 'Петровское', 'Токсово', 'Сельцо',\n",
       "       'Вырица', 'Кипень', 'Келози', 'Вартемяги', 'Тельмана',\n",
       "       'Севастьяново', 'Большая Ижора', nan, 'Агалатово', 'Новогорелово',\n",
       "       'Лесогорский', 'Лаголово', 'Цвелодубово', 'Рахья', 'Белогорка',\n",
       "       'Заводской', 'Новоселье', 'Большие Колпаны', 'Горбунки', 'Батово',\n",
       "       'Заневка', 'Иссад', 'Приморск', 'Мистолово', 'Новая Ладога',\n",
       "       'Зимитицы', 'Барышево', 'Разметелево', 'имени Свердлова', 'Пеники',\n",
       "       'Рябово', 'Пудомяги', 'Корнево', 'Низино', 'Бегуницы', 'Поляны',\n",
       "       'Мга', 'Елизаветино', 'Кузнечное', 'Колтуши', 'Запорожское',\n",
       "       'Гостилицы', 'Малое Карлино', 'Мичуринское', 'имени Морозова',\n",
       "       'Песочный', 'Сосново', 'Аро', 'Ильичево', 'Тайцы', 'Малое Верево',\n",
       "       'Извара', 'Вещево', 'Паша', 'Калитино', 'Ульяновка', 'Чудской Бор',\n",
       "       'Дубровка', 'Мины', 'Войсковицы', 'Коркино', 'Ропша',\n",
       "       'Приладожский', 'Щеглово', 'Гаврилово', 'Лодейное Поле',\n",
       "       'Рабитицы', 'Никольский', 'Кузьмолово', 'Малые Колпаны',\n",
       "       'Петро-Славянка', 'Назия', 'Репино', 'Углово', 'Старая Малукса',\n",
       "       'Меньково', 'Старые Бегуницы', 'Саперный', 'Семрино', 'Глажево',\n",
       "       'Кобринское', 'Гарболово', 'Юкки', 'Приветнинское', 'Мануйлово',\n",
       "       'Пчева', 'Цвылево', 'Мельниково', 'Пудость', 'Усть-Луга',\n",
       "       'Светогорск', 'Любань', 'Селезнево', 'Каменногорск', 'Кривко',\n",
       "       'Глебычево', 'Парицы', 'Жилпоселок', 'Войскорово', 'Стеклянный',\n",
       "       'Важины', 'Мыза-Ивановка', 'Русско-Высоцкое', 'Форносово',\n",
       "       'Старая Ладога', 'Житково', 'Виллози', 'Лампово', 'Шпаньково',\n",
       "       'Лаврики', 'Сумино', 'Возрождение', 'Старосиверская', 'Кикерино',\n",
       "       'Старое Хинколово', 'Пригородный', 'Торфяное', 'Будогощь',\n",
       "       'Суходолье', 'Красная Долина', 'Хапо-Ое', 'Дружная Горка',\n",
       "       'Лисий Нос', 'Яльгелево', 'Рождествено', 'Старополье', 'Левашово',\n",
       "       'Сяськелево', 'Камышовка', 'Лесная Поляна', 'Хязельки',\n",
       "       'Жилгородок', 'Ялгино', 'Новый Учхоз', 'Гончарово', 'Почап',\n",
       "       'Саперное', 'Платформа 69-й километр', 'Каложицы', 'Фалилеево',\n",
       "       'Пельгора', 'Торошковичи', 'Белоостров', 'Алексеевка',\n",
       "       'Серебрянский', 'Лукаши', 'Тарасово', 'Кингисеппский', 'Ушаки',\n",
       "       'Котлы', 'Сижно', 'Торосово', 'Форт Красная Горка', 'Новолисино',\n",
       "       'Громово', 'Глинка', 'Старая Пустошь', 'Коммунары', 'Починок',\n",
       "       'Вознесенье', 'Разбегаево', 'Гладкое', 'Тесово-4', 'Бор',\n",
       "       'Коробицыно', 'Большая Вруда', 'Курковицы', 'Кобралово',\n",
       "       'Суоранда', 'Кондратьево', ' Счастье', 'Реброво', 'Тойворово',\n",
       "       'Семиозерье', 'Лесное', 'Совхозный', 'Ленинское', 'Суйда',\n",
       "       'Нижние Осельки', 'Свирь', 'Перово', 'Высоцк', 'Шум', 'Котельский',\n",
       "       'Лужайка', 'Большая Пустомержа', 'Красносельское', 'Вахнова Кара',\n",
       "       'Пижма', ' Кивеннапа Север', 'Ромашки', 'Каськово', 'Куровицы',\n",
       "       'Плоское', 'Кирпичное', 'Ям-Тесово', 'Раздолье', 'Терпилицы',\n",
       "       'Шугозеро', 'Ваганово', 'Пушное', 'Садко', 'Усть-Ижора',\n",
       "       'Выскатка', 'Свирьстрой', 'Кисельня', 'Трубников Бор',\n",
       "       'Высокоключевой', 'Пансионат Зеленый Бор', 'Ненимяки',\n",
       "       'Снегиревка', 'Рапполово', 'Пустынка', 'Большой Сабск', 'Русско',\n",
       "       'Лупполово', 'Большое Рейзино', 'Малая Романовка', 'Дружноселье',\n",
       "       'Пчевжа', 'Володарское', 'Нижняя', ' Лесное', 'Тихковицы',\n",
       "       'Борисова Грива', 'Дзержинского'], dtype=object)"
      ]
     },
     "execution_count": 14,
     "metadata": {},
     "output_type": "execute_result"
    }
   ],
   "source": [
    "#И снова выведем список уникальных значений\n",
    "data['locality_name'].unique()"
   ]
  },
  {
   "cell_type": "markdown",
   "metadata": {},
   "source": [
    "#### Поиск редких и выбивающихся значений"
   ]
  },
  {
   "cell_type": "code",
   "execution_count": 15,
   "metadata": {
    "scrolled": true
   },
   "outputs": [
    {
     "data": {
      "text/plain": [
       "count    23699.000000\n",
       "mean        60.348651\n",
       "std         35.654083\n",
       "min         12.000000\n",
       "25%         40.000000\n",
       "50%         52.000000\n",
       "75%         69.900000\n",
       "max        900.000000\n",
       "Name: total_area, dtype: float64"
      ]
     },
     "metadata": {},
     "output_type": "display_data"
    },
    {
     "data": {
      "image/png": "[encoded data removed]",
      "text/plain": [
       "<Figure size 432x288 with 1 Axes>"
      ]
     },
     "metadata": {
      "needs_background": "light"
     },
     "output_type": "display_data"
    }
   ],
   "source": [
    "#Построим диаграмму размаха и воспользуемся методом describe() для столбца total_area. По диаграмме видно что есть выбросы.\n",
    "#Предлагаю отфильтровать варианты свыше 200м2, это больше \"усов\", но так мы отбросим только 1% данных.\n",
    "display(data['total_area'].describe())\n",
    "data.boxplot('living_area')\n",
    "data_filtred = data[data['total_area']<200]\n",
    "\n",
    "#К редким и выбивающимся значениям я бы отнес объекты с жилой площадью больше общей площади, таких объектов 29 штук.\n",
    "#уберем эти объекты из данных.\n",
    "data_filtred = data_filtred[data_filtred['living_area']<data_filtred['total_area']]\n",
    "\n",
    "#Высота потолков больше 20 метров. Значения высоты больше 20 метров скорее всего ошибочно записаны.\n",
    "#Для таких объектов уменьшим высоту в 10 раз.\n",
    "for height in data_filtred['ceiling_height']:\n",
    "    if height >= 20:\n",
    "        data_filtred['ceiling_height'] = data_filtred['ceiling_height'].replace({height: height/10})\n",
    "       \n",
    "    "
   ]
  },
  {
   "cell_type": "markdown",
   "metadata": {},
   "source": [
    "**На мой взгляд редкими и выбивающимися значениями в ДФ являютсяя:**\n",
    "- Большие площади (общие, жилые, площади кухни), мы отбросили объекты общей площадью свыше 200м2, потеряв при этом лишь 1% данных.\n",
    "- Объекты с жилой площадью больше общей площади, тут скорее всего ошибка при вводе данных, мы от них избавились ввиду малого количества.\n",
    "- Объекты с высотой потолков больше 20 метров. Значения с высотой больше 20 мы заменили значениями: высота/10, скорее всего это ошибка при вводе данных."
   ]
  },
  {
   "cell_type": "markdown",
   "metadata": {},
   "source": [
    "### Посчитайте и добавьте в таблицу новые столбцы"
   ]
  },
  {
   "cell_type": "markdown",
   "metadata": {},
   "source": [
    "#### Добавим в таблицу:\n",
    "- цена одного квадратного метра;\n",
    "- день недели публикации объявления (0 — понедельник, 1 — вторник и так далее);\n",
    "- месяц публикации объявления;\n",
    "- год публикации объявления;\n",
    "- тип этажа квартиры (значения — «первый», «последний», «другой»);\n",
    "- расстояние до центра города в километрах."
   ]
  },
  {
   "cell_type": "code",
   "execution_count": 16,
   "metadata": {},
   "outputs": [],
   "source": [
    "#Добавим в таблицу цену 1м2 и переведем в целочисленные значения, для удобства просмотра\n",
    "data_filtred['square_meter_price'] = data_filtred['last_price']/data_filtred['total_area']\n",
    "data_filtred['square_meter_price'] = data_filtred['square_meter_price'].astype(int)\n",
    "\n",
    "#Добавим день недели публикации\n",
    "data_filtred['weekday_exposition'] = data_filtred['first_day_exposition'].dt.weekday\n",
    "\n",
    "#Добавим месяц публикации\n",
    "data_filtred['month_exposition'] = data_filtred['first_day_exposition'].dt.month\n",
    "\n",
    "#Добавим год публикации\n",
    "data_filtred['year_exposition'] = data_filtred['first_day_exposition'].dt.year\n",
    "\n",
    "#Добавим тип этажа квартиры. Создадим функцию floor_type.\n",
    "def floor_type(row):\n",
    "    floors_total = row['floors_total']\n",
    "    floor = row['floor']\n",
    "    if floor == 1:\n",
    "        return 'первый'\n",
    "    elif floor == floors_total:\n",
    "        return 'последний'\n",
    "    elif 1 < floor < floors_total:\n",
    "        return 'другой'\n",
    "\n",
    "data_filtred['floor_type'] = data_filtred.apply(floor_type, axis = 1)\n",
    "\n",
    "#Добавим расстояние до центра города в километрах и округлим до целых значений методом round(). Поменять тип на 'int' мы не \n",
    "#можем из-за наличия пропусков\n",
    "\n",
    "data_filtred['cityCenters_nearest_km'] = data_filtred['cityCenters_nearest'] / 1000\n",
    "data_filtred['cityCenters_nearest_km'] = data_filtred['cityCenters_nearest_km'].round()\n"
   ]
  },
  {
   "cell_type": "markdown",
   "metadata": {},
   "source": [
    "### Проведите исследовательский анализ данных"
   ]
  },
  {
   "cell_type": "markdown",
   "metadata": {},
   "source": [
    "#### Изучим параметры объектов:"
   ]
  },
  {
   "cell_type": "code",
   "execution_count": 17,
   "metadata": {},
   "outputs": [
    {
     "data": {
      "image/png": "[encoded data removed]",
      "text/plain": [
       "<Figure size 720x504 with 1 Axes>"
      ]
     },
     "metadata": {
      "needs_background": "light"
     },
     "output_type": "display_data"
    }
   ],
   "source": [
    "#Построим гистограмму общей площади\n",
    "data_filtred.plot(kind='hist', y='total_area', figsize=(10,7), range=(0,200), grid=True, bins=10)\n",
    "plt.title('общая площадь')\n",
    "plt.show()"
   ]
  },
  {
   "cell_type": "code",
   "execution_count": 18,
   "metadata": {},
   "outputs": [
    {
     "data": {
      "image/png": "[encoded data removed]",
      "text/plain": [
       "<Figure size 720x504 with 1 Axes>"
      ]
     },
     "metadata": {
      "needs_background": "light"
     },
     "output_type": "display_data"
    }
   ],
   "source": [
    "#Построим гистограмму жилой площади\n",
    "data_filtred.plot(kind='hist', y='living_area', figsize=(10,7), range=(0,130), grid=True, bins=10)\n",
    "plt.title('жилая площадь')\n",
    "plt.show()"
   ]
  },
  {
   "cell_type": "code",
   "execution_count": 19,
   "metadata": {},
   "outputs": [
    {
     "data": {
      "image/png": "[encoded data removed]",
      "text/plain": [
       "<Figure size 720x504 with 1 Axes>"
      ]
     },
     "metadata": {
      "needs_background": "light"
     },
     "output_type": "display_data"
    }
   ],
   "source": [
    "#Построим гистограмму площади кухни\n",
    "data_filtred.plot(kind='hist', y='kitchen_area', figsize=(10,7), range=(0,60), grid=True, bins=10)\n",
    "plt.title('площадь кухни')\n",
    "plt.show()"
   ]
  },
  {
   "cell_type": "code",
   "execution_count": 20,
   "metadata": {},
   "outputs": [
    {
     "data": {
      "image/png": "[encoded data removed]",
      "text/plain": [
       "<Figure size 720x504 with 1 Axes>"
      ]
     },
     "metadata": {
      "needs_background": "light"
     },
     "output_type": "display_data"
    }
   ],
   "source": [
    "#Построим гистограмму цены объекта\n",
    "data_filtred.plot(kind='hist', y='last_price', figsize=(10,7), range=(0,20000000), grid=True, bins=50)\n",
    "plt.title('цена объекта')\n",
    "plt.show()"
   ]
  },
  {
   "cell_type": "code",
   "execution_count": 21,
   "metadata": {},
   "outputs": [
    {
     "data": {
      "image/png": "[encoded data removed]",
      "text/plain": [
       "<Figure size 720x504 with 1 Axes>"
      ]
     },
     "metadata": {
      "needs_background": "light"
     },
     "output_type": "display_data"
    }
   ],
   "source": [
    "#Построим гистограмму количества комнат\n",
    "data_filtred.plot(kind='hist', y='rooms', figsize=(10,7), range=(0,10), grid=True, bins=10)\n",
    "plt.title('количество комнат')\n",
    "plt.show()"
   ]
  },
  {
   "cell_type": "code",
   "execution_count": 22,
   "metadata": {},
   "outputs": [
    {
     "data": {
      "image/png": "[encoded data removed]",
      "text/plain": [
       "<Figure size 720x504 with 1 Axes>"
      ]
     },
     "metadata": {
      "needs_background": "light"
     },
     "output_type": "display_data"
    }
   ],
   "source": [
    "#Построим гистограмму высоты потолков\n",
    "data_filtred.plot(kind='hist', y='ceiling_height', figsize=(10,7), range=(2,5), grid=True, bins=25)\n",
    "plt.title('высота потолков')\n",
    "plt.show()"
   ]
  },
  {
   "cell_type": "code",
   "execution_count": 23,
   "metadata": {},
   "outputs": [
    {
     "data": {
      "image/png": "[encoded data removed]",
      "text/plain": [
       "<Figure size 720x504 with 1 Axes>"
      ]
     },
     "metadata": {
      "needs_background": "light"
     },
     "output_type": "display_data"
    }
   ],
   "source": [
    "#Построим гистограмму этажа квартиры\n",
    "data_filtred.plot(kind='hist', y='floor', figsize=(10,7), range=(0,55), grid=True, bins=25)\n",
    "plt.title('этаж')\n",
    "plt.show()"
   ]
  },
  {
   "cell_type": "code",
   "execution_count": 24,
   "metadata": {},
   "outputs": [
    {
     "data": {
      "image/png": "[encoded data removed]",
      "text/plain": [
       "<Figure size 720x504 with 1 Axes>"
      ]
     },
     "metadata": {
      "needs_background": "light"
     },
     "output_type": "display_data"
    }
   ],
   "source": [
    "#Построим гистограмму типа этажа квартиры\n",
    "data_filtred['floor_type'].value_counts().plot(kind='bar', figsize=(10,7))\n",
    "plt.title('тип этажа')\n",
    "plt.show()"
   ]
  },
  {
   "cell_type": "code",
   "execution_count": 25,
   "metadata": {},
   "outputs": [
    {
     "data": {
      "image/png": "[encoded data removed]",
      "text/plain": [
       "<Figure size 720x504 with 1 Axes>"
      ]
     },
     "metadata": {
      "needs_background": "light"
     },
     "output_type": "display_data"
    }
   ],
   "source": [
    "#Построим гистограмму количества этажей в доме\n",
    "data_filtred.plot(kind='hist', y='floors_total', figsize=(10,7), range=(0,40), grid=True, bins=15)\n",
    "plt.title('количество этажей в доме')\n",
    "plt.show()"
   ]
  },
  {
   "cell_type": "code",
   "execution_count": 26,
   "metadata": {},
   "outputs": [
    {
     "data": {
      "image/png": "[encoded data removed]",
      "text/plain": [
       "<Figure size 720x504 with 1 Axes>"
      ]
     },
     "metadata": {
      "needs_background": "light"
     },
     "output_type": "display_data"
    }
   ],
   "source": [
    "#Построим гистограмму расстояния до центра города в метрах\n",
    "data_filtred.plot(kind='hist', y='cityCenters_nearest', figsize=(10,7), range=(0,60000), grid=True, bins=25)\n",
    "plt.title('удаленность от центра города')\n",
    "plt.show()"
   ]
  },
  {
   "cell_type": "code",
   "execution_count": 27,
   "metadata": {},
   "outputs": [
    {
     "data": {
      "image/png": "[encoded data removed]",
      "text/plain": [
       "<Figure size 720x504 with 1 Axes>"
      ]
     },
     "metadata": {
      "needs_background": "light"
     },
     "output_type": "display_data"
    }
   ],
   "source": [
    "#Построим гистограмму расстояния до ближайшего аэропорта в метрах\n",
    "data_filtred.plot(kind='hist', y='airports_nearest', figsize=(10,7), range=(0,60000), grid=True, bins=20)\n",
    "plt.title('удаленность от аэропорта')\n",
    "plt.show()"
   ]
  },
  {
   "cell_type": "code",
   "execution_count": 28,
   "metadata": {},
   "outputs": [
    {
     "data": {
      "image/png": "[encoded data removed]",
      "text/plain": [
       "<Figure size 720x504 with 1 Axes>"
      ]
     },
     "metadata": {
      "needs_background": "light"
     },
     "output_type": "display_data"
    }
   ],
   "source": [
    "#Построим гистограмму расстояния до ближайшего парка в метрах\n",
    "data_filtred.plot(kind='hist', y='parks_nearest', figsize=(10,7), range=(0,3000), grid=True, bins=20)\n",
    "plt.title('удаленность от парков')\n",
    "plt.show()"
   ]
  },
  {
   "cell_type": "code",
   "execution_count": 29,
   "metadata": {},
   "outputs": [
    {
     "data": {
      "image/png": "[encoded data removed]",
      "text/plain": [
       "<Figure size 720x504 with 1 Axes>"
      ]
     },
     "metadata": {
      "needs_background": "light"
     },
     "output_type": "display_data"
    }
   ],
   "source": [
    "#Построим гистограмму дня публикации\n",
    "data_filtred.plot(kind='hist', y='weekday_exposition', figsize=(10,7), range=(0,6), grid=True, bins=15)\n",
    "plt.title('день публикации')\n",
    "plt.show()"
   ]
  },
  {
   "cell_type": "code",
   "execution_count": 30,
   "metadata": {},
   "outputs": [
    {
     "data": {
      "image/png": "[encoded data removed]",
      "text/plain": [
       "<Figure size 720x504 with 1 Axes>"
      ]
     },
     "metadata": {
      "needs_background": "light"
     },
     "output_type": "display_data"
    }
   ],
   "source": [
    "#Построим гистограмму месяца публикации\n",
    "data_filtred.plot(kind='hist', y='month_exposition', figsize=(10,7), range=(0,12), grid=True, bins=25)\n",
    "plt.title('месяц публикации')\n",
    "plt.show()"
   ]
  },
  {
   "cell_type": "markdown",
   "metadata": {},
   "source": [
    "**Наблюдения по построенным гистограммам:**\n",
    "- общая площадь у большинства продающихся объектов колеблется от ~20м2 до ~80м2. Большее количество объектов с площадью около 50м2.\n",
    "- жилая площадь в большинстве случаев в пределах от ~17м2 до ~ 40м2, чуть меньше объектов с жилой площадью 40-60м2.\n",
    "- площадь кухонь находится в интервале от ~6м2 до ~12м2\n",
    "- цена на момент снятия с продажи с пиком около 4.5 млн., большая часть объектов продавались за 2.7 - 6.5 млн.\n",
    "- количество комнат в интервале 1-3 комнаты\n",
    "- высота потолков от 2.5м до 2.7\n",
    "- этажи продаваемых объектов в большинстве меньше 10, тут логично предположить что продаются чаще квартиры в домах старой постройки, для которых типичные значения 5 и 9 этажей.\n",
    "- большая часть объявлений с этажем отличным от первого и последнего.\n",
    "- этажность домов у продаваемых объектов подтверждает наше предыдущее заключение, пики гистограммы в области 5 и 9 этажей.\n",
    "- удаленность от центра в среднем от 10 до 17 км.\n",
    "- удаленность от аэропорта от 10км. и плавно спадающая к 50 км.\n",
    "- удаленность от парков около 500м.\n",
    "- день недели для размещения обьявления чаще будний, в выходные активность в 2 раза ниже.\n",
    "- размещают объявленияя чаще в весенне - осенний период, со спадами в декабре-январе (скорее всего связано с подготовкой к празднованию нового года и отъездом на новогодние праздники) и в мае-августе (в периоды летних отпусков).\n"
   ]
  },
  {
   "cell_type": "markdown",
   "metadata": {},
   "source": [
    "#### Изучим как быстро продавались квартиры:"
   ]
  },
  {
   "cell_type": "code",
   "execution_count": 31,
   "metadata": {},
   "outputs": [
    {
     "data": {
      "text/plain": [
       "count    20309.000000\n",
       "mean       179.833079\n",
       "std        218.407145\n",
       "min          1.000000\n",
       "25%         45.000000\n",
       "50%         95.000000\n",
       "75%        230.000000\n",
       "max       1580.000000\n",
       "Name: days_exposition, dtype: float64"
      ]
     },
     "metadata": {},
     "output_type": "display_data"
    },
    {
     "data": {
      "image/png": "[encoded data removed]",
      "text/plain": [
       "<Figure size 720x576 with 1 Axes>"
      ]
     },
     "metadata": {
      "needs_background": "light"
     },
     "output_type": "display_data"
    },
    {
     "data": {
      "image/png": "[encoded data removed]",
      "text/plain": [
       "<Figure size 432x288 with 1 Axes>"
      ]
     },
     "metadata": {
      "needs_background": "light"
     },
     "output_type": "display_data"
    }
   ],
   "source": [
    "#Выведем характерные значения\n",
    "display(data_filtred['days_exposition'].describe())\n",
    "#Построим гистограмму\n",
    "data_filtred.plot(kind='hist', y='days_exposition', range=(0,1400), grid=True, bins=25, figsize=(10,8))\n",
    "plt.show()\n",
    "#Построим диаграмму размаха\n",
    "data_filtred.boxplot('days_exposition')\n",
    "plt.show()"
   ]
  },
  {
   "cell_type": "markdown",
   "metadata": {},
   "source": [
    "**Выводы по полученным значениям:**\n",
    "- медиана 95 дней, среднее арифметическое 179 дней. Отличаются почти в 2 раза. Это можно объяснить аномально долгими продажами.\n",
    "- самая быстрая продажа - 1 день, самая долгая 1580 дней.\n",
    "- большая часть квартир продается в течении 6 месяцев.\n",
    "- быстрой можно считать продажу в течении 30 дней.\n",
    "- аномально долгая продажа - более 500 дней."
   ]
  },
  {
   "cell_type": "markdown",
   "metadata": {},
   "source": [
    "#### Изучим какие факторы больше влияют на цену."
   ]
  },
  {
   "cell_type": "code",
   "execution_count": 32,
   "metadata": {},
   "outputs": [
    {
     "data": {
      "image/png": "[encoded data removed]",
      "text/plain": [
       "<Figure size 432x288 with 1 Axes>"
      ]
     },
     "metadata": {
      "needs_background": "light"
     },
     "output_type": "display_data"
    },
    {
     "name": "stdout",
     "output_type": "stream",
     "text": [
      "0.6587605100409731\n"
     ]
    },
    {
     "data": {
      "image/png": "[encoded data removed]",
      "text/plain": [
       "<Figure size 432x288 with 1 Axes>"
      ]
     },
     "metadata": {
      "needs_background": "light"
     },
     "output_type": "display_data"
    },
    {
     "name": "stdout",
     "output_type": "stream",
     "text": [
      "0.5292767463611272\n"
     ]
    },
    {
     "data": {
      "image/png": "[encoded data removed]",
      "text/plain": [
       "<Figure size 432x288 with 1 Axes>"
      ]
     },
     "metadata": {
      "needs_background": "light"
     },
     "output_type": "display_data"
    },
    {
     "name": "stdout",
     "output_type": "stream",
     "text": [
      "0.5187372020343044\n"
     ]
    },
    {
     "data": {
      "image/png": "[encoded data removed]",
      "text/plain": [
       "<Figure size 432x288 with 1 Axes>"
      ]
     },
     "metadata": {
      "needs_background": "light"
     },
     "output_type": "display_data"
    },
    {
     "name": "stdout",
     "output_type": "stream",
     "text": [
      "0.3805302721159458\n"
     ]
    },
    {
     "data": {
      "image/png": "[encoded data removed]",
      "text/plain": [
       "<Figure size 432x288 with 1 Axes>"
      ]
     },
     "metadata": {
      "needs_background": "light"
     },
     "output_type": "display_data"
    },
    {
     "name": "stdout",
     "output_type": "stream",
     "text": [
      "0.043299102625717095\n"
     ]
    },
    {
     "data": {
      "image/png": "[encoded data removed]",
      "text/plain": [
       "<Figure size 432x288 with 1 Axes>"
      ]
     },
     "metadata": {
      "needs_background": "light"
     },
     "output_type": "display_data"
    },
    {
     "name": "stdout",
     "output_type": "stream",
     "text": [
      "-0.013683092168088174\n"
     ]
    },
    {
     "data": {
      "image/png": "[encoded data removed]",
      "text/plain": [
       "<Figure size 432x288 with 1 Axes>"
      ]
     },
     "metadata": {
      "needs_background": "light"
     },
     "output_type": "display_data"
    },
    {
     "name": "stdout",
     "output_type": "stream",
     "text": [
      "0.002348248173459733\n"
     ]
    },
    {
     "data": {
      "image/png": "[encoded data removed]",
      "text/plain": [
       "<Figure size 432x288 with 1 Axes>"
      ]
     },
     "metadata": {
      "needs_background": "light"
     },
     "output_type": "display_data"
    },
    {
     "name": "stdout",
     "output_type": "stream",
     "text": [
      "-0.03641173580253357\n"
     ]
    }
   ],
   "source": [
    "#Построим диаграмму рассеяния для зависимости цены от общей площади\n",
    "data_filtred.plot(x='last_price', y='total_area', kind = 'scatter', grid=True)\n",
    "plt.show()\n",
    "#Посчитаем коэффициент корреляции\n",
    "print(data_filtred['last_price'].corr(data_filtred['total_area']))\n",
    "\n",
    "#Построим диаграмму рассеяния для зависимости цены от жилой площади\n",
    "data_filtred.plot(x='last_price', y='living_area', kind = 'scatter', grid=True)\n",
    "plt.show()\n",
    "#Посчитаем коэффициент корреляции\n",
    "print(data_filtred['last_price'].corr(data_filtred['living_area']))\n",
    "\n",
    "#Построим диаграмму рассеяния для зависимости цены от площади кухни\n",
    "data_filtred.plot(x='last_price', y='kitchen_area', kind = 'scatter', grid=True)\n",
    "plt.show()\n",
    "#Посчитаем коэффициент корреляции\n",
    "print(data_filtred['last_price'].corr(data_filtred['kitchen_area']))\n",
    "\n",
    "#Построим диаграмму рассеяния для зависимости цены от количества комнат\n",
    "data_filtred.plot(x='last_price', y='rooms', kind = 'scatter', grid=True)\n",
    "plt.show()\n",
    "#Посчитаем коэффициент корреляции\n",
    "print(data_filtred['last_price'].corr(data_filtred['rooms']))\n",
    "\n",
    "#Построим диаграмму рассеяния для зависимости цены от этажа \n",
    "#зависимость от типа этажа мы построить не можем, это не колличественное значение\n",
    "data_filtred.plot(x='last_price', y='floor', kind = 'scatter', grid=True)\n",
    "plt.show()\n",
    "#Посчитаем коэффициент корреляции\n",
    "print(data_filtred['last_price'].corr(data_filtred['floor']))\n",
    "\n",
    "#Построим диаграмму рассеяния для зависимости цены от дня недели размещения\n",
    "data_filtred.plot(x='last_price', y='weekday_exposition', kind = 'scatter', grid=True)\n",
    "plt.show()\n",
    "#Посчитаем коэффициент корреляции\n",
    "print(data_filtred['last_price'].corr(data_filtred['weekday_exposition']))\n",
    "\n",
    "#Построим диаграмму рассеяния для зависимости цены от месяца размещения\n",
    "data_filtred.plot(x='last_price', y='month_exposition', kind = 'scatter', grid=True)\n",
    "plt.show()\n",
    "#Посчитаем коэффициент корреляции\n",
    "print(data_filtred['last_price'].corr(data_filtred['month_exposition']))\n",
    "\n",
    "#Построим диаграмму рассеяния для зависимости цены от года размещения\n",
    "data_filtred.plot(x='last_price', y='year_exposition', kind = 'scatter', grid=True)\n",
    "plt.show()\n",
    "#Посчитаем коэффициент корреляции\n",
    "print(data_filtred['last_price'].corr(data_filtred['year_exposition']))"
   ]
  },
  {
   "cell_type": "markdown",
   "metadata": {},
   "source": [
    "**Выводы по полученным значениям:**\n",
    "- самая высокая, хотя и не ярко выраженная - зависимость цены от общей площади квартиры.\n",
    "- немного меньшая зависимость цены от жилой площади и площади кухни.\n",
    "- зависимость цены от количества комнат практически не прослеживается, сначала цена растет и достигает пика для квартир с 3-мя комнатами, но потом начинает падать, для объектов с большим количеством комнат.\n",
    "- зависимость цены от этажа, дня, месяца и года размещения отсутствует."
   ]
  },
  {
   "cell_type": "markdown",
   "metadata": {},
   "source": [
    "#### Посчитаем среднюю цену одного квадратного метра в 10 населённых пунктах с наибольшим числом объявлений."
   ]
  },
  {
   "cell_type": "code",
   "execution_count": 33,
   "metadata": {},
   "outputs": [
    {
     "data": {
      "text/html": [
       "<div>\n",
       "<style scoped>\n",
       "    .dataframe tbody tr th:only-of-type {\n",
       "        vertical-align: middle;\n",
       "    }\n",
       "\n",
       "    .dataframe tbody tr th {\n",
       "        vertical-align: top;\n",
       "    }\n",
       "\n",
       "    .dataframe thead th {\n",
       "        text-align: right;\n",
       "    }\n",
       "</style>\n",
       "<table border=\"1\" class=\"dataframe\">\n",
       "  <thead>\n",
       "    <tr style=\"text-align: right;\">\n",
       "      <th></th>\n",
       "      <th>count</th>\n",
       "      <th>mean</th>\n",
       "    </tr>\n",
       "    <tr>\n",
       "      <th>locality_name</th>\n",
       "      <th></th>\n",
       "      <th></th>\n",
       "    </tr>\n",
       "  </thead>\n",
       "  <tbody>\n",
       "    <tr>\n",
       "      <th>Санкт-Петербург</th>\n",
       "      <td>15486</td>\n",
       "      <td>113560.087498</td>\n",
       "    </tr>\n",
       "    <tr>\n",
       "      <th>Пушкин</th>\n",
       "      <td>364</td>\n",
       "      <td>103122.096154</td>\n",
       "    </tr>\n",
       "    <tr>\n",
       "      <th>Кудрово</th>\n",
       "      <td>472</td>\n",
       "      <td>95324.476695</td>\n",
       "    </tr>\n",
       "    <tr>\n",
       "      <th>Парголово</th>\n",
       "      <td>326</td>\n",
       "      <td>90331.840491</td>\n",
       "    </tr>\n",
       "    <tr>\n",
       "      <th>Мурино</th>\n",
       "      <td>589</td>\n",
       "      <td>86073.621392</td>\n",
       "    </tr>\n",
       "    <tr>\n",
       "      <th>Шушары</th>\n",
       "      <td>440</td>\n",
       "      <td>78676.904545</td>\n",
       "    </tr>\n",
       "    <tr>\n",
       "      <th>Колпино</th>\n",
       "      <td>337</td>\n",
       "      <td>75332.866469</td>\n",
       "    </tr>\n",
       "    <tr>\n",
       "      <th>Гатчина</th>\n",
       "      <td>307</td>\n",
       "      <td>68745.693811</td>\n",
       "    </tr>\n",
       "    <tr>\n",
       "      <th>Всеволожск</th>\n",
       "      <td>396</td>\n",
       "      <td>68723.388889</td>\n",
       "    </tr>\n",
       "    <tr>\n",
       "      <th>Выборг</th>\n",
       "      <td>237</td>\n",
       "      <td>58141.489451</td>\n",
       "    </tr>\n",
       "  </tbody>\n",
       "</table>\n",
       "</div>"
      ],
      "text/plain": [
       "                 count           mean\n",
       "locality_name                        \n",
       "Санкт-Петербург  15486  113560.087498\n",
       "Пушкин             364  103122.096154\n",
       "Кудрово            472   95324.476695\n",
       "Парголово          326   90331.840491\n",
       "Мурино             589   86073.621392\n",
       "Шушары             440   78676.904545\n",
       "Колпино            337   75332.866469\n",
       "Гатчина            307   68745.693811\n",
       "Всеволожск         396   68723.388889\n",
       "Выборг             237   58141.489451"
      ]
     },
     "metadata": {},
     "output_type": "display_data"
    },
    {
     "data": {
      "image/png": "[encoded data removed]",
      "text/plain": [
       "<Figure size 720x504 with 1 Axes>"
      ]
     },
     "metadata": {
      "needs_background": "light"
     },
     "output_type": "display_data"
    },
    {
     "data": {
      "image/png": "[encoded data removed]",
      "text/plain": [
       "<Figure size 720x504 with 1 Axes>"
      ]
     },
     "metadata": {
      "needs_background": "light"
     },
     "output_type": "display_data"
    }
   ],
   "source": [
    "#Выведем 10 населенных пунктов по количеству объявлений\n",
    "#Сделаем сводную таблицу с названиями населенных пунктов, ценой квадратного метра и посчитаем количество и сумму\n",
    "data_locality = data_filtred.pivot_table(index='locality_name', values='square_meter_price', aggfunc=['count', 'mean'])\n",
    "data_locality.columns = ['count', 'mean']\n",
    "#Отсортируем таблицу по убыванию количества объявлений и оставим только первые 10 \n",
    "data_locality = data_locality.sort_values('count', ascending=False).head(10)\n",
    "data_locality = data_locality.sort_values('mean', ascending=False)\n",
    "\n",
    "display(data_locality)\n",
    "data_locality['count'].plot(figsize=(10,7), legend=True)\n",
    "plt.title('количество объявлений')\n",
    "plt.show()\n",
    "data_locality['mean'].plot(figsize=(10,7), legend=True)\n",
    "plt.title('средняя цена квадратного метра')\n",
    "plt.show()"
   ]
  },
  {
   "cell_type": "markdown",
   "metadata": {},
   "source": [
    "**Выводы по полученным значениям:**\n",
    "- самая высокая стоимость квадратного метра в Санкт-Петербурге.\n",
    "- самая низкая стоимость квадратного метра в Выборге."
   ]
  },
  {
   "cell_type": "markdown",
   "metadata": {},
   "source": [
    "#### Вычислим среднюю цену каждого километра в Санкт-Петербурге."
   ]
  },
  {
   "cell_type": "code",
   "execution_count": 34,
   "metadata": {},
   "outputs": [
    {
     "data": {
      "text/html": [
       "<div>\n",
       "<style scoped>\n",
       "    .dataframe tbody tr th:only-of-type {\n",
       "        vertical-align: middle;\n",
       "    }\n",
       "\n",
       "    .dataframe tbody tr th {\n",
       "        vertical-align: top;\n",
       "    }\n",
       "\n",
       "    .dataframe thead th {\n",
       "        text-align: right;\n",
       "    }\n",
       "</style>\n",
       "<table border=\"1\" class=\"dataframe\">\n",
       "  <thead>\n",
       "    <tr style=\"text-align: right;\">\n",
       "      <th></th>\n",
       "      <th>стоимость м2</th>\n",
       "    </tr>\n",
       "    <tr>\n",
       "      <th>cityCenters_nearest_km</th>\n",
       "      <th></th>\n",
       "    </tr>\n",
       "  </thead>\n",
       "  <tbody>\n",
       "    <tr>\n",
       "      <th>0.0</th>\n",
       "      <td>223445.680000</td>\n",
       "    </tr>\n",
       "    <tr>\n",
       "      <th>1.0</th>\n",
       "      <td>165477.744318</td>\n",
       "    </tr>\n",
       "    <tr>\n",
       "      <th>2.0</th>\n",
       "      <td>149946.409091</td>\n",
       "    </tr>\n",
       "    <tr>\n",
       "      <th>3.0</th>\n",
       "      <td>120683.763158</td>\n",
       "    </tr>\n",
       "    <tr>\n",
       "      <th>4.0</th>\n",
       "      <td>127932.549849</td>\n",
       "    </tr>\n",
       "    <tr>\n",
       "      <th>5.0</th>\n",
       "      <td>137168.590542</td>\n",
       "    </tr>\n",
       "    <tr>\n",
       "      <th>6.0</th>\n",
       "      <td>147682.086505</td>\n",
       "    </tr>\n",
       "    <tr>\n",
       "      <th>7.0</th>\n",
       "      <td>154758.548780</td>\n",
       "    </tr>\n",
       "    <tr>\n",
       "      <th>8.0</th>\n",
       "      <td>124876.249153</td>\n",
       "    </tr>\n",
       "    <tr>\n",
       "      <th>9.0</th>\n",
       "      <td>113071.179054</td>\n",
       "    </tr>\n",
       "    <tr>\n",
       "      <th>10.0</th>\n",
       "      <td>112904.389592</td>\n",
       "    </tr>\n",
       "    <tr>\n",
       "      <th>11.0</th>\n",
       "      <td>108633.576300</td>\n",
       "    </tr>\n",
       "    <tr>\n",
       "      <th>12.0</th>\n",
       "      <td>107532.700000</td>\n",
       "    </tr>\n",
       "    <tr>\n",
       "      <th>13.0</th>\n",
       "      <td>108190.088094</td>\n",
       "    </tr>\n",
       "    <tr>\n",
       "      <th>14.0</th>\n",
       "      <td>104259.297255</td>\n",
       "    </tr>\n",
       "    <tr>\n",
       "      <th>15.0</th>\n",
       "      <td>104290.482074</td>\n",
       "    </tr>\n",
       "    <tr>\n",
       "      <th>16.0</th>\n",
       "      <td>100559.374306</td>\n",
       "    </tr>\n",
       "    <tr>\n",
       "      <th>17.0</th>\n",
       "      <td>96556.258248</td>\n",
       "    </tr>\n",
       "    <tr>\n",
       "      <th>18.0</th>\n",
       "      <td>96449.657588</td>\n",
       "    </tr>\n",
       "    <tr>\n",
       "      <th>19.0</th>\n",
       "      <td>98652.305732</td>\n",
       "    </tr>\n",
       "    <tr>\n",
       "      <th>20.0</th>\n",
       "      <td>103044.775510</td>\n",
       "    </tr>\n",
       "    <tr>\n",
       "      <th>21.0</th>\n",
       "      <td>94469.136752</td>\n",
       "    </tr>\n",
       "    <tr>\n",
       "      <th>22.0</th>\n",
       "      <td>91329.965347</td>\n",
       "    </tr>\n",
       "    <tr>\n",
       "      <th>23.0</th>\n",
       "      <td>92063.240964</td>\n",
       "    </tr>\n",
       "    <tr>\n",
       "      <th>24.0</th>\n",
       "      <td>85736.461538</td>\n",
       "    </tr>\n",
       "    <tr>\n",
       "      <th>25.0</th>\n",
       "      <td>91531.038462</td>\n",
       "    </tr>\n",
       "    <tr>\n",
       "      <th>26.0</th>\n",
       "      <td>89285.415094</td>\n",
       "    </tr>\n",
       "    <tr>\n",
       "      <th>27.0</th>\n",
       "      <td>132115.000000</td>\n",
       "    </tr>\n",
       "    <tr>\n",
       "      <th>28.0</th>\n",
       "      <td>81161.571429</td>\n",
       "    </tr>\n",
       "    <tr>\n",
       "      <th>29.0</th>\n",
       "      <td>72952.666667</td>\n",
       "    </tr>\n",
       "  </tbody>\n",
       "</table>\n",
       "</div>"
      ],
      "text/plain": [
       "                         стоимость м2\n",
       "cityCenters_nearest_km               \n",
       "0.0                     223445.680000\n",
       "1.0                     165477.744318\n",
       "2.0                     149946.409091\n",
       "3.0                     120683.763158\n",
       "4.0                     127932.549849\n",
       "5.0                     137168.590542\n",
       "6.0                     147682.086505\n",
       "7.0                     154758.548780\n",
       "8.0                     124876.249153\n",
       "9.0                     113071.179054\n",
       "10.0                    112904.389592\n",
       "11.0                    108633.576300\n",
       "12.0                    107532.700000\n",
       "13.0                    108190.088094\n",
       "14.0                    104259.297255\n",
       "15.0                    104290.482074\n",
       "16.0                    100559.374306\n",
       "17.0                     96556.258248\n",
       "18.0                     96449.657588\n",
       "19.0                     98652.305732\n",
       "20.0                    103044.775510\n",
       "21.0                     94469.136752\n",
       "22.0                     91329.965347\n",
       "23.0                     92063.240964\n",
       "24.0                     85736.461538\n",
       "25.0                     91531.038462\n",
       "26.0                     89285.415094\n",
       "27.0                    132115.000000\n",
       "28.0                     81161.571429\n",
       "29.0                     72952.666667"
      ]
     },
     "metadata": {},
     "output_type": "display_data"
    },
    {
     "data": {
      "image/png": "[encoded data removed]",
      "text/plain": [
       "<Figure size 432x288 with 1 Axes>"
      ]
     },
     "metadata": {
      "needs_background": "light"
     },
     "output_type": "display_data"
    }
   ],
   "source": [
    "#Сделаем срез с квартирами только в Санкт-Петербурге\n",
    "data_sp = data_filtred.query('locality_name == \"Санкт-Петербург\"')\n",
    "#Сделаем сводную таблицу с расстоянием от центра и стоимостью м2\n",
    "data_sp = data_sp.pivot_table(index='cityCenters_nearest_km', values='square_meter_price', aggfunc='mean')\n",
    "data_sp.columns=['стоимость м2']\n",
    "#Построим диаграмму рассеяния для зависимости цены м2 от удаленности от центра\n",
    "data_sp.plot()\n",
    "display(data_sp)"
   ]
  },
  {
   "cell_type": "markdown",
   "metadata": {},
   "source": [
    "**Выводы по полученным значениям:**\n",
    "- Видна прямая зависимоть цены от расстояния до центра, чем дальше от центра, тем ниже стоимсоть.\n",
    "- На графике есть скачки средней стоимости, предполагаю, что возможно, они появились из-за квартир в кварталлах \"Бизнесс класса\", стоимость которых выше, чем в домах расположенных по соседству."
   ]
  },
  {
   "cell_type": "markdown",
   "metadata": {},
   "source": [
    "### Общий вывод"
   ]
  },
  {
   "cell_type": "markdown",
   "metadata": {},
   "source": [
    "**Нами был проанализирован датасет с данными о продаже квартир в Санкт-Петербурге и области.**\n",
    "**Мы проанализировали данные и провели предобработку данных:**\n",
    "- где это возможно избавились от пропусков\n",
    "- преобразованы типы данных\n",
    "- устранены неявные дубликаты в названиях населенных пунктов\n",
    "- устранены редкие и выбивающиеся значения\n",
    "\n",
    "**Добавлены новые столбцы:**\n",
    "- стоимость квадратного метра\n",
    "- день публикации\n",
    "- месяц публикации\n",
    "- год публикации\n",
    "- тип этажа\n",
    "- округленное расстояние до центра в километрах\n",
    "\n",
    "**Произведен исследовательский анализ данных, проанализирорваны следующие данные и по ним построены гистограммы:**\n",
    "- общая площадь;\n",
    "- жилая площадь;\n",
    "- площадь кухни;\n",
    "- цена объекта;\n",
    "- количество комнат;\n",
    "- высота потолков;\n",
    "- этаж квартиры;\n",
    "- тип этажа квартиры;\n",
    "- общее количество этажей в доме;\n",
    "- расстояние до центра города в метрах;\n",
    "- расстояние до ближайшего аэропорта;\n",
    "- расстояние до ближайшего парка;\n",
    "- день и месяц публикации объявления.\n",
    "\n",
    "**Было изучено как быстро продавались квартиры,\n",
    "какие факторы больше всего влияют на стоимость объекта.\n",
    "Выделены 10 населённых пунктов по количеству объявлений, \n",
    "из них выделены пункты с самой высокой и низкой стоимостью квадратного метра,\n",
    "вычислина средняя цена каждого километра в г. Санкт-Петербург**\n",
    "\n",
    "***По результатам исследования выявлено: большее влияние на стоимость квартиры оказывает удаленность от центра и общая площадь квартиры. Чуть меньшее значение оказывают жилая площадь и площадь кухни. Влияние других факторов на стоимость квартиры не прослеживается.***"
   ]
  },
  {
   "cell_type": "code",
   "execution_count": null,
   "metadata": {},
   "outputs": [],
   "source": []
  }
 ],
 "metadata": {
  "ExecuteTimeLog": [
   {
    "duration": 362,
    "start_time": "2023-02-18T16:53:52.438Z"
   },
   {
    "duration": 319,
    "start_time": "2023-02-18T16:53:53.317Z"
   },
   {
    "duration": 6,
    "start_time": "2023-02-18T16:53:58.088Z"
   },
   {
    "duration": 14,
    "start_time": "2023-02-18T16:54:11.468Z"
   },
   {
    "duration": 93,
    "start_time": "2023-02-18T16:55:41.089Z"
   },
   {
    "duration": 19,
    "start_time": "2023-02-18T16:55:43.657Z"
   },
   {
    "duration": 16,
    "start_time": "2023-02-18T16:55:53.790Z"
   },
   {
    "duration": 2520,
    "start_time": "2023-02-18T17:00:04.933Z"
   },
   {
    "duration": 3,
    "start_time": "2023-02-18T17:08:44.738Z"
   },
   {
    "duration": 2,
    "start_time": "2023-02-18T17:08:50.694Z"
   },
   {
    "duration": 10,
    "start_time": "2023-02-18T17:12:29.504Z"
   },
   {
    "duration": 8,
    "start_time": "2023-02-18T17:14:04.150Z"
   },
   {
    "duration": 3,
    "start_time": "2023-02-18T17:21:55.808Z"
   },
   {
    "duration": 99,
    "start_time": "2023-02-18T17:21:56.471Z"
   },
   {
    "duration": 21,
    "start_time": "2023-02-18T17:21:58.204Z"
   },
   {
    "duration": 16,
    "start_time": "2023-02-18T17:22:03.332Z"
   },
   {
    "duration": 3,
    "start_time": "2023-02-18T17:31:34.623Z"
   },
   {
    "duration": 98,
    "start_time": "2023-02-18T17:31:35.503Z"
   },
   {
    "duration": 27,
    "start_time": "2023-02-18T17:31:37.209Z"
   },
   {
    "duration": 23,
    "start_time": "2023-02-18T17:31:39.629Z"
   },
   {
    "duration": 2132,
    "start_time": "2023-02-18T17:31:42.027Z"
   },
   {
    "duration": 15,
    "start_time": "2023-02-18T17:31:58.189Z"
   },
   {
    "duration": 2352,
    "start_time": "2023-02-18T17:33:15.248Z"
   },
   {
    "duration": 4,
    "start_time": "2023-02-18T17:34:01.534Z"
   },
   {
    "duration": 120,
    "start_time": "2023-02-18T17:34:02.369Z"
   },
   {
    "duration": 20,
    "start_time": "2023-02-18T17:34:04.221Z"
   },
   {
    "duration": 21,
    "start_time": "2023-02-18T17:34:06.585Z"
   },
   {
    "duration": 2105,
    "start_time": "2023-02-18T17:34:08.416Z"
   },
   {
    "duration": 2255,
    "start_time": "2023-02-18T17:34:19.554Z"
   },
   {
    "duration": 4,
    "start_time": "2023-02-18T17:36:34.137Z"
   },
   {
    "duration": 107,
    "start_time": "2023-02-18T17:36:34.873Z"
   },
   {
    "duration": 33,
    "start_time": "2023-02-18T17:36:35.389Z"
   },
   {
    "duration": 15,
    "start_time": "2023-02-18T17:36:36.460Z"
   },
   {
    "duration": 2118,
    "start_time": "2023-02-18T17:36:52.313Z"
   },
   {
    "duration": 9,
    "start_time": "2023-02-18T17:42:18.721Z"
   },
   {
    "duration": 5,
    "start_time": "2023-02-18T17:42:37.571Z"
   },
   {
    "duration": 6,
    "start_time": "2023-02-18T17:42:54.429Z"
   },
   {
    "duration": 4,
    "start_time": "2023-02-18T17:43:10.485Z"
   },
   {
    "duration": 6,
    "start_time": "2023-02-18T17:43:38.737Z"
   },
   {
    "duration": 5,
    "start_time": "2023-02-18T17:44:04.235Z"
   },
   {
    "duration": 6,
    "start_time": "2023-02-18T17:44:28.981Z"
   },
   {
    "duration": 8,
    "start_time": "2023-02-18T17:45:02.657Z"
   },
   {
    "duration": 7,
    "start_time": "2023-02-18T17:45:47.178Z"
   },
   {
    "duration": 9,
    "start_time": "2023-02-18T17:45:59.020Z"
   },
   {
    "duration": 5,
    "start_time": "2023-02-18T17:46:35.036Z"
   },
   {
    "duration": 5,
    "start_time": "2023-02-18T17:47:31.255Z"
   },
   {
    "duration": 4,
    "start_time": "2023-02-18T18:01:56.528Z"
   },
   {
    "duration": 5,
    "start_time": "2023-02-18T18:02:12.074Z"
   },
   {
    "duration": 11,
    "start_time": "2023-02-18T18:02:28.662Z"
   },
   {
    "duration": 85,
    "start_time": "2023-02-18T18:14:55.746Z"
   },
   {
    "duration": 19,
    "start_time": "2023-02-18T18:14:57.364Z"
   },
   {
    "duration": 15,
    "start_time": "2023-02-18T18:15:02.282Z"
   },
   {
    "duration": 2113,
    "start_time": "2023-02-18T18:15:11.842Z"
   },
   {
    "duration": 9,
    "start_time": "2023-02-18T18:15:29.926Z"
   },
   {
    "duration": 43,
    "start_time": "2023-02-19T17:00:27.795Z"
   },
   {
    "duration": 823,
    "start_time": "2023-02-19T17:00:38.221Z"
   },
   {
    "duration": 332,
    "start_time": "2023-02-19T17:00:39.046Z"
   },
   {
    "duration": 20,
    "start_time": "2023-02-19T17:00:39.379Z"
   },
   {
    "duration": 13,
    "start_time": "2023-02-19T17:00:39.400Z"
   },
   {
    "duration": 1753,
    "start_time": "2023-02-19T17:00:39.414Z"
   },
   {
    "duration": 9,
    "start_time": "2023-02-19T17:00:41.168Z"
   },
   {
    "duration": 18,
    "start_time": "2023-02-19T17:00:41.178Z"
   },
   {
    "duration": 36,
    "start_time": "2023-02-19T17:11:10.620Z"
   },
   {
    "duration": 44,
    "start_time": "2023-02-19T17:11:33.690Z"
   },
   {
    "duration": 35,
    "start_time": "2023-02-19T17:14:48.410Z"
   },
   {
    "duration": 35,
    "start_time": "2023-02-19T17:15:06.836Z"
   },
   {
    "duration": 7,
    "start_time": "2023-02-19T17:25:56.071Z"
   },
   {
    "duration": 16,
    "start_time": "2023-02-19T17:28:23.147Z"
   },
   {
    "duration": 6,
    "start_time": "2023-02-19T17:30:51.263Z"
   },
   {
    "duration": 7,
    "start_time": "2023-02-19T17:31:25.601Z"
   },
   {
    "duration": 68,
    "start_time": "2023-02-19T17:31:44.301Z"
   },
   {
    "duration": 8,
    "start_time": "2023-02-19T17:31:49.425Z"
   },
   {
    "duration": 5,
    "start_time": "2023-02-19T17:31:58.814Z"
   },
   {
    "duration": 5,
    "start_time": "2023-02-19T17:43:10.065Z"
   },
   {
    "duration": 5,
    "start_time": "2023-02-19T17:43:18.821Z"
   },
   {
    "duration": 5,
    "start_time": "2023-02-19T17:46:26.320Z"
   },
   {
    "duration": 11,
    "start_time": "2023-02-19T17:47:10.146Z"
   },
   {
    "duration": 4,
    "start_time": "2023-02-19T17:48:32.579Z"
   },
   {
    "duration": 11,
    "start_time": "2023-02-19T17:53:48.913Z"
   },
   {
    "duration": 8,
    "start_time": "2023-02-19T17:54:44.843Z"
   },
   {
    "duration": 6,
    "start_time": "2023-02-19T17:55:01.939Z"
   },
   {
    "duration": 29,
    "start_time": "2023-02-19T18:03:06.827Z"
   },
   {
    "duration": 38,
    "start_time": "2023-02-19T18:03:28.075Z"
   },
   {
    "duration": 34,
    "start_time": "2023-02-19T18:06:42.263Z"
   },
   {
    "duration": 33,
    "start_time": "2023-02-19T18:07:20.900Z"
   },
   {
    "duration": 32,
    "start_time": "2023-02-19T18:07:43.719Z"
   },
   {
    "duration": 38,
    "start_time": "2023-02-19T18:07:59.267Z"
   },
   {
    "duration": 30,
    "start_time": "2023-02-19T18:09:47.269Z"
   },
   {
    "duration": 36,
    "start_time": "2023-02-19T18:15:00.374Z"
   },
   {
    "duration": 29,
    "start_time": "2023-02-19T18:15:24.887Z"
   },
   {
    "duration": 55,
    "start_time": "2023-02-19T18:28:39.703Z"
   },
   {
    "duration": 82,
    "start_time": "2023-02-19T18:29:25.349Z"
   },
   {
    "duration": 36,
    "start_time": "2023-02-19T18:33:15.620Z"
   },
   {
    "duration": 48,
    "start_time": "2023-02-19T18:33:34.152Z"
   },
   {
    "duration": 36,
    "start_time": "2023-02-19T18:33:39.430Z"
   },
   {
    "duration": 81,
    "start_time": "2023-02-19T18:34:30.006Z"
   },
   {
    "duration": 53,
    "start_time": "2023-02-19T18:36:44.823Z"
   },
   {
    "duration": 53,
    "start_time": "2023-02-19T18:38:41.553Z"
   },
   {
    "duration": 47,
    "start_time": "2023-02-19T18:52:27.713Z"
   },
   {
    "duration": 49,
    "start_time": "2023-02-19T18:56:40.664Z"
   },
   {
    "duration": 54,
    "start_time": "2023-02-19T18:56:47.410Z"
   },
   {
    "duration": 42,
    "start_time": "2023-02-19T18:56:58.263Z"
   },
   {
    "duration": 46,
    "start_time": "2023-02-19T18:57:49.470Z"
   },
   {
    "duration": 34,
    "start_time": "2023-02-19T18:58:10.167Z"
   },
   {
    "duration": 33,
    "start_time": "2023-02-19T18:58:22.708Z"
   },
   {
    "duration": 32,
    "start_time": "2023-02-19T19:02:06.563Z"
   },
   {
    "duration": 35,
    "start_time": "2023-02-19T19:02:38.224Z"
   },
   {
    "duration": 36,
    "start_time": "2023-02-19T19:03:27.801Z"
   },
   {
    "duration": 38,
    "start_time": "2023-02-19T19:03:55.590Z"
   },
   {
    "duration": 86,
    "start_time": "2023-02-19T19:04:35.588Z"
   },
   {
    "duration": 35,
    "start_time": "2023-02-19T19:09:45.943Z"
   },
   {
    "duration": 33,
    "start_time": "2023-02-19T19:11:00.193Z"
   },
   {
    "duration": 34,
    "start_time": "2023-02-19T19:11:13.690Z"
   },
   {
    "duration": 30,
    "start_time": "2023-02-19T19:11:28.022Z"
   },
   {
    "duration": 29,
    "start_time": "2023-02-19T19:11:46.911Z"
   },
   {
    "duration": 30,
    "start_time": "2023-02-19T19:12:39.111Z"
   },
   {
    "duration": 61,
    "start_time": "2023-02-19T19:13:30.715Z"
   },
   {
    "duration": 64,
    "start_time": "2023-02-19T19:14:37.360Z"
   },
   {
    "duration": 59,
    "start_time": "2023-02-19T19:14:53.130Z"
   },
   {
    "duration": 45,
    "start_time": "2023-02-19T19:15:10.513Z"
   },
   {
    "duration": 50,
    "start_time": "2023-02-19T19:15:32.670Z"
   },
   {
    "duration": 51,
    "start_time": "2023-02-19T19:15:47.420Z"
   },
   {
    "duration": 67,
    "start_time": "2023-02-19T19:16:24.390Z"
   },
   {
    "duration": 7,
    "start_time": "2023-02-19T19:20:56.213Z"
   },
   {
    "duration": 57,
    "start_time": "2023-02-19T19:20:58.613Z"
   },
   {
    "duration": 8,
    "start_time": "2023-02-19T19:21:43.872Z"
   },
   {
    "duration": 49,
    "start_time": "2023-02-19T19:31:43.979Z"
   },
   {
    "duration": 48,
    "start_time": "2023-02-19T19:32:12.118Z"
   },
   {
    "duration": 48,
    "start_time": "2023-02-19T19:32:34.860Z"
   },
   {
    "duration": 43,
    "start_time": "2023-02-19T19:32:49.100Z"
   },
   {
    "duration": 51,
    "start_time": "2023-02-19T19:33:08.888Z"
   },
   {
    "duration": 45,
    "start_time": "2023-02-19T19:33:24.957Z"
   },
   {
    "duration": 40,
    "start_time": "2023-02-19T19:33:34.187Z"
   },
   {
    "duration": 48,
    "start_time": "2023-02-19T19:34:00.788Z"
   },
   {
    "duration": 43,
    "start_time": "2023-02-19T19:34:17.174Z"
   },
   {
    "duration": 8,
    "start_time": "2023-02-19T19:34:25.835Z"
   },
   {
    "duration": 45,
    "start_time": "2023-02-19T19:34:26.958Z"
   },
   {
    "duration": 918,
    "start_time": "2023-02-20T12:55:01.457Z"
   },
   {
    "duration": 717,
    "start_time": "2023-02-20T12:55:02.377Z"
   },
   {
    "duration": 52,
    "start_time": "2023-02-20T12:55:03.096Z"
   },
   {
    "duration": 16,
    "start_time": "2023-02-20T12:55:03.149Z"
   },
   {
    "duration": 2045,
    "start_time": "2023-02-20T12:55:03.167Z"
   },
   {
    "duration": 10,
    "start_time": "2023-02-20T12:55:05.214Z"
   },
   {
    "duration": 73,
    "start_time": "2023-02-20T12:55:05.226Z"
   },
   {
    "duration": 23,
    "start_time": "2023-02-20T12:55:05.301Z"
   },
   {
    "duration": 16,
    "start_time": "2023-02-20T13:04:54.448Z"
   },
   {
    "duration": 6,
    "start_time": "2023-02-20T13:09:10.192Z"
   },
   {
    "duration": 29,
    "start_time": "2023-02-20T13:09:28.218Z"
   },
   {
    "duration": 11,
    "start_time": "2023-02-20T13:11:41.557Z"
   },
   {
    "duration": 18,
    "start_time": "2023-02-20T13:11:46.224Z"
   },
   {
    "duration": 137,
    "start_time": "2023-02-20T13:13:17.513Z"
   },
   {
    "duration": 19,
    "start_time": "2023-02-20T13:18:23.151Z"
   },
   {
    "duration": 25,
    "start_time": "2023-02-20T13:18:26.216Z"
   },
   {
    "duration": 24,
    "start_time": "2023-02-20T13:19:35.820Z"
   },
   {
    "duration": 39,
    "start_time": "2023-02-20T13:20:14.902Z"
   },
   {
    "duration": 8,
    "start_time": "2023-02-20T13:20:20.681Z"
   },
   {
    "duration": 13,
    "start_time": "2023-02-20T13:20:25.138Z"
   },
   {
    "duration": 24,
    "start_time": "2023-02-20T13:20:30.457Z"
   },
   {
    "duration": 14,
    "start_time": "2023-02-20T13:20:38.291Z"
   },
   {
    "duration": 18,
    "start_time": "2023-02-20T13:20:53.673Z"
   },
   {
    "duration": 103,
    "start_time": "2023-02-20T13:21:21.559Z"
   },
   {
    "duration": 46,
    "start_time": "2023-02-20T13:21:36.970Z"
   },
   {
    "duration": 8,
    "start_time": "2023-02-20T13:21:39.497Z"
   },
   {
    "duration": 14,
    "start_time": "2023-02-20T13:21:45.273Z"
   },
   {
    "duration": 45,
    "start_time": "2023-02-20T13:21:55.320Z"
   },
   {
    "duration": 10,
    "start_time": "2023-02-20T13:21:59.295Z"
   },
   {
    "duration": 9,
    "start_time": "2023-02-20T13:22:11.423Z"
   },
   {
    "duration": 635,
    "start_time": "2023-02-20T13:23:06.570Z"
   },
   {
    "duration": 102,
    "start_time": "2023-02-20T13:23:07.206Z"
   },
   {
    "duration": 46,
    "start_time": "2023-02-20T13:23:07.310Z"
   },
   {
    "duration": 16,
    "start_time": "2023-02-20T13:23:07.359Z"
   },
   {
    "duration": 2191,
    "start_time": "2023-02-20T13:23:07.377Z"
   },
   {
    "duration": 11,
    "start_time": "2023-02-20T13:23:09.570Z"
   },
   {
    "duration": 77,
    "start_time": "2023-02-20T13:23:09.583Z"
   },
   {
    "duration": 10,
    "start_time": "2023-02-20T13:23:09.662Z"
   },
   {
    "duration": 17,
    "start_time": "2023-02-20T13:23:09.674Z"
   },
   {
    "duration": 41,
    "start_time": "2023-02-20T13:23:09.694Z"
   },
   {
    "duration": 14,
    "start_time": "2023-02-20T13:23:09.737Z"
   },
   {
    "duration": 19,
    "start_time": "2023-02-20T13:23:22.222Z"
   },
   {
    "duration": 16,
    "start_time": "2023-02-20T13:25:43.360Z"
   },
   {
    "duration": 15,
    "start_time": "2023-02-20T13:25:46.436Z"
   },
   {
    "duration": 76,
    "start_time": "2023-02-20T13:31:20.669Z"
   },
   {
    "duration": 86,
    "start_time": "2023-02-20T13:31:55.334Z"
   },
   {
    "duration": 9,
    "start_time": "2023-02-20T13:31:58.506Z"
   },
   {
    "duration": 16,
    "start_time": "2023-02-20T13:32:08.168Z"
   },
   {
    "duration": 14,
    "start_time": "2023-02-20T13:32:11.331Z"
   },
   {
    "duration": 14,
    "start_time": "2023-02-20T13:32:13.951Z"
   },
   {
    "duration": 758,
    "start_time": "2023-02-20T13:32:24.501Z"
   },
   {
    "duration": 106,
    "start_time": "2023-02-20T13:32:25.261Z"
   },
   {
    "duration": 51,
    "start_time": "2023-02-20T13:32:25.371Z"
   },
   {
    "duration": 16,
    "start_time": "2023-02-20T13:32:25.425Z"
   },
   {
    "duration": 2154,
    "start_time": "2023-02-20T13:32:25.442Z"
   },
   {
    "duration": 10,
    "start_time": "2023-02-20T13:32:27.598Z"
   },
   {
    "duration": 79,
    "start_time": "2023-02-20T13:32:27.610Z"
   },
   {
    "duration": 11,
    "start_time": "2023-02-20T13:32:27.690Z"
   },
   {
    "duration": 28,
    "start_time": "2023-02-20T13:32:27.703Z"
   },
   {
    "duration": 14,
    "start_time": "2023-02-20T13:32:27.733Z"
   },
   {
    "duration": 16,
    "start_time": "2023-02-20T13:32:27.749Z"
   },
   {
    "duration": 17,
    "start_time": "2023-02-20T13:33:58.782Z"
   },
   {
    "duration": 15,
    "start_time": "2023-02-20T13:33:59.817Z"
   },
   {
    "duration": 15,
    "start_time": "2023-02-20T13:34:12.673Z"
   },
   {
    "duration": 5,
    "start_time": "2023-02-20T14:00:16.802Z"
   },
   {
    "duration": 7,
    "start_time": "2023-02-20T14:00:29.413Z"
   },
   {
    "duration": 7,
    "start_time": "2023-02-20T14:00:59.154Z"
   },
   {
    "duration": 5,
    "start_time": "2023-02-20T14:01:33.547Z"
   },
   {
    "duration": 6,
    "start_time": "2023-02-20T14:02:06.366Z"
   },
   {
    "duration": 4,
    "start_time": "2023-02-20T14:02:26.534Z"
   },
   {
    "duration": 7,
    "start_time": "2023-02-20T14:02:55.635Z"
   },
   {
    "duration": 6,
    "start_time": "2023-02-20T14:03:19.333Z"
   },
   {
    "duration": 6,
    "start_time": "2023-02-20T14:06:47.983Z"
   },
   {
    "duration": 13,
    "start_time": "2023-02-20T14:24:24.558Z"
   },
   {
    "duration": 7,
    "start_time": "2023-02-20T14:25:39.493Z"
   },
   {
    "duration": 79,
    "start_time": "2023-02-20T14:31:11.337Z"
   },
   {
    "duration": 8,
    "start_time": "2023-02-20T14:31:20.285Z"
   },
   {
    "duration": 8,
    "start_time": "2023-02-20T14:31:26.708Z"
   },
   {
    "duration": 4,
    "start_time": "2023-02-20T14:31:41.074Z"
   },
   {
    "duration": 10,
    "start_time": "2023-02-20T14:32:04.740Z"
   },
   {
    "duration": 70,
    "start_time": "2023-02-20T15:08:26.307Z"
   },
   {
    "duration": 8,
    "start_time": "2023-02-20T15:08:32.208Z"
   },
   {
    "duration": 85,
    "start_time": "2023-02-20T15:08:42.985Z"
   },
   {
    "duration": 849,
    "start_time": "2023-02-20T15:09:12.044Z"
   },
   {
    "duration": 1041,
    "start_time": "2023-02-20T15:09:51.152Z"
   },
   {
    "duration": 733,
    "start_time": "2023-02-20T15:10:00.657Z"
   },
   {
    "duration": 146,
    "start_time": "2023-02-20T15:10:01.393Z"
   },
   {
    "duration": 77,
    "start_time": "2023-02-20T15:10:01.543Z"
   },
   {
    "duration": 29,
    "start_time": "2023-02-20T15:10:01.627Z"
   },
   {
    "duration": 2816,
    "start_time": "2023-02-20T15:10:01.658Z"
   },
   {
    "duration": 20,
    "start_time": "2023-02-20T15:10:04.476Z"
   },
   {
    "duration": 166,
    "start_time": "2023-02-20T15:10:04.500Z"
   },
   {
    "duration": 20,
    "start_time": "2023-02-20T15:10:04.672Z"
   },
   {
    "duration": 52,
    "start_time": "2023-02-20T15:10:04.695Z"
   },
   {
    "duration": 86,
    "start_time": "2023-02-20T15:10:04.753Z"
   },
   {
    "duration": 64,
    "start_time": "2023-02-20T15:10:04.842Z"
   },
   {
    "duration": 42,
    "start_time": "2023-02-20T15:10:04.908Z"
   },
   {
    "duration": 141,
    "start_time": "2023-02-20T15:10:04.952Z"
   },
   {
    "duration": 111,
    "start_time": "2023-02-20T15:10:05.100Z"
   },
   {
    "duration": 1685,
    "start_time": "2023-02-20T15:10:05.213Z"
   },
   {
    "duration": 16,
    "start_time": "2023-02-20T15:20:26.193Z"
   },
   {
    "duration": 18,
    "start_time": "2023-02-20T15:20:46.129Z"
   },
   {
    "duration": 15,
    "start_time": "2023-02-20T15:21:19.763Z"
   },
   {
    "duration": 17,
    "start_time": "2023-02-20T15:22:10.730Z"
   },
   {
    "duration": 673,
    "start_time": "2023-02-20T15:22:23.269Z"
   },
   {
    "duration": 114,
    "start_time": "2023-02-20T15:22:23.944Z"
   },
   {
    "duration": 46,
    "start_time": "2023-02-20T15:22:24.060Z"
   },
   {
    "duration": 32,
    "start_time": "2023-02-20T15:22:24.107Z"
   },
   {
    "duration": 2457,
    "start_time": "2023-02-20T15:22:24.143Z"
   },
   {
    "duration": 12,
    "start_time": "2023-02-20T15:22:26.603Z"
   },
   {
    "duration": 103,
    "start_time": "2023-02-20T15:22:26.617Z"
   },
   {
    "duration": 22,
    "start_time": "2023-02-20T15:22:26.722Z"
   },
   {
    "duration": 31,
    "start_time": "2023-02-20T15:22:26.746Z"
   },
   {
    "duration": 18,
    "start_time": "2023-02-20T15:22:26.778Z"
   },
   {
    "duration": 25,
    "start_time": "2023-02-20T15:22:26.797Z"
   },
   {
    "duration": 14,
    "start_time": "2023-02-20T15:22:26.830Z"
   },
   {
    "duration": 19,
    "start_time": "2023-02-20T15:22:26.846Z"
   },
   {
    "duration": 7,
    "start_time": "2023-02-20T15:22:26.868Z"
   },
   {
    "duration": 98,
    "start_time": "2023-02-20T15:22:26.877Z"
   },
   {
    "duration": 276,
    "start_time": "2023-02-20T15:26:03.998Z"
   },
   {
    "duration": 7,
    "start_time": "2023-02-20T15:26:23.576Z"
   },
   {
    "duration": 274,
    "start_time": "2023-02-20T15:30:03.769Z"
   },
   {
    "duration": 16,
    "start_time": "2023-02-20T15:30:05.317Z"
   },
   {
    "duration": 324,
    "start_time": "2023-02-20T15:31:20.691Z"
   },
   {
    "duration": 6,
    "start_time": "2023-02-20T15:31:22.098Z"
   },
   {
    "duration": 328,
    "start_time": "2023-02-20T15:31:29.853Z"
   },
   {
    "duration": 8,
    "start_time": "2023-02-20T15:31:31.345Z"
   },
   {
    "duration": 349,
    "start_time": "2023-02-20T15:32:54.098Z"
   },
   {
    "duration": 9,
    "start_time": "2023-02-20T15:32:59.488Z"
   },
   {
    "duration": 367,
    "start_time": "2023-02-20T15:34:30.055Z"
   },
   {
    "duration": 8,
    "start_time": "2023-02-20T15:34:31.640Z"
   },
   {
    "duration": 366,
    "start_time": "2023-02-20T15:36:11.200Z"
   },
   {
    "duration": 9,
    "start_time": "2023-02-20T15:42:22.114Z"
   },
   {
    "duration": 10,
    "start_time": "2023-02-20T15:42:53.416Z"
   },
   {
    "duration": 9,
    "start_time": "2023-02-20T15:43:18.045Z"
   },
   {
    "duration": 7,
    "start_time": "2023-02-20T15:43:26.544Z"
   },
   {
    "duration": 5,
    "start_time": "2023-02-20T15:44:41.878Z"
   },
   {
    "duration": 9,
    "start_time": "2023-02-20T15:44:57.949Z"
   },
   {
    "duration": 22,
    "start_time": "2023-02-20T15:45:11.696Z"
   },
   {
    "duration": 24,
    "start_time": "2023-02-20T15:45:31.249Z"
   },
   {
    "duration": 23,
    "start_time": "2023-02-20T15:45:42.887Z"
   },
   {
    "duration": 9,
    "start_time": "2023-02-20T15:45:56.179Z"
   },
   {
    "duration": 16,
    "start_time": "2023-02-20T15:46:03.732Z"
   },
   {
    "duration": 25,
    "start_time": "2023-02-20T15:46:09.817Z"
   },
   {
    "duration": 17,
    "start_time": "2023-02-20T15:46:26.254Z"
   },
   {
    "duration": 28,
    "start_time": "2023-02-20T15:47:03.700Z"
   },
   {
    "duration": 58,
    "start_time": "2023-02-20T15:48:27.738Z"
   },
   {
    "duration": 967,
    "start_time": "2023-02-20T15:48:34.393Z"
   },
   {
    "duration": 7,
    "start_time": "2023-02-20T15:49:13.562Z"
   },
   {
    "duration": 5,
    "start_time": "2023-02-20T15:49:28.751Z"
   },
   {
    "duration": 5,
    "start_time": "2023-02-20T15:49:38.373Z"
   },
   {
    "duration": 5,
    "start_time": "2023-02-20T15:50:20.460Z"
   },
   {
    "duration": 43,
    "start_time": "2023-02-20T15:51:04.717Z"
   },
   {
    "duration": 49,
    "start_time": "2023-02-20T15:51:41.494Z"
   },
   {
    "duration": 8,
    "start_time": "2023-02-20T15:54:06.499Z"
   },
   {
    "duration": 56,
    "start_time": "2023-02-20T15:54:21.481Z"
   },
   {
    "duration": 24,
    "start_time": "2023-02-20T15:56:12.071Z"
   },
   {
    "duration": 49,
    "start_time": "2023-02-20T16:01:10.150Z"
   },
   {
    "duration": 49,
    "start_time": "2023-02-20T16:01:17.441Z"
   },
   {
    "duration": 54,
    "start_time": "2023-02-20T16:01:31.459Z"
   },
   {
    "duration": 119,
    "start_time": "2023-02-20T16:02:23.446Z"
   },
   {
    "duration": 15,
    "start_time": "2023-02-20T16:02:38.412Z"
   },
   {
    "duration": 27,
    "start_time": "2023-02-20T16:02:48.527Z"
   },
   {
    "duration": 31,
    "start_time": "2023-02-20T16:03:04.395Z"
   },
   {
    "duration": 34,
    "start_time": "2023-02-20T16:03:14.345Z"
   },
   {
    "duration": 27,
    "start_time": "2023-02-20T16:03:26.563Z"
   },
   {
    "duration": 41,
    "start_time": "2023-02-20T16:05:28.208Z"
   },
   {
    "duration": 25,
    "start_time": "2023-02-20T16:06:19.720Z"
   },
   {
    "duration": 63,
    "start_time": "2023-02-20T16:07:52.649Z"
   },
   {
    "duration": 28,
    "start_time": "2023-02-20T16:08:27.888Z"
   },
   {
    "duration": 28,
    "start_time": "2023-02-20T16:08:40.981Z"
   },
   {
    "duration": 46,
    "start_time": "2023-02-20T16:09:12.952Z"
   },
   {
    "duration": 62,
    "start_time": "2023-02-20T16:09:27.448Z"
   },
   {
    "duration": 40,
    "start_time": "2023-02-20T16:09:51.665Z"
   },
   {
    "duration": 726,
    "start_time": "2023-02-20T18:23:05.784Z"
   },
   {
    "duration": 143,
    "start_time": "2023-02-20T18:23:06.512Z"
   },
   {
    "duration": 41,
    "start_time": "2023-02-20T18:23:06.657Z"
   },
   {
    "duration": 14,
    "start_time": "2023-02-20T18:23:06.699Z"
   },
   {
    "duration": 1797,
    "start_time": "2023-02-20T18:23:06.715Z"
   },
   {
    "duration": 9,
    "start_time": "2023-02-20T18:23:08.513Z"
   },
   {
    "duration": 77,
    "start_time": "2023-02-20T18:23:08.523Z"
   },
   {
    "duration": 7,
    "start_time": "2023-02-20T18:23:08.602Z"
   },
   {
    "duration": 27,
    "start_time": "2023-02-20T18:23:08.611Z"
   },
   {
    "duration": 16,
    "start_time": "2023-02-20T18:23:08.640Z"
   },
   {
    "duration": 14,
    "start_time": "2023-02-20T18:23:08.658Z"
   },
   {
    "duration": 7,
    "start_time": "2023-02-20T18:23:08.673Z"
   },
   {
    "duration": 289,
    "start_time": "2023-02-20T18:23:08.681Z"
   },
   {
    "duration": 6,
    "start_time": "2023-02-20T18:23:08.972Z"
   },
   {
    "duration": 38,
    "start_time": "2023-02-20T18:23:08.979Z"
   },
   {
    "duration": 7,
    "start_time": "2023-02-20T18:26:41.449Z"
   },
   {
    "duration": 6,
    "start_time": "2023-02-20T18:26:57.715Z"
   },
   {
    "duration": 7,
    "start_time": "2023-02-20T18:27:12.813Z"
   },
   {
    "duration": 7,
    "start_time": "2023-02-20T18:27:23.264Z"
   },
   {
    "duration": 7,
    "start_time": "2023-02-20T18:27:34.921Z"
   },
   {
    "duration": 36,
    "start_time": "2023-02-20T18:28:32.896Z"
   },
   {
    "duration": 41,
    "start_time": "2023-02-20T18:28:54.401Z"
   },
   {
    "duration": 67,
    "start_time": "2023-02-20T18:34:42.136Z"
   },
   {
    "duration": 43,
    "start_time": "2023-02-20T18:35:11.418Z"
   },
   {
    "duration": 34,
    "start_time": "2023-02-20T18:35:25.315Z"
   },
   {
    "duration": 10,
    "start_time": "2023-02-20T18:37:56.497Z"
   },
   {
    "duration": 138,
    "start_time": "2023-02-20T18:38:39.032Z"
   },
   {
    "duration": 4,
    "start_time": "2023-02-20T18:38:51.913Z"
   },
   {
    "duration": 4,
    "start_time": "2023-02-20T18:39:44.123Z"
   },
   {
    "duration": 26,
    "start_time": "2023-02-20T18:40:19.062Z"
   },
   {
    "duration": 44,
    "start_time": "2023-02-20T18:40:29.155Z"
   },
   {
    "duration": 76,
    "start_time": "2023-02-20T18:40:53.840Z"
   },
   {
    "duration": 39,
    "start_time": "2023-02-20T18:41:02.767Z"
   },
   {
    "duration": 18,
    "start_time": "2023-02-20T18:41:36.704Z"
   },
   {
    "duration": 26,
    "start_time": "2023-02-20T18:41:47.477Z"
   },
   {
    "duration": 25,
    "start_time": "2023-02-20T18:42:03.077Z"
   },
   {
    "duration": 36,
    "start_time": "2023-02-20T18:42:10.517Z"
   },
   {
    "duration": 47,
    "start_time": "2023-02-20T18:42:24.957Z"
   },
   {
    "duration": 35,
    "start_time": "2023-02-20T18:42:38.391Z"
   },
   {
    "duration": 34,
    "start_time": "2023-02-20T18:43:06.547Z"
   },
   {
    "duration": 614,
    "start_time": "2023-02-20T18:43:18.519Z"
   },
   {
    "duration": 84,
    "start_time": "2023-02-20T18:43:19.135Z"
   },
   {
    "duration": 38,
    "start_time": "2023-02-20T18:43:19.221Z"
   },
   {
    "duration": 14,
    "start_time": "2023-02-20T18:43:19.261Z"
   },
   {
    "duration": 1846,
    "start_time": "2023-02-20T18:43:19.277Z"
   },
   {
    "duration": 9,
    "start_time": "2023-02-20T18:43:21.125Z"
   },
   {
    "duration": 70,
    "start_time": "2023-02-20T18:43:21.135Z"
   },
   {
    "duration": 12,
    "start_time": "2023-02-20T18:43:21.207Z"
   },
   {
    "duration": 19,
    "start_time": "2023-02-20T18:43:21.238Z"
   },
   {
    "duration": 21,
    "start_time": "2023-02-20T18:43:21.259Z"
   },
   {
    "duration": 18,
    "start_time": "2023-02-20T18:43:21.282Z"
   },
   {
    "duration": 6,
    "start_time": "2023-02-20T18:43:21.302Z"
   },
   {
    "duration": 310,
    "start_time": "2023-02-20T18:43:21.309Z"
   },
   {
    "duration": 6,
    "start_time": "2023-02-20T18:43:21.621Z"
   },
   {
    "duration": 44,
    "start_time": "2023-02-20T18:43:21.637Z"
   },
   {
    "duration": 34,
    "start_time": "2023-02-20T18:43:41.294Z"
   },
   {
    "duration": 66,
    "start_time": "2023-02-20T18:47:38.403Z"
   },
   {
    "duration": 6,
    "start_time": "2023-02-20T18:47:45.193Z"
   },
   {
    "duration": 6,
    "start_time": "2023-02-20T18:48:50.563Z"
   },
   {
    "duration": 6,
    "start_time": "2023-02-20T18:49:01.731Z"
   },
   {
    "duration": 8,
    "start_time": "2023-02-20T18:49:42.485Z"
   },
   {
    "duration": 7,
    "start_time": "2023-02-20T18:50:15.129Z"
   },
   {
    "duration": 6,
    "start_time": "2023-02-20T18:50:42.776Z"
   },
   {
    "duration": 38,
    "start_time": "2023-02-20T18:53:13.949Z"
   },
   {
    "duration": 52,
    "start_time": "2023-02-20T18:54:12.679Z"
   },
   {
    "duration": 9,
    "start_time": "2023-02-20T18:57:19.136Z"
   },
   {
    "duration": 33,
    "start_time": "2023-02-20T19:01:56.421Z"
   },
   {
    "duration": 40,
    "start_time": "2023-02-20T19:02:32.263Z"
   },
   {
    "duration": 35,
    "start_time": "2023-02-20T19:02:55.406Z"
   },
   {
    "duration": 36,
    "start_time": "2023-02-20T19:04:32.255Z"
   },
   {
    "duration": 36,
    "start_time": "2023-02-20T19:06:59.123Z"
   },
   {
    "duration": 45,
    "start_time": "2023-02-20T19:07:29.145Z"
   },
   {
    "duration": 39,
    "start_time": "2023-02-20T19:07:57.079Z"
   },
   {
    "duration": 38,
    "start_time": "2023-02-20T19:08:10.921Z"
   },
   {
    "duration": 30,
    "start_time": "2023-02-20T19:13:50.544Z"
   },
   {
    "duration": 10,
    "start_time": "2023-02-20T19:23:48.691Z"
   },
   {
    "duration": 41,
    "start_time": "2023-02-20T19:24:07.893Z"
   },
   {
    "duration": 43,
    "start_time": "2023-02-20T19:24:44.276Z"
   },
   {
    "duration": 10,
    "start_time": "2023-02-20T19:31:31.354Z"
   },
   {
    "duration": 20,
    "start_time": "2023-02-20T19:31:52.735Z"
   },
   {
    "duration": 860,
    "start_time": "2023-02-21T13:01:57.298Z"
   },
   {
    "duration": 149,
    "start_time": "2023-02-21T13:01:58.161Z"
   },
   {
    "duration": 44,
    "start_time": "2023-02-21T13:01:58.312Z"
   },
   {
    "duration": 17,
    "start_time": "2023-02-21T13:01:58.357Z"
   },
   {
    "duration": 2196,
    "start_time": "2023-02-21T13:01:58.376Z"
   },
   {
    "duration": 10,
    "start_time": "2023-02-21T13:02:00.575Z"
   },
   {
    "duration": 94,
    "start_time": "2023-02-21T13:02:00.587Z"
   },
   {
    "duration": 10,
    "start_time": "2023-02-21T13:02:00.683Z"
   },
   {
    "duration": 35,
    "start_time": "2023-02-21T13:02:00.695Z"
   },
   {
    "duration": 27,
    "start_time": "2023-02-21T13:02:00.739Z"
   },
   {
    "duration": 20,
    "start_time": "2023-02-21T13:02:00.768Z"
   },
   {
    "duration": 28,
    "start_time": "2023-02-21T13:02:00.790Z"
   },
   {
    "duration": 324,
    "start_time": "2023-02-21T13:02:00.819Z"
   },
   {
    "duration": 6,
    "start_time": "2023-02-21T13:02:01.145Z"
   },
   {
    "duration": 38,
    "start_time": "2023-02-21T13:02:01.152Z"
   },
   {
    "duration": 11,
    "start_time": "2023-02-21T13:06:00.327Z"
   },
   {
    "duration": 16,
    "start_time": "2023-02-21T13:08:18.232Z"
   },
   {
    "duration": 49,
    "start_time": "2023-02-21T13:12:31.952Z"
   },
   {
    "duration": 76,
    "start_time": "2023-02-21T13:13:14.933Z"
   },
   {
    "duration": 15,
    "start_time": "2023-02-21T13:13:26.065Z"
   },
   {
    "duration": 16,
    "start_time": "2023-02-21T13:13:37.390Z"
   },
   {
    "duration": 78,
    "start_time": "2023-02-21T13:15:34.389Z"
   },
   {
    "duration": 677,
    "start_time": "2023-02-21T13:16:07.241Z"
   },
   {
    "duration": 165,
    "start_time": "2023-02-21T13:16:35.841Z"
   },
   {
    "duration": 126,
    "start_time": "2023-02-21T13:18:37.483Z"
   },
   {
    "duration": 31,
    "start_time": "2023-02-21T13:18:47.608Z"
   },
   {
    "duration": 232,
    "start_time": "2023-02-21T13:21:31.066Z"
   },
   {
    "duration": 137,
    "start_time": "2023-02-21T13:21:41.086Z"
   },
   {
    "duration": 181,
    "start_time": "2023-02-21T13:22:30.050Z"
   },
   {
    "duration": 180,
    "start_time": "2023-02-21T13:23:59.806Z"
   },
   {
    "duration": 170,
    "start_time": "2023-02-21T13:27:09.416Z"
   },
   {
    "duration": 141,
    "start_time": "2023-02-21T13:31:06.477Z"
   },
   {
    "duration": 157,
    "start_time": "2023-02-21T13:31:36.048Z"
   },
   {
    "duration": 200,
    "start_time": "2023-02-21T13:31:53.343Z"
   },
   {
    "duration": 204,
    "start_time": "2023-02-21T13:32:35.447Z"
   },
   {
    "duration": 178,
    "start_time": "2023-02-21T13:33:16.456Z"
   },
   {
    "duration": 664,
    "start_time": "2023-02-21T13:33:34.379Z"
   },
   {
    "duration": 97,
    "start_time": "2023-02-21T13:33:35.045Z"
   },
   {
    "duration": 47,
    "start_time": "2023-02-21T13:33:35.144Z"
   },
   {
    "duration": 16,
    "start_time": "2023-02-21T13:33:35.193Z"
   },
   {
    "duration": 2126,
    "start_time": "2023-02-21T13:33:35.211Z"
   },
   {
    "duration": 10,
    "start_time": "2023-02-21T13:33:37.339Z"
   },
   {
    "duration": 92,
    "start_time": "2023-02-21T13:33:37.351Z"
   },
   {
    "duration": 9,
    "start_time": "2023-02-21T13:33:37.444Z"
   },
   {
    "duration": 17,
    "start_time": "2023-02-21T13:33:37.454Z"
   },
   {
    "duration": 16,
    "start_time": "2023-02-21T13:33:37.474Z"
   },
   {
    "duration": 15,
    "start_time": "2023-02-21T13:33:37.494Z"
   },
   {
    "duration": 7,
    "start_time": "2023-02-21T13:33:37.539Z"
   },
   {
    "duration": 322,
    "start_time": "2023-02-21T13:33:37.548Z"
   },
   {
    "duration": 8,
    "start_time": "2023-02-21T13:33:37.872Z"
   },
   {
    "duration": 236,
    "start_time": "2023-02-21T13:33:37.882Z"
   },
   {
    "duration": 192,
    "start_time": "2023-02-21T13:33:49.462Z"
   },
   {
    "duration": 175,
    "start_time": "2023-02-21T13:34:34.655Z"
   },
   {
    "duration": 198,
    "start_time": "2023-02-21T13:34:53.142Z"
   },
   {
    "duration": 5,
    "start_time": "2023-02-21T13:44:59.492Z"
   },
   {
    "duration": 42,
    "start_time": "2023-02-21T13:45:19.220Z"
   },
   {
    "duration": 64,
    "start_time": "2023-02-21T13:46:28.988Z"
   },
   {
    "duration": 46,
    "start_time": "2023-02-21T13:50:17.367Z"
   },
   {
    "duration": 47,
    "start_time": "2023-02-21T13:50:25.637Z"
   },
   {
    "duration": 64,
    "start_time": "2023-02-21T13:52:26.799Z"
   },
   {
    "duration": 683,
    "start_time": "2023-02-21T13:52:52.768Z"
   },
   {
    "duration": 105,
    "start_time": "2023-02-21T13:52:53.454Z"
   },
   {
    "duration": 44,
    "start_time": "2023-02-21T13:52:53.560Z"
   },
   {
    "duration": 34,
    "start_time": "2023-02-21T13:52:53.607Z"
   },
   {
    "duration": 2145,
    "start_time": "2023-02-21T13:52:53.644Z"
   },
   {
    "duration": 10,
    "start_time": "2023-02-21T13:52:55.791Z"
   },
   {
    "duration": 76,
    "start_time": "2023-02-21T13:52:55.803Z"
   },
   {
    "duration": 11,
    "start_time": "2023-02-21T13:52:55.881Z"
   },
   {
    "duration": 16,
    "start_time": "2023-02-21T13:52:55.894Z"
   },
   {
    "duration": 42,
    "start_time": "2023-02-21T13:52:55.912Z"
   },
   {
    "duration": 16,
    "start_time": "2023-02-21T13:52:55.957Z"
   },
   {
    "duration": 7,
    "start_time": "2023-02-21T13:52:55.974Z"
   },
   {
    "duration": 348,
    "start_time": "2023-02-21T13:52:55.983Z"
   },
   {
    "duration": 7,
    "start_time": "2023-02-21T13:52:56.334Z"
   },
   {
    "duration": 224,
    "start_time": "2023-02-21T13:52:56.342Z"
   },
   {
    "duration": 49,
    "start_time": "2023-02-21T13:52:56.567Z"
   },
   {
    "duration": 80,
    "start_time": "2023-02-21T13:53:48.698Z"
   },
   {
    "duration": 114,
    "start_time": "2023-02-21T14:03:14.704Z"
   },
   {
    "duration": 421,
    "start_time": "2023-02-21T14:03:23.095Z"
   },
   {
    "duration": 386,
    "start_time": "2023-02-21T14:04:53.581Z"
   },
   {
    "duration": 95,
    "start_time": "2023-02-21T14:06:30.814Z"
   },
   {
    "duration": 73,
    "start_time": "2023-02-21T14:06:38.454Z"
   },
   {
    "duration": 332,
    "start_time": "2023-02-21T14:07:06.046Z"
   },
   {
    "duration": 337,
    "start_time": "2023-02-21T14:07:42.035Z"
   },
   {
    "duration": 373,
    "start_time": "2023-02-21T14:08:07.706Z"
   },
   {
    "duration": 991,
    "start_time": "2023-02-21T14:08:52.213Z"
   },
   {
    "duration": 109,
    "start_time": "2023-02-21T14:14:12.680Z"
   },
   {
    "duration": 83,
    "start_time": "2023-02-21T14:15:55.118Z"
   },
   {
    "duration": 18,
    "start_time": "2023-02-21T14:16:06.939Z"
   },
   {
    "duration": 41,
    "start_time": "2023-02-21T14:18:14.957Z"
   },
   {
    "duration": 50,
    "start_time": "2023-02-21T14:18:34.813Z"
   },
   {
    "duration": 76,
    "start_time": "2023-02-21T14:18:45.453Z"
   },
   {
    "duration": 12,
    "start_time": "2023-02-21T14:18:49.561Z"
   },
   {
    "duration": 780,
    "start_time": "2023-02-21T14:18:58.657Z"
   },
   {
    "duration": 108,
    "start_time": "2023-02-21T14:18:59.443Z"
   },
   {
    "duration": 44,
    "start_time": "2023-02-21T14:18:59.553Z"
   },
   {
    "duration": 15,
    "start_time": "2023-02-21T14:18:59.599Z"
   },
   {
    "duration": 2221,
    "start_time": "2023-02-21T14:18:59.616Z"
   },
   {
    "duration": 21,
    "start_time": "2023-02-21T14:19:01.839Z"
   },
   {
    "duration": 120,
    "start_time": "2023-02-21T14:19:01.862Z"
   },
   {
    "duration": 10,
    "start_time": "2023-02-21T14:19:01.984Z"
   },
   {
    "duration": 50,
    "start_time": "2023-02-21T14:19:01.996Z"
   },
   {
    "duration": 42,
    "start_time": "2023-02-21T14:19:02.049Z"
   },
   {
    "duration": 24,
    "start_time": "2023-02-21T14:19:02.093Z"
   },
   {
    "duration": 19,
    "start_time": "2023-02-21T14:19:02.119Z"
   },
   {
    "duration": 347,
    "start_time": "2023-02-21T14:19:02.139Z"
   },
   {
    "duration": 7,
    "start_time": "2023-02-21T14:19:02.488Z"
   },
   {
    "duration": 218,
    "start_time": "2023-02-21T14:19:02.496Z"
   },
   {
    "duration": 191,
    "start_time": "2023-02-21T14:19:02.716Z"
   },
   {
    "duration": 73,
    "start_time": "2023-02-21T14:20:19.708Z"
   },
   {
    "duration": 8,
    "start_time": "2023-02-21T14:20:23.766Z"
   },
   {
    "duration": 707,
    "start_time": "2023-02-21T14:20:37.854Z"
   },
   {
    "duration": 106,
    "start_time": "2023-02-21T14:20:38.563Z"
   },
   {
    "duration": 44,
    "start_time": "2023-02-21T14:20:38.671Z"
   },
   {
    "duration": 33,
    "start_time": "2023-02-21T14:20:38.718Z"
   },
   {
    "duration": 2309,
    "start_time": "2023-02-21T14:20:38.753Z"
   },
   {
    "duration": 13,
    "start_time": "2023-02-21T14:20:41.064Z"
   },
   {
    "duration": 81,
    "start_time": "2023-02-21T14:20:41.078Z"
   },
   {
    "duration": 10,
    "start_time": "2023-02-21T14:20:41.161Z"
   },
   {
    "duration": 17,
    "start_time": "2023-02-21T14:20:41.172Z"
   },
   {
    "duration": 17,
    "start_time": "2023-02-21T14:20:41.191Z"
   },
   {
    "duration": 45,
    "start_time": "2023-02-21T14:20:41.210Z"
   },
   {
    "duration": 6,
    "start_time": "2023-02-21T14:20:41.258Z"
   },
   {
    "duration": 345,
    "start_time": "2023-02-21T14:20:41.266Z"
   },
   {
    "duration": 7,
    "start_time": "2023-02-21T14:20:41.613Z"
   },
   {
    "duration": 232,
    "start_time": "2023-02-21T14:20:41.622Z"
   },
   {
    "duration": 198,
    "start_time": "2023-02-21T14:20:41.858Z"
   },
   {
    "duration": 73,
    "start_time": "2023-02-21T14:21:20.461Z"
   },
   {
    "duration": 671,
    "start_time": "2023-02-21T14:21:27.562Z"
   },
   {
    "duration": 103,
    "start_time": "2023-02-21T14:21:28.234Z"
   },
   {
    "duration": 45,
    "start_time": "2023-02-21T14:21:28.339Z"
   },
   {
    "duration": 22,
    "start_time": "2023-02-21T14:21:28.385Z"
   },
   {
    "duration": 2248,
    "start_time": "2023-02-21T14:21:28.409Z"
   },
   {
    "duration": 10,
    "start_time": "2023-02-21T14:21:30.659Z"
   },
   {
    "duration": 111,
    "start_time": "2023-02-21T14:21:30.671Z"
   },
   {
    "duration": 9,
    "start_time": "2023-02-21T14:21:30.784Z"
   },
   {
    "duration": 58,
    "start_time": "2023-02-21T14:21:30.795Z"
   },
   {
    "duration": 41,
    "start_time": "2023-02-21T14:21:30.855Z"
   },
   {
    "duration": 57,
    "start_time": "2023-02-21T14:21:30.898Z"
   },
   {
    "duration": 107,
    "start_time": "2023-02-21T14:21:30.957Z"
   },
   {
    "duration": 347,
    "start_time": "2023-02-21T14:21:31.066Z"
   },
   {
    "duration": 8,
    "start_time": "2023-02-21T14:21:31.416Z"
   },
   {
    "duration": 263,
    "start_time": "2023-02-21T14:21:31.426Z"
   },
   {
    "duration": 194,
    "start_time": "2023-02-21T14:21:31.691Z"
   },
   {
    "duration": 437,
    "start_time": "2023-02-21T14:22:20.840Z"
   },
   {
    "duration": 78,
    "start_time": "2023-02-21T14:22:49.275Z"
   },
   {
    "duration": 710,
    "start_time": "2023-02-21T14:22:56.434Z"
   },
   {
    "duration": 102,
    "start_time": "2023-02-21T14:22:57.147Z"
   },
   {
    "duration": 45,
    "start_time": "2023-02-21T14:22:57.251Z"
   },
   {
    "duration": 17,
    "start_time": "2023-02-21T14:22:57.298Z"
   },
   {
    "duration": 2200,
    "start_time": "2023-02-21T14:22:57.317Z"
   },
   {
    "duration": 12,
    "start_time": "2023-02-21T14:22:59.519Z"
   },
   {
    "duration": 115,
    "start_time": "2023-02-21T14:22:59.533Z"
   },
   {
    "duration": 13,
    "start_time": "2023-02-21T14:22:59.650Z"
   },
   {
    "duration": 19,
    "start_time": "2023-02-21T14:22:59.666Z"
   },
   {
    "duration": 17,
    "start_time": "2023-02-21T14:22:59.687Z"
   },
   {
    "duration": 46,
    "start_time": "2023-02-21T14:22:59.706Z"
   },
   {
    "duration": 6,
    "start_time": "2023-02-21T14:22:59.754Z"
   },
   {
    "duration": 334,
    "start_time": "2023-02-21T14:22:59.762Z"
   },
   {
    "duration": 6,
    "start_time": "2023-02-21T14:23:00.099Z"
   },
   {
    "duration": 205,
    "start_time": "2023-02-21T14:23:00.107Z"
   },
   {
    "duration": 358,
    "start_time": "2023-02-21T14:23:00.314Z"
   },
   {
    "duration": 179,
    "start_time": "2023-02-21T14:23:34.278Z"
   },
   {
    "duration": 218,
    "start_time": "2023-02-21T14:23:49.624Z"
   },
   {
    "duration": 316,
    "start_time": "2023-02-21T14:24:06.856Z"
   },
   {
    "duration": 228,
    "start_time": "2023-02-21T14:24:51.137Z"
   },
   {
    "duration": 168,
    "start_time": "2023-02-21T14:24:59.623Z"
   },
   {
    "duration": 162,
    "start_time": "2023-02-21T14:25:17.264Z"
   },
   {
    "duration": 154,
    "start_time": "2023-02-21T14:25:36.786Z"
   },
   {
    "duration": 162,
    "start_time": "2023-02-21T14:25:53.133Z"
   },
   {
    "duration": 152,
    "start_time": "2023-02-21T14:26:13.374Z"
   },
   {
    "duration": 181,
    "start_time": "2023-02-21T14:26:41.928Z"
   },
   {
    "duration": 203,
    "start_time": "2023-02-21T14:27:00.224Z"
   },
   {
    "duration": 6,
    "start_time": "2023-02-21T14:28:08.922Z"
   },
   {
    "duration": 1522,
    "start_time": "2023-02-21T14:28:15.557Z"
   },
   {
    "duration": 168,
    "start_time": "2023-02-21T14:28:35.421Z"
   },
   {
    "duration": 233,
    "start_time": "2023-02-21T14:28:55.475Z"
   },
   {
    "duration": 187,
    "start_time": "2023-02-21T14:29:06.965Z"
   },
   {
    "duration": 4,
    "start_time": "2023-02-21T14:29:12.370Z"
   },
   {
    "duration": 162,
    "start_time": "2023-02-21T14:29:18.724Z"
   },
   {
    "duration": 159,
    "start_time": "2023-02-21T14:29:24.561Z"
   },
   {
    "duration": 184,
    "start_time": "2023-02-21T14:29:57.066Z"
   },
   {
    "duration": 172,
    "start_time": "2023-02-21T14:30:12.254Z"
   },
   {
    "duration": 194,
    "start_time": "2023-02-21T14:30:45.510Z"
   },
   {
    "duration": 366,
    "start_time": "2023-02-21T14:31:36.088Z"
   },
   {
    "duration": 424,
    "start_time": "2023-02-21T14:32:08.036Z"
   },
   {
    "duration": 274,
    "start_time": "2023-02-21T14:34:37.010Z"
   },
   {
    "duration": 330,
    "start_time": "2023-02-21T14:35:02.611Z"
   },
   {
    "duration": 311,
    "start_time": "2023-02-21T14:37:53.460Z"
   },
   {
    "duration": 351,
    "start_time": "2023-02-21T14:41:18.516Z"
   },
   {
    "duration": 400,
    "start_time": "2023-02-21T14:43:56.945Z"
   },
   {
    "duration": 286,
    "start_time": "2023-02-21T14:49:18.420Z"
   },
   {
    "duration": 2749,
    "start_time": "2023-02-21T14:50:32.883Z"
   },
   {
    "duration": 268,
    "start_time": "2023-02-21T14:55:56.704Z"
   },
   {
    "duration": 182,
    "start_time": "2023-02-21T14:56:10.889Z"
   },
   {
    "duration": 185,
    "start_time": "2023-02-21T14:57:13.016Z"
   },
   {
    "duration": 281,
    "start_time": "2023-02-21T14:57:39.008Z"
   },
   {
    "duration": 497,
    "start_time": "2023-02-21T14:59:01.624Z"
   },
   {
    "duration": 196,
    "start_time": "2023-02-21T14:59:22.324Z"
   },
   {
    "duration": 378,
    "start_time": "2023-02-21T15:01:42.506Z"
   },
   {
    "duration": 364,
    "start_time": "2023-02-21T15:01:54.104Z"
   },
   {
    "duration": 357,
    "start_time": "2023-02-21T15:02:10.985Z"
   },
   {
    "duration": 591,
    "start_time": "2023-02-21T15:02:59.386Z"
   },
   {
    "duration": 632,
    "start_time": "2023-02-21T15:03:12.837Z"
   },
   {
    "duration": 519,
    "start_time": "2023-02-21T15:03:27.168Z"
   },
   {
    "duration": 528,
    "start_time": "2023-02-21T15:03:43.043Z"
   },
   {
    "duration": 573,
    "start_time": "2023-02-21T15:04:02.344Z"
   },
   {
    "duration": 549,
    "start_time": "2023-02-21T15:04:26.269Z"
   },
   {
    "duration": 522,
    "start_time": "2023-02-21T15:04:43.079Z"
   },
   {
    "duration": 493,
    "start_time": "2023-02-21T15:04:59.433Z"
   },
   {
    "duration": 746,
    "start_time": "2023-02-21T15:05:55.817Z"
   },
   {
    "duration": 679,
    "start_time": "2023-02-21T15:06:12.628Z"
   },
   {
    "duration": 858,
    "start_time": "2023-02-21T15:06:24.756Z"
   },
   {
    "duration": 2325,
    "start_time": "2023-02-21T15:06:35.505Z"
   },
   {
    "duration": 2515,
    "start_time": "2023-02-21T15:06:49.130Z"
   },
   {
    "duration": 2436,
    "start_time": "2023-02-21T15:07:14.105Z"
   },
   {
    "duration": 967,
    "start_time": "2023-02-21T15:07:27.867Z"
   },
   {
    "duration": 746,
    "start_time": "2023-02-21T15:07:40.579Z"
   },
   {
    "duration": 730,
    "start_time": "2023-02-21T15:08:02.744Z"
   },
   {
    "duration": 809,
    "start_time": "2023-02-21T15:08:16.742Z"
   },
   {
    "duration": 760,
    "start_time": "2023-02-21T15:08:39.990Z"
   },
   {
    "duration": 1081,
    "start_time": "2023-02-21T15:10:26.037Z"
   },
   {
    "duration": 865,
    "start_time": "2023-02-21T15:10:36.258Z"
   },
   {
    "duration": 997,
    "start_time": "2023-02-21T15:10:52.781Z"
   },
   {
    "duration": 1001,
    "start_time": "2023-02-21T15:11:12.386Z"
   },
   {
    "duration": 1071,
    "start_time": "2023-02-21T15:12:47.176Z"
   },
   {
    "duration": 1161,
    "start_time": "2023-02-21T15:13:11.768Z"
   },
   {
    "duration": 1156,
    "start_time": "2023-02-21T15:13:43.482Z"
   },
   {
    "duration": 1166,
    "start_time": "2023-02-21T15:14:05.248Z"
   },
   {
    "duration": 1085,
    "start_time": "2023-02-21T15:14:14.804Z"
   },
   {
    "duration": 1170,
    "start_time": "2023-02-21T15:14:34.272Z"
   },
   {
    "duration": 1400,
    "start_time": "2023-02-21T15:15:43.348Z"
   },
   {
    "duration": 1291,
    "start_time": "2023-02-21T15:16:06.453Z"
   },
   {
    "duration": 1481,
    "start_time": "2023-02-21T15:16:15.876Z"
   },
   {
    "duration": 1393,
    "start_time": "2023-02-21T15:16:25.836Z"
   },
   {
    "duration": 1263,
    "start_time": "2023-02-21T15:16:35.620Z"
   },
   {
    "duration": 1388,
    "start_time": "2023-02-21T15:17:29.413Z"
   },
   {
    "duration": 8,
    "start_time": "2023-02-21T15:19:14.678Z"
   },
   {
    "duration": 1583,
    "start_time": "2023-02-21T15:19:27.075Z"
   },
   {
    "duration": 1511,
    "start_time": "2023-02-21T15:19:47.606Z"
   },
   {
    "duration": 1246,
    "start_time": "2023-02-21T15:20:03.509Z"
   },
   {
    "duration": 1460,
    "start_time": "2023-02-21T15:24:41.529Z"
   },
   {
    "duration": 1493,
    "start_time": "2023-02-21T15:27:03.177Z"
   },
   {
    "duration": 1702,
    "start_time": "2023-02-21T15:28:10.772Z"
   },
   {
    "duration": 1751,
    "start_time": "2023-02-21T15:28:27.942Z"
   },
   {
    "duration": 1906,
    "start_time": "2023-02-21T15:28:41.948Z"
   },
   {
    "duration": 1679,
    "start_time": "2023-02-21T15:28:56.420Z"
   },
   {
    "duration": 1694,
    "start_time": "2023-02-21T15:29:13.620Z"
   },
   {
    "duration": 1706,
    "start_time": "2023-02-21T15:29:34.134Z"
   },
   {
    "duration": 1840,
    "start_time": "2023-02-21T15:31:02.561Z"
   },
   {
    "duration": 1824,
    "start_time": "2023-02-21T15:31:20.724Z"
   },
   {
    "duration": 1884,
    "start_time": "2023-02-21T15:31:31.326Z"
   },
   {
    "duration": 2055,
    "start_time": "2023-02-21T15:31:48.476Z"
   },
   {
    "duration": 2104,
    "start_time": "2023-02-21T15:33:11.268Z"
   },
   {
    "duration": 2175,
    "start_time": "2023-02-21T15:33:46.642Z"
   },
   {
    "duration": 2182,
    "start_time": "2023-02-21T15:34:01.582Z"
   },
   {
    "duration": 2285,
    "start_time": "2023-02-21T15:35:02.016Z"
   },
   {
    "duration": 2202,
    "start_time": "2023-02-21T15:35:19.680Z"
   },
   {
    "duration": 2250,
    "start_time": "2023-02-21T15:35:31.845Z"
   },
   {
    "duration": 2515,
    "start_time": "2023-02-21T15:37:13.325Z"
   },
   {
    "duration": 2762,
    "start_time": "2023-02-21T15:37:28.234Z"
   },
   {
    "duration": 2425,
    "start_time": "2023-02-21T15:37:40.018Z"
   },
   {
    "duration": 2419,
    "start_time": "2023-02-21T15:37:51.113Z"
   },
   {
    "duration": 2664,
    "start_time": "2023-02-21T15:38:40.010Z"
   },
   {
    "duration": 2731,
    "start_time": "2023-02-21T15:38:52.672Z"
   },
   {
    "duration": 2641,
    "start_time": "2023-02-21T15:39:08.353Z"
   },
   {
    "duration": 2632,
    "start_time": "2023-02-21T15:39:22.775Z"
   },
   {
    "duration": 2789,
    "start_time": "2023-02-21T15:39:36.766Z"
   },
   {
    "duration": 2610,
    "start_time": "2023-02-21T15:40:03.166Z"
   },
   {
    "duration": 743,
    "start_time": "2023-02-21T18:26:02.115Z"
   },
   {
    "duration": 328,
    "start_time": "2023-02-21T18:26:02.860Z"
   },
   {
    "duration": 40,
    "start_time": "2023-02-21T18:26:03.190Z"
   },
   {
    "duration": 14,
    "start_time": "2023-02-21T18:26:03.232Z"
   },
   {
    "duration": 1808,
    "start_time": "2023-02-21T18:26:03.248Z"
   },
   {
    "duration": 11,
    "start_time": "2023-02-21T18:26:05.058Z"
   },
   {
    "duration": 67,
    "start_time": "2023-02-21T18:26:05.071Z"
   },
   {
    "duration": 9,
    "start_time": "2023-02-21T18:26:05.140Z"
   },
   {
    "duration": 21,
    "start_time": "2023-02-21T18:26:05.150Z"
   },
   {
    "duration": 27,
    "start_time": "2023-02-21T18:26:05.174Z"
   },
   {
    "duration": 13,
    "start_time": "2023-02-21T18:26:05.203Z"
   },
   {
    "duration": 7,
    "start_time": "2023-02-21T18:26:05.217Z"
   },
   {
    "duration": 291,
    "start_time": "2023-02-21T18:26:05.226Z"
   },
   {
    "duration": 6,
    "start_time": "2023-02-21T18:26:05.519Z"
   },
   {
    "duration": 176,
    "start_time": "2023-02-21T18:26:05.527Z"
   },
   {
    "duration": 289,
    "start_time": "2023-02-21T18:26:05.705Z"
   },
   {
    "duration": 2341,
    "start_time": "2023-02-21T18:26:05.996Z"
   },
   {
    "duration": 2373,
    "start_time": "2023-02-21T18:41:42.488Z"
   },
   {
    "duration": 2319,
    "start_time": "2023-02-21T18:48:49.635Z"
   },
   {
    "duration": 3,
    "start_time": "2023-02-21T19:07:21.575Z"
   },
   {
    "duration": 10,
    "start_time": "2023-02-21T19:08:50.637Z"
   },
   {
    "duration": 9,
    "start_time": "2023-02-21T19:08:59.024Z"
   },
   {
    "duration": 12,
    "start_time": "2023-02-21T19:09:24.237Z"
   },
   {
    "duration": 213,
    "start_time": "2023-02-21T19:11:47.580Z"
   },
   {
    "duration": 283,
    "start_time": "2023-02-21T19:12:54.012Z"
   },
   {
    "duration": 185,
    "start_time": "2023-02-21T19:13:19.384Z"
   },
   {
    "duration": 189,
    "start_time": "2023-02-21T19:13:30.305Z"
   },
   {
    "duration": 182,
    "start_time": "2023-02-21T19:13:55.855Z"
   },
   {
    "duration": 155,
    "start_time": "2023-02-21T19:14:18.650Z"
   },
   {
    "duration": 162,
    "start_time": "2023-02-21T19:14:45.416Z"
   },
   {
    "duration": 176,
    "start_time": "2023-02-21T19:14:53.401Z"
   },
   {
    "duration": 182,
    "start_time": "2023-02-21T19:15:03.904Z"
   },
   {
    "duration": 199,
    "start_time": "2023-02-21T19:15:23.969Z"
   },
   {
    "duration": 963,
    "start_time": "2023-02-22T14:05:41.606Z"
   },
   {
    "duration": 347,
    "start_time": "2023-02-22T14:05:42.572Z"
   },
   {
    "duration": 49,
    "start_time": "2023-02-22T14:05:42.922Z"
   },
   {
    "duration": 16,
    "start_time": "2023-02-22T14:05:42.972Z"
   },
   {
    "duration": 2087,
    "start_time": "2023-02-22T14:05:42.989Z"
   },
   {
    "duration": 16,
    "start_time": "2023-02-22T14:05:45.080Z"
   },
   {
    "duration": 93,
    "start_time": "2023-02-22T14:05:45.098Z"
   },
   {
    "duration": 11,
    "start_time": "2023-02-22T14:05:45.192Z"
   },
   {
    "duration": 22,
    "start_time": "2023-02-22T14:05:45.205Z"
   },
   {
    "duration": 23,
    "start_time": "2023-02-22T14:05:45.229Z"
   },
   {
    "duration": 13,
    "start_time": "2023-02-22T14:05:45.254Z"
   },
   {
    "duration": 10,
    "start_time": "2023-02-22T14:05:45.269Z"
   },
   {
    "duration": 354,
    "start_time": "2023-02-22T14:05:45.281Z"
   },
   {
    "duration": 11,
    "start_time": "2023-02-22T14:05:45.638Z"
   },
   {
    "duration": 188,
    "start_time": "2023-02-22T14:05:45.651Z"
   },
   {
    "duration": 294,
    "start_time": "2023-02-22T14:05:45.841Z"
   },
   {
    "duration": 2662,
    "start_time": "2023-02-22T14:05:46.137Z"
   },
   {
    "duration": 223,
    "start_time": "2023-02-22T14:05:48.801Z"
   },
   {
    "duration": 195,
    "start_time": "2023-02-22T14:11:36.017Z"
   },
   {
    "duration": 302,
    "start_time": "2023-02-22T14:11:56.990Z"
   },
   {
    "duration": 219,
    "start_time": "2023-02-22T14:12:26.575Z"
   },
   {
    "duration": 255,
    "start_time": "2023-02-22T14:20:52.995Z"
   },
   {
    "duration": 329,
    "start_time": "2023-02-22T14:21:34.616Z"
   },
   {
    "duration": 433,
    "start_time": "2023-02-22T14:22:53.558Z"
   },
   {
    "duration": 334,
    "start_time": "2023-02-22T14:23:27.894Z"
   },
   {
    "duration": 210,
    "start_time": "2023-02-22T14:40:01.575Z"
   },
   {
    "duration": 189,
    "start_time": "2023-02-22T14:40:22.877Z"
   },
   {
    "duration": 190,
    "start_time": "2023-02-22T14:43:14.185Z"
   },
   {
    "duration": 471,
    "start_time": "2023-02-22T14:48:14.642Z"
   },
   {
    "duration": 383,
    "start_time": "2023-02-22T14:48:56.088Z"
   },
   {
    "duration": 602,
    "start_time": "2023-02-22T14:49:52.039Z"
   },
   {
    "duration": 572,
    "start_time": "2023-02-22T14:50:19.240Z"
   },
   {
    "duration": 810,
    "start_time": "2023-02-22T14:51:32.117Z"
   },
   {
    "duration": 811,
    "start_time": "2023-02-22T14:52:37.175Z"
   },
   {
    "duration": 1029,
    "start_time": "2023-02-22T14:53:38.040Z"
   },
   {
    "duration": 1009,
    "start_time": "2023-02-22T14:55:41.620Z"
   },
   {
    "duration": 902,
    "start_time": "2023-02-22T14:56:22.935Z"
   },
   {
    "duration": 1271,
    "start_time": "2023-02-22T15:01:47.280Z"
   },
   {
    "duration": 1078,
    "start_time": "2023-02-22T15:02:18.724Z"
   },
   {
    "duration": 1323,
    "start_time": "2023-02-22T15:03:16.473Z"
   },
   {
    "duration": 1521,
    "start_time": "2023-02-22T15:04:34.001Z"
   },
   {
    "duration": 1743,
    "start_time": "2023-02-22T15:06:13.027Z"
   },
   {
    "duration": 9,
    "start_time": "2023-02-22T15:23:20.255Z"
   },
   {
    "duration": 8,
    "start_time": "2023-02-22T15:23:30.617Z"
   },
   {
    "duration": 8,
    "start_time": "2023-02-22T15:23:36.617Z"
   },
   {
    "duration": 599,
    "start_time": "2023-02-22T15:30:46.353Z"
   },
   {
    "duration": 11,
    "start_time": "2023-02-22T15:46:49.359Z"
   },
   {
    "duration": 10,
    "start_time": "2023-02-22T15:46:59.500Z"
   },
   {
    "duration": 15,
    "start_time": "2023-02-22T15:47:10.148Z"
   },
   {
    "duration": 20,
    "start_time": "2023-02-22T15:47:32.553Z"
   },
   {
    "duration": 11,
    "start_time": "2023-02-22T15:48:21.581Z"
   },
   {
    "duration": 18,
    "start_time": "2023-02-22T15:48:44.666Z"
   },
   {
    "duration": 28,
    "start_time": "2023-02-22T15:49:20.367Z"
   },
   {
    "duration": 27,
    "start_time": "2023-02-22T15:50:08.705Z"
   },
   {
    "duration": 27,
    "start_time": "2023-02-22T15:51:55.456Z"
   },
   {
    "duration": 29,
    "start_time": "2023-02-22T15:52:10.217Z"
   },
   {
    "duration": 22,
    "start_time": "2023-02-22T15:54:11.870Z"
   },
   {
    "duration": 23,
    "start_time": "2023-02-22T15:57:27.019Z"
   },
   {
    "duration": 20,
    "start_time": "2023-02-22T15:57:34.662Z"
   },
   {
    "duration": 18,
    "start_time": "2023-02-22T15:57:45.964Z"
   },
   {
    "duration": 716,
    "start_time": "2023-02-22T15:58:35.111Z"
   },
   {
    "duration": 800,
    "start_time": "2023-02-22T15:59:22.163Z"
   },
   {
    "duration": 35,
    "start_time": "2023-02-22T15:59:31.347Z"
   },
   {
    "duration": 23,
    "start_time": "2023-02-22T16:00:17.798Z"
   },
   {
    "duration": 798,
    "start_time": "2023-02-22T16:00:45.467Z"
   },
   {
    "duration": 27,
    "start_time": "2023-02-22T16:01:02.531Z"
   },
   {
    "duration": 29,
    "start_time": "2023-02-22T16:01:31.395Z"
   },
   {
    "duration": 22,
    "start_time": "2023-02-22T16:04:54.206Z"
   },
   {
    "duration": 9,
    "start_time": "2023-02-22T16:09:57.333Z"
   },
   {
    "duration": 40,
    "start_time": "2023-02-22T16:10:10.682Z"
   },
   {
    "duration": 20,
    "start_time": "2023-02-22T16:14:38.753Z"
   },
   {
    "duration": 30,
    "start_time": "2023-02-22T16:16:35.363Z"
   },
   {
    "duration": 934,
    "start_time": "2023-02-22T16:18:40.798Z"
   },
   {
    "duration": 20,
    "start_time": "2023-02-22T16:19:07.122Z"
   },
   {
    "duration": 23,
    "start_time": "2023-02-22T16:19:25.476Z"
   },
   {
    "duration": 156,
    "start_time": "2023-02-22T16:19:50.669Z"
   },
   {
    "duration": 799,
    "start_time": "2023-02-22T16:21:07.523Z"
   },
   {
    "duration": 175,
    "start_time": "2023-02-22T16:22:24.937Z"
   },
   {
    "duration": 226,
    "start_time": "2023-02-22T16:24:28.584Z"
   },
   {
    "duration": 905,
    "start_time": "2023-02-22T16:38:45.371Z"
   },
   {
    "duration": 874,
    "start_time": "2023-02-22T16:39:06.756Z"
   },
   {
    "duration": 977,
    "start_time": "2023-02-22T16:39:33.123Z"
   },
   {
    "duration": 606,
    "start_time": "2023-02-22T16:39:56.647Z"
   },
   {
    "duration": 94,
    "start_time": "2023-02-22T16:39:57.255Z"
   },
   {
    "duration": 50,
    "start_time": "2023-02-22T16:39:57.350Z"
   },
   {
    "duration": 29,
    "start_time": "2023-02-22T16:39:57.402Z"
   },
   {
    "duration": 2066,
    "start_time": "2023-02-22T16:39:57.434Z"
   },
   {
    "duration": 10,
    "start_time": "2023-02-22T16:39:59.502Z"
   },
   {
    "duration": 69,
    "start_time": "2023-02-22T16:39:59.514Z"
   },
   {
    "duration": 9,
    "start_time": "2023-02-22T16:39:59.585Z"
   },
   {
    "duration": 33,
    "start_time": "2023-02-22T16:39:59.595Z"
   },
   {
    "duration": 16,
    "start_time": "2023-02-22T16:39:59.630Z"
   },
   {
    "duration": 13,
    "start_time": "2023-02-22T16:39:59.647Z"
   },
   {
    "duration": 6,
    "start_time": "2023-02-22T16:39:59.662Z"
   },
   {
    "duration": 310,
    "start_time": "2023-02-22T16:39:59.669Z"
   },
   {
    "duration": 6,
    "start_time": "2023-02-22T16:39:59.981Z"
   },
   {
    "duration": 153,
    "start_time": "2023-02-22T16:39:59.990Z"
   },
   {
    "duration": 295,
    "start_time": "2023-02-22T16:40:00.144Z"
   },
   {
    "duration": 2481,
    "start_time": "2023-02-22T16:40:00.441Z"
   },
   {
    "duration": 345,
    "start_time": "2023-02-22T16:40:02.924Z"
   },
   {
    "duration": 1603,
    "start_time": "2023-02-22T16:40:03.271Z"
   },
   {
    "duration": 27,
    "start_time": "2023-02-22T16:40:04.876Z"
   },
   {
    "duration": 200,
    "start_time": "2023-02-22T16:40:04.904Z"
   },
   {
    "duration": 703,
    "start_time": "2023-02-22T17:01:13.189Z"
   },
   {
    "duration": 101,
    "start_time": "2023-02-22T17:01:13.894Z"
   },
   {
    "duration": 55,
    "start_time": "2023-02-22T17:01:13.997Z"
   },
   {
    "duration": 23,
    "start_time": "2023-02-22T17:01:14.054Z"
   },
   {
    "duration": 2109,
    "start_time": "2023-02-22T17:01:14.079Z"
   },
   {
    "duration": 9,
    "start_time": "2023-02-22T17:01:16.190Z"
   },
   {
    "duration": 76,
    "start_time": "2023-02-22T17:01:16.201Z"
   },
   {
    "duration": 7,
    "start_time": "2023-02-22T17:01:16.279Z"
   },
   {
    "duration": 12,
    "start_time": "2023-02-22T17:01:16.288Z"
   },
   {
    "duration": 33,
    "start_time": "2023-02-22T17:01:16.302Z"
   },
   {
    "duration": 23,
    "start_time": "2023-02-22T17:01:16.336Z"
   },
   {
    "duration": 8,
    "start_time": "2023-02-22T17:01:16.361Z"
   },
   {
    "duration": 285,
    "start_time": "2023-02-22T17:01:16.371Z"
   },
   {
    "duration": 5,
    "start_time": "2023-02-22T17:01:16.659Z"
   },
   {
    "duration": 153,
    "start_time": "2023-02-22T17:01:16.666Z"
   },
   {
    "duration": 279,
    "start_time": "2023-02-22T17:01:16.821Z"
   },
   {
    "duration": 2339,
    "start_time": "2023-02-22T17:01:17.101Z"
   },
   {
    "duration": 306,
    "start_time": "2023-02-22T17:01:19.442Z"
   },
   {
    "duration": 1537,
    "start_time": "2023-02-22T17:01:19.749Z"
   },
   {
    "duration": 38,
    "start_time": "2023-02-22T17:01:21.287Z"
   },
   {
    "duration": 159,
    "start_time": "2023-02-22T17:01:21.326Z"
   },
   {
    "duration": 1573,
    "start_time": "2023-02-23T10:24:30.383Z"
   },
   {
    "duration": 190,
    "start_time": "2023-02-23T10:24:31.959Z"
   },
   {
    "duration": 42,
    "start_time": "2023-02-23T10:24:32.150Z"
   },
   {
    "duration": 65,
    "start_time": "2023-02-23T10:24:32.193Z"
   },
   {
    "duration": 6226,
    "start_time": "2023-02-23T10:24:32.260Z"
   },
   {
    "duration": 62,
    "start_time": "2023-02-23T10:24:38.488Z"
   },
   {
    "duration": 132,
    "start_time": "2023-02-23T10:24:38.552Z"
   },
   {
    "duration": 63,
    "start_time": "2023-02-23T10:24:38.686Z"
   },
   {
    "duration": 20,
    "start_time": "2023-02-23T10:24:38.751Z"
   },
   {
    "duration": 78,
    "start_time": "2023-02-23T10:24:38.773Z"
   },
   {
    "duration": 24,
    "start_time": "2023-02-23T10:24:38.853Z"
   },
   {
    "duration": 8,
    "start_time": "2023-02-23T10:24:38.948Z"
   },
   {
    "duration": 810,
    "start_time": "2023-02-23T10:24:38.958Z"
   },
   {
    "duration": 6,
    "start_time": "2023-02-23T10:24:39.770Z"
   },
   {
    "duration": 574,
    "start_time": "2023-02-23T10:24:39.777Z"
   },
   {
    "duration": 716,
    "start_time": "2023-02-23T10:24:40.352Z"
   },
   {
    "duration": 7089,
    "start_time": "2023-02-23T10:24:41.070Z"
   },
   {
    "duration": 911,
    "start_time": "2023-02-23T10:24:48.161Z"
   },
   {
    "duration": 4180,
    "start_time": "2023-02-23T10:24:49.074Z"
   },
   {
    "duration": 28,
    "start_time": "2023-02-23T10:24:53.256Z"
   },
   {
    "duration": 583,
    "start_time": "2023-02-23T10:24:53.285Z"
   },
   {
    "duration": 778,
    "start_time": "2023-02-23T15:22:43.197Z"
   },
   {
    "duration": 339,
    "start_time": "2023-02-23T15:22:43.978Z"
   },
   {
    "duration": 43,
    "start_time": "2023-02-23T15:22:44.318Z"
   },
   {
    "duration": 14,
    "start_time": "2023-02-23T15:22:44.363Z"
   },
   {
    "duration": 1913,
    "start_time": "2023-02-23T15:22:44.379Z"
   },
   {
    "duration": 9,
    "start_time": "2023-02-23T15:22:46.294Z"
   },
   {
    "duration": 104,
    "start_time": "2023-02-23T15:22:46.305Z"
   },
   {
    "duration": 12,
    "start_time": "2023-02-23T15:22:46.411Z"
   },
   {
    "duration": 33,
    "start_time": "2023-02-23T15:22:46.425Z"
   },
   {
    "duration": 17,
    "start_time": "2023-02-23T15:22:46.461Z"
   },
   {
    "duration": 25,
    "start_time": "2023-02-23T15:22:46.480Z"
   },
   {
    "duration": 13,
    "start_time": "2023-02-23T15:22:46.507Z"
   },
   {
    "duration": 321,
    "start_time": "2023-02-23T15:22:46.522Z"
   },
   {
    "duration": 7,
    "start_time": "2023-02-23T15:22:46.845Z"
   },
   {
    "duration": 162,
    "start_time": "2023-02-23T15:22:46.854Z"
   },
   {
    "duration": 296,
    "start_time": "2023-02-23T15:22:47.018Z"
   },
   {
    "duration": 2496,
    "start_time": "2023-02-23T15:22:47.316Z"
   },
   {
    "duration": 345,
    "start_time": "2023-02-23T15:22:49.814Z"
   },
   {
    "duration": 1576,
    "start_time": "2023-02-23T15:22:50.161Z"
   },
   {
    "duration": 30,
    "start_time": "2023-02-23T15:22:51.739Z"
   },
   {
    "duration": 170,
    "start_time": "2023-02-23T15:22:51.770Z"
   },
   {
    "duration": 42,
    "start_time": "2023-02-23T15:23:52.991Z"
   },
   {
    "duration": 123,
    "start_time": "2023-02-23T15:23:58.624Z"
   },
   {
    "duration": 159,
    "start_time": "2023-02-23T15:24:28.975Z"
   },
   {
    "duration": 153,
    "start_time": "2023-02-23T15:24:45.723Z"
   },
   {
    "duration": 154,
    "start_time": "2023-02-23T15:27:18.889Z"
   },
   {
    "duration": 53,
    "start_time": "2023-02-23T15:32:09.668Z"
   },
   {
    "duration": 160,
    "start_time": "2023-02-23T15:34:55.001Z"
   },
   {
    "duration": 8,
    "start_time": "2023-02-23T15:35:09.482Z"
   },
   {
    "duration": 213,
    "start_time": "2023-02-23T15:36:19.814Z"
   },
   {
    "duration": 153,
    "start_time": "2023-02-23T15:42:09.468Z"
   },
   {
    "duration": 2356,
    "start_time": "2023-02-23T15:42:21.174Z"
   },
   {
    "duration": 2243,
    "start_time": "2023-02-23T15:42:52.521Z"
   },
   {
    "duration": 161,
    "start_time": "2023-02-23T15:43:41.237Z"
   },
   {
    "duration": 2386,
    "start_time": "2023-02-23T15:44:16.521Z"
   },
   {
    "duration": 177,
    "start_time": "2023-02-23T15:45:52.446Z"
   },
   {
    "duration": 263,
    "start_time": "2023-02-23T15:46:48.307Z"
   },
   {
    "duration": 249,
    "start_time": "2023-02-23T15:47:40.102Z"
   },
   {
    "duration": 211,
    "start_time": "2023-02-23T15:48:28.793Z"
   },
   {
    "duration": 192,
    "start_time": "2023-02-23T15:49:12.292Z"
   },
   {
    "duration": 224,
    "start_time": "2023-02-23T15:49:35.084Z"
   },
   {
    "duration": 191,
    "start_time": "2023-02-23T15:50:05.188Z"
   },
   {
    "duration": 108,
    "start_time": "2023-02-23T15:50:30.989Z"
   },
   {
    "duration": 132,
    "start_time": "2023-02-23T15:51:20.418Z"
   },
   {
    "duration": 208,
    "start_time": "2023-02-23T15:52:10.249Z"
   },
   {
    "duration": 203,
    "start_time": "2023-02-23T15:53:10.294Z"
   },
   {
    "duration": 270,
    "start_time": "2023-02-23T15:53:57.967Z"
   },
   {
    "duration": 190,
    "start_time": "2023-02-23T15:55:08.586Z"
   },
   {
    "duration": 219,
    "start_time": "2023-02-23T15:56:07.684Z"
   },
   {
    "duration": 182,
    "start_time": "2023-02-23T15:57:03.022Z"
   },
   {
    "duration": 9,
    "start_time": "2023-02-23T15:57:36.986Z"
   },
   {
    "duration": 225,
    "start_time": "2023-02-23T16:02:06.379Z"
   },
   {
    "duration": 160,
    "start_time": "2023-02-23T16:02:43.828Z"
   },
   {
    "duration": 174,
    "start_time": "2023-02-23T16:03:47.044Z"
   },
   {
    "duration": 177,
    "start_time": "2023-02-23T16:04:10.320Z"
   },
   {
    "duration": 180,
    "start_time": "2023-02-23T16:05:21.102Z"
   },
   {
    "duration": 172,
    "start_time": "2023-02-23T16:06:08.397Z"
   },
   {
    "duration": 464,
    "start_time": "2023-02-23T16:06:51.431Z"
   },
   {
    "duration": 614,
    "start_time": "2023-02-23T16:09:11.516Z"
   },
   {
    "duration": 96,
    "start_time": "2023-02-23T16:09:12.133Z"
   },
   {
    "duration": 108,
    "start_time": "2023-02-23T16:09:12.231Z"
   },
   {
    "duration": 30,
    "start_time": "2023-02-23T16:09:12.341Z"
   },
   {
    "duration": 2023,
    "start_time": "2023-02-23T16:09:12.373Z"
   },
   {
    "duration": 187,
    "start_time": "2023-02-23T16:09:14.398Z"
   },
   {
    "duration": 85,
    "start_time": "2023-02-23T16:09:14.587Z"
   },
   {
    "duration": 10,
    "start_time": "2023-02-23T16:09:14.674Z"
   },
   {
    "duration": 13,
    "start_time": "2023-02-23T16:09:14.685Z"
   },
   {
    "duration": 15,
    "start_time": "2023-02-23T16:09:14.699Z"
   },
   {
    "duration": 42,
    "start_time": "2023-02-23T16:09:14.715Z"
   },
   {
    "duration": 8,
    "start_time": "2023-02-23T16:09:14.759Z"
   },
   {
    "duration": 344,
    "start_time": "2023-02-23T16:09:14.769Z"
   },
   {
    "duration": 5,
    "start_time": "2023-02-23T16:09:15.116Z"
   },
   {
    "duration": 173,
    "start_time": "2023-02-23T16:09:15.123Z"
   },
   {
    "duration": 375,
    "start_time": "2023-02-23T16:09:15.298Z"
   },
   {
    "duration": 176,
    "start_time": "2023-02-23T16:09:15.675Z"
   },
   {
    "duration": 279,
    "start_time": "2023-02-23T16:09:15.853Z"
   },
   {
    "duration": 237,
    "start_time": "2023-02-23T16:09:16.133Z"
   },
   {
    "duration": 301,
    "start_time": "2023-02-23T16:09:16.372Z"
   },
   {
    "duration": 191,
    "start_time": "2023-02-23T16:09:16.674Z"
   },
   {
    "duration": 225,
    "start_time": "2023-02-23T16:09:16.868Z"
   },
   {
    "duration": 215,
    "start_time": "2023-02-23T16:09:17.096Z"
   },
   {
    "duration": 156,
    "start_time": "2023-02-23T16:09:17.312Z"
   },
   {
    "duration": 224,
    "start_time": "2023-02-23T16:09:17.469Z"
   },
   {
    "duration": 229,
    "start_time": "2023-02-23T16:09:17.695Z"
   },
   {
    "duration": 235,
    "start_time": "2023-02-23T16:09:17.926Z"
   },
   {
    "duration": 301,
    "start_time": "2023-02-23T16:09:18.164Z"
   },
   {
    "duration": 210,
    "start_time": "2023-02-23T16:09:18.466Z"
   },
   {
    "duration": 206,
    "start_time": "2023-02-23T16:09:18.677Z"
   },
   {
    "duration": 350,
    "start_time": "2023-02-23T16:09:18.884Z"
   },
   {
    "duration": 1631,
    "start_time": "2023-02-23T16:09:19.236Z"
   },
   {
    "duration": 344,
    "start_time": "2023-02-23T16:09:20.869Z"
   },
   {
    "duration": 178,
    "start_time": "2023-02-23T16:09:21.214Z"
   }
  ],
  "kernelspec": {
   "display_name": "Python 3 (ipykernel)",
   "language": "python",
   "name": "python3"
  },
  "language_info": {
   "codemirror_mode": {
    "name": "ipython",
    "version": 3
   },
   "file_extension": ".py",
   "mimetype": "text/x-python",
   "name": "python",
   "nbconvert_exporter": "python",
   "pygments_lexer": "ipython3",
   "version": "3.9.13"
  },
  "toc": {
   "base_numbering": 1,
   "nav_menu": {},
   "number_sections": true,
   "sideBar": true,
   "skip_h1_title": true,
   "title_cell": "Table of Contents",
   "title_sidebar": "Contents",
   "toc_cell": false,
   "toc_position": {},
   "toc_section_display": true,
   "toc_window_display": false
  }
 },
 "nbformat": 4,
 "nbformat_minor": 2
}
